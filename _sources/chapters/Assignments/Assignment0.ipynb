{
 "cells": [
  {
   "cell_type": "markdown",
   "metadata": {
    "colab_type": "text",
    "id": "WI820A_Bp_NH"
   },
   "source": [
    "# Assigment 0\n",
    "\n",
    "Instructions: This problem set should be done individually\n",
    "\n",
    "Answer each question in the designated space below"
   ]
  },
  {
   "cell_type": "markdown",
   "metadata": {
    "colab_type": "text",
    "id": "wVAN3J3Vp_NJ"
   },
   "source": [
    "# Write your name and simon email\n",
    "\n",
    "Please write names below\n",
    "\n",
    "* [Name 1]:\n",
    "* [email]:\n",
    "\n",
    "\n",
    "NOTE: \n",
    "\n",
    "1. You can edit this cell by double clicking in it and hitting `Ctrl`+`enter` for it to render\n",
    "\n",
    "2. This is Mardown cell, where we type text. For more info on how to do formating on mardown please see here https://ingeh.medium.com/markdown-for-jupyter-notebooks-cheatsheet-386c05aeebed, but you don't need to\n",
    "\n"
   ]
  },
  {
   "cell_type": "markdown",
   "metadata": {},
   "source": [
    "# Part A : Discussion Board\n",
    "\n",
    "1. go in 'Welcome page' in the course blackboard page and look for 'Enroll in Discussion Board'. \n",
    "\n",
    "   Use your simon email (it must be your simon email) to register \n",
    "\n",
    "   (If you do not have a simon email please email me at alan.moreira@simon.rochester.edu) \n",
    "\n",
    "2. Upload you headshot (closeup picture of your face) to your profile in the discussion board\n",
    "\n",
    "    you can do that by clicking on the top right, then settings, the click in the '+' signal nest to your name\n",
    "\n",
    "3. Answer to my \"Personal introduction\" post in the discussion board (search for personal introduction in the discussion board )\n",
    "\n",
    "    https://edstem.org/us/courses/30665/discussion/1976838\n",
    "    \n",
    "4. Do \"the Economist on Python\" assignment https://edstem.org/us/courses/30665/discussion/1972434 \n"
   ]
  },
  {
   "cell_type": "code",
   "execution_count": null,
   "metadata": {},
   "outputs": [],
   "source": []
  },
  {
   "cell_type": "markdown",
   "metadata": {
    "colab_type": "raw",
    "id": "_RtaugDyp_NK"
   },
   "source": [
    "\n",
    "\n",
    "# Part B\n",
    "\n",
    "\n",
    "**Exercise 1: Variables**\n",
    "\n",
    "Assume you deposit 2000 at a bank at the beginning of 2019. The annual return is 5% from 2019 to 2024. How much is your 2000 worth at the end of 2024？ \n",
    "\n",
    "Assign values to the variables a, b and c by subsituting `__` by the appropriate values in this example. You have to look at the expression in the coding cell under \"4.Expression\" to know what is appopriate\n",
    "\n",
    "Tip: `**` is the exponentiation operation `3**2=9` "
   ]
  },
  {
   "cell_type": "code",
   "execution_count": null,
   "metadata": {
    "colab": {},
    "colab_type": "code",
    "id": "xKRHbcDZp_NM"
   },
   "outputs": [],
   "source": [
    "# this a coding cell, you run the code by hitting shift+enter or pressing the \"play buttom\" \n",
    "#on the top\n",
    "\n",
    "#Try running the code before doign anything to see what a coding error look like\n",
    "a=__\n",
    "b=__\n",
    "c=__\n"
   ]
  },
  {
   "cell_type": "markdown",
   "metadata": {},
   "source": [
    "**Exercise 2: Expressions**\n",
    "\n",
    "Once you assigned the values to a, b, and c run the cell below to get the value of your networth"
   ]
  },
  {
   "cell_type": "code",
   "execution_count": null,
   "metadata": {},
   "outputs": [],
   "source": [
    "a*(1+b)**c"
   ]
  },
  {
   "cell_type": "markdown",
   "metadata": {
    "colab_type": "raw",
    "id": "0OuMNEcZp_NT"
   },
   "source": [
    "**Exercise 3: Understanding sequencing**\n",
    "\n",
    "Your first two pieces of code run succefuly (I very much hope!) . You first created three variables and you then use these variables to compute an expression which returned the value of your wealth in 2024. (yay!). \n",
    "\n",
    "Now in the cell below I want you to change the variable that represents the annual bank return from 5% to 10%"
   ]
  },
  {
   "cell_type": "code",
   "execution_count": null,
   "metadata": {
    "colab": {},
    "colab_type": "code",
    "id": "hitWybhXp_NU"
   },
   "outputs": [],
   "source": [
    "# Write down your code below\n",
    "\n"
   ]
  },
  {
   "cell_type": "markdown",
   "metadata": {},
   "source": [
    "Now that you have done that, go back to the code cell in expressions, the one that says `a*(1+b)**c` and recompile it by hitting shift-enter.\n",
    "\n",
    "What did you find? write this number in the cell below"
   ]
  },
  {
   "cell_type": "code",
   "execution_count": null,
   "metadata": {},
   "outputs": [],
   "source": []
  },
  {
   "cell_type": "markdown",
   "metadata": {},
   "source": [
    "1. Now run the coding cell under variables and the coding cell under expressions again.\n",
    "\n",
    "2. What you should have just experienced is a very important feature of how Jupyter Notebooks work\n",
    "\n",
    "3. The order of the coding cells in the notebook are IRRELEVANT for coding pourposes!\n",
    "\n",
    "**What matters is the sequence that they were called. When you change the interest rate in the cell above this variable assignment substitute the earlier assignment, so when you run the expression cell again it used the most recent variable assignment.**\n",
    "\n",
    "* One way to understand what is going on is to look at the little numbers in between the squares in the left of each coding cell.They tell us the sequence that each was called.\n",
    "\n",
    "* This way you know the order things were called.\n"
   ]
  },
  {
   "cell_type": "markdown",
   "metadata": {
    "tags": []
   },
   "source": [
    "**Exercise 4: One important allert about the little numbers**\n",
    "\n",
    "\n",
    "Go back to the coding cell under \"3.Variable\" and change the interest to 1000%.\n",
    "\n",
    "Don't run the cell. What did you notice about the number in the squares? Explain in the cell below how this can be a source of confusion. \n",
    "\n",
    "**Exercise 5: Creating a cell**\n",
    "\n",
    "Which cell below?\n",
    "\n",
    "-> to answer the question above you need to create a markdown cell (since your answer will be text)\n",
    "\n",
    "there two way you can do this\n",
    "\n",
    "1. On the top of the notebook, click on the plus signal while this cell is selected, this will create a cell below. This cell will be by default a coding cell. Now to trasnform in a Markdown cell (to write text), while having the new cell selected click on the top buttom that says \"code\" and select \"Markdown\". There!\n",
    "\n",
    "2. In colab you see that you can that you can directly choose which cell to add  (it says \"+Code\" or \"+Text\"). In Colab you can also simply hover above/below the cell to see the same buttoms. Press the above to add to a cell above, or presse the buttons below ( what we want!) to add the cell below\n",
    "   * If the cursor is activated you can hit `esc`  to get out of the cell. You can also just hitting `Shift`+`enter` or simply clickling on the white area on the left of the cell"
   ]
  },
  {
   "cell_type": "markdown",
   "metadata": {},
   "source": [
    "**Exercise 6: Compouding returns**\n",
    "\n",
    "Say you have 100 dollar and you invest in a stock that earned 15% in the first year and -14% in the second year.\n",
    "\n",
    "Modify the code below so that it gives the correct answer to this question"
   ]
  },
  {
   "cell_type": "code",
   "execution_count": 3,
   "metadata": {},
   "outputs": [
    {
     "data": {
      "text/plain": [
       "100.01"
      ]
     },
     "execution_count": 3,
     "metadata": {},
     "output_type": "execute_result"
    }
   ],
   "source": [
    "r1=0.15\n",
    "r2=-0.14\n",
    "100*1+r1*1+r2"
   ]
  },
  {
   "cell_type": "markdown",
   "metadata": {},
   "source": [
    "**Exercise 7: Deleting a cell**\n",
    "\n",
    "Now that you did all and have all your cell properly compiled you should save by clickling on the save buttom and then import it to the class blackboard website in the Assigments tab on the left.\n",
    "\n",
    "But before you do this, there is one more thing to do! Do you see this cell below? IT is ugly and we don't want it there. Lets delete it!\n",
    "\n",
    "Again two ways of doing it\n",
    "\n",
    "1. Select it and click on scissors buttom at the top of the notebook ( in jupyter) or the trach can in the top right of the cell\n",
    "2. short-cut: in jupyter click `d` twice while having the cell selected buy not active. in colab click 'Ctrl+M'+ d"
   ]
  },
  {
   "cell_type": "code",
   "execution_count": null,
   "metadata": {},
   "outputs": [],
   "source": [
    "# delete me"
   ]
  },
  {
   "cell_type": "markdown",
   "metadata": {},
   "source": [
    "# Part c"
   ]
  },
  {
   "cell_type": "markdown",
   "metadata": {},
   "source": [
    "\n",
    "\n",
    "\n",
    "**Exercise 1**\n",
    "\n",
    "What do you think the value of `z` is after running the code below?"
   ]
  },
  {
   "cell_type": "markdown",
   "metadata": {
    "hide-output": false
   },
   "source": [
    "```python\n",
    "z = 3\n",
    "z = z + 4\n",
    "print(\"z is\", z)\n",
    "```\n"
   ]
  },
  {
   "cell_type": "markdown",
   "metadata": {},
   "source": [
    "Answer here: "
   ]
  },
  {
   "cell_type": "markdown",
   "metadata": {},
   "source": [
    "**Exercise 2**\n",
    "\n",
    "Read about what the `len` function does (by running `len?`).\n",
    "\n",
    "What will it produce if we give it the variable `x`?"
   ]
  },
  {
   "cell_type": "markdown",
   "metadata": {},
   "source": [
    "Answer here:"
   ]
  },
  {
   "cell_type": "markdown",
   "metadata": {},
   "source": [
    "Check whether you were right by running the code `len(x)`."
   ]
  },
  {
   "cell_type": "code",
   "execution_count": null,
   "metadata": {},
   "outputs": [],
   "source": [
    "x = \"something else\"\n",
    "# your code here -- notice the comment!"
   ]
  },
  {
   "cell_type": "markdown",
   "metadata": {},
   "source": [
    "**Exercise 3**\n",
    "\n",
    "We can use our introspection skills to investigate a package's contents.\n",
    "\n",
    "In the cell below, use tab completion to find a function from the `time`\n",
    "module that will display the **local** time.\n",
    "\n",
    "Use `time.FUNC_NAME?` (where `FUNC_NAME` is replaced with the\n",
    "function you found) to see information about that function and\n",
    "then call the function. (Hint: look for something to do with the word\n",
    "`local`)."
   ]
  },
  {
   "cell_type": "code",
   "execution_count": null,
   "metadata": {
    "hide-output": false
   },
   "outputs": [],
   "source": [
    "import time\n",
    "# your code here -- notice the comment!"
   ]
  },
  {
   "cell_type": "markdown",
   "metadata": {},
   "source": [
    "**Exercise 4**\n",
    "\n",
    "Try running `import time as t` in the cell below, then \n",
    "call the function you identified above and see if it returns the local time\n",
    "\n",
    "Does it work?\n"
   ]
  },
  {
   "cell_type": "code",
   "execution_count": null,
   "metadata": {},
   "outputs": [],
   "source": [
    "# your code here!"
   ]
  },
  {
   "cell_type": "markdown",
   "metadata": {},
   "source": [
    "\n",
    "**Exercise 5**\n",
    "\n",
    "Create the following variables:\n",
    "\n",
    "- `D`: A floating point number with the value 10,000  \n",
    "- `r`: A floating point number with value 0.025  \n",
    "- `T`: An integer with value 30  \n",
    "\n",
    "\n",
    "We will use them in a later exercise.\n",
    "\n",
    "Use `type` function on each variable together with print to show the type of each variable"
   ]
  },
  {
   "cell_type": "code",
   "execution_count": null,
   "metadata": {
    "hide-output": false
   },
   "outputs": [],
   "source": [
    "# your code here!"
   ]
  },
  {
   "cell_type": "markdown",
   "metadata": {},
   "source": [
    "\n",
    "**Exercise 6**\n",
    "\n",
    "Remember the variables we created earlier?\n",
    "\n",
    "Let's compute the present discounted value of a payment ($ D $) made\n",
    "in $ T $ years assuming an interest rate of 2.5%. Save this value to\n",
    "a new variable called `PDV` and print your output.\n",
    "\n",
    "Hint: The formula is\n",
    "\n",
    "$$\n",
    "\\text{PDV} = \\frac{D}{(1 + r)^T}\n",
    "$$"
   ]
  },
  {
   "cell_type": "code",
   "execution_count": null,
   "metadata": {
    "hide-output": false
   },
   "outputs": [],
   "source": [
    "# your code here"
   ]
  },
  {
   "cell_type": "markdown",
   "metadata": {},
   "source": [
    "\n",
    "**Exercise 7**\n",
    "\n",
    "Verify the \"trick\" where the percent difference ($ \\frac{x - y}{y} $)\n",
    "between two numbers close to 1 can be well approximated by the difference\n",
    "between the log of the two numbers ($ \\log(x) - \\log(y) $).\n",
    "\n",
    "Use the numbers `x` and `y` below. (Hint: you will want to use the\n",
    "`math.log` function)\n",
    "\n",
    "Use print so both results are displayed"
   ]
  },
  {
   "cell_type": "code",
   "execution_count": null,
   "metadata": {
    "hide-output": false
   },
   "outputs": [],
   "source": [
    "x = 1.05\n",
    "y = 1.02\n",
    "# your code here!"
   ]
  },
  {
   "cell_type": "markdown",
   "metadata": {},
   "source": [
    "**Exercise 8**\n",
    "\n",
    "The code below is invalid Python code"
   ]
  },
  {
   "cell_type": "markdown",
   "metadata": {
    "hide-output": false
   },
   "source": [
    "```markdown\n",
    "x = 'What's wrong with this string'\n",
    "```\n"
   ]
  },
  {
   "cell_type": "markdown",
   "metadata": {},
   "source": [
    "Can you fix it?\n",
    "\n",
    "*Hint*: Try creating a code cell below and testing things out until you\n",
    "find a solution.\n"
   ]
  },
  {
   "cell_type": "code",
   "execution_count": null,
   "metadata": {},
   "outputs": [],
   "source": [
    "# your code here!"
   ]
  },
  {
   "cell_type": "markdown",
   "metadata": {},
   "source": [
    "**Exercise 9**\n",
    "\n",
    "Using the variables `x` and `y`, how could you create the sentence\n",
    "`Hello World`?\n",
    "\n",
    "Hint: Think about how to represent a space as a string."
   ]
  },
  {
   "cell_type": "code",
   "execution_count": null,
   "metadata": {},
   "outputs": [],
   "source": [
    "x = \"Hello\"\n",
    "y = \"World\"\n",
    "# your code here!"
   ]
  },
  {
   "cell_type": "markdown",
   "metadata": {},
   "source": [
    "\n",
    "**Exercise 10**\n",
    "\n",
    "One of our favorite (and most frequently used) string methods is\n",
    "`replace`.\n",
    "\n",
    "It substitutes all occurrences of a particular pattern with a different pattern.\n",
    "\n",
    "For the variable `test` below, use the `replace` method to change the\n",
    "`c` to a `d`.\n",
    "\n",
    "Hint: Type `test.replace?` to get some help for how to use the method\n",
    "replace."
   ]
  },
  {
   "cell_type": "code",
   "execution_count": null,
   "metadata": {
    "hide-output": false
   },
   "outputs": [],
   "source": [
    "test = \"abc\"\n",
    "# your code here!"
   ]
  },
  {
   "cell_type": "markdown",
   "metadata": {},
   "source": [
    "**Exercise 11**\n",
    "\n",
    "Suppose you are working with price data and encounter the value\n",
    "`\"$6.50\"`.\n",
    "\n",
    "We recognize this as being a number representing the quantity \"six dollars and fifty cents.\"\n",
    "\n",
    "However, Python interprets the value as the string\n",
    "`\"$6.50\"`. (Quiz: why is this a problem? Think about the examples above.)\n",
    "\n",
    "In this exercise, your task is to convert the variable `price` below\n",
    "into a number.\n",
    "\n",
    "*Hint*: Once the string is in a suitable format, you can call write\n",
    "`float(clean_price)` to make it a number."
   ]
  },
  {
   "cell_type": "code",
   "execution_count": null,
   "metadata": {
    "hide-output": false
   },
   "outputs": [],
   "source": [
    "price = \"$6.50\"\n",
    "# your code here"
   ]
  },
  {
   "cell_type": "markdown",
   "metadata": {},
   "source": [
    "\n",
    "\n",
    "**Exercise 12**\n",
    "\n",
    "Without typing the commands, determine whether the following statements are\n",
    "true or false.In particular write a list of 6 items of the type `[True,False,...]` with the results you beleive are correct"
   ]
  },
  {
   "cell_type": "markdown",
   "metadata": {},
   "source": [
    "Your answer: "
   ]
  },
  {
   "cell_type": "markdown",
   "metadata": {
    "hide-output": false
   },
   "source": [
    "```python\n",
    "x = 2\n",
    "y = 2\n",
    "z = 4\n",
    "\n",
    "# Statement 1\n",
    "x > z\n",
    "\n",
    "# Statement 1\n",
    "x == y\n",
    "\n",
    "# Statement 3\n",
    "(x < y) and (x > y)\n",
    "\n",
    "# Statement 4\n",
    "(x < y) or (x > y)\n",
    "\n",
    "# Statement 5\n",
    "(x <= y) and (x >= y)\n",
    "\n",
    "# Statement 6\n",
    "True and ((x < z) or (x < y))\n",
    "```\n"
   ]
  },
  {
   "cell_type": "markdown",
   "metadata": {},
   "source": [
    "Once you have evaluated whether the command is `True` or `False`, run the\n",
    "code in Python."
   ]
  },
  {
   "cell_type": "code",
   "execution_count": null,
   "metadata": {
    "hide-output": false
   },
   "outputs": [],
   "source": [
    "# your code here!"
   ]
  },
  {
   "cell_type": "markdown",
   "metadata": {},
   "source": [
    "\n",
    "**Exercise 13**\n",
    "\n",
    "For each of the code cells below, think carefully about what you expect to\n",
    "be returned *before* evaluating the cell.\n",
    "\n",
    "Then evaluate the cell to check your intuitions.\n",
    "\n",
    "NOTE: For now, do not worry about what the `[` and `]` mean -- they\n",
    "allow us to create lists which we will learn about in an upcoming lecture."
   ]
  },
  {
   "cell_type": "code",
   "execution_count": null,
   "metadata": {
    "hide-output": false
   },
   "outputs": [],
   "source": [
    "all([True, True, True])"
   ]
  },
  {
   "cell_type": "code",
   "execution_count": null,
   "metadata": {
    "hide-output": false
   },
   "outputs": [],
   "source": [
    "all([False, True, False])"
   ]
  },
  {
   "cell_type": "code",
   "execution_count": null,
   "metadata": {
    "hide-output": false
   },
   "outputs": [],
   "source": [
    "all([False, False, False])"
   ]
  },
  {
   "cell_type": "code",
   "execution_count": null,
   "metadata": {
    "hide-output": false
   },
   "outputs": [],
   "source": [
    "any([True, True, True])"
   ]
  },
  {
   "cell_type": "code",
   "execution_count": null,
   "metadata": {
    "hide-output": false
   },
   "outputs": [],
   "source": [
    "any([False, True, False])"
   ]
  },
  {
   "cell_type": "code",
   "execution_count": null,
   "metadata": {
    "hide-output": false
   },
   "outputs": [],
   "source": [
    "any([False, False, False])"
   ]
  },
  {
   "cell_type": "markdown",
   "metadata": {},
   "source": [
    "# Submission\n",
    "\n",
    "Go to file and download the notebook to your machine in a designated class folder , then  go to blackboard under assigment 0 and upload this file.\n",
    "\n"
   ]
  }
 ],
 "metadata": {
  "colab": {
   "collapsed_sections": [],
   "name": "Homework_2019_1.ipynb",
   "provenance": []
  },
  "kernelspec": {
   "display_name": "Python 3 (ipykernel)",
   "language": "python",
   "name": "python3"
  },
  "language_info": {
   "codemirror_mode": {
    "name": "ipython",
    "version": 3
   },
   "file_extension": ".py",
   "mimetype": "text/x-python",
   "name": "python",
   "nbconvert_exporter": "python",
   "pygments_lexer": "ipython3",
   "version": "3.9.12"
  },
  "toc-autonumbering": true
 },
 "nbformat": 4,
 "nbformat_minor": 4
}
