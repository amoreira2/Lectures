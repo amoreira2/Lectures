{
 "cells": [
  {
   "cell_type": "markdown",
   "metadata": {
    "colab_type": "text",
    "id": "WI820A_Bp_NH"
   },
   "source": [
    "# Assigment 2\n",
    "\n",
    "\n",
    "Instructions: This problem set should be done individually.\n",
    "\n",
    "Answer each question in the designated space below.\n",
    "\n",
    "After you are done, save and upload in blackboard.\n",
    "\n",
    "Please check that you are submitting the correct file. One way to avoid mistakes is to save it with a different name."
   ]
  },
  {
   "cell_type": "markdown",
   "metadata": {
    "colab_type": "text",
    "id": "wVAN3J3Vp_NJ"
   },
   "source": [
    "# Write your name and simon email\n",
    "\n",
    "Please write names below\n",
    "\n",
    "* [Name]:\n",
    "* [email]:\n",
    "\n",
    "\n"
   ]
  },
  {
   "cell_type": "markdown",
   "metadata": {},
   "source": [
    "# Discussion Forum Assignment\n",
    "\n",
    "Do the \"New Facts\"  assigment: https://edstem.org/us/courses/30665/discussion/1972562. \n"
   ]
  },
  {
   "cell_type": "markdown",
   "metadata": {},
   "source": [
    "# Exercises "
   ]
  },
  {
   "cell_type": "markdown",
   "metadata": {},
   "source": [
    "## Function and Numpy"
   ]
  },
  {
   "cell_type": "markdown",
   "metadata": {},
   "source": [
    "\n",
    "**Exercise 1**\n",
    "\n",
    "Define a function named `var` that takes a list (call it `x`) and\n",
    "computes the variance. This function should use the mean function that we\n",
    "defined in chapter 4.4.\n",
    "\n",
    "Hint: $ \\text{variance} = \\sum_i^I (x_i - \\text{mean}(x))^2/I $.\n",
    "\n",
    "Then show that this works with this list `x = np.random.rand(10000)`."
   ]
  },
  {
   "cell_type": "code",
   "execution_count": null,
   "metadata": {
    "hide-output": false
   },
   "outputs": [],
   "source": [
    "# Your code here."
   ]
  },
  {
   "cell_type": "markdown",
   "metadata": {},
   "source": [
    "\n",
    "**Exercise 2**\n",
    "\n",
    "Import the numpy package under the name `np`, then create a 3d numpy array using the following list. Label this array x_3d.\n",
    "\n",
    "`templist=[[[1, 2, 3], [4, 5, 6]], [[10, 20, 30], [40, 50, 60]]]`"
   ]
  },
  {
   "cell_type": "code",
   "execution_count": null,
   "metadata": {},
   "outputs": [],
   "source": [
    "# your code here\n",
    "\n",
    "\n",
    "print(x_3d)\n",
    "type(x_3d)"
   ]
  },
  {
   "cell_type": "markdown",
   "metadata": {},
   "source": [
    "**Exercise 3**\n",
    "\n",
    "Extract (1) the number 5, (2) the array `[[5, 6], [50, 60]]` from `x_3d`"
   ]
  },
  {
   "cell_type": "code",
   "execution_count": 3,
   "metadata": {},
   "outputs": [],
   "source": [
    "# select 5 and print\n",
    "\n",
    "# select [[5,6], [50,60]] and print\n"
   ]
  },
  {
   "cell_type": "markdown",
   "metadata": {},
   "source": [
    "\n",
    "**Exercise 4**\n",
    "\n",
    "Create a zero vector of size 10, then replace the fifth value with 1."
   ]
  },
  {
   "cell_type": "code",
   "execution_count": null,
   "metadata": {},
   "outputs": [],
   "source": []
  },
  {
   "cell_type": "markdown",
   "metadata": {},
   "source": [
    "\n",
    "**Exercise 5**\n",
    "\n",
    "Do you recall what multiplication by an integer did for lists? How does mulitplying an array is different?\n",
    "\n",
    "(1) create a list of `[1,2,3]`\n",
    "\n",
    "(2) multiply the list by 2 and print\n",
    "\n",
    "(3) create an array using the list of `[1,2,3]`\n",
    "\n",
    "(4) multiply the array by 2 and print\n",
    "\n",
    "Explain the difference"
   ]
  },
  {
   "cell_type": "code",
   "execution_count": 1,
   "metadata": {},
   "outputs": [],
   "source": [
    "#code here"
   ]
  },
  {
   "cell_type": "code",
   "execution_count": null,
   "metadata": {},
   "outputs": [],
   "source": [
    "#explain here"
   ]
  },
  {
   "cell_type": "markdown",
   "metadata": {},
   "source": [
    "\n",
    "**Exercise 6**\n",
    "\n",
    "Consider the polynomial expression\n",
    "\n",
    "$$\n",
    "p(x,a) = a_0 + a_1 x + a_2 x^2 + \\cdots a_N x^N = \\sum_{n=0}^N a_n x^n \\tag{1}\n",
    "$$\n",
    "\n",
    "\n",
    "Write a function that does the same job\n",
    "\n",
    "(1) function input: a, x\n",
    "\n",
    "(2) function output: p\n",
    "\n",
    "(3) uses NumPy arrays and array operations for its computations, rather than any form of Python loop.\n",
    "\n",
    "(4) do not use pre-defined function `np.poly1d`\n",
    "\n",
    "(5) demonstrate it works using a vector of `a=[0.2,0.3,0.1,0.5,0.7]` and `x=0.3`.\n",
    "\n"
   ]
  },
  {
   "cell_type": "code",
   "execution_count": 27,
   "metadata": {},
   "outputs": [],
   "source": [
    "def poly(a, x):\n",
    "    # your code here\n",
    "    \n",
    "    return p"
   ]
  },
  {
   "cell_type": "code",
   "execution_count": 6,
   "metadata": {},
   "outputs": [],
   "source": [
    "# test your function here\n"
   ]
  },
  {
   "cell_type": "markdown",
   "metadata": {},
   "source": [
    "\n",
    "**Exercise 7**\n",
    "\n",
    "Reverse a vector (first element becomes last)."
   ]
  },
  {
   "cell_type": "code",
   "execution_count": 17,
   "metadata": {},
   "outputs": [],
   "source": [
    "a=np.array([0.2,0.3,0.1,0.5,0.7])\n",
    "# your code here\n"
   ]
  },
  {
   "cell_type": "markdown",
   "metadata": {},
   "source": [
    "\n",
    "**Exercise 8**\n",
    "\n",
    "Create a 3x3 matrix with values ranging from 0 to 8."
   ]
  },
  {
   "cell_type": "code",
   "execution_count": null,
   "metadata": {},
   "outputs": [],
   "source": []
  },
  {
   "cell_type": "markdown",
   "metadata": {},
   "source": [
    "\n",
    "**Exercise 9**\n",
    "\n",
    "Create a 3x3 identity matrix."
   ]
  },
  {
   "cell_type": "code",
   "execution_count": null,
   "metadata": {},
   "outputs": [],
   "source": []
  },
  {
   "cell_type": "markdown",
   "metadata": {},
   "source": [
    "\n",
    "**Exercise 10**\n",
    "\n",
    "Create a 10x10 array with random values and find the minimum and maximum values."
   ]
  },
  {
   "cell_type": "code",
   "execution_count": null,
   "metadata": {},
   "outputs": [],
   "source": []
  },
  {
   "cell_type": "markdown",
   "metadata": {},
   "source": [
    "\n",
    "**Exercise 11**\n",
    "\n",
    "Create and normalize a 5x5 random matrix so that all its entries add up to 1."
   ]
  },
  {
   "cell_type": "code",
   "execution_count": null,
   "metadata": {},
   "outputs": [],
   "source": []
  },
  {
   "cell_type": "markdown",
   "metadata": {},
   "source": [
    "\n",
    "**Exercise 12**\n",
    "\n",
    "Create a vector of size 10 with values ranging from 0 to 1, both exclusive (exclude 0 and 1)."
   ]
  },
  {
   "cell_type": "code",
   "execution_count": null,
   "metadata": {},
   "outputs": [],
   "source": []
  },
  {
   "cell_type": "markdown",
   "metadata": {},
   "source": [
    "\n",
    "**Exercise 13**\n",
    "\n",
    "Find the closest value (to a given scalar $a$) in a vector $x$"
   ]
  },
  {
   "cell_type": "code",
   "execution_count": 21,
   "metadata": {},
   "outputs": [],
   "source": [
    "a=0.5\n",
    "x=np.array([0.18178469, 0.00253498, 0.82598284, 0.56536106, 0.34953837, 0.04747678,\n",
    " 0.46308758, 0.37809284, 0.95064092, 0.51180091])\n",
    "# your code here\n"
   ]
  },
  {
   "cell_type": "markdown",
   "metadata": {},
   "source": [
    "\n",
    "**Exercise 14**\n",
    "\n",
    "Build a 4 by 4 matrix with any numbers of your choosing, then subtract the mean of each row of a matrix."
   ]
  },
  {
   "cell_type": "code",
   "execution_count": null,
   "metadata": {},
   "outputs": [],
   "source": []
  },
  {
   "cell_type": "markdown",
   "metadata": {},
   "source": [
    "\n",
    "**Exercise 15**\n",
    "\n",
    "Sort the matrix you build above according to column 3."
   ]
  },
  {
   "cell_type": "code",
   "execution_count": null,
   "metadata": {},
   "outputs": [],
   "source": []
  },
  {
   "cell_type": "markdown",
   "metadata": {},
   "source": [
    "\n",
    "**Exercise 16**\n",
    "\n",
    "Plot the function\n",
    "\n",
    "$$\n",
    "f(x) = \\theta x^2\n",
    "$$\n",
    "\n",
    "over the interval $ [0, 5] $ for each $ \\theta $ in `np.linspace(0, 2, 10)`.\n",
    "\n",
    "Place all the curves in the same figure.\n",
    "\n",
    "The output should look like this ![../../images/plot_assignment2.png](../../images/plot_assignment2.png)\n"
   ]
  },
  {
   "cell_type": "code",
   "execution_count": null,
   "metadata": {},
   "outputs": [],
   "source": [
    "%matplotlib inline\n",
    "import numpy as np\n",
    "import matplotlib.pyplot as plt\n",
    "plt.rcParams[\"figure.figsize\"] = (10, 6) #set default figure size\n",
    "\n",
    "fig, ax = plt.subplots()\n",
    "\n",
    "# TODO: define an array of theta below using np.linspace(0, 2, 10)\n",
    "\n",
    "# TODO: define an array of x below using np.linspace(-5, 5, 200)\n",
    "\n",
    "for i in theta:\n",
    "    # TODO: define y=f(x) below\n",
    "    \n",
    "    ax.plot(x, y)\n",
    "plt.show()"
   ]
  },
  {
   "cell_type": "markdown",
   "metadata": {},
   "source": [
    "## Applications"
   ]
  },
  {
   "cell_type": "markdown",
   "metadata": {},
   "source": [
    "\n",
    "**Exercise 17**\n",
    "\n",
    "Let's revisit a bond pricing example we saw in Control flow.\n",
    "\n",
    "Recall that the equation for pricing a bond with coupon payment $ C $,\n",
    "face value $ M $, yield to maturity $ i $, and periods to maturity\n",
    "is $ N $.\n",
    "\n",
    "$$\n",
    "\\begin{align*}\n",
    "    P &= \\left(\\sum_{n=1}^N \\frac{C}{(i+1)^n}\\right) + \\frac{M}{(1+i)^N}\n",
    "\\end{align*}\n",
    "$$\n",
    "\n",
    "In the code cell below, we have defined variables for `i`, `M` and `C`.\n",
    "\n",
    "Do the followings:\n",
    "\n",
    "1. Define a numpy array `N` that contains 10 periods to maturities from 1 to 10 (*hint* look at the `np.arange` function).\n",
    "\n",
    "$$N=[1, 2, ... , 10]$$\n",
    "\n",
    "2. Define a numpy array `CF` that contains the cash flow from year 1 to year 10.\n",
    "\n",
    "$$CF=[C, C,...,C+M]$$\n",
    "\n",
    "3. Use `N` and `CF` that you just defined, define a numpy array `dCF` that contains the discounted cash flow from year 1 to year 10.\n",
    "\n",
    "$$dCF=[\\frac{C}{(i+1)}, \\frac{C}{(i+1)^2},...,\\frac{C+M}{(i+1)^{10}}]$$\n",
    "\n",
    "4. Comupte the bond price by summing over `dCF`\n",
    "\n",
    "$$P=\\frac{C}{(i+1)}+ \\frac{C}{(i+1)^2}+...+\\frac{C+M}{(i+1)^{10}}$$"
   ]
  },
  {
   "cell_type": "code",
   "execution_count": 25,
   "metadata": {
    "hide-output": false
   },
   "outputs": [],
   "source": [
    "i = 0.03\n",
    "M = 100\n",
    "C = 5\n",
    "\n",
    "# Define N array below\n",
    "\n",
    "# Define CF array below\n",
    "\n",
    "# Define dCF array below\n",
    "\n",
    "# calculate price bonds below\n"
   ]
  },
  {
   "cell_type": "markdown",
   "metadata": {},
   "source": [
    "\n",
    "**Exercise 18**\n",
    "\n",
    "Alice is a stock broker who owns two types of assets: A and B. She owns 100 units of asset A and 50 units of asset B. \n",
    "\n",
    "The current interest rate is 5%.\n",
    "\n",
    "Each of the A assets has a remaining maturity of 6 years and pays\n",
    "1500 each year, while each of the B assets has a remaining maturity\n",
    "of 4 years and pays 500 each year. \n",
    "\n",
    "Alice would like to retire if she\n",
    "can sell her assets for more than \\\\$500,000. Use vector addition, scalar\n",
    "multiplication, and dot products to determine whether she can retire.\n",
    "\n",
    "Hint: Use the interest rate to compute the value of each asset, then compute the overall value of Alice portfolio. Following the similar steps in the previous question for asset A and B, respectively."
   ]
  },
  {
   "cell_type": "code",
   "execution_count": 26,
   "metadata": {},
   "outputs": [],
   "source": [
    "r=0.05\n",
    "# your code below\n"
   ]
  }
 ],
 "metadata": {
  "colab": {
   "collapsed_sections": [],
   "name": "Homework_2019_1.ipynb",
   "provenance": []
  },
  "kernelspec": {
   "display_name": "Python 3 (ipykernel)",
   "language": "python",
   "name": "python3"
  },
  "language_info": {
   "codemirror_mode": {
    "name": "ipython",
    "version": 3
   },
   "file_extension": ".py",
   "mimetype": "text/x-python",
   "name": "python",
   "nbconvert_exporter": "python",
   "pygments_lexer": "ipython3",
   "version": "3.9.12"
  },
  "toc": {
   "base_numbering": 1,
   "nav_menu": {},
   "number_sections": true,
   "sideBar": true,
   "skip_h1_title": false,
   "title_cell": "Table of Contents",
   "title_sidebar": "Contents",
   "toc_cell": false,
   "toc_position": {},
   "toc_section_display": true,
   "toc_window_display": false
  },
  "toc-autonumbering": true
 },
 "nbformat": 4,
 "nbformat_minor": 4
}
