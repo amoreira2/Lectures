{
  "cells": [
    {
      "cell_type": "markdown",
      "metadata": {
        "id": "WI820A_Bp_NH"
      },
      "source": [
        "# Assignment 7\n",
        "\n",
        "\n",
        "\n",
        "Instructions: This problem set should be done in a **group**.\n",
        "\n",
        "Your group was assigned at orientation and you can find it in blackbaord as well.\n",
        "\n",
        "You will use this same group to do your final project.\n",
        "\n",
        "Answer each question in the designated space below.\n",
        "\n",
        "After you are done, save and upload in blackboard.\n",
        "\n",
        "Please check that you are submitting the correct file. One way to avoid mistakes is to save it with a different name.\n",
        "\n",
        "Comments:\n",
        "\n",
        "- Make sure that everything is compiled before saving it.\n",
        "- Obviously feel free to add as many cells as needed in each section.\n",
        "- Cells should not be too large. Keep code organized and clean."
      ]
    },
    {
      "cell_type": "markdown",
      "metadata": {
        "id": "wVAN3J3Vp_NJ"
      },
      "source": [
        "## Write your names and simon emails\n",
        "\n",
        "Please write names below:\n",
        "\n",
        "* [Name,email]:\n",
        "* [Name,email]:\n",
        "* [Name,email]:\n",
        "* [Name,email]:\n",
        "* [Name,email]:\n",
        "\n",
        "\n"
      ]
    },
    {
      "cell_type": "markdown",
      "metadata": {
        "id": "RihsqPk-gNis"
      },
      "source": [
        "# Exercises\n",
        "\n",
        "\n"
      ]
    },
    {
      "cell_type": "markdown",
      "metadata": {
        "id": "dPj_4z3QgNit"
      },
      "source": [
        "**Exercise 1**\n",
        "\n",
        "In order to proceed you need the file `url=\"https://github.com/amoreira2/Lectures/blob/main/assets/data/crspm2005_2020.pkl?raw=true\"`. \n",
        "\n",
        "\n",
        "Start by importing the data, parsing the date appropriately.\n",
        "\n",
        "\n",
        "Using the momentum code we developed in chapter 13.2 as a starting point, I would like you to make it a general function that takes the following parameters as inputs:\n",
        "\n",
        "   - lookback period. \n",
        "   - how many months to skip between signal and portfolio formation.\n",
        "   - number of groups, i.e., the number of portfolios.\n",
        "   - weighting scheme: equal-weighted, market-cap-weighted, volume-weighted.\n",
        " \n",
        "The signal is the cumulative returns in the lookback window.\n",
        "   \n",
        "\n",
        "   \n",
        "The code should output **a time-series of returns** of the portfolio that goes long the top group (the one in the top of the signal distribution) and shorts the bottom group (the one with stocks from the bottom of the signal distribution).\n",
        "\n",
        "\n",
        "Name this function `strategy`.\n",
        "\n",
        "TIP:\n",
        "\n",
        "This is the same data set that we used in Chapter 13.1 to build market cap weights. So you should look there how things were setup and of course, the same data set we used in chapter 13.2.\n",
        "\n",
        "It is your reponsibility to import this properly and adjust to any aspects of the dataset. For example, make sure you take absolute values of price to ensure that market cap is positive.\n"
      ]
    },
    {
      "cell_type": "code",
      "execution_count": null,
      "metadata": {
        "id": "tXSNgxsZgNiu"
      },
      "outputs": [],
      "source": [
        "# your code below\n"
      ]
    },
    {
      "cell_type": "markdown",
      "metadata": {
        "id": "ZFcSd1pPgNiu"
      },
      "source": [
        "**Exercise 2**\n",
        "\n",
        "We will now show that the code works. Do a for loop, where you skip **one** month (and not two!), and you grow the lookback period from 1 to 60 months. Record the Sharpe Ratio for each of these lookbacks. Plot the SR of the long-short portfolio as a function of the lookback period ( y-axis SR, x-axis lookback period). \n",
        "\n",
        "Discuss what you found.\n",
        "\n",
        "TIP: This code is likely to run for several minutes. First do it for a list of several months (e.g., 1, 3, 6, 12 months) and then after verifying that the code works extend it to all months between 1 and 60."
      ]
    },
    {
      "cell_type": "code",
      "execution_count": null,
      "metadata": {
        "id": "tEu_EbEygNiv"
      },
      "outputs": [],
      "source": [
        "# your code below\n"
      ]
    },
    {
      "cell_type": "code",
      "execution_count": null,
      "metadata": {
        "id": "wFsZ7HGIgNiw"
      },
      "outputs": [],
      "source": [
        "# your discussion below\n"
      ]
    },
    {
      "cell_type": "markdown",
      "metadata": {
        "id": "xZshkqLcgNiw"
      },
      "source": [
        "**Exercise 3**\n",
        "\n",
        "Repeat what you did in 2.2, but now skipping 2 months\n",
        "\n",
        "Discuss what you found.\n"
      ]
    },
    {
      "cell_type": "code",
      "execution_count": null,
      "metadata": {
        "id": "hprJl6LFgNix"
      },
      "outputs": [],
      "source": [
        "# your code below\n"
      ]
    },
    {
      "cell_type": "code",
      "execution_count": null,
      "metadata": {
        "id": "sv1V9twagNix"
      },
      "outputs": [],
      "source": [
        "# your discussion below\n"
      ]
    },
    {
      "cell_type": "markdown",
      "metadata": {
        "id": "TIT_J54sgNix"
      },
      "source": [
        "**Exercise 4**\n",
        "\n",
        "Do a for loop, where you do the standard momentum strategy (lookback 10, skip 2 months) using the following number of groups:  2,3,5,10,20, and 50 . Record the **Sharpe Ratio** for each of these. Plot the SR as a function of the number of groups. \n",
        "\n",
        "Discuss what you found.\n",
        "\n"
      ]
    },
    {
      "cell_type": "code",
      "execution_count": null,
      "metadata": {
        "id": "ThkRaFwRgNiy"
      },
      "outputs": [],
      "source": [
        "# your code below\n"
      ]
    },
    {
      "cell_type": "code",
      "execution_count": null,
      "metadata": {
        "id": "iFr0oZ6ugNiy"
      },
      "outputs": [],
      "source": [
        "# your discussion below\n"
      ]
    },
    {
      "cell_type": "markdown",
      "metadata": {
        "id": "eZQEiBhqgNiy"
      },
      "source": [
        "**Exercise 5**\n",
        "\n",
        "Show that your code works, by doing a for loop, where you do the standard momentum strategy (lookback 10, skip 2, 10 groups) using all the **three weighting schemes** (Equal weighted, Value weighted and Volume weighted). Record and plot the Sharpe ratio\n",
        "\n",
        "Discuss what you found.\n",
        "\n"
      ]
    },
    {
      "cell_type": "code",
      "execution_count": null,
      "metadata": {
        "id": "Xzryo_oogNiy"
      },
      "outputs": [],
      "source": [
        "# your code below\n"
      ]
    },
    {
      "cell_type": "code",
      "execution_count": null,
      "metadata": {
        "id": "dUUuSEaegNiz"
      },
      "outputs": [],
      "source": [
        "# your discussion below\n"
      ]
    },
    {
      "cell_type": "markdown",
      "metadata": {
        "id": "GAr0GiIJgNiz"
      },
      "source": [
        "**Exercise 6**\n",
        "\n",
        "Does our strategy beat the CAPM?\n",
        "\n",
        "**The goal here is to construct a function** that for a given time-series of a strategy excess returns it estimates the strategy alpha and beta with respect to the market excess return. It then reports the following objects\n",
        "\n",
        "\n",
        "1. Annualized average excess returns\n",
        "1. Annualized standard deviation\n",
        "1. Annualize Sharpe Ratio\n",
        "1. CAPM Beta\n",
        "1. annualized CAPM alpha\n",
        "1. Annualized Appraisal ratio\n",
        "1. Maximum Sharpe Ratio obtained by investing optimally in the strategy and the market\n",
        "1. Annualized standard deviation of strategy systematic risk\n",
        "1. Annualized standard deviation of the strategy idiosyncratic risk\n",
        "\n",
        "\n",
        "\n",
        "\n",
        "To do so you will need to  import also the market portfolio from this data set `url=\"https://raw.githubusercontent.com/amoreira2/Lectures/main/assets/data/MonthlyFactors.csv\"` and merge with the time-series of your strategy.\n",
        "\n",
        "TIPS:\n",
        "\n",
        " - To do that you will need to first construct your portfolios (so you have a time-series of returns for each), and then in the end, once you have the different portfolios in the columns and the dates in the rows, you will merge on date with the data frame that has the market returns.\n",
        " - It is very important that you import the monthly factors data set correctly for the merge to work\n",
        " - We have done that multiple times by now. \n",
        " - also make sure that these returns are in the same units as your portfolio\n",
        " \n",
        " \n",
        " The function should look like that\n",
        " \n",
        " \n",
        " `output=perfeval(df,factor)`\n",
        " \n",
        " \n",
        "where df is a dataframe containing your strategy excess returns or long-short returns, output is a Dataframe with 9 columns containing the desired outputs (name each column properly), and factor is the dataframe containing the market **excess** return. Please note that the data has **the market returns** and you need to compute the market excess return before merging.  \n",
        "\n",
        "\n",
        "The function must merge df and factor, then run an OLS regression, and the output the desired quantities above.\n",
        "\n",
        "Show that the function works by applying it to the standard Momentum strategy with value-weighted scheme (where you should simply use two functions, one built in question 2.1 to construct the strategy and the function that you just build to do performance evaluation)."
      ]
    },
    {
      "cell_type": "code",
      "execution_count": null,
      "metadata": {
        "id": "v0Xd7PL-gNiz"
      },
      "outputs": [],
      "source": [
        "# your code below\n"
      ]
    },
    {
      "cell_type": "markdown",
      "metadata": {
        "id": "jS5Ti9nPgNiz"
      },
      "source": [
        "**Exercise 7** \n",
        "Searching for the best strategy\n",
        "\n",
        "Now you have two functions. The first function construct a strategy, the second evaluates.\n",
        "\n",
        "Propose  an algorithm that searches across the parameters of your strategy function for the best strategy across your dimension of choice. (No need to actually do it)\n",
        "\n",
        "\n",
        "The `perfeval` function outputs several performance metrics. Choose one or combinations of the various metrics. Please explain your choice of metric. Explain briefly the idea behind your search algorithm.\n"
      ]
    },
    {
      "cell_type": "code",
      "execution_count": null,
      "metadata": {
        "id": "HPKAR0D7gNi0"
      },
      "outputs": [],
      "source": [
        "# your answer below\n"
      ]
    },
    {
      "cell_type": "markdown",
      "metadata": {
        "id": "LV3NsDtZgNi0"
      },
      "source": [
        "**Exercise 8**\n",
        "\n",
        "What is  the main pitfall/weakness of the approach taken in Exercise 7 to find the best strategy ?\n",
        "\n",
        "Explain how you could modify this approach to improve the methodology with respect to this weakness (no need to do it!)."
      ]
    },
    {
      "cell_type": "code",
      "execution_count": null,
      "metadata": {
        "id": "RxH_THpfgNi0"
      },
      "outputs": [],
      "source": [
        "# your answer below\n"
      ]
    },
    {
      "cell_type": "markdown",
      "metadata": {
        "id": "A9qTAObMgNi0"
      },
      "source": [
        "**Exercise 9**\n",
        "\n",
        "Can you change the strategy function that you build in Exercise 1 to construct portfolios based on the last N months volatility?\n",
        "\n",
        "Demonstrating that it works by applying the function to 10 groups using a rolling windown of 24 months to estimate the volatility signal."
      ]
    },
    {
      "cell_type": "code",
      "execution_count": null,
      "metadata": {
        "id": "97MojU27gNi0"
      },
      "outputs": [],
      "source": [
        "# your code below\n"
      ]
    },
    {
      "cell_type": "markdown",
      "metadata": {
        "id": "qNO6FPnOgNi1"
      },
      "source": [
        "**Exercise 10**\n",
        "\n",
        "Compute the expected returns, volatilities and Sharpe ratios of the 10 portfolios. Discuss your findings."
      ]
    },
    {
      "cell_type": "code",
      "execution_count": null,
      "metadata": {
        "id": "1tIUrZJMgNi1"
      },
      "outputs": [],
      "source": [
        "# your code below\n"
      ]
    },
    {
      "cell_type": "code",
      "execution_count": null,
      "metadata": {
        "id": "FsVXyKX7gNi1"
      },
      "outputs": [],
      "source": [
        "# your discussion below\n"
      ]
    }
  ],
  "metadata": {
    "colab": {
      "provenance": []
    },
    "kernelspec": {
      "display_name": "Python 3, anaconda3",
      "language": "python",
      "name": "python3"
    },
    "language_info": {
      "codemirror_mode": {
        "name": "ipython",
        "version": 3
      },
      "file_extension": ".py",
      "mimetype": "text/x-python",
      "name": "python",
      "nbconvert_exporter": "python",
      "pygments_lexer": "ipython3",
      "version": "3.9.13"
    },
    "toc": {
      "base_numbering": 1,
      "nav_menu": {},
      "number_sections": true,
      "sideBar": true,
      "skip_h1_title": false,
      "title_cell": "Table of Contents",
      "title_sidebar": "Contents",
      "toc_cell": false,
      "toc_position": {},
      "toc_section_display": true,
      "toc_window_display": false
    },
    "toc-autonumbering": true
  },
  "nbformat": 4,
  "nbformat_minor": 0
}