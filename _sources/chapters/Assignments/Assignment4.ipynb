{
 "cells": [
  {
   "cell_type": "markdown",
   "metadata": {
    "id": "WI820A_Bp_NH"
   },
   "source": [
    "# Assignment 4\n",
    "\n",
    "\n",
    "Instructions: This problem set should be done in group!!\n",
    "\n",
    "Make sure you have a group assignet in blackboard otherwise submission will not work\n",
    "\n",
    "Only the LAST submission by a group member will be graded!\n",
    "\n",
    "Answer each question in the designated space below.\n",
    "\n",
    "After you are done, save and upload in blackboard.\n",
    "\n",
    "\n",
    "Please check that you are submitting the correct file. One way to avoid mistakes is to save it with a different name."
   ]
  },
  {
   "cell_type": "markdown",
   "metadata": {
    "id": "wVAN3J3Vp_NJ"
   },
   "source": [
    "# Write your name and simon email\n",
    "\n",
    "Please write names below\n",
    "\n",
    "* [Name]:\n",
    "* [email]:\n",
    "\n",
    "\n"
   ]
  },
  {
   "cell_type": "markdown",
   "metadata": {
    "id": "qI0wQ9EeaIUp"
   },
   "source": [
    "# Discussion Forum Assignment\n",
    "\n",
    "\n",
    "Do the CAPM assigment on the discussion forum\n",
    "\n",
    "\n",
    "https://edstem.org/us/courses/30665/discussion/1987508"
   ]
  },
  {
   "cell_type": "markdown",
   "metadata": {
    "id": "D3s96_dDaIUq"
   },
   "source": [
    "# Exercises \n",
    "\n",
    "\n",
    "\n"
   ]
  },
  {
   "cell_type": "markdown",
   "metadata": {
    "id": "m3yVXEzmaIUq"
   },
   "source": [
    "**Exercise 1, import data**\n",
    "\n",
    "Start by importing pandas, numpy and loading the data set. \n",
    "\n",
    "The dataset has address \n",
    "\n",
    "`url=\"https://raw.githubusercontent.com/amoreira2/Lectures/main/assets/data/Retuns50stocks.csv\"`\n",
    "\n",
    "First look in your browser what this file looks like and what type it has, then use the appropriate `pd.read_XX` function to import it.\n",
    "\n",
    "\n",
    "Name `df` this dataset, then print `print(df)`."
   ]
  },
  {
   "cell_type": "code",
   "execution_count": null,
   "metadata": {
    "id": "OewOFQ-CaIUr"
   },
   "outputs": [],
   "source": [
    "import numpy as np\n",
    "import pandas as pd\n",
    "import matplotlib.pyplot as plt\n",
    "pd.set_option('display.max_rows',10,'display.precision',2)  # display 10 rows and 2 decimals \n",
    "\n",
    "# your code below\n"
   ]
  },
  {
   "cell_type": "markdown",
   "metadata": {
    "id": "aJ93k2SHaIUs"
   },
   "source": [
    "**Exercise 2, clean data**\n",
    "\n",
    "Do the followings to clean the data.\n",
    "\n",
    "1. use the function `pd.to_datetime` with the option `format=` to transform the column `date` into date format\n",
    "\n",
    "2. set the column `date` as the new index\n",
    "\n",
    "3. Drop the 'Market' column (sometimes extra columns with \"unnamed\" column names are also imported. Drop those as well).\n",
    "\n",
    "4. print the first 5 rows"
   ]
  },
  {
   "cell_type": "code",
   "execution_count": null,
   "metadata": {
    "id": "2_FBrWTiaIUs"
   },
   "outputs": [],
   "source": [
    "# your code below\n"
   ]
  },
  {
   "cell_type": "markdown",
   "metadata": {
    "id": "npOOZUzQaIUt"
   },
   "source": [
    "**Exercise 3**\n",
    "\n",
    "1. For each stock, compute the full sample time-series standard deviation of returns\n",
    "2. For each date, compute the average return across stocks\n",
    "\n",
    "Hint: use the axis option"
   ]
  },
  {
   "cell_type": "code",
   "execution_count": null,
   "metadata": {
    "id": "aeUaxdrkaIUu"
   },
   "outputs": [],
   "source": [
    "# For each stock, compute the full sample time-series standard deviation of returns\n"
   ]
  },
  {
   "cell_type": "code",
   "execution_count": null,
   "metadata": {
    "id": "BqTYFlojaIUu"
   },
   "outputs": [],
   "source": [
    "# For each date, compute the average return across stocks\n"
   ]
  },
  {
   "cell_type": "markdown",
   "metadata": {
    "id": "uSGh_dl4aIUu"
   },
   "source": [
    "**Exercise 4**\n",
    "\n",
    "1. Create a function that takes as input a positive integer N and returns an array of N length where each entry is 1/N. Name this function `equalweights`. \n",
    "\n",
    "2. Call `equalweights(5)` to verify that it works. Output should look like `array([0.2, 0.2, 0.2, 0.2, 0.2])`"
   ]
  },
  {
   "cell_type": "code",
   "execution_count": null,
   "metadata": {
    "id": "jD5LRKdFaIUv"
   },
   "outputs": [],
   "source": [
    "def equalweights(N):\n",
    "    # your code below\n",
    "    \n",
    "    \n",
    "equalweights(5)"
   ]
  },
  {
   "cell_type": "markdown",
   "metadata": {
    "id": "0Teip2mNaIUv"
   },
   "source": [
    "**Exercise 5**\n",
    "\n",
    "1. Create a function that takes a positive integer N and dataframe `df` and returns a data frame with only the first N columns. Name this function `firstNstocks`. \n",
    "\n",
    "2. Call `firstNstocks(5)` to verify that it works."
   ]
  },
  {
   "cell_type": "code",
   "execution_count": null,
   "metadata": {
    "id": "hgBl2E2_aIUv"
   },
   "outputs": [],
   "source": [
    "def firstNstocks(N,df=df):\n",
    "    # your code below\n",
    "    \n",
    "    \n",
    "firstNstocks(5)"
   ]
  },
  {
   "cell_type": "markdown",
   "metadata": {
    "id": "kohQ_tiYaIUv"
   },
   "source": [
    "**Exercise 6**\n",
    "\n",
    "Using the two functions you created above, compute the portfolio returns of an equal weighted portfolio that invests in the first 5 stocks.\n",
    "\n",
    "Hint: the result should be a time-series sequence of returns. You want to use the `@` dot product operation and recall that the return of a portfolio is\n",
    "\n",
    "$$r_t^p=W @ R_t=\\sum_i^N w_{i}R_{i,t}.$$"
   ]
  },
  {
   "cell_type": "code",
   "execution_count": null,
   "metadata": {
    "id": "wWnDWS9VaIUw"
   },
   "outputs": [],
   "source": [
    "# the dimension need to match: (180,5) & (5,)\n"
   ]
  },
  {
   "cell_type": "markdown",
   "metadata": {
    "id": "5dwZsHJTaIUw"
   },
   "source": [
    "**Exercise 7**\n",
    "\n",
    "Now use the code above to create a function that takes an integer and a dataframe `df` and returns full sample standard deviation of an equal weighted portfolio formed with the first N stocks. Call this function `portfolio_std`. Call the function with an N=5 to verify that it works."
   ]
  },
  {
   "cell_type": "code",
   "execution_count": null,
   "metadata": {
    "id": "mAWg_3AdaIUw"
   },
   "outputs": [],
   "source": [
    "def portfolio_std(N,df=df):\n",
    "    # your code below\n",
    "\n",
    "portfolio_std(5)"
   ]
  },
  {
   "cell_type": "markdown",
   "metadata": {
    "id": "Of-j0D4BaIUw"
   },
   "source": [
    "**Exercise 8**\n",
    "\n",
    "Use a for loop and the function above to compute the standard deviation of equal weighted portfolios starting with the first 5 stocks, 6 stocks, all the way up to all 50 stocks. Store the result of each loop in a dataframe called Results. Do this as follows: \n",
    "\n",
    "1. create an empty dataframe with index given by range(5,50):\n",
    "`Results=pd.DataFrame([],index=range(5,51),columns=['std'])`\n",
    "\n",
    "2. loop over the index of `Results`, use the function `portforlio_std` to calculate the standard deviation, and save the output"
   ]
  },
  {
   "cell_type": "code",
   "execution_count": null,
   "metadata": {
    "id": "pDxg89THaIUx"
   },
   "outputs": [],
   "source": [
    "Results=pd.DataFrame([],index=range(5,51),columns=['std'])\n",
    "for n in Results.index:\n",
    "    # your code below\n",
    "    \n",
    "Results"
   ]
  },
  {
   "cell_type": "markdown",
   "metadata": {
    "id": "1etbsRnKaIUx"
   },
   "source": [
    "**Exercise 9**\n",
    "\n",
    "Plot the standard deviaitons on the y-axis and the number of stocks on x-axis. If you created your Results dataframe correctly, this step should be easy."
   ]
  },
  {
   "cell_type": "code",
   "execution_count": null,
   "metadata": {
    "id": "SFQy2wJraIUx"
   },
   "outputs": [],
   "source": [
    "# your code below\n"
   ]
  },
  {
   "cell_type": "markdown",
   "metadata": {
    "id": "obz6b3auaIUx"
   },
   "source": [
    "**Exercise 10**\n",
    "\n",
    "Eye-balling the graph, does it look like adding more and more stocks will diversify away all of the standard deviation? Why or why not? Comment on the shape of the function. "
   ]
  },
  {
   "cell_type": "code",
   "execution_count": null,
   "metadata": {
    "id": "ppoJ8elRaIUx"
   },
   "outputs": [],
   "source": [
    "# your comments below\n"
   ]
  },
  {
   "cell_type": "markdown",
   "metadata": {
    "id": "PnykN3KmaIUy"
   },
   "source": [
    "<br>"
   ]
  },
  {
   "cell_type": "markdown",
   "metadata": {
    "id": "dVZZ6k1taIUy"
   },
   "source": [
    "**In the following exercises, we will decompose the fraction of the portfolio variance that comes from individual variances and covariances.**  "
   ]
  },
  {
   "cell_type": "markdown",
   "metadata": {
    "id": "KDmcOsw0aIUy"
   },
   "source": [
    "**Exercise 11**\n",
    "\n",
    "We already have the standard deviation of the portfolios. Create a column in Results with the portfolio variance. This should be easy if you know the connection between standard deviaiton and variance. Call this column `Var`."
   ]
  },
  {
   "cell_type": "code",
   "execution_count": null,
   "metadata": {
    "id": "TOs_v7mxaIUy"
   },
   "outputs": [],
   "source": [
    "# your code below\n",
    "\n",
    "Results.head()"
   ]
  },
  {
   "cell_type": "markdown",
   "metadata": {
    "id": "v-udfPqjaIUy"
   },
   "source": [
    "**Exercise 12**\n",
    "\n",
    "Now we will compute the total variation due to individual variances. \n",
    "\n",
    "Variance of a portfolio is\n",
    "\n",
    "$$Var(\\sum_i w_i R_i)=\\sum_i\\sum_j w_iw_jcov(R_i,R_j)$$\n",
    "\n",
    "Which can be written as\n",
    "\n",
    "$$Var(\\sum_i w_i R_i)=\\sum_{i=j}\\sum_j w_iw_jcov(R_i,R_j)+ \\sum_{i\\neq j}\\sum_j w_iw_jcov(R_i,R_j)$$\n",
    "\n",
    "$$Var(\\sum_i w_i R_i)= \\underbrace{\\sum_i w_i^2var(R_i)}_\\textrm{variance component}+ \\underbrace{\\sum_{i\\neq j}\\sum_j w_iw_jcov(R_i,R_j)}_\\textrm{covariance component}$$\n",
    "\n",
    "So the first component is variance component and the second is the covariance component.\n",
    "\n",
    "To see this, just think about what the second component would be if all stocks were uncorrelated.\n",
    "\n",
    "So lets compute the first term.\n",
    "\n",
    "\n",
    "Using the function you defined above you can easily construct the vector of sqaured weights `equalweights(N)**2` and the vector of first N stocks variances `firstNstocks(N).var()`.\n",
    "\n",
    "Now simply do the dot product of these objects to create the variance component for the portfolio.\n",
    "\n",
    "Once you get this to work for one portfolio, simply create a for loop that computes this value of each portfolio formed from 5 to 50 stocks and store it in the new column `Var_share` of the dataframe `Results`."
   ]
  },
  {
   "cell_type": "code",
   "execution_count": null,
   "metadata": {
    "id": "QV3ji6weaIUy"
   },
   "outputs": [],
   "source": [
    "for n in Results.index:\n",
    "    # your code below\n",
    "    \n",
    "Results.head()"
   ]
  },
  {
   "cell_type": "markdown",
   "metadata": {
    "id": "DzAHstP4aIUy"
   },
   "source": [
    "**Exercise 13**\n",
    "\n",
    "Now compute the covariance share by subtrating the variance share from the total variance, store it in Results with the column name `Cov_share`.\n",
    "\n"
   ]
  },
  {
   "cell_type": "code",
   "execution_count": null,
   "metadata": {
    "id": "aC90Nz2UaIUz"
   },
   "outputs": [],
   "source": [
    "# your code below\n",
    "\n",
    "Results.head()"
   ]
  },
  {
   "cell_type": "markdown",
   "metadata": {
    "id": "6WIhYo6IaIUz"
   },
   "source": [
    "**Exercise 14**\n",
    "\n",
    "Now add two additional columns with the ratios of the `Var_share` and `Cov_share` to the total Variance. Call them `Var_ratio` and `Cov_ratio`. Plot these two new columns as a function of the number of stocks in each portfolio (y-axis should be ratios and x-axis should be the number of stocks)."
   ]
  },
  {
   "cell_type": "code",
   "execution_count": null,
   "metadata": {
    "id": "Ae-4LROGaIU0"
   },
   "outputs": [],
   "source": [
    "# your code below\n"
   ]
  },
  {
   "cell_type": "markdown",
   "metadata": {
    "id": "hpBqRuKFaIU0"
   },
   "source": [
    "**Exercise 15**\n",
    "\n",
    "Comment on the shape of the plots."
   ]
  },
  {
   "cell_type": "code",
   "execution_count": null,
   "metadata": {
    "id": "dio7le6AaIU0"
   },
   "outputs": [],
   "source": [
    "# your comments below\n"
   ]
  },
  {
   "cell_type": "markdown",
   "metadata": {
    "id": "6Zh3DdEkaIU0"
   },
   "source": [
    "**Exercise 16**\n",
    "\n",
    "1. create a dataframe `covm` that includes the covariance matrix across all 50 stocks.\n",
    "\n",
    "2. create a matrix that has the variances on the diagonal of the covariance matrix you just created, but has zeros as the off-diagonal elements.\n",
    "\n",
    "Hint: use `np.diag`"
   ]
  },
  {
   "cell_type": "code",
   "execution_count": null,
   "metadata": {
    "id": "J1LFZGoQaIU0"
   },
   "outputs": [],
   "source": [
    "# your code below\n"
   ]
  }
 ],
 "metadata": {
  "colab": {
   "provenance": []
  },
  "kernelspec": {
   "display_name": "Python 3 (ipykernel)",
   "language": "python",
   "name": "python3"
  },
  "language_info": {
   "codemirror_mode": {
    "name": "ipython",
    "version": 3
   },
   "file_extension": ".py",
   "mimetype": "text/x-python",
   "name": "python",
   "nbconvert_exporter": "python",
   "pygments_lexer": "ipython3",
   "version": "3.9.12"
  },
  "toc": {
   "base_numbering": 1,
   "nav_menu": {},
   "number_sections": true,
   "sideBar": true,
   "skip_h1_title": false,
   "title_cell": "Table of Contents",
   "title_sidebar": "Contents",
   "toc_cell": false,
   "toc_position": {},
   "toc_section_display": true,
   "toc_window_display": false
  },
  "toc-autonumbering": true
 },
 "nbformat": 4,
 "nbformat_minor": 4
}
