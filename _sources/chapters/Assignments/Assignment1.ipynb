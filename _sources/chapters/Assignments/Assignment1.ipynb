{
 "cells": [
  {
   "cell_type": "markdown",
   "metadata": {
    "colab_type": "text",
    "id": "WI820A_Bp_NH"
   },
   "source": [
    "# Assignment 1\n",
    "\n",
    "\n",
    "Instructions: This problem set should be done individually.\n",
    "\n",
    "Answer each question in the designated space below.\n",
    "\n",
    "After you are done, save, download, and upload in blackboard under Assignment 1."
   ]
  },
  {
   "cell_type": "markdown",
   "metadata": {
    "colab_type": "text",
    "id": "wVAN3J3Vp_NJ"
   },
   "source": [
    "# Write your name and simon email\n",
    "\n",
    "Please write names below\n",
    "\n",
    "* [Name]:\n",
    "* [email]:\n",
    "\n",
    "NOTE: \n",
    "\n",
    "1. You can edit this cell by double clicking in it and hitting `Ctrl`+`enter` for it to render.\n",
    "\n",
    "2. This is Markdown cell, where we type text. For more info on how to do formatting on markdown please see here https://ingeh.medium.com/markdown-for-jupyter-notebooks-cheatsheet-386c05aeebed, but you don't need to.\n"
   ]
  },
  {
   "cell_type": "markdown",
   "metadata": {},
   "source": [
    "# Discussion Forum Assignment\n",
    "\n",
    "Due to assigment: \"Quant investing from the trenches\" in the discussion forum\n",
    "\n",
    "https://edstem.org/us/courses/30665/discussion/1972479\n"
   ]
  },
  {
   "cell_type": "markdown",
   "metadata": {},
   "source": [
    "# Part A: Basic Commands"
   ]
  },
  {
   "cell_type": "markdown",
   "metadata": {},
   "source": [
    "**Exercise 1**\n",
    "\n",
    "In the first cell, try `y.append(z)`.\n",
    "\n",
    "In the second cell try `y.extend(z)`.\n",
    "\n",
    "Explain the behavior.\n",
    "\n",
    "HINT: When you are trying to explain, use `y.append?` and `y.extend?` to\n",
    "see a description of what these methods are supposed to do."
   ]
  },
  {
   "cell_type": "code",
   "execution_count": 1,
   "metadata": {
    "hide-output": true
   },
   "outputs": [
    {
     "name": "stdout",
     "output_type": "stream",
     "text": [
      "['a', 'b', 'c']\n"
     ]
    }
   ],
   "source": [
    "y = [\"a\", \"b\", \"c\"]\n",
    "z = [1, 2, 3]\n",
    "# your code here\n",
    "\n",
    "print(y)"
   ]
  },
  {
   "cell_type": "code",
   "execution_count": 2,
   "metadata": {
    "hide-output": true
   },
   "outputs": [
    {
     "name": "stdout",
     "output_type": "stream",
     "text": [
      "['a', 'b', 'c']\n"
     ]
    }
   ],
   "source": [
    "y = [\"a\", \"b\", \"c\"]\n",
    "z = [1, 2, 3]\n",
    "# your code here\n",
    "\n",
    "print(y)"
   ]
  },
  {
   "cell_type": "markdown",
   "metadata": {},
   "source": [
    "**Exercise 2**\n",
    "\n",
    "Experiment with two versions of the `range` function. Explain what d is and how you get the second option to implement the first by choosing a particular d."
   ]
  },
  {
   "cell_type": "code",
   "execution_count": null,
   "metadata": {
    "hide-output": true
   },
   "outputs": [],
   "source": [
    "# try list(range(a, N)) -- you pick `a` and `N`"
   ]
  },
  {
   "cell_type": "code",
   "execution_count": null,
   "metadata": {
    "hide-output": true
   },
   "outputs": [],
   "source": [
    "# try list(range(a, N, d)) -- you pick `a`, `N`, and `d`"
   ]
  },
  {
   "cell_type": "markdown",
   "metadata": {},
   "source": [
    "**Exercise 3**\n",
    "\n",
    "Use Jupyter's help facilities to learn how to use the `pop` method to\n",
    "remove the number 10.48 from the list gdp_data."
   ]
  },
  {
   "cell_type": "code",
   "execution_count": null,
   "metadata": {
    "hide-output": false
   },
   "outputs": [],
   "source": [
    "gdp_data = [9.607, 10.48, 11.06]\n",
    "# your code here\n"
   ]
  },
  {
   "cell_type": "markdown",
   "metadata": {},
   "source": [
    "**Exercise 4**\n",
    "\n",
    "Explain what happens to the value you popped.\n",
    "\n",
    "Experiment with calling `pop` twice."
   ]
  },
  {
   "cell_type": "code",
   "execution_count": null,
   "metadata": {
    "hide-output": false
   },
   "outputs": [],
   "source": [
    "# your code here\n"
   ]
  },
  {
   "cell_type": "markdown",
   "metadata": {},
   "source": [
    "**Exercise 5**\n",
    "\n",
    "Run the following two variations on the code with only a single difference in the indentation.\n",
    "\n",
    "After you do that, modify the value of `x` to print `3` in the first cell and then `2, 3` in the second cell instead.\n",
    "\n",
    "Create a cell below to explain what is going on."
   ]
  },
  {
   "cell_type": "code",
   "execution_count": null,
   "metadata": {
    "hide-output": false
   },
   "outputs": [],
   "source": [
    "x = 1\n",
    "\n",
    "if x > 0:\n",
    "    print(\"1\")\n",
    "    print(\"2\")\n",
    "print(\"3\")"
   ]
  },
  {
   "cell_type": "code",
   "execution_count": null,
   "metadata": {
    "hide-output": false
   },
   "outputs": [],
   "source": [
    "x = 1\n",
    "\n",
    "if x > 0:\n",
    "    print(\"1\")\n",
    "print(\"2\") # changed the indentation\n",
    "print(\"3\")"
   ]
  },
  {
   "cell_type": "markdown",
   "metadata": {},
   "source": [
    "**Exercise 6**\n",
    "\n",
    "Using the code cell below as a start, print `\"Good afternoon\"` if the\n",
    "`current_time` is past noon.\n",
    "\n",
    "Otherwise, do nothing.\n",
    "\n",
    "(Hint: Write some conditional based on `current_time.hour`.)"
   ]
  },
  {
   "cell_type": "code",
   "execution_count": null,
   "metadata": {
    "hide-output": false
   },
   "outputs": [],
   "source": [
    "\n",
    "import datetime\n",
    "current_time = datetime.datetime.now()\n",
    "\n",
    "## your code here\n"
   ]
  },
  {
   "cell_type": "markdown",
   "metadata": {},
   "source": [
    "**Exercise 7**\n",
    "\n",
    "You will generate a random number between 0 and 1, add code to  print \"x > 0.5\" or \"x <= 0.5\" depending on the value of the number.\n",
    "\n",
    "This also introduces a new package `numpy.random` for drawing random numbers."
   ]
  },
  {
   "cell_type": "code",
   "execution_count": null,
   "metadata": {
    "hide-output": false
   },
   "outputs": [],
   "source": [
    "import numpy as np\n",
    "x = np.random.random()\n",
    "print(f\"x = {x}\")\n",
    "\n",
    "## your code here"
   ]
  },
  {
   "cell_type": "markdown",
   "metadata": {},
   "source": [
    "**Exercise 8**\n",
    "\n",
    "Write a for loop that uses the lists of cities\n",
    "and states below to print the same \"{city} is in {state}\" using\n",
    "`zip`."
   ]
  },
  {
   "cell_type": "code",
   "execution_count": null,
   "metadata": {
    "hide-output": true
   },
   "outputs": [],
   "source": [
    "cities = [\"Phoenix\", \"Austin\", \"San Diego\", \"New York\"]\n",
    "states = [\"Arizona\", \"Texas\", \"California\", \"New York\"]\n",
    "\n",
    "for __, __ in zip(__,__):\n",
    "    print(f\"{__} is in {__}\")\n",
    "# Your code here"
   ]
  },
  {
   "cell_type": "markdown",
   "metadata": {},
   "source": [
    "**Exercise 9**\n",
    "\n",
    "Try to find the index of the first value in `x`\n",
    "that is greater than 0.999 using a for loop and `break`.\n",
    "\n",
    "*Hint*: try iterating over `range(len(x))`."
   ]
  },
  {
   "cell_type": "code",
   "execution_count": null,
   "metadata": {
    "hide-output": false
   },
   "outputs": [],
   "source": [
    "x = np.random.rand(10000)\n",
    "# Your code here"
   ]
  },
  {
   "cell_type": "markdown",
   "metadata": {},
   "source": [
    "**Exercise 10**\n",
    "\n",
    "Write a for loop that adds up all values in `x` that are greater than\n",
    "or equal to 0.5.\n",
    "\n",
    "Use the `continue` word to end the body of the loop early for all values\n",
    "of `x` that are less than 0.5.\n",
    "\n",
    "*Hint*: Try starting your loop with `for value in x:` instead of\n",
    "iterating over the indices of `x`."
   ]
  },
  {
   "cell_type": "code",
   "execution_count": null,
   "metadata": {
    "hide-output": false
   },
   "outputs": [],
   "source": [
    "x = np.random.rand(10000)\n",
    "# Your code here"
   ]
  },
  {
   "cell_type": "markdown",
   "metadata": {},
   "source": [
    "# Part B: Applications\n"
   ]
  },
  {
   "cell_type": "markdown",
   "metadata": {},
   "source": [
    "**Exercise 1**\n",
    "\n",
    "In economics, when an individual has some knowledge, skills, or education\n",
    "which provides them with a source of future income, we call it [human\n",
    "capital](https://en.wikipedia.org/wiki/Human_capital).\n",
    "\n",
    "When a student graduating from high school is considering whether to\n",
    "continue with post-secondary education, they may consider that it gives\n",
    "them higher paying jobs in the future, but requires that they don't begin\n",
    "working until after graduation.\n",
    "\n",
    "Consider the simplified example where a student has perfectly forecastable\n",
    "employment and is given two choices:\n",
    "\n",
    "1. Begin working immediately and make 60,000 a year until they retire 40\n",
    "years later.\n",
    "2. Pay 20,000 a year for the next 4 years to attend university, then\n",
    "get a job paying 200,000 a year until they retire in 40 years after making\n",
    "the college attendance decision.\n",
    "\n",
    "Assume wages and tuitions are paid at the beginning of each year.\n",
    "\n",
    "What is the expected rate of return of this investment?\n",
    "\n",
    "To do this first start by constructing the npv of the college decision using the NPV of high school as inspiration. Do this for a given interest rate, say 5%.\n",
    "\n",
    "Then build a expression that returns the difference in NPVs.\n",
    "\n",
    "Finally, change the interest rate manually until this difference in the NPVs is the less than 1000 dollars."
   ]
  },
  {
   "cell_type": "code",
   "execution_count": null,
   "metadata": {},
   "outputs": [],
   "source": [
    "# Discount rate\n",
    "r = 0.05\n",
    "\n",
    "# High school wage\n",
    "w_hs = 80000\n",
    "\n",
    "# College wage and cost of college\n",
    "c_college = 20000 \n",
    "w_college = 200000\n",
    "\n",
    "# Compute npv of being a hs worker\n",
    "npv_hs=0\n",
    "for t in range(0,40):\n",
    "    npv_hs=npv_hs+w_hs/(1+r)**t\n",
    "print(npv_hs)\n",
    "# Compute npv of attending college\n",
    "npv_c=0\n",
    "for t in range(0,__):\n",
    "    __=__+__\n",
    "\n",
    "for t in range(__,40):\n",
    "    __=__+__\n",
    "print(npv_c)\n",
    "# Compute npv of being a college worker\n",
    "\n",
    "# Is npv_collegeworker - npv_collegecost > npv_hsworker"
   ]
  },
  {
   "cell_type": "markdown",
   "metadata": {},
   "source": [
    "**Exercise 2**\n",
    "\n",
    "Companies often invest in training their employees to raise their\n",
    "productivity. Economists sometimes wonder why companies\n",
    "spend this money when this incentivizes other companies to hire\n",
    "their employees away with higher salaries since employees gain human capital from training.\n",
    "\n",
    "Let's say that it costs a company 25,000 dollars to teach their\n",
    "employees Python, but it raises their output by 2,500 per month. How\n",
    "many months would an employee need to stay for the company to find it\n",
    "profitable to pay for their employees to learn Python if their **monthly** discount\n",
    "rate is r = 0.01?"
   ]
  },
  {
   "cell_type": "code",
   "execution_count": null,
   "metadata": {
    "hide-output": false
   },
   "outputs": [],
   "source": [
    "# Define cost of teaching python\n",
    "cost = 25_000\n",
    "r = 0.01\n",
    "\n",
    "# Per month value\n",
    "added_value = 2500\n",
    "\n",
    "n_months = 0\n",
    "total_npv = 0.0\n",
    "\n",
    "# Put condition below here\n",
    "while False: # (replace False with your condition here)\n",
    "    n_months = n_months + 1  # Increment how many months they've worked\n",
    "\n",
    "    # Increase total_npv"
   ]
  }
 ],
 "metadata": {
  "colab": {
   "collapsed_sections": [],
   "name": "Homework_2019_1.ipynb",
   "provenance": []
  },
  "kernelspec": {
   "display_name": "Python 3 (ipykernel)",
   "language": "python",
   "name": "python3"
  },
  "language_info": {
   "codemirror_mode": {
    "name": "ipython",
    "version": 3
   },
   "file_extension": ".py",
   "mimetype": "text/x-python",
   "name": "python",
   "nbconvert_exporter": "python",
   "pygments_lexer": "ipython3",
   "version": "3.9.12"
  },
  "toc": {
   "base_numbering": 1,
   "nav_menu": {},
   "number_sections": true,
   "sideBar": true,
   "skip_h1_title": false,
   "title_cell": "Table of Contents",
   "title_sidebar": "Contents",
   "toc_cell": false,
   "toc_position": {},
   "toc_section_display": true,
   "toc_window_display": true
  },
  "toc-autonumbering": true
 },
 "nbformat": 4,
 "nbformat_minor": 4
}
