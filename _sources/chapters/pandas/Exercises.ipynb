{
 "cells": [
  {
   "cell_type": "markdown",
   "id": "8785a596-f921-410a-9812-0a0a8584c202",
   "metadata": {},
   "source": [
    "# Exercises"
   ]
  },
  {
   "cell_type": "markdown",
   "id": "8d3ad80e-5804-4eed-b814-ff860322c6ba",
   "metadata": {},
   "source": [
    "## Scientific/Numpy"
   ]
  },
  {
   "cell_type": "markdown",
   "id": "3b51e98d-c36f-4c96-988d-92156733feaa",
   "metadata": {},
   "source": [
    "## Exercises\n",
    "\n",
    "**NEED TO CHECK IN exercises are approproiate**\n",
    "\n",
    "<a id='exerciselist-0'></a>\n",
    "**Exercise 1**\n",
    "\n",
    "Try indexing into another element of your choice from the\n",
    "3-dimensional array.\n",
    "\n",
    "Building an understanding of indexing means working through this\n",
    "type of operation several times -- without skipping steps!\n",
    "\n",
    "([*back to text*](#exercise-0))\n",
    "\n",
    "**Exercise 2**\n",
    "\n",
    "Look at the 2-dimensional array `x_2d`.\n",
    "\n",
    "Does the inner-most index correspond to rows or columns? What does the\n",
    "outer-most index correspond to?\n",
    "\n",
    "Write your thoughts.\n",
    "\n",
    "([*back to text*](#exercise-1))\n",
    "\n",
    "**Exercise 3**\n",
    "\n",
    "What would you do to extract the array `[[5, 6], [50, 60]]`?\n",
    "\n",
    "([*back to text*](#exercise-2))\n",
    "\n",
    "**Exercise 4**\n",
    "\n",
    "Do you recall what multiplication by an integer did for lists?\n",
    "\n",
    "How does this differ?\n",
    "\n",
    "([*back to text*](#exercise-3))\n",
    "\n",
    "**Exercise 5**\n",
    "\n",
    "Let's revisit a bond pricing example we saw in Control flow.\n",
    "\n",
    "Recall that the equation for pricing a bond with coupon payment $ C $,\n",
    "face value $ M $, yield to maturity $ i $, and periods to maturity\n",
    "$ N $ is\n",
    "\n",
    "$$\n",
    "\\begin{align*}\n",
    "    P &= \\left(\\sum_{n=1}^N \\frac{C}{(i+1)^n}\\right) + \\frac{M}{(1+i)^N} \\\\\n",
    "      &= C \\left(\\frac{1 - (1+i)^{-N}}{i} \\right) + M(1+i)^{-N}\n",
    "\\end{align*}\n",
    "$$\n",
    "\n",
    "In the code cell below, we have defined variables for `i`, `M` and `C`.\n",
    "\n",
    "You have two tasks:\n",
    "\n",
    "1. Define a numpy array `N` that contains all maturities between 1 and 10 (*hint* look at the `np.arange` function).  \n",
    "1. Using the equation above, determine the bond prices of all maturity levels in your array.  "
   ]
  },
  {
   "cell_type": "code",
   "execution_count": 40,
   "id": "6fe28b8f-b7a6-40da-996a-5513d9941dd9",
   "metadata": {
    "hide-output": false
   },
   "outputs": [],
   "source": [
    "i = 0.03\n",
    "M = 100\n",
    "C = 5\n",
    "\n",
    "# Define array here\n",
    "\n",
    "# price bonds here"
   ]
  },
  {
   "cell_type": "markdown",
   "id": "63878ce3-d566-45b3-8258-90f1b5c4cdb6",
   "metadata": {},
   "source": [
    "### Exercise 1\n",
    "\n",
    "Consider the polynomial expression\n",
    "\n",
    "\n",
    "<a id='equation-np-polynom'></a>\n",
    "$$\n",
    "p(x) = a_0 + a_1 x + a_2 x^2 + \\cdots a_N x^N = \\sum_{n=0}^N a_n x^n \\tag{1}\n",
    "$$\n",
    "\n",
    "[Earlier](https://python-programming.quantecon.org/python_essentials.html#pyess-ex2), you wrote a simple function `p(x, coeff)` to evaluate [(9.1)](#equation-np-polynom) without considering efficiency.\n",
    "\n",
    "Now write a new function that does the same job, but uses NumPy arrays and array operations for its computations, rather than any form of Python loop.\n",
    "\n",
    "(Such functionality is already implemented as `np.poly1d`, but for the sake of the exercise don’t use this class)\n",
    "\n",
    "- Hint: Use `np.cumprod()`  \n",
    "\n",
    "\n",
    "\n",
    "<a id='np-ex2'></a>"
   ]
  },
  {
   "cell_type": "markdown",
   "id": "c41519c9-4e10-41f8-8972-df55d1fa198a",
   "metadata": {},
   "source": [
    "### Exercise 2\n",
    "\n",
    "Let `q` be a NumPy array of length `n` with `q.sum() == 1`.\n",
    "\n"
   ]
  },
  {
   "cell_type": "code",
   "execution_count": null,
   "id": "092ed196-854a-43fc-881e-36fb9b5b8118",
   "metadata": {},
   "outputs": [],
   "source": []
  },
  {
   "cell_type": "markdown",
   "id": "c0f8c810-8a20-48dc-98ac-a4e44a351aab",
   "metadata": {},
   "source": [
    "### Plotting"
   ]
  },
  {
   "cell_type": "markdown",
   "id": "a6775aa2-79bb-4dac-803d-652a6d3918ef",
   "metadata": {},
   "source": [
    "### Exercise 1\n",
    "\n",
    "Plot the function\n",
    "\n",
    "$$\n",
    "f(x) = \\cos(\\pi \\theta x) \\exp(-x)\n",
    "$$\n",
    "\n",
    "over the interval $ [0, 5] $ for each $ \\theta $ in `np.linspace(0, 2, 10)`.\n",
    "\n",
    "Place all the curves in the same figure.\n",
    "\n",
    "The output should look like this\n",
    "\n",
    "![https://python-programming.quantecon.org/_static/lecture_specific/matplotlib/matplotlib_ex1.png](https://python-programming.quantecon.org/_static/lecture_specific/matplotlib/matplotlib_ex1.png)"
   ]
  },
  {
   "cell_type": "markdown",
   "id": "9f082a7b-7471-4929-8562-77958545dc51",
   "metadata": {},
   "source": [
    "### Linear algebra"
   ]
  },
  {
   "cell_type": "markdown",
   "id": "de7d2683-59ed-4e48-bd96-53ace0df89b8",
   "metadata": {},
   "source": [
    "## Exercises\n",
    "\n",
    "\n",
    "<a id='exerciselist-0'></a>\n",
    "**Exercise 1**\n",
    "\n",
    "Alice is a stock broker who owns two types of assets: A and B. She owns 100\n",
    "units of asset A and 50 units of asset B. The current interest rate is 5%.\n",
    "Each of the A assets have a remaining duration of 6 years and pay\n",
    "\\\\$1500 each year, while each of the B assets have a remaining duration\n",
    "of 4 years and pay \\\\$500 each year. Alice would like to retire if she\n",
    "can sell her assets for more than \\\\$500,000. Use vector addition, scalar\n",
    "multiplication, and dot products to determine whether she can retire.\n",
    "\n",
    "([*back to text*](#exercise-0))\n",
    "\n",
    "**Exercise 2**\n",
    "\n",
    "Which of the following operations will work and which will\n",
    "create errors because of size issues?\n",
    "\n",
    "Test out your intuitions in the code cell below"
   ]
  },
  {
   "cell_type": "markdown",
   "id": "eb2541e5-bc3b-4061-b716-1f49faf60440",
   "metadata": {
    "hide-output": false
   },
   "source": [
    "```python\n",
    "x1 @ x2\n",
    "x2 @ x1\n",
    "x2 @ x3\n",
    "x3 @ x2\n",
    "x1 @ x3\n",
    "x4 @ y1\n",
    "x4 @ y2\n",
    "y1 @ x4\n",
    "y2 @ x4\n",
    "```\n"
   ]
  },
  {
   "cell_type": "code",
   "execution_count": 29,
   "id": "70577ca9-50e6-4b7f-8bcf-b4f768015ce0",
   "metadata": {
    "hide-output": false
   },
   "outputs": [],
   "source": [
    "# testing area"
   ]
  },
  {
   "cell_type": "markdown",
   "id": "686042b1-2b6c-4699-b19c-4dae95f34aa3",
   "metadata": {},
   "source": [
    "([*back to text*](#exercise-1))\n",
    "\n",
    "**Exercise 3**\n",
    "\n",
    "Compare the distribution above to the final values of a long simulation.\n",
    "\n",
    "If you multiply the distribution by 1,000,000 (the number of workers), do you get (roughly) the same number as the simulation?"
   ]
  },
  {
   "cell_type": "code",
   "execution_count": 30,
   "id": "c72dc5bc-747c-4e06-813a-9f1a390f30b6",
   "metadata": {
    "hide-output": false
   },
   "outputs": [],
   "source": [
    "# your code here"
   ]
  },
  {
   "cell_type": "markdown",
   "id": "1ec28d21-49e4-4988-9379-ec2aa68d4655",
   "metadata": {},
   "source": [
    "([*back to text*](#exercise-2))"
   ]
  },
  {
   "cell_type": "markdown",
   "id": "85fa6c66-12a5-4246-a4b4-a9d59c0346ed",
   "metadata": {},
   "source": [
    "### Randomness"
   ]
  },
  {
   "cell_type": "markdown",
   "id": "4dfa2790-e0b1-4270-ae87-4685f887110d",
   "metadata": {},
   "source": [
    "## Exercises\n",
    "\n",
    "**EDIT EXERCISESS**\n",
    "\n",
    "<a id='exerciselist-0'></a>\n",
    "**Exercise 1**\n",
    "\n",
    "Wikipedia and other credible statistics sources tell us that the mean and\n",
    "variance of the Uniform(0, 1) distribution are (1/2, 1/12) respectively.\n",
    "\n",
    "How could we check whether the numpy random numbers approximate these\n",
    "values?\n",
    "\n",
    "([*back to text*](#exercise-0))\n",
    "\n",
    "**Exercise 2**\n",
    "\n",
    "Some execise"
   ]
  },
  {
   "cell_type": "code",
   "execution_count": 20,
   "id": "3f19b525-0f8c-4cf0-92a7-343b53d31f35",
   "metadata": {
    "hide-output": false
   },
   "outputs": [],
   "source": [
    "# your code here"
   ]
  },
  {
   "cell_type": "markdown",
   "id": "2da16b94-f687-47ae-8667-708b545fc0cc",
   "metadata": {},
   "source": [
    "([*back to text*](#exercise-2))\n",
    "\n",
    "**Exercise 3**\n",
    "\n",
    "Assume you have been given the opportunity to choose between one of three financial assets:\n",
    "\n",
    "You will be given the asset for free, allowed to hold it indefinitely, and keeping all payoffs.\n",
    "\n",
    "Also assume the assets' payoffs are distributed as follows:\n",
    "\n",
    "1. Normal with $ \\mu = 10, \\sigma = 5 $  \n",
    "1. Gamma with $ k = 5.3, \\theta = 2 $  \n",
    "1. Gamma with $ k = 5, \\theta = 2 $  \n",
    "\n",
    "\n",
    "Use `scipy.stats` to answer the following questions:\n",
    "\n",
    "- Which asset has the highest average returns?  \n",
    "- Which asset has the highest median returns?  \n",
    "- Which asset has the lowest coefficient of variation (standard deviation divided by mean)?  \n",
    "- Which asset would you choose? Why? (Hint: There is not a single right answer here. Be creative\n",
    "  and express your preferences)  "
   ]
  },
  {
   "cell_type": "code",
   "execution_count": 21,
   "id": "980a91b1-98d5-4f89-b10d-f27320f41607",
   "metadata": {
    "hide-output": false
   },
   "outputs": [],
   "source": [
    "# your code here"
   ]
  },
  {
   "cell_type": "markdown",
   "id": "70acfbc4-c5d6-4964-9f8f-425edca4bb25",
   "metadata": {},
   "source": [
    "([*back to text*](#exercise-3))"
   ]
  },
  {
   "cell_type": "markdown",
   "id": "49a43fbc-3fc8-4401-bdba-6641c1a55272",
   "metadata": {},
   "source": [
    "### Pandas\n",
    "\n",
    "### Intro"
   ]
  },
  {
   "cell_type": "markdown",
   "id": "1b900b96-4fb3-45db-8cec-4d053151bc74",
   "metadata": {},
   "source": [
    "## Exercises\n",
    "\n",
    "\n",
    "<a id='exerciselist-0'></a>\n",
    "**Exercise 1**\n",
    "\n",
    "For each of the following exercises, we recommend reading the documentation\n",
    "for help.\n",
    "\n",
    "- Display only the first 2 elements of the Series using the `.head` method.  \n",
    "- Using the `plot` method, make a bar plot.  \n",
    "- Use `.loc` to select the lowest/highest unemployment rate shown in the Series.  \n",
    "- Run the code `unemp.dtype` below. What does it give you? Where do you think it comes from?  \n",
    "\n",
    "\n",
    "([*back to text*](#exercise-0))\n",
    "\n",
    "**Exercise 2**\n",
    "\n",
    "For each of the following, we recommend reading the documentation for help.\n",
    "\n",
    "- Use introspection (or google-fu) to find a way to obtain a list with\n",
    "  all of the column names in `unemp_region`.  \n",
    "- Using the `plot` method, make a bar plot. What does it look like\n",
    "  now?  \n",
    "- Use `.loc` to select the the unemployment data for the\n",
    "  `NorthEast` and `West` for the years 1995, 2005, 2011, and 2015.  \n",
    "- Run the code `unemp_region.dtypes` below. What does it give you?\n",
    "  How does this compare with `unemp.dtype`?  \n",
    "\n",
    "\n",
    "([*back to text*](#exercise-1))"
   ]
  },
  {
   "cell_type": "markdown",
   "id": "cf2d01f2-d620-4944-a29f-bcaff5e74a57",
   "metadata": {},
   "source": [
    "### BASICS"
   ]
  },
  {
   "cell_type": "markdown",
   "id": "5cc55b50-ff5d-4129-adba-d70838473c1a",
   "metadata": {},
   "source": [
    "## Exercises\n",
    "\n",
    "\n",
    "<a id='exerciselist-0'></a>\n",
    "**Exercise 1**\n",
    "\n",
    "Looking at the displayed DataFrame above, can you identify the index? The columns?\n",
    "\n",
    "You can use the cell below to verify your visual intuition."
   ]
  },
  {
   "cell_type": "code",
   "execution_count": 39,
   "id": "7f32706f-d195-4aac-afe4-d35c6c5d2615",
   "metadata": {
    "hide-output": false
   },
   "outputs": [],
   "source": [
    "# your code here"
   ]
  },
  {
   "cell_type": "markdown",
   "id": "c479fb12-3d79-4513-a68e-58ab397ab3e2",
   "metadata": {},
   "source": [
    "([*back to text*](#exercise-0))\n",
    "\n",
    "**Exercise 2**\n",
    "\n",
    "Do the following exercises in separate code cells below:\n",
    "\n",
    "- At each date, what is the minimum unemployment rate across all states\n",
    "  in our sample?  \n",
    "- What was the median unemployment rate in each state?  \n",
    "- What was the maximum unemployment rate across the states in our\n",
    "  sample? What state did it happen in? In what month/year was this\n",
    "  achieved?  \n",
    "  - Hint 1: What Python type (not `dtype`) is returned by the\n",
    "    aggregation?  \n",
    "  - Hint 2: Read documentation for the method `idxmax`  \n",
    "- Classify each state as high or low volatility based on whether the\n",
    "  variance of their unemployment is above or below 4.  "
   ]
  },
  {
   "cell_type": "code",
   "execution_count": 40,
   "id": "7d35cab3-09f8-44f7-a3e3-6c9aea456967",
   "metadata": {
    "hide-output": false
   },
   "outputs": [],
   "source": [
    "# min unemployment rate by state"
   ]
  },
  {
   "cell_type": "code",
   "execution_count": 41,
   "id": "f1ca7b3b-f1b9-48d2-8762-61cd129b00f3",
   "metadata": {
    "hide-output": false
   },
   "outputs": [],
   "source": [
    "# median unemployment rate by state"
   ]
  },
  {
   "cell_type": "code",
   "execution_count": 42,
   "id": "e2a215c0-d62e-410a-a5c8-2967e6881521",
   "metadata": {
    "hide-output": false
   },
   "outputs": [],
   "source": [
    "# max unemployment rate across all states and Year"
   ]
  },
  {
   "cell_type": "code",
   "execution_count": 43,
   "id": "7c914c80-7234-4abd-a4a5-ecc110dadba9",
   "metadata": {
    "hide-output": false
   },
   "outputs": [],
   "source": [
    "# low or high volatility"
   ]
  },
  {
   "cell_type": "markdown",
   "id": "b48232ff-eb3c-43b4-9e7a-be6ed55b86ff",
   "metadata": {},
   "source": [
    "([*back to text*](#exercise-1))\n",
    "\n",
    "**Exercise 3**\n",
    "\n",
    "Imagine that we want to determine whether unemployment was high (> 6.5),\n",
    "medium (4.5 < x <= 6.5), or low (<= 4.5) for each state and each month.\n",
    "\n",
    "1. Write a Python function that takes a single number as an input and\n",
    "  outputs a single string noting if that number is high, medium, or low.  \n",
    "1. Pass your function to `applymap` (quiz: why `applymap` and not\n",
    "  `agg` or `apply`?) and save the result in a new DataFrame called\n",
    "  `unemp_bins`.  \n",
    "1. (Challenging) This exercise has multiple parts:  \n",
    "  1. Use another transform on `unemp_bins` to count how many\n",
    "    times each state had each of the three classifications.  \n",
    "    - Hint 1: Will this value counting function be a Series or scalar\n",
    "      transform?  \n",
    "    - Hint 2: Try googling \"pandas count unique value\" or something\n",
    "      similar to find the right transform.  \n",
    "  1. Construct a horizontal bar chart of the number of occurrences of\n",
    "    each level with one bar per state and classification (21 total\n",
    "    bars).  \n",
    "1. (Challenging) Repeat the previous step, but count how many states had\n",
    "  each classification in each month. Which month had the most states\n",
    "  with high unemployment? What about medium and low?  "
   ]
  },
  {
   "cell_type": "code",
   "execution_count": 44,
   "id": "b02e6588-3a15-4e7c-90a9-7ac32f9bce26",
   "metadata": {
    "hide-output": false
   },
   "outputs": [],
   "source": [
    "# Part 1: Write a Python function to classify unemployment levels."
   ]
  },
  {
   "cell_type": "code",
   "execution_count": 45,
   "id": "b6c40dbc-3e24-4087-a2d0-195d00d6d26b",
   "metadata": {
    "hide-output": false
   },
   "outputs": [],
   "source": [
    "# Part 2: Pass your function from part 1 to applymap\n",
    "unemp_bins = unemp.applymap#replace this comment with your code!!"
   ]
  },
  {
   "cell_type": "code",
   "execution_count": 46,
   "id": "95678fdd-3595-4187-b864-0c05f8db0ba7",
   "metadata": {
    "hide-output": false
   },
   "outputs": [],
   "source": [
    "# Part 3: Count the number of times each state had each classification.\n",
    "\n",
    "## then make a horizontal bar chart here"
   ]
  },
  {
   "cell_type": "code",
   "execution_count": 47,
   "id": "97036cc0-b604-4c85-b3a5-8c3cd6fd4c6e",
   "metadata": {
    "hide-output": false
   },
   "outputs": [],
   "source": [
    "# Part 4: Apply the same transform from part 4, but to each date instead of to each state."
   ]
  },
  {
   "cell_type": "markdown",
   "id": "ae592249-e3e0-4f77-9982-260380c51578",
   "metadata": {},
   "source": [
    "([*back to text*](#exercise-2))\n",
    "\n",
    "**Exercise 4**\n",
    "\n",
    "- For a single state of your choice, determine what the mean\n",
    "  unemployment is during \"Low\", \"Medium\", and \"High\" unemployment times\n",
    "  (recall your `unemp_bins` DataFrame from the exercise above).  \n",
    "  - Think about how you would do this for all the\n",
    "    states in our sample and write your thoughts... We will soon\n",
    "    learn tools that will *greatly* simplify operations like\n",
    "    this that operate on distinct *groups* of data at a time.  \n",
    "- Which states in our sample performs the best during \"bad times?\" To\n",
    "  determine this, compute the mean unemployment for each state only for\n",
    "  months in which the mean unemployment rate in our sample is greater\n",
    "  than 7.  \n",
    "\n",
    "\n",
    "([*back to text*](#exercise-3))"
   ]
  },
  {
   "cell_type": "markdown",
   "id": "dd93e732-50b2-4d8a-a8a6-0cf8276bb9c0",
   "metadata": {},
   "source": [
    "### tHE INDEX"
   ]
  },
  {
   "cell_type": "markdown",
   "id": "9effbc84-1122-46fa-9f91-8b3737ceb69a",
   "metadata": {},
   "source": [
    "## Exercises\n",
    "\n",
    "\n",
    "<a id='exerciselist-0'></a>\n",
    "**Exercise 1**\n",
    "\n",
    "What happens when you apply the `mean` method to `im_ex_tiny`?\n",
    "\n",
    "In particular, what happens to columns that have missing data? (HINT:\n",
    "also looking at the output of the `sum` method might help)\n",
    "\n",
    "([*back to text*](#exercise-0))\n",
    "\n",
    "**Exercise 2**\n",
    "\n",
    "For each of the examples below do the following:\n",
    "\n",
    "- Determine which of the rules above applies.  \n",
    "- Identify the `type` of the returned value.  \n",
    "- Explain why the slicing operation returned the data it did.  \n",
    "\n",
    "\n",
    "Write your answers."
   ]
  },
  {
   "cell_type": "code",
   "execution_count": 29,
   "id": "53239568-9570-4c5e-8051-d8ece40c7c80",
   "metadata": {
    "hide-output": false
   },
   "outputs": [
    {
     "data": {
      "text/html": [
       "<div>\n",
       "<style scoped>\n",
       "    .dataframe tbody tr th:only-of-type {\n",
       "        vertical-align: middle;\n",
       "    }\n",
       "\n",
       "    .dataframe tbody tr th {\n",
       "        vertical-align: top;\n",
       "    }\n",
       "\n",
       "    .dataframe thead th {\n",
       "        text-align: right;\n",
       "    }\n",
       "</style>\n",
       "<table border=\"1\" class=\"dataframe\">\n",
       "  <thead>\n",
       "    <tr style=\"text-align: right;\">\n",
       "      <th></th>\n",
       "      <th></th>\n",
       "      <th>GovExpend</th>\n",
       "      <th>Consumption</th>\n",
       "      <th>Exports</th>\n",
       "      <th>Imports</th>\n",
       "      <th>GDP</th>\n",
       "    </tr>\n",
       "    <tr>\n",
       "      <th>country</th>\n",
       "      <th>year</th>\n",
       "      <th></th>\n",
       "      <th></th>\n",
       "      <th></th>\n",
       "      <th></th>\n",
       "      <th></th>\n",
       "    </tr>\n",
       "  </thead>\n",
       "  <tbody>\n",
       "    <tr>\n",
       "      <th rowspan=\"18\" valign=\"top\">Canada</th>\n",
       "      <th>2017</th>\n",
       "      <td>0.372665</td>\n",
       "      <td>1.095475</td>\n",
       "      <td>0.582831</td>\n",
       "      <td>0.600031</td>\n",
       "      <td>1.868164</td>\n",
       "    </tr>\n",
       "    <tr>\n",
       "      <th>2016</th>\n",
       "      <td>0.364899</td>\n",
       "      <td>1.058426</td>\n",
       "      <td>0.576394</td>\n",
       "      <td>0.575775</td>\n",
       "      <td>1.814016</td>\n",
       "    </tr>\n",
       "    <tr>\n",
       "      <th>2015</th>\n",
       "      <td>0.358303</td>\n",
       "      <td>1.035208</td>\n",
       "      <td>0.568859</td>\n",
       "      <td>0.575793</td>\n",
       "      <td>1.794270</td>\n",
       "    </tr>\n",
       "    <tr>\n",
       "      <th>2014</th>\n",
       "      <td>0.353485</td>\n",
       "      <td>1.011988</td>\n",
       "      <td>0.550323</td>\n",
       "      <td>0.572344</td>\n",
       "      <td>1.782252</td>\n",
       "    </tr>\n",
       "    <tr>\n",
       "      <th>2013</th>\n",
       "      <td>0.351541</td>\n",
       "      <td>0.986400</td>\n",
       "      <td>0.518040</td>\n",
       "      <td>0.558636</td>\n",
       "      <td>1.732714</td>\n",
       "    </tr>\n",
       "    <tr>\n",
       "      <th>2012</th>\n",
       "      <td>0.354342</td>\n",
       "      <td>0.961226</td>\n",
       "      <td>0.505969</td>\n",
       "      <td>0.547756</td>\n",
       "      <td>1.693428</td>\n",
       "    </tr>\n",
       "    <tr>\n",
       "      <th>2011</th>\n",
       "      <td>0.351887</td>\n",
       "      <td>0.943145</td>\n",
       "      <td>0.492349</td>\n",
       "      <td>0.528227</td>\n",
       "      <td>1.664240</td>\n",
       "    </tr>\n",
       "    <tr>\n",
       "      <th>2010</th>\n",
       "      <td>0.347332</td>\n",
       "      <td>0.921952</td>\n",
       "      <td>0.469949</td>\n",
       "      <td>0.500341</td>\n",
       "      <td>1.613543</td>\n",
       "    </tr>\n",
       "    <tr>\n",
       "      <th>2009</th>\n",
       "      <td>0.339686</td>\n",
       "      <td>0.890078</td>\n",
       "      <td>0.440692</td>\n",
       "      <td>0.439796</td>\n",
       "      <td>1.565291</td>\n",
       "    </tr>\n",
       "    <tr>\n",
       "      <th>2008</th>\n",
       "      <td>0.330766</td>\n",
       "      <td>0.889602</td>\n",
       "      <td>0.506350</td>\n",
       "      <td>0.502281</td>\n",
       "      <td>1.612862</td>\n",
       "    </tr>\n",
       "    <tr>\n",
       "      <th>2007</th>\n",
       "      <td>0.318777</td>\n",
       "      <td>0.864012</td>\n",
       "      <td>0.530453</td>\n",
       "      <td>0.498002</td>\n",
       "      <td>1.596876</td>\n",
       "    </tr>\n",
       "    <tr>\n",
       "      <th>2006</th>\n",
       "      <td>0.311382</td>\n",
       "      <td>0.827643</td>\n",
       "      <td>0.524461</td>\n",
       "      <td>0.470931</td>\n",
       "      <td>1.564608</td>\n",
       "    </tr>\n",
       "    <tr>\n",
       "      <th>2005</th>\n",
       "      <td>0.303043</td>\n",
       "      <td>0.794390</td>\n",
       "      <td>0.519950</td>\n",
       "      <td>0.447222</td>\n",
       "      <td>1.524608</td>\n",
       "    </tr>\n",
       "    <tr>\n",
       "      <th>2004</th>\n",
       "      <td>0.299854</td>\n",
       "      <td>0.764357</td>\n",
       "      <td>0.508657</td>\n",
       "      <td>0.416754</td>\n",
       "      <td>1.477317</td>\n",
       "    </tr>\n",
       "    <tr>\n",
       "      <th>2003</th>\n",
       "      <td>0.294335</td>\n",
       "      <td>0.741796</td>\n",
       "      <td>0.481993</td>\n",
       "      <td>0.384199</td>\n",
       "      <td>1.433089</td>\n",
       "    </tr>\n",
       "    <tr>\n",
       "      <th>2002</th>\n",
       "      <td>0.286094</td>\n",
       "      <td>0.721974</td>\n",
       "      <td>0.490465</td>\n",
       "      <td>0.368615</td>\n",
       "      <td>1.407725</td>\n",
       "    </tr>\n",
       "    <tr>\n",
       "      <th>2001</th>\n",
       "      <td>0.279767</td>\n",
       "      <td>0.694230</td>\n",
       "      <td>0.484696</td>\n",
       "      <td>0.362023</td>\n",
       "      <td>1.366590</td>\n",
       "    </tr>\n",
       "    <tr>\n",
       "      <th>2000</th>\n",
       "      <td>0.270553</td>\n",
       "      <td>0.677713</td>\n",
       "      <td>0.499526</td>\n",
       "      <td>0.380823</td>\n",
       "      <td>1.342805</td>\n",
       "    </tr>\n",
       "    <tr>\n",
       "      <th rowspan=\"18\" valign=\"top\">United States</th>\n",
       "      <th>2017</th>\n",
       "      <td>2.405743</td>\n",
       "      <td>12.019266</td>\n",
       "      <td>2.287071</td>\n",
       "      <td>3.069954</td>\n",
       "      <td>17.348627</td>\n",
       "    </tr>\n",
       "    <tr>\n",
       "      <th>2016</th>\n",
       "      <td>2.407981</td>\n",
       "      <td>11.722133</td>\n",
       "      <td>2.219937</td>\n",
       "      <td>2.936004</td>\n",
       "      <td>16.972348</td>\n",
       "    </tr>\n",
       "    <tr>\n",
       "      <th>2015</th>\n",
       "      <td>2.373130</td>\n",
       "      <td>11.409800</td>\n",
       "      <td>2.222228</td>\n",
       "      <td>2.881337</td>\n",
       "      <td>16.710459</td>\n",
       "    </tr>\n",
       "    <tr>\n",
       "      <th>2014</th>\n",
       "      <td>2.334071</td>\n",
       "      <td>11.000619</td>\n",
       "      <td>2.209555</td>\n",
       "      <td>2.732228</td>\n",
       "      <td>16.242526</td>\n",
       "    </tr>\n",
       "    <tr>\n",
       "      <th>2013</th>\n",
       "      <td>2.353381</td>\n",
       "      <td>10.687214</td>\n",
       "      <td>2.118639</td>\n",
       "      <td>2.600198</td>\n",
       "      <td>15.853796</td>\n",
       "    </tr>\n",
       "    <tr>\n",
       "      <th>2012</th>\n",
       "      <td>2.398873</td>\n",
       "      <td>10.534042</td>\n",
       "      <td>2.045509</td>\n",
       "      <td>2.560677</td>\n",
       "      <td>15.567038</td>\n",
       "    </tr>\n",
       "    <tr>\n",
       "      <th>2011</th>\n",
       "      <td>2.434378</td>\n",
       "      <td>10.378060</td>\n",
       "      <td>1.978083</td>\n",
       "      <td>2.493194</td>\n",
       "      <td>15.224555</td>\n",
       "    </tr>\n",
       "    <tr>\n",
       "      <th>2010</th>\n",
       "      <td>2.510143</td>\n",
       "      <td>10.185836</td>\n",
       "      <td>1.846280</td>\n",
       "      <td>2.360183</td>\n",
       "      <td>14.992053</td>\n",
       "    </tr>\n",
       "    <tr>\n",
       "      <th>2009</th>\n",
       "      <td>2.507390</td>\n",
       "      <td>10.010687</td>\n",
       "      <td>1.646432</td>\n",
       "      <td>2.086299</td>\n",
       "      <td>14.617299</td>\n",
       "    </tr>\n",
       "    <tr>\n",
       "      <th>2008</th>\n",
       "      <td>2.407771</td>\n",
       "      <td>10.137847</td>\n",
       "      <td>1.797347</td>\n",
       "      <td>2.400349</td>\n",
       "      <td>14.997756</td>\n",
       "    </tr>\n",
       "    <tr>\n",
       "      <th>2007</th>\n",
       "      <td>2.351987</td>\n",
       "      <td>10.159387</td>\n",
       "      <td>1.701096</td>\n",
       "      <td>2.455016</td>\n",
       "      <td>15.018268</td>\n",
       "    </tr>\n",
       "    <tr>\n",
       "      <th>2006</th>\n",
       "      <td>2.314957</td>\n",
       "      <td>9.938503</td>\n",
       "      <td>1.564920</td>\n",
       "      <td>2.395189</td>\n",
       "      <td>14.741688</td>\n",
       "    </tr>\n",
       "    <tr>\n",
       "      <th>2005</th>\n",
       "      <td>2.287022</td>\n",
       "      <td>9.643098</td>\n",
       "      <td>1.431205</td>\n",
       "      <td>2.246246</td>\n",
       "      <td>14.332500</td>\n",
       "    </tr>\n",
       "    <tr>\n",
       "      <th>2004</th>\n",
       "      <td>2.267999</td>\n",
       "      <td>9.311431</td>\n",
       "      <td>1.335978</td>\n",
       "      <td>2.108585</td>\n",
       "      <td>13.846058</td>\n",
       "    </tr>\n",
       "    <tr>\n",
       "      <th>2003</th>\n",
       "      <td>2.233519</td>\n",
       "      <td>8.974708</td>\n",
       "      <td>1.218199</td>\n",
       "      <td>1.892825</td>\n",
       "      <td>13.339312</td>\n",
       "    </tr>\n",
       "    <tr>\n",
       "      <th>2002</th>\n",
       "      <td>2.193188</td>\n",
       "      <td>8.698306</td>\n",
       "      <td>1.192180</td>\n",
       "      <td>1.804105</td>\n",
       "      <td>12.968263</td>\n",
       "    </tr>\n",
       "    <tr>\n",
       "      <th>2001</th>\n",
       "      <td>2.112038</td>\n",
       "      <td>8.480461</td>\n",
       "      <td>1.213253</td>\n",
       "      <td>1.740797</td>\n",
       "      <td>12.746262</td>\n",
       "    </tr>\n",
       "    <tr>\n",
       "      <th>2000</th>\n",
       "      <td>2.040500</td>\n",
       "      <td>8.272097</td>\n",
       "      <td>1.287739</td>\n",
       "      <td>1.790995</td>\n",
       "      <td>12.620268</td>\n",
       "    </tr>\n",
       "  </tbody>\n",
       "</table>\n",
       "</div>"
      ],
      "text/plain": [
       "                    GovExpend  Consumption   Exports   Imports        GDP\n",
       "country       year                                                       \n",
       "Canada        2017   0.372665     1.095475  0.582831  0.600031   1.868164\n",
       "              2016   0.364899     1.058426  0.576394  0.575775   1.814016\n",
       "              2015   0.358303     1.035208  0.568859  0.575793   1.794270\n",
       "              2014   0.353485     1.011988  0.550323  0.572344   1.782252\n",
       "              2013   0.351541     0.986400  0.518040  0.558636   1.732714\n",
       "              2012   0.354342     0.961226  0.505969  0.547756   1.693428\n",
       "              2011   0.351887     0.943145  0.492349  0.528227   1.664240\n",
       "              2010   0.347332     0.921952  0.469949  0.500341   1.613543\n",
       "              2009   0.339686     0.890078  0.440692  0.439796   1.565291\n",
       "              2008   0.330766     0.889602  0.506350  0.502281   1.612862\n",
       "              2007   0.318777     0.864012  0.530453  0.498002   1.596876\n",
       "              2006   0.311382     0.827643  0.524461  0.470931   1.564608\n",
       "              2005   0.303043     0.794390  0.519950  0.447222   1.524608\n",
       "              2004   0.299854     0.764357  0.508657  0.416754   1.477317\n",
       "              2003   0.294335     0.741796  0.481993  0.384199   1.433089\n",
       "              2002   0.286094     0.721974  0.490465  0.368615   1.407725\n",
       "              2001   0.279767     0.694230  0.484696  0.362023   1.366590\n",
       "              2000   0.270553     0.677713  0.499526  0.380823   1.342805\n",
       "United States 2017   2.405743    12.019266  2.287071  3.069954  17.348627\n",
       "              2016   2.407981    11.722133  2.219937  2.936004  16.972348\n",
       "              2015   2.373130    11.409800  2.222228  2.881337  16.710459\n",
       "              2014   2.334071    11.000619  2.209555  2.732228  16.242526\n",
       "              2013   2.353381    10.687214  2.118639  2.600198  15.853796\n",
       "              2012   2.398873    10.534042  2.045509  2.560677  15.567038\n",
       "              2011   2.434378    10.378060  1.978083  2.493194  15.224555\n",
       "              2010   2.510143    10.185836  1.846280  2.360183  14.992053\n",
       "              2009   2.507390    10.010687  1.646432  2.086299  14.617299\n",
       "              2008   2.407771    10.137847  1.797347  2.400349  14.997756\n",
       "              2007   2.351987    10.159387  1.701096  2.455016  15.018268\n",
       "              2006   2.314957     9.938503  1.564920  2.395189  14.741688\n",
       "              2005   2.287022     9.643098  1.431205  2.246246  14.332500\n",
       "              2004   2.267999     9.311431  1.335978  2.108585  13.846058\n",
       "              2003   2.233519     8.974708  1.218199  1.892825  13.339312\n",
       "              2002   2.193188     8.698306  1.192180  1.804105  12.968263\n",
       "              2001   2.112038     8.480461  1.213253  1.740797  12.746262\n",
       "              2000   2.040500     8.272097  1.287739  1.790995  12.620268"
      ]
     },
     "execution_count": 29,
     "metadata": {},
     "output_type": "execute_result"
    }
   ],
   "source": [
    "wdi.loc[[\"United States\", \"Canada\"]]"
   ]
  },
  {
   "cell_type": "code",
   "execution_count": 30,
   "id": "35437102-5e5f-41ab-90b0-ae5a707f0156",
   "metadata": {
    "hide-output": false
   },
   "outputs": [
    {
     "data": {
      "text/html": [
       "<div>\n",
       "<style scoped>\n",
       "    .dataframe tbody tr th:only-of-type {\n",
       "        vertical-align: middle;\n",
       "    }\n",
       "\n",
       "    .dataframe tbody tr th {\n",
       "        vertical-align: top;\n",
       "    }\n",
       "\n",
       "    .dataframe thead th {\n",
       "        text-align: right;\n",
       "    }\n",
       "</style>\n",
       "<table border=\"1\" class=\"dataframe\">\n",
       "  <thead>\n",
       "    <tr style=\"text-align: right;\">\n",
       "      <th></th>\n",
       "      <th></th>\n",
       "      <th>GovExpend</th>\n",
       "      <th>Consumption</th>\n",
       "      <th>Exports</th>\n",
       "      <th>Imports</th>\n",
       "      <th>GDP</th>\n",
       "    </tr>\n",
       "    <tr>\n",
       "      <th>country</th>\n",
       "      <th>year</th>\n",
       "      <th></th>\n",
       "      <th></th>\n",
       "      <th></th>\n",
       "      <th></th>\n",
       "      <th></th>\n",
       "    </tr>\n",
       "  </thead>\n",
       "  <tbody>\n",
       "    <tr>\n",
       "      <th rowspan=\"3\" valign=\"top\">Canada</th>\n",
       "      <th>2012</th>\n",
       "      <td>0.354342</td>\n",
       "      <td>0.961226</td>\n",
       "      <td>0.505969</td>\n",
       "      <td>0.547756</td>\n",
       "      <td>1.693428</td>\n",
       "    </tr>\n",
       "    <tr>\n",
       "      <th>2011</th>\n",
       "      <td>0.351887</td>\n",
       "      <td>0.943145</td>\n",
       "      <td>0.492349</td>\n",
       "      <td>0.528227</td>\n",
       "      <td>1.664240</td>\n",
       "    </tr>\n",
       "    <tr>\n",
       "      <th>2010</th>\n",
       "      <td>0.347332</td>\n",
       "      <td>0.921952</td>\n",
       "      <td>0.469949</td>\n",
       "      <td>0.500341</td>\n",
       "      <td>1.613543</td>\n",
       "    </tr>\n",
       "    <tr>\n",
       "      <th rowspan=\"3\" valign=\"top\">United States</th>\n",
       "      <th>2012</th>\n",
       "      <td>2.398873</td>\n",
       "      <td>10.534042</td>\n",
       "      <td>2.045509</td>\n",
       "      <td>2.560677</td>\n",
       "      <td>15.567038</td>\n",
       "    </tr>\n",
       "    <tr>\n",
       "      <th>2011</th>\n",
       "      <td>2.434378</td>\n",
       "      <td>10.378060</td>\n",
       "      <td>1.978083</td>\n",
       "      <td>2.493194</td>\n",
       "      <td>15.224555</td>\n",
       "    </tr>\n",
       "    <tr>\n",
       "      <th>2010</th>\n",
       "      <td>2.510143</td>\n",
       "      <td>10.185836</td>\n",
       "      <td>1.846280</td>\n",
       "      <td>2.360183</td>\n",
       "      <td>14.992053</td>\n",
       "    </tr>\n",
       "  </tbody>\n",
       "</table>\n",
       "</div>"
      ],
      "text/plain": [
       "                    GovExpend  Consumption   Exports   Imports        GDP\n",
       "country       year                                                       \n",
       "Canada        2012   0.354342     0.961226  0.505969  0.547756   1.693428\n",
       "              2011   0.351887     0.943145  0.492349  0.528227   1.664240\n",
       "              2010   0.347332     0.921952  0.469949  0.500341   1.613543\n",
       "United States 2012   2.398873    10.534042  2.045509  2.560677  15.567038\n",
       "              2011   2.434378    10.378060  1.978083  2.493194  15.224555\n",
       "              2010   2.510143    10.185836  1.846280  2.360183  14.992053"
      ]
     },
     "execution_count": 30,
     "metadata": {},
     "output_type": "execute_result"
    }
   ],
   "source": [
    "wdi.loc[([\"United States\", \"Canada\"], [2010, 2011, 2012]), :]"
   ]
  },
  {
   "cell_type": "code",
   "execution_count": 31,
   "id": "856ad5f8-941a-4c61-8cf9-f1af138bd95e",
   "metadata": {
    "hide-output": false
   },
   "outputs": [
    {
     "data": {
      "text/html": [
       "<div>\n",
       "<style scoped>\n",
       "    .dataframe tbody tr th:only-of-type {\n",
       "        vertical-align: middle;\n",
       "    }\n",
       "\n",
       "    .dataframe tbody tr th {\n",
       "        vertical-align: top;\n",
       "    }\n",
       "\n",
       "    .dataframe thead th {\n",
       "        text-align: right;\n",
       "    }\n",
       "</style>\n",
       "<table border=\"1\" class=\"dataframe\">\n",
       "  <thead>\n",
       "    <tr style=\"text-align: right;\">\n",
       "      <th></th>\n",
       "      <th>GovExpend</th>\n",
       "      <th>Consumption</th>\n",
       "      <th>Exports</th>\n",
       "      <th>Imports</th>\n",
       "      <th>GDP</th>\n",
       "    </tr>\n",
       "    <tr>\n",
       "      <th>year</th>\n",
       "      <th></th>\n",
       "      <th></th>\n",
       "      <th></th>\n",
       "      <th></th>\n",
       "      <th></th>\n",
       "    </tr>\n",
       "  </thead>\n",
       "  <tbody>\n",
       "    <tr>\n",
       "      <th>2017</th>\n",
       "      <td>2.405743</td>\n",
       "      <td>12.019266</td>\n",
       "      <td>2.287071</td>\n",
       "      <td>3.069954</td>\n",
       "      <td>17.348627</td>\n",
       "    </tr>\n",
       "    <tr>\n",
       "      <th>2016</th>\n",
       "      <td>2.407981</td>\n",
       "      <td>11.722133</td>\n",
       "      <td>2.219937</td>\n",
       "      <td>2.936004</td>\n",
       "      <td>16.972348</td>\n",
       "    </tr>\n",
       "    <tr>\n",
       "      <th>2015</th>\n",
       "      <td>2.373130</td>\n",
       "      <td>11.409800</td>\n",
       "      <td>2.222228</td>\n",
       "      <td>2.881337</td>\n",
       "      <td>16.710459</td>\n",
       "    </tr>\n",
       "    <tr>\n",
       "      <th>2014</th>\n",
       "      <td>2.334071</td>\n",
       "      <td>11.000619</td>\n",
       "      <td>2.209555</td>\n",
       "      <td>2.732228</td>\n",
       "      <td>16.242526</td>\n",
       "    </tr>\n",
       "    <tr>\n",
       "      <th>2013</th>\n",
       "      <td>2.353381</td>\n",
       "      <td>10.687214</td>\n",
       "      <td>2.118639</td>\n",
       "      <td>2.600198</td>\n",
       "      <td>15.853796</td>\n",
       "    </tr>\n",
       "    <tr>\n",
       "      <th>2012</th>\n",
       "      <td>2.398873</td>\n",
       "      <td>10.534042</td>\n",
       "      <td>2.045509</td>\n",
       "      <td>2.560677</td>\n",
       "      <td>15.567038</td>\n",
       "    </tr>\n",
       "    <tr>\n",
       "      <th>2011</th>\n",
       "      <td>2.434378</td>\n",
       "      <td>10.378060</td>\n",
       "      <td>1.978083</td>\n",
       "      <td>2.493194</td>\n",
       "      <td>15.224555</td>\n",
       "    </tr>\n",
       "    <tr>\n",
       "      <th>2010</th>\n",
       "      <td>2.510143</td>\n",
       "      <td>10.185836</td>\n",
       "      <td>1.846280</td>\n",
       "      <td>2.360183</td>\n",
       "      <td>14.992053</td>\n",
       "    </tr>\n",
       "    <tr>\n",
       "      <th>2009</th>\n",
       "      <td>2.507390</td>\n",
       "      <td>10.010687</td>\n",
       "      <td>1.646432</td>\n",
       "      <td>2.086299</td>\n",
       "      <td>14.617299</td>\n",
       "    </tr>\n",
       "    <tr>\n",
       "      <th>2008</th>\n",
       "      <td>2.407771</td>\n",
       "      <td>10.137847</td>\n",
       "      <td>1.797347</td>\n",
       "      <td>2.400349</td>\n",
       "      <td>14.997756</td>\n",
       "    </tr>\n",
       "    <tr>\n",
       "      <th>2007</th>\n",
       "      <td>2.351987</td>\n",
       "      <td>10.159387</td>\n",
       "      <td>1.701096</td>\n",
       "      <td>2.455016</td>\n",
       "      <td>15.018268</td>\n",
       "    </tr>\n",
       "    <tr>\n",
       "      <th>2006</th>\n",
       "      <td>2.314957</td>\n",
       "      <td>9.938503</td>\n",
       "      <td>1.564920</td>\n",
       "      <td>2.395189</td>\n",
       "      <td>14.741688</td>\n",
       "    </tr>\n",
       "    <tr>\n",
       "      <th>2005</th>\n",
       "      <td>2.287022</td>\n",
       "      <td>9.643098</td>\n",
       "      <td>1.431205</td>\n",
       "      <td>2.246246</td>\n",
       "      <td>14.332500</td>\n",
       "    </tr>\n",
       "    <tr>\n",
       "      <th>2004</th>\n",
       "      <td>2.267999</td>\n",
       "      <td>9.311431</td>\n",
       "      <td>1.335978</td>\n",
       "      <td>2.108585</td>\n",
       "      <td>13.846058</td>\n",
       "    </tr>\n",
       "    <tr>\n",
       "      <th>2003</th>\n",
       "      <td>2.233519</td>\n",
       "      <td>8.974708</td>\n",
       "      <td>1.218199</td>\n",
       "      <td>1.892825</td>\n",
       "      <td>13.339312</td>\n",
       "    </tr>\n",
       "    <tr>\n",
       "      <th>2002</th>\n",
       "      <td>2.193188</td>\n",
       "      <td>8.698306</td>\n",
       "      <td>1.192180</td>\n",
       "      <td>1.804105</td>\n",
       "      <td>12.968263</td>\n",
       "    </tr>\n",
       "    <tr>\n",
       "      <th>2001</th>\n",
       "      <td>2.112038</td>\n",
       "      <td>8.480461</td>\n",
       "      <td>1.213253</td>\n",
       "      <td>1.740797</td>\n",
       "      <td>12.746262</td>\n",
       "    </tr>\n",
       "    <tr>\n",
       "      <th>2000</th>\n",
       "      <td>2.040500</td>\n",
       "      <td>8.272097</td>\n",
       "      <td>1.287739</td>\n",
       "      <td>1.790995</td>\n",
       "      <td>12.620268</td>\n",
       "    </tr>\n",
       "  </tbody>\n",
       "</table>\n",
       "</div>"
      ],
      "text/plain": [
       "      GovExpend  Consumption   Exports   Imports        GDP\n",
       "year                                                       \n",
       "2017   2.405743    12.019266  2.287071  3.069954  17.348627\n",
       "2016   2.407981    11.722133  2.219937  2.936004  16.972348\n",
       "2015   2.373130    11.409800  2.222228  2.881337  16.710459\n",
       "2014   2.334071    11.000619  2.209555  2.732228  16.242526\n",
       "2013   2.353381    10.687214  2.118639  2.600198  15.853796\n",
       "2012   2.398873    10.534042  2.045509  2.560677  15.567038\n",
       "2011   2.434378    10.378060  1.978083  2.493194  15.224555\n",
       "2010   2.510143    10.185836  1.846280  2.360183  14.992053\n",
       "2009   2.507390    10.010687  1.646432  2.086299  14.617299\n",
       "2008   2.407771    10.137847  1.797347  2.400349  14.997756\n",
       "2007   2.351987    10.159387  1.701096  2.455016  15.018268\n",
       "2006   2.314957     9.938503  1.564920  2.395189  14.741688\n",
       "2005   2.287022     9.643098  1.431205  2.246246  14.332500\n",
       "2004   2.267999     9.311431  1.335978  2.108585  13.846058\n",
       "2003   2.233519     8.974708  1.218199  1.892825  13.339312\n",
       "2002   2.193188     8.698306  1.192180  1.804105  12.968263\n",
       "2001   2.112038     8.480461  1.213253  1.740797  12.746262\n",
       "2000   2.040500     8.272097  1.287739  1.790995  12.620268"
      ]
     },
     "execution_count": 31,
     "metadata": {},
     "output_type": "execute_result"
    }
   ],
   "source": [
    "wdi.loc[\"United States\"]"
   ]
  },
  {
   "cell_type": "code",
   "execution_count": 32,
   "id": "27cb915c-4a6e-499c-afa6-9767bad2e3ee",
   "metadata": {
    "hide-output": false
   },
   "outputs": [
    {
     "data": {
      "text/plain": [
       "GDP        14.992053\n",
       "Exports     1.846280\n",
       "Name: (United States, 2010), dtype: float64"
      ]
     },
     "execution_count": 32,
     "metadata": {},
     "output_type": "execute_result"
    }
   ],
   "source": [
    "wdi.loc[(\"United States\", 2010), [\"GDP\", \"Exports\"]]"
   ]
  },
  {
   "cell_type": "code",
   "execution_count": 33,
   "id": "f9450ea8-57c0-454e-97fe-c910bed7e411",
   "metadata": {
    "hide-output": false
   },
   "outputs": [
    {
     "data": {
      "text/plain": [
       "GovExpend       2.510143\n",
       "Consumption    10.185836\n",
       "Exports         1.846280\n",
       "Imports         2.360183\n",
       "GDP            14.992053\n",
       "Name: (United States, 2010), dtype: float64"
      ]
     },
     "execution_count": 33,
     "metadata": {},
     "output_type": "execute_result"
    }
   ],
   "source": [
    "wdi.loc[(\"United States\", 2010)]"
   ]
  },
  {
   "cell_type": "code",
   "execution_count": 34,
   "id": "3ac16d97-3d35-4db1-a789-d89854083f66",
   "metadata": {
    "hide-output": false
   },
   "outputs": [
    {
     "data": {
      "text/html": [
       "<div>\n",
       "<style scoped>\n",
       "    .dataframe tbody tr th:only-of-type {\n",
       "        vertical-align: middle;\n",
       "    }\n",
       "\n",
       "    .dataframe tbody tr th {\n",
       "        vertical-align: top;\n",
       "    }\n",
       "\n",
       "    .dataframe thead th {\n",
       "        text-align: right;\n",
       "    }\n",
       "</style>\n",
       "<table border=\"1\" class=\"dataframe\">\n",
       "  <thead>\n",
       "    <tr style=\"text-align: right;\">\n",
       "      <th></th>\n",
       "      <th></th>\n",
       "      <th>GovExpend</th>\n",
       "      <th>Consumption</th>\n",
       "      <th>Exports</th>\n",
       "      <th>Imports</th>\n",
       "      <th>GDP</th>\n",
       "    </tr>\n",
       "    <tr>\n",
       "      <th>country</th>\n",
       "      <th>year</th>\n",
       "      <th></th>\n",
       "      <th></th>\n",
       "      <th></th>\n",
       "      <th></th>\n",
       "      <th></th>\n",
       "    </tr>\n",
       "  </thead>\n",
       "  <tbody>\n",
       "    <tr>\n",
       "      <th>United States</th>\n",
       "      <th>2010</th>\n",
       "      <td>2.510143</td>\n",
       "      <td>10.185836</td>\n",
       "      <td>1.846280</td>\n",
       "      <td>2.360183</td>\n",
       "      <td>14.992053</td>\n",
       "    </tr>\n",
       "    <tr>\n",
       "      <th>Canada</th>\n",
       "      <th>2015</th>\n",
       "      <td>0.358303</td>\n",
       "      <td>1.035208</td>\n",
       "      <td>0.568859</td>\n",
       "      <td>0.575793</td>\n",
       "      <td>1.794270</td>\n",
       "    </tr>\n",
       "  </tbody>\n",
       "</table>\n",
       "</div>"
      ],
      "text/plain": [
       "                    GovExpend  Consumption   Exports   Imports        GDP\n",
       "country       year                                                       \n",
       "United States 2010   2.510143    10.185836  1.846280  2.360183  14.992053\n",
       "Canada        2015   0.358303     1.035208  0.568859  0.575793   1.794270"
      ]
     },
     "execution_count": 34,
     "metadata": {},
     "output_type": "execute_result"
    }
   ],
   "source": [
    "wdi.loc[[(\"United States\", 2010), (\"Canada\", 2015)]]"
   ]
  },
  {
   "cell_type": "code",
   "execution_count": 35,
   "id": "41e3a914-7b15-4547-a3ab-58d3b3c703d0",
   "metadata": {
    "hide-output": false
   },
   "outputs": [
    {
     "data": {
      "text/plain": [
       "country        year\n",
       "Canada         2017     1.868164\n",
       "               2016     1.814016\n",
       "               2015     1.794270\n",
       "               2014     1.782252\n",
       "               2013     1.732714\n",
       "               2012     1.693428\n",
       "               2011     1.664240\n",
       "               2010     1.613543\n",
       "               2009     1.565291\n",
       "               2008     1.612862\n",
       "               2007     1.596876\n",
       "               2006     1.564608\n",
       "               2005     1.524608\n",
       "               2004     1.477317\n",
       "               2003     1.433089\n",
       "               2002     1.407725\n",
       "               2001     1.366590\n",
       "               2000     1.342805\n",
       "United States  2017    17.348627\n",
       "               2016    16.972348\n",
       "               2015    16.710459\n",
       "               2014    16.242526\n",
       "               2013    15.853796\n",
       "               2012    15.567038\n",
       "               2011    15.224555\n",
       "               2010    14.992053\n",
       "               2009    14.617299\n",
       "               2008    14.997756\n",
       "               2007    15.018268\n",
       "               2006    14.741688\n",
       "               2005    14.332500\n",
       "               2004    13.846058\n",
       "               2003    13.339312\n",
       "               2002    12.968263\n",
       "               2001    12.746262\n",
       "               2000    12.620268\n",
       "Name: GDP, dtype: float64"
      ]
     },
     "execution_count": 35,
     "metadata": {},
     "output_type": "execute_result"
    }
   ],
   "source": [
    "wdi.loc[[\"United States\", \"Canada\"], \"GDP\"]"
   ]
  },
  {
   "cell_type": "code",
   "execution_count": 36,
   "id": "d8b7b136-74c9-4d88-814e-488616eed4e6",
   "metadata": {
    "hide-output": false
   },
   "outputs": [
    {
     "data": {
      "text/plain": [
       "year\n",
       "2017    17.348627\n",
       "2016    16.972348\n",
       "2015    16.710459\n",
       "2014    16.242526\n",
       "2013    15.853796\n",
       "2012    15.567038\n",
       "2011    15.224555\n",
       "2010    14.992053\n",
       "2009    14.617299\n",
       "2008    14.997756\n",
       "2007    15.018268\n",
       "2006    14.741688\n",
       "2005    14.332500\n",
       "2004    13.846058\n",
       "2003    13.339312\n",
       "2002    12.968263\n",
       "2001    12.746262\n",
       "2000    12.620268\n",
       "Name: GDP, dtype: float64"
      ]
     },
     "execution_count": 36,
     "metadata": {},
     "output_type": "execute_result"
    }
   ],
   "source": [
    "wdi.loc[\"United States\", \"GDP\"]"
   ]
  },
  {
   "cell_type": "markdown",
   "id": "ebad0a8a-54cc-4619-b473-360ec8c1e5c7",
   "metadata": {},
   "source": [
    "([*back to text*](#exercise-1))\n",
    "\n",
    "**Exercise 3**\n",
    "\n",
    "Try setting `my_df` to some subset of the rows in `wdi` (use one of the\n",
    "`.loc` variations above).\n",
    "\n",
    "Then see what happens when you do `wdi / my_df` or `my_df ** wdi`.\n",
    "\n",
    "Try changing the subset of rows in `my_df` and repeat until you\n",
    "understand what is happening.\n",
    "\n",
    "([*back to text*](#exercise-2))\n",
    "\n",
    "**Exercise 4**\n",
    "\n",
    "Below, we create `wdi2`, which is the same as `df4` except that the\n",
    "levels of the index are swapped.\n",
    "\n",
    "In the cells after `df6` is defined, we have commented out\n",
    "a few of the slicing examples from the previous exercise.\n",
    "\n",
    "For each of these examples, use `pd.IndexSlice` to extract the same\n",
    "data from `df6`.\n",
    "\n",
    "(HINT: You will need to *swap* the order of the row slicing arguments\n",
    "within the `pd.IndexSlice`.)"
   ]
  },
  {
   "cell_type": "code",
   "execution_count": 37,
   "id": "6ef946ca-a6c7-46b4-87d4-75186128231c",
   "metadata": {
    "hide-output": false
   },
   "outputs": [],
   "source": [
    "wdi2 = df.set_index([\"year\", \"country\"])"
   ]
  },
  {
   "cell_type": "code",
   "execution_count": 38,
   "id": "78560d56-855e-41fe-b68e-6710791b55b4",
   "metadata": {
    "hide-output": false
   },
   "outputs": [],
   "source": [
    "# wdi.loc[\"United States\"]"
   ]
  },
  {
   "cell_type": "code",
   "execution_count": 39,
   "id": "860c9218-4f8c-4857-9e29-d71baa07825d",
   "metadata": {
    "hide-output": false
   },
   "outputs": [],
   "source": [
    "# wdi.loc[([\"United States\", \"Canada\"], [2010, 2011, 2012]), :]"
   ]
  },
  {
   "cell_type": "code",
   "execution_count": 40,
   "id": "1cae5ed5-07f3-4d10-a243-1b60081e0d62",
   "metadata": {
    "hide-output": false
   },
   "outputs": [],
   "source": [
    "# wdi.loc[[\"United States\", \"Canada\"], \"GDP\"]"
   ]
  },
  {
   "cell_type": "markdown",
   "id": "993786be-d0c1-43dd-a451-b3fbf3d68e66",
   "metadata": {},
   "source": [
    "([*back to text*](#exercise-3))\n",
    "\n",
    "**Exercise 5**\n",
    "\n",
    "Use `pd.IndexSlice` to extract all data from `wdiT` where the `year`\n",
    "level of the column names (the second level) is one of 2010, 2012, and 2014\n",
    "\n",
    "([*back to text*](#exercise-4))\n",
    "\n",
    "**Exercise 6**\n",
    "\n",
    "Look up the documentation for the `reset_index` method and study it to\n",
    "learn how to do the following:\n",
    "\n",
    "- Move just the `year` level of the index back as a column.  \n",
    "- Completely throw away all levels of the index.  \n",
    "- Remove the `country` of the index and *do not* keep it as a column.  "
   ]
  },
  {
   "cell_type": "code",
   "execution_count": 41,
   "id": "29bfcbf4-48ca-433a-aeb0-a7fa93f900f0",
   "metadata": {
    "hide-output": false
   },
   "outputs": [],
   "source": [
    "# remove just year level and add as column"
   ]
  },
  {
   "cell_type": "code",
   "execution_count": 42,
   "id": "e547bea0-189b-4f93-82af-a56a0b84bcf4",
   "metadata": {
    "hide-output": false
   },
   "outputs": [],
   "source": [
    "# throw away all levels of index"
   ]
  },
  {
   "cell_type": "code",
   "execution_count": 43,
   "id": "7f321bb3-656f-484c-856b-94c7bfb2fc2c",
   "metadata": {
    "hide-output": false
   },
   "outputs": [],
   "source": [
    "# Remove country from the index -- don't keep it as a column"
   ]
  },
  {
   "cell_type": "markdown",
   "id": "bd3c1947-8c9e-4e78-8dea-d9f3f8834de7",
   "metadata": {},
   "source": [
    "([*back to text*](#exercise-5))"
   ]
  },
  {
   "cell_type": "markdown",
   "id": "aada1269-a539-416e-b000-4b47f3428134",
   "metadata": {},
   "source": [
    "## Time Series"
   ]
  },
  {
   "cell_type": "markdown",
   "id": "8fdee03c-fea1-4d0f-8db6-3aea72dab9ce",
   "metadata": {},
   "source": [
    "## Exercises\n",
    "\n",
    "\n",
    "<a id='exerciselist-0'></a>\n",
    "**Exercise 1**\n",
    "\n",
    "By referring to table found at the link above, figure out the correct argument to\n",
    "pass as `format` in order to parse the dates in the next three cells below.\n",
    "\n",
    "Test your work by passing your format string to `pd.to_datetime`."
   ]
  },
  {
   "cell_type": "code",
   "execution_count": 36,
   "id": "704cf98f-d00f-40c6-b39d-f622634df248",
   "metadata": {
    "hide-output": false
   },
   "outputs": [],
   "source": [
    "christmas_str2 = \"2017:12:25\""
   ]
  },
  {
   "cell_type": "code",
   "execution_count": 37,
   "id": "c103434b-78d7-4135-b21d-8562ab8f87b8",
   "metadata": {
    "hide-output": false
   },
   "outputs": [],
   "source": [
    "dbacks_win = \"M:11 D:4 Y:2001 9:15 PM\""
   ]
  },
  {
   "cell_type": "code",
   "execution_count": 38,
   "id": "fb04c51d-6091-428a-bfe2-9cb36399bb3d",
   "metadata": {
    "hide-output": false
   },
   "outputs": [],
   "source": [
    "america_bday = \"America was born on July 4, 1776\""
   ]
  },
  {
   "cell_type": "markdown",
   "id": "ff0b0922-a52b-4317-949b-202313b4e047",
   "metadata": {},
   "source": [
    "([*back to text*](#exercise-0))\n",
    "\n",
    "**Exercise 2**\n",
    "\n",
    "Use `pd.to_datetime` to express the birthday of one of your friends\n",
    "or family members as a `datetime` object.\n",
    "\n",
    "Then use the `strftime` method to write a message of the format:"
   ]
  },
  {
   "cell_type": "markdown",
   "id": "b663320e-7a06-4e1e-84be-52c4edf2056b",
   "metadata": {
    "hide-output": false
   },
   "source": [
    "```python\n",
    "NAME's birthday is June 10, 1989 (a Saturday)\n",
    "```\n"
   ]
  },
  {
   "cell_type": "markdown",
   "id": "684fa536-59c5-42f1-965c-cb90f74fcc94",
   "metadata": {},
   "source": [
    "(where the name and date are replaced by the appropriate values)\n",
    "\n",
    "([*back to text*](#exercise-1))\n",
    "\n",
    "**Exercise 3**\n",
    "\n",
    "For each item in the list, extract the specified data from `btc_usd`:\n",
    "\n",
    "- July 2017 through August 2017 (inclusive)  \n",
    "- April 25, 2015 to June 10, 2016  \n",
    "- October 31, 2017  \n",
    "\n",
    "\n",
    "([*back to text*](#exercise-2))\n",
    "\n",
    "**Exercise 4**\n",
    "\n",
    "Using the `shift` function, determine the week with the largest percent change\n",
    "in the volume of trades (the `\"Volume (BTC)\"` column).\n",
    "\n",
    "Repeat the analysis at the bi-weekly and monthly frequencies.\n",
    "\n",
    "Hint 1: We have data at a *daily* frequency and one week is `7` days.\n",
    "\n",
    "Hint 2: Approximate a month by 30 days."
   ]
  },
  {
   "cell_type": "code",
   "execution_count": 39,
   "id": "a9cadcac-4995-409d-ba48-323f98615bb5",
   "metadata": {
    "hide-output": false
   },
   "outputs": [],
   "source": [
    "# your code here"
   ]
  },
  {
   "cell_type": "markdown",
   "id": "b5992f9e-4204-4b22-87bd-63ec480412fe",
   "metadata": {},
   "source": [
    "([*back to text*](#exercise-3))\n",
    "\n",
    "**Exercise 5**\n",
    "\n",
    "Imagine that you have access to the [DeLorean time machine](https://en.wikipedia.org/wiki/DeLorean_time_machine)\n",
    "from \"Back to the Future\".\n",
    "\n",
    "You are allowed to use the DeLorean only once, subject to the following\n",
    "conditions:\n",
    "\n",
    "- You may travel back to any day in the past.  \n",
    "- On that day, you may purchase one bitcoin *at market open*.  \n",
    "- You can then take the time machine 30 days into the future and sell your bitcoin *at market close*.  \n",
    "- Then you return to the present, pocketing the profits.  \n",
    "\n",
    "\n",
    "How would you pick the day?\n",
    "\n",
    "Think carefully about what you would need to compute to make the\n",
    "optimal choice. Try writing it out in the markdown cell below so you\n",
    "have a clear description of the *want* operator that we will apply after\n",
    "the exercise.\n",
    "\n",
    "(Note: **Don't** look too far below, because in the next non-empty cell\n",
    "we have written out our answer.)\n",
    "\n",
    "To make this decision, we want to know ...\n",
    "\n",
    "**Your answer here**\n",
    "\n",
    "([*back to text*](#exercise-4))\n",
    "\n",
    "**Exercise 6**\n",
    "\n",
    "Do the following:\n",
    "\n",
    "1. Write a pandas function that implements your strategy.  \n",
    "1. Pass it to the `agg` method of `rolling_btc`.  \n",
    "1. Extract the `\"Open\"` column from the result.  \n",
    "1. Find the date associated with the maximum value in that column.  \n",
    "\n",
    "\n",
    "How much money did you make? Compare with your neighbor."
   ]
  },
  {
   "cell_type": "code",
   "execution_count": 40,
   "id": "958a6d10-ace5-48e4-99ec-07e9b960d8b5",
   "metadata": {
    "hide-output": false
   },
   "outputs": [],
   "source": [
    "def daily_value(df):\n",
    "    # DELETE `pass` below and replace it with your code\n",
    "    pass\n",
    "\n",
    "rolling_btc = btc_usd.rolling(\"30d\")\n",
    "\n",
    "# do steps 2-4 here"
   ]
  },
  {
   "cell_type": "markdown",
   "id": "2aecc6a6-f672-48e0-b9fd-979b4b6ee399",
   "metadata": {},
   "source": [
    "([*back to text*](#exercise-5))\n",
    "\n",
    "**Exercise 7**\n",
    "\n",
    "Now suppose you still have access to the DeLorean, but the conditions are\n",
    "slightly different.\n",
    "\n",
    "You may now:\n",
    "\n",
    "- Travel back to the *first day* of any month in the past.  \n",
    "- On that day, you may purchase one bitcoin *at market open*.  \n",
    "- You can then travel to any day *in that month* and sell the bitcoin *at market close*.  \n",
    "- Then return to the present, pocketing the profits.  \n",
    "\n",
    "\n",
    "To which month would you travel? On which day of that month would you return\n",
    "to sell the bitcoin?\n",
    "\n",
    "Discuss with your neighbor what you would need to compute to make the\n",
    "optimal choice. Try writing it out in the markdown cell below so you\n",
    "have a clear description of the *want* operator that we will apply after\n",
    "the exercise.\n",
    "\n",
    "(Note: **Don't** look too many cells below, because we have written out\n",
    "our answer.)\n",
    "\n",
    "To make the optimal decision we need ...\n",
    "\n",
    "**Your answer here**\n",
    "\n",
    "([*back to text*](#exercise-6))\n",
    "\n",
    "**Exercise 8**\n",
    "\n",
    "Do the following:\n",
    "\n",
    "1. Write a pandas function that implements your strategy.  \n",
    "1. Pass it to the `agg` method of `resampled_btc`.  \n",
    "1. Extract the `\"Open\"` column from the result.  \n",
    "1. Find the date associated with the maximum value in that column.  \n",
    "\n",
    "\n",
    "How much money did you make? Compare with your neighbor.\n",
    "\n",
    "Was this strategy more profitable than the previous one? By how much?"
   ]
  },
  {
   "cell_type": "code",
   "execution_count": 41,
   "id": "b6308ad6-fb46-4837-93c7-03b5118b2cfd",
   "metadata": {
    "hide-output": false
   },
   "outputs": [],
   "source": [
    "def monthly_value(df):\n",
    "    # DELETE `pass` below and replace it with your code\n",
    "    pass\n",
    "\n",
    "resampled_btc = btc_usd.resample(\"MS\")\n",
    "\n",
    "# Do steps 2-4 here"
   ]
  }
 ],
 "metadata": {
  "kernelspec": {
   "display_name": "Python 3",
   "language": "python",
   "name": "python3"
  },
  "language_info": {
   "codemirror_mode": {
    "name": "ipython",
    "version": 3
   },
   "file_extension": ".py",
   "mimetype": "text/x-python",
   "name": "python",
   "nbconvert_exporter": "python",
   "pygments_lexer": "ipython3",
   "version": "3.8.5"
  }
 },
 "nbformat": 4,
 "nbformat_minor": 5
}
