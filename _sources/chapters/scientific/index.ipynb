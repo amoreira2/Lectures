{
 "cells": [
  {
   "cell_type": "markdown",
   "metadata": {},
   "source": [
    "# Scientific Computing\n",
    "\n",
    "This section discusses several key aspects of scientific computing that enable modern economics, data science, and statistics.\n",
    "\n",
    "As the size of our data and the complexity of our models have increased (and continue doing so), we have become more reliant on computers to perform computations that we simply cannot do by hand.\n",
    "\n",
    "In this section, we will cover\n",
    "\n",
    "- Python’s main numerical library numpy and how to work with its array type.  \n",
    "- A basic introduction to visualizing data with matplotlib.  \n",
    "- A refresher on some key linear algebra concepts.  \n",
    "- A review of basic probability concepts and how to use simulation in learning economics.  \n",
    "- Using a computer to perform optimization.  \n",
    "\n",
    "\n",
    "Many of the tools learned in this section will continue to show up throughout the\n",
    "[pandas](../pandas/index.ipynb) and [applications](../applications/index.ipynb) sections.\n",
    "\n",
    ">**Note**\n",
    ">\n",
    ">**Warning**: This section has more formal math than the previous material (and there will be more\n",
    "math as you cover certain methods).\n",
    "\n",
    "We expect that students’ mathematical backgrounds will range widely, so for those who have slightly less preparation, please don’t let this scare you.\n",
    "\n",
    "We have found that although understanding these tools will require some extra effort, it will give you a leg up in almost any career you might consider.\n",
    "\n",
    "<div class=\"toctree\">\n",
    "\n",
    "- [Introduction to Numpy](numpy_arrays.ipynb)\n",
    "  - [Numpy Arrays](numpy_arrays.ipynb#numpy-arrays)\n",
    "  - [Exercises](numpy_arrays.ipynb#exercises)\n",
    "- [Plotting](plotting.ipynb)\n",
    "  - [Visualization](plotting.ipynb#visualization)\n",
    "  - [`matplotlib`](plotting.ipynb#matplotlib)\n",
    "- [Applied Linear Algebra](applied_linalg.ipynb)\n",
    "  - [Vectors and Matrices](applied_linalg.ipynb#vectors-and-matrices)\n",
    "  - [Portfolios](applied_linalg.ipynb#portfolios)\n",
    "  - [Exercises](applied_linalg.ipynb#exercises)\n",
    "- [Randomness](randomness.ipynb)\n",
    "  - [Randomness](randomness.ipynb#id1)\n",
    "  - [Exercises](randomness.ipynb#exercises)\n",
    "- [Optimization](optimization.ipynb)\n",
    "  - [What is Optimization?](optimization.ipynb#what-is-optimization)\n",
    "  - [Exercises](optimization.ipynb#exercises)"
   ]
  }
 ],
 "metadata": {
  "date": 1595457341.6376693,
  "download_nb": false,
  "filename": "index.rst",
  "filename_with_path": "scientific/index",
  "kernelspec": {
   "display_name": "Python 3",
   "language": "python",
   "name": "python3"
  },
  "language_info": {
   "codemirror_mode": {
    "name": "ipython",
    "version": 3
   },
   "file_extension": ".py",
   "mimetype": "text/x-python",
   "name": "python",
   "nbconvert_exporter": "python",
   "pygments_lexer": "ipython3",
   "version": "3.8.5"
  },
  "title": "Scientific Computing"
 },
 "nbformat": 4,
 "nbformat_minor": 4
}
