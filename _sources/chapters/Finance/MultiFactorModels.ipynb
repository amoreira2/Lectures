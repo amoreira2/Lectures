{
 "cells": [
  {
   "cell_type": "code",
   "execution_count": 126,
   "id": "suspected-knitting",
   "metadata": {},
   "outputs": [],
   "source": [
    "import numpy as np\n",
    "import pandas as pd\n",
    "%matplotlib inline\n",
    "import matplotlib.pyplot as plt"
   ]
  },
  {
   "cell_type": "markdown",
   "id": "cordless-alpha",
   "metadata": {
    "colab_type": "text",
    "id": "bzWl3blrhHrz"
   },
   "source": [
    "# Multi-factor models\n",
    "\n",
    "\n",
    "**Adding factors to proxy for the total wealth portfolio**\n",
    "\n",
    "* According to the  CAPM the Wealth portfolio is the tangency portfolio\n",
    "\n",
    "* The return on the wealth portfolio summarizes how Bad the times are\n",
    "\n",
    "* Assets that co-vary more with the market must earn higher returns\n",
    "\n",
    "* They pay poorly exactly when things are worse\n",
    "\n",
    "* What is the wealth portfolio? It is the portfolio that holds all assets in proportion to their value\n",
    "\n",
    "* We often use the equity market as a proxy for this, but that is not the CAPM\n",
    "\n",
    "* In a way that CAPM is untestable because it is impossible to construct the true wealth portfolio\n",
    "\n",
    "\n",
    "$$E[R_t^i-R_t^f]=\\beta_{i,mkt}E[R^{mkt}_t-R^f_t]$$\n",
    "\n",
    "\n",
    "* The fact that we cannot really measure the returns of the total wealth protfolio gives us a reason to add other facts in additons to the returns to the equity market. Under this logic you add returns to other assets classes>\n",
    "       \n",
    "  - Real estate\n",
    "  - Corporate debt\n",
    "  - Human capital\n",
    "  - Private equity\n",
    "  - Venture Capital\n",
    "  -...\n",
    "\n",
    "So you get:\n",
    "\n",
    "$$E[R_t^i-R_t^f]=\\beta_{i,mkt}E[R^{mkt}_t-R^f_t]+\\sum_a^A\\beta_{i,a}E[R^{a}_t-R^f_t]$$\n",
    "\n",
    "* where $a$ are the different asset classes.\n",
    "\n",
    "* Sometimes people refer to these other hard to trade assets as \"background risks\", basically risks that are you are exposed to that are not capture by your financial assets\n",
    "\n",
    "**ICAPM: Intertemporal Capital Asset Pricing Model**\n",
    " \n",
    "\n",
    "* Another way to rationalize additional  factors is to realize that the premium and the volatiltiy of the market are time-varying.\n",
    "\n",
    "* This means that assets that allow you to hedge this investment opportunity set risk will be valuable\n",
    "\n",
    "   - For example, an asset that pays well when the market is more/less volatile or one that pays well when the expected reutrns of market going froward are higher/lower\n",
    "   \n",
    "* Under this logic, any strategy that is related to the market moments can also explain average returns on top of the marker beta\n",
    "\n",
    "* Sometimes people refer to the background risks discussed earlier in this framework as well. But in this case it is not about the moments of the market portfolio per se, but about correlation of the strategy with the background risks investors bear\n",
    "\n",
    "* The end result is the same\n",
    "\n",
    "$$E[R_t^i-R_t^f]=\\beta_{i,mkt}E[R^{mkt}_t-R^f_t]+\\sum_{j=1}^J\\beta_{i,j}E[Factor^j_t]$$\n",
    "\n",
    "\n",
    "* but now these are \"Factors\" and do no need to be components of the total wealth\n",
    "\n",
    "* but these factors must still be excess returns, i.e. they must be strategies based on financial assets that have price zero\n",
    "\n",
    "**APT: Arbitrage Pricing Theory**\n",
    "\n",
    "* Yet another model that has exaclty the same prediction\n",
    "\n",
    "$$E[R_t^i-R_t^f]=\\beta_{i,mkt}E[R^{mkt}_t-R^f_t]+\\sum_{j=1}^J\\beta_{i,j}E[Factor^j_t]$$\n",
    "\n",
    "* but now the factors are motivated because the explain time-seires variation in realized return\n",
    "\n",
    "* the idea is that if you have enough factors you explain enough of the variaiton in the returns of an asset that if the betas do no explain the average reuturns than an arbitrage opportunity wouldd open up\n",
    "\n",
    "* So you can think of the first two moticaiton being more about \"economic factors\" while this one being abotu \"fianncail factors\". The factors belong if they help you explain reuturs.\n",
    "\n",
    "* APT in the end is a very statistical model\n",
    "\n",
    "\n",
    "**How to work with multifactor models?**\n",
    "\n",
    "* These models make less restrictive assumptions and predict that we will need additional factors beyond the market to \"span\" the tangency portfolio\n",
    "\n",
    "* What does \"span\" mean?\n",
    "\n",
    "\n",
    "$$E[R_t^i-R_t^f]=\\beta_{i,mkt}E[R^{mkt}_t-R^f_t]+\\sum_{j=1}^J\\beta_{i,j}E[Factor^j_t]$$\n",
    "\n",
    "\n",
    "- It is basically the same as before, but now we run a multivariate regression\n",
    "\n",
    "  $$R_{i,t}=\\alpha_i+\\beta_{mkt}R^{mkt}_t+\\beta_1 Factor_1+\\beta_2 Factor_2+\\beta_3 Factor_3+....+\\beta_n Factor_n+\\epsilon_{i,t}$$\n",
    "\n",
    "- As long as the factors **are also excess returns**, the time-series alpha test is still valid and indentical as before.\n",
    "\n",
    "- You can do single asset tests and simply use the alpha t-stat to test the model\n",
    "\n",
    "- Everything that we discussed with the hedging/tracking portfolios apply here as well, but now\n",
    "\n",
    "$$Hedged_{i,t}=R_{i,t}-(\\beta_{mkt}R^{mkt}_t+\\beta_1 Factor_1+\\beta_2 Factor_2+\\beta_3 Factor_3+....+\\beta_n Factor_n)$$\n",
    "\n",
    "where $(\\beta_{mkt}R^{mkt}_t+\\beta_1 Factor_1+\\beta_2 Factor_2+\\beta_3 Factor_3+....+\\beta_n Factor_n)$ is the tracking portfolio\n",
    "\n",
    "**Which Multi-factor models?**\n",
    "\n",
    "\n",
    "It really depends on the application. Practicioners ofen use factor models with 10 or more factors becasue they are interested in peformance attibution.\n",
    "\n",
    "You use the regression to see which factor explain some particular realized performance while not thinking to much about whether the factor there explains average returns.\n",
    "\n",
    "This is a perferctly good use mulitfactor models. In this case you are not really thinking whether the factors help you span the tangency portfolio, but only if it help explain the realized reutrn of the strategy.\n",
    "\n",
    "\n",
    "If you interesting in accounting for a fund/strategy/stock averagare return you have look for factors that help you span the tangency portfolio, i.e. facots that generate high sharpe ratios.\n",
    "\n",
    "In the academic world and also in a good chunk of practicioners people use the following factor models\n",
    "\n",
    "1. Fama French 3 factor model:\n",
    "\n",
    "$$E[R_t^i-R_t^f]=\\beta_{i,mkt}E[R^{mkt}_t-R^f_t]+\\beta_{i,smb}E[SmB_t]+\\beta_{i,HmL}E[HmL_t]$$\n",
    "\n",
    "2. Carhart 4 factor model:\n",
    "\n",
    "$$E[R_t^i-R_t^f]=\\beta_{i,mkt}E[R^{mkt}_t-R^f_t]+\\beta_{i,smb}E[SmB_t]+\\beta_{i,HmL}E[HmL_t]+\\beta_{i,WmL}E[WmL_t]$$\n",
    "\n",
    "3. Fama French  5 factor model:\n",
    "\n",
    "$$E[R_t^i-R_t^f]=\\beta_{i,mkt}E[R^{mkt}_t-R^f_t]+\\beta_{i,smb}E[SmB_t]+\\beta_{i,HmL}E[HmL_t]+\\beta_{i,rmw}E[RmW_t]+\\beta_{i,cma}E[CmA_t]$$\n",
    "\n",
    "4. Fama French  5 factor model + Momentum:\n",
    "\n",
    "$$E[R_t^i-R_t^f]=\\beta_{i,mkt}E[R^{mkt}_t-R^f_t]+\\beta_{i,smb}E[SmB_t]+\\beta_{i,HmL}E[HmL_t]+\\beta_{i,rmw}E[RmW_t]+\\beta_{i,cma}E[CmA_t]+\\beta_{i,WmL}E[WmL_t]$$\n",
    "\n",
    "Where :\n",
    "\n",
    "* HmL is the value strategy that buys high book to market firms and sell low book to market firms\n",
    "\n",
    "* SmB is a size strategy that buys firms with low market capitalization and sell firms with high market capitalizations\n",
    "\n",
    "* WmL is the momentum strategy that buy stocks that did well in the last 12 months and short the ones that did poorly\n",
    "\n",
    "* RmW is the strategy that buys firms with high gross proftiability and sell firms with low gross profitability\n",
    "\n",
    "* CmA is the strategy that buys firms that are investing little (low CAPEX) and sell firms that are investing a lot (high CAPEX) "
   ]
  },
  {
   "cell_type": "markdown",
   "id": "funny-civilian",
   "metadata": {},
   "source": [
    "**Three applications to evalauting asset managers**\n",
    "\n",
    "We will do this in three steps\n",
    "\n",
    "1. Get time-series of the factors in our factor model and the risk-free rate\n",
    "\n",
    "2. For each application get the time-series return data of the asset  being evaluated\n",
    "\n",
    "3. Merge with factor series\n",
    "\n",
    "4. Convert the returns of the asset being evaluate to excess returns\n",
    "\n",
    "5. Run a time-series regression of the asset excess returns on the relevant factors\n",
    "\n",
    "**Factors for our factor model**\n",
    "\n",
    "* We will start by dowloading he Five factors from Fama Frency 5 factors model plus the momentum factor which is in separate data set\n",
    "\n",
    "* We of course could have constructed them ourselves as well, but this is obviously faster and less error prone"
   ]
  },
  {
   "cell_type": "code",
   "execution_count": 114,
   "id": "leading-cycling",
   "metadata": {},
   "outputs": [
    {
     "data": {
      "text/html": [
       "<div>\n",
       "<style scoped>\n",
       "    .dataframe tbody tr th:only-of-type {\n",
       "        vertical-align: middle;\n",
       "    }\n",
       "\n",
       "    .dataframe tbody tr th {\n",
       "        vertical-align: top;\n",
       "    }\n",
       "\n",
       "    .dataframe thead th {\n",
       "        text-align: right;\n",
       "    }\n",
       "</style>\n",
       "<table border=\"1\" class=\"dataframe\">\n",
       "  <thead>\n",
       "    <tr style=\"text-align: right;\">\n",
       "      <th></th>\n",
       "      <th>Mkt-RF</th>\n",
       "      <th>SMB</th>\n",
       "      <th>HML</th>\n",
       "      <th>RMW</th>\n",
       "      <th>CMA</th>\n",
       "      <th>RF</th>\n",
       "      <th>Mom</th>\n",
       "    </tr>\n",
       "    <tr>\n",
       "      <th>Date</th>\n",
       "      <th></th>\n",
       "      <th></th>\n",
       "      <th></th>\n",
       "      <th></th>\n",
       "      <th></th>\n",
       "      <th></th>\n",
       "      <th></th>\n",
       "    </tr>\n",
       "  </thead>\n",
       "  <tbody>\n",
       "    <tr>\n",
       "      <th>1963-07</th>\n",
       "      <td>-0.39</td>\n",
       "      <td>-0.45</td>\n",
       "      <td>-0.94</td>\n",
       "      <td>0.66</td>\n",
       "      <td>-1.15</td>\n",
       "      <td>0.27</td>\n",
       "      <td>1.00</td>\n",
       "    </tr>\n",
       "    <tr>\n",
       "      <th>1963-08</th>\n",
       "      <td>5.07</td>\n",
       "      <td>-0.82</td>\n",
       "      <td>1.82</td>\n",
       "      <td>0.40</td>\n",
       "      <td>-0.40</td>\n",
       "      <td>0.25</td>\n",
       "      <td>1.03</td>\n",
       "    </tr>\n",
       "    <tr>\n",
       "      <th>1963-09</th>\n",
       "      <td>-1.57</td>\n",
       "      <td>-0.48</td>\n",
       "      <td>0.17</td>\n",
       "      <td>-0.76</td>\n",
       "      <td>0.24</td>\n",
       "      <td>0.27</td>\n",
       "      <td>0.16</td>\n",
       "    </tr>\n",
       "    <tr>\n",
       "      <th>1963-10</th>\n",
       "      <td>2.53</td>\n",
       "      <td>-1.30</td>\n",
       "      <td>-0.04</td>\n",
       "      <td>2.75</td>\n",
       "      <td>-2.24</td>\n",
       "      <td>0.29</td>\n",
       "      <td>3.14</td>\n",
       "    </tr>\n",
       "    <tr>\n",
       "      <th>1963-11</th>\n",
       "      <td>-0.85</td>\n",
       "      <td>-0.85</td>\n",
       "      <td>1.70</td>\n",
       "      <td>-0.45</td>\n",
       "      <td>2.22</td>\n",
       "      <td>0.27</td>\n",
       "      <td>-0.75</td>\n",
       "    </tr>\n",
       "    <tr>\n",
       "      <th>...</th>\n",
       "      <td>...</td>\n",
       "      <td>...</td>\n",
       "      <td>...</td>\n",
       "      <td>...</td>\n",
       "      <td>...</td>\n",
       "      <td>...</td>\n",
       "      <td>...</td>\n",
       "    </tr>\n",
       "    <tr>\n",
       "      <th>2020-11</th>\n",
       "      <td>12.47</td>\n",
       "      <td>6.75</td>\n",
       "      <td>2.11</td>\n",
       "      <td>-2.78</td>\n",
       "      <td>1.05</td>\n",
       "      <td>0.01</td>\n",
       "      <td>-12.25</td>\n",
       "    </tr>\n",
       "    <tr>\n",
       "      <th>2020-12</th>\n",
       "      <td>4.63</td>\n",
       "      <td>4.67</td>\n",
       "      <td>-1.36</td>\n",
       "      <td>-2.15</td>\n",
       "      <td>0.00</td>\n",
       "      <td>0.01</td>\n",
       "      <td>-2.42</td>\n",
       "    </tr>\n",
       "    <tr>\n",
       "      <th>2021-01</th>\n",
       "      <td>-0.03</td>\n",
       "      <td>6.88</td>\n",
       "      <td>2.85</td>\n",
       "      <td>-3.33</td>\n",
       "      <td>4.68</td>\n",
       "      <td>0.00</td>\n",
       "      <td>4.37</td>\n",
       "    </tr>\n",
       "    <tr>\n",
       "      <th>2021-02</th>\n",
       "      <td>2.78</td>\n",
       "      <td>4.51</td>\n",
       "      <td>7.08</td>\n",
       "      <td>0.09</td>\n",
       "      <td>-1.97</td>\n",
       "      <td>0.00</td>\n",
       "      <td>-7.68</td>\n",
       "    </tr>\n",
       "    <tr>\n",
       "      <th>2021-03</th>\n",
       "      <td>3.09</td>\n",
       "      <td>-0.98</td>\n",
       "      <td>7.40</td>\n",
       "      <td>6.43</td>\n",
       "      <td>3.44</td>\n",
       "      <td>0.00</td>\n",
       "      <td>-5.83</td>\n",
       "    </tr>\n",
       "  </tbody>\n",
       "</table>\n",
       "<p>693 rows × 7 columns</p>\n",
       "</div>"
      ],
      "text/plain": [
       "         Mkt-RF   SMB   HML   RMW   CMA    RF  Mom   \n",
       "Date                                                 \n",
       "1963-07   -0.39 -0.45 -0.94  0.66 -1.15  0.27    1.00\n",
       "1963-08    5.07 -0.82  1.82  0.40 -0.40  0.25    1.03\n",
       "1963-09   -1.57 -0.48  0.17 -0.76  0.24  0.27    0.16\n",
       "1963-10    2.53 -1.30 -0.04  2.75 -2.24  0.29    3.14\n",
       "1963-11   -0.85 -0.85  1.70 -0.45  2.22  0.27   -0.75\n",
       "...         ...   ...   ...   ...   ...   ...     ...\n",
       "2020-11   12.47  6.75  2.11 -2.78  1.05  0.01  -12.25\n",
       "2020-12    4.63  4.67 -1.36 -2.15  0.00  0.01   -2.42\n",
       "2021-01   -0.03  6.88  2.85 -3.33  4.68  0.00    4.37\n",
       "2021-02    2.78  4.51  7.08  0.09 -1.97  0.00   -7.68\n",
       "2021-03    3.09 -0.98  7.40  6.43  3.44  0.00   -5.83\n",
       "\n",
       "[693 rows x 7 columns]"
      ]
     },
     "execution_count": 114,
     "metadata": {},
     "output_type": "execute_result"
    }
   ],
   "source": [
    "from datetime import datetime\n",
    "import pandas_datareader.data as web\n",
    "start = datetime(1926, 1, 1)\n",
    "ds = web.DataReader('F-F_Research_Data_5_Factors_2x3', 'famafrench',start=start)\n",
    "dff5=ds[0][:'2021-3']\n",
    "dff5\n",
    "ds = web.DataReader('F-F_Momentum_Factor', 'famafrench',start=start)\n",
    "dmom=ds[0][:'2021-3']\n",
    "dmom\n",
    "dff6=dff5.merge(dmom,left_index=True,right_index=True,how='inner')\n",
    "dff6"
   ]
  },
  {
   "cell_type": "markdown",
   "id": "casual-commander",
   "metadata": {},
   "source": [
    "**Aplication 1: Performance evaluation of [Berkshire Hathaway](https://en.wikipedia.org/wiki/Berkshire_Hathaway)**\n",
    "\n",
    "* How much of WB performance can be explained by his exposure to the differnet risk factors?\n",
    "\n",
    "* How much of WB performance is due to his ability to buy good business for cheap?\n",
    "\n"
   ]
  },
  {
   "cell_type": "markdown",
   "id": "advanced-dodge",
   "metadata": {
    "colab_type": "text",
    "id": "LRIHdlK93MQF"
   },
   "source": [
    "**Getting the Data**\n",
    "\n",
    "We will do the data at monthly frequency.\n",
    "\n",
    "While daily data is helpful in estiamting betas we have do be mindful of liqudiity effects, for example bid-ask bounces\n",
    "\n",
    "One could do daily and add lagged returns as a way to deal with this"
   ]
  },
  {
   "cell_type": "code",
   "execution_count": 111,
   "id": "commercial-woman",
   "metadata": {
    "colab": {
     "base_uri": "https://localhost:8080/",
     "height": 235
    },
    "colab_type": "code",
    "executionInfo": {
     "elapsed": 1900,
     "status": "ok",
     "timestamp": 1577476296295,
     "user": {
      "displayName": "yuchi yao",
      "photoUrl": "",
      "userId": "00457884373990713813"
     },
     "user_tz": 300
    },
    "id": "c5yPE2q8didx",
    "outputId": "9689e448-2d2b-4f6f-cfa6-6123fd4bcbad"
   },
   "outputs": [
    {
     "name": "stdin",
     "output_type": "stream",
     "text": [
      "Enter your WRDS username [Alan.Moreira]: moreira5\n",
      "Enter your password: ···········\n"
     ]
    },
    {
     "name": "stdout",
     "output_type": "stream",
     "text": [
      "WRDS recommends setting up a .pgpass file.\n",
      "You can find more info here:\n",
      "https://www.postgresql.org/docs/9.5/static/libpq-pgpass.html.\n",
      "Loading library list...\n",
      "Done\n"
     ]
    }
   ],
   "source": [
    "import wrds\n",
    "import psycopg2 \n",
    "from codesnippets import get_returns\n",
    "conn=wrds.Connection()\n",
    "\n",
    "def get_returns(tickers,conn,startdate,enddate,variable='ret'):\n",
    "    ticker=tickers[0]\n",
    "    df = conn.raw_sql(\"\"\"\n",
    "                          select a.permno, b.ncusip, b.ticker, a.date, b.shrcd,\n",
    "                          a.ret, a.vol, a.shrout, a.prc, a.cfacpr, a.cfacshr,a.retx\n",
    "                          from crsp.msf as a\n",
    "                          left join crsp.msenames as b\n",
    "                          on a.permno=b.permno\n",
    "                          and b.namedt<=a.date\n",
    "                          and a.date<=b.nameendt\n",
    "                          where a.date between '\"\"\"+ startdate+\"\"\"'  and '\"\"\"+ enddate+            \n",
    "                          \"\"\"' and  b.ticker='\"\"\"+ticker+\"'\")\n",
    "    # and b.shrcd between 10 and 11\n",
    "    # and b.exchcd between 1 and 3\n",
    "            \n",
    "    df.set_index(['date','permno'],inplace=True)\n",
    "    df=df[variable].unstack()\n",
    "    return df"
   ]
  },
  {
   "cell_type": "code",
   "execution_count": 112,
   "id": "technological-machinery",
   "metadata": {},
   "outputs": [
    {
     "data": {
      "text/plain": [
       "<AxesSubplot:xlabel='date'>"
      ]
     },
     "execution_count": 112,
     "metadata": {},
     "output_type": "execute_result"
    },
    {
     "data": {
      "image/png": "[encoded data removed]",
      "text/plain": [
       "<Figure size 432x288 with 1 Axes>"
      ]
     },
     "metadata": {
      "needs_background": "light"
     },
     "output_type": "display_data"
    }
   ],
   "source": [
    "df=get_returns(['BRK'],conn,'1/1/1960','1/1/2022',variable='prc')\n",
    "df.abs().plot()"
   ]
  },
  {
   "cell_type": "markdown",
   "id": "spiritual-difference",
   "metadata": {},
   "source": [
    "Berkshire seems to have multiple securities issue over time\n",
    "\n",
    "We will simply use the blue series which matches wha tI see in [google](https://www.google.com/finance/quote/BRK.A:NYSE?sa=X&ved=2ahUKEwixoeeWi6_wAhX4Ap0JHXMsCD4Q3ecFMAB6BAgjEBo&window=MAX), but you could think about piecing toghether the blue and the green to expand the sample. But one would have to read in detail to see what happened and if that really makes sense"
   ]
  },
  {
   "cell_type": "code",
   "execution_count": 152,
   "id": "recent-somalia",
   "metadata": {},
   "outputs": [
    {
     "data": {
      "text/plain": [
       "<AxesSubplot:xlabel='date'>"
      ]
     },
     "execution_count": 152,
     "metadata": {},
     "output_type": "execute_result"
    },
    {
     "data": {
      "image/png": "[encoded data removed]",
      "text/plain": [
       "<Figure size 432x288 with 1 Axes>"
      ]
     },
     "metadata": {
      "needs_background": "light"
     },
     "output_type": "display_data"
    }
   ],
   "source": [
    "df=get_returns(['BRK'],conn,'1/1/1960','1/1/2022',variable='ret')\n",
    "(df[17778.0]+1).cumprod().plot()"
   ]
  },
  {
   "cell_type": "markdown",
   "id": "incorrect-gnome",
   "metadata": {},
   "source": [
    "Lets now merge with the factors\n",
    "\n",
    "Firs note that they are both monthy bu the factors index is period type while the Berkshire index is date time"
   ]
  },
  {
   "cell_type": "code",
   "execution_count": 153,
   "id": "informed-remark",
   "metadata": {},
   "outputs": [
    {
     "data": {
      "text/plain": [
       "PeriodIndex(['1963-07', '1963-08', '1963-09', '1963-10', '1963-11', '1963-12',\n",
       "             '1964-01', '1964-02', '1964-03', '1964-04',\n",
       "             ...\n",
       "             '2020-06', '2020-07', '2020-08', '2020-09', '2020-10', '2020-11',\n",
       "             '2020-12', '2021-01', '2021-02', '2021-03'],\n",
       "            dtype='period[M]', name='Date', length=693, freq='M')"
      ]
     },
     "execution_count": 153,
     "metadata": {},
     "output_type": "execute_result"
    }
   ],
   "source": [
    "dff6.index"
   ]
  },
  {
   "cell_type": "code",
   "execution_count": 154,
   "id": "funny-rendering",
   "metadata": {},
   "outputs": [
    {
     "data": {
      "text/plain": [
       "DatetimeIndex(['1962-08-31', '1962-09-28', '1962-10-31', '1962-11-30',\n",
       "               '1962-12-31', '1963-01-31', '1963-02-28', '1963-03-29',\n",
       "               '1963-04-30', '1963-05-31',\n",
       "               ...\n",
       "               '2020-03-31', '2020-04-30', '2020-05-29', '2020-06-30',\n",
       "               '2020-07-31', '2020-08-31', '2020-09-30', '2020-10-30',\n",
       "               '2020-11-30', '2020-12-31'],\n",
       "              dtype='datetime64[ns]', name='date', length=644, freq=None)"
      ]
     },
     "execution_count": 154,
     "metadata": {},
     "output_type": "execute_result"
    }
   ],
   "source": [
    "df.index"
   ]
  },
  {
   "cell_type": "markdown",
   "id": "brutal-legislation",
   "metadata": {},
   "source": [
    "We can deal with this by converting either the `df` dataframe to period or the `dff6` dataframe to datetime"
   ]
  },
  {
   "cell_type": "code",
   "execution_count": 157,
   "id": "reported-metallic",
   "metadata": {},
   "outputs": [
    {
     "data": {
      "text/plain": [
       "date\n",
       "2020-08    0.115550\n",
       "2020-09   -0.023077\n",
       "2020-10   -0.054690\n",
       "2020-11    0.136159\n",
       "2020-12    0.012008\n",
       "Freq: M, Name: 17778.0, dtype: float64"
      ]
     },
     "execution_count": 157,
     "metadata": {},
     "output_type": "execute_result"
    }
   ],
   "source": [
    "df[17778.0].to_period(\"M\").tail()"
   ]
  },
  {
   "cell_type": "code",
   "execution_count": 165,
   "id": "further-homework",
   "metadata": {},
   "outputs": [
    {
     "data": {
      "text/html": [
       "<div>\n",
       "<style scoped>\n",
       "    .dataframe tbody tr th:only-of-type {\n",
       "        vertical-align: middle;\n",
       "    }\n",
       "\n",
       "    .dataframe tbody tr th {\n",
       "        vertical-align: top;\n",
       "    }\n",
       "\n",
       "    .dataframe thead th {\n",
       "        text-align: right;\n",
       "    }\n",
       "</style>\n",
       "<table border=\"1\" class=\"dataframe\">\n",
       "  <thead>\n",
       "    <tr style=\"text-align: right;\">\n",
       "      <th></th>\n",
       "      <th>Mkt-RF</th>\n",
       "      <th>SMB</th>\n",
       "      <th>HML</th>\n",
       "      <th>RMW</th>\n",
       "      <th>CMA</th>\n",
       "      <th>RF</th>\n",
       "      <th>Mom</th>\n",
       "    </tr>\n",
       "    <tr>\n",
       "      <th>Date</th>\n",
       "      <th></th>\n",
       "      <th></th>\n",
       "      <th></th>\n",
       "      <th></th>\n",
       "      <th></th>\n",
       "      <th></th>\n",
       "      <th></th>\n",
       "    </tr>\n",
       "  </thead>\n",
       "  <tbody>\n",
       "    <tr>\n",
       "      <th>2020-11-30</th>\n",
       "      <td>12.47</td>\n",
       "      <td>6.75</td>\n",
       "      <td>2.11</td>\n",
       "      <td>-2.78</td>\n",
       "      <td>1.05</td>\n",
       "      <td>0.01</td>\n",
       "      <td>-12.25</td>\n",
       "    </tr>\n",
       "    <tr>\n",
       "      <th>2020-12-31</th>\n",
       "      <td>4.63</td>\n",
       "      <td>4.67</td>\n",
       "      <td>-1.36</td>\n",
       "      <td>-2.15</td>\n",
       "      <td>0.00</td>\n",
       "      <td>0.01</td>\n",
       "      <td>-2.42</td>\n",
       "    </tr>\n",
       "    <tr>\n",
       "      <th>2021-01-31</th>\n",
       "      <td>-0.03</td>\n",
       "      <td>6.88</td>\n",
       "      <td>2.85</td>\n",
       "      <td>-3.33</td>\n",
       "      <td>4.68</td>\n",
       "      <td>0.00</td>\n",
       "      <td>4.37</td>\n",
       "    </tr>\n",
       "    <tr>\n",
       "      <th>2021-02-28</th>\n",
       "      <td>2.78</td>\n",
       "      <td>4.51</td>\n",
       "      <td>7.08</td>\n",
       "      <td>0.09</td>\n",
       "      <td>-1.97</td>\n",
       "      <td>0.00</td>\n",
       "      <td>-7.68</td>\n",
       "    </tr>\n",
       "    <tr>\n",
       "      <th>2021-03-31</th>\n",
       "      <td>3.09</td>\n",
       "      <td>-0.98</td>\n",
       "      <td>7.40</td>\n",
       "      <td>6.43</td>\n",
       "      <td>3.44</td>\n",
       "      <td>0.00</td>\n",
       "      <td>-5.83</td>\n",
       "    </tr>\n",
       "  </tbody>\n",
       "</table>\n",
       "</div>"
      ],
      "text/plain": [
       "            Mkt-RF   SMB   HML   RMW   CMA    RF  Mom   \n",
       "Date                                                    \n",
       "2020-11-30   12.47  6.75  2.11 -2.78  1.05  0.01  -12.25\n",
       "2020-12-31    4.63  4.67 -1.36 -2.15  0.00  0.01   -2.42\n",
       "2021-01-31   -0.03  6.88  2.85 -3.33  4.68  0.00    4.37\n",
       "2021-02-28    2.78  4.51  7.08  0.09 -1.97  0.00   -7.68\n",
       "2021-03-31    3.09 -0.98  7.40  6.43  3.44  0.00   -5.83"
      ]
     },
     "execution_count": 165,
     "metadata": {},
     "output_type": "execute_result"
    }
   ],
   "source": [
    "dff6.to_timestamp('M').tail()"
   ]
  },
  {
   "cell_type": "markdown",
   "id": "seeing-killer",
   "metadata": {},
   "source": [
    "Here I will use the first method"
   ]
  },
  {
   "cell_type": "code",
   "execution_count": 131,
   "id": "covered-lexington",
   "metadata": {},
   "outputs": [
    {
     "data": {
      "text/html": [
       "<div>\n",
       "<style scoped>\n",
       "    .dataframe tbody tr th:only-of-type {\n",
       "        vertical-align: middle;\n",
       "    }\n",
       "\n",
       "    .dataframe tbody tr th {\n",
       "        vertical-align: top;\n",
       "    }\n",
       "\n",
       "    .dataframe thead th {\n",
       "        text-align: right;\n",
       "    }\n",
       "</style>\n",
       "<table border=\"1\" class=\"dataframe\">\n",
       "  <thead>\n",
       "    <tr style=\"text-align: right;\">\n",
       "      <th></th>\n",
       "      <th>Mkt-RF</th>\n",
       "      <th>SMB</th>\n",
       "      <th>HML</th>\n",
       "      <th>RMW</th>\n",
       "      <th>CMA</th>\n",
       "      <th>RF</th>\n",
       "      <th>Mom</th>\n",
       "      <th>BRK</th>\n",
       "    </tr>\n",
       "  </thead>\n",
       "  <tbody>\n",
       "    <tr>\n",
       "      <th>1988-11</th>\n",
       "      <td>-0.0229</td>\n",
       "      <td>-0.0166</td>\n",
       "      <td>0.0130</td>\n",
       "      <td>-0.0028</td>\n",
       "      <td>0.0160</td>\n",
       "      <td>0.0057</td>\n",
       "      <td>0.0042</td>\n",
       "      <td>-0.005291</td>\n",
       "    </tr>\n",
       "    <tr>\n",
       "      <th>1988-12</th>\n",
       "      <td>0.0149</td>\n",
       "      <td>0.0201</td>\n",
       "      <td>-0.0154</td>\n",
       "      <td>0.0063</td>\n",
       "      <td>-0.0037</td>\n",
       "      <td>0.0063</td>\n",
       "      <td>0.0042</td>\n",
       "      <td>0.000000</td>\n",
       "    </tr>\n",
       "    <tr>\n",
       "      <th>1989-01</th>\n",
       "      <td>0.0610</td>\n",
       "      <td>-0.0223</td>\n",
       "      <td>0.0049</td>\n",
       "      <td>-0.0103</td>\n",
       "      <td>0.0016</td>\n",
       "      <td>0.0055</td>\n",
       "      <td>-0.0014</td>\n",
       "      <td>0.047872</td>\n",
       "    </tr>\n",
       "    <tr>\n",
       "      <th>1989-02</th>\n",
       "      <td>-0.0225</td>\n",
       "      <td>0.0267</td>\n",
       "      <td>0.0090</td>\n",
       "      <td>-0.0081</td>\n",
       "      <td>0.0190</td>\n",
       "      <td>0.0061</td>\n",
       "      <td>0.0094</td>\n",
       "      <td>-0.040609</td>\n",
       "    </tr>\n",
       "    <tr>\n",
       "      <th>1989-03</th>\n",
       "      <td>0.0157</td>\n",
       "      <td>0.0077</td>\n",
       "      <td>0.0047</td>\n",
       "      <td>0.0000</td>\n",
       "      <td>0.0079</td>\n",
       "      <td>0.0067</td>\n",
       "      <td>0.0356</td>\n",
       "      <td>0.047619</td>\n",
       "    </tr>\n",
       "    <tr>\n",
       "      <th>...</th>\n",
       "      <td>...</td>\n",
       "      <td>...</td>\n",
       "      <td>...</td>\n",
       "      <td>...</td>\n",
       "      <td>...</td>\n",
       "      <td>...</td>\n",
       "      <td>...</td>\n",
       "      <td>...</td>\n",
       "    </tr>\n",
       "    <tr>\n",
       "      <th>2020-08</th>\n",
       "      <td>0.0763</td>\n",
       "      <td>-0.0094</td>\n",
       "      <td>-0.0294</td>\n",
       "      <td>0.0427</td>\n",
       "      <td>-0.0144</td>\n",
       "      <td>0.0001</td>\n",
       "      <td>0.0051</td>\n",
       "      <td>0.115550</td>\n",
       "    </tr>\n",
       "    <tr>\n",
       "      <th>2020-09</th>\n",
       "      <td>-0.0363</td>\n",
       "      <td>0.0007</td>\n",
       "      <td>-0.0251</td>\n",
       "      <td>-0.0115</td>\n",
       "      <td>-0.0177</td>\n",
       "      <td>0.0001</td>\n",
       "      <td>0.0305</td>\n",
       "      <td>-0.023077</td>\n",
       "    </tr>\n",
       "    <tr>\n",
       "      <th>2020-10</th>\n",
       "      <td>-0.0210</td>\n",
       "      <td>0.0476</td>\n",
       "      <td>0.0403</td>\n",
       "      <td>-0.0060</td>\n",
       "      <td>-0.0053</td>\n",
       "      <td>0.0001</td>\n",
       "      <td>-0.0303</td>\n",
       "      <td>-0.054690</td>\n",
       "    </tr>\n",
       "    <tr>\n",
       "      <th>2020-11</th>\n",
       "      <td>0.1247</td>\n",
       "      <td>0.0675</td>\n",
       "      <td>0.0211</td>\n",
       "      <td>-0.0278</td>\n",
       "      <td>0.0105</td>\n",
       "      <td>0.0001</td>\n",
       "      <td>-0.1225</td>\n",
       "      <td>0.136159</td>\n",
       "    </tr>\n",
       "    <tr>\n",
       "      <th>2020-12</th>\n",
       "      <td>0.0463</td>\n",
       "      <td>0.0467</td>\n",
       "      <td>-0.0136</td>\n",
       "      <td>-0.0215</td>\n",
       "      <td>0.0000</td>\n",
       "      <td>0.0001</td>\n",
       "      <td>-0.0242</td>\n",
       "      <td>0.012008</td>\n",
       "    </tr>\n",
       "  </tbody>\n",
       "</table>\n",
       "<p>386 rows × 8 columns</p>\n",
       "</div>"
      ],
      "text/plain": [
       "         Mkt-RF     SMB     HML     RMW     CMA      RF  Mom          BRK\n",
       "1988-11 -0.0229 -0.0166  0.0130 -0.0028  0.0160  0.0057  0.0042 -0.005291\n",
       "1988-12  0.0149  0.0201 -0.0154  0.0063 -0.0037  0.0063  0.0042  0.000000\n",
       "1989-01  0.0610 -0.0223  0.0049 -0.0103  0.0016  0.0055 -0.0014  0.047872\n",
       "1989-02 -0.0225  0.0267  0.0090 -0.0081  0.0190  0.0061  0.0094 -0.040609\n",
       "1989-03  0.0157  0.0077  0.0047  0.0000  0.0079  0.0067  0.0356  0.047619\n",
       "...         ...     ...     ...     ...     ...     ...     ...       ...\n",
       "2020-08  0.0763 -0.0094 -0.0294  0.0427 -0.0144  0.0001  0.0051  0.115550\n",
       "2020-09 -0.0363  0.0007 -0.0251 -0.0115 -0.0177  0.0001  0.0305 -0.023077\n",
       "2020-10 -0.0210  0.0476  0.0403 -0.0060 -0.0053  0.0001 -0.0303 -0.054690\n",
       "2020-11  0.1247  0.0675  0.0211 -0.0278  0.0105  0.0001 -0.1225  0.136159\n",
       "2020-12  0.0463  0.0467 -0.0136 -0.0215  0.0000  0.0001 -0.0242  0.012008\n",
       "\n",
       "[386 rows x 8 columns]"
      ]
     },
     "execution_count": 131,
     "metadata": {},
     "output_type": "execute_result"
    }
   ],
   "source": [
    "df=(dff6/100).merge(df[17778.0].to_period(\"M\"),left_index=True,right_index=True,how='inner').dropna(how='any')\n",
    "df.rename(columns={17778:'BRK'},inplace=True)\n",
    "df"
   ]
  },
  {
   "cell_type": "code",
   "execution_count": 132,
   "id": "attached-defeat",
   "metadata": {},
   "outputs": [],
   "source": [
    "df.BRK=df.BRK-df.RF"
   ]
  },
  {
   "cell_type": "markdown",
   "id": "talented-seven",
   "metadata": {},
   "source": [
    "Start with the CAPM"
   ]
  },
  {
   "cell_type": "code",
   "execution_count": 136,
   "id": "fixed-calvin",
   "metadata": {},
   "outputs": [
    {
     "data": {
      "text/html": [
       "<table class=\"simpletable\">\n",
       "<caption>OLS Regression Results</caption>\n",
       "<tr>\n",
       "  <th>Dep. Variable:</th>           <td>BRK</td>       <th>  R-squared:         </th> <td>   0.212</td>\n",
       "</tr>\n",
       "<tr>\n",
       "  <th>Model:</th>                   <td>OLS</td>       <th>  Adj. R-squared:    </th> <td>   0.210</td>\n",
       "</tr>\n",
       "<tr>\n",
       "  <th>Method:</th>             <td>Least Squares</td>  <th>  F-statistic:       </th> <td>   103.6</td>\n",
       "</tr>\n",
       "<tr>\n",
       "  <th>Date:</th>             <td>Tue, 04 May 2021</td> <th>  Prob (F-statistic):</th> <td>1.06e-21</td>\n",
       "</tr>\n",
       "<tr>\n",
       "  <th>Time:</th>                 <td>09:25:48</td>     <th>  Log-Likelihood:    </th> <td>  592.00</td>\n",
       "</tr>\n",
       "<tr>\n",
       "  <th>No. Observations:</th>      <td>   386</td>      <th>  AIC:               </th> <td>  -1180.</td>\n",
       "</tr>\n",
       "<tr>\n",
       "  <th>Df Residuals:</th>          <td>   384</td>      <th>  BIC:               </th> <td>  -1172.</td>\n",
       "</tr>\n",
       "<tr>\n",
       "  <th>Df Model:</th>              <td>     1</td>      <th>                     </th>     <td> </td>   \n",
       "</tr>\n",
       "<tr>\n",
       "  <th>Covariance Type:</th>      <td>nonrobust</td>    <th>                     </th>     <td> </td>   \n",
       "</tr>\n",
       "</table>\n",
       "<table class=\"simpletable\">\n",
       "<tr>\n",
       "     <td></td>       <th>coef</th>     <th>std err</th>      <th>t</th>      <th>P>|t|</th>  <th>[0.025</th>    <th>0.975]</th>  \n",
       "</tr>\n",
       "<tr>\n",
       "  <th>const</th>  <td>    0.0060</td> <td>    0.003</td> <td>    2.210</td> <td> 0.028</td> <td>    0.001</td> <td>    0.011</td>\n",
       "</tr>\n",
       "<tr>\n",
       "  <th>Mkt-RF</th> <td>    0.6236</td> <td>    0.061</td> <td>   10.178</td> <td> 0.000</td> <td>    0.503</td> <td>    0.744</td>\n",
       "</tr>\n",
       "</table>\n",
       "<table class=\"simpletable\">\n",
       "<tr>\n",
       "  <th>Omnibus:</th>       <td>83.751</td> <th>  Durbin-Watson:     </th> <td>   2.060</td>\n",
       "</tr>\n",
       "<tr>\n",
       "  <th>Prob(Omnibus):</th> <td> 0.000</td> <th>  Jarque-Bera (JB):  </th> <td> 261.498</td>\n",
       "</tr>\n",
       "<tr>\n",
       "  <th>Skew:</th>          <td> 0.974</td> <th>  Prob(JB):          </th> <td>1.65e-57</td>\n",
       "</tr>\n",
       "<tr>\n",
       "  <th>Kurtosis:</th>      <td> 6.530</td> <th>  Cond. No.          </th> <td>    23.0</td>\n",
       "</tr>\n",
       "</table><br/><br/>Notes:<br/>[1] Standard Errors assume that the covariance matrix of the errors is correctly specified."
      ],
      "text/plain": [
       "<class 'statsmodels.iolib.summary.Summary'>\n",
       "\"\"\"\n",
       "                            OLS Regression Results                            \n",
       "==============================================================================\n",
       "Dep. Variable:                    BRK   R-squared:                       0.212\n",
       "Model:                            OLS   Adj. R-squared:                  0.210\n",
       "Method:                 Least Squares   F-statistic:                     103.6\n",
       "Date:                Tue, 04 May 2021   Prob (F-statistic):           1.06e-21\n",
       "Time:                        09:25:48   Log-Likelihood:                 592.00\n",
       "No. Observations:                 386   AIC:                            -1180.\n",
       "Df Residuals:                     384   BIC:                            -1172.\n",
       "Df Model:                           1                                         \n",
       "Covariance Type:            nonrobust                                         \n",
       "==============================================================================\n",
       "                 coef    std err          t      P>|t|      [0.025      0.975]\n",
       "------------------------------------------------------------------------------\n",
       "const          0.0060      0.003      2.210      0.028       0.001       0.011\n",
       "Mkt-RF         0.6236      0.061     10.178      0.000       0.503       0.744\n",
       "==============================================================================\n",
       "Omnibus:                       83.751   Durbin-Watson:                   2.060\n",
       "Prob(Omnibus):                  0.000   Jarque-Bera (JB):              261.498\n",
       "Skew:                           0.974   Prob(JB):                     1.65e-57\n",
       "Kurtosis:                       6.530   Cond. No.                         23.0\n",
       "==============================================================================\n",
       "\n",
       "Notes:\n",
       "[1] Standard Errors assume that the covariance matrix of the errors is correctly specified.\n",
       "\"\"\""
      ]
     },
     "execution_count": 136,
     "metadata": {},
     "output_type": "execute_result"
    }
   ],
   "source": [
    "import statsmodels.api as sm\n",
    "temp=df.copy() \n",
    "x= sm.add_constant(temp['Mkt-RF'])\n",
    "y= temp['BRK']\n",
    "results= sm.OLS(y,x).fit()\n",
    "results.summary()"
   ]
  },
  {
   "cell_type": "code",
   "execution_count": 137,
   "id": "occasional-avatar",
   "metadata": {},
   "outputs": [
    {
     "data": {
      "text/plain": [
       "0.07164885662375453"
      ]
     },
     "execution_count": 137,
     "metadata": {},
     "output_type": "execute_result"
    }
   ],
   "source": [
    "results.params[0]*12"
   ]
  },
  {
   "cell_type": "markdown",
   "id": "expanded-statement",
   "metadata": {},
   "source": [
    "Market beta of about 0.6 and alpha of 7% per year!\n",
    "\n",
    "*Six factor model*\n"
   ]
  },
  {
   "cell_type": "code",
   "execution_count": 138,
   "id": "restricted-access",
   "metadata": {},
   "outputs": [
    {
     "data": {
      "text/html": [
       "<table class=\"simpletable\">\n",
       "<caption>OLS Regression Results</caption>\n",
       "<tr>\n",
       "  <th>Dep. Variable:</th>           <td>BRK</td>       <th>  R-squared:         </th> <td>   0.348</td>\n",
       "</tr>\n",
       "<tr>\n",
       "  <th>Model:</th>                   <td>OLS</td>       <th>  Adj. R-squared:    </th> <td>   0.338</td>\n",
       "</tr>\n",
       "<tr>\n",
       "  <th>Method:</th>             <td>Least Squares</td>  <th>  F-statistic:       </th> <td>   33.74</td>\n",
       "</tr>\n",
       "<tr>\n",
       "  <th>Date:</th>             <td>Tue, 04 May 2021</td> <th>  Prob (F-statistic):</th> <td>1.35e-32</td>\n",
       "</tr>\n",
       "<tr>\n",
       "  <th>Time:</th>                 <td>09:26:02</td>     <th>  Log-Likelihood:    </th> <td>  628.50</td>\n",
       "</tr>\n",
       "<tr>\n",
       "  <th>No. Observations:</th>      <td>   386</td>      <th>  AIC:               </th> <td>  -1243.</td>\n",
       "</tr>\n",
       "<tr>\n",
       "  <th>Df Residuals:</th>          <td>   379</td>      <th>  BIC:               </th> <td>  -1215.</td>\n",
       "</tr>\n",
       "<tr>\n",
       "  <th>Df Model:</th>              <td>     6</td>      <th>                     </th>     <td> </td>   \n",
       "</tr>\n",
       "<tr>\n",
       "  <th>Covariance Type:</th>      <td>nonrobust</td>    <th>                     </th>     <td> </td>   \n",
       "</tr>\n",
       "</table>\n",
       "<table class=\"simpletable\">\n",
       "<tr>\n",
       "     <td></td>       <th>coef</th>     <th>std err</th>      <th>t</th>      <th>P>|t|</th>  <th>[0.025</th>    <th>0.975]</th>  \n",
       "</tr>\n",
       "<tr>\n",
       "  <th>const</th>  <td>    0.0046</td> <td>    0.003</td> <td>    1.774</td> <td> 0.077</td> <td>   -0.001</td> <td>    0.010</td>\n",
       "</tr>\n",
       "<tr>\n",
       "  <th>Mkt-RF</th> <td>    0.7599</td> <td>    0.067</td> <td>   11.357</td> <td> 0.000</td> <td>    0.628</td> <td>    0.892</td>\n",
       "</tr>\n",
       "<tr>\n",
       "  <th>SMB</th>    <td>   -0.3946</td> <td>    0.091</td> <td>   -4.316</td> <td> 0.000</td> <td>   -0.574</td> <td>   -0.215</td>\n",
       "</tr>\n",
       "<tr>\n",
       "  <th>HML</th>    <td>    0.4836</td> <td>    0.118</td> <td>    4.091</td> <td> 0.000</td> <td>    0.251</td> <td>    0.716</td>\n",
       "</tr>\n",
       "<tr>\n",
       "  <th>RMW</th>    <td>    0.2687</td> <td>    0.121</td> <td>    2.214</td> <td> 0.027</td> <td>    0.030</td> <td>    0.507</td>\n",
       "</tr>\n",
       "<tr>\n",
       "  <th>CMA</th>    <td>   -0.1286</td> <td>    0.172</td> <td>   -0.749</td> <td> 0.454</td> <td>   -0.466</td> <td>    0.209</td>\n",
       "</tr>\n",
       "<tr>\n",
       "  <th>Mom   </th> <td>   -0.0077</td> <td>    0.057</td> <td>   -0.135</td> <td> 0.892</td> <td>   -0.119</td> <td>    0.104</td>\n",
       "</tr>\n",
       "</table>\n",
       "<table class=\"simpletable\">\n",
       "<tr>\n",
       "  <th>Omnibus:</th>       <td>89.527</td> <th>  Durbin-Watson:     </th> <td>   2.143</td>\n",
       "</tr>\n",
       "<tr>\n",
       "  <th>Prob(Omnibus):</th> <td> 0.000</td> <th>  Jarque-Bera (JB):  </th> <td> 237.376</td>\n",
       "</tr>\n",
       "<tr>\n",
       "  <th>Skew:</th>          <td> 1.105</td> <th>  Prob(JB):          </th> <td>2.85e-52</td>\n",
       "</tr>\n",
       "<tr>\n",
       "  <th>Kurtosis:</th>      <td> 6.143</td> <th>  Cond. No.          </th> <td>    80.7</td>\n",
       "</tr>\n",
       "</table><br/><br/>Notes:<br/>[1] Standard Errors assume that the covariance matrix of the errors is correctly specified."
      ],
      "text/plain": [
       "<class 'statsmodels.iolib.summary.Summary'>\n",
       "\"\"\"\n",
       "                            OLS Regression Results                            \n",
       "==============================================================================\n",
       "Dep. Variable:                    BRK   R-squared:                       0.348\n",
       "Model:                            OLS   Adj. R-squared:                  0.338\n",
       "Method:                 Least Squares   F-statistic:                     33.74\n",
       "Date:                Tue, 04 May 2021   Prob (F-statistic):           1.35e-32\n",
       "Time:                        09:26:02   Log-Likelihood:                 628.50\n",
       "No. Observations:                 386   AIC:                            -1243.\n",
       "Df Residuals:                     379   BIC:                            -1215.\n",
       "Df Model:                           6                                         \n",
       "Covariance Type:            nonrobust                                         \n",
       "==============================================================================\n",
       "                 coef    std err          t      P>|t|      [0.025      0.975]\n",
       "------------------------------------------------------------------------------\n",
       "const          0.0046      0.003      1.774      0.077      -0.001       0.010\n",
       "Mkt-RF         0.7599      0.067     11.357      0.000       0.628       0.892\n",
       "SMB           -0.3946      0.091     -4.316      0.000      -0.574      -0.215\n",
       "HML            0.4836      0.118      4.091      0.000       0.251       0.716\n",
       "RMW            0.2687      0.121      2.214      0.027       0.030       0.507\n",
       "CMA           -0.1286      0.172     -0.749      0.454      -0.466       0.209\n",
       "Mom           -0.0077      0.057     -0.135      0.892      -0.119       0.104\n",
       "==============================================================================\n",
       "Omnibus:                       89.527   Durbin-Watson:                   2.143\n",
       "Prob(Omnibus):                  0.000   Jarque-Bera (JB):              237.376\n",
       "Skew:                           1.105   Prob(JB):                     2.85e-52\n",
       "Kurtosis:                       6.143   Cond. No.                         80.7\n",
       "==============================================================================\n",
       "\n",
       "Notes:\n",
       "[1] Standard Errors assume that the covariance matrix of the errors is correctly specified.\n",
       "\"\"\""
      ]
     },
     "execution_count": 138,
     "metadata": {},
     "output_type": "execute_result"
    }
   ],
   "source": [
    "temp=df.copy() \n",
    "x= sm.add_constant(temp.drop(['BRK','RF'],axis=1))\n",
    "y= temp['BRK']\n",
    "results= sm.OLS(y,x).fit()\n",
    "results.summary()"
   ]
  },
  {
   "cell_type": "code",
   "execution_count": 140,
   "id": "pregnant-lexington",
   "metadata": {},
   "outputs": [
    {
     "name": "stdout",
     "output_type": "stream",
     "text": [
      "0.055415983696528254\n"
     ]
    }
   ],
   "source": [
    "print(results.params[0]*12)"
   ]
  },
  {
   "cell_type": "markdown",
   "id": "expected-bicycle",
   "metadata": {},
   "source": [
    "* What do we learn about Warren Investment style?\n",
    "* What do we learn about Warren specific stock picking skills?"
   ]
  },
  {
   "cell_type": "markdown",
   "id": "destroyed-advocate",
   "metadata": {},
   "source": [
    "**Aplication 2: Does Cathie Wood has some secret sauce? Performance evalaution of [ARKK](https://ark-funds.com/arkk)**"
   ]
  },
  {
   "cell_type": "code",
   "execution_count": 141,
   "id": "distinct-mechanics",
   "metadata": {},
   "outputs": [
    {
     "data": {
      "text/plain": [
       "<AxesSubplot:xlabel='date'>"
      ]
     },
     "execution_count": 141,
     "metadata": {},
     "output_type": "execute_result"
    },
    {
     "data": {
      "image/png": "[encoded data removed]",
      "text/plain": [
       "<Figure size 432x288 with 1 Axes>"
      ]
     },
     "metadata": {
      "needs_background": "light"
     },
     "output_type": "display_data"
    }
   ],
   "source": [
    "df=get_returns(['ARKK'],conn,'1/1/1960','1/1/2022',variable='ret')\n",
    "(df+1).cumprod().plot()"
   ]
  },
  {
   "cell_type": "code",
   "execution_count": 142,
   "id": "individual-friendship",
   "metadata": {},
   "outputs": [],
   "source": [
    "df=(dff6/100).merge(df.to_period(\"M\"),left_index=True,right_index=True,how='inner').dropna(how='any')\n",
    "df.rename(columns={14948.0:'ARKK'},inplace=True)\n",
    "df.ARKK=df.ARKK-df.RF"
   ]
  },
  {
   "cell_type": "code",
   "execution_count": 143,
   "id": "adolescent-stadium",
   "metadata": {},
   "outputs": [
    {
     "data": {
      "text/html": [
       "<table class=\"simpletable\">\n",
       "<caption>OLS Regression Results</caption>\n",
       "<tr>\n",
       "  <th>Dep. Variable:</th>          <td>ARKK</td>       <th>  R-squared:         </th> <td>   0.691</td>\n",
       "</tr>\n",
       "<tr>\n",
       "  <th>Model:</th>                   <td>OLS</td>       <th>  Adj. R-squared:    </th> <td>   0.687</td>\n",
       "</tr>\n",
       "<tr>\n",
       "  <th>Method:</th>             <td>Least Squares</td>  <th>  F-statistic:       </th> <td>   160.9</td>\n",
       "</tr>\n",
       "<tr>\n",
       "  <th>Date:</th>             <td>Tue, 04 May 2021</td> <th>  Prob (F-statistic):</th> <td>4.98e-20</td>\n",
       "</tr>\n",
       "<tr>\n",
       "  <th>Time:</th>                 <td>09:28:12</td>     <th>  Log-Likelihood:    </th> <td>  120.93</td>\n",
       "</tr>\n",
       "<tr>\n",
       "  <th>No. Observations:</th>      <td>    74</td>      <th>  AIC:               </th> <td>  -237.9</td>\n",
       "</tr>\n",
       "<tr>\n",
       "  <th>Df Residuals:</th>          <td>    72</td>      <th>  BIC:               </th> <td>  -233.2</td>\n",
       "</tr>\n",
       "<tr>\n",
       "  <th>Df Model:</th>              <td>     1</td>      <th>                     </th>     <td> </td>   \n",
       "</tr>\n",
       "<tr>\n",
       "  <th>Covariance Type:</th>      <td>nonrobust</td>    <th>                     </th>     <td> </td>   \n",
       "</tr>\n",
       "</table>\n",
       "<table class=\"simpletable\">\n",
       "<tr>\n",
       "     <td></td>       <th>coef</th>     <th>std err</th>      <th>t</th>      <th>P>|t|</th>  <th>[0.025</th>    <th>0.975]</th>  \n",
       "</tr>\n",
       "<tr>\n",
       "  <th>const</th>  <td>    0.0115</td> <td>    0.006</td> <td>    2.016</td> <td> 0.048</td> <td>    0.000</td> <td>    0.023</td>\n",
       "</tr>\n",
       "<tr>\n",
       "  <th>Mkt-RF</th> <td>    1.5768</td> <td>    0.124</td> <td>   12.684</td> <td> 0.000</td> <td>    1.329</td> <td>    1.825</td>\n",
       "</tr>\n",
       "</table>\n",
       "<table class=\"simpletable\">\n",
       "<tr>\n",
       "  <th>Omnibus:</th>       <td> 4.334</td> <th>  Durbin-Watson:     </th> <td>   1.974</td>\n",
       "</tr>\n",
       "<tr>\n",
       "  <th>Prob(Omnibus):</th> <td> 0.115</td> <th>  Jarque-Bera (JB):  </th> <td>   3.484</td>\n",
       "</tr>\n",
       "<tr>\n",
       "  <th>Skew:</th>          <td> 0.465</td> <th>  Prob(JB):          </th> <td>   0.175</td>\n",
       "</tr>\n",
       "<tr>\n",
       "  <th>Kurtosis:</th>      <td> 3.516</td> <th>  Cond. No.          </th> <td>    22.3</td>\n",
       "</tr>\n",
       "</table><br/><br/>Notes:<br/>[1] Standard Errors assume that the covariance matrix of the errors is correctly specified."
      ],
      "text/plain": [
       "<class 'statsmodels.iolib.summary.Summary'>\n",
       "\"\"\"\n",
       "                            OLS Regression Results                            \n",
       "==============================================================================\n",
       "Dep. Variable:                   ARKK   R-squared:                       0.691\n",
       "Model:                            OLS   Adj. R-squared:                  0.687\n",
       "Method:                 Least Squares   F-statistic:                     160.9\n",
       "Date:                Tue, 04 May 2021   Prob (F-statistic):           4.98e-20\n",
       "Time:                        09:28:12   Log-Likelihood:                 120.93\n",
       "No. Observations:                  74   AIC:                            -237.9\n",
       "Df Residuals:                      72   BIC:                            -233.2\n",
       "Df Model:                           1                                         \n",
       "Covariance Type:            nonrobust                                         \n",
       "==============================================================================\n",
       "                 coef    std err          t      P>|t|      [0.025      0.975]\n",
       "------------------------------------------------------------------------------\n",
       "const          0.0115      0.006      2.016      0.048       0.000       0.023\n",
       "Mkt-RF         1.5768      0.124     12.684      0.000       1.329       1.825\n",
       "==============================================================================\n",
       "Omnibus:                        4.334   Durbin-Watson:                   1.974\n",
       "Prob(Omnibus):                  0.115   Jarque-Bera (JB):                3.484\n",
       "Skew:                           0.465   Prob(JB):                        0.175\n",
       "Kurtosis:                       3.516   Cond. No.                         22.3\n",
       "==============================================================================\n",
       "\n",
       "Notes:\n",
       "[1] Standard Errors assume that the covariance matrix of the errors is correctly specified.\n",
       "\"\"\""
      ]
     },
     "execution_count": 143,
     "metadata": {},
     "output_type": "execute_result"
    }
   ],
   "source": [
    "temp=df.copy() \n",
    "x= sm.add_constant(temp['Mkt-RF'])\n",
    "y= temp['ARKK']\n",
    "results= sm.OLS(y,x).fit()\n",
    "results.summary()"
   ]
  },
  {
   "cell_type": "code",
   "execution_count": 144,
   "id": "improved-istanbul",
   "metadata": {},
   "outputs": [
    {
     "name": "stdout",
     "output_type": "stream",
     "text": [
      "0.1385421007873513\n"
     ]
    }
   ],
   "source": [
    "print(results.params[0]*12)"
   ]
  },
  {
   "cell_type": "code",
   "execution_count": 145,
   "id": "enabling-provision",
   "metadata": {},
   "outputs": [
    {
     "data": {
      "text/html": [
       "<table class=\"simpletable\">\n",
       "<caption>OLS Regression Results</caption>\n",
       "<tr>\n",
       "  <th>Dep. Variable:</th>          <td>ARKK</td>       <th>  R-squared:         </th> <td>   0.818</td>\n",
       "</tr>\n",
       "<tr>\n",
       "  <th>Model:</th>                   <td>OLS</td>       <th>  Adj. R-squared:    </th> <td>   0.802</td>\n",
       "</tr>\n",
       "<tr>\n",
       "  <th>Method:</th>             <td>Least Squares</td>  <th>  F-statistic:       </th> <td>   50.21</td>\n",
       "</tr>\n",
       "<tr>\n",
       "  <th>Date:</th>             <td>Tue, 04 May 2021</td> <th>  Prob (F-statistic):</th> <td>6.69e-23</td>\n",
       "</tr>\n",
       "<tr>\n",
       "  <th>Time:</th>                 <td>09:28:44</td>     <th>  Log-Likelihood:    </th> <td>  140.55</td>\n",
       "</tr>\n",
       "<tr>\n",
       "  <th>No. Observations:</th>      <td>    74</td>      <th>  AIC:               </th> <td>  -267.1</td>\n",
       "</tr>\n",
       "<tr>\n",
       "  <th>Df Residuals:</th>          <td>    67</td>      <th>  BIC:               </th> <td>  -251.0</td>\n",
       "</tr>\n",
       "<tr>\n",
       "  <th>Df Model:</th>              <td>     6</td>      <th>                     </th>     <td> </td>   \n",
       "</tr>\n",
       "<tr>\n",
       "  <th>Covariance Type:</th>      <td>nonrobust</td>    <th>                     </th>     <td> </td>   \n",
       "</tr>\n",
       "</table>\n",
       "<table class=\"simpletable\">\n",
       "<tr>\n",
       "     <td></td>       <th>coef</th>     <th>std err</th>      <th>t</th>      <th>P>|t|</th>  <th>[0.025</th>    <th>0.975]</th>  \n",
       "</tr>\n",
       "<tr>\n",
       "  <th>const</th>  <td>    0.0059</td> <td>    0.005</td> <td>    1.234</td> <td> 0.221</td> <td>   -0.004</td> <td>    0.015</td>\n",
       "</tr>\n",
       "<tr>\n",
       "  <th>Mkt-RF</th> <td>    1.3860</td> <td>    0.126</td> <td>   11.009</td> <td> 0.000</td> <td>    1.135</td> <td>    1.637</td>\n",
       "</tr>\n",
       "<tr>\n",
       "  <th>SMB</th>    <td>    0.5065</td> <td>    0.210</td> <td>    2.410</td> <td> 0.019</td> <td>    0.087</td> <td>    0.926</td>\n",
       "</tr>\n",
       "<tr>\n",
       "  <th>HML</th>    <td>   -0.8120</td> <td>    0.200</td> <td>   -4.067</td> <td> 0.000</td> <td>   -1.211</td> <td>   -0.413</td>\n",
       "</tr>\n",
       "<tr>\n",
       "  <th>RMW</th>    <td>   -0.1642</td> <td>    0.326</td> <td>   -0.504</td> <td> 0.616</td> <td>   -0.815</td> <td>    0.487</td>\n",
       "</tr>\n",
       "<tr>\n",
       "  <th>CMA</th>    <td>   -0.9219</td> <td>    0.351</td> <td>   -2.624</td> <td> 0.011</td> <td>   -1.623</td> <td>   -0.221</td>\n",
       "</tr>\n",
       "<tr>\n",
       "  <th>Mom   </th> <td>   -0.2654</td> <td>    0.152</td> <td>   -1.747</td> <td> 0.085</td> <td>   -0.569</td> <td>    0.038</td>\n",
       "</tr>\n",
       "</table>\n",
       "<table class=\"simpletable\">\n",
       "<tr>\n",
       "  <th>Omnibus:</th>       <td>10.376</td> <th>  Durbin-Watson:     </th> <td>   2.119</td>\n",
       "</tr>\n",
       "<tr>\n",
       "  <th>Prob(Omnibus):</th> <td> 0.006</td> <th>  Jarque-Bera (JB):  </th> <td>  10.331</td>\n",
       "</tr>\n",
       "<tr>\n",
       "  <th>Skew:</th>          <td> 0.806</td> <th>  Prob(JB):          </th> <td> 0.00571</td>\n",
       "</tr>\n",
       "<tr>\n",
       "  <th>Kurtosis:</th>      <td> 3.866</td> <th>  Cond. No.          </th> <td>    83.6</td>\n",
       "</tr>\n",
       "</table><br/><br/>Notes:<br/>[1] Standard Errors assume that the covariance matrix of the errors is correctly specified."
      ],
      "text/plain": [
       "<class 'statsmodels.iolib.summary.Summary'>\n",
       "\"\"\"\n",
       "                            OLS Regression Results                            \n",
       "==============================================================================\n",
       "Dep. Variable:                   ARKK   R-squared:                       0.818\n",
       "Model:                            OLS   Adj. R-squared:                  0.802\n",
       "Method:                 Least Squares   F-statistic:                     50.21\n",
       "Date:                Tue, 04 May 2021   Prob (F-statistic):           6.69e-23\n",
       "Time:                        09:28:44   Log-Likelihood:                 140.55\n",
       "No. Observations:                  74   AIC:                            -267.1\n",
       "Df Residuals:                      67   BIC:                            -251.0\n",
       "Df Model:                           6                                         \n",
       "Covariance Type:            nonrobust                                         \n",
       "==============================================================================\n",
       "                 coef    std err          t      P>|t|      [0.025      0.975]\n",
       "------------------------------------------------------------------------------\n",
       "const          0.0059      0.005      1.234      0.221      -0.004       0.015\n",
       "Mkt-RF         1.3860      0.126     11.009      0.000       1.135       1.637\n",
       "SMB            0.5065      0.210      2.410      0.019       0.087       0.926\n",
       "HML           -0.8120      0.200     -4.067      0.000      -1.211      -0.413\n",
       "RMW           -0.1642      0.326     -0.504      0.616      -0.815       0.487\n",
       "CMA           -0.9219      0.351     -2.624      0.011      -1.623      -0.221\n",
       "Mom           -0.2654      0.152     -1.747      0.085      -0.569       0.038\n",
       "==============================================================================\n",
       "Omnibus:                       10.376   Durbin-Watson:                   2.119\n",
       "Prob(Omnibus):                  0.006   Jarque-Bera (JB):               10.331\n",
       "Skew:                           0.806   Prob(JB):                      0.00571\n",
       "Kurtosis:                       3.866   Cond. No.                         83.6\n",
       "==============================================================================\n",
       "\n",
       "Notes:\n",
       "[1] Standard Errors assume that the covariance matrix of the errors is correctly specified.\n",
       "\"\"\""
      ]
     },
     "execution_count": 145,
     "metadata": {},
     "output_type": "execute_result"
    }
   ],
   "source": [
    "temp=df.copy() \n",
    "x= sm.add_constant(temp.drop(['ARKK','RF'],axis=1))\n",
    "y= temp['ARKK']\n",
    "results= sm.OLS(y,x).fit()\n",
    "results.summary()"
   ]
  },
  {
   "cell_type": "code",
   "execution_count": 146,
   "id": "western-senegal",
   "metadata": {},
   "outputs": [
    {
     "name": "stdout",
     "output_type": "stream",
     "text": [
      "0.0704257048781867\n"
     ]
    }
   ],
   "source": [
    "print(results.params[0]*12)"
   ]
  },
  {
   "cell_type": "markdown",
   "id": "cooked-pizza",
   "metadata": {},
   "source": [
    "* What do we learn about Cathie Wood investment style?\n",
    "\n",
    "* What do we learn about Cathie Wook investment skills?\n",
    "\n",
    "* How do you think about the R-squared? Is a large Rsquared good or bad in this case?"
   ]
  },
  {
   "cell_type": "markdown",
   "id": "standing-battle",
   "metadata": {
    "tags": []
   },
   "source": [
    "**Application 3: what is a good Momentum ETF?**"
   ]
  },
  {
   "cell_type": "code",
   "execution_count": 171,
   "id": "attractive-summer",
   "metadata": {},
   "outputs": [
    {
     "data": {
      "text/plain": [
       "<AxesSubplot:xlabel='date'>"
      ]
     },
     "execution_count": 171,
     "metadata": {},
     "output_type": "execute_result"
    },
    {
     "data": {
      "image/png": "[encoded data removed]",
      "text/plain": [
       "<Figure size 432x288 with 1 Axes>"
      ]
     },
     "metadata": {
      "needs_background": "light"
     },
     "output_type": "display_data"
    }
   ],
   "source": [
    "names=['VFMO','QMOM','FDMO','MTUM','IMTM','IMOM']\n",
    "dmom=get_returns([names[0]],conn,'1/1/1960','1/1/2022')\n",
    "for n in names[1:]:\n",
    "    df=get_returns([n],conn,'1/1/1960','1/1/2022')\n",
    "    dmom=dmom.merge(df,left_index=True,right_index=True,how='outer')\n",
    "dmom.columns=names    \n",
    "(dmom+1).cumprod().plot()"
   ]
  },
  {
   "cell_type": "code",
   "execution_count": 184,
   "id": "received-deadline",
   "metadata": {},
   "outputs": [],
   "source": [
    "\n",
    "# lets merge\n",
    "df=(dff6/100).merge(dmom.to_period(\"M\"),left_index=True,right_index=True,how='inner')\n",
    "# lets conver to excess returns\n",
    "df[names]=df[names].subtract(df['RF'],axis=0)"
   ]
  },
  {
   "cell_type": "code",
   "execution_count": 180,
   "id": "wicked-government",
   "metadata": {},
   "outputs": [
    {
     "data": {
      "text/plain": [
       "Index(['Mkt-RF', 'SMB', 'HML', 'RMW', 'CMA', 'RF', 'Mom   ', 'VFMO', 'QMOM',\n",
       "       'FDMO', 'MTUM', 'IMTM', 'IMOM'],\n",
       "      dtype='object')"
      ]
     },
     "execution_count": 180,
     "metadata": {},
     "output_type": "execute_result"
    }
   ],
   "source": [
    "temp.columns"
   ]
  },
  {
   "cell_type": "code",
   "execution_count": 188,
   "id": "grave-innocent",
   "metadata": {},
   "outputs": [
    {
     "data": {
      "text/html": [
       "<div>\n",
       "<style scoped>\n",
       "    .dataframe tbody tr th:only-of-type {\n",
       "        vertical-align: middle;\n",
       "    }\n",
       "\n",
       "    .dataframe tbody tr th {\n",
       "        vertical-align: top;\n",
       "    }\n",
       "\n",
       "    .dataframe thead th {\n",
       "        text-align: right;\n",
       "    }\n",
       "</style>\n",
       "<table border=\"1\" class=\"dataframe\">\n",
       "  <thead>\n",
       "    <tr style=\"text-align: right;\">\n",
       "      <th></th>\n",
       "      <th>VFMO</th>\n",
       "      <th>QMOM</th>\n",
       "      <th>FDMO</th>\n",
       "      <th>MTUM</th>\n",
       "      <th>IMTM</th>\n",
       "      <th>IMOM</th>\n",
       "    </tr>\n",
       "  </thead>\n",
       "  <tbody>\n",
       "    <tr>\n",
       "      <th>alpha</th>\n",
       "      <td>-0.001458</td>\n",
       "      <td>-0.002718</td>\n",
       "      <td>-0.002354</td>\n",
       "      <td>0.001112</td>\n",
       "      <td>-0.002008</td>\n",
       "      <td>-0.005894</td>\n",
       "    </tr>\n",
       "    <tr>\n",
       "      <th>t(alpha)</th>\n",
       "      <td>-0.430959</td>\n",
       "      <td>-0.63581</td>\n",
       "      <td>-1.664363</td>\n",
       "      <td>0.869311</td>\n",
       "      <td>-0.847557</td>\n",
       "      <td>-1.459713</td>\n",
       "    </tr>\n",
       "    <tr>\n",
       "      <th>betamkt</th>\n",
       "      <td>1.132283</td>\n",
       "      <td>1.39176</td>\n",
       "      <td>1.024135</td>\n",
       "      <td>1.00483</td>\n",
       "      <td>0.761741</td>\n",
       "      <td>0.958616</td>\n",
       "    </tr>\n",
       "    <tr>\n",
       "      <th>t(betamkt)</th>\n",
       "      <td>16.762846</td>\n",
       "      <td>13.753471</td>\n",
       "      <td>31.996319</td>\n",
       "      <td>31.597999</td>\n",
       "      <td>13.558808</td>\n",
       "      <td>10.029335</td>\n",
       "    </tr>\n",
       "    <tr>\n",
       "      <th>betamom</th>\n",
       "      <td>0.186237</td>\n",
       "      <td>0.394746</td>\n",
       "      <td>0.254752</td>\n",
       "      <td>0.345416</td>\n",
       "      <td>0.09699</td>\n",
       "      <td>0.15187</td>\n",
       "    </tr>\n",
       "    <tr>\n",
       "      <th>t(betamom)</th>\n",
       "      <td>2.178768</td>\n",
       "      <td>3.281823</td>\n",
       "      <td>6.461063</td>\n",
       "      <td>9.626601</td>\n",
       "      <td>1.568105</td>\n",
       "      <td>1.336749</td>\n",
       "    </tr>\n",
       "    <tr>\n",
       "      <th>R-squared</th>\n",
       "      <td>0.917845</td>\n",
       "      <td>0.782982</td>\n",
       "      <td>0.960205</td>\n",
       "      <td>0.919332</td>\n",
       "      <td>0.756383</td>\n",
       "      <td>0.674357</td>\n",
       "    </tr>\n",
       "    <tr>\n",
       "      <th>indio risk</th>\n",
       "      <td>0.064076</td>\n",
       "      <td>0.107838</td>\n",
       "      <td>0.032342</td>\n",
       "      <td>0.039782</td>\n",
       "      <td>0.065174</td>\n",
       "      <td>0.101857</td>\n",
       "    </tr>\n",
       "    <tr>\n",
       "      <th>sample size</th>\n",
       "      <td>34.0</td>\n",
       "      <td>60.0</td>\n",
       "      <td>51.0</td>\n",
       "      <td>92.0</td>\n",
       "      <td>71.0</td>\n",
       "      <td>60.0</td>\n",
       "    </tr>\n",
       "  </tbody>\n",
       "</table>\n",
       "</div>"
      ],
      "text/plain": [
       "                  VFMO       QMOM       FDMO       MTUM       IMTM       IMOM\n",
       "alpha        -0.001458  -0.002718  -0.002354   0.001112  -0.002008  -0.005894\n",
       "t(alpha)     -0.430959   -0.63581  -1.664363   0.869311  -0.847557  -1.459713\n",
       "betamkt       1.132283    1.39176   1.024135    1.00483   0.761741   0.958616\n",
       "t(betamkt)   16.762846  13.753471  31.996319  31.597999  13.558808  10.029335\n",
       "betamom       0.186237   0.394746   0.254752   0.345416    0.09699    0.15187\n",
       "t(betamom)    2.178768   3.281823   6.461063   9.626601   1.568105   1.336749\n",
       "R-squared     0.917845   0.782982   0.960205   0.919332   0.756383   0.674357\n",
       "indio risk    0.064076   0.107838   0.032342   0.039782   0.065174   0.101857\n",
       "sample size       34.0       60.0       51.0       92.0       71.0       60.0"
      ]
     },
     "execution_count": 188,
     "metadata": {},
     "output_type": "execute_result"
    }
   ],
   "source": [
    "temp=df.copy() \n",
    "x= sm.add_constant(temp[['Mkt-RF','Mom   ']])\n",
    "results=pd.DataFrame([],index=[],columns=names)\n",
    "for n in names:\n",
    "    y= temp[n]\n",
    "    res= sm.OLS(y,x,missing='drop').fit()\n",
    "    results.at['alpha',n]=res.params[0]\n",
    "    results.at['t(alpha)',n]=res.tvalues[0]\n",
    "    results.at['betamkt',n]=res.params[1]\n",
    "    results.at['t(betamkt)',n]=res.tvalues[1]\n",
    "    results.at['betamom',n]=res.params[2]\n",
    "    results.at['t(betamom)',n]=res.tvalues[2]\n",
    "    results.at['R-squared',n]=res.rsquared\n",
    "    results.at['indio risk',n]=res.resid.std()*12**0.5\n",
    "    results.at['sample size',n]=res.nobs\n",
    "results"
   ]
  },
  {
   "cell_type": "markdown",
   "id": "finite-child",
   "metadata": {},
   "source": [
    "* what do you conclude?\n",
    "\n",
    "* Which ETF would you pick?\n",
    "\n",
    "* How to think about the alpha here?\n",
    "\n",
    "* How do you think about the R-squared? Is a large Rsquared good or bad in this case?\n",
    "\n",
    "* How do you account for the differnece in market betas when investing?"
   ]
  }
 ],
 "metadata": {
  "kernelspec": {
   "display_name": "Python 3",
   "language": "python",
   "name": "python3"
  },
  "language_info": {
   "codemirror_mode": {
    "name": "ipython",
    "version": 3
   },
   "file_extension": ".py",
   "mimetype": "text/x-python",
   "name": "python",
   "nbconvert_exporter": "python",
   "pygments_lexer": "ipython3",
   "version": "3.8.5"
  }
 },
 "nbformat": 4,
 "nbformat_minor": 5
}
