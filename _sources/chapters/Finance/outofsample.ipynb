{
 "cells": [
  {
   "cell_type": "code",
   "execution_count": 1,
   "metadata": {
    "colab": {},
    "colab_type": "code",
    "id": "82IDb6GmdibW"
   },
   "outputs": [],
   "source": [
    "# First we start loading our favourite packages with the names we used to\n",
    "import numpy as np\n",
    "import pandas as pd\n",
    "%matplotlib inline\n",
    "import matplotlib.pyplot as plt\n",
    "# import regression package\n",
    "import statsmodels.api as sm"
   ]
  },
  {
   "cell_type": "markdown",
   "metadata": {},
   "source": [
    "# Out of sample analysis\n",
    "\n",
    "* In Chapter 11 we saw how in sample results are often a poor guide to how things behave out of sample\n",
    "\n",
    "* The abit of lookign for large t-stats only partially guard agaisnt that because you will be searching for things that have high t-stats and you are bound to find high t-stat strategies **in sample** even if no true large alpha strategy exists.\n",
    "\n",
    "* the literature on the biases that the \"strategy discovery\" process creates is vast and growing and plagues lots and lots of fields beyond investing where data is costly to generate (you cannot ask the market to rerun the last 100 years!)\n",
    "\n",
    "**Literature**\n",
    "\n",
    "* [False (and Missed) Discoveries in Financial Economics](https://faculty.fuqua.duke.edu/~charvey/Research/Published_Papers/P143_False_and_missed_OL.pdf)\n",
    "\n",
    "* [Predicting Anomaly Performance with Politics, the Weather, Global Warming, Sunspots, and the Stars](http://rnm.simon.rochester.edu/research/PPiCToAPA.pdf) by Rober Novy Marx\n",
    "\n",
    "* [A comprehensive look at the empirical performance of equity premium prediction](https://academic.oup.com/rfs/article-abstract/21/4/1455/1565737)\n",
    "\n",
    "Inspecting whether your discovery is **TRUE** or just a statistical abnormality is science as much as it is art. \n",
    "\n",
    "Patterns that are so statisitcally reliable that eveyone can easily detect are unlikely to stay for long unless it is compensation for true risk. \n",
    "\n",
    "So you are unlikely to find something that makes sense only based on the stats and you will need to use your **economic logic** to evalaute if you cna understand why the premium is as high as it is. We will discuss this less \"quantitative\" part of the process in the chapter Equilibrium Thinking.\n",
    "\n",
    "Here we will highlight the problem and discuss a few statistical techiniques.\n",
    "\n",
    "Here are a few Twitter threads from people in the industry about this\n",
    "\n",
    "* [someone tells you they have a strategy with a Sharpe of S. What questions should you be asking about the strategy to verify that it's real?](https://twitter.com/macrocephalopod/status/1359810769433616384)\n",
    "\n",
    "* [overfiting](https://twitter.com/macrocephalopod/status/1362165448205295620?s=20)\n",
    "\n",
    "It has this really nice plot\n",
    "\n",
    "![outofsample](../../assets/plots/outofsample1.jpg)\n",
    "\n",
    "\n",
    "> What does it tell us?\n",
    "\n",
    "* [The dumbest strategy ever created](https://imarketsignals.com/2021/outperforming-the-sp-500-with-50-consensus-stock-holdings-of-40-large-hedge-funds/)\n",
    "\n",
    "* [We are always looking for patterns, be careful!](https://twitter.com/nope_its_lily/status/1368623837961621505)"
   ]
  },
  {
   "cell_type": "markdown",
   "metadata": {},
   "source": [
    "**Estimation and Test Samples**\n",
    "\n",
    "Last chapter we used MV logic to constuct a portfolio with the maximum SR.\n",
    "\n",
    "To evaluate whether this approach works well in the data what can we do?\n",
    "\n",
    "Jsut looking at the sample where we did the estiamtion is not a realistic description of how you actually deploy the strategy whcih will have to trade on data that was was never seen/digested by your methodology\n",
    "\n",
    "One way to do it is to split the sample in two:\n",
    "\n",
    "* **Estimation sample**: This is the sample we will use to estimate moments, construct the portfolios, and so on. That is where your discovery process will take place. Where you will play with different parameters of the strategy. Statistical tests here are not valid\n",
    "\n",
    "\n",
    "* **Test sample**: You will use this to run statistical test and see how your meothod to construct weights .\n",
    "\n",
    "\n",
    "\n",
    "\n"
   ]
  },
  {
   "cell_type": "code",
   "execution_count": 90,
   "metadata": {},
   "outputs": [],
   "source": [
    "def SR(R,W=[],freq=12):\n",
    "    if np.empty(W):\n",
    "        sr=R.mean()/R.std()*freq**0.5\n",
    "    else:\n",
    "        r=R@W\n",
    "        sr=r.mean()/r.std()*freq**0.5\n",
    "    return sr"
   ]
  },
  {
   "cell_type": "markdown",
   "metadata": {},
   "source": [
    "**Aplication 1: optimal combitation of market and value strategies**\n",
    "\n",
    "Below is our full sample optimal portfolio\n",
    "\n",
    "We will split our sample into two halves:  \n",
    " 1. take all observations from odd months in even years and even months in odd years (i.e., if starting in 1980, this would look like:  01/1980, 03/1980, . . . , 11/1980, 02/1981, 04/1981, . . . 12/1981, 01/1982, 03/1982, . . .); and \n",
    " 2.  the opposite (take all observations from even months in even years and odd months in odd years).\n",
    "\n",
    "A nice thing to do in halves is that we can cross-validated  use first sample 1 as estiamtion sample and sample2 as test sample, and then invert\n",
    "\n",
    "If you have lot of data one migh split the data in 5 folds and do the estimation in one and test on the rest.\n"
   ]
  },
  {
   "cell_type": "code",
   "execution_count": 2,
   "metadata": {},
   "outputs": [
    {
     "data": {
      "text/html": [
       "<div>\n",
       "<style scoped>\n",
       "    .dataframe tbody tr th:only-of-type {\n",
       "        vertical-align: middle;\n",
       "    }\n",
       "\n",
       "    .dataframe tbody tr th {\n",
       "        vertical-align: top;\n",
       "    }\n",
       "\n",
       "    .dataframe thead th {\n",
       "        text-align: right;\n",
       "    }\n",
       "</style>\n",
       "<table border=\"1\" class=\"dataframe\">\n",
       "  <thead>\n",
       "    <tr style=\"text-align: right;\">\n",
       "      <th></th>\n",
       "      <th>Mkt-RF</th>\n",
       "      <th>SMB</th>\n",
       "      <th>HML</th>\n",
       "      <th>RF</th>\n",
       "    </tr>\n",
       "    <tr>\n",
       "      <th>Date</th>\n",
       "      <th></th>\n",
       "      <th></th>\n",
       "      <th></th>\n",
       "      <th></th>\n",
       "    </tr>\n",
       "  </thead>\n",
       "  <tbody>\n",
       "    <tr>\n",
       "      <th>1926-07</th>\n",
       "      <td>2.96</td>\n",
       "      <td>-2.30</td>\n",
       "      <td>-2.87</td>\n",
       "      <td>0.22</td>\n",
       "    </tr>\n",
       "    <tr>\n",
       "      <th>1926-08</th>\n",
       "      <td>2.64</td>\n",
       "      <td>-1.40</td>\n",
       "      <td>4.19</td>\n",
       "      <td>0.25</td>\n",
       "    </tr>\n",
       "    <tr>\n",
       "      <th>1926-09</th>\n",
       "      <td>0.36</td>\n",
       "      <td>-1.32</td>\n",
       "      <td>0.01</td>\n",
       "      <td>0.23</td>\n",
       "    </tr>\n",
       "    <tr>\n",
       "      <th>1926-10</th>\n",
       "      <td>-3.24</td>\n",
       "      <td>0.04</td>\n",
       "      <td>0.51</td>\n",
       "      <td>0.32</td>\n",
       "    </tr>\n",
       "    <tr>\n",
       "      <th>1926-11</th>\n",
       "      <td>2.53</td>\n",
       "      <td>-0.20</td>\n",
       "      <td>-0.35</td>\n",
       "      <td>0.31</td>\n",
       "    </tr>\n",
       "    <tr>\n",
       "      <th>...</th>\n",
       "      <td>...</td>\n",
       "      <td>...</td>\n",
       "      <td>...</td>\n",
       "      <td>...</td>\n",
       "    </tr>\n",
       "    <tr>\n",
       "      <th>2020-11</th>\n",
       "      <td>12.47</td>\n",
       "      <td>5.48</td>\n",
       "      <td>2.11</td>\n",
       "      <td>0.01</td>\n",
       "    </tr>\n",
       "    <tr>\n",
       "      <th>2020-12</th>\n",
       "      <td>4.63</td>\n",
       "      <td>4.81</td>\n",
       "      <td>-1.36</td>\n",
       "      <td>0.01</td>\n",
       "    </tr>\n",
       "    <tr>\n",
       "      <th>2021-01</th>\n",
       "      <td>-0.03</td>\n",
       "      <td>7.19</td>\n",
       "      <td>2.85</td>\n",
       "      <td>0.00</td>\n",
       "    </tr>\n",
       "    <tr>\n",
       "      <th>2021-02</th>\n",
       "      <td>2.78</td>\n",
       "      <td>2.11</td>\n",
       "      <td>7.08</td>\n",
       "      <td>0.00</td>\n",
       "    </tr>\n",
       "    <tr>\n",
       "      <th>2021-03</th>\n",
       "      <td>3.09</td>\n",
       "      <td>-2.48</td>\n",
       "      <td>7.40</td>\n",
       "      <td>0.00</td>\n",
       "    </tr>\n",
       "  </tbody>\n",
       "</table>\n",
       "<p>1137 rows × 4 columns</p>\n",
       "</div>"
      ],
      "text/plain": [
       "         Mkt-RF   SMB   HML    RF\n",
       "Date                             \n",
       "1926-07    2.96 -2.30 -2.87  0.22\n",
       "1926-08    2.64 -1.40  4.19  0.25\n",
       "1926-09    0.36 -1.32  0.01  0.23\n",
       "1926-10   -3.24  0.04  0.51  0.32\n",
       "1926-11    2.53 -0.20 -0.35  0.31\n",
       "...         ...   ...   ...   ...\n",
       "2020-11   12.47  5.48  2.11  0.01\n",
       "2020-12    4.63  4.81 -1.36  0.01\n",
       "2021-01   -0.03  7.19  2.85  0.00\n",
       "2021-02    2.78  2.11  7.08  0.00\n",
       "2021-03    3.09 -2.48  7.40  0.00\n",
       "\n",
       "[1137 rows x 4 columns]"
      ]
     },
     "execution_count": 2,
     "metadata": {},
     "output_type": "execute_result"
    }
   ],
   "source": [
    "# loading the data\n",
    "from pandas_datareader.famafrench import get_available_datasets\n",
    "import pandas_datareader.data as web\n",
    "ds_names=get_available_datasets()\n",
    "from datetime import datetime\n",
    "start = datetime(1926, 1, 1)\n",
    "ds = web.DataReader(ds_names[0], 'famafrench',start=start)\n",
    "df=ds[0][:'2021-3']\n",
    "df"
   ]
  },
  {
   "cell_type": "code",
   "execution_count": 68,
   "metadata": {},
   "outputs": [
    {
     "data": {
      "text/plain": [
       "0.5010016962253796"
      ]
     },
     "execution_count": 68,
     "metadata": {},
     "output_type": "execute_result"
    }
   ],
   "source": [
    "W=df[['Mkt-RF','HML']].mean()@np.linalg.inv(df[['Mkt-RF','HML']].cov())\n",
    "# formula for unlevereaged portfolio vol\n",
    "vol_unlevered=(df[['Mkt-RF','HML']].mean()@np.linalg.inv(df[['Mkt-RF','HML']].cov())@df[['Mkt-RF','HML']].mean())**0.5\n",
    "W_lev=W*(df['Mkt-RF'].std()/vol_unlevered)\n",
    "Optimalportfolio= df[['Mkt-RF','HML']] @ W_lev\n",
    "SR(Optimalportfolio)"
   ]
  },
  {
   "cell_type": "markdown",
   "metadata": {},
   "source": [
    "Letss construct both samples by using a function that returns `True` if the number is odd and then apply this function to the months and years of our dataset."
   ]
  },
  {
   "cell_type": "code",
   "execution_count": 74,
   "metadata": {},
   "outputs": [],
   "source": [
    "def is_odd(num):\n",
    "    return num % 2 != 0\n",
    "\n",
    "evenyear_oddmonth=(is_odd(df.index.year)==False) & (is_odd(df.index.month)==True)\n",
    "oddyear_evenmonth=(is_odd(df.index.year)==True) & (is_odd(df.index.month)==False)\n",
    "\n",
    "sample1=evenyear_oddmonth | oddyear_evenmonth\n",
    "# sample2 is just the opposite of sample 1.What is true becomes false and what is false becomes true\n",
    "sample2=~sample1"
   ]
  },
  {
   "cell_type": "markdown",
   "metadata": {},
   "source": [
    "Lets construct a function that takes the sample and returns the SR"
   ]
  },
  {
   "cell_type": "code",
   "execution_count": 91,
   "metadata": {},
   "outputs": [
    {
     "name": "stdout",
     "output_type": "stream",
     "text": [
      "Optimal portfolio perfomance in sample 2 (estimation sample 1)\n",
      "0.5398648872236791\n",
      "Market perfomance in sample 2\n",
      "Mkt-RF    0.502882\n",
      "dtype: float64\n",
      "Optimal portfolio perfomance in sample 1 (estimation sample 2)\n",
      "0.4543626900658743\n",
      "Market perfomance in sample 1\n",
      "Mkt-RF    0.386996\n",
      "dtype: float64\n"
     ]
    }
   ],
   "source": [
    "def Strategy(df1,estsample):\n",
    "    W=df1[estsample].mean()@np.linalg.inv(df1[estsample].cov())\n",
    "    # formula for unlevereaged portfolio vol\n",
    "    vol_unlevered=(df1[estsample].mean()@np.linalg.inv(df1[estsample].cov())@df1[estsample].mean())**0.5\n",
    "    W_lev=W*(df1['Mkt-RF'][estsample].std()/vol_unlevered)\n",
    "    Optimalportfolio= df1[~estsample] @ W_lev\n",
    "    return SR(Optimalportfolio)\n",
    "print('Optimal portfolio perfomance in sample 2 (estimation sample 1)')\n",
    "print(Strategy(df[['Mkt-RF','HML']],sample1))\n",
    "print('Market perfomance in sample 2')\n",
    "print(SR(df[['Mkt-RF']][sample2]))\n",
    "print('Optimal portfolio perfomance in sample 1 (estimation sample 2)')\n",
    "print(Strategy(df[['Mkt-RF','HML']],sample2))\n",
    "print('Market perfomance in sample 1')\n",
    "print(SR(df[['Mkt-RF']][sample1]))\n"
   ]
  },
  {
   "cell_type": "markdown",
   "metadata": {},
   "source": [
    "In terms of Sharpe Ratios it seems to pass the test.\n",
    "\n",
    "But this is simply one number. We can use our regression approach to formally test if indeed the optimal portfolio is likely to add value to the market\n",
    "\n",
    "Lets modify our function to include the estimation of the alpha\n",
    "\n",
    "While we are at it I will also add a `results` container so I can store the test sample SR and vol of the optimal portfolio and the market and the alpha and t-value as well"
   ]
  },
  {
   "cell_type": "code",
   "execution_count": 97,
   "metadata": {},
   "outputs": [
    {
     "data": {
      "text/plain": [
       "test    1.6\n",
       "dtype: float64"
      ]
     },
     "execution_count": 97,
     "metadata": {},
     "output_type": "execute_result"
    }
   ],
   "source": [
    "results=pd.Series([],index=[],dtype=float)\n",
    "results.at['test']=1.6\n",
    "results"
   ]
  },
  {
   "cell_type": "code",
   "execution_count": 115,
   "metadata": {},
   "outputs": [
    {
     "name": "stdout",
     "output_type": "stream",
     "text": [
      "Results for  test sample 2 (estimation sample 1)\n",
      "Optimal:SR      0.539865\n",
      "Optimal:std    18.266698\n",
      "MKT:SR          0.502882\n",
      "MKT:std        18.065852\n",
      "alpha           0.171085\n",
      "t(alpha)        1.452817\n",
      "dtype: float64\n",
      "Results for  test sample 1 (estimation sample 2)\n"
     ]
    },
    {
     "data": {
      "text/plain": [
       "Optimal:SR      0.454363\n",
       "Optimal:std    18.799615\n",
       "MKT:SR          0.386996\n",
       "MKT:std        18.989705\n",
       "alpha           0.156391\n",
       "t(alpha)        1.701049\n",
       "dtype: float64"
      ]
     },
     "execution_count": 115,
     "metadata": {},
     "output_type": "execute_result"
    }
   ],
   "source": [
    "def Strategy(df1,estsample):\n",
    "    results=pd.Series([],index=[],dtype=float)\n",
    "    W1=df1[estsample].mean()@np.linalg.inv(df1[estsample].cov())\n",
    "    # formula for unlevereaged portfolio vol\n",
    "    vol_unlevered=(df1[estsample].mean()@np.linalg.inv(df1[estsample].cov())@df1[estsample].mean())**0.5\n",
    "    W_lev=W1*(df1['Mkt-RF'][estsample].std()/vol_unlevered)\n",
    "    Optimalportfolio= df1[~estsample] @ W_lev\n",
    "    results.at['Optimal:SR']=SR(Optimalportfolio)\n",
    "    results.at['Optimal:std']=Optimalportfolio.std()*12**0.5\n",
    "    results.at['MKT:SR']=SR(df1[~estsample]['Mkt-RF'])\n",
    "    results.at['MKT:std']=df1[~estsample]['Mkt-RF'].std()*12**0.5\n",
    "    # now run the regression\n",
    "    x= sm.add_constant(df1[~estsample]['Mkt-RF'])\n",
    "    y= Optimalportfolio.copy()\n",
    "    regresult= sm.OLS(y,x).fit()\n",
    "    results.at['alpha']=regresult.params[0]\n",
    "    results.at['t(alpha)']=regresult.tvalues[0]\n",
    "    \n",
    "    return results\n",
    "print('Results for  test sample 2 (estimation sample 1)')\n",
    "print(Strategy(df[['Mkt-RF','HML']],sample1))\n",
    "print('Results for  test sample 1 (estimation sample 2)')\n",
    "Strategy(df[['Mkt-RF','HML']],sample2)"
   ]
  },
  {
   "cell_type": "markdown",
   "metadata": {},
   "source": [
    "We see several intersting things\n",
    "\n",
    "* The vol targeting works pretty well out of sample. Our portfolio ended up with a similar vol to the market. \n",
    "\n",
    "> Why is that? Is it surprising/expected? Do you expect to do as well in vol targeting in real life trading? Why why not?\n",
    "\n",
    "* The alphas are there (given that the SR were higher , this mechanically means that the alphas would be non zero), but the t-values do not suggest this was a super robust feauture of the data. \n",
    "\n",
    "* What does that mean? It means that $\\sigma(r^{optimal}_t-\\beta r^{mkt}_t)$ was sufficienly volatile in the test sample that there is a greater than 10% change that the market is tangency in sample 2 and a slight lower than 10% chance that is tangency in sample 1.\n",
    "\n",
    "* this is not bad, but it is not good either. If both were above 2 it would be prettry solid."
   ]
  },
  {
   "cell_type": "markdown",
   "metadata": {},
   "source": [
    "**How to split your sample**\n",
    "\n",
    "* You can split the sample in a variety of ways. I did a fancy one above just to showcase it.\n",
    "\n",
    "* But I would typically recommend to keep it simple and simply split the sample down the middle.\n",
    "\n",
    "* This has the advantage of keeping any non-homocedastic features of the data intact. For example, volatiltiy is highly clustered, so when we split the way we split above we are almost makign sure that the volatiltiy is about the same in both months. So this is not a great method to split if your strategy really depends on timing volaitltiy well.\n",
    "\n",
    "* You don't even need to split the samples equally, but you have to have in mind that a long sample is useful to both get precise point estimates (so you need a long estiamtion sample), but a logn sample is also required to have enought power to test. IF you make the test sample too short, you are guarantteing that you will fail to reject your reference portfolio"
   ]
  },
  {
   "cell_type": "markdown",
   "metadata": {},
   "source": [
    "**Fine tuning your strategy**\n",
    "\n",
    "We know have three piece of data. \n",
    "\n",
    "* **Estimation sample**: The estiamtion sample is exactyl as before. This is the sample we will use to estimate moments, construct the portfolios, and so on. That is where your discovery process will take place. Where you will play with different parameters of the strategy. Statistical tests here are not valid\n",
    "\n",
    "But now the Test sample will change and we will introduce the concept of the hold out sample\n",
    "\n",
    "* **Test sample**: You will use this to run statistical test and see how a particular parameter configuration works on unseen data. In practice you will do the testing multiple times. For example in this example we will play with the look back windown of the covariance estimator, mean estimator and so on. \n",
    "\n",
    "    - So information of the test sample will leak to your method as you do the search.\n",
    "    \n",
    "    - You might settle on a particular specification becasue it worked on this particular sample, but not becasuse it is the most robust out of sample\n",
    "    \n",
    "    - So when you are searching for the specification that works you have the be very careful to not search \"TOO MUCH\"\" so you are overfitting the Test sample\n",
    "    \n",
    "* **Holdout sample**: This is data that your method never looked. That is the true test. You only look at it once you are confident you have a good specification. The hold sample are a much closer reflection of the reality of trading.\n",
    "    - of course it is impossible to really reproduce the reality of trading on future data and information of the holdout sample might leak through the fact that the researcher know what happened in that sample: there was a fiancial crash, a crypto boom, value did poorly and so on. \n",
    "    - This knowledge migth implicly guide your search process. \n",
    "    - So you have to be mindful of why you are makign the choices you are making to gaurd against this form of **look-ahead bias**"
   ]
  },
  {
   "cell_type": "markdown",
   "metadata": {},
   "source": [
    "**Aplication 2: fine-tuning the look-back window**\n",
    "\n",
    "Once you start playing with the look-back window that we use to estimate our moments we will need to figure out what works.\n",
    "\n",
    "The trade-off here is:\n",
    "\n",
    " - If you make to short you jsut pick up noise\n",
    " - If you make too long the moments might not be that informative about future data\n",
    " - Particularly true in he case of volatility, but also true for correlations\n",
    " \n",
    " \n",
    " We will split the sample in two. The first half will be estiamtion+test, second hald will be hold out\n",
    " \n",
    " "
   ]
  },
  {
   "cell_type": "code",
   "execution_count": 123,
   "metadata": {},
   "outputs": [
    {
     "data": {
      "text/html": [
       "<div>\n",
       "<style scoped>\n",
       "    .dataframe tbody tr th:only-of-type {\n",
       "        vertical-align: middle;\n",
       "    }\n",
       "\n",
       "    .dataframe tbody tr th {\n",
       "        vertical-align: top;\n",
       "    }\n",
       "\n",
       "    .dataframe thead th {\n",
       "        text-align: right;\n",
       "    }\n",
       "</style>\n",
       "<table border=\"1\" class=\"dataframe\">\n",
       "  <thead>\n",
       "    <tr style=\"text-align: right;\">\n",
       "      <th></th>\n",
       "      <th>Mkt-RF</th>\n",
       "      <th>SMB</th>\n",
       "      <th>HML</th>\n",
       "      <th>RF</th>\n",
       "    </tr>\n",
       "    <tr>\n",
       "      <th>Date</th>\n",
       "      <th></th>\n",
       "      <th></th>\n",
       "      <th></th>\n",
       "      <th></th>\n",
       "    </tr>\n",
       "  </thead>\n",
       "  <tbody>\n",
       "    <tr>\n",
       "      <th>1926-07</th>\n",
       "      <td>2.96</td>\n",
       "      <td>-2.30</td>\n",
       "      <td>-2.87</td>\n",
       "      <td>0.22</td>\n",
       "    </tr>\n",
       "    <tr>\n",
       "      <th>1926-08</th>\n",
       "      <td>2.64</td>\n",
       "      <td>-1.40</td>\n",
       "      <td>4.19</td>\n",
       "      <td>0.25</td>\n",
       "    </tr>\n",
       "    <tr>\n",
       "      <th>1926-09</th>\n",
       "      <td>0.36</td>\n",
       "      <td>-1.32</td>\n",
       "      <td>0.01</td>\n",
       "      <td>0.23</td>\n",
       "    </tr>\n",
       "    <tr>\n",
       "      <th>1926-10</th>\n",
       "      <td>-3.24</td>\n",
       "      <td>0.04</td>\n",
       "      <td>0.51</td>\n",
       "      <td>0.32</td>\n",
       "    </tr>\n",
       "    <tr>\n",
       "      <th>1926-11</th>\n",
       "      <td>2.53</td>\n",
       "      <td>-0.20</td>\n",
       "      <td>-0.35</td>\n",
       "      <td>0.31</td>\n",
       "    </tr>\n",
       "    <tr>\n",
       "      <th>...</th>\n",
       "      <td>...</td>\n",
       "      <td>...</td>\n",
       "      <td>...</td>\n",
       "      <td>...</td>\n",
       "    </tr>\n",
       "    <tr>\n",
       "      <th>2020-11</th>\n",
       "      <td>12.47</td>\n",
       "      <td>5.48</td>\n",
       "      <td>2.11</td>\n",
       "      <td>0.01</td>\n",
       "    </tr>\n",
       "    <tr>\n",
       "      <th>2020-12</th>\n",
       "      <td>4.63</td>\n",
       "      <td>4.81</td>\n",
       "      <td>-1.36</td>\n",
       "      <td>0.01</td>\n",
       "    </tr>\n",
       "    <tr>\n",
       "      <th>2021-01</th>\n",
       "      <td>-0.03</td>\n",
       "      <td>7.19</td>\n",
       "      <td>2.85</td>\n",
       "      <td>0.00</td>\n",
       "    </tr>\n",
       "    <tr>\n",
       "      <th>2021-02</th>\n",
       "      <td>2.78</td>\n",
       "      <td>2.11</td>\n",
       "      <td>7.08</td>\n",
       "      <td>0.00</td>\n",
       "    </tr>\n",
       "    <tr>\n",
       "      <th>2021-03</th>\n",
       "      <td>3.09</td>\n",
       "      <td>-2.48</td>\n",
       "      <td>7.40</td>\n",
       "      <td>0.00</td>\n",
       "    </tr>\n",
       "  </tbody>\n",
       "</table>\n",
       "<p>1137 rows × 4 columns</p>\n",
       "</div>"
      ],
      "text/plain": [
       "         Mkt-RF   SMB   HML    RF\n",
       "Date                             \n",
       "1926-07    2.96 -2.30 -2.87  0.22\n",
       "1926-08    2.64 -1.40  4.19  0.25\n",
       "1926-09    0.36 -1.32  0.01  0.23\n",
       "1926-10   -3.24  0.04  0.51  0.32\n",
       "1926-11    2.53 -0.20 -0.35  0.31\n",
       "...         ...   ...   ...   ...\n",
       "2020-11   12.47  5.48  2.11  0.01\n",
       "2020-12    4.63  4.81 -1.36  0.01\n",
       "2021-01   -0.03  7.19  2.85  0.00\n",
       "2021-02    2.78  2.11  7.08  0.00\n",
       "2021-03    3.09 -2.48  7.40  0.00\n",
       "\n",
       "[1137 rows x 4 columns]"
      ]
     },
     "execution_count": 123,
     "metadata": {},
     "output_type": "execute_result"
    }
   ],
   "source": [
    "df"
   ]
  },
  {
   "cell_type": "code",
   "execution_count": 131,
   "metadata": {
    "tags": []
   },
   "outputs": [],
   "source": [
    "sample1=df.index<=df.iloc[int(np.floor(df.shape[0]/2))].name\n",
    "sample2=df.index>df.iloc[int(np.floor(df.shape[0]/2))].name"
   ]
  },
  {
   "cell_type": "code",
   "execution_count": 133,
   "metadata": {},
   "outputs": [
    {
     "name": "stdout",
     "output_type": "stream",
     "text": [
      "Results for  test sample 2 (estimation sample 1)\n",
      "Optimal:SR      0.644581\n",
      "Optimal:std    11.635633\n",
      "MKT:SR          0.500860\n",
      "MKT:std        15.859210\n",
      "alpha           0.258585\n",
      "t(alpha)        2.764342\n",
      "dtype: float64\n",
      "Results for  test sample 1 (estimation sample 2)\n"
     ]
    },
    {
     "data": {
      "text/plain": [
       "Optimal:SR      0.449700\n",
       "Optimal:std    28.292410\n",
       "MKT:SR          0.406965\n",
       "MKT:std        20.866012\n",
       "alpha           0.185466\n",
       "t(alpha)        1.308342\n",
       "dtype: float64"
      ]
     },
     "execution_count": 133,
     "metadata": {},
     "output_type": "execute_result"
    }
   ],
   "source": [
    "\n",
    "print('Results for  test sample 2 (estimation sample 1)')\n",
    "print(Strategy(df[['Mkt-RF','HML']],sample1))\n",
    "print('Results for  test sample 1 (estimation sample 2)')\n",
    "Strategy(df[['Mkt-RF','HML']],sample2)"
   ]
  },
  {
   "cell_type": "markdown",
   "metadata": {},
   "source": [
    "* We can already see that the volatility targeting aspect worked substantially less wll. We undershoot the volatiltiy in sample 2 and overshoot by a lot in sample \n",
    "\n",
    "* We will now do the estimation fine-tuning. Lets start by building a code that gets our desired window, do the estiamtion and construct the return series on the test sample\n",
    "\n",
    "* lets start with 36 months"
   ]
  },
  {
   "cell_type": "code",
   "execution_count": 155,
   "metadata": {},
   "outputs": [
    {
     "data": {
      "text/plain": [
       "<AxesSubplot:xlabel='Date'>"
      ]
     },
     "execution_count": 155,
     "metadata": {},
     "output_type": "execute_result"
    },
    {
     "data": {
      "image/png": "[encoded data removed]",
      "text/plain": [
       "<Figure size 432x288 with 1 Axes>"
      ]
     },
     "metadata": {
      "needs_background": "light"
     },
     "output_type": "display_data"
    }
   ],
   "source": [
    "\n",
    "estsample=sample1\n",
    "window=36\n",
    "Returns_test=pd.DataFrame([],index=df.index,dtype=float)\n",
    "df1=df[['Mkt-RF','HML']][estsample].copy()\n",
    "results=pd.Series([],index=[],dtype=float)\n",
    "for d in df1.index[window:]:\n",
    "    df_temp=df1[d-window:d-1].copy()\n",
    "    W1=df_temp.mean()@np.linalg.inv(df_temp.cov())\n",
    "    vol_unlevered=(df_temp.mean()@np.linalg.inv(df_temp.cov())@df_temp.mean())**0.5\n",
    "    W_lev=W1*(df_temp.std()/vol_unlevered)\n",
    "    Returns_test.at[d,'Opt']= df1.loc[d] @ W_lev\n",
    "    Returns_test.at[d,'Mkt-RF']= df1.loc[d,'Mkt-RF']\n",
    "\n",
    "    \n",
    "Returns_test.plot()\n"
   ]
  },
  {
   "cell_type": "markdown",
   "metadata": {},
   "source": [
    "- Note that we have no observations early on as we need at the 36 months to estimate and none in the second half, that is the sample that we will hold out\n",
    "\n",
    "- Now that we have this code we can put ina function and simply evaluate at a whole unch of different windows"
   ]
  },
  {
   "cell_type": "code",
   "execution_count": 159,
   "metadata": {
    "tags": []
   },
   "outputs": [
    {
     "data": {
      "text/plain": [
       "<AxesSubplot:xlabel='Date'>"
      ]
     },
     "execution_count": 159,
     "metadata": {},
     "output_type": "execute_result"
    },
    {
     "data": {
      "image/png": "[encoded data removed]",
      "text/plain": [
       "<Figure size 432x288 with 1 Axes>"
      ]
     },
     "metadata": {
      "needs_background": "light"
     },
     "output_type": "display_data"
    }
   ],
   "source": [
    "def RollingEval(df,window,estsample):\n",
    "    Returns_test=pd.DataFrame([],index=df.index,dtype=float)\n",
    "    df1=df[['Mkt-RF','HML']][estsample].copy()\n",
    "    for d in df1.index[window:]:\n",
    "        df_temp=df1[d-window:d-1].copy()\n",
    "        W1=df_temp.mean()@np.linalg.inv(df_temp.cov())\n",
    "        vol_unlevered=(df_temp.mean()@np.linalg.inv(df_temp.cov())@df_temp.mean())**0.5\n",
    "        W_lev=W1*(df_temp.std()/vol_unlevered)\n",
    "        Returns_test.at[d,'Opt']= df1.loc[d] @ W_lev\n",
    "        Returns_test.at[d,'Mkt-RF']= df1.loc[d,'Mkt-RF']\n",
    "    return Returns_test\n",
    "\n",
    "Returns_test=RollingEval(df,36,sample1)        \n",
    "Returns_test.plot()\n"
   ]
  },
  {
   "cell_type": "code",
   "execution_count": 162,
   "metadata": {},
   "outputs": [
    {
     "data": {
      "text/html": [
       "<div>\n",
       "<style scoped>\n",
       "    .dataframe tbody tr th:only-of-type {\n",
       "        vertical-align: middle;\n",
       "    }\n",
       "\n",
       "    .dataframe tbody tr th {\n",
       "        vertical-align: top;\n",
       "    }\n",
       "\n",
       "    .dataframe thead th {\n",
       "        text-align: right;\n",
       "    }\n",
       "</style>\n",
       "<table border=\"1\" class=\"dataframe\">\n",
       "  <thead>\n",
       "    <tr style=\"text-align: right;\">\n",
       "      <th></th>\n",
       "      <th>24</th>\n",
       "      <th>36</th>\n",
       "      <th>48</th>\n",
       "      <th>60</th>\n",
       "      <th>72</th>\n",
       "    </tr>\n",
       "  </thead>\n",
       "  <tbody>\n",
       "    <tr>\n",
       "      <th>Optimal:SR</th>\n",
       "      <td>0.729121</td>\n",
       "      <td>0.662446</td>\n",
       "      <td>0.559205</td>\n",
       "      <td>0.613927</td>\n",
       "      <td>0.604021</td>\n",
       "    </tr>\n",
       "    <tr>\n",
       "      <th>Optimal:std</th>\n",
       "      <td>18.261577</td>\n",
       "      <td>17.478699</td>\n",
       "      <td>17.143940</td>\n",
       "      <td>16.599580</td>\n",
       "      <td>14.608167</td>\n",
       "    </tr>\n",
       "    <tr>\n",
       "      <th>MKT:SR</th>\n",
       "      <td>0.376006</td>\n",
       "      <td>0.349442</td>\n",
       "      <td>0.395631</td>\n",
       "      <td>0.442297</td>\n",
       "      <td>0.599587</td>\n",
       "    </tr>\n",
       "    <tr>\n",
       "      <th>MKT:std</th>\n",
       "      <td>21.156627</td>\n",
       "      <td>21.225400</td>\n",
       "      <td>20.875629</td>\n",
       "      <td>20.531663</td>\n",
       "      <td>19.393643</td>\n",
       "    </tr>\n",
       "    <tr>\n",
       "      <th>alpha</th>\n",
       "      <td>1.168284</td>\n",
       "      <td>0.956486</td>\n",
       "      <td>0.690608</td>\n",
       "      <td>0.703350</td>\n",
       "      <td>0.426639</td>\n",
       "    </tr>\n",
       "    <tr>\n",
       "      <th>t(alpha)</th>\n",
       "      <td>5.165939</td>\n",
       "      <td>4.350827</td>\n",
       "      <td>3.221188</td>\n",
       "      <td>3.379011</td>\n",
       "      <td>2.449945</td>\n",
       "    </tr>\n",
       "  </tbody>\n",
       "</table>\n",
       "</div>"
      ],
      "text/plain": [
       "                    24         36         48         60         72\n",
       "Optimal:SR    0.729121   0.662446   0.559205   0.613927   0.604021\n",
       "Optimal:std  18.261577  17.478699  17.143940  16.599580  14.608167\n",
       "MKT:SR        0.376006   0.349442   0.395631   0.442297   0.599587\n",
       "MKT:std      21.156627  21.225400  20.875629  20.531663  19.393643\n",
       "alpha         1.168284   0.956486   0.690608   0.703350   0.426639\n",
       "t(alpha)      5.165939   4.350827   3.221188   3.379011   2.449945"
      ]
     },
     "execution_count": 162,
     "metadata": {},
     "output_type": "execute_result"
    }
   ],
   "source": [
    "windows=[24,36,48,60,72]\n",
    "results=pd.DataFrame([],index=[],columns=windows,dtype=float)\n",
    "for w in windows:\n",
    "    Returns_test=RollingEval(df,w,sample1)    \n",
    "    results.at['Optimal:SR',w]=SR(Returns_test.Opt)\n",
    "    results.at['Optimal:std',w]=Returns_test.Opt.std()*12**0.5\n",
    "    results.at['MKT:SR',w]=SR(Returns_test['Mkt-RF'])\n",
    "    results.at['MKT:std',w]=Returns_test['Mkt-RF'].std()*12**0.5\n",
    "    # now run the regression\n",
    "    x= sm.add_constant(Returns_test['Mkt-RF'])\n",
    "    y= Returns_test.Opt.copy()\n",
    "    regresult= sm.OLS(y,x,missing='drop').fit()\n",
    "    results.at['alpha',w]=regresult.params[0]\n",
    "    results.at['t(alpha)',w]=regresult.tvalues[0]\n",
    "    \n",
    "results"
   ]
  },
  {
   "cell_type": "markdown",
   "metadata": {},
   "source": [
    "From this it seems that 24 looks best.\n",
    "\n",
    "We will now look at how the 24 performed in the **Hold out sample**"
   ]
  },
  {
   "cell_type": "code",
   "execution_count": 163,
   "metadata": {},
   "outputs": [
    {
     "data": {
      "text/html": [
       "<div>\n",
       "<style scoped>\n",
       "    .dataframe tbody tr th:only-of-type {\n",
       "        vertical-align: middle;\n",
       "    }\n",
       "\n",
       "    .dataframe tbody tr th {\n",
       "        vertical-align: top;\n",
       "    }\n",
       "\n",
       "    .dataframe thead th {\n",
       "        text-align: right;\n",
       "    }\n",
       "</style>\n",
       "<table border=\"1\" class=\"dataframe\">\n",
       "  <thead>\n",
       "    <tr style=\"text-align: right;\">\n",
       "      <th></th>\n",
       "      <th>24</th>\n",
       "    </tr>\n",
       "  </thead>\n",
       "  <tbody>\n",
       "    <tr>\n",
       "      <th>Optimal:SR</th>\n",
       "      <td>1.093922</td>\n",
       "    </tr>\n",
       "    <tr>\n",
       "      <th>Optimal:std</th>\n",
       "      <td>13.521201</td>\n",
       "    </tr>\n",
       "    <tr>\n",
       "      <th>MKT:SR</th>\n",
       "      <td>0.545364</td>\n",
       "    </tr>\n",
       "    <tr>\n",
       "      <th>MKT:std</th>\n",
       "      <td>15.462008</td>\n",
       "    </tr>\n",
       "    <tr>\n",
       "      <th>alpha</th>\n",
       "      <td>0.989791</td>\n",
       "    </tr>\n",
       "    <tr>\n",
       "      <th>t(alpha)</th>\n",
       "      <td>6.354080</td>\n",
       "    </tr>\n",
       "  </tbody>\n",
       "</table>\n",
       "</div>"
      ],
      "text/plain": [
       "                    24\n",
       "Optimal:SR    1.093922\n",
       "Optimal:std  13.521201\n",
       "MKT:SR        0.545364\n",
       "MKT:std      15.462008\n",
       "alpha         0.989791\n",
       "t(alpha)      6.354080"
      ]
     },
     "execution_count": 163,
     "metadata": {},
     "output_type": "execute_result"
    }
   ],
   "source": [
    "windows=[24]\n",
    "results=pd.DataFrame([],index=[],columns=windows,dtype=float)\n",
    "for w in windows:\n",
    "    Returns_test=RollingEval(df,w,sample2)    \n",
    "    results.at['Optimal:SR',w]=SR(Returns_test.Opt)\n",
    "    results.at['Optimal:std',w]=Returns_test.Opt.std()*12**0.5\n",
    "    results.at['MKT:SR',w]=SR(Returns_test['Mkt-RF'])\n",
    "    results.at['MKT:std',w]=Returns_test['Mkt-RF'].std()*12**0.5\n",
    "    # now run the regression\n",
    "    x= sm.add_constant(Returns_test['Mkt-RF'])\n",
    "    y= Returns_test.Opt.copy()\n",
    "    regresult= sm.OLS(y,x,missing='drop').fit()\n",
    "    results.at['alpha',w]=regresult.params[0]\n",
    "    results.at['t(alpha)',w]=regresult.tvalues[0]\n",
    "    \n",
    "results"
   ]
  },
  {
   "cell_type": "markdown",
   "metadata": {},
   "source": [
    "* Even better!\n",
    "\n",
    "* That is pretty good\n",
    "\n",
    "* you can see the t-stat goign through the roof and the SR of the optimal portfolio is almost twice as large as only investing in the market\n",
    "\n",
    "* Note that here the bulk of the gains are form **Timing across these factors**. \n",
    "\n",
    "* You might also look to time between cash and this optimal portfolio\n",
    "\n",
    "* The idea would be exactyl the same. You get a signal for the expected return and/or volatiltiy of the optimal portfolio\n",
    "   - You already have one here, but the fact that the 24 months worked great to time across factors does not mean that it will work great to time between the factor and cash\n",
    "   - But you would have some way to decide the weigths perhaps based on the mean-variance criteria, see how it works in the test sample across a variety of signal specifications and then you would ultimaterly test on the hold out sample\n",
    "   \n",
    "   "
   ]
  },
  {
   "cell_type": "markdown",
   "metadata": {},
   "source": [
    "**Publication bias (or Famous bias or incubation bias...)**\n",
    "\n",
    "\n",
    "We discussed that we often look at past perfomance exactly becasue a strategy did well. This mechanism of selection renders our statisitcal analysis biased in the direction of findings that the strategy is amazing.\n",
    "\n",
    "It is often hard to deal with this becasue you need all the data of strategies that look like the one you are interested from the perspective of someone in the start of the relvant sample. That is hard.\n",
    "\n",
    "One way to deal with this is to use some hard metric of saliency. For example, in chapter we used google trends to see when Bitcoin became popular and we did our analysis after that.\n",
    "\n",
    "You could imagine doing that for fund managers as well. While google trends is only available after 2004 there is data from New York Times and Wall Street Journal that allows you to go back to the start of the **Last** century. ([for example, I use data like that that in this paper](http://www.google.com/url?q=http%3A%2F%2Fwww.sciencedirect.com%2Fscience%2Farticle%2Fpii%2FS0304405X16301751&sa=D&sntz=1&usg=AFQjCNFWO63SSQXSteNhgTI4oOhtmh0ZUQ))\n",
    "\n",
    "A setting where we can do this very cleanly is in the context of acadmic work. We know exactyl when the paper was first published and what the sample that was used there\n",
    "\n",
    "A nice paper that investigates this for a bunch of strategies is [Does academic research destroy stock return predictability?](https://onlinelibrary.wiley.com/doi/pdf/10.1111/jofi.12365?casa_token=gSqvouNM61EAAAAA:JyTl4yxx9xTfKo8-VEBIE-4c4ha7kRFGvirWzEZRXhYw2AtueM3yzpRDcpcXgnsDdlvlXflKp1Nw_ss)\n",
    "\n",
    "**Aplication: Evalauting the publication bias in Fama French 1996, Multifactor Anomalies...**\n",
    "\n",
    "Teh original paper has the followign key table\n",
    "\n",
    "\n",
    "![outofsample](../../assets/plots/outofsample2.jpg)\n",
    "\n",
    "* You see here that the sample runs from 63 to 93. Back in 93 we didn't have digitalized accounting data that went back to the 30's\n",
    "\n",
    "* Looking at the very last row we see that the alpha of the HML withresepect to HML is enormous, 0.56% per month, and it has a negative beta with the market!\n",
    "\n",
    "* so now we will look at two different samples that the authors never looked before doing their study.\n",
    "\n",
    "    * The pre 63 sample\n",
    "    * the post 93. \n",
    "    \n",
    "    \n"
   ]
  },
  {
   "cell_type": "code",
   "execution_count": 169,
   "metadata": {
    "tags": []
   },
   "outputs": [],
   "source": [
    "sample1=df.index<df.loc['1963-7'].name\n",
    "sample2=df.index>df.loc['1993-12'].name\n",
    "sample3=((df.index>=df.loc['1963-7'].name) &(df.index<=df.loc['1993-12'].name))"
   ]
  },
  {
   "cell_type": "code",
   "execution_count": 179,
   "metadata": {},
   "outputs": [
    {
     "name": "stdout",
     "output_type": "stream",
     "text": [
      "Pre publication sample\n",
      "HML:SR               0.346962\n",
      "MKT:SR               0.457366\n",
      "alpha                0.113160\n",
      "beta                 0.371094\n",
      "t(alpha)             0.661317\n",
      "AR                   0.185219\n",
      "HML weight on MVE    0.342709\n",
      "dtype: float64\n",
      "Publication sample\n",
      "HML:SR               0.608203\n",
      "MKT:SR               0.325699\n",
      "alpha                0.542778\n",
      "beta                -0.207224\n",
      "t(alpha)             4.257801\n",
      "AR                   1.755981\n",
      "HML weight on MVE    0.696805\n",
      "dtype: float64\n",
      "Post publication sample\n",
      "HML:SR               0.079270\n",
      "MKT:SR               0.580553\n",
      "alpha                0.113256\n",
      "beta                -0.054502\n",
      "t(alpha)             0.637514\n",
      "AR                   0.201533\n",
      "HML weight on MVE    0.228248\n",
      "dtype: float64\n"
     ]
    }
   ],
   "source": [
    "def Strategy(df1,sample):\n",
    "    results=pd.Series([],index=[],dtype=float)\n",
    "    x= sm.add_constant(df1[sample]['Mkt-RF'])\n",
    "    y= df1[sample]['HML'].copy()\n",
    "    regresult= sm.OLS(y,x).fit()\n",
    "    results.at['HML:SR']=SR(y)\n",
    "    results.at['MKT:SR']=SR(df1[sample]['Mkt-RF'])\n",
    "    results.at['alpha']=regresult.params[0]\n",
    "    results.at['beta']=regresult.params[1]\n",
    "    results.at['t(alpha)']=regresult.tvalues[0]\n",
    "    results.at['AR']=regresult.tvalues[0]/regresult.resid.std()\n",
    "    W=df1[sample].mean()@np.linalg.inv(df1[sample].cov())\n",
    "    W=W/np.sum(W)\n",
    "    results.at['HML weight on MVE']=W[1]\n",
    "\n",
    "    return results\n",
    "print('Pre publication sample')\n",
    "print(Strategy(df[['Mkt-RF','HML']],sample1))\n",
    "print('Publication sample')\n",
    "print(Strategy(df[['Mkt-RF','HML']],sample3))\n",
    "print('Post publication sample')\n",
    "print(Strategy(df[['Mkt-RF','HML']],sample2))\n"
   ]
  },
  {
   "cell_type": "markdown",
   "metadata": {},
   "source": [
    "**what do we learn?**\n",
    "\n",
    "* In the Pre-publication sample HML has a respectable SR, but the asset is much more correlated with the market so it's betas with respect to the market leaves only a statistically insignifcant 0.37% per month, 1.2% per year.\n",
    "\n",
    "* Thus in the pre-sample the HML has a nice SR but the CAPM works so you would not have gained/lost too much of tilting your portfolio towards the HML strategy\n",
    "\n",
    "* In the post-publication sample the results are very ugly\n",
    "    - Sharpe ratio is now 0.08--compared with the 0.58 SR on the market\n",
    "    - the alpha is still about the same as in the pre-publication, but now the betas become negative\n",
    "    - the HML premium goes away almost completely\n",
    "    \n",
    "    \n",
    "To have a sense of the shift we can look at the risk-return trade-off of the market and HML across samples.\n",
    " \n",
    "* The optimal weight on HML shifts from 0.72 in the publication sample to 0.34 in the pre publication and 0.2 in the post publication\n",
    "\n",
    "* someone that jsut invested on the market would be actually be closer to the optimal portfolio than someone that invested 0.7 in HML\n",
    "\n",
    "**Does that mean it was data snooping?**\n",
    "\n",
    "We don't know. It is possible that the publication drove people to the strategies which made the resuls go away goign forward. This [paper](https://onlinelibrary.wiley.com/doi/pdf/10.1111/jofi.12365?casa_token=gSqvouNM61EAAAAA:JyTl4yxx9xTfKo8-VEBIE-4c4ha7kRFGvirWzEZRXhYw2AtueM3yzpRDcpcXgnsDdlvlXflKp1Nw_ss) I cited before argues that this is the case \n",
    "\n",
    "\n",
    "\n",
    " "
   ]
  }
 ],
 "metadata": {
  "colab": {
   "collapsed_sections": [],
   "name": "Notebook 8.ipynb",
   "provenance": []
  },
  "kernelspec": {
   "display_name": "Python 3",
   "language": "python",
   "name": "python3"
  },
  "language_info": {
   "codemirror_mode": {
    "name": "ipython",
    "version": 3
   },
   "file_extension": ".py",
   "mimetype": "text/x-python",
   "name": "python",
   "nbconvert_exporter": "python",
   "pygments_lexer": "ipython3",
   "version": "3.8.5"
  }
 },
 "nbformat": 4,
 "nbformat_minor": 4
}
