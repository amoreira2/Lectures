{
 "cells": [
  {
   "cell_type": "code",
   "execution_count": 25,
   "metadata": {
    "colab": {
     "base_uri": "https://localhost:8080/",
     "height": 235
    },
    "colab_type": "code",
    "executionInfo": {
     "elapsed": 7090,
     "status": "ok",
     "timestamp": 1576771469964,
     "user": {
      "displayName": "yuchi yao",
      "photoUrl": "",
      "userId": "00457884373990713813"
     },
     "user_tz": 300
    },
    "id": "vI1xySqDhHqm",
    "outputId": "7d785476-d21c-4ef3-bf1b-274e8900fcb4"
   },
   "outputs": [
    {
     "data": {
      "text/html": [
       "<div>\n",
       "<style scoped>\n",
       "    .dataframe tbody tr th:only-of-type {\n",
       "        vertical-align: middle;\n",
       "    }\n",
       "\n",
       "    .dataframe tbody tr th {\n",
       "        vertical-align: top;\n",
       "    }\n",
       "\n",
       "    .dataframe thead th {\n",
       "        text-align: right;\n",
       "    }\n",
       "</style>\n",
       "<table border=\"1\" class=\"dataframe\">\n",
       "  <thead>\n",
       "    <tr style=\"text-align: right;\">\n",
       "      <th></th>\n",
       "      <th>MKTUS</th>\n",
       "      <th>BondUS</th>\n",
       "      <th>EM</th>\n",
       "      <th>MKTxUS</th>\n",
       "      <th>BondxUS</th>\n",
       "    </tr>\n",
       "    <tr>\n",
       "      <th>Date</th>\n",
       "      <th></th>\n",
       "      <th></th>\n",
       "      <th></th>\n",
       "      <th></th>\n",
       "      <th></th>\n",
       "    </tr>\n",
       "  </thead>\n",
       "  <tbody>\n",
       "    <tr>\n",
       "      <th>2016-08-31</th>\n",
       "      <td>0.0050</td>\n",
       "      <td>-0.008617</td>\n",
       "      <td>0.024986</td>\n",
       "      <td>0.000638</td>\n",
       "      <td>-0.009752</td>\n",
       "    </tr>\n",
       "    <tr>\n",
       "      <th>2016-09-30</th>\n",
       "      <td>0.0025</td>\n",
       "      <td>-0.016617</td>\n",
       "      <td>0.012953</td>\n",
       "      <td>0.012536</td>\n",
       "      <td>0.009779</td>\n",
       "    </tr>\n",
       "    <tr>\n",
       "      <th>2016-10-31</th>\n",
       "      <td>-0.0202</td>\n",
       "      <td>-0.049660</td>\n",
       "      <td>0.002274</td>\n",
       "      <td>-0.020583</td>\n",
       "      <td>-0.043676</td>\n",
       "    </tr>\n",
       "    <tr>\n",
       "      <th>2016-11-30</th>\n",
       "      <td>0.0486</td>\n",
       "      <td>-0.081736</td>\n",
       "      <td>-0.046071</td>\n",
       "      <td>-0.019898</td>\n",
       "      <td>-0.050459</td>\n",
       "    </tr>\n",
       "    <tr>\n",
       "      <th>2016-12-31</th>\n",
       "      <td>0.0182</td>\n",
       "      <td>-0.005596</td>\n",
       "      <td>0.002604</td>\n",
       "      <td>0.034083</td>\n",
       "      <td>-0.023507</td>\n",
       "    </tr>\n",
       "  </tbody>\n",
       "</table>\n",
       "</div>"
      ],
      "text/plain": [
       "             MKTUS    BondUS        EM    MKTxUS   BondxUS\n",
       "Date                                                      \n",
       "2016-08-31  0.0050 -0.008617  0.024986  0.000638 -0.009752\n",
       "2016-09-30  0.0025 -0.016617  0.012953  0.012536  0.009779\n",
       "2016-10-31 -0.0202 -0.049660  0.002274 -0.020583 -0.043676\n",
       "2016-11-30  0.0486 -0.081736 -0.046071 -0.019898 -0.050459\n",
       "2016-12-31  0.0182 -0.005596  0.002604  0.034083 -0.023507"
      ]
     },
     "execution_count": 25,
     "metadata": {},
     "output_type": "execute_result"
    }
   ],
   "source": [
    "import pandas as pd\n",
    "import numpy as np\n",
    "import matplotlib.pyplot as plt\n",
    "%matplotlib inline\n",
    "#GlobalFinMonthly\n",
    "url=\"https://raw.githubusercontent.com/amoreira2/Lectures/4b95c7d60e869dffa6367c1730183b68920ed2b9/assets/data/GlobalFinMonthly.csv\"\n",
    "Data = pd.read_csv(url,na_values=-99)\n",
    "# tell python Date is date:\n",
    "Data['Date']=pd.to_datetime(Data['Date'])\n",
    "# set an an index\n",
    "Data=Data.set_index(['Date'])\n",
    "Data=Data.rename(columns={Data.columns[1]: \"MKTUS\",Data.columns[2]: \"BondUS\",\n",
    "                          Data.columns[3]: \"EM\",Data.columns[4]: \"MKTxUS\",Data.columns[5]: \"BondxUS\" })\n",
    "df=(Data.drop('RF',axis=1)).subtract(Data['RF'],axis='index')\n",
    "df.tail()"
   ]
  },
  {
   "cell_type": "markdown",
   "metadata": {
    "colab_type": "text",
    "id": "QgykM3kZhHqj"
   },
   "source": [
    "# Portfolio Optimization with constraints\n",
    "\n",
    "* Another practical issue that practioners face is that MV analysis (in it's more pure form) does not account for several real world frictions that are more or less important depending on the investor:\n",
    "\n",
    " * Shorting an asset requires paying a borrowing fee to the owner of the asset. Shorting costs are sometimes prohibitive for small illiquid stocks\n",
    " \n",
    " * Most investors cannot really borrow at anything close to the risk-free rate--i.e., often they have to pay a substantially higher rate to borrow than to lend. \n",
    " \n",
    "* Python has the flexibility to solve the mean-variance problem numerically\n",
    "\n",
    "* Allows you to impose realistic features to our portfolio problem \n",
    "\n",
    "  * Shorting costs\n",
    "  * Borrowing costs higher than lending costs\n",
    "  * Leverage constraints\n",
    "  * Position limits due to investment mandates\n",
    "\n",
    "Lets start by importing optimization package -- think of a much more powerful solver (excel)"
   ]
  },
  {
   "cell_type": "code",
   "execution_count": 5,
   "metadata": {
    "colab": {},
    "colab_type": "code",
    "id": "EeCKiapGhHqs"
   },
   "outputs": [],
   "source": [
    "from scipy.optimize import minimize"
   ]
  },
  {
   "cell_type": "markdown",
   "metadata": {
    "colab_type": "text",
    "id": "yG4F0U3DhHqt"
   },
   "source": [
    "* we will now learn how to do a numerical minimization. \n",
    "\n",
    "* start by defining some useful variables"
   ]
  },
  {
   "cell_type": "code",
   "execution_count": 26,
   "metadata": {
    "colab": {
     "base_uri": "https://localhost:8080/",
     "height": 221
    },
    "colab_type": "code",
    "executionInfo": {
     "elapsed": 470,
     "status": "ok",
     "timestamp": 1576771485393,
     "user": {
      "displayName": "yuchi yao",
      "photoUrl": "",
      "userId": "00457884373990713813"
     },
     "user_tz": 300
    },
    "id": "CQ7eN1_HhHqu",
    "outputId": "b6684972-dd8f-4c15-be81-9a6873db2501"
   },
   "outputs": [
    {
     "name": "stdout",
     "output_type": "stream",
     "text": [
      "MKTUS      0.005140\n",
      "BondUS     0.002523\n",
      "EM         0.006923\n",
      "MKTxUS     0.004149\n",
      "BondxUS    0.002054\n",
      "dtype: float64\n",
      "            MKTUS    BondUS        EM    MKTxUS   BondxUS\n",
      "MKTUS    0.001948  0.000111  0.001292  0.001264  0.000187\n",
      "BondUS   0.000111  0.001227 -0.000204 -0.000013  0.000264\n",
      "EM       0.001292 -0.000204  0.003556  0.001661  0.000249\n",
      "MKTxUS   0.001264 -0.000013  0.001661  0.002182  0.000422\n",
      "BondxUS  0.000187  0.000264  0.000249  0.000422  0.000407\n"
     ]
    }
   ],
   "source": [
    "ERe=Re.mean()\n",
    "print(ERe)\n",
    "Cove=Re.cov()\n",
    "print(Cove)"
   ]
  },
  {
   "cell_type": "markdown",
   "metadata": {},
   "source": [
    "**Modeling Borrowing limits**"
   ]
  },
  {
   "cell_type": "code",
   "execution_count": 38,
   "metadata": {
    "colab": {
     "base_uri": "https://localhost:8080/",
     "height": 51
    },
    "colab_type": "code",
    "executionInfo": {
     "elapsed": 443,
     "status": "ok",
     "timestamp": 1576771499016,
     "user": {
      "displayName": "yuchi yao",
      "photoUrl": "",
      "userId": "00457884373990713813"
     },
     "user_tz": 300
    },
    "id": "sBi8AosojWMY",
    "outputId": "2889f000-99fe-4487-d815-99688638bd94"
   },
   "outputs": [
    {
     "name": "stdout",
     "output_type": "stream",
     "text": [
      "0.0008333333333333334\n",
      "0.005\n"
     ]
    }
   ],
   "source": [
    "# the risk-free rate is special because at a given time we know exactly what the expected returns of investing\n",
    "# in it, since it is risk-free!\n",
    "# so it does not make sense to use the average risk-free rate in the portfolio problem, and we should rather use the one that\n",
    "# we currently can invest at no risk\n",
    "# here we are dividing by 12 becasue we are using annualized numbers\n",
    "rf=0.01/12\n",
    "print(rf)\n",
    "\n",
    "# below is the target for monthly expected returns\n",
    "Ertarget=0.06/12\n",
    "print(Ertarget)\n",
    "\n",
    "# We pick a margin requirement\n",
    "margin=0.5"
   ]
  },
  {
   "cell_type": "markdown",
   "metadata": {
    "colab_type": "text",
    "id": "LRy1O4YChHqw"
   },
   "source": [
    "* The program will choose a vector of weights that minimzies some function (of the chosen weights) subject to some constraint\n",
    "\n",
    "* we need to provide an initial condition for these weights, which essentially tells python the shape of the variable that it is choosing. Here we will start with a equal weighted portfolio\n",
    "\n",
    "* When solving minimization problems it is important to check that the exact initial conditions that you put in don't matter. \n",
    "\n",
    "* I mean, it's shape obviously matter, but whether is equal weighted or any other weighting scheme, the minimization should end up in the same place otherwise the numerical is not converging and you need to adjust the stop conditions\n",
    "\n",
    "* We refer to this as making sure that you are finding a \"global optimum\" and not a \"local optimum\""
   ]
  },
  {
   "cell_type": "code",
   "execution_count": 39,
   "metadata": {
    "colab": {
     "base_uri": "https://localhost:8080/",
     "height": 34
    },
    "colab_type": "code",
    "executionInfo": {
     "elapsed": 593,
     "status": "ok",
     "timestamp": 1576771502607,
     "user": {
      "displayName": "yuchi yao",
      "photoUrl": "",
      "userId": "00457884373990713813"
     },
     "user_tz": 300
    },
    "id": "xc58RNm2hHqw",
    "outputId": "3cc18867-40f5-4b90-d2a3-434e7e67938e"
   },
   "outputs": [
    {
     "data": {
      "text/plain": [
       "array([0.2, 0.2, 0.2, 0.2, 0.2])"
      ]
     },
     "execution_count": 39,
     "metadata": {},
     "output_type": "execute_result"
    }
   ],
   "source": [
    "n=Re.shape[1]\n",
    "W0=np.ones(n)/n \n",
    "W0\n"
   ]
  },
  {
   "cell_type": "markdown",
   "metadata": {
    "colab_type": "text",
    "id": "Qw4LGPS1hHqy"
   },
   "source": [
    "**The objective function**\n",
    "\n",
    "* We need to specify the function that our minimizer will try to minimize,i.e, our objective\n",
    "\n",
    "* obviously this should be written as a function of the portfolio weights\n",
    "\n",
    "* In this case it is the variance of a portfolio with weights W\n",
    "\n",
    "* the weights will be our choice variable\n",
    "\n",
    "* The minimization function will change the weights until this variance is minimized\n",
    "\n"
   ]
  },
  {
   "cell_type": "code",
   "execution_count": 40,
   "metadata": {
    "colab": {},
    "colab_type": "code",
    "id": "saNsLsmWhHqy"
   },
   "outputs": [],
   "source": [
    "# STEP 1: define the objective function, which is the variance of the portfolio in our case\n",
    "\n",
    "def func(W,Cove=Re.cov()):\n",
    "    return W @ Cove @ W\n"
   ]
  },
  {
   "cell_type": "markdown",
   "metadata": {
    "colab_type": "text",
    "id": "xmxQ0xTohHq0"
   },
   "source": [
    "* Finally we need to specify the set of constraints that the minimization problem must satisfy\n",
    "\n",
    "* you can specify two types of constraints: Equalities and inequalities.\n",
    "\n",
    "* Equalities:\n",
    "   * specified as 'eq' \n",
    "   * For example:`{'eq', 'fun' : lambda W : W.T @ (ERe+rf) +(1-W.sum())*rf-target}`\n",
    "     * defines the function `F(W)=W @ (ERe+rf) +(1-W.sum())*rf-target`\n",
    "     * and requires W to satisfy F(W)=0, i.e., `W @ (ERe+rf) +(1-W.sum())*rf=target`, or\n",
    "     \n",
    "     $$W'(ERe+rf) +(1-\\sum w_i)rf=target$$\n",
    "     \n",
    "     * \"target\" here is the target for expected returns\n",
    "     \n",
    "* Inequalities:\n",
    "   * specified as 'ineq'\n",
    "   * For example: `{'ineq', 'fun' : lambda W: -W.sum()+1/margin}`\n",
    "   * Defines  `F(W)=-W.sum()+1/margin`\n",
    "   * and requires F(W)>=0, i.e.,\n",
    "   \n",
    "   $$\\frac{1}{margin}\\geq W.sum()$$\n",
    "   \n",
    " It is useful to create a function that returns the expected returns of our portfolio given a weight choice"
   ]
  },
  {
   "cell_type": "code",
   "execution_count": 44,
   "metadata": {},
   "outputs": [],
   "source": [
    "def expected_return(W):\n",
    "     return W @ (ERe+rf) +(1-W.sum())*rf\n"
   ]
  },
  {
   "cell_type": "code",
   "execution_count": 45,
   "metadata": {
    "colab": {
     "base_uri": "https://localhost:8080/",
     "height": 51
    },
    "colab_type": "code",
    "executionInfo": {
     "elapsed": 457,
     "status": "ok",
     "timestamp": 1576771515213,
     "user": {
      "displayName": "yuchi yao",
      "photoUrl": "",
      "userId": "00457884373990713813"
     },
     "user_tz": 300
    },
    "id": "Vn1Ta5LihHq1",
    "outputId": "aa408da2-0d5c-449d-8037-2f0e96aa5ac2"
   },
   "outputs": [
    {
     "data": {
      "text/plain": [
       "({'type': 'eq', 'fun': <function __main__.<lambda>(W)>},\n",
       " {'type': 'ineq', 'fun': <function __main__.<lambda>(W)>})"
      ]
     },
     "execution_count": 45,
     "metadata": {},
     "output_type": "execute_result"
    }
   ],
   "source": [
    "# STEP 2: define constraint functions, we have two constraints: (1) target average return, and (2) leverage limit\n",
    "Ertarget=0.12/12\n",
    "cons=({'type': 'eq',\n",
    "          'fun' : lambda W : expected_return(W)-Ertarget},\n",
    "        {'type': 'ineq',\n",
    "          'fun' : lambda W: -W.sum()+1/margin}) \n",
    "\n",
    "\n",
    "cons\n"
   ]
  },
  {
   "cell_type": "markdown",
   "metadata": {
    "colab_type": "text",
    "id": "CZaDkZb6hHq2"
   },
   "source": [
    "* Finally we are ready to do our minimization\n",
    "* `options={'disp': True}`: tell python to report intermediary steps so we can check if the algorithm is doing progress towards a solution.\n",
    "* There is a variety of additional parameters that you can pass to the minimizer. \n",
    "* see: https://docs.scipy.org/doc/scipy/reference/generated/scipy.optimize.minimize.html\n"
   ]
  },
  {
   "cell_type": "code",
   "execution_count": 46,
   "metadata": {
    "colab": {
     "base_uri": "https://localhost:8080/",
     "height": 102
    },
    "colab_type": "code",
    "executionInfo": {
     "elapsed": 905,
     "status": "ok",
     "timestamp": 1576771544739,
     "user": {
      "displayName": "yuchi yao",
      "photoUrl": "",
      "userId": "00457884373990713813"
     },
     "user_tz": 300
    },
    "id": "YLkxDEhJhHq3",
    "outputId": "dcf80769-8fb4-4eb3-b55d-8aac8ed4a285"
   },
   "outputs": [
    {
     "name": "stdout",
     "output_type": "stream",
     "text": [
      "Optimization terminated successfully    (Exit mode 0)\n",
      "            Current function value: 0.003404665865183952\n",
      "            Iterations: 7\n",
      "            Function evaluations: 42\n",
      "            Gradient evaluations: 7\n"
     ]
    }
   ],
   "source": [
    "# STEP 3: solve the minimization problem with constraints and save as `sol`\n",
    "\n",
    "sol = minimize(lambda x: func(x,Cove=Re.cov()),W0, constraints=cons, options={'disp': True})"
   ]
  },
  {
   "cell_type": "code",
   "execution_count": 47,
   "metadata": {},
   "outputs": [
    {
     "data": {
      "text/plain": [
       "2.0"
      ]
     },
     "execution_count": 47,
     "metadata": {},
     "output_type": "execute_result"
    }
   ],
   "source": [
    "sol.x.sum()"
   ]
  },
  {
   "cell_type": "code",
   "execution_count": 22,
   "metadata": {
    "colab": {
     "base_uri": "https://localhost:8080/",
     "height": 34
    },
    "colab_type": "code",
    "executionInfo": {
     "elapsed": 857,
     "status": "ok",
     "timestamp": 1576771547802,
     "user": {
      "displayName": "yuchi yao",
      "photoUrl": "",
      "userId": "00457884373990713813"
     },
     "user_tz": 300
    },
    "id": "RupZVNqyoWDG",
    "outputId": "50d85bbd-8ef1-457b-a727-18c0f293d6dd"
   },
   "outputs": [
    {
     "data": {
      "text/plain": [
       "array([ 0.58565363,  0.67667759,  0.69052641, -0.20448374,  0.25162612])"
      ]
     },
     "execution_count": 22,
     "metadata": {},
     "output_type": "execute_result"
    }
   ],
   "source": [
    "# STEP 4: get the optimal portfolio weights\n",
    "\n",
    "sol.x"
   ]
  },
  {
   "cell_type": "markdown",
   "metadata": {
    "colab_type": "text",
    "id": "PlZkfwj-hHq4"
   },
   "source": [
    "* Solution is saved in sol\n",
    "* Lets plot the optimal weights"
   ]
  },
  {
   "cell_type": "code",
   "execution_count": 23,
   "metadata": {
    "colab": {
     "base_uri": "https://localhost:8080/",
     "height": 265
    },
    "colab_type": "code",
    "executionInfo": {
     "elapsed": 440,
     "status": "ok",
     "timestamp": 1576771549330,
     "user": {
      "displayName": "yuchi yao",
      "photoUrl": "",
      "userId": "00457884373990713813"
     },
     "user_tz": 300
    },
    "id": "yFk-okgvhHq5",
    "outputId": "231544e0-500a-41fa-f153-ead60fb4007e"
   },
   "outputs": [
    {
     "data": {
      "image/png": "[encoded data removed]",
      "text/plain": [
       "<Figure size 432x288 with 1 Axes>"
      ]
     },
     "metadata": {
      "needs_background": "light"
     },
     "output_type": "display_data"
    }
   ],
   "source": [
    "\n",
    "# below I am plotting the solution weights.\n",
    "width=0.3\n",
    "ind=np.arange(Re.shape[1])\n",
    "fig, ax = plt.subplots()\n",
    "ax.bar(ind,sol.x,width)\n",
    "\n",
    "# ax.set_xticks(np.array([0,1,2,3,4,5])+ width / 2)\n",
    "ax.set_xticks(ind)\n",
    "ax.set_xticklabels(Re.columns)\n",
    "plt.show()"
   ]
  },
  {
   "cell_type": "markdown",
   "metadata": {},
   "source": [
    "* lets now introduce the realistic feature that you have to pya a spread to borrow on margin\n",
    "\n",
    "* all we need to do is to change our expected return function\n",
    "* And we need to redefine the constraints to they re updated\n",
    "* I am setting a spread of 2%"
   ]
  },
  {
   "cell_type": "code",
   "execution_count": 63,
   "metadata": {},
   "outputs": [],
   "source": [
    "\n",
    "def expected_return(W,spread):\n",
    "     return W @ (ERe+rf) +(1-W.sum())*rf+ min(0,1-W.sum())*spread\n",
    "\n",
    "def constraint(target,spread):\n",
    "    cons=({'type': 'eq',\n",
    "          'fun' : lambda W : expected_return(W,spread)-target},\n",
    "        {'type': 'ineq',\n",
    "          'fun' : lambda W: -W.sum()+1/margin}) \n",
    "    return cons"
   ]
  },
  {
   "cell_type": "code",
   "execution_count": 64,
   "metadata": {},
   "outputs": [
    {
     "name": "stdout",
     "output_type": "stream",
     "text": [
      "Optimization terminated successfully    (Exit mode 0)\n",
      "            Current function value: 0.005671948276218396\n",
      "            Iterations: 17\n",
      "            Function evaluations: 119\n",
      "            Gradient evaluations: 17\n"
     ]
    },
    {
     "data": {
      "image/png": "[encoded data removed]",
      "text/plain": [
       "<Figure size 432x288 with 1 Axes>"
      ]
     },
     "metadata": {
      "needs_background": "light"
     },
     "output_type": "display_data"
    }
   ],
   "source": [
    "Ertarget=0.12/12\n",
    "spread=0.02/12\n",
    "\n",
    "sol = minimize(lambda x: func(x,Cove=Re.cov()),W0, constraints=constraint(Ertarget,spread), options={'disp': True})\n",
    "width=0.3\n",
    "ind=np.arange(Re.shape[1])\n",
    "fig, ax = plt.subplots()\n",
    "ax.bar(ind,sol.x,width)\n",
    "\n",
    "# ax.set_xticks(np.array([0,1,2,3,4,5])+ width / 2)\n",
    "ax.set_xticks(ind)\n",
    "ax.set_xticklabels(Re.columns)\n",
    "plt.show()"
   ]
  },
  {
   "cell_type": "markdown",
   "metadata": {},
   "source": [
    "* What do you think will happen with the sum of weights as the spread increases?\n",
    "\n",
    "* Suppose you increase this spread quite a bit, will a reduction in margin impact the optimal choice?\n",
    "\n",
    "* When the margin is more likely to bind for an investor?"
   ]
  },
  {
   "cell_type": "markdown",
   "metadata": {
    "colab_type": "text",
    "id": "0sCcXFlnhHq7",
    "tags": []
   },
   "source": [
    "**Shorting**\n",
    "\n",
    "* Lets now model shorting constraints\n",
    "\n",
    "* We will mode shorting fees which can be scalar or a vector for each asset, we label this `sf`\n",
    "\n",
    "* The shorting fee will be charge to any negative postion, hence `min(0,W)` which has value zero if the weight is positive\n",
    "\n",
    "* We will also change the margin constraint to account for shorting margin by simply using the absolute value of your positions\n",
    "\n"
   ]
  },
  {
   "cell_type": "code",
   "execution_count": 88,
   "metadata": {},
   "outputs": [],
   "source": [
    "margin=0.5\n",
    "def expected_return(W,spread,sf):\n",
    "     return W @ (ERe+rf) +(1-W.sum())*rf+ min(0,1-W.sum())*spread+(sf*np.minimum(0,W)).sum()\n",
    "\n",
    "def constraint(target,spread,sf):\n",
    "    cons=({'type': 'eq',\n",
    "          'fun' : lambda W : expected_return(W,spread,sf)-target},\n",
    "        {'type': 'ineq',\n",
    "          'fun' : lambda W: -np.abs(W).sum()+1/margin}) \n",
    "    return cons"
   ]
  },
  {
   "cell_type": "markdown",
   "metadata": {},
   "source": [
    "To focus on the role of shortign constraints let me start with the case of zero spread and lending fee"
   ]
  },
  {
   "cell_type": "code",
   "execution_count": 87,
   "metadata": {},
   "outputs": [
    {
     "name": "stdout",
     "output_type": "stream",
     "text": [
      "Optimization terminated successfully    (Exit mode 0)\n",
      "            Current function value: 0.0033237802440886253\n",
      "            Iterations: 7\n",
      "            Function evaluations: 42\n",
      "            Gradient evaluations: 7\n"
     ]
    },
    {
     "data": {
      "image/png": "[encoded data removed]",
      "text/plain": [
       "<Figure size 432x288 with 1 Axes>"
      ]
     },
     "metadata": {
      "needs_background": "light"
     },
     "output_type": "display_data"
    }
   ],
   "source": [
    "Ertarget=0.12/12\n",
    "spread=0.0/12\n",
    "sf=0\n",
    "\n",
    "sol = minimize(lambda x: func(x,Cove=Re.cov()),W0, constraints=constraint(Ertarget,spread,sf), options={'disp': True})\n",
    "width=0.3\n",
    "ind=np.arange(Re.shape[1])\n",
    "fig, ax = plt.subplots()\n",
    "ax.bar(ind,sol.x,width)\n",
    "\n",
    "# ax.set_xticks(np.array([0,1,2,3,4,5])+ width / 2)\n",
    "ax.set_xticks(ind)\n",
    "ax.set_xticklabels(Re.columns)\n",
    "plt.show()"
   ]
  },
  {
   "cell_type": "markdown",
   "metadata": {
    "colab_type": "text",
    "id": "ecCDUFjQhHrA"
   },
   "source": [
    "* You can do a multitude of different problems by making small changes to this code:\n",
    "\n",
    "    * Borrowing at the risk-free rate is not allowed,  but lending is allowed\n",
    "    * Shorting of any asset is not allowed\n",
    "    * Shorting of some assets are not allowed\n",
    "    * Shorting has an extra cost\n",
    "    * Leverage is allowed, but borrowing rate is higher than risk-free rate\n",
    "    \n",
    "\n",
    "* How would you implement a hard shorting constraint?\n",
    " \n",
    "* How would you implement no shorting of bonds, but allow investor to short equity markets (which can be done using futures)?"
   ]
  },
  {
   "cell_type": "code",
   "execution_count": null,
   "metadata": {},
   "outputs": [],
   "source": []
  }
 ],
 "metadata": {
  "colab": {
   "collapsed_sections": [],
   "provenance": [],
   "toc_visible": true
  },
  "kernelspec": {
   "display_name": "Python 3 (ipykernel)",
   "language": "python",
   "name": "python3"
  },
  "language_info": {
   "codemirror_mode": {
    "name": "ipython",
    "version": 3
   },
   "file_extension": ".py",
   "mimetype": "text/x-python",
   "name": "python",
   "nbconvert_exporter": "python",
   "pygments_lexer": "ipython3",
   "version": "3.9.12"
  }
 },
 "nbformat": 4,
 "nbformat_minor": 4
}
