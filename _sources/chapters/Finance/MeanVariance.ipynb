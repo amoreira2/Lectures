{
 "cells": [
  {
   "cell_type": "code",
   "execution_count": 1,
   "metadata": {
    "colab": {},
    "colab_type": "code",
    "id": "Tq96XxisQ1ty"
   },
   "outputs": [],
   "source": [
    "import pandas as pd\n",
    "import numpy as np\n",
    "import matplotlib.pyplot as plt\n",
    "%matplotlib inline\n",
    "url=\"https://raw.githubusercontent.com/amoreira2/Lectures/main/assets/data/GlobalFinMonthly.csv\"\n",
    "Data = pd.read_csv(url,na_values=-99)\n",
    "Data['Date']=pd.to_datetime(Data['Date'])\n",
    "Data=Data.set_index(['Date'])\n"
   ]
  },
  {
   "cell_type": "markdown",
   "metadata": {
    "colab_type": "text",
    "id": "x5bPnG2RQ1tw"
   },
   "source": [
    "# The Mean-Variance Frontier\n",
    "\n",
    "* Below I reproduce the plot of constructed last chapter\n",
    "\n",
    "* It shows the average **EXCESS** return and standard deviation for portfolios with different weights in the risk-free asset, the US stock market, and the international stock market\n",
    "\n",
    "\n",
    "![MVfrontier](../../assets/plots/MV1.jpg)\n",
    "\n",
    "* The upper envelope that defines the \"investment frontier\", i.e., what is achievable in terms of risk and expected returns\n",
    "\n",
    "* If you are in this envelope, you know that in order to get less risk you will have to reduce your expected return\n",
    "\n",
    "* There is no portfolio with a higher expected return and the same volatility\n",
    "\n",
    "* And no portfolio with the same expected return and lower volatility\n",
    "\n",
    "* In volatility-expected return space all these \"investment frontier\" portfolio are in a straight line\n",
    "\n",
    "* What dow this mean?\n",
    "\n",
    "* These portfolios achieve exactly the same ratio of expected excess return per unit of volatility since a straight line has constant slope\n",
    "\n",
    "* So all these portfolios have exactly the same Sharpe ratio ($\\frac{E[r_p-R_f]}{std(r_p-R_f)}$)\n",
    "\n",
    "* This is also the maximum SR among all possible portfolios of the basis assets \n",
    "\n",
    "  *  (in this case only two: US and world portfolio)\n",
    "\n",
    "\n",
    "> What do these \"efficient\" portfolios look like? Do they have the same weights? How do the weights in the assets vary?\n",
    "\n",
    "\n"
   ]
  },
  {
   "cell_type": "markdown",
   "metadata": {},
   "source": [
    "## **Mathematical derivation of the Mean-variance Frontier**\n",
    "\n",
    "* These portfolios all can be thought as minimizing variance for a given desired expected return\n",
    "\n",
    "* or maximizing expected returns for a given aversion to variance \n",
    "\n",
    "* Formally they are choosing their composition of their portfolio \n",
    "\n",
    "$$r_p(X)=X'R+(1-\\sum_i^I x_i)r_f$$\n",
    "\n",
    "* Which is a portfolio that invests in risky assets (vector of returns R) and the rest $(1-\\sum_i^I x_i)$ at the risk-free rate.\n",
    "\n",
    "* note that I use big R here to emphasize that this is a vector of asset returns, like ($[r^{AAPL},r^{TSLA},..]$), and little $r_f$ to emphasize this is just a scalar (like 1%)\n",
    "\n",
    "* Note that $(1-\\sum_i^I x_i)<0$. what is the interpretation of this number being negative? What is the interpretation of being positive?\n",
    "\n",
    "* So given weights X, asset returns R and rf, the portfolio returns $r_p(X)$\n",
    "\n",
    "$$\n",
    "\\begin{aligned}\n",
    "maximize_{X} E[r_p(X)]- \\frac{\\gamma}{2} Var(r_p(X))\\\\\n",
    "\\end{aligned}\n",
    "$$\n",
    "\n",
    "\n",
    "### **Excess return representation**\n",
    "\n",
    "It is much easier to do the math and see what is going on if we separate the excess returns and the return piece so we represent our portfolio as\n",
    "\n",
    "$$r_p(X)=X'R+(1-\\sum_i^I x_i)r_f=X'R+r_f-(\\sum_i^I x_i)r_f=X'(R-r_f)+r_f$$\n",
    "\n",
    "$$r_p(X)=X'R^e+r_f$$\n",
    "\n",
    "* where $R^e$  is the vector of excess returns\n",
    "* It is KEY to note that all the risky assets are now zero cost portfolios\n",
    "* So each risky asset is really a portfolio that is long the risky asset and short the risk-free rate\n",
    "* This means that no matter the sum of the weights in X, the cost of this risky portfolio is zero\n",
    "* How this this works?\n",
    "* Say you have 1m dollar to invest\n",
    "   - We represent your portfolio as:\n",
    "   - The compositions/relative weights  $X/\\sum x_i$ of your risky portfolio\n",
    "   - How much of this dollar to allocate to you risky portfolio by choosing $\\sum x_i$ the total fraction of your wealth invested in risky assets\n",
    "* If  $\\sum x_i>1$ then you are leveraging since you are investing more that 100% of your wealth in the risky assets, i.e. borrowing money to invest more than you have in the risky assets. \n",
    "* If $\\sum x_i<1$ then you are invest a fraction less than 1 in the risky portfolio, thus you are leaving some money invested in the risk-free asset\n",
    "\n",
    "You can think borrowing as shorting. They are different words for the same thing when used in the context of risk-free assets\n",
    "\n",
    "### **Solution**\n",
    "\n",
    "\n",
    "* First write our objective function in vector notation\n",
    "\n",
    "$$E[r_p(X)]- \\frac{\\gamma}{2} Var(r_p(X))=E[r_f+X'R^e]- \\frac{\\gamma}{2} Var(r_f+X'R^e)$$\n",
    "\n",
    "$$E[r_p(X)]- \\frac{\\gamma}{2} Var(r_p(X))=r_f+X'E[R^e]- \\frac{\\gamma}{2} X'Var(R^e)X$$\n",
    "\n",
    "* All you need is to take the derivative of the expression with respect to the risky portfolio weights $X$ :\n",
    "\n",
    "\n",
    "$$E[R^e]- 2\\gamma/2 Var(R^e)X$$\n",
    "\n",
    "* and impose the \"first order condition\":\n",
    "$$\n",
    "\\begin{aligned}\n",
    "E[R^e]- \\gamma Var(R^e)X^*=0\n",
    "\\end{aligned}\n",
    "$$\n",
    "\n",
    "* which simply means that if $X^*$ is really the weight that maximizes the expression, if you move it a little bit in any direction, the value of the expression shouldn't move much\n",
    "\n",
    "\n",
    "*An aside*\n",
    "\n",
    "* What is the intution for this condition?\n",
    "\n",
    "* It says that for a tiny move in either direction, the benefit should be zero either way\n",
    "\n",
    "* Lets consider that we want to find the x that maximizes: $4x-x^2$  "
   ]
  },
  {
   "cell_type": "code",
   "execution_count": 4,
   "metadata": {
    "colab": {
     "base_uri": "https://localhost:8080/",
     "height": 282
    },
    "colab_type": "code",
    "executionInfo": {
     "elapsed": 662,
     "status": "ok",
     "timestamp": 1576514492189,
     "user": {
      "displayName": "yuchi yao",
      "photoUrl": "",
      "userId": "00457884373990713813"
     },
     "user_tz": 300
    },
    "id": "gX83GU4PQ1ux",
    "outputId": "8b3301ac-1133-43e8-8a55-ddf7cbfc2bc9"
   },
   "outputs": [
    {
     "data": {
      "text/plain": [
       "<matplotlib.collections.PathCollection at 0x21ce22aa490>"
      ]
     },
     "execution_count": 4,
     "metadata": {},
     "output_type": "execute_result"
    },
    {
     "data": {
      "image/png": "[encoded data removed]",
      "text/plain": [
       "<Figure size 432x288 with 1 Axes>"
      ]
     },
     "metadata": {
      "needs_background": "light"
     },
     "output_type": "display_data"
    }
   ],
   "source": [
    "x=np.arange(0,4,0.1)\n",
    "plt.scatter(x,4*x-x**2)"
   ]
  },
  {
   "cell_type": "markdown",
   "metadata": {
    "colab_type": "text",
    "id": "vGGnPjY0Q1uz"
   },
   "source": [
    "* This is maximized at 2\n",
    "\n",
    "* The FOC for this case is simply the derivatinve of $4x-x^2$ which is\n",
    "\n",
    "$$4-2x^*=0$$\n",
    "\n",
    "* Which means $x^*=2$\n",
    "\n",
    "* You see in the plot that pertubating x a little bit has no effect on the value\n",
    "\n",
    "* close to the peak, the expression is flat.\n"
   ]
  },
  {
   "cell_type": "markdown",
   "metadata": {
    "colab_type": "text",
    "id": "rwSgMEFHQ1u0"
   },
   "source": [
    "## **The Tangecy  portfolio**\n",
    "\n",
    "\n",
    "\n",
    "* Rewriting our first order condition we have\n",
    "\n",
    "\n",
    "$\n",
    "\\begin{align}\n",
    "\\gamma Var(R^e)X^* &=E[R^e]\\\\\n",
    "(\\gamma Var(R^e))^{-1}\\gamma Var(R^e)X^* &=(\\gamma Var(R^e))^{-1}E[R^e]\\\\\n",
    "X^* &=(\\gamma Var(R^e))^{-1}E[R^e]\\\\\n",
    "X^* &=\\frac{1}{\\gamma} Var(R^e)^{-1}E[R^e]\n",
    "\\end{align}$\n",
    "\n",
    "* We simply multiplied both the RHS and the LHS by the inverse of the matrix $\\gamma Var(R^e)$ that was multiplying the weight\n",
    "\n",
    "* This is equivalent to solving 5x=4, by dividing though by 5 to get x=4/5, but in matrix form\n",
    "\n",
    "\n",
    "*Questions*\n",
    "\n",
    "* How does your distaste for risk $\\gamma$ impact your portfolio composition?\n",
    "\n",
    "* Does it impact the relative weights in the risky assets?\n",
    "\n",
    "Note that $X^*$ is the optimal position in risky assets and therefore has the same dimension as the number of assets you are considering. \n",
    "\n",
    "\n"
   ]
  },
  {
   "cell_type": "markdown",
   "metadata": {},
   "source": [
    "__________________\n",
    "\n",
    "*Aside: Three different problems with exactly the same solution*\n",
    "\n",
    "We solved this problem\n",
    "\n",
    "$$\n",
    "\\begin{aligned}\n",
    "maximize_{(X)} E[X'R^e]- \\gamma/2 Var(X'R^e)\\\\\n",
    "\\end{aligned}\n",
    "$$\n",
    "\n",
    "This problem has the same solution as minimizing the variance subject to hitting a desired minimum expected return target\n",
    "\n",
    "\n",
    "$$\n",
    "\\begin{aligned}\n",
    "minimize_{(X)} Var(X'R^e) \\text{    subject to } E[X'R^e]\\geq\\mu^{Desired}\\\\\n",
    "\\end{aligned}\n",
    "$$\n",
    "\n",
    "or maximizing the expected  return subject to hitting a maximum desired volatility  target\n",
    "\n",
    "\n",
    "$$\n",
    "\\begin{aligned}\n",
    "maximize_{(X)} E(X'R^e) \\text{   subject to } Var(X'R^e)\\leq Var^{Desired}\\\\\n",
    "\\end{aligned}\n",
    "$$\n",
    "\n",
    "This means that once we have the tangency portfolio solution we can simply scale up and down the portfolio weights to achieve the desired volatility or expected return"
   ]
  },
  {
   "cell_type": "markdown",
   "metadata": {
    "colab_type": "text",
    "id": "eDFJiQNu4bJT"
   },
   "source": [
    "_____\n",
    "\n",
    "*Aside: Matrix inversion*\n",
    "\n",
    "* You only need to understand how to operationaize it and in an conceptual level what it does\n",
    "\n",
    "* But you don't need to follow all the mathematical details\n",
    "\n",
    "* If you are interested. you can look in our linear algebra review in https://amoreira2.github.io/quantitativeinvesting/chapters/scientific/linear_algebra1.html\n",
    "\n",
    "* I also provide a summary below\n",
    "\n",
    "* Note that $(2)^{-1}=1/2=0.5$ (naturally!)\n",
    "\n",
    "* $(Var(R^e))^{-1}$ is just like this \n",
    "\n",
    "* but more complicated because $Var(R^e)$ is a N by N matrix and we can't simply divide over to solve for X\n",
    "\n",
    "* The definition of the inverse function is $f(x)=x^{-1}=y$ where $y*x=1$\n",
    "\n",
    "* for matrices it is the same: $(Var(R^e))^{-1}Var(R^e)=I$, but now instead of 1, we have an identity matrix, which is a matrix with 1's in the diagonal and zero everywhere else\n",
    "\n",
    "* For example, lets say we want to inverse a 2 by 2 matrix:\n",
    "\n",
    "$$\\left[\\begin{array}{cc}3 & 7\\\\0 &9\\end{array}\\right]^{-1}=\\left[\\begin{array}{cc}a & b\\\\c &d\\end{array}\\right]$$\n",
    "\n",
    "\n",
    "* We would simply solve\n",
    "\n",
    "\n",
    "$$\\left[\\begin{array}{cc}3 & 7\\\\0 &9\\end{array}\\right]\\left[\\begin{array}{cc}a & b\\\\c &d\\end{array}\\right]=I=\\left[\\begin{array}{cc}1 & 0\\\\0 &1\\end{array}\\right]$$\n",
    "\n",
    "* Which means solving this system of four equations below\n",
    "$$\n",
    "\\begin{aligned}\n",
    "3*a+7*c=1\\\\\n",
    "3*b+7*d=0\\\\\n",
    "0*a+9*c=0\\\\\n",
    "0*b+9*d=1\\\\\n",
    "\\end{aligned}$$\n",
    "\n",
    "* which in this case has an easy solution [a,b,c,d]=[1/3,-7/27,0,1/9]\n",
    "\n",
    "* But we should be thankful for being born after the 70's, when people had to do these inversions by hand--for very large matrices\n",
    "\n",
    "* Now we can simply us the linear algebra library build in numpy  we discussed in Notebook 1 and invert the matrix\n",
    "\n",
    "* so we don't really to know this, but rather simpky understand conceptually what it means\n"
   ]
  },
  {
   "cell_type": "code",
   "execution_count": 5,
   "metadata": {},
   "outputs": [
    {
     "name": "stdout",
     "output_type": "stream",
     "text": [
      "[[3 7]\n",
      " [0 9]]\n"
     ]
    },
    {
     "data": {
      "text/plain": [
       "array([[ 0.33333333, -0.25925926],\n",
       "       [ 0.        ,  0.11111111]])"
      ]
     },
     "execution_count": 5,
     "metadata": {},
     "output_type": "execute_result"
    }
   ],
   "source": [
    "a=np.array([[3,7],[0,9]])\n",
    "print(a)\n",
    "np.linalg.inv(a) "
   ]
  },
  {
   "cell_type": "code",
   "execution_count": 6,
   "metadata": {},
   "outputs": [
    {
     "data": {
      "text/plain": [
       "array([[1.00000000e+00, 3.33066907e-16],\n",
       "       [0.00000000e+00, 1.00000000e+00]])"
      ]
     },
     "execution_count": 6,
     "metadata": {},
     "output_type": "execute_result"
    }
   ],
   "source": [
    "np.linalg.inv(a)  @ a"
   ]
  },
  {
   "cell_type": "code",
   "execution_count": 7,
   "metadata": {},
   "outputs": [
    {
     "data": {
      "text/plain": [
       "array([[3, 0],\n",
       "       [7, 9]])"
      ]
     },
     "execution_count": 7,
     "metadata": {},
     "output_type": "execute_result"
    }
   ],
   "source": [
    "a.T"
   ]
  },
  {
   "cell_type": "markdown",
   "metadata": {},
   "source": [
    "________________________\n",
    "## **Finding the Tangency portfolio**\n",
    "\n",
    "\n",
    "First lets construct our vector of excess returns for our risky two assets US equity market and International equity market"
   ]
  },
  {
   "cell_type": "code",
   "execution_count": 10,
   "metadata": {},
   "outputs": [
    {
     "data": {
      "text/html": [
       "<div>\n",
       "<style scoped>\n",
       "    .dataframe tbody tr th:only-of-type {\n",
       "        vertical-align: middle;\n",
       "    }\n",
       "\n",
       "    .dataframe tbody tr th {\n",
       "        vertical-align: top;\n",
       "    }\n",
       "\n",
       "    .dataframe thead th {\n",
       "        text-align: right;\n",
       "    }\n",
       "</style>\n",
       "<table border=\"1\" class=\"dataframe\">\n",
       "  <thead>\n",
       "    <tr style=\"text-align: right;\">\n",
       "      <th></th>\n",
       "      <th>MKT</th>\n",
       "      <th>WorldxUSA</th>\n",
       "    </tr>\n",
       "    <tr>\n",
       "      <th>Date</th>\n",
       "      <th></th>\n",
       "      <th></th>\n",
       "    </tr>\n",
       "  </thead>\n",
       "  <tbody>\n",
       "    <tr>\n",
       "      <th>1963-02-28</th>\n",
       "      <td>-0.0238</td>\n",
       "      <td>-0.005073</td>\n",
       "    </tr>\n",
       "    <tr>\n",
       "      <th>1963-03-31</th>\n",
       "      <td>0.0308</td>\n",
       "      <td>-0.001929</td>\n",
       "    </tr>\n",
       "    <tr>\n",
       "      <th>1963-04-30</th>\n",
       "      <td>0.0451</td>\n",
       "      <td>-0.005836</td>\n",
       "    </tr>\n",
       "    <tr>\n",
       "      <th>1963-05-31</th>\n",
       "      <td>0.0176</td>\n",
       "      <td>-0.002586</td>\n",
       "    </tr>\n",
       "    <tr>\n",
       "      <th>1963-06-30</th>\n",
       "      <td>-0.0200</td>\n",
       "      <td>-0.013460</td>\n",
       "    </tr>\n",
       "  </tbody>\n",
       "</table>\n",
       "</div>"
      ],
      "text/plain": [
       "               MKT  WorldxUSA\n",
       "Date                         \n",
       "1963-02-28 -0.0238  -0.005073\n",
       "1963-03-31  0.0308  -0.001929\n",
       "1963-04-30  0.0451  -0.005836\n",
       "1963-05-31  0.0176  -0.002586\n",
       "1963-06-30 -0.0200  -0.013460"
      ]
     },
     "execution_count": 10,
     "metadata": {},
     "output_type": "execute_result"
    }
   ],
   "source": [
    "Re=(Data[['MKT','WorldxUSA']]).subtract(Data['RF'],axis='index')\n",
    "Re.head()"
   ]
  },
  {
   "cell_type": "markdown",
   "metadata": {},
   "source": [
    "We start by estimating the covariance matrix from our data $Var(R^e)$"
   ]
  },
  {
   "cell_type": "code",
   "execution_count": 11,
   "metadata": {},
   "outputs": [
    {
     "data": {
      "text/html": [
       "<div>\n",
       "<style scoped>\n",
       "    .dataframe tbody tr th:only-of-type {\n",
       "        vertical-align: middle;\n",
       "    }\n",
       "\n",
       "    .dataframe tbody tr th {\n",
       "        vertical-align: top;\n",
       "    }\n",
       "\n",
       "    .dataframe thead th {\n",
       "        text-align: right;\n",
       "    }\n",
       "</style>\n",
       "<table border=\"1\" class=\"dataframe\">\n",
       "  <thead>\n",
       "    <tr style=\"text-align: right;\">\n",
       "      <th></th>\n",
       "      <th>MKT</th>\n",
       "      <th>WorldxUSA</th>\n",
       "    </tr>\n",
       "  </thead>\n",
       "  <tbody>\n",
       "    <tr>\n",
       "      <th>MKT</th>\n",
       "      <td>0.001948</td>\n",
       "      <td>0.001264</td>\n",
       "    </tr>\n",
       "    <tr>\n",
       "      <th>WorldxUSA</th>\n",
       "      <td>0.001264</td>\n",
       "      <td>0.002182</td>\n",
       "    </tr>\n",
       "  </tbody>\n",
       "</table>\n",
       "</div>"
      ],
      "text/plain": [
       "                MKT  WorldxUSA\n",
       "MKT        0.001948   0.001264\n",
       "WorldxUSA  0.001264   0.002182"
      ]
     },
     "execution_count": 11,
     "metadata": {},
     "output_type": "execute_result"
    }
   ],
   "source": [
    "Re.cov()"
   ]
  },
  {
   "cell_type": "markdown",
   "metadata": {},
   "source": [
    "We then estiamte the expected excess return, the premium you expect to earn by investing in each asset $E[R^e]$"
   ]
  },
  {
   "cell_type": "code",
   "execution_count": 12,
   "metadata": {},
   "outputs": [
    {
     "data": {
      "text/plain": [
       "MKT          0.005140\n",
       "WorldxUSA    0.004149\n",
       "dtype: float64"
      ]
     },
     "execution_count": 12,
     "metadata": {},
     "output_type": "execute_result"
    }
   ],
   "source": [
    "Re.mean()"
   ]
  },
  {
   "cell_type": "markdown",
   "metadata": {},
   "source": [
    "We then invert the covaraicne matrix $Var(R^e)^{-1}$"
   ]
  },
  {
   "cell_type": "code",
   "execution_count": 16,
   "metadata": {
    "colab": {
     "base_uri": "https://localhost:8080/",
     "height": 51
    },
    "colab_type": "code",
    "executionInfo": {
     "elapsed": 300,
     "status": "ok",
     "timestamp": 1576516473713,
     "user": {
      "displayName": "yuchi yao",
      "photoUrl": "",
      "userId": "00457884373990713813"
     },
     "user_tz": 300
    },
    "id": "g30KiEbDQ1u0",
    "outputId": "e1607085-aa00-44dd-fd47-4c0581d5fed7"
   },
   "outputs": [
    {
     "data": {
      "text/plain": [
       "array([[ 822.50792137, -476.49212708],\n",
       "       [-476.49212708,  734.40580739]])"
      ]
     },
     "execution_count": 16,
     "metadata": {},
     "output_type": "execute_result"
    }
   ],
   "source": [
    "np.linalg.inv(Re.cov()) "
   ]
  },
  {
   "cell_type": "markdown",
   "metadata": {
    "colab_type": "text",
    "id": "CV3kqj0wQ1u2"
   },
   "source": [
    "we then use the dot product to cross-mulitply our vector of expected excess returns by the inverse of the covariance matrix\n",
    "\n",
    "$$Var(R^e)^{-1}E[R^e]$$"
   ]
  },
  {
   "cell_type": "code",
   "execution_count": 17,
   "metadata": {
    "colab": {
     "base_uri": "https://localhost:8080/",
     "height": 34
    },
    "colab_type": "code",
    "executionInfo": {
     "elapsed": 321,
     "status": "ok",
     "timestamp": 1576516489440,
     "user": {
      "displayName": "yuchi yao",
      "photoUrl": "",
      "userId": "00457884373990713813"
     },
     "user_tz": 300
    },
    "id": "aSD1S4pCQ1u2",
    "outputId": "29f833bf-e962-4445-9afb-dd71e6eb14fe"
   },
   "outputs": [
    {
     "data": {
      "text/plain": [
       "array([2.25099751, 0.597729  ])"
      ]
     },
     "execution_count": 17,
     "metadata": {},
     "output_type": "execute_result"
    }
   ],
   "source": [
    "W=np.linalg.inv(Re.cov()) @ Re.mean()\n",
    "W"
   ]
  },
  {
   "cell_type": "markdown",
   "metadata": {
    "colab_type": "text",
    "id": "543-4qWdQ1u4"
   },
   "source": [
    "Now for a given level of risk-aversion $gamma$ we can find the optimal risky portfolio "
   ]
  },
  {
   "cell_type": "code",
   "execution_count": 21,
   "metadata": {
    "colab": {},
    "colab_type": "code",
    "id": "t_LJg5zGQ1u4",
    "outputId": "819fb706-cac9-48f6-8e59-c34fe264d42e"
   },
   "outputs": [
    {
     "data": {
      "text/plain": [
       "array([0.56274938, 0.14943225])"
      ]
     },
     "execution_count": 21,
     "metadata": {},
     "output_type": "execute_result"
    }
   ],
   "source": [
    "gamma=4\n",
    "\n",
    "Wstar=W/gamma\n",
    "Wstar"
   ]
  },
  {
   "cell_type": "markdown",
   "metadata": {},
   "source": [
    "and the amount allocated to the risk-free asset"
   ]
  },
  {
   "cell_type": "code",
   "execution_count": 22,
   "metadata": {},
   "outputs": [
    {
     "data": {
      "text/plain": [
       "0.2878183714834085"
      ]
     },
     "execution_count": 22,
     "metadata": {},
     "output_type": "execute_result"
    }
   ],
   "source": [
    "1-np.sum(Wstar)"
   ]
  },
  {
   "cell_type": "markdown",
   "metadata": {
    "colab_type": "text",
    "id": "QiwwHWncQ1u6"
   },
   "source": [
    "## **Two-fund separation**\n",
    "\n",
    "* It tells us that the decision of which assets to invest is completely independent of your risk-aversion\n",
    "\n",
    "* Your risky portfolio is always the same, and you risk-aversion simply determines how much of it you will have, versus the risk-free rate\n",
    "\n",
    "* Please take a moment to appreciate this \n",
    "\n",
    "* Why that happens?\n",
    "\n",
    "Because any portfolio that is proportional to $Var(R^e)^{-1}E[R^e]$ achieve the highest feasible Sharpe Ratio\n",
    "\n",
    "* Why is that?\n",
    "\n",
    "Recall what a SR is : $E[r-r_f]/\\sigma(r-r_f)$. Since this portfolio solves the problem of maximizing expected return for a given level of volatility, it also is the portfolio with maximum Sharpe Ratio\n",
    "\n",
    "Note further that any linear combination of this portfolio with the risk-free rate will achieve exactly the same sharpe ratio. \n",
    "\n",
    "Let $r_p=r_f+wr^*$ then $E[r_p-r_f]/\\sigma(r_p)=E[wr^*]/\\sigma(wr^*+r_f)=E[r^*]/\\sigma(r^*)$\n",
    "\n",
    "\n"
   ]
  },
  {
   "cell_type": "markdown",
   "metadata": {},
   "source": [
    "## **Properties of the Tangency Portfolio**\n",
    "\n",
    "Any portfolio that is proportional to  $Var(R^e)^{-1}E[R^e]$ is in the **Tangency** of the mean-variance frontier\n",
    "\n",
    "I will refer to $X_T=Var(R^e)^{-1}E[R^e]$ as the tangency portfolio, but formally any other portfolio that is of the form $y X_T$ where y is a scalar is also tangency.\n",
    "\n",
    "1. What is the expected excess return of the tangency portfolio?\n",
    "\n",
    "$$E[yX_T'R^e]=yE[E[R^e]'Var(R^e)^{-1}R^e]=yE[R^e]'Var(R^e)^{-1}E[R^e]$$\n",
    "\n",
    "2. What is the volatility of the tangency portfolio?\n",
    "\n",
    "$$Var[yX_T'R^e]=y^2Var(E[R^e]'Var(R^e)^{-1}R^e)=y^2E[R^e]'Var(R^e)^{-1}Var(R^e)Var(R^e)^{-1}E[R^e]$$\n",
    "\n",
    "$$Var[yX_T'R^e]=y^2E[R^e]'Var(R^e)^{-1}E[R^e]$$\n",
    "\n",
    "$$STD[yX_T'R^e]=y\\sqrt{E[R^e]'Var(R^e)^{-1}E[R^e]}$$\n",
    "\n",
    "3. What is the Sharpe Ratio of the Tangency portfolio?\n",
    "\n",
    "$$\\frac{E[yW_T'R^e]}{STD[yW_T'R^e+r_f]}=\\sqrt{E[R^e]'Var(R^e)^{-1}E[R^e]}$$\n",
    "\n",
    "As we saw before, the Sharpe Ratio is invariant to the precise location that you choose in the investment frontier. \n",
    "\n",
    "Volatility and Expected excess return will vary, but any leverage effect will exactly cancel out when you look at the Sharpe Ratio\n",
    "\n",
    "So Sharpe Ratio is nice because it is invariant to leverage"
   ]
  },
  {
   "cell_type": "markdown",
   "metadata": {
    "colab_type": "text",
    "id": "1AbIsb7eQ1u9"
   },
   "source": [
    "**Portfolio advice summary (so far!)**\n",
    "\n",
    "* All investors invest in the same portfolio of risky assets, regardless of risk aversion.\n",
    "\n",
    "* Depending on risk aversion (desired level of volatility) , they choose an appropriate mix of risk-free and risky fund investments\n",
    "\n",
    "__________________\n",
    "*Reality is a bit more complicated*\n",
    "\n",
    "- Here we assume your preferences: You like higher portfolio expected returns and dislikes portfolio variance\n",
    "\n",
    "- Peoples preferences for risk are likely to be much richer than these simple preferences\n",
    "\n",
    "- We will discuss later how to incorporate other risk dimensions (tail risks, background risks, etc)\n",
    "\n",
    "- We also ignore investment horizon effects which we will discuss later in the course\n"
   ]
  },
  {
   "cell_type": "code",
   "execution_count": null,
   "metadata": {},
   "outputs": [],
   "source": []
  }
 ],
 "metadata": {
  "colab": {
   "collapsed_sections": [],
   "provenance": [],
   "toc_visible": true
  },
  "kernelspec": {
   "display_name": "Python 3 (ipykernel)",
   "language": "python",
   "name": "python3"
  },
  "language_info": {
   "codemirror_mode": {
    "name": "ipython",
    "version": 3
   },
   "file_extension": ".py",
   "mimetype": "text/x-python",
   "name": "python",
   "nbconvert_exporter": "python",
   "pygments_lexer": "ipython3",
   "version": "3.9.12"
  },
  "toc-autonumbering": true
 },
 "nbformat": 4,
 "nbformat_minor": 4
}
