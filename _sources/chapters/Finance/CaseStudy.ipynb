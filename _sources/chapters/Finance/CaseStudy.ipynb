{
 "cells": [
  {
   "cell_type": "code",
   "execution_count": 1,
   "metadata": {
    "colab": {},
    "colab_type": "code",
    "id": "Tq96XxisQ1ty"
   },
   "outputs": [],
   "source": [
    "import pandas as pd\n",
    "import numpy as np\n",
    "import matplotlib.pyplot as plt\n",
    "%matplotlib inline\n",
    "#GlobalFinMonthly\n",
    "url=\"https://raw.githubusercontent.com/amoreira2/Lectures/main/assets/data/GlobalFinMonthly.csv\"\n",
    "Data = pd.read_csv(url,na_values=-99)\n",
    "Data['Date']=pd.to_datetime(Data['Date'])\n",
    "Data=Data.set_index(['Date'])"
   ]
  },
  {
   "cell_type": "markdown",
   "metadata": {
    "colab_type": "text",
    "id": "x5bPnG2RQ1tw"
   },
   "source": [
    "# Case study on international portfolio diversification\n",
    "\n",
    "In this section we will apply what we have learned so far on the international market. We will try to solve the optimal weights that give us the highest sharpe ratio, and how we should allocate our money between risk-free rate and risky asset to target on average return or volatility.\n"
   ]
  },
  {
   "cell_type": "code",
   "execution_count": 2,
   "metadata": {
    "colab": {
     "base_uri": "https://localhost:8080/",
     "height": 235
    },
    "colab_type": "code",
    "executionInfo": {
     "elapsed": 325,
     "status": "ok",
     "timestamp": 1576520994565,
     "user": {
      "displayName": "yuchi yao",
      "photoUrl": "",
      "userId": "00457884373990713813"
     },
     "user_tz": 300
    },
    "id": "4JUej0lpQ1u-",
    "outputId": "597bd03c-a669-4444-def6-c0c6c669db91"
   },
   "outputs": [
    {
     "data": {
      "text/html": [
       "<div>\n",
       "<style scoped>\n",
       "    .dataframe tbody tr th:only-of-type {\n",
       "        vertical-align: middle;\n",
       "    }\n",
       "\n",
       "    .dataframe tbody tr th {\n",
       "        vertical-align: top;\n",
       "    }\n",
       "\n",
       "    .dataframe thead th {\n",
       "        text-align: right;\n",
       "    }\n",
       "</style>\n",
       "<table border=\"1\" class=\"dataframe\">\n",
       "  <thead>\n",
       "    <tr style=\"text-align: right;\">\n",
       "      <th></th>\n",
       "      <th>RF</th>\n",
       "      <th>MKT</th>\n",
       "      <th>USA30yearGovBond</th>\n",
       "      <th>EmergingMarkets</th>\n",
       "      <th>WorldxUSA</th>\n",
       "      <th>WorldxUSAGovBond</th>\n",
       "    </tr>\n",
       "    <tr>\n",
       "      <th>Date</th>\n",
       "      <th></th>\n",
       "      <th></th>\n",
       "      <th></th>\n",
       "      <th></th>\n",
       "      <th></th>\n",
       "      <th></th>\n",
       "    </tr>\n",
       "  </thead>\n",
       "  <tbody>\n",
       "    <tr>\n",
       "      <th>1963-02-28</th>\n",
       "      <td>0.0023</td>\n",
       "      <td>-0.0215</td>\n",
       "      <td>-0.001878</td>\n",
       "      <td>0.098222</td>\n",
       "      <td>-0.002773</td>\n",
       "      <td>NaN</td>\n",
       "    </tr>\n",
       "    <tr>\n",
       "      <th>1963-03-31</th>\n",
       "      <td>0.0023</td>\n",
       "      <td>0.0331</td>\n",
       "      <td>0.003342</td>\n",
       "      <td>0.014149</td>\n",
       "      <td>0.000371</td>\n",
       "      <td>0.001913</td>\n",
       "    </tr>\n",
       "    <tr>\n",
       "      <th>1963-04-30</th>\n",
       "      <td>0.0025</td>\n",
       "      <td>0.0476</td>\n",
       "      <td>-0.001843</td>\n",
       "      <td>-0.147055</td>\n",
       "      <td>-0.003336</td>\n",
       "      <td>0.008002</td>\n",
       "    </tr>\n",
       "    <tr>\n",
       "      <th>1963-05-31</th>\n",
       "      <td>0.0024</td>\n",
       "      <td>0.0200</td>\n",
       "      <td>-0.001807</td>\n",
       "      <td>-0.012172</td>\n",
       "      <td>-0.000186</td>\n",
       "      <td>0.004689</td>\n",
       "    </tr>\n",
       "    <tr>\n",
       "      <th>1963-06-30</th>\n",
       "      <td>0.0023</td>\n",
       "      <td>-0.0177</td>\n",
       "      <td>0.001666</td>\n",
       "      <td>-0.055699</td>\n",
       "      <td>-0.011160</td>\n",
       "      <td>0.003139</td>\n",
       "    </tr>\n",
       "  </tbody>\n",
       "</table>\n",
       "</div>"
      ],
      "text/plain": [
       "                RF     MKT  USA30yearGovBond  EmergingMarkets  WorldxUSA  \\\n",
       "Date                                                                       \n",
       "1963-02-28  0.0023 -0.0215         -0.001878         0.098222  -0.002773   \n",
       "1963-03-31  0.0023  0.0331          0.003342         0.014149   0.000371   \n",
       "1963-04-30  0.0025  0.0476         -0.001843        -0.147055  -0.003336   \n",
       "1963-05-31  0.0024  0.0200         -0.001807        -0.012172  -0.000186   \n",
       "1963-06-30  0.0023 -0.0177          0.001666        -0.055699  -0.011160   \n",
       "\n",
       "            WorldxUSAGovBond  \n",
       "Date                          \n",
       "1963-02-28               NaN  \n",
       "1963-03-31          0.001913  \n",
       "1963-04-30          0.008002  \n",
       "1963-05-31          0.004689  \n",
       "1963-06-30          0.003139  "
      ]
     },
     "execution_count": 2,
     "metadata": {},
     "output_type": "execute_result"
    }
   ],
   "source": [
    "Data.head()"
   ]
  },
  {
   "cell_type": "code",
   "execution_count": 3,
   "metadata": {
    "colab": {
     "base_uri": "https://localhost:8080/",
     "height": 235
    },
    "colab_type": "code",
    "executionInfo": {
     "elapsed": 331,
     "status": "ok",
     "timestamp": 1576522813843,
     "user": {
      "displayName": "yuchi yao",
      "photoUrl": "",
      "userId": "00457884373990713813"
     },
     "user_tz": 300
    },
    "id": "f8tA7s2pQ1vB",
    "outputId": "9a6b95ba-c3ce-47d1-eb4b-400a5cc287bc"
   },
   "outputs": [
    {
     "data": {
      "text/html": [
       "<div>\n",
       "<style scoped>\n",
       "    .dataframe tbody tr th:only-of-type {\n",
       "        vertical-align: middle;\n",
       "    }\n",
       "\n",
       "    .dataframe tbody tr th {\n",
       "        vertical-align: top;\n",
       "    }\n",
       "\n",
       "    .dataframe thead th {\n",
       "        text-align: right;\n",
       "    }\n",
       "</style>\n",
       "<table border=\"1\" class=\"dataframe\">\n",
       "  <thead>\n",
       "    <tr style=\"text-align: right;\">\n",
       "      <th></th>\n",
       "      <th>RF</th>\n",
       "      <th>MKTUS</th>\n",
       "      <th>BondUS</th>\n",
       "      <th>EM</th>\n",
       "      <th>MKTxUS</th>\n",
       "      <th>BondxUS</th>\n",
       "    </tr>\n",
       "    <tr>\n",
       "      <th>Date</th>\n",
       "      <th></th>\n",
       "      <th></th>\n",
       "      <th></th>\n",
       "      <th></th>\n",
       "      <th></th>\n",
       "      <th></th>\n",
       "    </tr>\n",
       "  </thead>\n",
       "  <tbody>\n",
       "    <tr>\n",
       "      <th>2016-08-31</th>\n",
       "      <td>0.0002</td>\n",
       "      <td>0.0052</td>\n",
       "      <td>-0.008417</td>\n",
       "      <td>0.025186</td>\n",
       "      <td>0.000838</td>\n",
       "      <td>-0.009552</td>\n",
       "    </tr>\n",
       "    <tr>\n",
       "      <th>2016-09-30</th>\n",
       "      <td>0.0002</td>\n",
       "      <td>0.0027</td>\n",
       "      <td>-0.016417</td>\n",
       "      <td>0.013153</td>\n",
       "      <td>0.012736</td>\n",
       "      <td>0.009979</td>\n",
       "    </tr>\n",
       "    <tr>\n",
       "      <th>2016-10-31</th>\n",
       "      <td>0.0002</td>\n",
       "      <td>-0.0200</td>\n",
       "      <td>-0.049460</td>\n",
       "      <td>0.002474</td>\n",
       "      <td>-0.020383</td>\n",
       "      <td>-0.043476</td>\n",
       "    </tr>\n",
       "    <tr>\n",
       "      <th>2016-11-30</th>\n",
       "      <td>0.0001</td>\n",
       "      <td>0.0487</td>\n",
       "      <td>-0.081636</td>\n",
       "      <td>-0.045971</td>\n",
       "      <td>-0.019798</td>\n",
       "      <td>-0.050359</td>\n",
       "    </tr>\n",
       "    <tr>\n",
       "      <th>2016-12-31</th>\n",
       "      <td>0.0003</td>\n",
       "      <td>0.0185</td>\n",
       "      <td>-0.005296</td>\n",
       "      <td>0.002904</td>\n",
       "      <td>0.034383</td>\n",
       "      <td>-0.023207</td>\n",
       "    </tr>\n",
       "  </tbody>\n",
       "</table>\n",
       "</div>"
      ],
      "text/plain": [
       "                RF   MKTUS    BondUS        EM    MKTxUS   BondxUS\n",
       "Date                                                              \n",
       "2016-08-31  0.0002  0.0052 -0.008417  0.025186  0.000838 -0.009552\n",
       "2016-09-30  0.0002  0.0027 -0.016417  0.013153  0.012736  0.009979\n",
       "2016-10-31  0.0002 -0.0200 -0.049460  0.002474 -0.020383 -0.043476\n",
       "2016-11-30  0.0001  0.0487 -0.081636 -0.045971 -0.019798 -0.050359\n",
       "2016-12-31  0.0003  0.0185 -0.005296  0.002904  0.034383 -0.023207"
      ]
     },
     "execution_count": 3,
     "metadata": {},
     "output_type": "execute_result"
    }
   ],
   "source": [
    "# for convenience lets rename these assets\n",
    "\n",
    "Data=Data.rename(columns={Data.columns[1]: \"MKTUS\",Data.columns[2]: \"BondUS\",\n",
    "                          Data.columns[3]: \"EM\",Data.columns[4]: \"MKTxUS\",Data.columns[5]: \"BondxUS\" })\n",
    "Data.tail()"
   ]
  },
  {
   "cell_type": "markdown",
   "metadata": {},
   "source": [
    "Lets start by constructing a matrix with only excess returns"
   ]
  },
  {
   "cell_type": "code",
   "execution_count": 6,
   "metadata": {
    "colab": {
     "base_uri": "https://localhost:8080/",
     "height": 235
    },
    "colab_type": "code",
    "executionInfo": {
     "elapsed": 334,
     "status": "ok",
     "timestamp": 1576522822075,
     "user": {
      "displayName": "yuchi yao",
      "photoUrl": "",
      "userId": "00457884373990713813"
     },
     "user_tz": 300
    },
    "id": "rOXeUDSnQ1vC",
    "outputId": "6c471a61-5227-4ff7-c78a-92c2d2796743"
   },
   "outputs": [
    {
     "data": {
      "text/html": [
       "<div>\n",
       "<style scoped>\n",
       "    .dataframe tbody tr th:only-of-type {\n",
       "        vertical-align: middle;\n",
       "    }\n",
       "\n",
       "    .dataframe tbody tr th {\n",
       "        vertical-align: top;\n",
       "    }\n",
       "\n",
       "    .dataframe thead th {\n",
       "        text-align: right;\n",
       "    }\n",
       "</style>\n",
       "<table border=\"1\" class=\"dataframe\">\n",
       "  <thead>\n",
       "    <tr style=\"text-align: right;\">\n",
       "      <th></th>\n",
       "      <th>MKTUS</th>\n",
       "      <th>BondUS</th>\n",
       "      <th>EM</th>\n",
       "      <th>MKTxUS</th>\n",
       "      <th>BondxUS</th>\n",
       "    </tr>\n",
       "    <tr>\n",
       "      <th>Date</th>\n",
       "      <th></th>\n",
       "      <th></th>\n",
       "      <th></th>\n",
       "      <th></th>\n",
       "      <th></th>\n",
       "    </tr>\n",
       "  </thead>\n",
       "  <tbody>\n",
       "    <tr>\n",
       "      <th>2016-08-31</th>\n",
       "      <td>0.0050</td>\n",
       "      <td>-0.008617</td>\n",
       "      <td>0.024986</td>\n",
       "      <td>0.000638</td>\n",
       "      <td>-0.009752</td>\n",
       "    </tr>\n",
       "    <tr>\n",
       "      <th>2016-09-30</th>\n",
       "      <td>0.0025</td>\n",
       "      <td>-0.016617</td>\n",
       "      <td>0.012953</td>\n",
       "      <td>0.012536</td>\n",
       "      <td>0.009779</td>\n",
       "    </tr>\n",
       "    <tr>\n",
       "      <th>2016-10-31</th>\n",
       "      <td>-0.0202</td>\n",
       "      <td>-0.049660</td>\n",
       "      <td>0.002274</td>\n",
       "      <td>-0.020583</td>\n",
       "      <td>-0.043676</td>\n",
       "    </tr>\n",
       "    <tr>\n",
       "      <th>2016-11-30</th>\n",
       "      <td>0.0486</td>\n",
       "      <td>-0.081736</td>\n",
       "      <td>-0.046071</td>\n",
       "      <td>-0.019898</td>\n",
       "      <td>-0.050459</td>\n",
       "    </tr>\n",
       "    <tr>\n",
       "      <th>2016-12-31</th>\n",
       "      <td>0.0182</td>\n",
       "      <td>-0.005596</td>\n",
       "      <td>0.002604</td>\n",
       "      <td>0.034083</td>\n",
       "      <td>-0.023507</td>\n",
       "    </tr>\n",
       "  </tbody>\n",
       "</table>\n",
       "</div>"
      ],
      "text/plain": [
       "             MKTUS    BondUS        EM    MKTxUS   BondxUS\n",
       "Date                                                      \n",
       "2016-08-31  0.0050 -0.008617  0.024986  0.000638 -0.009752\n",
       "2016-09-30  0.0025 -0.016617  0.012953  0.012536  0.009779\n",
       "2016-10-31 -0.0202 -0.049660  0.002274 -0.020583 -0.043676\n",
       "2016-11-30  0.0486 -0.081736 -0.046071 -0.019898 -0.050459\n",
       "2016-12-31  0.0182 -0.005596  0.002604  0.034083 -0.023507"
      ]
     },
     "execution_count": 6,
     "metadata": {},
     "output_type": "execute_result"
    }
   ],
   "source": [
    "# \n",
    "Re=(Data.drop('RF',axis=1)).subtract(Data['RF'],axis='index')\n",
    "Re.tail()"
   ]
  },
  {
   "cell_type": "markdown",
   "metadata": {},
   "source": [
    "Now we estimate the expected return and the covariance using the sample moments"
   ]
  },
  {
   "cell_type": "code",
   "execution_count": 7,
   "metadata": {
    "colab": {
     "base_uri": "https://localhost:8080/",
     "height": 119
    },
    "colab_type": "code",
    "executionInfo": {
     "elapsed": 323,
     "status": "ok",
     "timestamp": 1576522831826,
     "user": {
      "displayName": "yuchi yao",
      "photoUrl": "",
      "userId": "00457884373990713813"
     },
     "user_tz": 300
    },
    "id": "vUmvucGpQ1vE",
    "outputId": "16712e41-79dd-4d18-ac47-8b166a562189"
   },
   "outputs": [
    {
     "data": {
      "text/plain": [
       "MKTUS      0.005140\n",
       "BondUS     0.002523\n",
       "EM         0.006923\n",
       "MKTxUS     0.004149\n",
       "BondxUS    0.002054\n",
       "dtype: float64"
      ]
     },
     "execution_count": 7,
     "metadata": {},
     "output_type": "execute_result"
    }
   ],
   "source": [
    "ERe=Re.mean()\n",
    "ERe"
   ]
  },
  {
   "cell_type": "markdown",
   "metadata": {},
   "source": [
    "Now we estimate the covariance matrix "
   ]
  },
  {
   "cell_type": "code",
   "execution_count": 8,
   "metadata": {
    "colab": {
     "base_uri": "https://localhost:8080/",
     "height": 204
    },
    "colab_type": "code",
    "executionInfo": {
     "elapsed": 516,
     "status": "ok",
     "timestamp": 1576522834362,
     "user": {
      "displayName": "yuchi yao",
      "photoUrl": "",
      "userId": "00457884373990713813"
     },
     "user_tz": 300
    },
    "id": "N2vTBYgNQ1vF",
    "outputId": "39c197f7-02ed-4853-d78b-ec466c68214f"
   },
   "outputs": [
    {
     "data": {
      "text/html": [
       "<div>\n",
       "<style scoped>\n",
       "    .dataframe tbody tr th:only-of-type {\n",
       "        vertical-align: middle;\n",
       "    }\n",
       "\n",
       "    .dataframe tbody tr th {\n",
       "        vertical-align: top;\n",
       "    }\n",
       "\n",
       "    .dataframe thead th {\n",
       "        text-align: right;\n",
       "    }\n",
       "</style>\n",
       "<table border=\"1\" class=\"dataframe\">\n",
       "  <thead>\n",
       "    <tr style=\"text-align: right;\">\n",
       "      <th></th>\n",
       "      <th>MKTUS</th>\n",
       "      <th>BondUS</th>\n",
       "      <th>EM</th>\n",
       "      <th>MKTxUS</th>\n",
       "      <th>BondxUS</th>\n",
       "    </tr>\n",
       "  </thead>\n",
       "  <tbody>\n",
       "    <tr>\n",
       "      <th>MKTUS</th>\n",
       "      <td>0.001948</td>\n",
       "      <td>0.000111</td>\n",
       "      <td>0.001292</td>\n",
       "      <td>0.001264</td>\n",
       "      <td>0.000187</td>\n",
       "    </tr>\n",
       "    <tr>\n",
       "      <th>BondUS</th>\n",
       "      <td>0.000111</td>\n",
       "      <td>0.001227</td>\n",
       "      <td>-0.000204</td>\n",
       "      <td>-0.000013</td>\n",
       "      <td>0.000264</td>\n",
       "    </tr>\n",
       "    <tr>\n",
       "      <th>EM</th>\n",
       "      <td>0.001292</td>\n",
       "      <td>-0.000204</td>\n",
       "      <td>0.003556</td>\n",
       "      <td>0.001661</td>\n",
       "      <td>0.000249</td>\n",
       "    </tr>\n",
       "    <tr>\n",
       "      <th>MKTxUS</th>\n",
       "      <td>0.001264</td>\n",
       "      <td>-0.000013</td>\n",
       "      <td>0.001661</td>\n",
       "      <td>0.002182</td>\n",
       "      <td>0.000422</td>\n",
       "    </tr>\n",
       "    <tr>\n",
       "      <th>BondxUS</th>\n",
       "      <td>0.000187</td>\n",
       "      <td>0.000264</td>\n",
       "      <td>0.000249</td>\n",
       "      <td>0.000422</td>\n",
       "      <td>0.000407</td>\n",
       "    </tr>\n",
       "  </tbody>\n",
       "</table>\n",
       "</div>"
      ],
      "text/plain": [
       "            MKTUS    BondUS        EM    MKTxUS   BondxUS\n",
       "MKTUS    0.001948  0.000111  0.001292  0.001264  0.000187\n",
       "BondUS   0.000111  0.001227 -0.000204 -0.000013  0.000264\n",
       "EM       0.001292 -0.000204  0.003556  0.001661  0.000249\n",
       "MKTxUS   0.001264 -0.000013  0.001661  0.002182  0.000422\n",
       "BondxUS  0.000187  0.000264  0.000249  0.000422  0.000407"
      ]
     },
     "execution_count": 8,
     "metadata": {},
     "output_type": "execute_result"
    }
   ],
   "source": [
    "CovRe=Re.cov()\n",
    "CovRe"
   ]
  },
  {
   "cell_type": "markdown",
   "metadata": {
    "colab_type": "text",
    "id": "MOY1N4SFQ1vG"
   },
   "source": [
    "1. First we will solve for the maxium Sharpe ratio feasible: \n",
    "\n",
    "  $\\begin{align}\n",
    "  SR(R^*)&=\\sqrt{E[R^e]'Var(R^e)^{-1}E[R^e]}\n",
    "  \\end{align}$\n",
    "\n",
    "2. Then we will solve for the weights that implement this Sharpe ratio\n",
    "\n",
    "  $$W_*=VAR(R^e)^{-1}E[R^e]$$\n",
    "\n",
    "3. And then we will solve for the position on it that implements a desired level of volatility or expected returns"
   ]
  },
  {
   "cell_type": "code",
   "execution_count": 10,
   "metadata": {
    "colab": {
     "base_uri": "https://localhost:8080/",
     "height": 34
    },
    "colab_type": "code",
    "executionInfo": {
     "elapsed": 312,
     "status": "ok",
     "timestamp": 1576523582035,
     "user": {
      "displayName": "yuchi yao",
      "photoUrl": "",
      "userId": "00457884373990713813"
     },
     "user_tz": 300
    },
    "id": "JhhmsZ06Q1vH",
    "outputId": "b1ea92e1-5248-43a1-ad5b-136448fdd9b5"
   },
   "outputs": [
    {
     "data": {
      "text/plain": [
       "0.163687548954056"
      ]
     },
     "execution_count": 10,
     "metadata": {},
     "output_type": "execute_result"
    }
   ],
   "source": [
    "SR_int=(ERe @ np.linalg.inv(CovRe) @ ERe)**0.5\n",
    "SR_int"
   ]
  },
  {
   "cell_type": "code",
   "execution_count": 11,
   "metadata": {
    "colab": {
     "base_uri": "https://localhost:8080/",
     "height": 34
    },
    "colab_type": "code",
    "executionInfo": {
     "elapsed": 416,
     "status": "ok",
     "timestamp": 1576523617968,
     "user": {
      "displayName": "yuchi yao",
      "photoUrl": "",
      "userId": "00457884373990713813"
     },
     "user_tz": 300
    },
    "id": "ALLtgvCsQ1vJ",
    "outputId": "2308a579-9b25-41b6-e8d6-9ed5004ec11e"
   },
   "outputs": [
    {
     "data": {
      "text/plain": [
       "0.5670303027096856"
      ]
     },
     "execution_count": 11,
     "metadata": {},
     "output_type": "execute_result"
    }
   ],
   "source": [
    "# annualized\n",
    "\n",
    "SR_int*12**0.5"
   ]
  },
  {
   "cell_type": "code",
   "execution_count": 12,
   "metadata": {
    "colab": {
     "base_uri": "https://localhost:8080/",
     "height": 34
    },
    "colab_type": "code",
    "executionInfo": {
     "elapsed": 242,
     "status": "ok",
     "timestamp": 1576523627656,
     "user": {
      "displayName": "yuchi yao",
      "photoUrl": "",
      "userId": "00457884373990713813"
     },
     "user_tz": 300
    },
    "id": "asLAQrzPQ1vL",
    "outputId": "26942dcb-549c-4107-9ed9-658f73d06982"
   },
   "outputs": [
    {
     "data": {
      "text/plain": [
       "0.4034509726765917"
      ]
     },
     "execution_count": 12,
     "metadata": {},
     "output_type": "execute_result"
    }
   ],
   "source": [
    "# compares with market\n",
    "\n",
    "Re.MKTUS.mean()/Re.MKTUS.std()*12**0.5"
   ]
  },
  {
   "cell_type": "markdown",
   "metadata": {},
   "source": [
    "We will now initate an empty dataframe that has in the columns the names of the assets\n",
    "\n",
    "We will use it to store the different portfolios that you solve for"
   ]
  },
  {
   "cell_type": "code",
   "execution_count": 41,
   "metadata": {},
   "outputs": [
    {
     "data": {
      "text/html": [
       "<div>\n",
       "<style scoped>\n",
       "    .dataframe tbody tr th:only-of-type {\n",
       "        vertical-align: middle;\n",
       "    }\n",
       "\n",
       "    .dataframe tbody tr th {\n",
       "        vertical-align: top;\n",
       "    }\n",
       "\n",
       "    .dataframe thead th {\n",
       "        text-align: right;\n",
       "    }\n",
       "</style>\n",
       "<table border=\"1\" class=\"dataframe\">\n",
       "  <thead>\n",
       "    <tr style=\"text-align: right;\">\n",
       "      <th></th>\n",
       "    </tr>\n",
       "  </thead>\n",
       "  <tbody>\n",
       "    <tr>\n",
       "      <th>MKTUS</th>\n",
       "    </tr>\n",
       "    <tr>\n",
       "      <th>BondUS</th>\n",
       "    </tr>\n",
       "    <tr>\n",
       "      <th>EM</th>\n",
       "    </tr>\n",
       "    <tr>\n",
       "      <th>MKTxUS</th>\n",
       "    </tr>\n",
       "    <tr>\n",
       "      <th>BondxUS</th>\n",
       "    </tr>\n",
       "  </tbody>\n",
       "</table>\n",
       "</div>"
      ],
      "text/plain": [
       "Empty DataFrame\n",
       "Columns: []\n",
       "Index: [MKTUS, BondUS, EM, MKTxUS, BondxUS]"
      ]
     },
     "execution_count": 41,
     "metadata": {},
     "output_type": "execute_result"
    }
   ],
   "source": [
    "Wmve=pd.DataFrame([],index=Re.columns)\n",
    "Wmve"
   ]
  },
  {
   "cell_type": "code",
   "execution_count": 42,
   "metadata": {
    "colab": {
     "base_uri": "https://localhost:8080/",
     "height": 204
    },
    "colab_type": "code",
    "executionInfo": {
     "elapsed": 338,
     "status": "ok",
     "timestamp": 1576523809605,
     "user": {
      "displayName": "yuchi yao",
      "photoUrl": "",
      "userId": "00457884373990713813"
     },
     "user_tz": 300
    },
    "id": "7dP8L66QQ1vM",
    "outputId": "dc20b457-34d9-4031-9bc6-2e22bc50ba78",
    "scrolled": true
   },
   "outputs": [
    {
     "data": {
      "text/html": [
       "<div>\n",
       "<style scoped>\n",
       "    .dataframe tbody tr th:only-of-type {\n",
       "        vertical-align: middle;\n",
       "    }\n",
       "\n",
       "    .dataframe tbody tr th {\n",
       "        vertical-align: top;\n",
       "    }\n",
       "\n",
       "    .dataframe thead th {\n",
       "        text-align: right;\n",
       "    }\n",
       "</style>\n",
       "<table border=\"1\" class=\"dataframe\">\n",
       "  <thead>\n",
       "    <tr style=\"text-align: right;\">\n",
       "      <th></th>\n",
       "      <th>International</th>\n",
       "    </tr>\n",
       "  </thead>\n",
       "  <tbody>\n",
       "    <tr>\n",
       "      <th>MKTUS</th>\n",
       "      <td>1.835334</td>\n",
       "    </tr>\n",
       "    <tr>\n",
       "      <th>BondUS</th>\n",
       "      <td>1.423373</td>\n",
       "    </tr>\n",
       "    <tr>\n",
       "      <th>EM</th>\n",
       "      <td>1.605223</td>\n",
       "    </tr>\n",
       "    <tr>\n",
       "      <th>MKTxUS</th>\n",
       "      <td>-1.026421</td>\n",
       "    </tr>\n",
       "    <tr>\n",
       "      <th>BondxUS</th>\n",
       "      <td>3.365823</td>\n",
       "    </tr>\n",
       "  </tbody>\n",
       "</table>\n",
       "</div>"
      ],
      "text/plain": [
       "         International\n",
       "MKTUS         1.835334\n",
       "BondUS        1.423373\n",
       "EM            1.605223\n",
       "MKTxUS       -1.026421\n",
       "BondxUS       3.365823"
      ]
     },
     "execution_count": 42,
     "metadata": {},
     "output_type": "execute_result"
    }
   ],
   "source": [
    "Wmve['International'] =np.linalg.inv(CovRe) @ ERe\n",
    "Wmve\n"
   ]
  },
  {
   "cell_type": "markdown",
   "metadata": {},
   "source": [
    "## **Targeting desired Voaltiltiy**\n",
    "\n",
    "We will first find the particular scaling of the tangendy porfolio that implements a desired level of volatility\n",
    "\n",
    "We shown that for weights $X=E[R^e]'Var(R^e)^{-1}$, the volatility is $\\sigma(X'R^e)=\\sqrt{E[R^e]'Var(R^e)^{-1}E[R^e]}$\n",
    "\n",
    "Thus to get a portfolio of vol $\\sigma^D$ all we need to lever it up/down by this factor\n",
    "\n",
    "\n",
    "$$W^*(\\sigma^D)'=\\frac{\\sigma^D}{\\sqrt{E[R^e]'Var(R^e)^{-1}E[R^e]}}E[R^e]'Var(R^e)^{-1}$$\n",
    "\n",
    "This dominator alos happens to be Sharpe-Ratio of the tangency portfolio\n",
    "\n",
    "$$W^*(\\sigma^D)=\\frac{\\sigma^D}{SR_*}W^*$$\n",
    "\n",
    "So you simply scale down the weights depending on whether your desired volatiltiy.\n",
    "\n",
    "In this case the obtained expected excess return is\n",
    "\n",
    "$$\\mu^D-r_f=\\sigma^D SR_*$$"
   ]
  },
  {
   "cell_type": "code",
   "execution_count": 43,
   "metadata": {},
   "outputs": [
    {
     "name": "stdout",
     "output_type": "stream",
     "text": [
      "0.35271483559918\n"
     ]
    },
    {
     "data": {
      "text/html": [
       "<div>\n",
       "<style scoped>\n",
       "    .dataframe tbody tr th:only-of-type {\n",
       "        vertical-align: middle;\n",
       "    }\n",
       "\n",
       "    .dataframe tbody tr th {\n",
       "        vertical-align: top;\n",
       "    }\n",
       "\n",
       "    .dataframe thead th {\n",
       "        text-align: right;\n",
       "    }\n",
       "</style>\n",
       "<table border=\"1\" class=\"dataframe\">\n",
       "  <thead>\n",
       "    <tr style=\"text-align: right;\">\n",
       "      <th></th>\n",
       "      <th>International</th>\n",
       "      <th>International(voltarget)</th>\n",
       "    </tr>\n",
       "  </thead>\n",
       "  <tbody>\n",
       "    <tr>\n",
       "      <th>MKTUS</th>\n",
       "      <td>1.835334</td>\n",
       "      <td>0.647349</td>\n",
       "    </tr>\n",
       "    <tr>\n",
       "      <th>BondUS</th>\n",
       "      <td>1.423373</td>\n",
       "      <td>0.502045</td>\n",
       "    </tr>\n",
       "    <tr>\n",
       "      <th>EM</th>\n",
       "      <td>1.605223</td>\n",
       "      <td>0.566186</td>\n",
       "    </tr>\n",
       "    <tr>\n",
       "      <th>MKTxUS</th>\n",
       "      <td>-1.026421</td>\n",
       "      <td>-0.362034</td>\n",
       "    </tr>\n",
       "    <tr>\n",
       "      <th>BondxUS</th>\n",
       "      <td>3.365823</td>\n",
       "      <td>1.187176</td>\n",
       "    </tr>\n",
       "  </tbody>\n",
       "</table>\n",
       "</div>"
      ],
      "text/plain": [
       "         International  International(voltarget)\n",
       "MKTUS         1.835334                  0.647349\n",
       "BondUS        1.423373                  0.502045\n",
       "EM            1.605223                  0.566186\n",
       "MKTxUS       -1.026421                 -0.362034\n",
       "BondxUS       3.365823                  1.187176"
      ]
     },
     "execution_count": 43,
     "metadata": {},
     "output_type": "execute_result"
    }
   ],
   "source": [
    "# I am setting the target to be annual volatiltiy of 20% and \n",
    "# I am converting back to monthly by dividing by square roo of 12\n",
    "sigma_desired=0.20/12**0.5\n",
    "print(sigma_desired/SR_int)\n",
    "Wmve['International(voltarget)']=(sigma_desired/SR_int)*(np.linalg.inv(CovRe) @ ERe)\n",
    "Wmve"
   ]
  },
  {
   "cell_type": "markdown",
   "metadata": {
    "colab_type": "text",
    "id": "0TCDF47nQ1vO"
   },
   "source": [
    "## **Targeting Desired Expected Return**\n",
    "\n",
    "  $\\begin{align}\n",
    "  \\mu^{D}&=r_f+wE[R^*] \\\\\n",
    "  w &=\\frac{\\mu^{D}-r_f}{E[R^*]} \\\\\n",
    "  &=\\frac{\\mu^{D}-r_f}{E[R^e]'VAR(R^e)^{-1}E[R^e]} \\\\\n",
    "  &=\\frac{\\mu^{D}-r_f}{SR_*^2} \\\\\n",
    "  \\end{align}$\n",
    "\n",
    "where the last step simply uses that the denominator is the square of the Sharpe Ratio of the tangency portfolio\n",
    "\n",
    "Because SR is expected excess return over the volatility $\\mu^D-r_f=\\sigma^D SR_*$, then the obtained vol is simply\n",
    "\n",
    "$$\\sigma^D=\\frac{\\mu^{D}-r_f}{SR_*}$$\n",
    "\n",
    "If one wanted to set the target for the expected returns one ould simply subtract the **current** risk-free rate of this desired level"
   ]
  },
  {
   "cell_type": "code",
   "execution_count": 68,
   "metadata": {
    "colab": {
     "base_uri": "https://localhost:8080/",
     "height": 221
    },
    "colab_type": "code",
    "executionInfo": {
     "elapsed": 338,
     "status": "ok",
     "timestamp": 1576527796326,
     "user": {
      "displayName": "yuchi yao",
      "photoUrl": "",
      "userId": "00457884373990713813"
     },
     "user_tz": 300
    },
    "id": "GF5ohGprQ1vO",
    "outputId": "4b707318-25e4-4b95-99fb-4144bbb754f1"
   },
   "outputs": [
    {
     "name": "stdout",
     "output_type": "stream",
     "text": [
      "0.31101938812939134\n"
     ]
    },
    {
     "data": {
      "text/html": [
       "<div>\n",
       "<style scoped>\n",
       "    .dataframe tbody tr th:only-of-type {\n",
       "        vertical-align: middle;\n",
       "    }\n",
       "\n",
       "    .dataframe tbody tr th {\n",
       "        vertical-align: top;\n",
       "    }\n",
       "\n",
       "    .dataframe thead th {\n",
       "        text-align: right;\n",
       "    }\n",
       "</style>\n",
       "<table border=\"1\" class=\"dataframe\">\n",
       "  <thead>\n",
       "    <tr style=\"text-align: right;\">\n",
       "      <th></th>\n",
       "      <th>International</th>\n",
       "      <th>International(voltarget)</th>\n",
       "      <th>International(mutarget)</th>\n",
       "      <th>Domestic</th>\n",
       "      <th>Domestic(voltarget)</th>\n",
       "      <th>Domestic(mutarget)</th>\n",
       "    </tr>\n",
       "  </thead>\n",
       "  <tbody>\n",
       "    <tr>\n",
       "      <th>MKTUS</th>\n",
       "      <td>1.835334</td>\n",
       "      <td>0.647349</td>\n",
       "      <td>0.570824</td>\n",
       "      <td>2.534954</td>\n",
       "      <td>1.101918</td>\n",
       "      <td>0.159048</td>\n",
       "    </tr>\n",
       "    <tr>\n",
       "      <th>BondUS</th>\n",
       "      <td>1.423373</td>\n",
       "      <td>0.502045</td>\n",
       "      <td>0.442696</td>\n",
       "      <td>1.827591</td>\n",
       "      <td>0.794434</td>\n",
       "      <td>0.114667</td>\n",
       "    </tr>\n",
       "    <tr>\n",
       "      <th>EM</th>\n",
       "      <td>1.605223</td>\n",
       "      <td>0.566186</td>\n",
       "      <td>0.499255</td>\n",
       "      <td>NaN</td>\n",
       "      <td>NaN</td>\n",
       "      <td>NaN</td>\n",
       "    </tr>\n",
       "    <tr>\n",
       "      <th>MKTxUS</th>\n",
       "      <td>-1.026421</td>\n",
       "      <td>-0.362034</td>\n",
       "      <td>-0.319237</td>\n",
       "      <td>NaN</td>\n",
       "      <td>NaN</td>\n",
       "      <td>NaN</td>\n",
       "    </tr>\n",
       "    <tr>\n",
       "      <th>BondxUS</th>\n",
       "      <td>3.365823</td>\n",
       "      <td>1.187176</td>\n",
       "      <td>1.046836</td>\n",
       "      <td>NaN</td>\n",
       "      <td>NaN</td>\n",
       "      <td>NaN</td>\n",
       "    </tr>\n",
       "  </tbody>\n",
       "</table>\n",
       "</div>"
      ],
      "text/plain": [
       "         International  International(voltarget)  International(mutarget)  \\\n",
       "MKTUS         1.835334                  0.647349                 0.570824   \n",
       "BondUS        1.423373                  0.502045                 0.442696   \n",
       "EM            1.605223                  0.566186                 0.499255   \n",
       "MKTxUS       -1.026421                 -0.362034                -0.319237   \n",
       "BondxUS       3.365823                  1.187176                 1.046836   \n",
       "\n",
       "         Domestic  Domestic(voltarget)  Domestic(mutarget)  \n",
       "MKTUS    2.534954             1.101918            0.159048  \n",
       "BondUS   1.827591             0.794434            0.114667  \n",
       "EM            NaN                  NaN                 NaN  \n",
       "MKTxUS        NaN                  NaN                 NaN  \n",
       "BondxUS       NaN                  NaN                 NaN  "
      ]
     },
     "execution_count": 68,
     "metadata": {},
     "output_type": "execute_result"
    }
   ],
   "source": [
    "# I am setting an annual target to 10% and convert to monthly by dividing by 12\n",
    "\n",
    "mu_desired=0.10/12\n",
    "#If setting target to expected return simply use mu_desired-rf instead of mu_desired in the formulas\n",
    "\n",
    "print(mu_desired/SR_int**2)\n",
    "Wmve['International(mutarget)']=(mu_desired/SR_int**2)*(np.linalg.inv(CovRe) @ ERe)\n",
    "Wmve"
   ]
  },
  {
   "cell_type": "markdown",
   "metadata": {
    "colab_type": "text",
    "id": "DIfS3kPiQ1vP"
   },
   "source": [
    "## **Domestic Tangency Portfolio**\n",
    "\n",
    "we only keep the first two columns MKT and Bonds"
   ]
  },
  {
   "cell_type": "code",
   "execution_count": 45,
   "metadata": {
    "colab": {
     "base_uri": "https://localhost:8080/",
     "height": 221
    },
    "colab_type": "code",
    "executionInfo": {
     "elapsed": 398,
     "status": "ok",
     "timestamp": 1576527940458,
     "user": {
      "displayName": "yuchi yao",
      "photoUrl": "",
      "userId": "00457884373990713813"
     },
     "user_tz": 300
    },
    "id": "eN0pCBpuQ1vQ",
    "outputId": "1b5f4b29-990d-4174-89fe-21b147356608"
   },
   "outputs": [],
   "source": [
    "#ERe_dom=?\n",
    "#CovRe_dom=?"
   ]
  },
  {
   "cell_type": "markdown",
   "metadata": {},
   "source": [
    "The Sharpe Ratio of the domestic Tangency portolio"
   ]
  },
  {
   "cell_type": "code",
   "execution_count": 46,
   "metadata": {},
   "outputs": [
    {
     "name": "stdout",
     "output_type": "stream",
     "text": [
      "0.4600987547084185\n"
     ]
    }
   ],
   "source": [
    "#SR_dom=?\n",
    "#print(SR_dom*12**0.5)"
   ]
  },
  {
   "cell_type": "markdown",
   "metadata": {},
   "source": [
    "The weights of the domestic tangency portfolio"
   ]
  },
  {
   "cell_type": "code",
   "execution_count": 69,
   "metadata": {},
   "outputs": [
    {
     "name": "stdout",
     "output_type": "stream",
     "text": [
      "0.43468928779593713\n",
      "0.47238694231134754\n"
     ]
    },
    {
     "data": {
      "text/html": [
       "<div>\n",
       "<style scoped>\n",
       "    .dataframe tbody tr th:only-of-type {\n",
       "        vertical-align: middle;\n",
       "    }\n",
       "\n",
       "    .dataframe tbody tr th {\n",
       "        vertical-align: top;\n",
       "    }\n",
       "\n",
       "    .dataframe thead th {\n",
       "        text-align: right;\n",
       "    }\n",
       "</style>\n",
       "<table border=\"1\" class=\"dataframe\">\n",
       "  <thead>\n",
       "    <tr style=\"text-align: right;\">\n",
       "      <th></th>\n",
       "      <th>International</th>\n",
       "      <th>International(voltarget)</th>\n",
       "      <th>International(mutarget)</th>\n",
       "      <th>Domestic</th>\n",
       "      <th>Domestic(voltarget)</th>\n",
       "      <th>Domestic(mutarget)</th>\n",
       "    </tr>\n",
       "  </thead>\n",
       "  <tbody>\n",
       "    <tr>\n",
       "      <th>MKTUS</th>\n",
       "      <td>1.835334</td>\n",
       "      <td>0.647349</td>\n",
       "      <td>0.570824</td>\n",
       "      <td>2.534954</td>\n",
       "      <td>1.101918</td>\n",
       "      <td>1.197479</td>\n",
       "    </tr>\n",
       "    <tr>\n",
       "      <th>BondUS</th>\n",
       "      <td>1.423373</td>\n",
       "      <td>0.502045</td>\n",
       "      <td>0.442696</td>\n",
       "      <td>1.827591</td>\n",
       "      <td>0.794434</td>\n",
       "      <td>0.863330</td>\n",
       "    </tr>\n",
       "    <tr>\n",
       "      <th>EM</th>\n",
       "      <td>1.605223</td>\n",
       "      <td>0.566186</td>\n",
       "      <td>0.499255</td>\n",
       "      <td>NaN</td>\n",
       "      <td>NaN</td>\n",
       "      <td>NaN</td>\n",
       "    </tr>\n",
       "    <tr>\n",
       "      <th>MKTxUS</th>\n",
       "      <td>-1.026421</td>\n",
       "      <td>-0.362034</td>\n",
       "      <td>-0.319237</td>\n",
       "      <td>NaN</td>\n",
       "      <td>NaN</td>\n",
       "      <td>NaN</td>\n",
       "    </tr>\n",
       "    <tr>\n",
       "      <th>BondxUS</th>\n",
       "      <td>3.365823</td>\n",
       "      <td>1.187176</td>\n",
       "      <td>1.046836</td>\n",
       "      <td>NaN</td>\n",
       "      <td>NaN</td>\n",
       "      <td>NaN</td>\n",
       "    </tr>\n",
       "  </tbody>\n",
       "</table>\n",
       "</div>"
      ],
      "text/plain": [
       "         International  International(voltarget)  International(mutarget)  \\\n",
       "MKTUS         1.835334                  0.647349                 0.570824   \n",
       "BondUS        1.423373                  0.502045                 0.442696   \n",
       "EM            1.605223                  0.566186                 0.499255   \n",
       "MKTxUS       -1.026421                 -0.362034                -0.319237   \n",
       "BondxUS       3.365823                  1.187176                 1.046836   \n",
       "\n",
       "         Domestic  Domestic(voltarget)  Domestic(mutarget)  \n",
       "MKTUS    2.534954             1.101918            1.197479  \n",
       "BondUS   1.827591             0.794434            0.863330  \n",
       "EM            NaN                  NaN                 NaN  \n",
       "MKTxUS        NaN                  NaN                 NaN  \n",
       "BondxUS       NaN                  NaN                 NaN  "
      ]
     },
     "execution_count": 69,
     "metadata": {},
     "output_type": "execute_result"
    }
   ],
   "source": [
    "Wmvedom= np.linalg.inv(CovRe_dom) @ ERe_dom.values\n",
    "Wmve.loc[['MKTUS','BondUS'],'Domestic']=Wmvedom\n",
    "\n",
    "sigma_desired=0.20/12**0.5\n",
    "print(sigma_desired/SR_dom)\n",
    "Wmve.loc[['MKTUS','BondUS'],'Domestic(voltarget)']=(sigma_desired/SR_dom)*(np.linalg.inv(CovRe_dom) @ ERe_dom)\n",
    "\n",
    "mu_desired=0.10/12\n",
    "print(mu_desired/SR_dom**2)\n",
    "Wmve.loc[['MKTUS','BondUS'],'Domestic(mutarget)']=(mu_desired/SR_dom**2)*(np.linalg.inv(CovRe_dom) @ ERe_dom)\n",
    "\n",
    "\n",
    "Wmve"
   ]
  },
  {
   "cell_type": "markdown",
   "metadata": {},
   "source": [
    "**The difference in Sharpe ratios reveal the benefits of internaitonal diversificaiton**"
   ]
  },
  {
   "cell_type": "code",
   "execution_count": 48,
   "metadata": {
    "colab": {
     "base_uri": "https://localhost:8080/",
     "height": 34
    },
    "colab_type": "code",
    "executionInfo": {
     "elapsed": 279,
     "status": "ok",
     "timestamp": 1576527970603,
     "user": {
      "displayName": "yuchi yao",
      "photoUrl": "",
      "userId": "00457884373990713813"
     },
     "user_tz": 300
    },
    "id": "UsTRG4JrQ1vT",
    "outputId": "7cae8b95-6ea0-4ce2-d571-4b64cee4f0de"
   },
   "outputs": [
    {
     "data": {
      "text/plain": [
       "0.10693154800126711"
      ]
     },
     "execution_count": 48,
     "metadata": {},
     "output_type": "execute_result"
    }
   ],
   "source": [
    "# this difference is the benefits of international diversification\n",
    "\n",
    "#(SR_int-SR_dom)*12**0.5"
   ]
  },
  {
   "cell_type": "markdown",
   "metadata": {
    "colab_type": "text",
    "id": "EBka10FEQ1vU"
   },
   "source": [
    "- what does that mean?\n",
    "\n",
    "- it means for example that if you want to target a portfolio with a volatility of 5% per month (about the vol of the US market portfolio), then you get  \n"
   ]
  },
  {
   "cell_type": "code",
   "execution_count": 62,
   "metadata": {
    "colab": {
     "base_uri": "https://localhost:8080/",
     "height": 34
    },
    "colab_type": "code",
    "executionInfo": {
     "elapsed": 276,
     "status": "ok",
     "timestamp": 1576528050909,
     "user": {
      "displayName": "yuchi yao",
      "photoUrl": "",
      "userId": "00457884373990713813"
     },
     "user_tz": 300
    },
    "id": "bBKX4z1-Q1vV",
    "outputId": "e4587863-4f01-4271-fd37-17b8e5b0ed64"
   },
   "outputs": [
    {
     "data": {
      "text/plain": [
       "[0.009450505045161428, 0.007668312578473642]"
      ]
     },
     "execution_count": 62,
     "metadata": {},
     "output_type": "execute_result"
    }
   ],
   "source": [
    "# international diversification\n",
    "voltarget=0.2/12**0.5\n",
    "#[SR_int*voltarget,SR_dom*voltarget]\n"
   ]
  },
  {
   "cell_type": "markdown",
   "metadata": {},
   "source": [
    "How much your returns increase when you go global for this voltarget above?"
   ]
  },
  {
   "cell_type": "code",
   "execution_count": null,
   "metadata": {
    "colab": {
     "base_uri": "https://localhost:8080/",
     "height": 34
    },
    "colab_type": "code",
    "executionInfo": {
     "elapsed": 279,
     "status": "ok",
     "timestamp": 1576528077984,
     "user": {
      "displayName": "yuchi yao",
      "photoUrl": "",
      "userId": "00457884373990713813"
     },
     "user_tz": 300
    },
    "id": "dJFzjTUUQ1vW",
    "outputId": "11da9448-131c-4d63-891e-826aa9508b4f"
   },
   "outputs": [],
   "source": [
    "\n"
   ]
  },
  {
   "cell_type": "code",
   "execution_count": 1,
   "metadata": {
    "colab": {
     "base_uri": "https://localhost:8080/",
     "height": 34
    },
    "colab_type": "code",
    "executionInfo": {
     "elapsed": 305,
     "status": "ok",
     "timestamp": 1576528087916,
     "user": {
      "displayName": "yuchi yao",
      "photoUrl": "",
      "userId": "00457884373990713813"
     },
     "user_tz": 300
    },
    "id": "HvoT5gPtQ1vX",
    "outputId": "a0244148-7c6e-4ad7-8b30-335938dde0ec",
    "scrolled": true
   },
   "outputs": [],
   "source": [
    "# in percent?"
   ]
  },
  {
   "cell_type": "markdown",
   "metadata": {
    "colab_type": "text",
    "id": "FMEpoLJtQ1vY"
   },
   "source": [
    "## **Two mean-variance frontiers: For domestic and Global investors**\n",
    "\n",
    "We will now plot the two frontiers together with the underlying assets"
   ]
  },
  {
   "cell_type": "code",
   "execution_count": 74,
   "metadata": {
    "tags": []
   },
   "outputs": [
    {
     "data": {
      "text/plain": [
       "<matplotlib.collections.PathCollection at 0x216674229a0>"
      ]
     },
     "execution_count": 74,
     "metadata": {},
     "output_type": "execute_result"
    },
    {
     "data": {
      "image/png": "[encoded data removed]",
      "text/plain": [
       "<Figure size 432x288 with 1 Axes>"
      ]
     },
     "metadata": {
      "needs_background": "light"
     },
     "output_type": "display_data"
    }
   ],
   "source": [
    "# # Lets visualize this in a plot including the two investment frontiers\n",
    "\n",
    "# # set different expected return targets\n",
    "# mu_target=np.linspace(0,0.1/12,20)\n",
    "# # international portfolios\n",
    "\n",
    "# plt.plot(mu_target/SR_int,mu_target)\n",
    "\n",
    "# #Domestic portfolios\n",
    "# plt.plot(mu_target/SR_dom,mu_target)\n",
    "# #Individual assets\n",
    "# plt.xlabel('standard deviation')\n",
    "# plt.ylabel('expected return')\n",
    "# plt.title('Benefits of international diversification')\n",
    "# plt.scatter(Re.std(),Re.mean())\n",
    "\n",
    "\n"
   ]
  },
  {
   "cell_type": "markdown",
   "metadata": {},
   "source": [
    "Lets add label to the dots so we know which asset corresponds to each point\n",
    "\n",
    "For that I will run the same code above and add a for loop that lopps though the column name of the `Re` dataframe and uses the text functio to write the column name in the correct position where the x-dimension is the asset volatility and y-dimension is the asset avereage return"
   ]
  },
  {
   "cell_type": "code",
   "execution_count": 73,
   "metadata": {},
   "outputs": [
    {
     "data": {
      "image/png": "[encoded data removed]",
      "text/plain": [
       "<Figure size 432x288 with 1 Axes>"
      ]
     },
     "metadata": {
      "needs_background": "light"
     },
     "output_type": "display_data"
    }
   ],
   "source": [
    "# mu_target=np.linspace(0,0.1/12,20)\n",
    "# plt.plot(mu_target/SR_int,mu_target)\n",
    "# plt.plot(mu_target/SR_dom,mu_target)\n",
    "# plt.scatter(Re.std(),Re.mean())\n",
    "\n",
    "# plt.xlabel('standard deviation')\n",
    "# plt.ylabel('expected return')\n",
    "# plt.title('Benefits of international diversification')\n",
    "# # lets add some labels so we know which point is each portfolio\n",
    "\n",
    "\n",
    "# for label in Re.columns :\n",
    "#    plt.text(Re.std()[label],Re.mean()[label],label)\n",
    "\n"
   ]
  }
 ],
 "metadata": {
  "colab": {
   "collapsed_sections": [],
   "provenance": [],
   "toc_visible": true
  },
  "kernelspec": {
   "display_name": "Python 3 (ipykernel)",
   "language": "python",
   "name": "python3"
  },
  "language_info": {
   "codemirror_mode": {
    "name": "ipython",
    "version": 3
   },
   "file_extension": ".py",
   "mimetype": "text/x-python",
   "name": "python",
   "nbconvert_exporter": "python",
   "pygments_lexer": "ipython3",
   "version": "3.9.12"
  }
 },
 "nbformat": 4,
 "nbformat_minor": 4
}
