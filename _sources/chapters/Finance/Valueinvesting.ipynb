{
 "cells": [
  {
   "cell_type": "code",
   "execution_count": 1,
   "metadata": {},
   "outputs": [],
   "source": [
    "# start by loading data on the returns of the market portfolio and the risk-free rate\n",
    "import pandas as pd\n",
    "import numpy as np\n",
    "import matplotlib.pyplot as plt\n",
    "%matplotlib inline"
   ]
  },
  {
   "cell_type": "markdown",
   "metadata": {
    "colab_type": "text",
    "id": "p_u5EtCuitSf"
   },
   "source": [
    "\n",
    "# Value Investing\n",
    "\n",
    "One of the most popular quantitative investing strategies is broadly refered to as \"value investing\"\n",
    "\n",
    "* It consists of tilting the portfolio towards stocks that have a low price relative to a proxy for it's fundamental value\n",
    "\n",
    "* and tilt away form stocks with high price relative to fundamentals\n",
    "\n",
    "* Broadly speaking: Buy cheap, sell expensive\n",
    "\n",
    "* weights: \n",
    "\n",
    "$$W_t \\propto \\frac{F_t}{P_t}$$\n",
    "\n",
    "* Where $F_t$ is some proxy for the firm's fundamental value\n",
    "\n",
    "* typically some accounting measure\n",
    "\n",
    "* There is a vast number of proxys for fundamentals\n",
    "\n",
    "  * Dividends\n",
    "  * Book value\n",
    "  * Earnings\n",
    "  * Cash flows\n",
    "  * Sales\n",
    "\n",
    "* The strategy is the \"cross-sectional\" counterpart of market timing strategies that rely on dividend yield of aggregate market as a proxy for whether the market is expensive.\n",
    "\n",
    "* However, the evidence is that cross-sectional strategy is more reliable, even if it still quite risky. It actually has done terribly in the last 10 years!\n",
    "\n",
    "\n",
    "\n",
    " \n",
    "\n",
    "**Literature**\n",
    "\n",
    "* [Lakonishok, Shleifer, and Vishny (1994) ](https://www8.gsb.columbia.edu/sites/valueinvesting/files/files/CIER.pdf)– value and\n",
    "growth effect with a behavioral interpretation.\n",
    "\n",
    "* [Fama and French (1996)](https://onlinelibrary.wiley.com/doi/pdfdirect/10.1111/j.1540-6261.1996.tb05202.x) – comprehensive analysis of\n",
    "all anomalies, with a rational risk-based interpretation.\n",
    "\n",
    "**Why this might work?**\n",
    "\n",
    "\n",
    "* The fact that the market value is above or below the book value does not mean that the firm is mispriced. It is natural that the expectation of future earnings changed (which is not in book value), or investors' perception of risk changed.\n",
    "\n",
    "* Even in a CAPM world you can see that happening: suppose the beta of a firm increases, then in equilibrium it's excess return must also increase! \n",
    "\n",
    "  - This would mean if it's market value goes down, Book-to-Market would go up at the same time, making expected returns going forward go up!\n",
    "\n",
    "  - But in the data we see when BM changes (as firms swing across portfolios), the market beta does not, which is inconsitent with the CAPM\n",
    "\n",
    "\n",
    "* Lots of theories that attempt to explain the value-growth spread, both \"rational\" and \"behavioral\"\n",
    "\n",
    "* Here is a flavor of a few of these theories\n",
    "\n",
    "* Behavioral: LSV argue that value vs. growth strategies (contrarian strategies) exploit naive investor behavior and are not riskier.\n",
    "   - Investors may extrapolate earnings too far in the future, may overreact to news, assume a trend in stock prices, or equate a good company with a good investment.\n",
    "   - Stocks that have done well in the past are Growth stocks that are ‘glamorous’ to investors. People tend to want to buy these and stampede towards them, pushing up the price, and depressing their future returns. Value stocks have been neglected, people tend to overreact to these poorly performing firms, causing their prices to fall too much, and expected returns to rise. Psychological evidence suggests people form these naive strategies. This is an overreaction story, and a contrarian strategy exploits it.\n",
    "   - LSV also argue that value stocks are not riskier than growth stocks.\n",
    "   \n",
    "      - they don’t have higher variance\n",
    "      - they don’t have high downside risk (i.e., do not underperform often or by that much)\n",
    "      - they don’t have higher betas\n",
    "      - they don’t underperform in bad states of the world\n",
    "\n",
    "    \n",
    "* Rational: FF argue Value firms are riskier than growth because thery are more exposed to the risk of distress (for example value did terribly in 2008 and 2020)  \n",
    "   - The argue it is consistent with equilibrium models of ICAPM/APT  \n",
    "    \n",
    "    \n",
    "    \n",
    "* Overall most academics think there is a behavioral component in value, but quite a bit has to do with more rational factors, i.e. value is riskier than growth in a variety of ways\n",
    "\n",
    "\n",
    "**Construction**\n",
    "\n",
    "* In these notes we will get the \"value signal\" ready and focus on building our portfolios\n",
    "\n",
    "* In the subsection \"Value Signal Construction\" we show one way to construct the \"Book-To-Market\" value signal from the ground up\n",
    "\n",
    "\n"
   ]
  },
  {
   "cell_type": "markdown",
   "metadata": {
    "colab_type": "text",
    "id": "m81efhwtBS44"
   },
   "source": [
    " "
   ]
  },
  {
   "cell_type": "code",
   "execution_count": 2,
   "metadata": {
    "colab": {
     "base_uri": "https://localhost:8080/",
     "height": 309
    },
    "colab_type": "code",
    "executionInfo": {
     "elapsed": 2208,
     "status": "ok",
     "timestamp": 1576987712075,
     "user": {
      "displayName": "yuchi yao",
      "photoUrl": "",
      "userId": "00457884373990713813"
     },
     "user_tz": 300
    },
    "id": "zufYrD34BS44",
    "outputId": "ce7ca053-28c6-4a46-9ab1-4baa1c85959f"
   },
   "outputs": [
    {
     "data": {
      "text/html": [
       "<div>\n",
       "<style scoped>\n",
       "    .dataframe tbody tr th:only-of-type {\n",
       "        vertical-align: middle;\n",
       "    }\n",
       "\n",
       "    .dataframe tbody tr th {\n",
       "        vertical-align: top;\n",
       "    }\n",
       "\n",
       "    .dataframe thead th {\n",
       "        text-align: right;\n",
       "    }\n",
       "</style>\n",
       "<table border=\"1\" class=\"dataframe\">\n",
       "  <thead>\n",
       "    <tr style=\"text-align: right;\">\n",
       "      <th></th>\n",
       "      <th>date</th>\n",
       "      <th>permno</th>\n",
       "      <th>re</th>\n",
       "      <th>rf</th>\n",
       "      <th>log_mcap</th>\n",
       "      <th>value</th>\n",
       "    </tr>\n",
       "  </thead>\n",
       "  <tbody>\n",
       "    <tr>\n",
       "      <th>0</th>\n",
       "      <td>1972-07-31</td>\n",
       "      <td>10006</td>\n",
       "      <td>0.028600</td>\n",
       "      <td>0.0031</td>\n",
       "      <td>12.399869</td>\n",
       "      <td>-0.125361</td>\n",
       "    </tr>\n",
       "    <tr>\n",
       "      <th>1</th>\n",
       "      <td>1972-07-31</td>\n",
       "      <td>10102</td>\n",
       "      <td>0.039757</td>\n",
       "      <td>0.0031</td>\n",
       "      <td>12.217334</td>\n",
       "      <td>0.354954</td>\n",
       "    </tr>\n",
       "    <tr>\n",
       "      <th>2</th>\n",
       "      <td>1972-07-31</td>\n",
       "      <td>10137</td>\n",
       "      <td>-0.044767</td>\n",
       "      <td>0.0031</td>\n",
       "      <td>13.069874</td>\n",
       "      <td>-0.088697</td>\n",
       "    </tr>\n",
       "    <tr>\n",
       "      <th>3</th>\n",
       "      <td>1972-07-31</td>\n",
       "      <td>10145</td>\n",
       "      <td>-0.062422</td>\n",
       "      <td>0.0031</td>\n",
       "      <td>13.608366</td>\n",
       "      <td>0.075484</td>\n",
       "    </tr>\n",
       "    <tr>\n",
       "      <th>4</th>\n",
       "      <td>1972-07-31</td>\n",
       "      <td>10153</td>\n",
       "      <td>-0.065600</td>\n",
       "      <td>0.0031</td>\n",
       "      <td>11.752572</td>\n",
       "      <td>0.944457</td>\n",
       "    </tr>\n",
       "    <tr>\n",
       "      <th>...</th>\n",
       "      <td>...</td>\n",
       "      <td>...</td>\n",
       "      <td>...</td>\n",
       "      <td>...</td>\n",
       "      <td>...</td>\n",
       "      <td>...</td>\n",
       "    </tr>\n",
       "    <tr>\n",
       "      <th>486422</th>\n",
       "      <td>2016-12-31</td>\n",
       "      <td>93420</td>\n",
       "      <td>0.011056</td>\n",
       "      <td>0.0003</td>\n",
       "      <td>14.337515</td>\n",
       "      <td>1.049163</td>\n",
       "    </tr>\n",
       "    <tr>\n",
       "      <th>486423</th>\n",
       "      <td>2016-12-31</td>\n",
       "      <td>93422</td>\n",
       "      <td>-0.063881</td>\n",
       "      <td>0.0003</td>\n",
       "      <td>15.256946</td>\n",
       "      <td>0.829353</td>\n",
       "    </tr>\n",
       "    <tr>\n",
       "      <th>486424</th>\n",
       "      <td>2016-12-31</td>\n",
       "      <td>93423</td>\n",
       "      <td>0.039950</td>\n",
       "      <td>0.0003</td>\n",
       "      <td>15.502888</td>\n",
       "      <td>-2.128977</td>\n",
       "    </tr>\n",
       "    <tr>\n",
       "      <th>486425</th>\n",
       "      <td>2016-12-31</td>\n",
       "      <td>93429</td>\n",
       "      <td>0.072124</td>\n",
       "      <td>0.0003</td>\n",
       "      <td>15.504722</td>\n",
       "      <td>-3.001095</td>\n",
       "    </tr>\n",
       "    <tr>\n",
       "      <th>486426</th>\n",
       "      <td>2016-12-31</td>\n",
       "      <td>93436</td>\n",
       "      <td>0.127947</td>\n",
       "      <td>0.0003</td>\n",
       "      <td>17.262975</td>\n",
       "      <td>-3.328269</td>\n",
       "    </tr>\n",
       "  </tbody>\n",
       "</table>\n",
       "<p>486427 rows × 6 columns</p>\n",
       "</div>"
      ],
      "text/plain": [
       "             date  permno        re      rf   log_mcap     value\n",
       "0      1972-07-31   10006  0.028600  0.0031  12.399869 -0.125361\n",
       "1      1972-07-31   10102  0.039757  0.0031  12.217334  0.354954\n",
       "2      1972-07-31   10137 -0.044767  0.0031  13.069874 -0.088697\n",
       "3      1972-07-31   10145 -0.062422  0.0031  13.608366  0.075484\n",
       "4      1972-07-31   10153 -0.065600  0.0031  11.752572  0.944457\n",
       "...           ...     ...       ...     ...        ...       ...\n",
       "486422 2016-12-31   93420  0.011056  0.0003  14.337515  1.049163\n",
       "486423 2016-12-31   93422 -0.063881  0.0003  15.256946  0.829353\n",
       "486424 2016-12-31   93423  0.039950  0.0003  15.502888 -2.128977\n",
       "486425 2016-12-31   93429  0.072124  0.0003  15.504722 -3.001095\n",
       "486426 2016-12-31   93436  0.127947  0.0003  17.262975 -3.328269\n",
       "\n",
       "[486427 rows x 6 columns]"
      ]
     },
     "execution_count": 2,
     "metadata": {},
     "output_type": "execute_result"
    }
   ],
   "source": [
    "url = \"https://raw.githubusercontent.com/amoreira2/Lectures/main/assets/data/value_characteristic.csv\"\n",
    "parser = lambda date: pd.to_datetime(date,format='%m%y')\n",
    "Data = pd.read_csv(url,parse_dates=[0])\n",
    "# This simply shits the date to be in an end of month basis\n",
    "Data.date=Data.date+pd.tseries.offsets.MonthEnd()\n",
    "Data.rename(columns={'size':'log_mcap'},inplace=True)\n",
    "Data"
   ]
  },
  {
   "cell_type": "markdown",
   "metadata": {},
   "source": [
    "- above we load a data set with our value signal, Book-to-Market already constructed. Here is the definition of the value variable:\n",
    "     \n",
    "     >Value (annual) (value). Follows Fama and French (1993). value = log(BE/ME). At the end of June of each year, we use book equity from the previous fiscal year and market equity from December of the previous year. Rebalanced annually. \n",
    "\n",
    "- The data set also containts a size variable:\n",
    "\n",
    "   > Size (size). Follows Fama and French (1993). size = MEJun. The CRSP end of June price times shares outstanding. Rebalanced annually.\n",
    "   \n",
    "   **I believe this is in logs as well. Need to check**\n",
    "   \n",
    "And contains excess returns (re) for individual stocks and the risk-free rate  of the relvant date\n",
    "\n",
    "- permno is an identifier for the stock\n",
    "\n",
    "- Note the format of the data set where stock and dates are stacked vertically\n",
    "\n",
    "- We will need two indexes (date and permno) to perfectly identify an observation\n",
    "\n",
    "\n",
    "**->This means we will start with step 1 already done for us (signal construction), and we will move directly to step 2**"
   ]
  },
  {
   "cell_type": "markdown",
   "metadata": {},
   "source": [
    "**Details on how the value signal was constructed**\n",
    "\n",
    "* Value portfolios are typically rebalanced every July using Book-to-Market data from the year before    \n",
    "* This means that from July/2006 to June/2007 you use Book-to-Market data from December/2005\n",
    "* Because the way we construct the data, the BM data is the same from Jan/2005 to December/2005\n",
    "\n",
    "**What is important is that it is lagged by at least 12 months, to make sure that the BM data was available at the day of portfolio formation!**"
   ]
  },
  {
   "cell_type": "markdown",
   "metadata": {
    "colab_type": "text",
    "id": "FS8M_EFEBS48"
   },
   "source": [
    "**What does the value signal look like?**"
   ]
  },
  {
   "cell_type": "code",
   "execution_count": 3,
   "metadata": {
    "colab": {
     "base_uri": "https://localhost:8080/",
     "height": 489
    },
    "colab_type": "code",
    "executionInfo": {
     "elapsed": 1321,
     "status": "ok",
     "timestamp": 1576954472406,
     "user": {
      "displayName": "yuchi yao",
      "photoUrl": "",
      "userId": "00457884373990713813"
     },
     "user_tz": 300
    },
    "id": "F9dLYTwCBS48",
    "outputId": "3dfd357a-4ee6-41fb-e74d-291f33ca7573",
    "tags": []
   },
   "outputs": [
    {
     "data": {
      "text/plain": [
       "<AxesSubplot:>"
      ]
     },
     "execution_count": 3,
     "metadata": {},
     "output_type": "execute_result"
    },
    {
     "data": {
      "image/png": "[encoded data removed]",
      "text/plain": [
       "<Figure size 432x288 with 1 Axes>"
      ]
     },
     "metadata": {
      "needs_background": "light"
     },
     "output_type": "display_data"
    }
   ],
   "source": [
    "# lets look at what out value measure looks like for a particular date:\n",
    "np.exp(Data[Data.date=='2016-12-31'].value).hist(bins=100)\n"
   ]
  },
  {
   "cell_type": "markdown",
   "metadata": {},
   "source": [
    "- A lot of cross-section variation across firms\n",
    "\n",
    "- some firms have very low book-to-market: accounting value low relative to market value\n",
    "\n",
    "- Other firms have high book to market: accounting value high relative to market value"
   ]
  },
  {
   "cell_type": "code",
   "execution_count": 4,
   "metadata": {},
   "outputs": [
    {
     "data": {
      "text/plain": [
       "<AxesSubplot:xlabel='date'>"
      ]
     },
     "execution_count": 4,
     "metadata": {},
     "output_type": "execute_result"
    },
    {
     "data": {
      "image/png": "[encoded data removed]",
      "text/plain": [
       "<Figure size 432x288 with 1 Axes>"
      ]
     },
     "metadata": {
      "needs_background": "light"
     },
     "output_type": "display_data"
    }
   ],
   "source": [
    "# lets look overtime\n",
    "Data.groupby(by='date').value.apply(lambda x: np.exp(x).mean()).plot()"
   ]
  },
  {
   "cell_type": "markdown",
   "metadata": {
    "colab_type": "text",
    "id": "cxtQPoj3BS4-"
   },
   "source": [
    "* a lot of time-variation in it\n",
    "\n",
    "  * everything tends to be value at the same time \n",
    "  \n",
    "* instead of time-variation, strategy that we want to construct want to explore variation across stocks\n",
    "\n",
    "* lets look at how the signal dispersion changed\n",
    "\n"
   ]
  },
  {
   "cell_type": "code",
   "execution_count": 5,
   "metadata": {},
   "outputs": [
    {
     "data": {
      "text/plain": [
       "<AxesSubplot:xlabel='date'>"
      ]
     },
     "execution_count": 5,
     "metadata": {},
     "output_type": "execute_result"
    },
    {
     "data": {
      "image/png": "[encoded data removed]",
      "text/plain": [
       "<Figure size 432x288 with 1 Axes>"
      ]
     },
     "metadata": {
      "needs_background": "light"
     },
     "output_type": "display_data"
    }
   ],
   "source": [
    "Data.groupby(by='date').value.apply(lambda x: np.exp(x).std()).plot()"
   ]
  },
  {
   "cell_type": "markdown",
   "metadata": {
    "colab_type": "text",
    "id": "MQIGl_qhBS5B"
   },
   "source": [
    "**Quantitative investing is all about ranking**\n",
    "\n",
    "* [$\\checkmark$] Get returns for each asset\n",
    "\n",
    "* [$\\checkmark$] Construct the signals for each asset\n",
    "\n",
    "- \\[X\\]  Rank the signals in each date\n",
    "\n",
    "- \\[X\\]  Choose how many assets to pool together. Trade-off between signal strength and diversification\n",
    "\n",
    "     * If you only buy the highest signal asset, you lose diversification"
   ]
  },
  {
   "cell_type": "markdown",
   "metadata": {},
   "source": [
    "**How to rank?**\n",
    "\n",
    "\n",
    "- We will assign the stocks in to quantiles according to it's relative characteristic position in the particular date"
   ]
  },
  {
   "cell_type": "code",
   "execution_count": 6,
   "metadata": {},
   "outputs": [],
   "source": [
    "df=Data.copy()"
   ]
  },
  {
   "cell_type": "markdown",
   "metadata": {},
   "source": [
    "\n",
    "**Group assets by signal**\n",
    "\n",
    "\n",
    "* We have our trading signal for each stock in each date.\n",
    "\n",
    "* We now need to assign groups to each stocks. These groups will identify to which portfolio each stock belongs in a particular date\n",
    "\n",
    "* We will do this by applying the function [pd.qcut](https://pandas.pydata.org/pandas-docs/stable/reference/api/pandas.qcut.html)  to the `value` signal. This will \"cut\" the signal distribution in the chosen number of groups. \n",
    "\n",
    "* The important aspects is that we will applying this date by date. This make the strategy cross-sectional becasue you are usign the distribution of the signal as given date to the grouping\n",
    "\n",
    "* Details\n",
    "   - `duplicates='drop'`: In case there are two stocks with exactly the same signal that are exactly in the cutoff of the groups, we drop one of the observations \n",
    "   - ` labels=False`: The method simply label the groups with numbers. For example if `ngroups=10` then it will assign `0` to the stocks with the  bottom 10% returns in a given date, `1` to stocks with returns in between 10% and 20% of the signal distribution on a given date, ..., and 9 for stocks in the top 10% (signal in between 90% and 100% of the return distribution on a given date) .\n",
    "   "
   ]
  },
  {
   "cell_type": "code",
   "execution_count": 36,
   "metadata": {},
   "outputs": [
    {
     "data": {
      "text/html": [
       "<div>\n",
       "<style scoped>\n",
       "    .dataframe tbody tr th:only-of-type {\n",
       "        vertical-align: middle;\n",
       "    }\n",
       "\n",
       "    .dataframe tbody tr th {\n",
       "        vertical-align: top;\n",
       "    }\n",
       "\n",
       "    .dataframe thead th {\n",
       "        text-align: right;\n",
       "    }\n",
       "</style>\n",
       "<table border=\"1\" class=\"dataframe\">\n",
       "  <thead>\n",
       "    <tr style=\"text-align: right;\">\n",
       "      <th></th>\n",
       "      <th>date</th>\n",
       "      <th>permno</th>\n",
       "      <th>re</th>\n",
       "      <th>rf</th>\n",
       "      <th>log_mcap</th>\n",
       "      <th>value</th>\n",
       "      <th>value_group</th>\n",
       "      <th>r</th>\n",
       "    </tr>\n",
       "  </thead>\n",
       "  <tbody>\n",
       "    <tr>\n",
       "      <th>0</th>\n",
       "      <td>1972-07-31</td>\n",
       "      <td>10006</td>\n",
       "      <td>0.028600</td>\n",
       "      <td>0.0031</td>\n",
       "      <td>12.399869</td>\n",
       "      <td>-0.125361</td>\n",
       "      <td>7</td>\n",
       "      <td>0.031700</td>\n",
       "    </tr>\n",
       "    <tr>\n",
       "      <th>1</th>\n",
       "      <td>1972-07-31</td>\n",
       "      <td>10102</td>\n",
       "      <td>0.039757</td>\n",
       "      <td>0.0031</td>\n",
       "      <td>12.217334</td>\n",
       "      <td>0.354954</td>\n",
       "      <td>9</td>\n",
       "      <td>0.042857</td>\n",
       "    </tr>\n",
       "    <tr>\n",
       "      <th>2</th>\n",
       "      <td>1972-07-31</td>\n",
       "      <td>10137</td>\n",
       "      <td>-0.044767</td>\n",
       "      <td>0.0031</td>\n",
       "      <td>13.069874</td>\n",
       "      <td>-0.088697</td>\n",
       "      <td>7</td>\n",
       "      <td>-0.041667</td>\n",
       "    </tr>\n",
       "    <tr>\n",
       "      <th>3</th>\n",
       "      <td>1972-07-31</td>\n",
       "      <td>10145</td>\n",
       "      <td>-0.062422</td>\n",
       "      <td>0.0031</td>\n",
       "      <td>13.608366</td>\n",
       "      <td>0.075484</td>\n",
       "      <td>8</td>\n",
       "      <td>-0.059322</td>\n",
       "    </tr>\n",
       "    <tr>\n",
       "      <th>4</th>\n",
       "      <td>1972-07-31</td>\n",
       "      <td>10153</td>\n",
       "      <td>-0.065600</td>\n",
       "      <td>0.0031</td>\n",
       "      <td>11.752572</td>\n",
       "      <td>0.944457</td>\n",
       "      <td>9</td>\n",
       "      <td>-0.062500</td>\n",
       "    </tr>\n",
       "    <tr>\n",
       "      <th>...</th>\n",
       "      <td>...</td>\n",
       "      <td>...</td>\n",
       "      <td>...</td>\n",
       "      <td>...</td>\n",
       "      <td>...</td>\n",
       "      <td>...</td>\n",
       "      <td>...</td>\n",
       "      <td>...</td>\n",
       "    </tr>\n",
       "    <tr>\n",
       "      <th>486422</th>\n",
       "      <td>2016-12-31</td>\n",
       "      <td>93420</td>\n",
       "      <td>0.011056</td>\n",
       "      <td>0.0003</td>\n",
       "      <td>14.337515</td>\n",
       "      <td>1.049163</td>\n",
       "      <td>9</td>\n",
       "      <td>0.011356</td>\n",
       "    </tr>\n",
       "    <tr>\n",
       "      <th>486423</th>\n",
       "      <td>2016-12-31</td>\n",
       "      <td>93422</td>\n",
       "      <td>-0.063881</td>\n",
       "      <td>0.0003</td>\n",
       "      <td>15.256946</td>\n",
       "      <td>0.829353</td>\n",
       "      <td>9</td>\n",
       "      <td>-0.063581</td>\n",
       "    </tr>\n",
       "    <tr>\n",
       "      <th>486424</th>\n",
       "      <td>2016-12-31</td>\n",
       "      <td>93423</td>\n",
       "      <td>0.039950</td>\n",
       "      <td>0.0003</td>\n",
       "      <td>15.502888</td>\n",
       "      <td>-2.128977</td>\n",
       "      <td>1</td>\n",
       "      <td>0.040250</td>\n",
       "    </tr>\n",
       "    <tr>\n",
       "      <th>486425</th>\n",
       "      <td>2016-12-31</td>\n",
       "      <td>93429</td>\n",
       "      <td>0.072124</td>\n",
       "      <td>0.0003</td>\n",
       "      <td>15.504722</td>\n",
       "      <td>-3.001095</td>\n",
       "      <td>0</td>\n",
       "      <td>0.072424</td>\n",
       "    </tr>\n",
       "    <tr>\n",
       "      <th>486426</th>\n",
       "      <td>2016-12-31</td>\n",
       "      <td>93436</td>\n",
       "      <td>0.127947</td>\n",
       "      <td>0.0003</td>\n",
       "      <td>17.262975</td>\n",
       "      <td>-3.328269</td>\n",
       "      <td>0</td>\n",
       "      <td>0.128247</td>\n",
       "    </tr>\n",
       "  </tbody>\n",
       "</table>\n",
       "<p>486427 rows × 8 columns</p>\n",
       "</div>"
      ],
      "text/plain": [
       "             date  permno        re      rf   log_mcap     value  value_group  \\\n",
       "0      1972-07-31   10006  0.028600  0.0031  12.399869 -0.125361            7   \n",
       "1      1972-07-31   10102  0.039757  0.0031  12.217334  0.354954            9   \n",
       "2      1972-07-31   10137 -0.044767  0.0031  13.069874 -0.088697            7   \n",
       "3      1972-07-31   10145 -0.062422  0.0031  13.608366  0.075484            8   \n",
       "4      1972-07-31   10153 -0.065600  0.0031  11.752572  0.944457            9   \n",
       "...           ...     ...       ...     ...        ...       ...          ...   \n",
       "486422 2016-12-31   93420  0.011056  0.0003  14.337515  1.049163            9   \n",
       "486423 2016-12-31   93422 -0.063881  0.0003  15.256946  0.829353            9   \n",
       "486424 2016-12-31   93423  0.039950  0.0003  15.502888 -2.128977            1   \n",
       "486425 2016-12-31   93429  0.072124  0.0003  15.504722 -3.001095            0   \n",
       "486426 2016-12-31   93436  0.127947  0.0003  17.262975 -3.328269            0   \n",
       "\n",
       "               r  \n",
       "0       0.031700  \n",
       "1       0.042857  \n",
       "2      -0.041667  \n",
       "3      -0.059322  \n",
       "4      -0.062500  \n",
       "...          ...  \n",
       "486422  0.011356  \n",
       "486423 -0.063581  \n",
       "486424  0.040250  \n",
       "486425  0.072424  \n",
       "486426  0.128247  \n",
       "\n",
       "[486427 rows x 8 columns]"
      ]
     },
     "execution_count": 36,
     "metadata": {},
     "output_type": "execute_result"
    }
   ],
   "source": [
    "ngroups=10\n",
    "df['value_group']=df.groupby(['date'])['value'].apply(lambda x: pd.qcut(x, ngroups, labels=False,duplicates='drop'))\n",
    "df"
   ]
  },
  {
   "cell_type": "markdown",
   "metadata": {
    "colab_type": "text",
    "id": "6HafSxEB4qGD"
   },
   "source": [
    "**From signals to weights: Portfolio formation tradeoffs**\n",
    "\n",
    "* We will start by constructing Equal weighted portfolios within each signal bucket\n",
    "\n",
    "* Why not sort in 100 groups instead on only 10? This way your top value would be much more value\n",
    "\n",
    "* Why no simply focus on the highest value stock?\n",
    "\n",
    "\n",
    "  1. Individual stocks have $\\sigma$ = 40 − 80%, so $\\sigma/\\sqrt{T}$ makes it nearly impossible to accurately measure E(R). Portfolios have lower $\\sigma$ by diversification.\n",
    "  2. So if you have to trade-off strengh of the signal against benefits of diversification\n",
    "\n",
    "**Calculate the portfolio return**\n",
    "\n",
    "We will do market cap weights, but you could do Equal weight or even sginal weights\n",
    "\n",
    "$$\\sum_i^I w_{it} r_{it}$$\n",
    "\n",
    "Where the weights must add up to 1.\n",
    "\n",
    "Before forming portfolios we will use the risk-free rate so we form fully invested portfolios. So the ouput will be returns and not excess returns"
   ]
  },
  {
   "cell_type": "markdown",
   "metadata": {},
   "source": [
    "**Equal weighted returns**"
   ]
  },
  {
   "cell_type": "code",
   "execution_count": 37,
   "metadata": {},
   "outputs": [
    {
     "data": {
      "text/html": [
       "<div>\n",
       "<style scoped>\n",
       "    .dataframe tbody tr th:only-of-type {\n",
       "        vertical-align: middle;\n",
       "    }\n",
       "\n",
       "    .dataframe tbody tr th {\n",
       "        vertical-align: top;\n",
       "    }\n",
       "\n",
       "    .dataframe thead th {\n",
       "        text-align: right;\n",
       "    }\n",
       "</style>\n",
       "<table border=\"1\" class=\"dataframe\">\n",
       "  <thead>\n",
       "    <tr style=\"text-align: right;\">\n",
       "      <th>value_group</th>\n",
       "      <th>0</th>\n",
       "      <th>1</th>\n",
       "      <th>2</th>\n",
       "      <th>3</th>\n",
       "      <th>4</th>\n",
       "      <th>5</th>\n",
       "      <th>6</th>\n",
       "      <th>7</th>\n",
       "      <th>8</th>\n",
       "      <th>9</th>\n",
       "    </tr>\n",
       "    <tr>\n",
       "      <th>date</th>\n",
       "      <th></th>\n",
       "      <th></th>\n",
       "      <th></th>\n",
       "      <th></th>\n",
       "      <th></th>\n",
       "      <th></th>\n",
       "      <th></th>\n",
       "      <th></th>\n",
       "      <th></th>\n",
       "      <th></th>\n",
       "    </tr>\n",
       "  </thead>\n",
       "  <tbody>\n",
       "    <tr>\n",
       "      <th>2015-05-31</th>\n",
       "      <td>0.020891</td>\n",
       "      <td>0.006472</td>\n",
       "      <td>0.010265</td>\n",
       "      <td>0.017035</td>\n",
       "      <td>0.016231</td>\n",
       "      <td>0.027244</td>\n",
       "      <td>0.014574</td>\n",
       "      <td>0.018386</td>\n",
       "      <td>0.004064</td>\n",
       "      <td>0.001198</td>\n",
       "    </tr>\n",
       "    <tr>\n",
       "      <th>2015-06-30</th>\n",
       "      <td>0.004215</td>\n",
       "      <td>-0.000764</td>\n",
       "      <td>-0.013654</td>\n",
       "      <td>-0.013237</td>\n",
       "      <td>-0.003191</td>\n",
       "      <td>-0.020838</td>\n",
       "      <td>-0.006183</td>\n",
       "      <td>-0.015351</td>\n",
       "      <td>-0.022471</td>\n",
       "      <td>-0.018386</td>\n",
       "    </tr>\n",
       "    <tr>\n",
       "      <th>2015-07-31</th>\n",
       "      <td>0.039698</td>\n",
       "      <td>0.013510</td>\n",
       "      <td>0.013946</td>\n",
       "      <td>0.010401</td>\n",
       "      <td>-0.004838</td>\n",
       "      <td>-0.006653</td>\n",
       "      <td>-0.018376</td>\n",
       "      <td>-0.004828</td>\n",
       "      <td>-0.004417</td>\n",
       "      <td>-0.031814</td>\n",
       "    </tr>\n",
       "    <tr>\n",
       "      <th>2015-08-31</th>\n",
       "      <td>-0.069617</td>\n",
       "      <td>-0.066686</td>\n",
       "      <td>-0.070502</td>\n",
       "      <td>-0.052739</td>\n",
       "      <td>-0.053712</td>\n",
       "      <td>-0.050178</td>\n",
       "      <td>-0.052323</td>\n",
       "      <td>-0.038714</td>\n",
       "      <td>-0.045409</td>\n",
       "      <td>-0.038347</td>\n",
       "    </tr>\n",
       "    <tr>\n",
       "      <th>2015-09-30</th>\n",
       "      <td>-0.034040</td>\n",
       "      <td>-0.028862</td>\n",
       "      <td>-0.038530</td>\n",
       "      <td>-0.037669</td>\n",
       "      <td>-0.040816</td>\n",
       "      <td>-0.049398</td>\n",
       "      <td>-0.046280</td>\n",
       "      <td>-0.048378</td>\n",
       "      <td>-0.015625</td>\n",
       "      <td>-0.043819</td>\n",
       "    </tr>\n",
       "    <tr>\n",
       "      <th>2015-10-31</th>\n",
       "      <td>0.061735</td>\n",
       "      <td>0.063521</td>\n",
       "      <td>0.071701</td>\n",
       "      <td>0.062710</td>\n",
       "      <td>0.083448</td>\n",
       "      <td>0.063162</td>\n",
       "      <td>0.063792</td>\n",
       "      <td>0.047935</td>\n",
       "      <td>0.041700</td>\n",
       "      <td>0.069384</td>\n",
       "    </tr>\n",
       "    <tr>\n",
       "      <th>2015-11-30</th>\n",
       "      <td>0.024100</td>\n",
       "      <td>0.002899</td>\n",
       "      <td>0.010890</td>\n",
       "      <td>0.020665</td>\n",
       "      <td>-0.002211</td>\n",
       "      <td>0.007723</td>\n",
       "      <td>0.004607</td>\n",
       "      <td>0.008871</td>\n",
       "      <td>0.017981</td>\n",
       "      <td>0.007222</td>\n",
       "    </tr>\n",
       "    <tr>\n",
       "      <th>2015-12-31</th>\n",
       "      <td>-0.019230</td>\n",
       "      <td>-0.015547</td>\n",
       "      <td>-0.028668</td>\n",
       "      <td>-0.032941</td>\n",
       "      <td>-0.030588</td>\n",
       "      <td>-0.037570</td>\n",
       "      <td>-0.049422</td>\n",
       "      <td>-0.070733</td>\n",
       "      <td>-0.043649</td>\n",
       "      <td>-0.062711</td>\n",
       "    </tr>\n",
       "    <tr>\n",
       "      <th>2016-01-31</th>\n",
       "      <td>-0.093576</td>\n",
       "      <td>-0.063258</td>\n",
       "      <td>-0.056918</td>\n",
       "      <td>-0.059868</td>\n",
       "      <td>-0.074639</td>\n",
       "      <td>-0.073919</td>\n",
       "      <td>-0.067142</td>\n",
       "      <td>-0.046543</td>\n",
       "      <td>-0.059390</td>\n",
       "      <td>-0.055013</td>\n",
       "    </tr>\n",
       "    <tr>\n",
       "      <th>2016-02-29</th>\n",
       "      <td>-0.004429</td>\n",
       "      <td>0.014469</td>\n",
       "      <td>0.030296</td>\n",
       "      <td>0.000678</td>\n",
       "      <td>0.025025</td>\n",
       "      <td>0.021891</td>\n",
       "      <td>0.018122</td>\n",
       "      <td>-0.001125</td>\n",
       "      <td>-0.002752</td>\n",
       "      <td>0.006662</td>\n",
       "    </tr>\n",
       "    <tr>\n",
       "      <th>2016-03-31</th>\n",
       "      <td>0.075430</td>\n",
       "      <td>0.061023</td>\n",
       "      <td>0.075427</td>\n",
       "      <td>0.075486</td>\n",
       "      <td>0.069131</td>\n",
       "      <td>0.091973</td>\n",
       "      <td>0.083676</td>\n",
       "      <td>0.080561</td>\n",
       "      <td>0.085527</td>\n",
       "      <td>0.102659</td>\n",
       "    </tr>\n",
       "    <tr>\n",
       "      <th>2016-04-30</th>\n",
       "      <td>0.011205</td>\n",
       "      <td>-0.003407</td>\n",
       "      <td>0.001794</td>\n",
       "      <td>0.003652</td>\n",
       "      <td>0.007296</td>\n",
       "      <td>0.009209</td>\n",
       "      <td>0.017895</td>\n",
       "      <td>0.042912</td>\n",
       "      <td>0.021717</td>\n",
       "      <td>0.049010</td>\n",
       "    </tr>\n",
       "    <tr>\n",
       "      <th>2016-05-31</th>\n",
       "      <td>0.017519</td>\n",
       "      <td>0.020219</td>\n",
       "      <td>0.022302</td>\n",
       "      <td>0.025954</td>\n",
       "      <td>0.016479</td>\n",
       "      <td>0.014595</td>\n",
       "      <td>0.022864</td>\n",
       "      <td>0.019279</td>\n",
       "      <td>0.014042</td>\n",
       "      <td>0.007794</td>\n",
       "    </tr>\n",
       "    <tr>\n",
       "      <th>2016-06-30</th>\n",
       "      <td>0.007264</td>\n",
       "      <td>-0.000307</td>\n",
       "      <td>-0.007516</td>\n",
       "      <td>-0.017839</td>\n",
       "      <td>-0.006888</td>\n",
       "      <td>-0.019295</td>\n",
       "      <td>0.002781</td>\n",
       "      <td>-0.005211</td>\n",
       "      <td>-0.003076</td>\n",
       "      <td>-0.013713</td>\n",
       "    </tr>\n",
       "    <tr>\n",
       "      <th>2016-07-31</th>\n",
       "      <td>0.062886</td>\n",
       "      <td>0.045714</td>\n",
       "      <td>0.059507</td>\n",
       "      <td>0.047277</td>\n",
       "      <td>0.046417</td>\n",
       "      <td>0.042708</td>\n",
       "      <td>0.039915</td>\n",
       "      <td>0.035914</td>\n",
       "      <td>0.028033</td>\n",
       "      <td>0.036970</td>\n",
       "    </tr>\n",
       "    <tr>\n",
       "      <th>2016-08-31</th>\n",
       "      <td>-0.001796</td>\n",
       "      <td>-0.002420</td>\n",
       "      <td>0.006874</td>\n",
       "      <td>0.013381</td>\n",
       "      <td>-0.005527</td>\n",
       "      <td>0.013439</td>\n",
       "      <td>0.015081</td>\n",
       "      <td>0.009560</td>\n",
       "      <td>0.006012</td>\n",
       "      <td>0.017916</td>\n",
       "    </tr>\n",
       "    <tr>\n",
       "      <th>2016-09-30</th>\n",
       "      <td>0.000667</td>\n",
       "      <td>0.000568</td>\n",
       "      <td>-0.009591</td>\n",
       "      <td>-0.006081</td>\n",
       "      <td>-0.002792</td>\n",
       "      <td>0.013175</td>\n",
       "      <td>0.003770</td>\n",
       "      <td>0.006479</td>\n",
       "      <td>0.010910</td>\n",
       "      <td>0.013485</td>\n",
       "    </tr>\n",
       "    <tr>\n",
       "      <th>2016-10-31</th>\n",
       "      <td>-0.041139</td>\n",
       "      <td>-0.036176</td>\n",
       "      <td>-0.024803</td>\n",
       "      <td>-0.024503</td>\n",
       "      <td>-0.032103</td>\n",
       "      <td>-0.019315</td>\n",
       "      <td>-0.012017</td>\n",
       "      <td>-0.012275</td>\n",
       "      <td>-0.004570</td>\n",
       "      <td>-0.026786</td>\n",
       "    </tr>\n",
       "    <tr>\n",
       "      <th>2016-11-30</th>\n",
       "      <td>0.049154</td>\n",
       "      <td>0.035582</td>\n",
       "      <td>0.038643</td>\n",
       "      <td>0.071141</td>\n",
       "      <td>0.068652</td>\n",
       "      <td>0.076413</td>\n",
       "      <td>0.096047</td>\n",
       "      <td>0.084911</td>\n",
       "      <td>0.101456</td>\n",
       "      <td>0.103725</td>\n",
       "    </tr>\n",
       "    <tr>\n",
       "      <th>2016-12-31</th>\n",
       "      <td>-0.007261</td>\n",
       "      <td>0.004842</td>\n",
       "      <td>0.006727</td>\n",
       "      <td>0.017194</td>\n",
       "      <td>0.008579</td>\n",
       "      <td>0.008927</td>\n",
       "      <td>0.024267</td>\n",
       "      <td>0.022473</td>\n",
       "      <td>0.037458</td>\n",
       "      <td>0.012535</td>\n",
       "    </tr>\n",
       "  </tbody>\n",
       "</table>\n",
       "</div>"
      ],
      "text/plain": [
       "value_group         0         1         2         3         4         5  \\\n",
       "date                                                                      \n",
       "2015-05-31   0.020891  0.006472  0.010265  0.017035  0.016231  0.027244   \n",
       "2015-06-30   0.004215 -0.000764 -0.013654 -0.013237 -0.003191 -0.020838   \n",
       "2015-07-31   0.039698  0.013510  0.013946  0.010401 -0.004838 -0.006653   \n",
       "2015-08-31  -0.069617 -0.066686 -0.070502 -0.052739 -0.053712 -0.050178   \n",
       "2015-09-30  -0.034040 -0.028862 -0.038530 -0.037669 -0.040816 -0.049398   \n",
       "2015-10-31   0.061735  0.063521  0.071701  0.062710  0.083448  0.063162   \n",
       "2015-11-30   0.024100  0.002899  0.010890  0.020665 -0.002211  0.007723   \n",
       "2015-12-31  -0.019230 -0.015547 -0.028668 -0.032941 -0.030588 -0.037570   \n",
       "2016-01-31  -0.093576 -0.063258 -0.056918 -0.059868 -0.074639 -0.073919   \n",
       "2016-02-29  -0.004429  0.014469  0.030296  0.000678  0.025025  0.021891   \n",
       "2016-03-31   0.075430  0.061023  0.075427  0.075486  0.069131  0.091973   \n",
       "2016-04-30   0.011205 -0.003407  0.001794  0.003652  0.007296  0.009209   \n",
       "2016-05-31   0.017519  0.020219  0.022302  0.025954  0.016479  0.014595   \n",
       "2016-06-30   0.007264 -0.000307 -0.007516 -0.017839 -0.006888 -0.019295   \n",
       "2016-07-31   0.062886  0.045714  0.059507  0.047277  0.046417  0.042708   \n",
       "2016-08-31  -0.001796 -0.002420  0.006874  0.013381 -0.005527  0.013439   \n",
       "2016-09-30   0.000667  0.000568 -0.009591 -0.006081 -0.002792  0.013175   \n",
       "2016-10-31  -0.041139 -0.036176 -0.024803 -0.024503 -0.032103 -0.019315   \n",
       "2016-11-30   0.049154  0.035582  0.038643  0.071141  0.068652  0.076413   \n",
       "2016-12-31  -0.007261  0.004842  0.006727  0.017194  0.008579  0.008927   \n",
       "\n",
       "value_group         6         7         8         9  \n",
       "date                                                 \n",
       "2015-05-31   0.014574  0.018386  0.004064  0.001198  \n",
       "2015-06-30  -0.006183 -0.015351 -0.022471 -0.018386  \n",
       "2015-07-31  -0.018376 -0.004828 -0.004417 -0.031814  \n",
       "2015-08-31  -0.052323 -0.038714 -0.045409 -0.038347  \n",
       "2015-09-30  -0.046280 -0.048378 -0.015625 -0.043819  \n",
       "2015-10-31   0.063792  0.047935  0.041700  0.069384  \n",
       "2015-11-30   0.004607  0.008871  0.017981  0.007222  \n",
       "2015-12-31  -0.049422 -0.070733 -0.043649 -0.062711  \n",
       "2016-01-31  -0.067142 -0.046543 -0.059390 -0.055013  \n",
       "2016-02-29   0.018122 -0.001125 -0.002752  0.006662  \n",
       "2016-03-31   0.083676  0.080561  0.085527  0.102659  \n",
       "2016-04-30   0.017895  0.042912  0.021717  0.049010  \n",
       "2016-05-31   0.022864  0.019279  0.014042  0.007794  \n",
       "2016-06-30   0.002781 -0.005211 -0.003076 -0.013713  \n",
       "2016-07-31   0.039915  0.035914  0.028033  0.036970  \n",
       "2016-08-31   0.015081  0.009560  0.006012  0.017916  \n",
       "2016-09-30   0.003770  0.006479  0.010910  0.013485  \n",
       "2016-10-31  -0.012017 -0.012275 -0.004570 -0.026786  \n",
       "2016-11-30   0.096047  0.084911  0.101456  0.103725  \n",
       "2016-12-31   0.024267  0.022473  0.037458  0.012535  "
      ]
     },
     "execution_count": 37,
     "metadata": {},
     "output_type": "execute_result"
    }
   ],
   "source": [
    "df['r']=df.re+df.rf\n",
    "value_ew =df.groupby(['date','value_group']).r.mean()\n",
    "value_ew=value_ew.unstack(level=-1)\n",
    "value_ew.tail(20)"
   ]
  },
  {
   "cell_type": "markdown",
   "metadata": {},
   "source": [
    "**Market cap weighted returns**"
   ]
  },
  {
   "cell_type": "code",
   "execution_count": 38,
   "metadata": {},
   "outputs": [
    {
     "data": {
      "text/html": [
       "<div>\n",
       "<style scoped>\n",
       "    .dataframe tbody tr th:only-of-type {\n",
       "        vertical-align: middle;\n",
       "    }\n",
       "\n",
       "    .dataframe tbody tr th {\n",
       "        vertical-align: top;\n",
       "    }\n",
       "\n",
       "    .dataframe thead th {\n",
       "        text-align: right;\n",
       "    }\n",
       "</style>\n",
       "<table border=\"1\" class=\"dataframe\">\n",
       "  <thead>\n",
       "    <tr style=\"text-align: right;\">\n",
       "      <th>value_group</th>\n",
       "      <th>0</th>\n",
       "      <th>1</th>\n",
       "      <th>2</th>\n",
       "      <th>3</th>\n",
       "      <th>4</th>\n",
       "      <th>5</th>\n",
       "      <th>6</th>\n",
       "      <th>7</th>\n",
       "      <th>8</th>\n",
       "      <th>9</th>\n",
       "    </tr>\n",
       "    <tr>\n",
       "      <th>date</th>\n",
       "      <th></th>\n",
       "      <th></th>\n",
       "      <th></th>\n",
       "      <th></th>\n",
       "      <th></th>\n",
       "      <th></th>\n",
       "      <th></th>\n",
       "      <th></th>\n",
       "      <th></th>\n",
       "      <th></th>\n",
       "    </tr>\n",
       "  </thead>\n",
       "  <tbody>\n",
       "    <tr>\n",
       "      <th>2016-08-31</th>\n",
       "      <td>-0.007946</td>\n",
       "      <td>-0.017826</td>\n",
       "      <td>0.014113</td>\n",
       "      <td>0.001031</td>\n",
       "      <td>-0.005715</td>\n",
       "      <td>0.002380</td>\n",
       "      <td>0.013025</td>\n",
       "      <td>0.004344</td>\n",
       "      <td>0.007665</td>\n",
       "      <td>0.032955</td>\n",
       "    </tr>\n",
       "    <tr>\n",
       "      <th>2016-09-30</th>\n",
       "      <td>0.005064</td>\n",
       "      <td>-0.007285</td>\n",
       "      <td>-0.007487</td>\n",
       "      <td>0.011192</td>\n",
       "      <td>-0.000677</td>\n",
       "      <td>0.007086</td>\n",
       "      <td>-0.027298</td>\n",
       "      <td>0.007607</td>\n",
       "      <td>0.006284</td>\n",
       "      <td>0.008746</td>\n",
       "    </tr>\n",
       "    <tr>\n",
       "      <th>2016-10-31</th>\n",
       "      <td>-0.026880</td>\n",
       "      <td>-0.027232</td>\n",
       "      <td>-0.015124</td>\n",
       "      <td>-0.015628</td>\n",
       "      <td>-0.024548</td>\n",
       "      <td>-0.023671</td>\n",
       "      <td>0.002212</td>\n",
       "      <td>-0.021812</td>\n",
       "      <td>-0.000366</td>\n",
       "      <td>0.002611</td>\n",
       "    </tr>\n",
       "    <tr>\n",
       "      <th>2016-11-30</th>\n",
       "      <td>0.030711</td>\n",
       "      <td>0.018122</td>\n",
       "      <td>-0.002054</td>\n",
       "      <td>0.032335</td>\n",
       "      <td>0.048193</td>\n",
       "      <td>0.026620</td>\n",
       "      <td>0.094615</td>\n",
       "      <td>0.060176</td>\n",
       "      <td>0.091799</td>\n",
       "      <td>0.098415</td>\n",
       "    </tr>\n",
       "    <tr>\n",
       "      <th>2016-12-31</th>\n",
       "      <td>0.005870</td>\n",
       "      <td>0.009499</td>\n",
       "      <td>0.019199</td>\n",
       "      <td>0.018858</td>\n",
       "      <td>0.007704</td>\n",
       "      <td>0.007871</td>\n",
       "      <td>0.027776</td>\n",
       "      <td>0.022641</td>\n",
       "      <td>0.058082</td>\n",
       "      <td>0.030529</td>\n",
       "    </tr>\n",
       "  </tbody>\n",
       "</table>\n",
       "</div>"
      ],
      "text/plain": [
       "value_group         0         1         2         3         4         5  \\\n",
       "date                                                                      \n",
       "2016-08-31  -0.007946 -0.017826  0.014113  0.001031 -0.005715  0.002380   \n",
       "2016-09-30   0.005064 -0.007285 -0.007487  0.011192 -0.000677  0.007086   \n",
       "2016-10-31  -0.026880 -0.027232 -0.015124 -0.015628 -0.024548 -0.023671   \n",
       "2016-11-30   0.030711  0.018122 -0.002054  0.032335  0.048193  0.026620   \n",
       "2016-12-31   0.005870  0.009499  0.019199  0.018858  0.007704  0.007871   \n",
       "\n",
       "value_group         6         7         8         9  \n",
       "date                                                 \n",
       "2016-08-31   0.013025  0.004344  0.007665  0.032955  \n",
       "2016-09-30  -0.027298  0.007607  0.006284  0.008746  \n",
       "2016-10-31   0.002212 -0.021812 -0.000366  0.002611  \n",
       "2016-11-30   0.094615  0.060176  0.091799  0.098415  \n",
       "2016-12-31   0.027776  0.022641  0.058082  0.030529  "
      ]
     },
     "execution_count": 38,
     "metadata": {},
     "output_type": "execute_result"
    }
   ],
   "source": [
    "df['r']=df.re+df.rf\n",
    "value_mw =df.groupby(['date','value_group']).apply(lambda x:(x.r*np.exp(x.log_mcap)).sum()/np.exp(x.log_mcap).sum())\n",
    "value_mw=value_mw.unstack(level=-1)\n",
    "value_mw.tail(5)"
   ]
  },
  {
   "cell_type": "code",
   "execution_count": 39,
   "metadata": {},
   "outputs": [
    {
     "data": {
      "text/plain": [
       "<AxesSubplot:xlabel='date'>"
      ]
     },
     "execution_count": 39,
     "metadata": {},
     "output_type": "execute_result"
    },
    {
     "data": {
      "image/png": "[encoded data removed]",
      "text/plain": [
       "<Figure size 432x288 with 1 Axes>"
      ]
     },
     "metadata": {
      "needs_background": "light"
     },
     "output_type": "display_data"
    }
   ],
   "source": [
    "value_count =df.groupby(['date','value_group']).value.count()\n",
    "value_count=value_count.unstack(level=-1)\n",
    "value_count.plot()"
   ]
  },
  {
   "cell_type": "code",
   "execution_count": 40,
   "metadata": {},
   "outputs": [
    {
     "data": {
      "text/plain": [
       "<AxesSubplot:xlabel='value_group'>"
      ]
     },
     "execution_count": 40,
     "metadata": {},
     "output_type": "execute_result"
    },
    {
     "data": {
      "image/png": "[encoded data removed]",
      "text/plain": [
       "<Figure size 432x288 with 1 Axes>"
      ]
     },
     "metadata": {
      "needs_background": "light"
     },
     "output_type": "display_data"
    }
   ],
   "source": [
    "(value_mw.mean()*12).plot.bar()"
   ]
  },
  {
   "cell_type": "markdown",
   "metadata": {
    "colab_type": "text",
    "id": "9HuV_Dx8BS56"
   },
   "source": [
    "* It is important when constructing any weights that the weights you are using are a function only of variables known before the time of the trade.\n",
    "\n",
    "* Here in this case we are using the size variable which is the market cap of the firm last december as explained above\n",
    "\n",
    "* what is important is that this info is tradable, ideally we would use more recent market caps, but market caps are very persistent, so the result will be similar\n",
    "\n",
    "* If you didn't lag what would it be the problem? That is suppose that you use market cap from the end of the trading month? What bias would that introduce? Would this be a valid strategy?\n",
    "\n"
   ]
  },
  {
   "cell_type": "code",
   "execution_count": 41,
   "metadata": {},
   "outputs": [
    {
     "data": {
      "text/plain": [
       "<AxesSubplot:xlabel='date'>"
      ]
     },
     "execution_count": 41,
     "metadata": {},
     "output_type": "execute_result"
    },
    {
     "data": {
      "image/png": "[encoded data removed]",
      "text/plain": [
       "<Figure size 432x288 with 1 Axes>"
      ]
     },
     "metadata": {
      "needs_background": "light"
     },
     "output_type": "display_data"
    }
   ],
   "source": [
    "\n",
    "(value_mw+1).cumprod().plot(logy=True)"
   ]
  },
  {
   "cell_type": "markdown",
   "metadata": {
    "colab_type": "text",
    "id": "BpT0-kyKBS5Z"
   },
   "source": [
    "**What do you see here?**\n",
    "\n",
    "- Over time \"value\" (high book to market) stocks tend to perform well going forward\n",
    "\n",
    "- \"growth\" stocks  (low book to market) tend to perform poorly going forward\n",
    "\n",
    "- You can implement a value strategy in a varity of ways depending of what you can do\n",
    "\n",
    "     - instead of buying the market just buy portfolios 5 to 9, or even only portfolio 9\n",
    "     \n",
    "     - Or are you can also buy portfolio 9 and SHORT portfolio 0, that is a value minus growth strategy. Nice becasue it is close to market neutral so you can add market exposure on top of that. But of course, you do need to short!\n",
    "     \n",
    "   "
   ]
  },
  {
   "cell_type": "markdown",
   "metadata": {
    "colab_type": "text",
    "id": "FWVwD8yaBPBy"
   },
   "source": [
    "**Long-short portfolio**\n",
    "\n",
    "* It is a portfolio that is self-financed, for each dollar of stocks that it buys, it finances the position by shorting 1 dollar worth of stock in the other side\n",
    "\n",
    "* So the returns of long-short portfolio are already excess returns\n",
    "\n",
    "* We have been wroking with long-short portfolios since we discussed the concept of  excess returs\n",
    "\n",
    "* But there our short side was always the risk-free rate\n",
    "\n",
    "   * When we write $R^e_{mkt}=R_{mkt}-R_f$, we are constructing a long-short portfolio that goes long the market and short the risk-free asset\n",
    "   \n",
    "   * This portfolio as we discussed  has zero cost, i.e., you don't need any capital, so it allow us to completely separate the time-value of money question from the risk premium question\n",
    "   \n",
    "   * The only difference is that now our short side will be a risky asset too, but the logic is the same\n",
    "   \n",
    "This portfolio is nice because it isolates what the strategy is about.\n",
    "\n",
    "Below we construct the Value minus Growth portfolio"
   ]
  },
  {
   "cell_type": "code",
   "execution_count": 42,
   "metadata": {},
   "outputs": [
    {
     "data": {
      "text/plain": [
       "date\n",
       "1972-07-31   -0.015948\n",
       "1972-08-31    0.066858\n",
       "1972-09-30   -0.036133\n",
       "1972-10-31   -0.002657\n",
       "1972-11-30    0.119128\n",
       "                ...   \n",
       "2016-08-31    0.032955\n",
       "2016-09-30    0.008746\n",
       "2016-10-31    0.002611\n",
       "2016-11-30    0.098415\n",
       "2016-12-31    0.030529\n",
       "Name: 9, Length: 534, dtype: float64"
      ]
     },
     "execution_count": 42,
     "metadata": {},
     "output_type": "execute_result"
    }
   ],
   "source": [
    "value_mw[9]"
   ]
  },
  {
   "cell_type": "markdown",
   "metadata": {},
   "source": [
    "$R^9_t-R^0_t$"
   ]
  },
  {
   "cell_type": "code",
   "execution_count": 43,
   "metadata": {
    "colab": {
     "base_uri": "https://localhost:8080/",
     "height": 279
    },
    "colab_type": "code",
    "executionInfo": {
     "elapsed": 1118,
     "status": "ok",
     "timestamp": 1576958060999,
     "user": {
      "displayName": "yuchi yao",
      "photoUrl": "",
      "userId": "00457884373990713813"
     },
     "user_tz": 300
    },
    "id": "VeUNFQwJBS5h",
    "outputId": "40f3bb94-2e11-457d-a4b3-31f8252286ea"
   },
   "outputs": [
    {
     "data": {
      "image/png": "[encoded data removed]",
      "text/plain": [
       "<Figure size 432x288 with 1 Axes>"
      ]
     },
     "metadata": {
      "needs_background": "light"
     },
     "output_type": "display_data"
    }
   ],
   "source": [
    "R_VmG=value_mw[9].subtract(value_mw[0])\n",
    "\n",
    "(R_VmG).plot()\n",
    "plt.show()"
   ]
  },
  {
   "cell_type": "markdown",
   "metadata": {},
   "source": [
    "Interesting to look at returns over time\n",
    "\n",
    "Here we look at average returns and volatiltiy on a 60 months rollign basis "
   ]
  },
  {
   "cell_type": "code",
   "execution_count": 44,
   "metadata": {},
   "outputs": [
    {
     "data": {
      "text/plain": [
       "<matplotlib.legend.Legend at 0x20f44e66ca0>"
      ]
     },
     "execution_count": 44,
     "metadata": {},
     "output_type": "execute_result"
    },
    {
     "data": {
      "image/png": "[encoded data removed]",
      "text/plain": [
       "<Figure size 432x288 with 1 Axes>"
      ]
     },
     "metadata": {
      "needs_background": "light"
     },
     "output_type": "display_data"
    }
   ],
   "source": [
    "\n",
    "((R_VmG).rolling(window=60).mean()*12).plot()\n",
    "\n",
    "((R_VmG).rolling(window=60).std()*12**0.5).plot()\n",
    "\n",
    "plt.legend(['Avg','Vol'])\n"
   ]
  },
  {
   "cell_type": "markdown",
   "metadata": {
    "colab_type": "text",
    "id": "DBdj1i9pdieN"
   },
   "source": [
    "_________________\n",
    "\n",
    "\n",
    "**Aside: Why test with portfolios rather than just look at stocks?**\n",
    "\n",
    "1. Individual stocks have $\\sigma$ = 40 − 80%, so $\\sigma/\\sqrt{T}$ makes it \n",
    "nearly impossible to accurately measure E(R). Portfolios have lower $\\sigma$ by diversification.\n",
    "\n",
    "2. Betas are badly measured too, and vary over time. \n",
    "        \n",
    "   - Example: every firm starts small and risky, but eventually some of them become big and safe\n",
    "        \n",
    "3. You need an interesting alternative. Group stocks together that might have a violation,\n",
    "this gives much more power.\n",
    "\n",
    "4. This is what people do to (try to) make money. They don’t randomly buy stocks.\n",
    "They buy stocks with certain characteristics that they think will outperform. Thus,\n",
    "keep tests and practice close.\n",
    "\n",
    "5. The CAPM seemed fine (and still does) until stocks were grouped by B/M. The\n",
    "CAPM still works fine for some groupings (size), not others (value) .\n",
    "\n",
    "But of course you need to know how to form portfolios based on which characteristcs to use.\n",
    "\n",
    "And here the sky is the limit, as long you are careful about false discovery!\n",
    "\n",
    "Examples:\n",
    "\n",
    "- Stocks talked about in the media\n",
    "- Stocks of CEOs tweeted by the President\n",
    "- Stocks with recent deal annoucements\n",
    "- Stocks with a lot of google search traffic (google trends)\n",
    "- Stocks with a lot of Tweeter activity\n",
    "- Stocks that are investing a lot\n",
    "- Stocks that are very profitable\n",
    "- Stocks that doing a lot of R&D\n",
    "- Stocks invested by famous hedge fund managers\n",
    "- Stocks invested by less famous managers\n",
    "- Stokcs invested by Warren Buffet\n",
    "\n",
    "____________________\n"
   ]
  }
 ],
 "metadata": {
  "colab": {
   "collapsed_sections": [],
   "name": "Notebook 6.ipynb",
   "provenance": []
  },
  "kernelspec": {
   "display_name": "Python 3",
   "language": "python",
   "name": "python3"
  },
  "language_info": {
   "codemirror_mode": {
    "name": "ipython",
    "version": 3
   },
   "file_extension": ".py",
   "mimetype": "text/x-python",
   "name": "python",
   "nbconvert_exporter": "python",
   "pygments_lexer": "ipython3",
   "version": "3.8.5"
  }
 },
 "nbformat": 4,
 "nbformat_minor": 4
}
