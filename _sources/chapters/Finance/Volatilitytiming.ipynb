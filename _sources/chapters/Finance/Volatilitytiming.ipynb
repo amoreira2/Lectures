{
 "cells": [
  {
   "cell_type": "code",
   "execution_count": 2,
   "metadata": {},
   "outputs": [],
   "source": [
    "import pandas as pd\n",
    "import numpy as np\n",
    "import matplotlib.pyplot as plt\n",
    "%matplotlib inline"
   ]
  },
  {
   "cell_type": "markdown",
   "metadata": {
    "colab_type": "text",
    "id": "YnQret7OBS4N"
   },
   "source": [
    "\n",
    "\n",
    "\n",
    "# Volatility timing\n",
    "\n",
    "\n",
    "  * Using daily data for month t, construct the market return \"realized variance\" during month t\n",
    "   \n",
    "   $$rv_t=\\sum_{d \\in days~ in ~month ~t}\\frac{(r_d- \\overline{r})^2}{N_{days}},$$\n",
    "   \n",
    " where $\\overline{R}$ is the average return within the month\n",
    "   \n",
    "  * Buy the market at the closing price of month t accoding to the rule:\n",
    "   \n",
    "   $$W_t=\\frac{c}{rv_t},$$\n",
    "   \n",
    "where $c$ is some constant.\n",
    "   \n",
    "  * Hold the postions for a month\n",
    "  \n",
    "  * The returns of the strategy are given by\n",
    "  \n",
    "  \n",
    "  $$ r^{VolTiming}_{t+1}=r_{f,t+1}+\\frac{c}{rv_t}(r^{MKT}_{t+1}-r_{f,t+1})$$\n",
    " \n",
    "  $$ r^{VolTiming}_{t+1}=(1-\\frac{c}{rv_t})r_{f,t+1}+\\frac{c}{rv_t}r^{MKT}_{t+1}$$\n",
    "* One could use a variety of other volatiltiy estimators to implement the strategy\n",
    "\n",
    "   - Use Squared returns instead of variance\n",
    "   - VIX (my favourite)\n",
    "   - GARCH based forecasts\n",
    "   - Regression forecasts based lagged rv\n",
    "   - Regression forecasts based lagged rv and VIX\n",
    "   \n",
    "* For this implementation which was developed in a [paper of mine with Tyler Muir](https://www.google.com/url?q=https%3A%2F%2Fwww.dropbox.com%2Fs%2F022escr52x9oe51%2FVolPortfolios_published.pdf%3Fdl%3D0&sa=D&sntz=1&usg=AFQjCNGMECt2zp77lDfZRGJlkXQbGmqn1A) we simply need daily data to construct the realized variance variable (VIX is great but only available for a short sample)"
   ]
  },
  {
   "cell_type": "markdown",
   "metadata": {
    "colab_type": "text",
    "id": "ZHXuT4U2j6ck"
   },
   "source": [
    "**Download data from WRDS**\n",
    "\n",
    "(if you have credentials)"
   ]
  },
  {
   "cell_type": "code",
   "execution_count": 5,
   "metadata": {
    "colab": {
     "base_uri": "https://localhost:8080/",
     "height": 306
    },
    "colab_type": "code",
    "executionInfo": {
     "elapsed": 13647,
     "status": "ok",
     "timestamp": 1576895946064,
     "user": {
      "displayName": "yuchi yao",
      "photoUrl": "",
      "userId": "00457884373990713813"
     },
     "user_tz": 300
    },
    "id": "ozJ4z8DsBS4O",
    "outputId": "dbc07f2e-9f89-4b65-b454-091880e139c2"
   },
   "outputs": [],
   "source": [
    "import datetime as dt\n",
    "import wrds\n",
    "import psycopg2 \n",
    "from dateutil.relativedelta import *\n",
    "\n",
    "\n",
    "# connect with their server\n",
    "#conn=wrds.Connection()\n",
    "\n",
    "# get the value-weighted market returns and date from the data base crsp.dsi\n",
    "mkt_d = conn.raw_sql(\"\"\"\n",
    "                      select a.date, a.vwretd\n",
    "                      from crsp.dsi as a\n",
    "                      \"\"\") \n",
    "# get the risk-free rate\n",
    "rf_d = conn.raw_sql(\"\"\"\n",
    "                      select a.date, a.rf\n",
    "                      from ff.factors_daily as a\n",
    "                      \"\"\")\n",
    "\n",
    "mkt_d=mkt_d.set_index(['date'])\n",
    "\n",
    "mkt_d=mkt_d.set_index(pd.to_datetime(mkt_d.index),'date')\n",
    "\n",
    "rf_d=rf_d.set_index(['date'])\n",
    "\n",
    "rf_d=rf_d.set_index(pd.to_datetime(rf_d.index),'date')\n",
    "\n",
    "# we merge\n",
    "\n",
    "daily=mkt_d.merge(rf_d,how='left',left_index=True,right_index=True)\n",
    "# save data locally\n",
    "#daily.to_pickle('../../assets/data/daily.pkl')\n"
   ]
  },
  {
   "cell_type": "markdown",
   "metadata": {},
   "source": [
    "Alternatively simply import from Gihub by substituting the address below"
   ]
  },
  {
   "cell_type": "code",
   "execution_count": 6,
   "metadata": {
    "colab": {},
    "colab_type": "code",
    "id": "VWrvD62TBS4Q"
   },
   "outputs": [],
   "source": [
    "\n",
    "daily=pd.read_pickle('https://github.com/amoreira2/Lectures/blob/main/assets/data/daily.pkl?raw=true')\n"
   ]
  },
  {
   "cell_type": "markdown",
   "metadata": {
    "colab_type": "text",
    "id": "_8Uci0btBS4T"
   },
   "source": [
    "## **Constructing monthly realized variance from daily data**\n",
    "\n",
    "\n",
    "You basically use pandas time series function that shifts all dates to the end of the month, so this way you are technically grouping by the end of the month day."
   ]
  },
  {
   "cell_type": "code",
   "execution_count": 8,
   "metadata": {},
   "outputs": [
    {
     "data": {
      "text/plain": [
       "DatetimeIndex(['1925-12-31', '1926-01-02', '1926-01-04', '1926-01-05',\n",
       "               '1926-01-06', '1926-01-07', '1926-01-08', '1926-01-09',\n",
       "               '1926-01-11', '1926-01-12',\n",
       "               ...\n",
       "               '2020-12-17', '2020-12-18', '2020-12-21', '2020-12-22',\n",
       "               '2020-12-23', '2020-12-24', '2020-12-28', '2020-12-29',\n",
       "               '2020-12-30', '2020-12-31'],\n",
       "              dtype='datetime64[ns]', name='date', length=25046, freq=None)"
      ]
     },
     "execution_count": 8,
     "metadata": {},
     "output_type": "execute_result"
    }
   ],
   "source": [
    "daily.index"
   ]
  },
  {
   "cell_type": "markdown",
   "metadata": {},
   "source": [
    "Now  I use groupby `endofmonth` to put  all returns of given \"year-month\" pair together (i.e. with the same date)\n",
    "\n"
   ]
  },
  {
   "cell_type": "code",
   "execution_count": 14,
   "metadata": {},
   "outputs": [
    {
     "data": {
      "text/plain": [
       "DatetimeIndex(['1925-12-31', '1926-01-31', '1926-01-31', '1926-01-31',\n",
       "               '1926-01-31', '1926-01-31', '1926-01-31', '1926-01-31',\n",
       "               '1926-01-31', '1926-01-31',\n",
       "               ...\n",
       "               '2020-12-31', '2020-12-31', '2020-12-31', '2020-12-31',\n",
       "               '2020-12-31', '2020-12-31', '2020-12-31', '2020-12-31',\n",
       "               '2020-12-31', '2020-12-31'],\n",
       "              dtype='datetime64[ns]', name='date', length=25046, freq=None)"
      ]
     },
     "execution_count": 14,
     "metadata": {},
     "output_type": "execute_result"
    }
   ],
   "source": [
    "from pandas.tseries.offsets import MonthEnd\n",
    "endofmonth=daily.index+MonthEnd(0)\n",
    "endofmonth"
   ]
  },
  {
   "cell_type": "markdown",
   "metadata": {},
   "source": [
    "So I can jsut compute the variance of this group (say 1/1/2020,1/2/2020,...1/31/2020 will all be 1/31/2020\n",
    "\n",
    "This will return the daily variance in that month\n",
    "\n",
    "So the ouput will be one realized variance for each month"
   ]
  },
  {
   "cell_type": "code",
   "execution_count": 15,
   "metadata": {
    "colab": {
     "base_uri": "https://localhost:8080/",
     "height": 235
    },
    "colab_type": "code",
    "executionInfo": {
     "elapsed": 325,
     "status": "ok",
     "timestamp": 1576898361587,
     "user": {
      "displayName": "yuchi yao",
      "photoUrl": "",
      "userId": "00457884373990713813"
     },
     "user_tz": 300
    },
    "id": "40eTDr-bmxKd",
    "outputId": "dfb237b5-dfe9-4b01-dc78-253613fd9911"
   },
   "outputs": [
    {
     "data": {
      "text/plain": [
       "<AxesSubplot:xlabel='date'>"
      ]
     },
     "execution_count": 15,
     "metadata": {},
     "output_type": "execute_result"
    },
    {
     "data": {
      "image/png": "[encoded data removed]",
      "text/plain": [
       "<Figure size 432x288 with 1 Axes>"
      ]
     },
     "metadata": {
      "needs_background": "light"
     },
     "output_type": "display_data"
    }
   ],
   "source": [
    "\n",
    "\n",
    "# We denote `realized variance` for the market return as `RV`\n",
    "RV=daily[['vwretd']].groupby(endofmonth).var()\n",
    "# rename column to clarify\n",
    "RV=RV.rename(columns={'vwretd':'RV'})\n",
    "RV.plot()"
   ]
  },
  {
   "cell_type": "markdown",
   "metadata": {
    "colab_type": "text",
    "id": "19pTbH4wYAGL"
   },
   "source": [
    "## **From signal to weights**"
   ]
  },
  {
   "cell_type": "markdown",
   "metadata": {
    "colab_type": "text",
    "id": "jLKhAemtBS4b"
   },
   "source": [
    "* weight on the market:\n",
    "\n",
    "$$w_t=c\\frac{1}{rv_t}$$\n",
    "\n",
    "* weight on the risk-free rate: $1-w_t$\n",
    "\n",
    "* $c$ controls how levered is the strategy on average.\n",
    "\n",
    "* As we saw before all timing strategies involved some in and out of the market, but you also need to determine the average position. That is the role of $c$.\n",
    "\n",
    "* There are many ways to choose c\n",
    "\n",
    "* while c does not impact the strategy Sharpe Ratio, it impacts the amount of leverage that the strategy will take\n",
    "\n",
    "* Here lets keep it simple and simply choose it so that the postion on the market is 1 on average\n",
    "\n",
    "$$E[w_t]=E[c\\frac{1}{rv_t}]=1$$\n",
    "\n",
    "implies $c=\\frac{1}{E[\\frac{1}{rv_t}]}$\n"
   ]
  },
  {
   "cell_type": "code",
   "execution_count": 19,
   "metadata": {
    "colab": {},
    "colab_type": "code",
    "id": "JAaknOzBBS4b"
   },
   "outputs": [
    {
     "data": {
      "text/plain": [
       "0.918452009960208"
      ]
     },
     "execution_count": 19,
     "metadata": {},
     "output_type": "execute_result"
    },
    {
     "data": {
      "image/png": "[encoded data removed]",
      "text/plain": [
       "<Figure size 432x288 with 1 Axes>"
      ]
     },
     "metadata": {
      "needs_background": "light"
     },
     "output_type": "display_data"
    }
   ],
   "source": [
    "# calculate weights for the risky assets (market)\n",
    "c=1/(1/RV.RV).mean()\n",
    "RV['Weight']=c/RV.RV\n",
    "\n",
    "RV.Weight.plot()\n",
    "RV.Weight.mean()"
   ]
  },
  {
   "cell_type": "code",
   "execution_count": 11,
   "metadata": {
    "colab": {
     "base_uri": "https://localhost:8080/",
     "height": 279
    },
    "colab_type": "code",
    "executionInfo": {
     "elapsed": 511,
     "status": "ok",
     "timestamp": 1576897662773,
     "user": {
      "displayName": "yuchi yao",
      "photoUrl": "",
      "userId": "00457884373990713813"
     },
     "user_tz": 300
    },
    "id": "INzHNjDrbIjx",
    "outputId": "e29591e5-2c49-431b-a165-24c0a98f2d44"
   },
   "outputs": [
    {
     "data": {
      "image/png": "[encoded data removed]",
      "text/plain": [
       "<Figure size 432x288 with 1 Axes>"
      ]
     },
     "metadata": {
      "needs_background": "light"
     },
     "output_type": "display_data"
    }
   ],
   "source": [
    "# plot the weights on the risk-free rate\n",
    "(1-RV.Weight).plot()\n",
    "plt.show()"
   ]
  },
  {
   "cell_type": "markdown",
   "metadata": {
    "colab_type": "text",
    "id": "A-6DiAKWBS4g"
   },
   "source": [
    "## **Aggregate daily returns to monthly returns**\n",
    "\n",
    "* Since the strategy will trade monthly, we now need to construct monthly returns\n",
    "\n",
    "* we do that by cumulating daily returns within a month\n"
   ]
  },
  {
   "cell_type": "code",
   "execution_count": 17,
   "metadata": {
    "colab": {
     "base_uri": "https://localhost:8080/",
     "height": 235
    },
    "colab_type": "code",
    "executionInfo": {
     "elapsed": 351,
     "status": "ok",
     "timestamp": 1576898512841,
     "user": {
      "displayName": "yuchi yao",
      "photoUrl": "",
      "userId": "00457884373990713813"
     },
     "user_tz": 300
    },
    "id": "n0tVvjTsBS4h",
    "outputId": "57def30a-72be-4ba1-efaf-cf63ff446021"
   },
   "outputs": [
    {
     "data": {
      "text/html": [
       "<div>\n",
       "<style scoped>\n",
       "    .dataframe tbody tr th:only-of-type {\n",
       "        vertical-align: middle;\n",
       "    }\n",
       "\n",
       "    .dataframe tbody tr th {\n",
       "        vertical-align: top;\n",
       "    }\n",
       "\n",
       "    .dataframe thead th {\n",
       "        text-align: right;\n",
       "    }\n",
       "</style>\n",
       "<table border=\"1\" class=\"dataframe\">\n",
       "  <thead>\n",
       "    <tr style=\"text-align: right;\">\n",
       "      <th></th>\n",
       "      <th>vwretd</th>\n",
       "      <th>rf</th>\n",
       "    </tr>\n",
       "    <tr>\n",
       "      <th>date</th>\n",
       "      <th></th>\n",
       "      <th></th>\n",
       "    </tr>\n",
       "  </thead>\n",
       "  <tbody>\n",
       "    <tr>\n",
       "      <th>2020-08-31</th>\n",
       "      <td>0.068549</td>\n",
       "      <td>0.0</td>\n",
       "    </tr>\n",
       "    <tr>\n",
       "      <th>2020-09-30</th>\n",
       "      <td>-0.034910</td>\n",
       "      <td>0.0</td>\n",
       "    </tr>\n",
       "    <tr>\n",
       "      <th>2020-10-31</th>\n",
       "      <td>-0.020180</td>\n",
       "      <td>0.0</td>\n",
       "    </tr>\n",
       "    <tr>\n",
       "      <th>2020-11-30</th>\n",
       "      <td>0.123639</td>\n",
       "      <td>0.0</td>\n",
       "    </tr>\n",
       "    <tr>\n",
       "      <th>2020-12-31</th>\n",
       "      <td>0.044672</td>\n",
       "      <td>0.0</td>\n",
       "    </tr>\n",
       "  </tbody>\n",
       "</table>\n",
       "</div>"
      ],
      "text/plain": [
       "              vwretd   rf\n",
       "date                     \n",
       "2020-08-31  0.068549  0.0\n",
       "2020-09-30 -0.034910  0.0\n",
       "2020-10-31 -0.020180  0.0\n",
       "2020-11-30  0.123639  0.0\n",
       "2020-12-31  0.044672  0.0"
      ]
     },
     "execution_count": 17,
     "metadata": {},
     "output_type": "execute_result"
    }
   ],
   "source": [
    "# aggregate daily returns to monthly returns\n",
    "Ret=(1+daily).groupby(endofmonth).prod()-1\n",
    "# rename columns to clarify\n",
    "Ret.tail()"
   ]
  },
  {
   "cell_type": "code",
   "execution_count": 20,
   "metadata": {
    "colab": {
     "base_uri": "https://localhost:8080/",
     "height": 235
    },
    "colab_type": "code",
    "executionInfo": {
     "elapsed": 386,
     "status": "ok",
     "timestamp": 1576898613591,
     "user": {
      "displayName": "yuchi yao",
      "photoUrl": "",
      "userId": "00457884373990713813"
     },
     "user_tz": 300
    },
    "id": "p7JwUVzZBS4k",
    "outputId": "f9d032cb-721b-4e94-986c-6cdfe382fd20"
   },
   "outputs": [
    {
     "data": {
      "text/html": [
       "<div>\n",
       "<style scoped>\n",
       "    .dataframe tbody tr th:only-of-type {\n",
       "        vertical-align: middle;\n",
       "    }\n",
       "\n",
       "    .dataframe tbody tr th {\n",
       "        vertical-align: top;\n",
       "    }\n",
       "\n",
       "    .dataframe thead th {\n",
       "        text-align: right;\n",
       "    }\n",
       "</style>\n",
       "<table border=\"1\" class=\"dataframe\">\n",
       "  <thead>\n",
       "    <tr style=\"text-align: right;\">\n",
       "      <th></th>\n",
       "      <th>RV</th>\n",
       "      <th>Weight</th>\n",
       "      <th>vwretd</th>\n",
       "      <th>rf</th>\n",
       "    </tr>\n",
       "    <tr>\n",
       "      <th>date</th>\n",
       "      <th></th>\n",
       "      <th></th>\n",
       "      <th></th>\n",
       "      <th></th>\n",
       "    </tr>\n",
       "  </thead>\n",
       "  <tbody>\n",
       "    <tr>\n",
       "      <th>2020-08-31</th>\n",
       "      <td>0.000024</td>\n",
       "      <td>1.323402</td>\n",
       "      <td>0.068549</td>\n",
       "      <td>0.0</td>\n",
       "    </tr>\n",
       "    <tr>\n",
       "      <th>2020-09-30</th>\n",
       "      <td>0.000228</td>\n",
       "      <td>0.139017</td>\n",
       "      <td>-0.034910</td>\n",
       "      <td>0.0</td>\n",
       "    </tr>\n",
       "    <tr>\n",
       "      <th>2020-10-31</th>\n",
       "      <td>0.000154</td>\n",
       "      <td>0.206066</td>\n",
       "      <td>-0.020180</td>\n",
       "      <td>0.0</td>\n",
       "    </tr>\n",
       "    <tr>\n",
       "      <th>2020-11-30</th>\n",
       "      <td>0.000090</td>\n",
       "      <td>0.353568</td>\n",
       "      <td>0.123639</td>\n",
       "      <td>0.0</td>\n",
       "    </tr>\n",
       "    <tr>\n",
       "      <th>2020-12-31</th>\n",
       "      <td>0.000027</td>\n",
       "      <td>1.185148</td>\n",
       "      <td>0.044672</td>\n",
       "      <td>0.0</td>\n",
       "    </tr>\n",
       "  </tbody>\n",
       "</table>\n",
       "</div>"
      ],
      "text/plain": [
       "                  RV    Weight    vwretd   rf\n",
       "date                                         \n",
       "2020-08-31  0.000024  1.323402  0.068549  0.0\n",
       "2020-09-30  0.000228  0.139017 -0.034910  0.0\n",
       "2020-10-31  0.000154  0.206066 -0.020180  0.0\n",
       "2020-11-30  0.000090  0.353568  0.123639  0.0\n",
       "2020-12-31  0.000027  1.185148  0.044672  0.0"
      ]
     },
     "execution_count": 20,
     "metadata": {},
     "output_type": "execute_result"
    }
   ],
   "source": [
    "# have we discussed merge before?\n",
    "# Merge Ret (monthly return) with RV (realized variance and weights)\n",
    "df=RV.merge(Ret,how='left',left_index=True,right_index=True)\n",
    "df.tail()"
   ]
  },
  {
   "cell_type": "markdown",
   "metadata": {
    "colab_type": "text",
    "id": "vpv3v8SWBS4n"
   },
   "source": [
    "## **Construct strategy returns**\n",
    "\n",
    "* Now to construct the strategy return recall that we use the relaized variance in month t to buy the market at the closing of month t and earn the return accrued in month t+1\n",
    "\n",
    "* So we need to lag our weights, or lead the returns\n",
    "\n",
    "* I will call the strategy as $\\textbf{VMS}$ (Volatility Managed Strategy)"
   ]
  },
  {
   "cell_type": "code",
   "execution_count": 21,
   "metadata": {},
   "outputs": [
    {
     "data": {
      "text/plain": [
       "date\n",
       "2020-08-31    0.435234\n",
       "2020-09-30    1.323402\n",
       "2020-10-31    0.139017\n",
       "2020-11-30    0.206066\n",
       "2020-12-31    0.353568\n",
       "Name: Weight, dtype: float64"
      ]
     },
     "execution_count": 21,
     "metadata": {},
     "output_type": "execute_result"
    }
   ],
   "source": [
    "# compare with the weight before . It simply shifts the weght from month t to month t+1\n",
    "df.Weight.shift(1).tail()"
   ]
  },
  {
   "cell_type": "code",
   "execution_count": 26,
   "metadata": {
    "colab": {},
    "colab_type": "code",
    "id": "xV9b36kqBS4o"
   },
   "outputs": [],
   "source": [
    "# now construct the return of the strategy\n",
    "df['VMS']=df.Weight.shift(1)*df.vwretd+(1-df.Weight.shift(1))*df.rf"
   ]
  },
  {
   "cell_type": "markdown",
   "metadata": {},
   "source": [
    "We can see the cumulative returns of the market and the volatility managed strategy"
   ]
  },
  {
   "cell_type": "code",
   "execution_count": 28,
   "metadata": {
    "colab": {
     "base_uri": "https://localhost:8080/",
     "height": 280
    },
    "colab_type": "code",
    "executionInfo": {
     "elapsed": 999,
     "status": "ok",
     "timestamp": 1576899072935,
     "user": {
      "displayName": "yuchi yao",
      "photoUrl": "",
      "userId": "00457884373990713813"
     },
     "user_tz": 300
    },
    "id": "PJmTSH60BS4s",
    "outputId": "54c488ea-d69b-43c9-a2d6-d1498863780e"
   },
   "outputs": [
    {
     "data": {
      "text/plain": [
       "<AxesSubplot:xlabel='date'>"
      ]
     },
     "execution_count": 28,
     "metadata": {},
     "output_type": "execute_result"
    },
    {
     "data": {
      "image/png": "[encoded data removed]",
      "text/plain": [
       "<Figure size 432x288 with 1 Axes>"
      ]
     },
     "metadata": {
      "needs_background": "light"
     },
     "output_type": "display_data"
    }
   ],
   "source": [
    "(df[['vwretd','VMS']]+1).cumprod().plot(logy=True)\n"
   ]
  },
  {
   "cell_type": "markdown",
   "metadata": {},
   "source": [
    "**Volatility is more stable**\n",
    "\n"
   ]
  },
  {
   "cell_type": "code",
   "execution_count": 35,
   "metadata": {},
   "outputs": [
    {
     "data": {
      "text/plain": [
       "<AxesSubplot:xlabel='date'>"
      ]
     },
     "execution_count": 35,
     "metadata": {},
     "output_type": "execute_result"
    },
    {
     "data": {
      "image/png": "[encoded data removed]",
      "text/plain": [
       "<Figure size 432x288 with 1 Axes>"
      ]
     },
     "metadata": {
      "needs_background": "light"
     },
     "output_type": "display_data"
    }
   ],
   "source": [
    "df[['vwretd','VMS']].rolling(window=24).var().plot()"
   ]
  },
  {
   "cell_type": "markdown",
   "metadata": {},
   "source": [
    "**Average returns**"
   ]
  },
  {
   "cell_type": "code",
   "execution_count": 36,
   "metadata": {},
   "outputs": [
    {
     "data": {
      "text/plain": [
       "<AxesSubplot:xlabel='date'>"
      ]
     },
     "execution_count": 36,
     "metadata": {},
     "output_type": "execute_result"
    },
    {
     "data": {
      "image/png": "[encoded data removed]",
      "text/plain": [
       "<Figure size 432x288 with 1 Axes>"
      ]
     },
     "metadata": {
      "needs_background": "light"
     },
     "output_type": "display_data"
    }
   ],
   "source": [
    "df[['vwretd','VMS']].rolling(window=24).mean().plot()"
   ]
  },
  {
   "cell_type": "markdown",
   "metadata": {
    "colab_type": "text",
    "id": "QcbR-rgnBS4y"
   },
   "source": [
    "**Sharpe ratio**\n",
    "\n",
    "The VMS strategy ends up with a 20% higher Sharpe Ratio"
   ]
  },
  {
   "cell_type": "code",
   "execution_count": 31,
   "metadata": {
    "colab": {
     "base_uri": "https://localhost:8080/",
     "height": 68
    },
    "colab_type": "code",
    "executionInfo": {
     "elapsed": 357,
     "status": "ok",
     "timestamp": 1576899140898,
     "user": {
      "displayName": "yuchi yao",
      "photoUrl": "",
      "userId": "00457884373990713813"
     },
     "user_tz": 300
    },
    "id": "1_S4uHG5BS4z",
    "outputId": "d56bddd2-be7e-497c-bea6-01e744e3cb16"
   },
   "outputs": [
    {
     "data": {
      "text/plain": [
       "vwretd    0.431226\n",
       "VMS       0.513687\n",
       "dtype: float64"
      ]
     },
     "execution_count": 31,
     "metadata": {},
     "output_type": "execute_result"
    }
   ],
   "source": [
    "(df[['vwretd','VMS']].subtract(df.rf,axis=0).mean()/df[['vwretd','VMS']].std())*12**0.5"
   ]
  },
  {
   "cell_type": "markdown",
   "metadata": {
    "colab_type": "text",
    "id": "NK_6rrUHBS41"
   },
   "source": [
    "**Tail risk**\n",
    "\n",
    "The VMS bears substantially less tail risk as well\n",
    "\n",
    "We can look at the bottom 0.5% returns"
   ]
  },
  {
   "cell_type": "code",
   "execution_count": 33,
   "metadata": {
    "colab": {
     "base_uri": "https://localhost:8080/",
     "height": 68
    },
    "colab_type": "code",
    "executionInfo": {
     "elapsed": 697,
     "status": "ok",
     "timestamp": 1576899155354,
     "user": {
      "displayName": "yuchi yao",
      "photoUrl": "",
      "userId": "00457884373990713813"
     },
     "user_tz": 300
    },
    "id": "BpjI4hqqBS41",
    "outputId": "10e22c0c-4d98-44c9-a59f-e7ca382bfb7e"
   },
   "outputs": [
    {
     "data": {
      "text/plain": [
       "vwretd   -0.187543\n",
       "VMS      -0.133776\n",
       "Name: 0.005, dtype: float64"
      ]
     },
     "execution_count": 33,
     "metadata": {},
     "output_type": "execute_result"
    }
   ],
   "source": [
    "df[['vwretd','VMS']].quantile(q=0.005)"
   ]
  }
 ],
 "metadata": {
  "colab": {
   "collapsed_sections": [],
   "name": "Notebook 6.ipynb",
   "provenance": []
  },
  "kernelspec": {
   "display_name": "Python 3 (ipykernel)",
   "language": "python",
   "name": "python3"
  },
  "language_info": {
   "codemirror_mode": {
    "name": "ipython",
    "version": 3
   },
   "file_extension": ".py",
   "mimetype": "text/x-python",
   "name": "python",
   "nbconvert_exporter": "python",
   "pygments_lexer": "ipython3",
   "version": "3.9.12"
  }
 },
 "nbformat": 4,
 "nbformat_minor": 4
}
