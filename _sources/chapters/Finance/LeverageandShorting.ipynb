{
 "cells": [
  {
   "cell_type": "code",
   "execution_count": 164,
   "metadata": {
    "colab_type": "text",
    "id": "lDoLr2YkjO0z"
   },
   "outputs": [],
   "source": [
    "import numpy as np\n",
    "import pandas as pd\n",
    "%matplotlib inline\n",
    "import matplotlib.pyplot as plt\n",
    "# import regression package\n"
   ]
  },
  {
   "cell_type": "markdown",
   "metadata": {},
   "source": [
    "# Levering up and Shorting\n",
    "\n",
    "So far we wrote the portfolio return as simple product of weights and individual asset returns\n",
    "\n",
    "$$r^p=W R+(1-\\sum_i^I w_{i})r^f$$\n",
    "\n",
    "where $R$ is a a vector of riksy asset returns.\n",
    "\n",
    "And $W=[w_1,w_2,...w_I]$ is a vector of asset weights\n",
    "\n",
    "In practice things are not quite as simple. \n",
    "\n",
    "When $(1-\\sum_i^Iw_i)\\in[0,1]$ you have a postive fraction of your portfolio in the risk-free asset. \n",
    "\n",
    "In this case you earn something close to the 3 month t-bill rate. \n",
    "\n",
    "**Leverage**\n",
    "\n",
    "\n",
    "When $(1-\\sum_i^Iw_i)<0$ you have a negative weight on the risk-free asset. \n",
    "\n",
    "This means that you are borowing money to invest more in the risky assets, mechanically $\\sum_i^Iw_i>1$. \n",
    "\n",
    "What happens in this case?\n",
    "\n",
    "* No one will lend you money at the same rate the US gov get to borrow! They get to borrow at the lowest USD rates out there!\n",
    "* here are the [lending rates of a big retail broker](https://www.interactivebrokers.com/en/index.php?f=46376)\n",
    "* Here is snapshot from May/2021\n",
    "\n",
    "![image.png](../../assets/plots/leverageandshorting1.jpg)\n",
    "\n",
    "* The structure of the rate is the following\n",
    "\n",
    "$$r^b=r^{benchmark}+spread$$\n",
    "\n",
    "* The benchmark is something that is very close to the treasury rate\n",
    "\n",
    "\n",
    "* Here what your portfolio return looks like\n",
    "\n",
    "$$r^p=W_tR+\\max(1-\\sum_i^Iw_i,0)r^f+\\min(1-\\sum_i^Iw_i,0)r^b$$\n",
    "\n",
    "* so you earn rf is weight on the rf is positive, but pay rb if the weight is negative. Can rewrite as\n",
    "\n",
    "$$r^p=W_tR+(1-\\sum_i^Iw_i)r^f+\\min(1-\\sum_i^Iw_i,0)spread$$\n",
    "\n",
    "\n",
    "* so the spread compensate the broker for the risk it bears when it lends to you instead of lending to the US government\n",
    "\n",
    "* The broker when it lends to you ask the loan to be backed/collaterized by the assets in your portfolio (just like a house backs a mortgage)\n",
    "\n",
    "* this mean there will be a limit on your leverage. Typically this takes the following form \n",
    "\n",
    "   - $\\sum_i^Iw_i\\leq 1/m_{initial}$ and $\\sum_i^Iw_i<1/m_{maintenance}$ with  $1/m_{maintenance}>1/m_{initial}$\n",
    "   \n",
    "   - For US retail investors $m_{initial}=0.5$ and $m_{maintenance}$ varies a bit\n",
    "   \n",
    "* margin is exactly the inverse of gross leverage. When m=1, your gross leverage is 1/m=1 which means you cannot borrow anything\n",
    "\n",
    "* in this case for each dollar you have invested you have to put exactyl one dollar in.\n",
    "\n",
    "* when margin is 0.5, it means that your gross leverage is 1/0.5=2, which means that for each dollar you have you can buy 2 dollars in risky assets\n",
    "\n",
    "* so the bank lends to you another dollar for each dollar you put it\n",
    "\n",
    "* here is for a US retial broker. Focus on the top row, 50% initial , 30% maintenance, which translates to 1/0.5=2 initial leverage and 1/0.3=2.33 maintenance leverage  \n",
    "\n",
    "![image.png](../../assets/plots/leverageandshorting2.jpg)\n",
    "   \n",
    "**Example**\n",
    "\n",
    "lets say  $m_{initial}=0.5$ and $m_{maintenance}=0.3$. Say you have 100k in your brokerage account and you can buy up to 200K in stocks. The broker lends to you 100k and hold the whole 200k in assets as protection. The value of your networth is still 100k. 200k in stocks -100k in the risk-free asset. For simplicity lets assume the risk-free rate is zero in this example.\n",
    "\n",
    "  * Say your risk portfolio drops 30%, what is yout networth? risky portfolio 200*(-0.3+1)=140k, minus the 100k, you are now worth 140-100=40\n",
    "  * This should not be surprising: You must absorb the entire loss\n",
    "  * What is you risk-asset weight and how much you are borrowing as fraction of your worth?"
   ]
  },
  {
   "cell_type": "code",
   "execution_count": 165,
   "metadata": {},
   "outputs": [
    {
     "data": {
      "text/plain": [
       "(2.0, 1.0)"
      ]
     },
     "execution_count": 165,
     "metadata": {},
     "output_type": "execute_result"
    }
   ],
   "source": [
    "(200/100,100/100)"
   ]
  },
  {
   "cell_type": "code",
   "execution_count": 166,
   "metadata": {},
   "outputs": [
    {
     "data": {
      "text/plain": [
       "(3.5, 2.5)"
      ]
     },
     "execution_count": 166,
     "metadata": {},
     "output_type": "execute_result"
    }
   ],
   "source": [
    "(140/40,100/40)\n"
   ]
  },
  {
   "cell_type": "code",
   "execution_count": 168,
   "metadata": {},
   "outputs": [
    {
     "data": {
      "text/plain": [
       "0.2857142857142857"
      ]
     },
     "execution_count": 168,
     "metadata": {},
     "output_type": "execute_result"
    }
   ],
   "source": [
    "40/140"
   ]
  },
  {
   "cell_type": "markdown",
   "metadata": {},
   "source": [
    "  * your leverage went from 2 to 3.5\n",
    "  * You now have only 40/140=28% on marign\n",
    "  * you are violating the maintenance constraint, which is 30%. What happens now?\n",
    "  * your prime broker will ask for cash so you get back to 30% \n",
    "  * To keep your 140 position you need to have 140\\*0.3=42 networth so you need to inject 42-40=2k. \n"
   ]
  },
  {
   "cell_type": "markdown",
   "metadata": {},
   "source": [
    "\n",
    "* What happens if you don't inject the cash in time? \n",
    "* You will simply reduce your position in the risky asset to get back to the limit\n",
    "* This means that margin have to come down to $0.3\\times x=40$ and therefore you have to sell 140-40/0.3=140-133=7k  of your risky asset position\n",
    "\n",
    "**Fire Sales**\n",
    "\n",
    "* If you don't do it your broker will certainly sell fro you and  might even liquidiate your entire position\n",
    "* for example, here is from a retail broker\n",
    "\n",
    "![image.png](../../assets/plots/leverageandshorting3.jpg)\n",
    "\n",
    "\n",
    "* When the position to be sold is large, this can lead to very sharp price movements\n",
    "\n",
    "* The dealers does not care at all about the price that he sells for as long he can get his money\n",
    "\n",
    "   - For example, back in March 2021 brokers liquidated a 21 billion dollar portfolio when the family office could not meet the margin call, i.e., the demand for cash. See, [inside-archegoss-epic-meltdown](https://www.wsj.com/articles/inside-archegoss-epic-meltdown-11617323530)\n",
    "  \n",
    "\n",
    "**Other leverage constraints**\n",
    "\n",
    "* In futures market, swap markets, and option markets you can get implicit leverage, often substantially more than in the cash market\n",
    "\n",
    "* It will vary wildly from market to market and in OTC markets this will depend on the relationship you have with your broker\n",
    "\n",
    "* For example the Achelegos fund was leveraged 10 to 1, so for each 1 dollar o networth they had 10 dollars of risky assets\n",
    "\n",
    "* Often this leverage constraint is given by sometype of risk-management at the portfolio level\n",
    "\n",
    "* For example, it is typical to make the amount of margin  that you have to post depend on your portfolio volatility\n",
    "\n",
    "$$m\\geq \\overline{m}+c\\sigma(r_p)$$\n",
    "\n",
    "* This means that if volatilitiy goes up at the same time as your assets go down in value you face demand for cash both from your losses buy also from an increase in the margin you need to sustain your trade\n",
    "\n",
    "\n"
   ]
  },
  {
   "cell_type": "markdown",
   "metadata": {},
   "source": [
    "## **Aplication: All in on Tesla**\n",
    "\n",
    "Jackie is a complete believer on Tesla and decide to invest all her savings, 1 Million dollars on Tesla in early 2017, and lever up to the maximum allowed by it's broker to 2 (inital margin 0.5), so a total position of 2 million dollars that she commited to stick with it. \n",
    "\n",
    "The broker changed 1% on top of the tbill rate which was at zero.\n",
    "\n",
    "The broker made clear that a fraction of the tesla shares would have to sold everytime leverage went above 1/0.3, i.e. a maintenance margin of 0.3 . The amount sold would have to bring the account margin back to 0.3.\n",
    "\n",
    "We will now do a for loop that simulates the dealer margin re-balancing strategy"
   ]
  },
  {
   "cell_type": "code",
   "execution_count": 169,
   "metadata": {},
   "outputs": [],
   "source": [
    "import pandas_datareader.data as web\n",
    "import datetime as dt\n",
    "df= web.DataReader(\"TSLA\", \"av-daily\", start=dt.datetime(2017, 1, 2),\n",
    "                      end=dt.datetime(2020, 8, 1),\n",
    "                     api_key='N78MZQUK4ZCDUABU')\n",
    "df.index=pd.to_datetime(df.index)\n"
   ]
  },
  {
   "cell_type": "code",
   "execution_count": 170,
   "metadata": {},
   "outputs": [
    {
     "data": {
      "text/html": [
       "<div>\n",
       "<style scoped>\n",
       "    .dataframe tbody tr th:only-of-type {\n",
       "        vertical-align: middle;\n",
       "    }\n",
       "\n",
       "    .dataframe tbody tr th {\n",
       "        vertical-align: top;\n",
       "    }\n",
       "\n",
       "    .dataframe thead th {\n",
       "        text-align: right;\n",
       "    }\n",
       "</style>\n",
       "<table border=\"1\" class=\"dataframe\">\n",
       "  <thead>\n",
       "    <tr style=\"text-align: right;\">\n",
       "      <th></th>\n",
       "      <th>return</th>\n",
       "    </tr>\n",
       "  </thead>\n",
       "  <tbody>\n",
       "    <tr>\n",
       "      <th>2017-01-03</th>\n",
       "      <td>NaN</td>\n",
       "    </tr>\n",
       "    <tr>\n",
       "      <th>2017-01-04</th>\n",
       "      <td>0.046085</td>\n",
       "    </tr>\n",
       "    <tr>\n",
       "      <th>2017-01-05</th>\n",
       "      <td>-0.001057</td>\n",
       "    </tr>\n",
       "    <tr>\n",
       "      <th>2017-01-06</th>\n",
       "      <td>0.009967</td>\n",
       "    </tr>\n",
       "    <tr>\n",
       "      <th>2017-01-09</th>\n",
       "      <td>0.009912</td>\n",
       "    </tr>\n",
       "    <tr>\n",
       "      <th>...</th>\n",
       "      <td>...</td>\n",
       "    </tr>\n",
       "    <tr>\n",
       "      <th>2020-07-27</th>\n",
       "      <td>0.086521</td>\n",
       "    </tr>\n",
       "    <tr>\n",
       "      <th>2020-07-28</th>\n",
       "      <td>-0.040991</td>\n",
       "    </tr>\n",
       "    <tr>\n",
       "      <th>2020-07-29</th>\n",
       "      <td>0.015320</td>\n",
       "    </tr>\n",
       "    <tr>\n",
       "      <th>2020-07-30</th>\n",
       "      <td>-0.007751</td>\n",
       "    </tr>\n",
       "    <tr>\n",
       "      <th>2020-07-31</th>\n",
       "      <td>-0.038138</td>\n",
       "    </tr>\n",
       "  </tbody>\n",
       "</table>\n",
       "<p>901 rows × 1 columns</p>\n",
       "</div>"
      ],
      "text/plain": [
       "              return\n",
       "2017-01-03       NaN\n",
       "2017-01-04  0.046085\n",
       "2017-01-05 -0.001057\n",
       "2017-01-06  0.009967\n",
       "2017-01-09  0.009912\n",
       "...              ...\n",
       "2020-07-27  0.086521\n",
       "2020-07-28 -0.040991\n",
       "2020-07-29  0.015320\n",
       "2020-07-30 -0.007751\n",
       "2020-07-31 -0.038138\n",
       "\n",
       "[901 rows x 1 columns]"
      ]
     },
     "execution_count": 170,
     "metadata": {},
     "output_type": "execute_result"
    }
   ],
   "source": [
    "# construct close to close returns from price changes\n",
    "df['return']=df['close'].pct_change()\n",
    "df=df[['return']]\n",
    "\n",
    "df"
   ]
  },
  {
   "cell_type": "code",
   "execution_count": 175,
   "metadata": {},
   "outputs": [
    {
     "name": "stdout",
     "output_type": "stream",
     "text": [
      "                Risky       Safe\n",
      "2017-01-03  2000000.0 -1000000.0\n",
      "[1706622.4249965441, -1024297.959301626]\n",
      "[1705811.1642372953, -1024297.959301626]\n",
      "[1648784.9646983622, -1024338.6060460426]\n",
      "[1561115.8966307987, -1024338.6060460426]\n",
      "[1688730.1647634946, -1024379.2544034254]\n",
      "[1660877.275900173, -1024379.2544034254]\n",
      "[1686528.2214318959, -1024419.9043738381]\n",
      "[1655270.7926451443, -1024419.9043738381]\n"
     ]
    },
    {
     "data": {
      "text/html": [
       "<div>\n",
       "<style scoped>\n",
       "    .dataframe tbody tr th:only-of-type {\n",
       "        vertical-align: middle;\n",
       "    }\n",
       "\n",
       "    .dataframe tbody tr th {\n",
       "        vertical-align: top;\n",
       "    }\n",
       "\n",
       "    .dataframe thead th {\n",
       "        text-align: right;\n",
       "    }\n",
       "</style>\n",
       "<table border=\"1\" class=\"dataframe\">\n",
       "  <thead>\n",
       "    <tr style=\"text-align: right;\">\n",
       "      <th></th>\n",
       "      <th>Risky</th>\n",
       "      <th>Safe</th>\n",
       "    </tr>\n",
       "  </thead>\n",
       "  <tbody>\n",
       "    <tr>\n",
       "      <th>2017-01-03</th>\n",
       "      <td>2000000.0</td>\n",
       "      <td>-1000000.0</td>\n",
       "    </tr>\n",
       "    <tr>\n",
       "      <th>2017-01-04</th>\n",
       "      <td>2092170.14609</td>\n",
       "      <td>-1000039.68254</td>\n",
       "    </tr>\n",
       "    <tr>\n",
       "      <th>2017-01-05</th>\n",
       "      <td>2089958.062584</td>\n",
       "      <td>-1000079.366654</td>\n",
       "    </tr>\n",
       "    <tr>\n",
       "      <th>2017-01-06</th>\n",
       "      <td>2110788.5156</td>\n",
       "      <td>-1000119.052343</td>\n",
       "    </tr>\n",
       "    <tr>\n",
       "      <th>2017-01-09</th>\n",
       "      <td>2131711.138762</td>\n",
       "      <td>-1000158.739607</td>\n",
       "    </tr>\n",
       "    <tr>\n",
       "      <th>...</th>\n",
       "      <td>...</td>\n",
       "      <td>...</td>\n",
       "    </tr>\n",
       "    <tr>\n",
       "      <th>2020-07-27</th>\n",
       "      <td>12963298.806432</td>\n",
       "      <td>-1036194.481947</td>\n",
       "    </tr>\n",
       "    <tr>\n",
       "      <th>2020-07-28</th>\n",
       "      <td>12431918.066192</td>\n",
       "      <td>-1036235.600776</td>\n",
       "    </tr>\n",
       "    <tr>\n",
       "      <th>2020-07-29</th>\n",
       "      <td>12622376.509295</td>\n",
       "      <td>-1036276.721236</td>\n",
       "    </tr>\n",
       "    <tr>\n",
       "      <th>2020-07-30</th>\n",
       "      <td>12524537.114562</td>\n",
       "      <td>-1036317.843328</td>\n",
       "    </tr>\n",
       "    <tr>\n",
       "      <th>2020-07-31</th>\n",
       "      <td>12046875.422376</td>\n",
       "      <td>-1036358.967052</td>\n",
       "    </tr>\n",
       "  </tbody>\n",
       "</table>\n",
       "<p>901 rows × 2 columns</p>\n",
       "</div>"
      ],
      "text/plain": [
       "                      Risky            Safe\n",
       "2017-01-03        2000000.0      -1000000.0\n",
       "2017-01-04    2092170.14609  -1000039.68254\n",
       "2017-01-05   2089958.062584 -1000079.366654\n",
       "2017-01-06     2110788.5156 -1000119.052343\n",
       "2017-01-09   2131711.138762 -1000158.739607\n",
       "...                     ...             ...\n",
       "2020-07-27  12963298.806432 -1036194.481947\n",
       "2020-07-28  12431918.066192 -1036235.600776\n",
       "2020-07-29  12622376.509295 -1036276.721236\n",
       "2020-07-30  12524537.114562 -1036317.843328\n",
       "2020-07-31  12046875.422376 -1036358.967052\n",
       "\n",
       "[901 rows x 2 columns]"
      ]
     },
     "execution_count": 175,
     "metadata": {},
     "output_type": "execute_result"
    }
   ],
   "source": [
    "val=1_000_000 # inital portfolio value\n",
    "\n",
    "rl=0.01/252 #borrowing spread\n",
    "m_initial=0.5 # Initial margin\n",
    "m_maintenance=0.3 # maintenance/minimum margin\n",
    "pos_RiskyAsset=1/m_initial*val\n",
    "pos_SafeAsset=val-pos_RiskyAsset\n",
    "\n",
    "W=pd.DataFrame([],columns=['Risky','Safe']) # containet to store  portfolio overtime\n",
    "d=df.index[0]\n",
    "W.at[d,'Risky']=pos_RiskyAsset # position in Tesla at the start\n",
    "W.at[d,'Safe']=pos_SafeAsset\n",
    "print(W)\n",
    "\n",
    "\n",
    "for d in df.index[1:]:\n",
    "    returnRiskyAsset=float(df.loc[d].values)\n",
    "    pos_RiskyAsset=pos_RiskyAsset*(1+returnRiskyAsset)\n",
    "    pos_SafeAsset=pos_SafeAsset*(1+rl)\n",
    "    networth= pos_RiskyAsset+ pos_SafeAsset\n",
    "    if np.sum(networth)<0: # sum of w0 gives us the networth. IF that goes negative, trader goes banktrupt and it is liquidated\n",
    "        W.at[d,'Risky']=pos_RiskyAsset # position in Tesla at the start\n",
    "        W.at[d,'Safe']=pos_SafeAsset\n",
    "        break \n",
    "    if networth/pos_RiskyAsset<m_maintenance: # accoutn is in breach and trader has to rebalance (sell some stock to satisfy their position limits)\n",
    "        print([pos_RiskyAsset,pos_SafeAsset])\n",
    "        pos_RiskyAsset=networth*1/m_maintenance\n",
    "        post_SafeAsset=networth-pos_RiskyAsset\n",
    "        print([pos_RiskyAsset,pos_SafeAsset])\n",
    "        \n",
    "    W.at[d,'Risky']=pos_RiskyAsset \n",
    "    W.at[d,'Safe']=pos_SafeAsset\n",
    "W      "
   ]
  },
  {
   "cell_type": "code",
   "execution_count": 176,
   "metadata": {},
   "outputs": [
    {
     "data": {
      "text/plain": [
       "Text(0.5, 1.0, 'volatility')"
      ]
     },
     "execution_count": 176,
     "metadata": {},
     "output_type": "execute_result"
    },
    {
     "data": {
      "image/png": "[encoded data removed]",
      "text/plain": [
       "<Figure size 432x288 with 1 Axes>"
      ]
     },
     "metadata": {
      "needs_background": "light"
     },
     "output_type": "display_data"
    },
    {
     "data": {
      "image/png": "[encoded data removed]",
      "text/plain": [
       "<Figure size 432x288 with 1 Axes>"
      ]
     },
     "metadata": {
      "needs_background": "light"
     },
     "output_type": "display_data"
    },
    {
     "data": {
      "image/png": "[encoded data removed]",
      "text/plain": [
       "<Figure size 432x288 with 1 Axes>"
      ]
     },
     "metadata": {
      "needs_background": "light"
     },
     "output_type": "display_data"
    },
    {
     "data": {
      "image/png": "[encoded data removed]",
      "text/plain": [
       "<Figure size 432x288 with 1 Axes>"
      ]
     },
     "metadata": {
      "needs_background": "light"
     },
     "output_type": "display_data"
    },
    {
     "data": {
      "image/png": "[encoded data removed]",
      "text/plain": [
       "<Figure size 432x288 with 1 Axes>"
      ]
     },
     "metadata": {
      "needs_background": "light"
     },
     "output_type": "display_data"
    }
   ],
   "source": [
    "(W.sum(axis=1)/1e6).plot(logy=False)\n",
    "#(W['2017':'2020']['Asset']/1e6).plot(logy=False)\n",
    "plt.title('Networth')\n",
    "plt.figure()\n",
    "(W['Risky']/W.sum(axis=1)).plot()\n",
    "plt.title('Gross leverage')\n",
    "plt.figure()\n",
    "(W.sum(axis=1)/W['Risky']).plot()\n",
    "plt.title('margin')\n",
    "plt.figure()\n",
    "(W['Risky']/val).plot(logy=False)\n",
    "plt.title('Tesla position')\n",
    "\n",
    "plt.figure()\n",
    "((W.sum(axis=1)).pct_change().rolling(window=21).std()*252**0.5).plot()\n",
    "plt.title('volatility')"
   ]
  },
  {
   "cell_type": "markdown",
   "metadata": {},
   "source": [
    "## **Shorting**\n",
    "\n",
    "Shorting is conceptually very similar to leverage. \n",
    "\n",
    "You borrow an asset and pay some lending fee to borrow it (perhaps this fee will be zero if there is ample supply). \n",
    "\n",
    "And of course once you borrow you immediately sell and get the cash from the sale. The broker facilitating this transaction will typically ask you to  keep some margin in you account. \n",
    "\n",
    "We see in the top line of the margin requirement numbers that the margin requirements for shorting is set to 50% with the maintenance at 30%. \n",
    "\n",
    "So this says that you need to have 50% of the value of your short position to start the trade, but this can go down to up to 30%.\n",
    "\n",
    "* This means that if you have 1 million in cash you can short at most 2 million of apple stock \n",
    "\n",
    "* you actually earn interest on this 3 million, but pay the shorting fee $sf^i$ on the 2 million borrowed stock\n",
    "\n",
    "* here what your portfolio look like \n",
    "\n",
    "$$w\\times r^i+(1-w)r^f+\\min(w,0)sf^i$$\n",
    "\n",
    "* where inital margin constraint  implies that |w| has to be lower than 2.\n",
    "\n",
    "* and after the trade is initated is cannot go above 1/0.3\n",
    "\n",
    "**How does this work for a long-short trade?**\n",
    "\n",
    "Suppose you want a \"market netural trade where you buy 1M worth of different fintech stocks and short 1M worth of banks. How much capital do you need?\n",
    "\n",
    "* to initiate the long-trade you will need 500k, 50% margin on 1M position\n",
    "\n",
    "* same thing for the short position, you will need 500 to satisfy the 50% marging\n",
    "\n",
    "* in the end your portfolio looks like (+1M Fintech,-1M Banks, 1M treasuries)\n",
    "\n",
    "* your 1 Million dollar still earns the risk-free rate\n",
    "\n",
    "* for someone that can fund themselves at the risk-free rate-- or have money parked in treasuries anyways, the long-short is \"costless\" in terms of deployed capital\n",
    "\n",
    "* they don't need to change any of their allocation to accomodate the long-short trade\n",
    "\n",
    "* In practice most arbitrageurs have the bare minimum in treasuries and have a much higher cost of funding then treasuries\n",
    "\n",
    "**Shorting fees**\n",
    "\n",
    "* In the expression above $sf^i$ is the shorting fee you pay per period to short, which typically is quoted in annualized terms and can change briskly over time.\n",
    "\n",
    "* Here is a snapshort of the fee to borrow GME stock early this year (the borrowing rate is in red)\n",
    "\n",
    "![image.png](../../assets/plots/leverageandshorting4.jpg)\n",
    "\n",
    "\n",
    "\n",
    "* A full portfolio looks like \n",
    "\n",
    "$$\\sum_i^I w^i\\times r^i_t+(1-\\sum_i^I w^i)r^f_t+\\sum_i^I\\min(w^i,0)sf^i_t+\\min(1-\\sum_i^Iw_i,0)spread_t$$\n",
    "\n",
    "* Where $\\sum_i^I |w^i|\\leq 1/m_{initial}$"
   ]
  },
  {
   "cell_type": "markdown",
   "metadata": {},
   "source": [
    "**Application: Shorting GME**\n",
    "\n",
    "Now consider a big unconstraiend hedge fund that started shorting GME in March/2020 betting that COVID would drive GME into bankruptcy. \n",
    "\n",
    "Assumptions about how they  will trade\n",
    "\n",
    "1. they inject cash as nedded in the trade. \n",
    "\n",
    "2. We will then track their capital commited to the trade and their dollar \"P&L\" , i.e the dollars profits/losses of the trade.\n",
    "\n",
    "3. We will start assuming shorting fee is zero for simplicty\n",
    "\n",
    "4. We will start with capital of 1 million and inject capital as the bank demands capital, and cash out whenever my leverage goes down below the initial leverage limit"
   ]
  },
  {
   "cell_type": "code",
   "execution_count": 177,
   "metadata": {},
   "outputs": [
    {
     "data": {
      "text/plain": [
       "<AxesSubplot:>"
      ]
     },
     "execution_count": 177,
     "metadata": {},
     "output_type": "execute_result"
    },
    {
     "data": {
      "image/png": "[encoded data removed]",
      "text/plain": [
       "<Figure size 432x288 with 1 Axes>"
      ]
     },
     "metadata": {
      "needs_background": "light"
     },
     "output_type": "display_data"
    }
   ],
   "source": [
    "df= web.DataReader(\"GME\", \"av-daily\", start=dt.datetime(2017, 1, 2),\n",
    "                      end=dt.datetime(2021, 11, 1),\n",
    "                     api_key='N78MZQUK4ZCDUABU')\n",
    "df.index=pd.to_datetime(df.index)\n",
    "df['return']=df['close'].pct_change()\n",
    "df=df[['close','return']]\n",
    "\n",
    "df[:'2020-3'].close.plot()"
   ]
  },
  {
   "cell_type": "code",
   "execution_count": 178,
   "metadata": {},
   "outputs": [],
   "source": [
    "#Keep returns going forward (starting in april 2020)\n",
    "df=df.loc['2020-4':,['return']]"
   ]
  },
  {
   "cell_type": "code",
   "execution_count": 179,
   "metadata": {},
   "outputs": [
    {
     "data": {
      "text/html": [
       "<div>\n",
       "<style scoped>\n",
       "    .dataframe tbody tr th:only-of-type {\n",
       "        vertical-align: middle;\n",
       "    }\n",
       "\n",
       "    .dataframe tbody tr th {\n",
       "        vertical-align: top;\n",
       "    }\n",
       "\n",
       "    .dataframe thead th {\n",
       "        text-align: right;\n",
       "    }\n",
       "</style>\n",
       "<table border=\"1\" class=\"dataframe\">\n",
       "  <thead>\n",
       "    <tr style=\"text-align: right;\">\n",
       "      <th></th>\n",
       "      <th>return</th>\n",
       "    </tr>\n",
       "  </thead>\n",
       "  <tbody>\n",
       "    <tr>\n",
       "      <th>2020-04-01</th>\n",
       "      <td>-0.071429</td>\n",
       "    </tr>\n",
       "    <tr>\n",
       "      <th>2020-04-02</th>\n",
       "      <td>-0.123077</td>\n",
       "    </tr>\n",
       "    <tr>\n",
       "      <th>2020-04-03</th>\n",
       "      <td>-0.017544</td>\n",
       "    </tr>\n",
       "    <tr>\n",
       "      <th>2020-04-06</th>\n",
       "      <td>0.103571</td>\n",
       "    </tr>\n",
       "    <tr>\n",
       "      <th>2020-04-07</th>\n",
       "      <td>0.058252</td>\n",
       "    </tr>\n",
       "    <tr>\n",
       "      <th>...</th>\n",
       "      <td>...</td>\n",
       "    </tr>\n",
       "    <tr>\n",
       "      <th>2021-10-26</th>\n",
       "      <td>0.022245</td>\n",
       "    </tr>\n",
       "    <tr>\n",
       "      <th>2021-10-27</th>\n",
       "      <td>-0.024348</td>\n",
       "    </tr>\n",
       "    <tr>\n",
       "      <th>2021-10-28</th>\n",
       "      <td>0.053830</td>\n",
       "    </tr>\n",
       "    <tr>\n",
       "      <th>2021-10-29</th>\n",
       "      <td>0.003610</td>\n",
       "    </tr>\n",
       "    <tr>\n",
       "      <th>2021-11-01</th>\n",
       "      <td>0.090349</td>\n",
       "    </tr>\n",
       "  </tbody>\n",
       "</table>\n",
       "<p>401 rows × 1 columns</p>\n",
       "</div>"
      ],
      "text/plain": [
       "              return\n",
       "2020-04-01 -0.071429\n",
       "2020-04-02 -0.123077\n",
       "2020-04-03 -0.017544\n",
       "2020-04-06  0.103571\n",
       "2020-04-07  0.058252\n",
       "...              ...\n",
       "2021-10-26  0.022245\n",
       "2021-10-27 -0.024348\n",
       "2021-10-28  0.053830\n",
       "2021-10-29  0.003610\n",
       "2021-11-01  0.090349\n",
       "\n",
       "[401 rows x 1 columns]"
      ]
     },
     "execution_count": 179,
     "metadata": {},
     "output_type": "execute_result"
    }
   ],
   "source": [
    "df"
   ]
  },
  {
   "cell_type": "code",
   "execution_count": 182,
   "metadata": {},
   "outputs": [
    {
     "name": "stdout",
     "output_type": "stream",
     "text": [
      "                Risky       Safe    capital\n",
      "2020-04-01 -2000000.0  3000000.0  1000000.0\n"
     ]
    },
    {
     "data": {
      "text/html": [
       "<div>\n",
       "<style scoped>\n",
       "    .dataframe tbody tr th:only-of-type {\n",
       "        vertical-align: middle;\n",
       "    }\n",
       "\n",
       "    .dataframe tbody tr th {\n",
       "        vertical-align: top;\n",
       "    }\n",
       "\n",
       "    .dataframe thead th {\n",
       "        text-align: right;\n",
       "    }\n",
       "</style>\n",
       "<table border=\"1\" class=\"dataframe\">\n",
       "  <thead>\n",
       "    <tr style=\"text-align: right;\">\n",
       "      <th></th>\n",
       "      <th>Risky</th>\n",
       "      <th>Safe</th>\n",
       "      <th>capital</th>\n",
       "    </tr>\n",
       "  </thead>\n",
       "  <tbody>\n",
       "    <tr>\n",
       "      <th>2020-04-01</th>\n",
       "      <td>-2000000.0</td>\n",
       "      <td>3000000.0</td>\n",
       "      <td>1000000.0</td>\n",
       "    </tr>\n",
       "    <tr>\n",
       "      <th>2020-04-02</th>\n",
       "      <td>-1753846.153846</td>\n",
       "      <td>3000000.0</td>\n",
       "      <td>0.0</td>\n",
       "    </tr>\n",
       "    <tr>\n",
       "      <th>2020-04-03</th>\n",
       "      <td>-1723076.923077</td>\n",
       "      <td>3000000.0</td>\n",
       "      <td>0.0</td>\n",
       "    </tr>\n",
       "    <tr>\n",
       "      <th>2020-04-06</th>\n",
       "      <td>-1901538.461538</td>\n",
       "      <td>3000000.0</td>\n",
       "      <td>0.0</td>\n",
       "    </tr>\n",
       "    <tr>\n",
       "      <th>2020-04-07</th>\n",
       "      <td>-2012307.692308</td>\n",
       "      <td>3000000.0</td>\n",
       "      <td>0.0</td>\n",
       "    </tr>\n",
       "    <tr>\n",
       "      <th>...</th>\n",
       "      <td>...</td>\n",
       "      <td>...</td>\n",
       "      <td>...</td>\n",
       "    </tr>\n",
       "    <tr>\n",
       "      <th>2021-10-26</th>\n",
       "      <td>-109440000.0</td>\n",
       "      <td>299393230.769231</td>\n",
       "      <td>0.0</td>\n",
       "    </tr>\n",
       "    <tr>\n",
       "      <th>2021-10-27</th>\n",
       "      <td>-106775384.615385</td>\n",
       "      <td>299393230.769231</td>\n",
       "      <td>0.0</td>\n",
       "    </tr>\n",
       "    <tr>\n",
       "      <th>2021-10-28</th>\n",
       "      <td>-112523076.923077</td>\n",
       "      <td>299393230.769231</td>\n",
       "      <td>0.0</td>\n",
       "    </tr>\n",
       "    <tr>\n",
       "      <th>2021-10-29</th>\n",
       "      <td>-112929230.769231</td>\n",
       "      <td>299393230.769231</td>\n",
       "      <td>0.0</td>\n",
       "    </tr>\n",
       "    <tr>\n",
       "      <th>2021-11-01</th>\n",
       "      <td>-123132307.692308</td>\n",
       "      <td>299393230.769231</td>\n",
       "      <td>0.0</td>\n",
       "    </tr>\n",
       "  </tbody>\n",
       "</table>\n",
       "<p>401 rows × 3 columns</p>\n",
       "</div>"
      ],
      "text/plain": [
       "                       Risky              Safe    capital\n",
       "2020-04-01        -2000000.0         3000000.0  1000000.0\n",
       "2020-04-02   -1753846.153846         3000000.0        0.0\n",
       "2020-04-03   -1723076.923077         3000000.0        0.0\n",
       "2020-04-06   -1901538.461538         3000000.0        0.0\n",
       "2020-04-07   -2012307.692308         3000000.0        0.0\n",
       "...                      ...               ...        ...\n",
       "2021-10-26      -109440000.0  299393230.769231        0.0\n",
       "2021-10-27 -106775384.615385  299393230.769231        0.0\n",
       "2021-10-28 -112523076.923077  299393230.769231        0.0\n",
       "2021-10-29 -112929230.769231  299393230.769231        0.0\n",
       "2021-11-01 -123132307.692308  299393230.769231        0.0\n",
       "\n",
       "[401 rows x 3 columns]"
      ]
     },
     "execution_count": 182,
     "metadata": {},
     "output_type": "execute_result"
    }
   ],
   "source": [
    "val=1_000_000 # inital capital\n",
    "m_initial=0.5\n",
    "m_m_maintenance=0.3\n",
    "sf=0/252# shorting fee\n",
    "rf=0/252 # tbill\n",
    "pos_RiskyAsset=-1/m_initial*val # it is negative becasue you are shorting!\n",
    "pos_SafeAsset=val-pos_RiskyAsset\n",
    "\n",
    "W=pd.DataFrame([],columns=['Risky','Safe']) # containet to store  portfolio overtime\n",
    "d=df.index[0]\n",
    "W.at[d,'Risky']=pos_RiskyAsset # position in Tesla at the start\n",
    "W.at[d,'Safe']=pos_SafeAsset\n",
    "W.at[d,'injected capital']=val\n",
    "print(W)\n",
    "\n",
    "for d in df.index[1:]:\n",
    "    pos_SafeAsset=pos_SafeAsset*(1+rf)+pos_RiskyAsset*sf\n",
    "    returnRiskyAsset=float(df.loc[d].values)\n",
    "    pos_RiskyAsset=pos_RiskyAsset*(1+returnRiskyAsset)\n",
    "    networth= pos_RiskyAsset+ pos_SafeAsset \n",
    "    W.at[d,'injected capital']=0\n",
    "    \n",
    "    \n",
    "    if networth/np.abs(pos_RiskyAsset)<m_maintenance: # if you breach the maintanece margim\n",
    "        neededcapital=(np.abs(pos_RiskyAsset)*m_maintenance-networth)\n",
    "        W.at[d,'injected capital']=neededcapital # how mcuh capital is injected in the trade\n",
    "        pos_SafeAsset=pos_SafeAsset+neededcapital # change in the risk-free positions\n",
    "  \n",
    "    W.at[d,'Risky']=pos_RiskyAsset # position in Tesla at the start\n",
    "    W.at[d,'Safe']=pos_SafeAsset\n",
    "W"
   ]
  },
  {
   "cell_type": "code",
   "execution_count": 181,
   "metadata": {},
   "outputs": [
    {
     "data": {
      "text/plain": [
       "0.8999999999999999"
      ]
     },
     "execution_count": 181,
     "metadata": {},
     "output_type": "execute_result"
    }
   ],
   "source": [
    "3*0.3"
   ]
  },
  {
   "cell_type": "code",
   "execution_count": 183,
   "metadata": {},
   "outputs": [
    {
     "data": {
      "text/plain": [
       "Text(0.5, 1.0, 'vol')"
      ]
     },
     "execution_count": 183,
     "metadata": {},
     "output_type": "execute_result"
    },
    {
     "data": {
      "image/png": "[encoded data removed]",
      "text/plain": [
       "<Figure size 432x288 with 1 Axes>"
      ]
     },
     "metadata": {
      "needs_background": "light"
     },
     "output_type": "display_data"
    },
    {
     "data": {
      "image/png": "[encoded data removed]",
      "text/plain": [
       "<Figure size 432x288 with 1 Axes>"
      ]
     },
     "metadata": {
      "needs_background": "light"
     },
     "output_type": "display_data"
    },
    {
     "data": {
      "image/png": "[encoded data removed]",
      "text/plain": [
       "<Figure size 432x288 with 1 Axes>"
      ]
     },
     "metadata": {
      "needs_background": "light"
     },
     "output_type": "display_data"
    },
    {
     "data": {
      "image/png": "[encoded data removed]",
      "text/plain": [
       "<Figure size 432x288 with 1 Axes>"
      ]
     },
     "metadata": {
      "needs_background": "light"
     },
     "output_type": "display_data"
    }
   ],
   "source": [
    "(W.sum(axis=1)/val).subtract((W.capital/val).cumsum(),axis=0).plot(logy=False)\n",
    "#(W['2017':'2020']['Asset']/1e6).plot(logy=False)\n",
    "plt.title('P & L')\n",
    "plt.figure()\n",
    "(W.capital/val).plot(logy=False)\n",
    "#(W['2017':'2020']['Asset']/1e6).plot(logy=False)\n",
    "plt.title('Capital injections')\n",
    "\n",
    "plt.figure()\n",
    "(W.capital/val).cumsum().plot(logy=False)\n",
    "#(W['2017':'2020']['Asset']/1e6).plot(logy=False)\n",
    "plt.title('Capital')\n",
    "\n",
    "\n",
    "plt.figure()\n",
    "\n",
    "((W.sum(axis=1)).pct_change().rolling(window=21).std()*252**0.5).plot()\n",
    "plt.title('vol')"
   ]
  },
  {
   "cell_type": "markdown",
   "metadata": {},
   "source": [
    "Suppose you were a hedge fund with 200M capital, you placed a fairly small 1 million dollar trade. You were fully commited and thought you had the capital to support the trade \n",
    "\n",
    "By late january sustaining the trade required 300 million dollars! \n",
    "\n",
    "And this does not take into account the fact that margin requirements became much tighter due to the immense volatiltiy of GME stock in the period.\n",
    "\n",
    "* You can see above that the volatiltiy of the fund net position went to 1,200%!\n",
    "\n",
    "* As response to this retail brokers increase margin requirements on GME shorts to 300% (from 50%). So to sustain 1 dollar of a short position you need to put 3 dollars instead of 50 cents.\n",
    "\n",
    "* I am not sure what institutional brokers did, but likely they increased their leverage reuqirements too.\n",
    "\n",
    "* This implies required capital would increase 6 foldfold (from 0.5 to 3 initial margin) going from 300 million to 1.8 billion dollars!\n",
    "\n",
    "* 1.8 Billion dollars to sustain the 1 million dollars trade!\n",
    "\n",
    "\n",
    "\n"
   ]
  }
 ],
 "metadata": {
  "colab": {
   "collapsed_sections": [],
   "machine_shape": "hm",
   "provenance": [],
   "toc_visible": true
  },
  "kernelspec": {
   "display_name": "Python 3 (ipykernel)",
   "language": "python",
   "name": "python3"
  },
  "language_info": {
   "codemirror_mode": {
    "name": "ipython",
    "version": 3
   },
   "file_extension": ".py",
   "mimetype": "text/x-python",
   "name": "python",
   "nbconvert_exporter": "python",
   "pygments_lexer": "ipython3",
   "version": "3.9.12"
  }
 },
 "nbformat": 4,
 "nbformat_minor": 4
}
