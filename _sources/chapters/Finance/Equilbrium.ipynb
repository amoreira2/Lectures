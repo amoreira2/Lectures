{
 "cells": [
  {
   "cell_type": "markdown",
   "id": "administrative-supplement",
   "metadata": {},
   "source": [
    "# Interpretating  Factor models\n",
    "\n",
    "**The academic view**\n",
    "\n",
    "- Factor models are models that describe how risk is priced in the economy\n",
    "\n",
    "- When you test a model, i.e., run a time-series regression you are testing if that model describes the risk-return trade-off in the economy\n",
    "\n",
    "- This a simultaneous test of (1) the proposed model and (2) whether markets are efficient\n",
    "\n",
    "- What does market efficiency means?\n",
    "\n",
    "- When you find an alpha that is statistically different from zero, you either\n",
    "   \n",
    "   1. reject the model\n",
    "   2. reject that markets are efficient\n",
    "   3. Or both\n",
    "   \n",
    "**What you do with your portfolio really depends on what you believe**\n",
    "\n",
    "- If (2)--markets are inneficient-- then it is pretty clear what you should do. You should load on this \"anomaly\" because you believe that model describe how risk should be priced. So this alpha is mispricing. It is NOT a 100 dollar bill on the floor, becasue harvesting alpha is risky, but the higher the Appraisal ratio the more it * *looks* * like a 100 dollars bill. (An Arbitrage opportunity is the limit where this Appraisal ratio grows to infinity)\n",
    "    - In this (2) case you simply take into account the volatility and the comovement of the hedging portfolio with your portfolio\n",
    "\n",
    "- If (1) and you reject the model. Now it is not so clear what you should do. Because you do have a view on what the proper model of risk and return is. So you don't know if this alpha is proper compensation for risks that you dot know. You might investigate and add this hedged portfolio as a factor if you think it captures some dimensions of risks that are important and not captured by your original model \n",
    "     - For example there is tons of wealth that is not traded in the stock market: housing, private business,your human capital, firms that have not being born yet\n",
    "     - It can be capturing risks associated with the banking sector like financial crisis, which might not be fully reflected in the stock market\n",
    "     - The factor can be caputring exposure to such risks and therefore it is a much more subtle question of whether you think your appetite for this risk is higher that the price of it (the appraisal ratio)\n",
    "\n",
    "**So after an rejection you need to do a post-morten to understand if you are in (1) or (2) and if you are in (1) what exactly is the kind of risk you are talkign about**\n",
    "\n",
    "\n",
    "**The Practicioner view**\n",
    "\n",
    "- Factor models are used to describe invesestment strategies that are well known\n",
    "\n",
    "- Much less thought (incorrectly, imo) is given why these strategies work\n",
    "\n",
    "- For example: you add a value factor to your factor model (so a multi-factor model with  MKT and Value) not because you are taking a stand on the correct model, but simply to show that your strategy can add value even to someone that already has exposure to the market and the value factor. If your strategy has alpha, then you can claim that such investor can boost his Sharpe ratio by investing at least a bit in your strategy. The CAPM alpha by itself only answers this question for someone that has only an allocation to the market.\n",
    "\n",
    "- So factors are used as a way to \"summarize\" some general risk-return feaures of the stock market (or any asset market), and by using these set of factors as \"benchmarks\" you can cleanly show your value added.\n",
    "\n",
    "- The good practioner must have an understanding of where this alpha come from\n",
    "\n",
    "   - What are the mistakes that people are making?\n",
    "   - Why this persists?\n",
    "   - How would I be able to tell if this trade got \"crowded\" and will disappear going forward?\n",
    "   - Having a theory that is plausible and make sense is another way to guard agaisnt estiamtion uncertainty and data mining bias that we are always exposed to\n",
    "\n",
    "\n",
    "\n"
   ]
  },
  {
   "cell_type": "markdown",
   "id": "quantitative-award",
   "metadata": {
    "colab_type": "text",
    "id": "bzWl3blrhHrz"
   },
   "source": [
    "\n",
    "**Investors**\n",
    "\n",
    "But of course an investor must in the end take a stand on (1) vs (2). If a practiciner comes pitching a large alpha, then must be convinced that this is not fair compensation for some risk that he/she is unaware\n",
    "\n",
    "**Equilibrium thinking should be used to to guard against estimation uncertainty (the in-sample vs out-sample problem)**\n",
    "\n",
    "* Not everyone can invest in the higher expected return assets\n",
    "* If we were all to invest in the higher expected return assets, prices would go up and expected returns would go down\n",
    "* Imposing equilibrium– that is:\n",
    "  * Assume all investors in the world are choosing optimal portfolios, \n",
    "  * Then solve for the expected returns that make all the assets in the world be held\n",
    "  * This is imposing equilibrium: since all assets must be held, and investors must want to hold them\n",
    "  * Then expected returns have to adjust so everyone is happy and all assets are held\n",
    "      \n",
    "**Equilibrium in asset markets**\n",
    "\n",
    "* Fundamental Question: \n",
    "  >If everybody wants higher returns, why some assets earn higher average returns than others? Or why the tangency portfolio has larger positions in some assets than other assets?\n",
    "\n",
    "* Finance theory: because these assets have low returns in bad times\n",
    "  >What are bad times?\n",
    "  \n",
    "  >How much more extra expected return to experience low returns during bad times? \n",
    "\n",
    "\n",
    "**The general answer**\n",
    "\n",
    "* Investors' preferences, fears , and background risk exposures will aggregate to some notion of bad times\n",
    "\n",
    "* Assets that pay poorly during these periods will earn higher returns per unit of volatility, i.e. will have high Sharpe ratios and be in the tangency portfolio with a large weight\n",
    "\n",
    "* Assets that pay well during bad times, good hedges, will earn lower returns, possibly negative, and will be in the tangency portfolio with a negative weight\n",
    "\n",
    "* CAPM is a particular case of this general framework where the market return summarizes how bad the times are\n",
    "\n"
   ]
  },
  {
   "cell_type": "markdown",
   "id": "consolidated-elements",
   "metadata": {},
   "source": [
    "___________________________________"
   ]
  },
  {
   "cell_type": "markdown",
   "id": "pretty-baker",
   "metadata": {
    "colab_type": "text",
    "id": "cqiZCrUA-iWH"
   },
   "source": [
    "\n",
    "**Portfolio implications of the equilibrium view**\n",
    "\n",
    "* If you are like the average investor, you should simply hold the market portfolio\n",
    "\n",
    "* You deviate from holding the market only if you are different from the average investor\n",
    "\n",
    "* Examples with preferences:\n",
    "\n",
    "  * If you are more risk-averse than the average investor you should hold some safe bonds as well\n",
    "  * If you are more risk-tolerant you should borrow and invest more in the market than the average investor\n",
    "  \n",
    "* Example with \"Background risk\":(background risks are risks that investors are exposed to indepedently of their financial portfolio)\n",
    "\n",
    "   * If you work in the automobile industry and your skill set is highly specialized to automobiles, you are more exposed to the automobile industry risk than the average investor.\n",
    "   * Advice is to hold the market *after you hedge your automobile exposure*\n",
    "   * in practice this could be investing in the market portoflio while avoiding auto-indistry stocks (and other stocks that are strongly correlated with it)\n",
    "   \n",
    "* This logic extends to multiple-factors as well. \n",
    "   * So even if the CAPM does not work and you need addiitonal factors to explain differences in expected returns across assets, the equilbrium view still implies that if you are just like the average investors, you should simply hold the market portfolio.\n",
    "   * So you will tilt your portfolio to a high expected return factor only if you are less exposed to it than the average investor\n",
    "   * The intuition here is that this factor earns high returns relative to the CAPM because it earns fair compensation for risks that the average investors are exposed to"
   ]
  }
 ],
 "metadata": {
  "kernelspec": {
   "display_name": "Python 3",
   "language": "python",
   "name": "python3"
  },
  "language_info": {
   "codemirror_mode": {
    "name": "ipython",
    "version": 3
   },
   "file_extension": ".py",
   "mimetype": "text/x-python",
   "name": "python",
   "nbconvert_exporter": "python",
   "pygments_lexer": "ipython3",
   "version": "3.8.5"
  }
 },
 "nbformat": 4,
 "nbformat_minor": 5
}
