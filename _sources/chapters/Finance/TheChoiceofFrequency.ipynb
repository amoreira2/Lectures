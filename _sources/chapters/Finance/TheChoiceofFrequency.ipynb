{
 "cells": [
  {
   "cell_type": "code",
   "execution_count": 1,
   "metadata": {},
   "outputs": [],
   "source": [
    "# load libraries used in this notebook\n",
    "import pandas as pd\n",
    "import numpy as np\n",
    "import matplotlib.pyplot as plt\n",
    "%matplotlib inline"
   ]
  },
  {
   "cell_type": "code",
   "execution_count": 2,
   "metadata": {},
   "outputs": [],
   "source": [
    "# import data\n",
    "\n",
    "url=\"https://raw.githubusercontent.com/amoreira2/Lectures/main/assets/data/GlobalFinMonthly.csv\"\n",
    "Data = pd.read_csv(url,na_values=-99)\n",
    "Data['Date']=pd.to_datetime(Data['Date'])\n",
    "Data=Data.set_index(['Date'])"
   ]
  },
  {
   "cell_type": "markdown",
   "metadata": {
    "colab_type": "text",
    "id": "jG06FwWWySSa",
    "toc-hr-collapsed": true
   },
   "source": [
    "# The choice of frequency and Annualization of returns\n",
    "\n",
    "* Data is always structured at a particular frequency, daily, monthly...\n",
    "\n",
    "* For example, the data set \"Data\" that we have been working with is at the \"monthly\" frequency\n",
    "\n",
    "* So the returns there tell us what you would have earned if you bought a particular asset at the closing of the last trading day of the month (say 31 of January) and sold at the last trading day of the next month (28 of Ferbruary).\n",
    "\n",
    "* But this Frequency choice is entirely arbitrary since there are transactions happening at each milisecond\n",
    "\n",
    "* In this course we will work at monthly or daily frequency since that is what most practioners work with (exception of course for High Frequency trading funds)\n",
    "\n",
    "* It also keeps it managable--as you will quickly see that the data set can get very large once you go to higher frequencies\n",
    "\n",
    "* One could argue that monthly is too short. Most people have one year or even multiple year investment plans so maybe it makes sense to look at the data at lower frequecies. \n",
    "\n",
    "* There is merit to this view, but you end up with much less data, so harder to make conclusive statements\n",
    "\n",
    "* What we end up doing in the academic world and in the industry is to make out analaysis at monthly frquency, and we then extrapolate the results to yearly and so on.\n",
    "\n",
    "* Now we will discuss how to do that.\n",
    "\n",
    "* It is much easier to keep the units at the yearly frequency in your head. So we will be almost always *annualize* our results just to get intuition about what they mean"
   ]
  },
  {
   "cell_type": "markdown",
   "metadata": {
    "colab_type": "text",
    "id": "wZWoxYG7ySSa"
   },
   "source": [
    "**Standard annualization (the quick and dirty way)**\n",
    "\n",
    "* $\\hat{\\mu}_A=12\\times\\hat{\\mu}_M$\n",
    "* $\\hat{\\sigma}^2_A=12\\times\\hat{\\sigma}^2_M$\n",
    "* $\\hat{\\sigma}_A=\\sqrt{12}\\times\\hat{\\sigma}_M$\n",
    "\n",
    "\n",
    "\n",
    "* Formulas make sense if monthly returns are i.i.d. and a sum of monthly returns (e.g. log returns)\n",
    "\n",
    "* However, annual return are given by\n",
    "\n",
    "$$𝑅_𝐴=(1+𝑅_1 )(1+𝑅_2 )…(1+𝑅_{12})⁡−1$$\n",
    "\n",
    "* if returns were i.i.d, averages are\n",
    "\n",
    "$$\\mu_A=(1+\\mu_M)^{12}-1$$\n",
    "\n",
    "* and variances are uglier still,\n",
    "\n",
    "$$\\sigma_A^2=[\\sigma^2_M+(1+\\mu_M)^2]^{12}-(1+\\mu_M)^{24}$$\n",
    "\n",
    "* and this still ignores time-variation in volatility, auto-correlations..\n"
   ]
  },
  {
   "cell_type": "markdown",
   "metadata": {
    "colab_type": "text",
    "id": "mGaV8Od7apSi"
   },
   "source": [
    "**However, we will always use the standard annualization**\n",
    "\n",
    "* $\\hat{\\mu}_A=12\\times\\hat{\\mu}_M$\n",
    "* $\\hat{\\sigma}^2_A=12\\times\\hat{\\sigma}^2_M$\n",
    "* $\\hat{\\sigma}_A=\\sqrt{12}\\times\\hat{\\sigma}_M$\n"
   ]
  },
  {
   "cell_type": "code",
   "execution_count": 3,
   "metadata": {
    "colab": {
     "base_uri": "https://localhost:8080/",
     "height": 34
    },
    "colab_type": "code",
    "executionInfo": {
     "elapsed": 376,
     "status": "ok",
     "timestamp": 1576436253491,
     "user": {
      "displayName": "yuchi yao",
      "photoUrl": "",
      "userId": "00457884373990713813"
     },
     "user_tz": 300
    },
    "id": "eyo3OkhaySSb",
    "outputId": "5c38436e-5666-4342-bfe1-498a0ccf659a"
   },
   "outputs": [
    {
     "data": {
      "text/plain": [
       "0.10862132921174653"
      ]
     },
     "execution_count": 3,
     "metadata": {},
     "output_type": "execute_result"
    }
   ],
   "source": [
    "# simply multiply by number of months in a year\n",
    "Data.MKT.mean()*12"
   ]
  },
  {
   "cell_type": "code",
   "execution_count": 16,
   "metadata": {
    "colab": {
     "base_uri": "https://localhost:8080/",
     "height": 34
    },
    "colab_type": "code",
    "executionInfo": {
     "elapsed": 384,
     "status": "ok",
     "timestamp": 1576436256874,
     "user": {
      "displayName": "yuchi yao",
      "photoUrl": "",
      "userId": "00457884373990713813"
     },
     "user_tz": 300
    },
    "id": "A_xJKtaBySSc",
    "outputId": "3ca2135b-a0da-43a0-d083-6fdd3721baee"
   },
   "outputs": [
    {
     "data": {
      "text/plain": [
       "0.023235325364506825"
      ]
     },
     "execution_count": 16,
     "metadata": {},
     "output_type": "execute_result"
    }
   ],
   "source": [
    "# for standard deviation you multiply by the square root of number of periods since the varaince grows with T\n",
    "\n",
    "Data.MKT.var()*12"
   ]
  },
  {
   "cell_type": "code",
   "execution_count": 17,
   "metadata": {
    "colab": {
     "base_uri": "https://localhost:8080/",
     "height": 34
    },
    "colab_type": "code",
    "executionInfo": {
     "elapsed": 377,
     "status": "ok",
     "timestamp": 1576436269199,
     "user": {
      "displayName": "yuchi yao",
      "photoUrl": "",
      "userId": "00457884373990713813"
     },
     "user_tz": 300
    },
    "id": "br_kwTtwySSe",
    "outputId": "7e2df40a-13e7-4951-e907-4ae670a88455"
   },
   "outputs": [
    {
     "data": {
      "text/plain": [
       "0.15243137919899177"
      ]
     },
     "execution_count": 17,
     "metadata": {},
     "output_type": "execute_result"
    }
   ],
   "source": [
    "Data.MKT.std()*12**0.5"
   ]
  },
  {
   "cell_type": "markdown",
   "metadata": {
    "colab_type": "text",
    "id": "VyoDgLw0ySSf"
   },
   "source": [
    "**If it is wrong, why we will use it?**\n",
    "\n",
    "* Because it is the standard\n",
    "* good idea about annual magnitudes\n",
    "* allows you to compare across assets pretty well\n",
    "* easy to get t-stats from monthly data\n",
    "* ok if you don't compare returns across frequencies, i.e., use annual data for real estate, and monthly for stocks\n",
    "\n",
    "\n",
    "\n"
   ]
  },
  {
   "cell_type": "markdown",
   "metadata": {
    "colab_type": "text",
    "id": "xULtLOdsySSg",
    "tags": []
   },
   "source": [
    "\n",
    "## Changing the dataset frequency\n",
    "\n",
    "* Suppose that you don't want to do this approximation. What do you do?\n",
    "\n",
    "* You have to aggregate the monthly data set to the frequence of choice (say yearly)\n",
    "\n",
    "* This makes no assumptions and it is always correct\n",
    "\n",
    "* For that we will have to learn the `groupby' method\n",
    "\n",
    "* Conceptually, what do we need to do?\n",
    "\n",
    "- For every year we want to compute the cumulative returns\n",
    "\n",
    "$$r_{year}=\\prod_{t \\in year} (1+r_t)-1$$\n",
    "\n",
    "- In the end we want a table that looks like\n",
    "\n",
    "year|MKT...\n",
    "--|-\n",
    "1997|$r_{1997}$\n",
    "1998|$r_{1998}$\n",
    "1999|$r_{1999}$\n",
    "\n",
    "* We add 1 to the net return to transform it into a gross returns allowing us to compound it\n",
    "\n",
    "   - If you invest 1 in start of month 1 and the returns are 0.2 in month 1 and 0.1 in month 2, how many dollars do you have in the end of month 2? \n",
    "   \n",
    "   $$ \\$(1+r_1)(1+r_2)=1*(1+0.2)(1+0.1) $$\n",
    "   \n",
    "   - What was you net cumulative return between start of month 1 and end of month 2?\n",
    "   \n",
    "     $$ (1+r_1)(1+r_2)-1=1*(1+0.2)(1+0.1)-1 $$\n"
   ]
  },
  {
   "cell_type": "markdown",
   "metadata": {
    "colab_type": "text",
    "id": "qdLjSW0P9djt"
   },
   "source": [
    "* We then just need to compount all the mothly returns of a given year to obtain the yearly returns\n",
    "\n",
    "* Let's do it step by step:\n",
    "  * step 1: $(1+r_t)$\n",
    "    ```python\n",
    "    (Data+1)\n",
    "    ```\n",
    "  * step 2: group by year\n",
    "    ```python\n",
    "    (Data+1).groupby(Data.index.year)\n",
    "    ```\n",
    "  * step 3: gross return within each year using function `prod()`\n",
    "    ```python\n",
    "    (Data+1).groupby(Data.index.year).prod()\n",
    "    ```\n",
    "  * step 4: subtract 1 to get the net return\n",
    "    ```python\n",
    "    (Data+1).groupby(Data.index.year).prod()-1\n",
    "    ```\n",
    "\n",
    "The key here is the groupby method. This is a super useful method that we will use more later on\n",
    "\n",
    "For more on it, please look at https://amoreira2.github.io/quantitativeinvesting/chapters/pandas/groupby.html"
   ]
  },
  {
   "cell_type": "code",
   "execution_count": 18,
   "metadata": {
    "colab": {
     "base_uri": "https://localhost:8080/",
     "height": 85
    },
    "colab_type": "code",
    "executionInfo": {
     "elapsed": 369,
     "status": "ok",
     "timestamp": 1576437209230,
     "user": {
      "displayName": "yuchi yao",
      "photoUrl": "",
      "userId": "00457884373990713813"
     },
     "user_tz": 300
    },
    "id": "4fxJY04xySSg",
    "outputId": "7b53bb93-2936-4a5c-ed83-b619799bb5e8"
   },
   "outputs": [],
   "source": [
    "Datayear=(Data+1).groupby(Data.index.year).prod()-1\n",
    "\n"
   ]
  },
  {
   "cell_type": "code",
   "execution_count": 19,
   "metadata": {
    "colab": {
     "base_uri": "https://localhost:8080/",
     "height": 235
    },
    "colab_type": "code",
    "executionInfo": {
     "elapsed": 350,
     "status": "ok",
     "timestamp": 1576437214630,
     "user": {
      "displayName": "yuchi yao",
      "photoUrl": "",
      "userId": "00457884373990713813"
     },
     "user_tz": 300
    },
    "id": "EQ59KBWtySSh",
    "outputId": "6b2aeb17-0c5d-4642-f830-acf58ada6468"
   },
   "outputs": [
    {
     "data": {
      "text/html": [
       "<div>\n",
       "<style scoped>\n",
       "    .dataframe tbody tr th:only-of-type {\n",
       "        vertical-align: middle;\n",
       "    }\n",
       "\n",
       "    .dataframe tbody tr th {\n",
       "        vertical-align: top;\n",
       "    }\n",
       "\n",
       "    .dataframe thead th {\n",
       "        text-align: right;\n",
       "    }\n",
       "</style>\n",
       "<table border=\"1\" class=\"dataframe\">\n",
       "  <thead>\n",
       "    <tr style=\"text-align: right;\">\n",
       "      <th></th>\n",
       "      <th>RF</th>\n",
       "      <th>MKT</th>\n",
       "      <th>USA30yearGovBond</th>\n",
       "      <th>EmergingMarkets</th>\n",
       "      <th>WorldxUSA</th>\n",
       "      <th>WorldxUSAGovBond</th>\n",
       "    </tr>\n",
       "    <tr>\n",
       "      <th>Date</th>\n",
       "      <th></th>\n",
       "      <th></th>\n",
       "      <th></th>\n",
       "      <th></th>\n",
       "      <th></th>\n",
       "      <th></th>\n",
       "    </tr>\n",
       "  </thead>\n",
       "  <tbody>\n",
       "    <tr>\n",
       "      <th>1963</th>\n",
       "      <td>0.028564</td>\n",
       "      <td>0.150037</td>\n",
       "      <td>-0.000649</td>\n",
       "      <td>-0.030022</td>\n",
       "      <td>0.012480</td>\n",
       "      <td>0.029684</td>\n",
       "    </tr>\n",
       "    <tr>\n",
       "      <th>1964</th>\n",
       "      <td>0.035257</td>\n",
       "      <td>0.160619</td>\n",
       "      <td>0.044469</td>\n",
       "      <td>-0.062168</td>\n",
       "      <td>-0.034879</td>\n",
       "      <td>0.022714</td>\n",
       "    </tr>\n",
       "    <tr>\n",
       "      <th>1965</th>\n",
       "      <td>0.039186</td>\n",
       "      <td>0.144355</td>\n",
       "      <td>0.011539</td>\n",
       "      <td>0.100006</td>\n",
       "      <td>0.029518</td>\n",
       "      <td>0.030502</td>\n",
       "    </tr>\n",
       "    <tr>\n",
       "      <th>1966</th>\n",
       "      <td>0.047503</td>\n",
       "      <td>-0.087400</td>\n",
       "      <td>-0.020147</td>\n",
       "      <td>-0.033125</td>\n",
       "      <td>-0.109079</td>\n",
       "      <td>0.003024</td>\n",
       "    </tr>\n",
       "    <tr>\n",
       "      <th>1967</th>\n",
       "      <td>0.041986</td>\n",
       "      <td>0.286824</td>\n",
       "      <td>-0.070192</td>\n",
       "      <td>0.106930</td>\n",
       "      <td>0.134399</td>\n",
       "      <td>0.015742</td>\n",
       "    </tr>\n",
       "  </tbody>\n",
       "</table>\n",
       "</div>"
      ],
      "text/plain": [
       "            RF       MKT  USA30yearGovBond  EmergingMarkets  WorldxUSA  \\\n",
       "Date                                                                     \n",
       "1963  0.028564  0.150037         -0.000649        -0.030022   0.012480   \n",
       "1964  0.035257  0.160619          0.044469        -0.062168  -0.034879   \n",
       "1965  0.039186  0.144355          0.011539         0.100006   0.029518   \n",
       "1966  0.047503 -0.087400         -0.020147        -0.033125  -0.109079   \n",
       "1967  0.041986  0.286824         -0.070192         0.106930   0.134399   \n",
       "\n",
       "      WorldxUSAGovBond  \n",
       "Date                    \n",
       "1963          0.029684  \n",
       "1964          0.022714  \n",
       "1965          0.030502  \n",
       "1966          0.003024  \n",
       "1967          0.015742  "
      ]
     },
     "execution_count": 19,
     "metadata": {},
     "output_type": "execute_result"
    }
   ],
   "source": [
    "Datayear.head()"
   ]
  },
  {
   "cell_type": "code",
   "execution_count": 20,
   "metadata": {},
   "outputs": [
    {
     "data": {
      "text/plain": [
       "[0.1155945787163523,\n",
       " 0.10862132921174653,\n",
       " 0.17219331914550604,\n",
       " 0.15243137919899177]"
      ]
     },
     "execution_count": 20,
     "metadata": {},
     "output_type": "execute_result"
    }
   ],
   "source": [
    "# we could want to calculate the standard devition, the mean, the median, the min, the max, or even to apply some customized function\n",
    "# in our case all we need is the product\n",
    "\n",
    "[Datayear.MKT.mean(),Data.MKT.mean()*12,Datayear.MKT.std(),Data.MKT.std()*12**0.5]"
   ]
  },
  {
   "cell_type": "markdown",
   "metadata": {
    "colab_type": "text",
    "id": "nfLgYtuPySSj"
   },
   "source": [
    "- In problem set I will always ask you about annual numbers\n",
    "\n",
    "- You should always go for the quick and dirty annualization unless told otherwise"
   ]
  }
 ],
 "metadata": {
  "colab": {
   "collapsed_sections": [],
   "name": "Notebook 3.ipynb",
   "provenance": [],
   "toc_visible": true
  },
  "kernelspec": {
   "display_name": "Python 3 (ipykernel)",
   "language": "python",
   "name": "python3"
  },
  "language_info": {
   "codemirror_mode": {
    "name": "ipython",
    "version": 3
   },
   "file_extension": ".py",
   "mimetype": "text/x-python",
   "name": "python",
   "nbconvert_exporter": "python",
   "pygments_lexer": "ipython3",
   "version": "3.9.12"
  },
  "toc-autonumbering": true
 },
 "nbformat": 4,
 "nbformat_minor": 4
}
