{
 "cells": [
  {
   "cell_type": "code",
   "execution_count": null,
   "id": "7f647bca-fa49-4a53-af8c-3f6d7e3fb341",
   "metadata": {},
   "outputs": [],
   "source": [
    "df1=ds[0].stack()\n",
    "df2=ds[4].stack()\n",
    "df3=ds[5].stack()\n",
    "df1.name='returns'\n",
    "df2.name='nfirms'\n",
    "df3.name='size'\n",
    "df = pd.concat([df1,df2,df3], axis=1)\n",
    "df=df.reset_index()\n",
    "df=df.set_index('Date')\n",
    "df=(df).to_timestamp(how='E')\n",
    "df.rename(columns={'level_1':'industry'},inplace=True)\n",
    "df.index=df.index.date\n",
    "df.index.name='Date'\n",
    "df.to_csv('../../assets/data/49_Industry_Portfolios.csv')"
   ]
  }
 ],
 "metadata": {
  "kernelspec": {
   "display_name": "Python 3",
   "language": "python",
   "name": "python3"
  },
  "language_info": {
   "codemirror_mode": {
    "name": "ipython",
    "version": 3
   },
   "file_extension": ".py",
   "mimetype": "text/x-python",
   "name": "python",
   "nbconvert_exporter": "python",
   "pygments_lexer": "ipython3",
   "version": "3.8.5"
  }
 },
 "nbformat": 4,
 "nbformat_minor": 5
}
