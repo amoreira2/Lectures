{
 "cells": [
  {
   "cell_type": "code",
   "execution_count": 2,
   "metadata": {},
   "outputs": [],
   "source": [
    "import pandas as pd\n",
    "import numpy as np\n",
    "import matplotlib.pyplot as plt\n",
    "%matplotlib inline"
   ]
  },
  {
   "cell_type": "markdown",
   "metadata": {},
   "source": [
    "# Timing Strategies\n",
    "\n",
    "Timing strategies use some signal to change the exposure to a specific asset. So it goes between cash and the asset.\n",
    "\n",
    "The most classic timing strategies are motivated by a forecasting relation\n",
    "\n",
    "**Market Timing**\n",
    "\n",
    "For example this below is a very classic plot in finance.\n",
    "\n",
    "It shows the dividend-yield of the stock market overlayed with the future 7 year returns \n",
    "![MVfrontier](../../assets/plots/Timing1.jpg)\n",
    "\n",
    "It tell us that in this sample, periods when the dividend yield was high were periods were the returns were really high going forward\n",
    "\n",
    "This might be intuitive to you, but it is really a fact that puzzled lots of people and earned people a few Nobel Prizes.\n",
    "\n",
    "It tells us that when the price (per dividend) is low what actually happens is nto that the dividends go down going forward, but instead prices go up.\n",
    "\n",
    "So the EXPECTED returns to invest in the market change a lot overtime.\n",
    "\n",
    "A quantitative tradign strategy that exploits this would have weights that depend on the dividend yield signal.\n",
    "\n",
    "for example you would have a weight \n",
    "\n",
    "$$w_t=c(\\frac{d_t}{p_t})$$\n",
    "\n",
    "on the market excess return,so your strategy return is\n",
    "\n",
    "$$r_{t+1}^{mkttiming}=r_{f,t+1}+c\\times\\frac{d_t}{p_t}(r_{t+1}^{mkt}-r_{f,t+1})$$\n",
    "\n",
    "Where you would use c to control your average exposure to the market\n",
    "\n",
    "> This turn out not to work very well in practice because this predictability relation is not very stable. To get this nice relation you really neeed to look at very logn returns, but taht means that your sample is kind of small. (rouchly speaking in 35 year sample you only have 5 truly independent data points)"
   ]
  },
  {
   "cell_type": "markdown",
   "metadata": {
    "colab_type": "text",
    "id": "YnQret7OBS4N"
   },
   "source": [
    "\n",
    "\n",
    "\n",
    "First lets us go back to the mean-variance optimization framework that we studied before to get some intution\n",
    "\n",
    "**Theoretical intution**\n",
    "\n",
    "Lets consider the problem of this mean-variance investor that allocates between a risky asset (the market) and a risk-free asset. (For convenience the risky asset will already by an excess return, but that doesn't matter)\n",
    "\n",
    "$$\\max_{w_t} E_t[w_tr^e_{t+1} +rf_{t+1}]-\\frac{\\gamma}{2}Var_t(w_tr^e_{t+1} +rf_{t+1})$$\n",
    "\n",
    "The only difference from section 10 is that now it is only one risky asset, so this is particular case of that problem. You might recall how $\\gamma$ determined the sum of the weights there. \n",
    "\n",
    "In a sense it is all that we are solving for now. It is like we already decided what out risky protfolio looks like and we are jsut deciding how mcuh to invest in it.\n",
    "\n",
    "The other important differces is the `t` subscripts. What does that mean? It means that know you try to account for time-vriation in the distribution of returns.\n",
    "\n",
    "You only time an asset if this conditioanl expectations vary. Otherwise what is the point?\n",
    "\n",
    "The solution to this problem is super simple\n",
    "\n",
    "$$w_t=\\frac{E_t[r^e_{t+1}]}{\\gamma Var_t(r^e_{t+1})}$$\n",
    "\n",
    "So you invest proportionally to the risk-return trade-off\n",
    "\n",
    "$$\\frac{E_t[r^e_{t+1}]}{\\gamma Var_t(r^e_{t+1})}$$\n",
    "\n",
    "You invest more when you get a lot of premium per unit of risk.\n",
    "\n",
    "Empirically, this formula turns out to be quite robust to a whole variety of preferences and complciated enviroments/distributions\n",
    "\n",
    "The market timing strategy above ignores time-variaiton in risk completely (the denominator) and focus only on variaiton in the numerator. The other extreme is to ignore variaiton in expected returns and focus on variaiton in voaltiltiy which we can actually can do very well empirically.\n",
    "\n",
    "\n"
   ]
  },
  {
   "cell_type": "code",
   "execution_count": null,
   "metadata": {},
   "outputs": [],
   "source": []
  }
 ],
 "metadata": {
  "colab": {
   "collapsed_sections": [],
   "name": "Notebook 6.ipynb",
   "provenance": []
  },
  "kernelspec": {
   "display_name": "Python 3",
   "language": "python",
   "name": "python3"
  },
  "language_info": {
   "codemirror_mode": {
    "name": "ipython",
    "version": 3
   },
   "file_extension": ".py",
   "mimetype": "text/x-python",
   "name": "python",
   "nbconvert_exporter": "python",
   "pygments_lexer": "ipython3",
   "version": "3.8.5"
  }
 },
 "nbformat": 4,
 "nbformat_minor": 4
}
