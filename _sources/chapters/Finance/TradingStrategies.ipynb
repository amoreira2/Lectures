{
 "cells": [
  {
   "cell_type": "code",
   "execution_count": 1,
   "metadata": {},
   "outputs": [],
   "source": [
    "import pandas as pd\n",
    "import numpy as np\n",
    "import matplotlib.pyplot as plt\n",
    "%matplotlib inline\n",
    "#GlobalFinMonthly\n",
    "url=\"https://raw.githubusercontent.com/amoreira2/Lectures/main/assets/data/GlobalFinMonthly.csv\"\n",
    "Data = pd.read_csv(url,na_values=-99)\n",
    "Data['Date']=pd.to_datetime(Data['Date'])\n",
    "Data=Data.set_index(['Date'])\n",
    "Data=Data.rename(columns={Data.columns[1]: \"MKTUS\",Data.columns[2]: \"BondUS\",\n",
    "                          Data.columns[3]: \"EM\",Data.columns[4]: \"MKTxUS\",Data.columns[5]: \"BondxUS\" })\n",
    "Re=(Data.drop('RF',axis=1)).subtract(Data['RF'],axis='index')"
   ]
  },
  {
   "cell_type": "markdown",
   "metadata": {
    "colab_type": "text",
    "id": "O0JS4EMlBS35"
   },
   "source": [
    "# What is a trading strategy?\n",
    "\n",
    "* A trading strategy is a procedure that maps any information known up to time t, into a set of trading instructions for time  $T>t$.\n",
    "\n",
    "   - the mean-variance analysis we did so far was not a valid trading strategy: \n",
    "   - we used data of the whole sample to estimate the weights of our strategy and evaluated the strategy in the same sample\n",
    "\n",
    "* The weights of a trading strategy must either:\n",
    "   * Add up to 1. So it describes what you do with your entire capital.\n",
    "   * Or add up to 0. So the strategy is self-financing. For example, borrow 1 dollar at the risk-free rate and buy 1 dollar worth of the market portfolio\n",
    "   * Every time you trade on the excess returns, you can think of the weights \"adding up to zero\"\n",
    "\n",
    "* It is very important that the trading strategy only uses information that is known at the time of the trade, otherwise it is not a valid trading strategy-- you obviously cannot trade on info that you don't know\n",
    "\n",
    "* It is very important that you are clear about where the dollars that you invest come from, so that the weights can add up to 1 (if you have some capital) or zero (if the strategy is self-financed and demand zero capital).\n",
    "\n",
    "  * In practice all strategies demand capital as no bank allow us to borrow without putting some capital in, but these self financed strategies are quite convenient to work with as they are all in the \"Excess Return Space\" since they have zero cost. \n",
    "\n",
    "**Examples**\n",
    "\n",
    "* Example of a VALID trading strategy: Every monday buy stocks that had positive news coverage during the weekend and sell stocks that had negative news coverage.\n",
    "\n",
    "  * This is valid because you are trading after the information is known.\n",
    "\n",
    "* Example of INVALID trading strategy: On Friday buy all the stocks that WILL have positive news coverage during the weekend, and sell all the stocks that WILL have negative coverage during the weekend.\n",
    "\n",
    "   * This is Invalid because you are trading before the information is known.\n",
    "   \n",
    "* This might sound ridicolous. Obviously you can not trade on the information that is not known at the time of the trade!\n",
    "\n",
    "* But note that we will be \"simulating\" the trading process using HISTORICAL data, so we can easily get confused and use \"future\" information in the strategy construction process.\n",
    "\n",
    "   - In fact that was exactly what we did in our mean-variance analysis!\n",
    "\n"
   ]
  },
  {
   "cell_type": "markdown",
   "metadata": {},
   "source": [
    "**Types of trading strategies**\n",
    "\n",
    "- **Strategic allocation**: How you allocate across broad asset classes: Cash, Equities (US, Developed Markets, Emerging Markets), Government bonds (US, ...), Corporate bonds(US, ...), Commodities, Private equity, real assets (land,...)\n",
    "\n",
    "    -  The strategy takes positions on broader asset classes. For example pension funds tend to follow a 70-30 split between equity and bonds\n",
    "    -  An example is of this is the mean-variance anaylsis we did last few chapters.\n",
    "    -  We will revisit this here but now making the analysis more tight\n",
    "    -  Another example is RISK-PARITY which we will discuss later \n",
    "    \n",
    "\n",
    "- **Timing**: Easier to think in terms of one risky asset and cash. The strategy basically goes in and out of an asset according to some model that forecasts time-variaiton either in returns of the risky asset realitve to cash or in it's riskness\n",
    "\n",
    "    - You obvioulsy can time multiple things at the same time, but it is useful separation to help understand what the strategy is doing\n",
    "    \n",
    "- **Cross-sectional** (within asset class): This is about how you invest within an asset class. The \"defaul\" option is to do a market-cap weighted portfolio which we will discuss below. The cross-sectional strategies use some information to deviate from the market portfolio in the asset class\n",
    "\n",
    "    - The are cross-sectional strategies everywhere: equities, gov bonds, corp bonds, futures, equity indexes, currencies, commodities, options, crypto currrencies\n",
    "    - All these asset classes have lots of data and are naturally a good place to do quantitative investing\n",
    "    - For this class we focus on equities"
   ]
  },
  {
   "cell_type": "markdown",
   "metadata": {
    "colab_type": "text",
    "id": "XjWiisGsU9ka"
   },
   "source": [
    "\n",
    "## **Quantitative trading strategies**\n",
    "\n",
    "* In this class we will focus on quantitative trading strategies. \n",
    "\n",
    "* Stragies that get some hard data about one or multiple assets and transform this data \"mechanically\"  into  portfolio weights\n",
    "\n",
    "* So given data $X_{t}$, a quatitative trading strategy is a function that maps data into weights $W_{t+1}=f(X_t)$\n",
    "\n",
    "\n",
    "## **Our First Quantitative Strategy**\n",
    "\n",
    "Our MV optimization was quantitative but it would be only a valid strategy if we used Other data to evaluate it.\n",
    " \n",
    "So one option would be to wait for new data to evaluate. \n",
    " \n",
    "Here what we will do: do the mean-variance analysis assuming I am an investor that is doing this in real time\n",
    "\n",
    "- so I will say the investor will start in 1973, 10 years after the beggining of the sample \n",
    "- simply use the past data to estimate the means and covariances,\n",
    "- compute the weights and invest on the assets according to this strategy for the next month.\n",
    " \n",
    "I will do that for the entire sample.\n",
    " \n",
    "This will be valid because at no moment I will use information that an investor would not have had available in real time. \n",
    "\n",
    "___\n",
    "*An aside*\n",
    "\n",
    "It is also valid in another conceputal sense: Markowitz dissertation was published in 1954, so in 73 we would know how to use these techiniques. This sounds strange, but this type of validity is important for example when we evaluate trading strategies associated with published papers. When we look back in the sample before the paper existed in some way we are endowing the information that he didn't have even if he might have the informaation that he needs to construc the trading signals\n",
    "____\n",
    "\n",
    "We will construct a portolio that in tagency in the estimating sample and in the estimation sample has a volatility of 15%.\n",
    "\n",
    "We will start by using just the first 10 years and evalauting on the rest of the sample as a warm up (because it is simpler)\n"
   ]
  },
  {
   "cell_type": "code",
   "execution_count": 9,
   "metadata": {},
   "outputs": [
    {
     "data": {
      "text/plain": [
       "MKTUS      0.152891\n",
       "BondUS     0.121331\n",
       "EM         0.206581\n",
       "MKTxUS     0.161802\n",
       "BondxUS    0.069854\n",
       "dtype: float64"
      ]
     },
     "execution_count": 9,
     "metadata": {},
     "output_type": "execute_result"
    }
   ],
   "source": [
    "Re.std()*12**0.5\n"
   ]
  },
  {
   "cell_type": "markdown",
   "metadata": {},
   "source": [
    "Warm up"
   ]
  },
  {
   "cell_type": "code",
   "execution_count": 12,
   "metadata": {},
   "outputs": [
    {
     "data": {
      "text/html": [
       "<div>\n",
       "<style scoped>\n",
       "    .dataframe tbody tr th:only-of-type {\n",
       "        vertical-align: middle;\n",
       "    }\n",
       "\n",
       "    .dataframe tbody tr th {\n",
       "        vertical-align: top;\n",
       "    }\n",
       "\n",
       "    .dataframe thead th {\n",
       "        text-align: right;\n",
       "    }\n",
       "</style>\n",
       "<table border=\"1\" class=\"dataframe\">\n",
       "  <thead>\n",
       "    <tr style=\"text-align: right;\">\n",
       "      <th></th>\n",
       "      <th>estimationsample</th>\n",
       "      <th>testsample</th>\n",
       "    </tr>\n",
       "  </thead>\n",
       "  <tbody>\n",
       "    <tr>\n",
       "      <th>avgreturn</th>\n",
       "      <td>0.102715</td>\n",
       "      <td>-0.014757</td>\n",
       "    </tr>\n",
       "    <tr>\n",
       "      <th>volatility</th>\n",
       "      <td>0.150000</td>\n",
       "      <td>0.284975</td>\n",
       "    </tr>\n",
       "    <tr>\n",
       "      <th>shaperatio</th>\n",
       "      <td>0.684767</td>\n",
       "      <td>-0.051783</td>\n",
       "    </tr>\n",
       "  </tbody>\n",
       "</table>\n",
       "</div>"
      ],
      "text/plain": [
       "            estimationsample  testsample\n",
       "avgreturn           0.102715   -0.014757\n",
       "volatility          0.150000    0.284975\n",
       "shaperatio          0.684767   -0.051783"
      ]
     },
     "execution_count": 12,
     "metadata": {},
     "output_type": "execute_result"
    }
   ],
   "source": [
    "\n",
    "Results=pd.DataFrame([],index=[])\n",
    "\n",
    "Endofsample=1973\n",
    "sigmaD=0.15/(12**0.5)\n",
    "#Estiamte moments up to 1973\n",
    "ERe=Re[:str(Endofsample)].mean()\n",
    "CovRe=Re[:str(Endofsample)].cov()\n",
    "# construct weights and normalize them so the have desired volatility\n",
    "W=np.linalg.inv(CovRe) @ ERe* (sigmaD/(ERe @ np.linalg.inv(CovRe) @ ERe)**0.5)\n",
    "\n",
    "Results.at['avgreturn','estimationsample']=W @ ERe*12\n",
    "Results.at['volatility','estimationsample']=(W @ CovRe @ W*12)**0.5\n",
    "Results.at['shaperatio','estimationsample']=Results.at['avgreturn','estimationsample']/Results.at['volatility','estimationsample']\n",
    "ERetest=Re[str(Endofsample+1):].mean()\n",
    "CovRetest=Re[str(Endofsample+1):].cov()\n",
    "Results.at['avgreturn','testsample']=W @ ERetest*12\n",
    "Results.at['volatility','testsample']=(W @ CovRetest @ W*12)**0.5\n",
    "Results.at['shaperatio','testsample']=Results.at['avgreturn','testsample']/Results.at['volatility','testsample']\n",
    "Results"
   ]
  },
  {
   "cell_type": "markdown",
   "metadata": {},
   "source": [
    "- Look how bad this is\n",
    "- The average excess return ends up negative!\n",
    "- The volatility ends up as much twice as large\n",
    "- If you look at the diagonal you see that the test sample was substantially more volatile"
   ]
  },
  {
   "cell_type": "code",
   "execution_count": 11,
   "metadata": {},
   "outputs": [
    {
     "data": {
      "text/plain": [
       "array([ 0.48594363, -0.56158479,  0.69192728,  0.06004647, -2.618298  ])"
      ]
     },
     "execution_count": 11,
     "metadata": {},
     "output_type": "execute_result"
    }
   ],
   "source": [
    "W"
   ]
  },
  {
   "cell_type": "code",
   "execution_count": 13,
   "metadata": {},
   "outputs": [
    {
     "data": {
      "text/html": [
       "<div>\n",
       "<style scoped>\n",
       "    .dataframe tbody tr th:only-of-type {\n",
       "        vertical-align: middle;\n",
       "    }\n",
       "\n",
       "    .dataframe tbody tr th {\n",
       "        vertical-align: top;\n",
       "    }\n",
       "\n",
       "    .dataframe thead th {\n",
       "        text-align: right;\n",
       "    }\n",
       "</style>\n",
       "<table border=\"1\" class=\"dataframe\">\n",
       "  <thead>\n",
       "    <tr style=\"text-align: right;\">\n",
       "      <th></th>\n",
       "      <th>MKTUS</th>\n",
       "      <th>BondUS</th>\n",
       "      <th>EM</th>\n",
       "      <th>MKTxUS</th>\n",
       "      <th>BondxUS</th>\n",
       "    </tr>\n",
       "  </thead>\n",
       "  <tbody>\n",
       "    <tr>\n",
       "      <th>MKTUS</th>\n",
       "      <td>0.001460</td>\n",
       "      <td>0.000232</td>\n",
       "      <td>0.000160</td>\n",
       "      <td>0.000508</td>\n",
       "      <td>0.000101</td>\n",
       "    </tr>\n",
       "    <tr>\n",
       "      <th>BondUS</th>\n",
       "      <td>0.000232</td>\n",
       "      <td>0.000683</td>\n",
       "      <td>-0.000219</td>\n",
       "      <td>-0.000025</td>\n",
       "      <td>0.000015</td>\n",
       "    </tr>\n",
       "    <tr>\n",
       "      <th>EM</th>\n",
       "      <td>0.000160</td>\n",
       "      <td>-0.000219</td>\n",
       "      <td>0.002450</td>\n",
       "      <td>0.000567</td>\n",
       "      <td>0.000107</td>\n",
       "    </tr>\n",
       "    <tr>\n",
       "      <th>MKTxUS</th>\n",
       "      <td>0.000508</td>\n",
       "      <td>-0.000025</td>\n",
       "      <td>0.000567</td>\n",
       "      <td>0.001025</td>\n",
       "      <td>0.000143</td>\n",
       "    </tr>\n",
       "    <tr>\n",
       "      <th>BondxUS</th>\n",
       "      <td>0.000101</td>\n",
       "      <td>0.000015</td>\n",
       "      <td>0.000107</td>\n",
       "      <td>0.000143</td>\n",
       "      <td>0.000081</td>\n",
       "    </tr>\n",
       "  </tbody>\n",
       "</table>\n",
       "</div>"
      ],
      "text/plain": [
       "            MKTUS    BondUS        EM    MKTxUS   BondxUS\n",
       "MKTUS    0.001460  0.000232  0.000160  0.000508  0.000101\n",
       "BondUS   0.000232  0.000683 -0.000219 -0.000025  0.000015\n",
       "EM       0.000160 -0.000219  0.002450  0.000567  0.000107\n",
       "MKTxUS   0.000508 -0.000025  0.000567  0.001025  0.000143\n",
       "BondxUS  0.000101  0.000015  0.000107  0.000143  0.000081"
      ]
     },
     "execution_count": 13,
     "metadata": {},
     "output_type": "execute_result"
    }
   ],
   "source": [
    "CovRe"
   ]
  },
  {
   "cell_type": "code",
   "execution_count": 15,
   "metadata": {},
   "outputs": [
    {
     "data": {
      "text/html": [
       "<div>\n",
       "<style scoped>\n",
       "    .dataframe tbody tr th:only-of-type {\n",
       "        vertical-align: middle;\n",
       "    }\n",
       "\n",
       "    .dataframe tbody tr th {\n",
       "        vertical-align: top;\n",
       "    }\n",
       "\n",
       "    .dataframe thead th {\n",
       "        text-align: right;\n",
       "    }\n",
       "</style>\n",
       "<table border=\"1\" class=\"dataframe\">\n",
       "  <thead>\n",
       "    <tr style=\"text-align: right;\">\n",
       "      <th></th>\n",
       "      <th>MKTUS</th>\n",
       "      <th>BondUS</th>\n",
       "      <th>EM</th>\n",
       "      <th>MKTxUS</th>\n",
       "      <th>BondxUS</th>\n",
       "    </tr>\n",
       "  </thead>\n",
       "  <tbody>\n",
       "    <tr>\n",
       "      <th>MKTUS</th>\n",
       "      <td>0.002072</td>\n",
       "      <td>0.000076</td>\n",
       "      <td>0.001581</td>\n",
       "      <td>0.001454</td>\n",
       "      <td>0.000207</td>\n",
       "    </tr>\n",
       "    <tr>\n",
       "      <th>BondUS</th>\n",
       "      <td>0.000076</td>\n",
       "      <td>0.001360</td>\n",
       "      <td>-0.000200</td>\n",
       "      <td>-0.000013</td>\n",
       "      <td>0.000323</td>\n",
       "    </tr>\n",
       "    <tr>\n",
       "      <th>EM</th>\n",
       "      <td>0.001581</td>\n",
       "      <td>-0.000200</td>\n",
       "      <td>0.003842</td>\n",
       "      <td>0.001940</td>\n",
       "      <td>0.000285</td>\n",
       "    </tr>\n",
       "    <tr>\n",
       "      <th>MKTxUS</th>\n",
       "      <td>0.001454</td>\n",
       "      <td>-0.000013</td>\n",
       "      <td>0.001940</td>\n",
       "      <td>0.002476</td>\n",
       "      <td>0.000491</td>\n",
       "    </tr>\n",
       "    <tr>\n",
       "      <th>BondxUS</th>\n",
       "      <td>0.000207</td>\n",
       "      <td>0.000323</td>\n",
       "      <td>0.000285</td>\n",
       "      <td>0.000491</td>\n",
       "      <td>0.000487</td>\n",
       "    </tr>\n",
       "  </tbody>\n",
       "</table>\n",
       "</div>"
      ],
      "text/plain": [
       "            MKTUS    BondUS        EM    MKTxUS   BondxUS\n",
       "MKTUS    0.002072  0.000076  0.001581  0.001454  0.000207\n",
       "BondUS   0.000076  0.001360 -0.000200 -0.000013  0.000323\n",
       "EM       0.001581 -0.000200  0.003842  0.001940  0.000285\n",
       "MKTxUS   0.001454 -0.000013  0.001940  0.002476  0.000491\n",
       "BondxUS  0.000207  0.000323  0.000285  0.000491  0.000487"
      ]
     },
     "execution_count": 15,
     "metadata": {},
     "output_type": "execute_result"
    }
   ],
   "source": [
    "CovRetest"
   ]
  },
  {
   "cell_type": "markdown",
   "metadata": {},
   "source": [
    "In lots of ways this being too tougth on a real world quant investor. \n",
    "\n",
    "He/She had to stick with the SAME weights as even as new data rolled in.\n",
    "\n",
    "So Lets re-estimate our weights every month starting in 1973\n",
    "\n",
    "The investor will have the entire data up to that year to construct it's weights"
   ]
  },
  {
   "cell_type": "code",
   "execution_count": 99,
   "metadata": {},
   "outputs": [],
   "source": [
    "InSampleResults=pd.DataFrame([],index=[])\n",
    "Strategy=pd.DataFrame([],index=[])\n",
    "sigmaD=0.15/(12**0.5)\n",
    "# I will start buildign portfolios in the end of 1972 so my first return will be january 1973 \n",
    "# and will use data up do december 1972\n",
    "for date in Re['1973-1':].index:\n",
    "    # I am using DateOffset function to tell python to stop on month before \n",
    "    # so the estiamtion sample will be all months up to one month before the return that I \n",
    "    #I will be trading\n",
    "    # this guarantees the strategy is VALID with respect to information\n",
    "    ERe=Re[:date- pd.DateOffset(months=1)].mean()\n",
    "    CovRe=Re[:date- pd.DateOffset(months=1)].cov()\n",
    "# construct weights and normalize them so the have desired volatility\n",
    "    W=np.linalg.inv(CovRe) @ ERe* (sigmaD/(ERe @ np.linalg.inv(CovRe) @ ERe)**0.5)\n",
    "\n",
    "    InSampleResults.at[date,'avgreturn']=W @ ERe*12\n",
    "    InSampleResults.at[date,'volatility']=(W @ CovRe @ W*12)**0.5\n",
    "    InSampleResults.at[date,'sharperatio']=W @ ERe*12/(W @ CovRe @ W*12)**0.5\n",
    "    Strategy.at[date,'Returns']=W @ Re.loc[date]\n"
   ]
  },
  {
   "cell_type": "code",
   "execution_count": 83,
   "metadata": {},
   "outputs": [
    {
     "data": {
      "text/plain": [
       "Text(0.5, 1.0, 'Sharpe Ratio')"
      ]
     },
     "execution_count": 83,
     "metadata": {},
     "output_type": "execute_result"
    },
    {
     "data": {
      "image/png": "[encoded data removed]",
      "text/plain": [
       "<Figure size 432x288 with 1 Axes>"
      ]
     },
     "metadata": {
      "needs_background": "light"
     },
     "output_type": "display_data"
    }
   ],
   "source": [
    "ax=plt.Figure()\n",
    "InSampleResults.sharperatio.plot()\n",
    "# Iam using this as trick to plot an horizontal line. So I am getting the dataframing with all the dates and simply subsituting the value of Sharpe ratio below\n",
    "OutofSample=InSampleResults.sharperatio.copy()\n",
    "OutofSample[:]=(Strategy.Returns.mean()*12)/(Strategy.Returns.std()*12**0.5)\n",
    "OutofSample.plot()\n",
    "plt.legend(['in sample','out of sample'])\n",
    "plt.title('Sharpe Ratio')\n"
   ]
  },
  {
   "cell_type": "markdown",
   "metadata": {},
   "source": [
    "It is interesting also to look at the average reutrns and volatility in a rolling basis"
   ]
  },
  {
   "cell_type": "code",
   "execution_count": 81,
   "metadata": {},
   "outputs": [
    {
     "data": {
      "text/plain": [
       "Text(0.5, 1.0, 'Volatility')"
      ]
     },
     "execution_count": 81,
     "metadata": {},
     "output_type": "execute_result"
    },
    {
     "data": {
      "image/png": "[encoded data removed]",
      "text/plain": [
       "<Figure size 432x288 with 1 Axes>"
      ]
     },
     "metadata": {
      "needs_background": "light"
     },
     "output_type": "display_data"
    }
   ],
   "source": [
    "ax=plt.Figure()\n",
    "axis=InSampleResults.volatility.plot()\n",
    "OutofSample=(Strategy.Returns.rolling(window=36).std()*12**0.5)\n",
    "OutofSample.plot()\n",
    "OutofSample[:]=(Strategy.Returns.std()*12**0.5)\n",
    "OutofSample.plot()\n",
    "plt.legend(['in sample','out of sample rolling','out of sample full'])\n",
    "plt.title('Volatility')"
   ]
  },
  {
   "cell_type": "code",
   "execution_count": 82,
   "metadata": {},
   "outputs": [
    {
     "data": {
      "text/plain": [
       "Text(0.5, 1.0, 'Average Return')"
      ]
     },
     "execution_count": 82,
     "metadata": {},
     "output_type": "execute_result"
    },
    {
     "data": {
      "image/png": "[encoded data removed]",
      "text/plain": [
       "<Figure size 432x288 with 1 Axes>"
      ]
     },
     "metadata": {
      "needs_background": "light"
     },
     "output_type": "display_data"
    }
   ],
   "source": [
    "ax=plt.Figure()\n",
    "axis=InSampleResults.avgreturn.plot()\n",
    "OutofSample=(Strategy.Returns.rolling(window=36).mean()*12)\n",
    "OutofSample.plot()\n",
    "OutofSample[:]=(Strategy.Returns.mean()*12)\n",
    "OutofSample.plot()\n",
    "plt.legend(['in sample','out of sample rolling','out of sample full'])\n",
    "plt.title('Average Return')"
   ]
  },
  {
   "cell_type": "markdown",
   "metadata": {},
   "source": [
    "## **Practical approaches to deal with Estimation Uncertainty in the Mean-Variance framework**\n",
    "\n",
    "In econometrics there is a whole field dedicated towards finding features of the data that are \"robust\". Features that don't vary too much from sample to sample.\n",
    "\n",
    "As you can see this can be super useful here. \n",
    "\n",
    "This techniques get complicated very quickly with Bayesian methods, Shrinkage methods, and so on. Well beyond the scope of this class.\n",
    "\n",
    "The industry however uses two approaches that attempt to get at that by de-emphasizing information about the pieces of the data that we are most uncertain about.\n",
    "\n",
    "Two approaches are particularly popular\n",
    "\n",
    "\n",
    "  * Minimum-variance investing\n",
    "  \n",
    "  * Risk parity\n",
    "  \n",
    "\n",
    "\n",
    "**Minimum-variance investing**\n",
    "\n",
    "\n",
    "* Mean-variance investing under the assumption that all assets have same expected returns, but uses covariance matrix to minimize risk\n",
    "\n",
    " * The idea is that expected returns signals are pure noise so we might as well assume there are no signals and all expected returns are the same\n",
    "  \n",
    " * For example this is behind Minimum volatility investing for example, [https://investor.vanguard.com/mutual-funds/profile/VMVFX]\n",
    "  \n",
    "* Assumes all assets have the same expected return\n",
    "\n",
    "$$Min~ W'Var(R)W~ subject~ to~ \\mathbf{1}'W=1$$\n",
    "\n",
    "$$W_{minvariance}\\propto Var(R)^{-1}\\mathbf{1}$$\n",
    "\n",
    "Imposing the constraint: \n",
    "$$W_{minvariance}=\\frac{Var(R)^{-1}\\mathbf{1}}{\\mathbf{1}^TVar(R)^{-1}\\mathbf{1}}$$\n",
    "\n",
    "* I use this technique in \"hedging-risk factors\", a recent academic paper, to construct portfolios with Sharpe-ratios of 0.8 at the yearly horizon, which is very large\n",
    "\n",
    "> Why this might make sense?\n",
    "\n",
    "So you see here that the problem is really identical to the mean-variance problem. We simply substituted the vector or Expected returns by a vector of ones.\n",
    "\n",
    "The end result is that now the solution is the portfolio that minimizes variance while being fully invested as the constraint $\\mathbf{1}'W=1$ means $\\sum_i^I w_i*1=1$\n",
    "\n"
   ]
  },
  {
   "cell_type": "markdown",
   "metadata": {},
   "source": [
    "**Risk- Parity**\n",
    "\n",
    "\n",
    "* Risk-parity investing: Mean-variance investing under the assumption that all expected returns are equal, and the correlations across all assets are zero. \n",
    "  * Sometimes the assumption is that all Sharpe Ratios are equal \n",
    "  * This is the strategy behind the biggest hedge funds on the planet [https://www.bridgewater.com/resources/our-thoughts-about-risk-parity-and-all-weather.pdf]\n",
    "  \n",
    "\n",
    "* It assumes that the non-diagonal terms in the covariance matrix are all zero.\n",
    "\n",
    "$$Var_{RP}(R)=diag(Var(R))=\\left[\\begin{array}{ccc}\\sigma_1^2 & 0 & 0\\\\0 & \\sigma_2^2 &0 \\\\0 & 0& \\sigma^2_3\\end{array}\\right]$$\n",
    "\n",
    "* we then have \n",
    "\n",
    "$$Min~ W'Var_{RP}(R)W ~ subject~ to~ \\mathbf{1}'W=1$$\n",
    "\n",
    "* it follows\n",
    "\n",
    "$$W_{RP}\\propto Var_{RP}(R)^{-1}\\mathbf{1}=\\left[\\begin{array}{c}\\frac{1}{\\sigma_1^2}\\\\\\frac{1}{\\sigma_2^2}\\\\\\frac{1}{\\sigma_3^2}\\end{array}\\right]$$\n",
    "\n",
    "\n",
    "\n",
    "* another implementation is one where the Sharpe Ratio is the same across assets, so the Expected return scales with volatility.\n",
    "\n",
    "$$E_{RP}(R)=\\left[\\begin{array}{ccc}\\sigma_1\\\\\\sigma_2\\\\\\sigma_3\\end{array}\\right]\\times SR$$\n",
    "\n",
    "\n",
    "$$W_{RP}=Var_{RP}(R)^{-1}E_{RP}[R]=\\left[\\begin{array}{ccc}\\sigma_1^2 & 0 & 0\\\\0 & \\sigma_2^2 &0 \\\\0 & 0& \\sigma^2_3\\end{array}\\right]^{-1}\\left[\\begin{array}{ccc}\\sigma_1\\\\\\sigma_2\\\\\\sigma_3\\end{array}\\right]\\times SR=SR\\left[\\begin{array}{c}\\frac{1}{\\sigma_1}\\\\\\frac{1}{\\sigma_2}\\\\\\frac{1}{\\sigma_3}\\end{array}\\right]$$\n",
    "\n",
    "\n",
    "$$W_{RP}\\propto \\left[\\begin{array}{c}\\frac{1}{\\sigma_1}\\\\\\frac{1}{\\sigma_2}\\\\\\frac{1}{\\sigma_3}\\end{array}\\right]$$\n",
    "\n",
    "In the first approach you invest inversely proportional to variance\n",
    "\n",
    "In the second approach you invest inversely proportional to volatility\n",
    "\n",
    "The important point is that estimate even less moments than the minimum-variance approach. Now it assumes all correlations are zero\n",
    "\n",
    "> Why this might make sense?\n",
    "\n",
    "> Why does the assumption of ZERO correlation a conservative ASSUMPTION?\n",
    "\n",
    "\n",
    "Below we will implement the second approach.\n",
    "\n",
    "The key trick that we will use is the `np.diag()` function to extract the diagonal of the covariance matrix when applied to a matrix and to build a matrix only with the diagonal terms when applied to a vector"
   ]
  },
  {
   "cell_type": "markdown",
   "metadata": {
    "tags": []
   },
   "source": [
    "## **The Market-Cap Weighted strategy**\n",
    "\n",
    "This is the foundational quantitative strategy.\n",
    "\n",
    "It used to be that people when started investing in stocks would start by choosing a few stocks. \n",
    "\n",
    "It made sense. It was super costly to trade multiple stocks. You had to be crazy wealthy to have a fully diversified portfolio of stocks\n",
    "\n",
    "So Vanguard comes along and start offering mutual funds that invest in all assets of a given asset class by simply by them in proportion to their market values.\n",
    "\n",
    "So in this case $M_t=[m_t^{AAPL},m_t^{GOOG},m_t^{TSLA},..]$ has the market capitalization of all the assets in the universe. Where market capitalization is simply\n",
    "\n",
    "$$m_t^{AAPL}=P^{AAPL}_t\\times SharesOutstanding^{AAPL}$$\n",
    "\n",
    "The strategy then set the weights simply to \n",
    "\n",
    "$$W_t=\\frac{M_t}{\\sum_i^Im^i_t}$$\n",
    "\n",
    "\n",
    "So at end of month **t** you look at the market caps, construct the weights and buy the stocks accordingly earning $W_tR_{t+1}$ the end of the next month\n",
    "\n",
    "This portfolio has lots of beautiful properties\n",
    "\n",
    "1. In aggregate people will have to hold this portfolio, so the Capital Asset Pricing Model intuition tell us that this portfolio should be at the tangency frontier (in reality it is not--more on that coming-- but it should at least be much closer to it then a a portfolio made of a just a few stocks)\n",
    "\n",
    "\n",
    "2. This portfolio is very easy to trade. First it does not require re-balancing as you weights naturally go up if the stock rallies and go down if the stock crashes\n",
    "   - It only has to responds to share issuance and buybacks\n",
    "   - and of course if a new firms comes in the asset space or if leaves\n",
    "   \n",
    "3. You can implement this approach to any subset of firms (for example SP500 or Russel2000) are market cap indexes that track a particular universe of stocks\n",
    "\n",
    "\n",
    "Market caping is really the norm across the board. so that is the foundational trading strategy. Lots of what we do later will be about using signals to find subsets of stocks to group together and create market cap weighted portfolios of them\n",
    "\n",
    "So I think a good start is to construct the market cap portfolio for the US equity market"
   ]
  },
  {
   "cell_type": "markdown",
   "metadata": {},
   "source": [
    "**Download data from WRDS**\n",
    "\n",
    "You will be required to put your name and password if you have it\n"
   ]
  },
  {
   "cell_type": "code",
   "execution_count": 28,
   "metadata": {},
   "outputs": [
    {
     "name": "stdin",
     "output_type": "stream",
     "text": [
      "Enter your WRDS username [Alan.Moreira]: moreira5\n",
      "Enter your password: ···········\n"
     ]
    },
    {
     "name": "stdout",
     "output_type": "stream",
     "text": [
      "WRDS recommends setting up a .pgpass file.\n",
      "You can find more info here:\n",
      "https://www.postgresql.org/docs/9.5/static/libpq-pgpass.html.\n",
      "Loading library list...\n",
      "Done\n"
     ]
    }
   ],
   "source": [
    "import datetime as dt\n",
    "import wrds\n",
    "import psycopg2 \n",
    "from dateutil.relativedelta import *\n",
    "from pandas.tseries.offsets import *\n",
    "###################\n",
    "# Connect to WRDS. #\n",
    "# You will be required to put your name and password if you have it\n",
    "###################\n",
    "conn=wrds.Connection() \n",
    "\n",
    "###################\n",
    "# This below dowloads from the server the data that we want #\n",
    "###################\n",
    "crsp_m = conn.raw_sql(\"\"\"\n",
    "                      select a.permno, a.date, b.shrcd, b.exchcd,\n",
    "                      a.ret, a.shrout, a.prc,a.retx\n",
    "                      from crsp.msf as a\n",
    "                      left join crsp.msenames as b\n",
    "                      on a.permno=b.permno\n",
    "                      and b.namedt<=a.date\n",
    "                      and a.date<=b.nameendt\n",
    "                      where a.date between '01/01/2005' and '12/31/2020'\n",
    "                      and b.exchcd between 1 and 3\n",
    "                      and b.shrcd between 10 and 11\n",
    "                      \"\"\", date_cols=['date']) \n",
    "\n",
    "# this saves it\n",
    "#crsp_m.to_pickle('../../assets/data/crspm2005_2020.pkl')\n",
    "# variables downloaded\n",
    "\n",
    "# 1. Permno-- are unique indentifier to a security \n",
    "# (for exmaple a stock that has multiple types of stocks will have multiple permnos)\n",
    "\n",
    "# 2. shrco is the type of share: common share, ADR, ETF, ....\n",
    "# we will focus on common shares\n",
    "\n",
    "# 3. exchcd is the code of the exchange where the stock was originally listed\n",
    "# we will focus on stock listed in the 3 major stock exchanges ( basically the whole market)\n",
    "\n",
    "# 4. ret,retx, shrout,  prc, are the stock return, the stock return excluding dividends, number of shares outstanding, and price\n",
    "\n",
    "# 5. date is the trading date of the return\n",
    "\n"
   ]
  },
  {
   "cell_type": "markdown",
   "metadata": {},
   "source": [
    "____\n",
    "*If you don't want to deal with that you can simply get the data by running the code below*"
   ]
  },
  {
   "cell_type": "code",
   "execution_count": 42,
   "metadata": {},
   "outputs": [],
   "source": [
    "\n",
    "crsp_m=pd.read_pickle('https://github.com/amoreira2/Lectures/blob/main/assets/data/crspm2005_2020.pkl?raw=true')"
   ]
  },
  {
   "cell_type": "markdown",
   "metadata": {},
   "source": [
    "**Organizing the data**\n",
    "\n",
    "The objective here is to have a data set with \n",
    "\n",
    "- Security identifier\n",
    "- Date of the information\n",
    "- Monthly return of the firm in that month\n",
    "- Market capitalization of the firm in that month\n",
    "\n",
    "**Note**\n",
    "\n",
    "In this data set negative price mean that there was not trade in the last trading day of the month of the particular stock. So the value is the negative of the mid point in these date\n",
    "\n",
    "price if no trade=$-\\frac{Ask+Bid}{2}$\n",
    "\n",
    "So we either drop those observations or simply take the absolute value, which is simply using the mid point to compute the market cap\n",
    "\n",
    "Using Mid point is completely fine here. It would be more problematic if that was determining the prices that we trade."
   ]
  },
  {
   "cell_type": "code",
   "execution_count": 30,
   "metadata": {},
   "outputs": [
    {
     "data": {
      "text/html": [
       "<div>\n",
       "<style scoped>\n",
       "    .dataframe tbody tr th:only-of-type {\n",
       "        vertical-align: middle;\n",
       "    }\n",
       "\n",
       "    .dataframe tbody tr th {\n",
       "        vertical-align: top;\n",
       "    }\n",
       "\n",
       "    .dataframe thead th {\n",
       "        text-align: right;\n",
       "    }\n",
       "</style>\n",
       "<table border=\"1\" class=\"dataframe\">\n",
       "  <thead>\n",
       "    <tr style=\"text-align: right;\">\n",
       "      <th></th>\n",
       "      <th>permno</th>\n",
       "      <th>date</th>\n",
       "      <th>ret</th>\n",
       "      <th>me</th>\n",
       "    </tr>\n",
       "  </thead>\n",
       "  <tbody>\n",
       "    <tr>\n",
       "      <th>41</th>\n",
       "      <td>10001</td>\n",
       "      <td>2005-01-31</td>\n",
       "      <td>-0.040580</td>\n",
       "      <td>1.717890e+04</td>\n",
       "    </tr>\n",
       "    <tr>\n",
       "      <th>75</th>\n",
       "      <td>10002</td>\n",
       "      <td>2005-01-31</td>\n",
       "      <td>-0.132466</td>\n",
       "      <td>2.352984e+05</td>\n",
       "    </tr>\n",
       "    <tr>\n",
       "      <th>287</th>\n",
       "      <td>10012</td>\n",
       "      <td>2005-01-31</td>\n",
       "      <td>-0.320388</td>\n",
       "      <td>1.661240e+04</td>\n",
       "    </tr>\n",
       "    <tr>\n",
       "      <th>491</th>\n",
       "      <td>10025</td>\n",
       "      <td>2005-01-31</td>\n",
       "      <td>0.277966</td>\n",
       "      <td>1.590375e+05</td>\n",
       "    </tr>\n",
       "    <tr>\n",
       "      <th>573</th>\n",
       "      <td>10026</td>\n",
       "      <td>2005-01-31</td>\n",
       "      <td>-0.015909</td>\n",
       "      <td>4.364695e+05</td>\n",
       "    </tr>\n",
       "    <tr>\n",
       "      <th>...</th>\n",
       "      <td>...</td>\n",
       "      <td>...</td>\n",
       "      <td>...</td>\n",
       "      <td>...</td>\n",
       "    </tr>\n",
       "    <tr>\n",
       "      <th>762874</th>\n",
       "      <td>93422</td>\n",
       "      <td>2020-12-31</td>\n",
       "      <td>0.484472</td>\n",
       "      <td>5.806171e+05</td>\n",
       "    </tr>\n",
       "    <tr>\n",
       "      <th>763257</th>\n",
       "      <td>93423</td>\n",
       "      <td>2020-12-31</td>\n",
       "      <td>0.109665</td>\n",
       "      <td>2.897716e+06</td>\n",
       "    </tr>\n",
       "    <tr>\n",
       "      <th>763342</th>\n",
       "      <td>93426</td>\n",
       "      <td>2020-12-31</td>\n",
       "      <td>0.076239</td>\n",
       "      <td>3.951370e+05</td>\n",
       "    </tr>\n",
       "    <tr>\n",
       "      <th>763505</th>\n",
       "      <td>93434</td>\n",
       "      <td>2020-12-31</td>\n",
       "      <td>0.122605</td>\n",
       "      <td>9.810226e+04</td>\n",
       "    </tr>\n",
       "    <tr>\n",
       "      <th>763615</th>\n",
       "      <td>93436</td>\n",
       "      <td>2020-12-31</td>\n",
       "      <td>0.243252</td>\n",
       "      <td>6.689053e+08</td>\n",
       "    </tr>\n",
       "  </tbody>\n",
       "</table>\n",
       "<p>763626 rows × 4 columns</p>\n",
       "</div>"
      ],
      "text/plain": [
       "        permno       date       ret            me\n",
       "41       10001 2005-01-31 -0.040580  1.717890e+04\n",
       "75       10002 2005-01-31 -0.132466  2.352984e+05\n",
       "287      10012 2005-01-31 -0.320388  1.661240e+04\n",
       "491      10025 2005-01-31  0.277966  1.590375e+05\n",
       "573      10026 2005-01-31 -0.015909  4.364695e+05\n",
       "...        ...        ...       ...           ...\n",
       "762874   93422 2020-12-31  0.484472  5.806171e+05\n",
       "763257   93423 2020-12-31  0.109665  2.897716e+06\n",
       "763342   93426 2020-12-31  0.076239  3.951370e+05\n",
       "763505   93434 2020-12-31  0.122605  9.810226e+04\n",
       "763615   93436 2020-12-31  0.243252  6.689053e+08\n",
       "\n",
       "[763626 rows x 4 columns]"
      ]
     },
     "execution_count": 30,
     "metadata": {},
     "output_type": "execute_result"
    }
   ],
   "source": [
    "# change variable format to int\n",
    "crsp=crsp_m[['permno','date','ret','shrout','prc']].copy()\n",
    "crsp[['permno']]=crsp[['permno']].astype(int)\n",
    "# Line up date to be end of month\n",
    "crsp['date']=crsp['date']+MonthEnd(0)\n",
    "# add delisting return\n",
    "\n",
    "# calculate market equity\n",
    "crsp['me']=crsp['prc'].abs()*crsp['shrout'] \n",
    "crsp=crsp.drop(['prc','shrout'], axis=1)\n",
    "crsp=crsp.sort_values(by=['date','permno','me'])\n",
    "crsp"
   ]
  },
  {
   "cell_type": "markdown",
   "metadata": {},
   "source": [
    "**Constructing returns of the market cap weighted portfolios**\n",
    "\n",
    "The returns of the cap weighted \n",
    "\n",
    "$$R^{mkt}_{t+1}=\\sum_i^I\\frac{m^i_t}{\\sum_i^Im^i_t}R^i_{t+1}$$\n",
    "\n",
    "To implement this we need to first lag the market cap so our weights depend only on available data at the time of the trade.\n",
    "\n",
    "To do that we will use the `.shift(d)` which \"lags\" the data by d periods.\n",
    "\n",
    "I use brackets here because it simply shifts the rows. So you have to make sure that it is actually lagging by date. \n",
    "\n",
    "The way to do that is to  group by security and applying the shift within security.\n",
    "\n",
    ">Why this is important?\n",
    "\n",
    "Because the data set is stacked so when you shift the first month of security n, it will end up returning the last month of security n-1.\n",
    "\n",
    "By grouping by we simply assign a missing value there since we don't have the data"
   ]
  },
  {
   "cell_type": "code",
   "execution_count": 32,
   "metadata": {},
   "outputs": [],
   "source": [
    "crsp['me_l1']=crsp.groupby(['permno']).me.shift(1)"
   ]
  },
  {
   "cell_type": "code",
   "execution_count": 33,
   "metadata": {},
   "outputs": [],
   "source": [
    "Rmkt=crsp.groupby(['date']).apply(lambda x:(x.ret*(x.me_l1/x.me_l1.sum())).sum())"
   ]
  },
  {
   "cell_type": "markdown",
   "metadata": {},
   "source": [
    "So in the code above `(x.me/x.me.sum())` is the weights, which for each date will return a vector that adds up to one. and of course `x.ret` is the vector of returns\n",
    "\n",
    "The code `(x.ret*(x.me/x.me.sum())` multiplies the return of each asset by the weight and then we sum if all up to get the reutrn of the portfolio\n",
    "\n",
    "```(x.ret*(x.me/x.me.sum())).sum()```\n",
    "\n",
    "The `groupby(['date'])` method groups the data by month so we obtain the return of the portfolio in that month\n",
    "\n"
   ]
  },
  {
   "cell_type": "code",
   "execution_count": 35,
   "metadata": {},
   "outputs": [
    {
     "data": {
      "text/plain": [
       "<AxesSubplot:xlabel='date'>"
      ]
     },
     "execution_count": 35,
     "metadata": {},
     "output_type": "execute_result"
    },
    {
     "data": {
      "image/png": "[encoded data removed]",
      "text/plain": [
       "<Figure size 432x288 with 1 Axes>"
      ]
     },
     "metadata": {
      "needs_background": "light"
     },
     "output_type": "display_data"
    }
   ],
   "source": [
    "#Lets look at the cumulative returns\n",
    "((Rmkt+1).cumprod()-1).plot()"
   ]
  },
  {
   "cell_type": "code",
   "execution_count": 40,
   "metadata": {},
   "outputs": [
    {
     "data": {
      "text/plain": [
       "<AxesSubplot:xlabel='date'>"
      ]
     },
     "execution_count": 40,
     "metadata": {},
     "output_type": "execute_result"
    },
    {
     "data": {
      "image/png": "[encoded data removed]",
      "text/plain": [
       "<Figure size 432x288 with 1 Axes>"
      ]
     },
     "metadata": {
      "needs_background": "light"
     },
     "output_type": "display_data"
    }
   ],
   "source": [
    "#Lets look at rolling volatility\n",
    "(Rmkt.rolling(window=12).std()*12**0.5).plot()"
   ]
  }
 ],
 "metadata": {
  "colab": {
   "collapsed_sections": [],
   "provenance": []
  },
  "kernelspec": {
   "display_name": "Python 3 (ipykernel)",
   "language": "python",
   "name": "python3"
  },
  "language_info": {
   "codemirror_mode": {
    "name": "ipython",
    "version": 3
   },
   "file_extension": ".py",
   "mimetype": "text/x-python",
   "name": "python",
   "nbconvert_exporter": "python",
   "pygments_lexer": "ipython3",
   "version": "3.9.12"
  },
  "toc-autonumbering": true,
  "toc-showmarkdowntxt": false
 },
 "nbformat": 4,
 "nbformat_minor": 4
}
