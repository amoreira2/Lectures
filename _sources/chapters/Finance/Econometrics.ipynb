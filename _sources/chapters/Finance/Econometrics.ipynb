{
 "cells": [
  {
   "cell_type": "code",
   "execution_count": 2,
   "metadata": {
    "colab": {},
    "colab_type": "code",
    "id": "82IDb6GmdibW"
   },
   "outputs": [],
   "source": [
    "# First we start loading our favourite packages with the names we used to\n",
    "import numpy as np\n",
    "import pandas as pd\n",
    "%matplotlib inline\n",
    "import matplotlib.pyplot as plt\n",
    "# import regression package\n",
    "import statsmodels.api as sm"
   ]
  },
  {
   "cell_type": "markdown",
   "metadata": {
    "colab_type": "text",
    "id": "gXTv2zAjQ1u6"
   },
   "source": [
    "# The econometrics of strategy evaluation\n",
    "\n",
    "\n",
    "Our premise here is that you are lookign to invest in the portfolio wiht the highest Sharpe Ratio. As we discussed in chapter 10, we can always combine such portfolio with the risk-ree rate to achieve the desired volatility/expected return.\n",
    "\n",
    "**Back to the Tangency portfolio**\n",
    "\n",
    "* in Chapter 10 we solved the problem \n",
    "\n",
    "$$\n",
    "\\begin{aligned}\n",
    "maximize_{(X)} E[r_p(X)]- \\frac{\\gamma}{2} Var(r_p(X))\\\\\n",
    "\\end{aligned}\n",
    "$$\n",
    "\n",
    "* And found that the portfolio that solves this problem,i.e., has the highest sharpe ratio among the set of assets that belong in the optimization have the following form\n",
    "\n",
    "$$ Var(R^e)W^*=\\gamma E[R^e]$$\n",
    "\n",
    "* I.e., the quation above defines $W^*$, the weights of the tangency portfolio\n",
    "\n",
    "* We can rewirte the left hand side as\n",
    "\n",
    "$$Var(R^e)W^*=Cov(R^e,R^e)W^*=Cov(R^e,(W^*)'R^e)=Cov(R^e,r^*)$$\n",
    "\n",
    "* where we use that $r^*=(W^*)'R^e$ is the returns of the tangency protolio \n",
    "\n",
    "* The left-hand side in the covariance vector of all the assets with the tangency portfolio, so it is a vector N by 1, where N is the number of assets considered.\n",
    "\n",
    "* This means that the expected return of an asset must be proportional to the covariance between the return of the asset and the return of the tangency portfolio\n",
    "\n",
    "$$ E[R^e]=\\gamma  Cov(R^e,r^*) $$\n",
    "\n",
    "\n",
    "* This holds for all assets in your investment opportunity set (i.e. the assets included in the minimization problem that the tangency portfolio solves)\n",
    "\n",
    "\n",
    "* This means that for any assets $j$ and $i$ we have \n",
    "\n",
    "\n",
    "$$\\frac{E[r^e_i]}{Cov(r^e_i,R^*)}= \\frac{E[r^e_j]}{Cov(R^e_j,R^*)} $$ \n",
    "\n",
    "\n",
    "* All assets have the same expected return per-unit of covariance with the tangency portoflio\n",
    "\n",
    "* We can also apply this to the tangency portfolio itself\n",
    "\n",
    "\n",
    "$$ E[R^*]=\\gamma \\times Cov(R^*,R^*) $$\n",
    "\n",
    "\n",
    "* Which means that $\\gamma=\\frac{E[R^*]}{Var(R^*)}$\n",
    "\n",
    "\n",
    "* Plugging back in the original and we get that for any asset $j$\n",
    "\n",
    "\n",
    "$$ E[r^e_j]=\\frac{E[r^*]}{Var(r^*)} Cov(r^e_j,r^*) =\\frac{Cov(r^e_j,r^*)}{Var(r^*)}E[r^*]=\\beta_{j,*}E[r^*] $$\n",
    "\n",
    "\n",
    "\n",
    "$$ E[r^e_j]=\\beta_{j,*}E[r^*] $$\n",
    "\n",
    "> **What model you learned in 411 does that remind you?**\n",
    "\n",
    "* All the information about the cross-sectional of expected returns--all the assets-- can be summarized by the expected return of the tangency portfolio and the beta of each asset with respect to the tangency portfolio\n",
    "\n",
    "* Or Alternatively: the risk-return trade-off  of the tangency portfolio  $\\frac{E[r^*]}{Var(r^*)}$ and the covariance of each asset with it.\n",
    "\n",
    "\n",
    "* Once you have the right notion of risk, the reward to risk is the same across assets (no free lunch)\n",
    "\n",
    "* What is the right notion? \n",
    "\n",
    "**Covariance of the asset excess return with the tangency portfolio excess returns** \n",
    "\n",
    "Or equivalently\n",
    "\n",
    "**Beta $\\beta=\\frac{Cov(r^e_j,r^*)}{Var(r^*)}$ of the asset excess return with the tangency portfolio excess returns** "
   ]
  },
  {
   "cell_type": "markdown",
   "metadata": {},
   "source": [
    "**What does this mean?**\n",
    "\n",
    "It means that if a strategy has the highest sharpe ratio among a set of assets/strategies, then it must be the case that this rleationship holds \n",
    "\n",
    "$$ E[r^e_j]=\\beta_{j,*}E[r^*] $$\n",
    "\n",
    "This is a linear regression!\n",
    "\n",
    "It \n",
    "\n",
    "**Time-series Test (or alpha test)**\n",
    "\n",
    "IF we run \n",
    "\n",
    "$$r^e_j=\\alpha_j +\\beta_{j,*}r^*_t +\\epsilon_{j,t}$$\n",
    "\n",
    "- Then this relation predicts that the intercept, the alpha, should be zero\n",
    "\n",
    "- It is important here that both the test assets and the reference portfolios are all **excess returns**. This makes the test really simple. If you use returns instead the prediction about the intercept will be different because of the risk-free rate\n",
    "\n",
    "- We refer to these assets on the Left Hand Side of the regression as **Test Assets** and the asset on the right as the **model**, which is the candidate tangency portfolio\n",
    "\n",
    "- This means that we can use this to test whether a new strategy adds value realtive to another strategy (i.e. the model).\n",
    "\n",
    "- If the model is \"right\" than we will fail to reject that the alphas are zero, i.e. the relationship between average returns and betas holds.\n",
    "\n",
    "**What adding value means?** It means enhancing the portfolio sharpe ratio when combined appropriately with the \"tangency\" portfolio. Therefore, $r^*$ cannot be tangency!\n",
    "\n",
    "The way that we will use it is to start with a reference **model portfolio** that with returns $r^p$. This can be the returns of your own portfolio if you have a long sample for it and if you hold a very complicated set of assets. But most people use as the reference portfolio the return on the market portfolio.\n",
    "\n",
    "\n",
    "**CAPM prediction: Market portfolio is the tangency portfolio**\n",
    "\n",
    "\n",
    "* The most used reference portfolio is the market portoflio\n",
    "\n",
    "* So we will do our first alpha test with respect to the market\n",
    "\n",
    "* The CAPM holds for a set of assets i=1...N if and only if\n",
    "\n",
    "\n",
    "  $$E[r_{i,t}^e] =\\alpha_i+\\beta_{i,MKT} E[r_{t}^{MKT,e}]$$\n",
    "  \n",
    "  with $\\alpha_i=0$ for all assets  i=1...N\n",
    " \n",
    "\n",
    "\n",
    "* So if you put any other portfolio in $r_{t}^{*,e}$ instead of the market, then you are not testing the CAPM. The CAPM is aspecific model that predicts that the market is tangency\n",
    "\n",
    "* In fact we know that there must be a portfolio * such that\n",
    "\n",
    "  $$E[r_{i,t}^e] =\\beta_{i,*} E[r_{t}^{*,e}]$$\n",
    "  \n",
    "  holds , such portfolio is the tangency portfolio\n",
    "  \n",
    " * Why alpha=0 is so special? Because it tells us that the expected return of any of these assets can be captured by varying the exposure to  the tangency  with the minimum increase in risk possible\n",
    "\n",
    "**Beating the Model**\n",
    "\n",
    "Academics use this to test if the CAPM is right. Practicioners use this to see if they can beat the CAPM, i.e. **beat the market**. Having an alpha--a postive intercept-- means that you have an average return that is higher than your strategy market risk exposure would predict.\n",
    "\n",
    "It is very important here that is all about averages, not at all about realized returns. Being tanngency does **NOT** mean that your relaized returns shoudl explain all the other realized returns.\n",
    "\n",
    "Instead, it means that the betas of the asset with the tangnecy should explain the average return of the asset.\n",
    "\n",
    "Of course, stuff happens, so even if your reference portfolio is in fact tangency portfolio under the true distribution, it will not be in any particular sample, so we will use statistics to tell us if the $\\alpha$ is different enought from zero!\n",
    "\n",
    "\n"
   ]
  },
  {
   "cell_type": "markdown",
   "metadata": {
    "colab_type": "text",
    "id": "oDMq-1VldibV"
   },
   "source": [
    "* Test if $\\alpha_i \\neq 0$\n",
    "\n",
    "  - It doesn't matter if positive or negative, since you can always go short. \n",
    "  - While a particular manager might care to show that thir alpha is positive. Here it is symmetric. So large negative alphas are as good as large positive alphas (or as bad for the referecne portfolio) because you can enhance your Sharpe ratio by shoritng the asset. In reality you might not be able to direct short a mutual fund, but oyu cant try to replicate the opposite of whatever they are doing in case they have a alpha that is negative enough. \n",
    "\n",
    "  - You basically do a standard t-test \n",
    "\n",
    "  $$t=\\frac{\\alpha_i }{\\sigma(\\alpha_i)}$$\n",
    "\n",
    "* We say\n",
    "\n",
    " - if $|t|\\geq 1.64$ there is a 10% chance that the market is Tangency (or Mean-Variance Efficient, i.e MVE)\n",
    " - if $|t|\\geq 1.96$ there is a 5% chance that the market is MVE\n",
    " - if $|t|\\geq 2.1$ there is a 2.5% chance that the market is MVE\n",
    " - if $|t|\\geq 2.6$ there is a 1% chance that the market is MVE\n",
    " \n",
    " \n",
    "* The Time-series regression asks the following question:\n",
    "  > Can I replicate  the average return I get in asset $i$ by investing in the reference portfolio?\n",
    " \n",
    " * Having a non-zero alpha DOES NOT mean that you prefer asset $i$ to the reference portfolio!\n",
    " \n",
    " * But it does mean, that you can do better by investing in both assets\n",
    "   - Obviously with a negative weight if the alpha is negative\n",
    "   - and a positive weight if the alpha is positive\n",
    "   \n",
    " * The alpha test literally asks if the reference portfolio is the tangency portfolio with respect to the investment opportunity that includes the test asset (the asset in the left of the regression) and the reference portfolio (the asset on the right)\n",
    " \n",
    " * A differet way to put it is that a non-zero alpha means that the asset expands the mean-variance frontier relative to an opportunity set that only has the reference portfolio\n",
    "  \n",
    "\n",
    "> Question: I show that Asset A has alpha with respect to Asset B. Does it mean that an investor should prefer asset A to asset B?\n",
    "\n",
    "**Is the value strategy likely to increase the Sharper Ratio of someone that only hold the market portoflio?*\n",
    "\n",
    "Or equivalently\n",
    "\n",
    "1. Does the CAPM fail to \"price\" value strategies\n",
    "2. Does value portfolios expand the mean-variance frontier of somone invested in the market portfolio?\n",
    "3. Does the MARKET beta of the different portfolios explain their average returns?\n",
    "4. Do we need the value strategy to spam the mean-variance frontier of the market and value strategies?"
   ]
  },
  {
   "cell_type": "markdown",
   "metadata": {},
   "source": [
    "I will start by getting data from [Ken French website](https://mba.tuck.dartmouth.edu/pages/faculty/ken.french/data_library.html) which he updates continiously. Uou can manually download or alternatively the `pandas_datareader` library to get it directly\n",
    "\n",
    "This below imports the library and get a lsit of the names of the datasets that are downloadable\n",
    "\n",
    "We will be getting the first one"
   ]
  },
  {
   "cell_type": "code",
   "execution_count": 6,
   "metadata": {},
   "outputs": [
    {
     "data": {
      "text/plain": [
       "['F-F_Research_Data_Factors',\n",
       " 'F-F_Research_Data_Factors_weekly',\n",
       " 'F-F_Research_Data_Factors_daily',\n",
       " 'F-F_Research_Data_5_Factors_2x3',\n",
       " 'F-F_Research_Data_5_Factors_2x3_daily',\n",
       " 'Portfolios_Formed_on_ME',\n",
       " 'Portfolios_Formed_on_ME_Wout_Div',\n",
       " 'Portfolios_Formed_on_ME_Daily',\n",
       " 'Portfolios_Formed_on_BE-ME',\n",
       " 'Portfolios_Formed_on_BE-ME_Wout_Div']"
      ]
     },
     "execution_count": 6,
     "metadata": {},
     "output_type": "execute_result"
    }
   ],
   "source": [
    "from pandas_datareader.famafrench import get_available_datasets\n",
    "import pandas_datareader.data as web\n",
    "ds_names=get_available_datasets()\n",
    "#I am just displaying the first 10 data sets, but there are about 300 different data sets\n",
    "ds_names[0:10]"
   ]
  },
  {
   "cell_type": "markdown",
   "metadata": {},
   "source": [
    "We see below four time-series\n",
    "\n",
    "1. `Mkt-RF`:The excess return on the market\n",
    "2. `SMB`:Small Minust Big, a strategy that buys firms with small market capitalization and shorts firms with large market capitalizations\n",
    "3. `HmL`:  High minus Low is Fama and French implementation of the value strategy. It goes low the stocks with high Book-to-market ratios (value stocks) and short firms with low Book-to-Market ratios (growth stocks). The consturction is a bit more involved than what we did in Chapter 14.1, but the idea is very similar. See the [Fama and French (1996)](https://www.jstor.org/stable/2329302?seq=1#metadata_info_tab_contents) paper for details."
   ]
  },
  {
   "cell_type": "code",
   "execution_count": 13,
   "metadata": {
    "colab": {
     "base_uri": "https://localhost:8080/",
     "height": 235
    },
    "colab_type": "code",
    "executionInfo": {
     "elapsed": 2003,
     "status": "ok",
     "timestamp": 1577476010393,
     "user": {
      "displayName": "yuchi yao",
      "photoUrl": "",
      "userId": "00457884373990713813"
     },
     "user_tz": 300
    },
    "id": "sE_THszadibe",
    "outputId": "a12060d4-b357-4bc3-acd3-49a219aefc8b"
   },
   "outputs": [
    {
     "data": {
      "text/html": [
       "<div>\n",
       "<style scoped>\n",
       "    .dataframe tbody tr th:only-of-type {\n",
       "        vertical-align: middle;\n",
       "    }\n",
       "\n",
       "    .dataframe tbody tr th {\n",
       "        vertical-align: top;\n",
       "    }\n",
       "\n",
       "    .dataframe thead th {\n",
       "        text-align: right;\n",
       "    }\n",
       "</style>\n",
       "<table border=\"1\" class=\"dataframe\">\n",
       "  <thead>\n",
       "    <tr style=\"text-align: right;\">\n",
       "      <th></th>\n",
       "      <th>Mkt-RF</th>\n",
       "      <th>SMB</th>\n",
       "      <th>HML</th>\n",
       "      <th>RF</th>\n",
       "    </tr>\n",
       "    <tr>\n",
       "      <th>Date</th>\n",
       "      <th></th>\n",
       "      <th></th>\n",
       "      <th></th>\n",
       "      <th></th>\n",
       "    </tr>\n",
       "  </thead>\n",
       "  <tbody>\n",
       "    <tr>\n",
       "      <th>1926-07</th>\n",
       "      <td>2.96</td>\n",
       "      <td>-2.30</td>\n",
       "      <td>-2.87</td>\n",
       "      <td>0.22</td>\n",
       "    </tr>\n",
       "    <tr>\n",
       "      <th>1926-08</th>\n",
       "      <td>2.64</td>\n",
       "      <td>-1.40</td>\n",
       "      <td>4.19</td>\n",
       "      <td>0.25</td>\n",
       "    </tr>\n",
       "    <tr>\n",
       "      <th>1926-09</th>\n",
       "      <td>0.36</td>\n",
       "      <td>-1.32</td>\n",
       "      <td>0.01</td>\n",
       "      <td>0.23</td>\n",
       "    </tr>\n",
       "    <tr>\n",
       "      <th>1926-10</th>\n",
       "      <td>-3.24</td>\n",
       "      <td>0.04</td>\n",
       "      <td>0.51</td>\n",
       "      <td>0.32</td>\n",
       "    </tr>\n",
       "    <tr>\n",
       "      <th>1926-11</th>\n",
       "      <td>2.53</td>\n",
       "      <td>-0.20</td>\n",
       "      <td>-0.35</td>\n",
       "      <td>0.31</td>\n",
       "    </tr>\n",
       "    <tr>\n",
       "      <th>...</th>\n",
       "      <td>...</td>\n",
       "      <td>...</td>\n",
       "      <td>...</td>\n",
       "      <td>...</td>\n",
       "    </tr>\n",
       "    <tr>\n",
       "      <th>2020-11</th>\n",
       "      <td>12.47</td>\n",
       "      <td>5.48</td>\n",
       "      <td>2.11</td>\n",
       "      <td>0.01</td>\n",
       "    </tr>\n",
       "    <tr>\n",
       "      <th>2020-12</th>\n",
       "      <td>4.63</td>\n",
       "      <td>4.81</td>\n",
       "      <td>-1.36</td>\n",
       "      <td>0.01</td>\n",
       "    </tr>\n",
       "    <tr>\n",
       "      <th>2021-01</th>\n",
       "      <td>-0.03</td>\n",
       "      <td>7.19</td>\n",
       "      <td>2.85</td>\n",
       "      <td>0.00</td>\n",
       "    </tr>\n",
       "    <tr>\n",
       "      <th>2021-02</th>\n",
       "      <td>2.78</td>\n",
       "      <td>2.11</td>\n",
       "      <td>7.08</td>\n",
       "      <td>0.00</td>\n",
       "    </tr>\n",
       "    <tr>\n",
       "      <th>2021-03</th>\n",
       "      <td>3.09</td>\n",
       "      <td>-2.48</td>\n",
       "      <td>7.40</td>\n",
       "      <td>0.00</td>\n",
       "    </tr>\n",
       "  </tbody>\n",
       "</table>\n",
       "<p>1137 rows × 4 columns</p>\n",
       "</div>"
      ],
      "text/plain": [
       "         Mkt-RF   SMB   HML    RF\n",
       "Date                             \n",
       "1926-07    2.96 -2.30 -2.87  0.22\n",
       "1926-08    2.64 -1.40  4.19  0.25\n",
       "1926-09    0.36 -1.32  0.01  0.23\n",
       "1926-10   -3.24  0.04  0.51  0.32\n",
       "1926-11    2.53 -0.20 -0.35  0.31\n",
       "...         ...   ...   ...   ...\n",
       "2020-11   12.47  5.48  2.11  0.01\n",
       "2020-12    4.63  4.81 -1.36  0.01\n",
       "2021-01   -0.03  7.19  2.85  0.00\n",
       "2021-02    2.78  2.11  7.08  0.00\n",
       "2021-03    3.09 -2.48  7.40  0.00\n",
       "\n",
       "[1137 rows x 4 columns]"
      ]
     },
     "execution_count": 13,
     "metadata": {},
     "output_type": "execute_result"
    }
   ],
   "source": [
    "from datetime import datetime\n",
    "start = datetime(1926, 1, 1)\n",
    "ds = web.DataReader(ds_names[0], 'famafrench',start=start)\n",
    "df=ds[0][:'2021-3']\n",
    "df"
   ]
  },
  {
   "cell_type": "markdown",
   "metadata": {},
   "source": [
    "*Note the units here, returns here are already in percent, so the 12.47 number in march means 12.47%*\n",
    "\n",
    "To answer our question we will need on the MKT-RF series which will be our reference portfolio and the HML series which will be our **Test Asset**.\n",
    "\n",
    "We are interested in estiamting the alpha and the beta of the test asset HML with respect to the market\n",
    "\n",
    "$$r_{HML,t}=\\alpha+\\beta r_{MKT,t}+\\epsilon_t$$"
   ]
  },
  {
   "cell_type": "code",
   "execution_count": 83,
   "metadata": {
    "colab": {
     "base_uri": "https://localhost:8080/",
     "height": 498
    },
    "colab_type": "code",
    "executionInfo": {
     "elapsed": 885,
     "status": "ok",
     "timestamp": 1577476053745,
     "user": {
      "displayName": "yuchi yao",
      "photoUrl": "",
      "userId": "00457884373990713813"
     },
     "user_tz": 300
    },
    "id": "10Em9orqdib0",
    "outputId": "f81083a0-78a7-42c5-9e98-3696e8031bcf"
   },
   "outputs": [
    {
     "data": {
      "text/html": [
       "<table class=\"simpletable\">\n",
       "<caption>OLS Regression Results</caption>\n",
       "<tr>\n",
       "  <th>Dep. Variable:</th>           <td>HML</td>       <th>  R-squared:         </th> <td>   0.057</td>\n",
       "</tr>\n",
       "<tr>\n",
       "  <th>Model:</th>                   <td>OLS</td>       <th>  Adj. R-squared:    </th> <td>   0.056</td>\n",
       "</tr>\n",
       "<tr>\n",
       "  <th>Method:</th>             <td>Least Squares</td>  <th>  F-statistic:       </th> <td>   67.98</td>\n",
       "</tr>\n",
       "<tr>\n",
       "  <th>Date:</th>             <td>Fri, 30 Apr 2021</td> <th>  Prob (F-statistic):</th> <td>4.53e-16</td>\n",
       "</tr>\n",
       "<tr>\n",
       "  <th>Time:</th>                 <td>10:54:01</td>     <th>  Log-Likelihood:    </th> <td> -3007.4</td>\n",
       "</tr>\n",
       "<tr>\n",
       "  <th>No. Observations:</th>      <td>  1137</td>      <th>  AIC:               </th> <td>   6019.</td>\n",
       "</tr>\n",
       "<tr>\n",
       "  <th>Df Residuals:</th>          <td>  1135</td>      <th>  BIC:               </th> <td>   6029.</td>\n",
       "</tr>\n",
       "<tr>\n",
       "  <th>Df Model:</th>              <td>     1</td>      <th>                     </th>     <td> </td>   \n",
       "</tr>\n",
       "<tr>\n",
       "  <th>Covariance Type:</th>      <td>nonrobust</td>    <th>                     </th>     <td> </td>   \n",
       "</tr>\n",
       "</table>\n",
       "<table class=\"simpletable\">\n",
       "<tr>\n",
       "     <td></td>       <th>coef</th>     <th>std err</th>      <th>t</th>      <th>P>|t|</th>  <th>[0.025</th>    <th>0.975]</th>  \n",
       "</tr>\n",
       "<tr>\n",
       "  <th>const</th>  <td>    0.2292</td> <td>    0.102</td> <td>    2.248</td> <td> 0.025</td> <td>    0.029</td> <td>    0.429</td>\n",
       "</tr>\n",
       "<tr>\n",
       "  <th>Mkt-RF</th> <td>    0.1560</td> <td>    0.019</td> <td>    8.245</td> <td> 0.000</td> <td>    0.119</td> <td>    0.193</td>\n",
       "</tr>\n",
       "</table>\n",
       "<table class=\"simpletable\">\n",
       "<tr>\n",
       "  <th>Omnibus:</th>       <td>450.835</td> <th>  Durbin-Watson:     </th> <td>   1.609</td>\n",
       "</tr>\n",
       "<tr>\n",
       "  <th>Prob(Omnibus):</th> <td> 0.000</td>  <th>  Jarque-Bera (JB):  </th> <td>5826.658</td>\n",
       "</tr>\n",
       "<tr>\n",
       "  <th>Skew:</th>          <td> 1.459</td>  <th>  Prob(JB):          </th> <td>    0.00</td>\n",
       "</tr>\n",
       "<tr>\n",
       "  <th>Kurtosis:</th>      <td>13.699</td>  <th>  Cond. No.          </th> <td>    5.44</td>\n",
       "</tr>\n",
       "</table><br/><br/>Notes:<br/>[1] Standard Errors assume that the covariance matrix of the errors is correctly specified."
      ],
      "text/plain": [
       "<class 'statsmodels.iolib.summary.Summary'>\n",
       "\"\"\"\n",
       "                            OLS Regression Results                            \n",
       "==============================================================================\n",
       "Dep. Variable:                    HML   R-squared:                       0.057\n",
       "Model:                            OLS   Adj. R-squared:                  0.056\n",
       "Method:                 Least Squares   F-statistic:                     67.98\n",
       "Date:                Fri, 30 Apr 2021   Prob (F-statistic):           4.53e-16\n",
       "Time:                        10:54:01   Log-Likelihood:                -3007.4\n",
       "No. Observations:                1137   AIC:                             6019.\n",
       "Df Residuals:                    1135   BIC:                             6029.\n",
       "Df Model:                           1                                         \n",
       "Covariance Type:            nonrobust                                         \n",
       "==============================================================================\n",
       "                 coef    std err          t      P>|t|      [0.025      0.975]\n",
       "------------------------------------------------------------------------------\n",
       "const          0.2292      0.102      2.248      0.025       0.029       0.429\n",
       "Mkt-RF         0.1560      0.019      8.245      0.000       0.119       0.193\n",
       "==============================================================================\n",
       "Omnibus:                      450.835   Durbin-Watson:                   1.609\n",
       "Prob(Omnibus):                  0.000   Jarque-Bera (JB):             5826.658\n",
       "Skew:                           1.459   Prob(JB):                         0.00\n",
       "Kurtosis:                      13.699   Cond. No.                         5.44\n",
       "==============================================================================\n",
       "\n",
       "Notes:\n",
       "[1] Standard Errors assume that the covariance matrix of the errors is correctly specified.\n",
       "\"\"\""
      ]
     },
     "execution_count": 83,
     "metadata": {},
     "output_type": "execute_result"
    }
   ],
   "source": [
    "temp=df.copy() \n",
    "# On the right hand side, we have 'MKT' portfolio, we will add an constant term to it\n",
    "x= sm.add_constant(temp['Mkt-RF'])\n",
    "# the coefficient on the constant is the \"alpha\"\n",
    "# On the left hand side, we have 'HML' portfolio\n",
    "y= temp['HML']\n",
    "results= sm.OLS(y,x).fit()\n",
    "results.summary()\n"
   ]
  },
  {
   "cell_type": "code",
   "execution_count": 88,
   "metadata": {},
   "outputs": [
    {
     "data": {
      "text/plain": [
       "const     2.247939\n",
       "Mkt-RF    8.244886\n",
       "dtype: float64"
      ]
     },
     "execution_count": 88,
     "metadata": {},
     "output_type": "execute_result"
    }
   ],
   "source": [
    "results.tvalues"
   ]
  },
  {
   "cell_type": "markdown",
   "metadata": {},
   "source": [
    "**What did we find?**\n",
    "\n",
    "1. The HML strategy has a small market exposure. 0.15 is small since the average firm has beta of 1 with the market since the market msut have a beta of 1 with itself  and (the market weighted) average beta of the firms is mathematically the beta of the market with respect to itself.\n",
    "    - This is intutive, the long-short aspect of the strategy hedges out the market risk\n",
    "2. It has a **monthly** alpha of 0.23% and it has a t-stat of 2.25, implying that there is a chance less than 2.5% that the market is the true tangency portfolio of the investment opportunity set that includes these two assets.\n",
    "    - This is equivalently to saying that there is a 97.5% probability that someon can increase the Sharpe Ratio of it's portfolio by investing in HML and the MArket instead of only in the Market\n",
    "\n",
    "**So the statistics applied to this long sample tells us that indeed adds value to the market**\n",
    "\n",
    "But how big deal it is economically? i.e. how much extra return do I make here?\n",
    "\n",
    "* the 0.23% number translates to 2.76% per year extra return\n",
    "\n",
    "* Below you see then average premiuns of the strategies :2.76% is most of the HML premium, so most of the premium is not compensation for market risk. IT is also about one third of the premium on market"
   ]
  },
  {
   "cell_type": "code",
   "execution_count": 14,
   "metadata": {},
   "outputs": [
    {
     "data": {
      "text/plain": [
       "Mkt-RF    8.217731\n",
       "SMB       2.492876\n",
       "HML       4.033034\n",
       "RF        3.238734\n",
       "dtype: float64"
      ]
     },
     "execution_count": 14,
     "metadata": {},
     "output_type": "execute_result"
    }
   ],
   "source": [
    "df.mean()*12"
   ]
  },
  {
   "cell_type": "markdown",
   "metadata": {
    "colab_type": "text",
    "id": "uYDit1Htdicc"
   },
   "source": [
    "**Tracking portfolios**\n",
    "\n",
    "Tracking portfolios are the portfolios that use a set of factors to track the returns on an asset.\n",
    "\n",
    "* It can be used as a way to construct hedges for corporations, hedges for trading strategies, or a way to define a benchmark for an active management.\n",
    "\n",
    "* It is used to construct what people in the industry calls \"portable alpha\", because it allows one to separate the alpha of a trading strategy's factor exposure\n",
    "\n",
    "* The idea of the tracking portoflio is to track the component of an asset return that can be obtained by investing in a simple traded factor. For now, this means the market portfolio\n",
    "\n",
    "How to do it?\n",
    "\n",
    "* For a given trading strategy, consider the following relation\n",
    "\n",
    "  $$r^e_i=\\alpha_i+\\beta_ir^{MKT}+\\epsilon_i, $$\n",
    "\n",
    "  with $var(\\epsilon_i)=\\sigma_e^2$\n",
    "\n",
    "* the $i^{th}$ Tracking portfolio is $\\beta_iW^{MKT}$, where $W^{MKT}$ is the vector of weights of the market portfolio.\n",
    "\n",
    "* or if one is trading directly on the total market portfolio as an asset, the tracking portfolio weight on the market portfolio asset is simply $\\beta_i$\n"
   ]
  },
  {
   "cell_type": "code",
   "execution_count": 20,
   "metadata": {},
   "outputs": [
    {
     "data": {
      "image/png": "[encoded data removed]",
      "text/plain": [
       "<Figure size 432x288 with 1 Axes>"
      ]
     },
     "metadata": {
      "needs_background": "light"
     },
     "output_type": "display_data"
    }
   ],
   "source": [
    "# Returns on the tracking portfolio\n",
    "Portfolio=df['HML']\n",
    "MKT=df['Mkt-RF']\n",
    "Tracking=MKT*results.params[1]\n",
    "\n",
    "plt.scatter(x=Portfolio,y=Portfolio)\n",
    "plt.scatter(x=Portfolio,y=Tracking)\n",
    "plt.show()"
   ]
  },
  {
   "cell_type": "markdown",
   "metadata": {},
   "source": [
    "We see here the obvious fact that we cannot track at all variation in HML with the market portfolio so the capture very different risks"
   ]
  },
  {
   "cell_type": "markdown",
   "metadata": {
    "colab_type": "text",
    "id": "1ty8s9Vodick"
   },
   "source": [
    "**Hedged portfolio**\n",
    "\n",
    "The Hedged strategy return (also called portable alpha) is \n",
    "\n",
    " $$r^{hedged}_i=r^e_i-\\beta_ir^{MKT}$$\n",
    "\n",
    " * This portoflio can be constructed simply by $W^i-\\beta^iW^{MKT}$, the weights of the trading strategy minus the tracking portfolio weights. \n",
    "  \n",
    " * The excess returns take out risk-free rate effects, and the hedged portfolio takes out market factor effects\n",
    "\n",
    "A few observations\n",
    "\n",
    "- The mean return of the hedged portfolio is just the time series alpha!\n",
    "\n",
    "- The vol of the strategy is the vol of the residuals of the time series regression\n",
    "\n",
    "- If you run a regression on the market you will see that the hedged portfolios have $\\beta=0$, which is by construction. This is the reason why sometimes people call these portfolios \"Pure Alpha\", or as Bridgwater calls it, \"Portable Alpha\"\n",
    "\n",
    "- By construction, because we hedged market risk, the entire SR is enhancing the MV frontier relative to the CAPM\n"
   ]
  },
  {
   "cell_type": "code",
   "execution_count": 35,
   "metadata": {
    "colab": {
     "base_uri": "https://localhost:8080/",
     "height": 265
    },
    "colab_type": "code",
    "executionInfo": {
     "elapsed": 1131,
     "status": "ok",
     "timestamp": 1577476111974,
     "user": {
      "displayName": "yuchi yao",
      "photoUrl": "",
      "userId": "00457884373990713813"
     },
     "user_tz": 300
    },
    "id": "O7EUXvDudick",
    "outputId": "7b068a0a-13ef-4926-ba35-c087a4b15e64"
   },
   "outputs": [
    {
     "data": {
      "image/png": "[encoded data removed]",
      "text/plain": [
       "<Figure size 432x288 with 1 Axes>"
      ]
     },
     "metadata": {
      "needs_background": "light"
     },
     "output_type": "display_data"
    },
    {
     "data": {
      "text/plain": [
       "<AxesSubplot:xlabel='Date'>"
      ]
     },
     "execution_count": 35,
     "metadata": {},
     "output_type": "execute_result"
    },
    {
     "data": {
      "image/png": "[encoded data removed]",
      "text/plain": [
       "<Figure size 432x288 with 1 Axes>"
      ]
     },
     "metadata": {
      "needs_background": "light"
     },
     "output_type": "display_data"
    }
   ],
   "source": [
    "# Returns on the hedged portfolio\n",
    "Hedged=Portfolio-Tracking\n",
    "RF=df.RF\n",
    "plt.scatter(x=MKT,y=MKT)\n",
    "plt.scatter(x=MKT,y=Hedged)\n",
    "plt.show()\n",
    "(Hedged/100+RF/100+1).cumprod().plot(logy=True)\n"
   ]
  },
  {
   "cell_type": "markdown",
   "metadata": {},
   "source": [
    ">Insight: The average excess return on the hedged portfolio is the alpha of the unhedged portfolio!\n",
    ">Intution: The hedged portfolio has mechanically zero beta (in-sample) so it's excess return is \"pure\" alpha"
   ]
  },
  {
   "cell_type": "code",
   "execution_count": 29,
   "metadata": {
    "colab": {
     "base_uri": "https://localhost:8080/",
     "height": 85
    },
    "colab_type": "code",
    "executionInfo": {
     "elapsed": 913,
     "status": "ok",
     "timestamp": 1577476115149,
     "user": {
      "displayName": "yuchi yao",
      "photoUrl": "",
      "userId": "00457884373990713813"
     },
     "user_tz": 300
    },
    "id": "7kezIJ_udicm",
    "outputId": "7befb08d-1df8-440b-f323-760d3e986881"
   },
   "outputs": [
    {
     "name": "stdout",
     "output_type": "stream",
     "text": [
      "hedge portfolio excess returns\n",
      "2.7509763704390657\n",
      "alpha of unhedge portfolio\n",
      "2.7509763704390675\n"
     ]
    }
   ],
   "source": [
    "\n",
    "print('hedge portfolio excess returns')\n",
    "print(Hedged.mean()*12)\n",
    "print('alpha of unhedge portfolio')\n",
    "alpha=results.params[0]\n",
    "print(alpha*12)\n"
   ]
  },
  {
   "cell_type": "markdown",
   "metadata": {
    "colab_type": "text",
    "id": "F55eGFpNdicp"
   },
   "source": [
    "**Appraisal ratio**\n",
    "\n",
    "Appraisal ratio is the Sharpe ratio of the hedged portfolio\n",
    "  \n",
    "$$Appraisal=AR=\\frac{\\alpha}{\\sigma_e}=\\frac{E[r^{Hedged}]}{\\sigma(r^{Hedged})},$$\n",
    "  \n",
    "  where $\\sigma_e$ is the standard deviation of the regression residual\n",
    "\n",
    ">Appraisal ratio  is key because it tells you how much extra Sharpe ratio relative to the factor you can get by investing in this asset"
   ]
  },
  {
   "cell_type": "code",
   "execution_count": 30,
   "metadata": {
    "colab": {
     "base_uri": "https://localhost:8080/",
     "height": 51
    },
    "colab_type": "code",
    "executionInfo": {
     "elapsed": 913,
     "status": "ok",
     "timestamp": 1577476118447,
     "user": {
      "displayName": "yuchi yao",
      "photoUrl": "",
      "userId": "00457884373990713813"
     },
     "user_tz": 300
    },
    "id": "RUOQumKWdicp",
    "outputId": "013651b0-3793-43e8-c6ef-540ee1b7ed77"
   },
   "outputs": [
    {
     "name": "stdout",
     "output_type": "stream",
     "text": [
      "0.23292739985685582\n",
      "0.232927399856856\n"
     ]
    }
   ],
   "source": [
    "\n",
    "print(Hedged.mean()/Hedged.std()*12**0.5)\n",
    "sigma_e=results.resid.std()\n",
    "print((alpha/sigma_e)*12**0.5)"
   ]
  },
  {
   "cell_type": "markdown",
   "metadata": {
    "colab_type": "text",
    "id": "yOVewBUrdidC"
   },
   "source": [
    "> By how much can you increase your portfolio Sharpe ratio if you combine otpimally the test asset and the refrence portfolio? \n",
    "\n",
    "- for any two strategies A and B that have **zero correlation** with each other, you can find the maximum achievable Sharpe Ratio with the simple formula (this is particular case of the math we did in Chapter 10)\n",
    "\n",
    "$$SR_{final}=\\sqrt{SR_{A}^2+SR_{B}^2}$$\n",
    "\n",
    "- The Hedged and the market are orthogonal by construction--> we took out any beta exposure the asset might have!\n",
    "\n",
    "\n",
    "$$SR_{final}=\\sqrt{SR_{MKT}^2+SR_{Hedged}^2}$$\n",
    "\n",
    "Or \n",
    "\n",
    "$$SR_{final}=\\sqrt{SR_{MKT}^2+(\\frac{\\alpha}{\\sigma_e})^2}$$\n",
    "\n",
    "- This is very general and  can be used any time you run time-series test."
   ]
  },
  {
   "cell_type": "code",
   "execution_count": 34,
   "metadata": {
    "colab": {
     "base_uri": "https://localhost:8080/",
     "height": 51
    },
    "colab_type": "code",
    "executionInfo": {
     "elapsed": 971,
     "status": "ok",
     "timestamp": 1577476139654,
     "user": {
      "displayName": "yuchi yao",
      "photoUrl": "",
      "userId": "00457884373990713813"
     },
     "user_tz": 300
    },
    "id": "9XFjLLo7didC",
    "outputId": "7419852e-4f28-42c5-e09c-dedb1659ed02"
   },
   "outputs": [
    {
     "name": "stdout",
     "output_type": "stream",
     "text": [
      "market annualized SR:0.4435623135666871\n",
      "market annualized SR:0.5010016962253798\n"
     ]
    }
   ],
   "source": [
    "mkt_SR=MKT.mean()/MKT.std()\n",
    "print('market annualized SR:'+str(mkt_SR*12**0.5))\n",
    "AR=(alpha/sigma_e)\n",
    "Final_SR=(mkt_SR**2+AR**2)**0.5\n",
    "print('market annualized SR:'+str(Final_SR*12**0.5))"
   ]
  },
  {
   "cell_type": "markdown",
   "metadata": {},
   "source": [
    "The gains here are very modest in this case, a 10% increase in the SR. We will see later that these gains were substantially larger when the paper was published. What does that suggest to you?"
   ]
  },
  {
   "cell_type": "markdown",
   "metadata": {
    "colab_type": "text",
    "id": "2joUBYhPdics"
   },
   "source": [
    "-----------------------------------------\n",
    "*Aside:  There is a tight link between the t-stat of the time-series regression and the appraisal ratio*\n",
    "\n",
    "* Note that is the t-stat was constructed under the assumption that returns are i.i.d., we have\n",
    "\n",
    "$$\\sigma(\\alpha)=\\frac{\\sigma(\\epsilon)}{\\sqrt{T}}=\\frac{\\sigma_e}{\\sqrt{T}} $$\n",
    "\n",
    "* Therefore we have\n",
    "$$\n",
    "Appraisal=\\frac{\\alpha}{\\sigma_e}\n",
    "=\\frac{\\alpha}{\\sigma(\\alpha)\\sqrt{T}}\n",
    "=\\frac{\\text{t-stat}}{\\sqrt{T}}\n",
    "$$\n",
    "\n",
    "_______________"
   ]
  },
  {
   "cell_type": "markdown",
   "metadata": {
    "colab_type": "text",
    "id": "YhdRcX10dicv"
   },
   "source": [
    "**How to Combine the  Hedged portfolio (alpha) and the Market (beta)**\n",
    "\n",
    "- Recall our formula for the tangency portfolio weights derived in chapter 10\n",
    "\n",
    "$$W^*= Var(R^e)^{-1}E[R^e]$$\n",
    "\n",
    "- Now this becomes really simple because the covariance of the new Hedged-MVE strategy is zero with the market\n",
    "\n",
    "$$Var(R^e)=\\left[\\begin{array}{cc} \\sigma^2(R_{MKT}^e) & 0\\\\0 & \\sigma^2(R_{Hedged,i})\\end{array}\\right]$$\n",
    "\n",
    "- So the optimal weights are just\n",
    "\n",
    "$$W^* = \\left[\\begin{array}{c} \\frac{E[R^e_{MKT}]}{\\sigma^2(R_{MKT}^e)} \\\\ \\frac{\\alpha}{\\sigma^2(R_{Hedged,i})}\\end{array}\\right]$$\n",
    "\n",
    "\n",
    "- You invest in each strategy according to the strength of the risk-return trade-off in the strategy\n",
    "\n",
    "- Note that anything that invest proportionally in those two assets will still be tangency, i.e. if $W^*$ is tangency $0.3*W^*$ is tangency as well!\n",
    "\n",
    "- But how much you invest overall will depend on how much risk you want to take\n",
    "\n",
    "\n",
    "\n"
   ]
  },
  {
   "cell_type": "code",
   "execution_count": 46,
   "metadata": {
    "colab": {
     "base_uri": "https://localhost:8080/",
     "height": 34
    },
    "colab_type": "code",
    "executionInfo": {
     "elapsed": 428,
     "status": "ok",
     "timestamp": 1577476125381,
     "user": {
      "displayName": "yuchi yao",
      "photoUrl": "",
      "userId": "00457884373990713813"
     },
     "user_tz": 300
    },
    "id": "byHVaAXIdicw",
    "outputId": "2722e724-14fb-4fee-bc2d-a5f22f3d19fd"
   },
   "outputs": [
    {
     "data": {
      "text/plain": [
       "array([0.02394183, 0.01972215])"
      ]
     },
     "execution_count": 46,
     "metadata": {},
     "output_type": "execute_result"
    }
   ],
   "source": [
    "# optimal combination\n",
    "W=np.array([MKT.mean()/MKT.var(),Hedged.mean()/Hedged.var()])\n",
    "W"
   ]
  },
  {
   "cell_type": "markdown",
   "metadata": {},
   "source": [
    "- Note that the weights are very far from adding up to one\n",
    "- Thus this portfolio will have small volatility\n",
    "- One could normalize the eights to add up to on, but that would also be quite arbitrary since the Hedged portfolio is itself a long-short portfolio.\n",
    "- Below we will calibrate the **leverage** of the strategy to have the same volatility as the market so things are comparable"
   ]
  },
  {
   "cell_type": "code",
   "execution_count": 50,
   "metadata": {},
   "outputs": [
    {
     "data": {
      "text/plain": [
       "array([0.88535092, 0.72931035])"
      ]
     },
     "execution_count": 50,
     "metadata": {},
     "output_type": "execute_result"
    }
   ],
   "source": [
    "# calibrating the leverage to match marekt volatility\n",
    "R=pd.concat([MKT,Hedged],axis='columns')\n",
    "R.columns=['Mkt-RF','Hedged']\n",
    "stdW=(W @ R.cov() @ W)**0.5\n",
    "stdMkt=MKT.std()\n",
    "W_mktvol=W*(stdMkt/stdW)\n",
    "W_mktvol"
   ]
  },
  {
   "cell_type": "markdown",
   "metadata": {},
   "source": [
    "- You see that the weights add up to way more than one\n",
    "\n",
    "- This comes from the hedged potrfolio having lower vol than the market\n",
    "\n",
    "- and the diversification benefits of combining two strategies with zero correlation\n",
    "\n"
   ]
  },
  {
   "cell_type": "code",
   "execution_count": 51,
   "metadata": {},
   "outputs": [
    {
     "data": {
      "text/plain": [
       "Mkt-RF    5.348188\n",
       "Hedged    3.409382\n",
       "dtype: float64"
      ]
     },
     "execution_count": 51,
     "metadata": {},
     "output_type": "execute_result"
    }
   ],
   "source": [
    "R.std()"
   ]
  },
  {
   "cell_type": "code",
   "execution_count": 52,
   "metadata": {},
   "outputs": [
    {
     "data": {
      "image/png": "[encoded data removed]",
      "text/plain": [
       "<Figure size 432x288 with 1 Axes>"
      ]
     },
     "metadata": {
      "needs_background": "light"
     },
     "output_type": "display_data"
    }
   ],
   "source": [
    "# optimal portfolio returns\n",
    "Optimalportfolio=W_mktvol[0]*MKT+W_mktvol[1]*Hedged\n",
    "# adjust optimal portfolio to have the same volatility as the market\n",
    "(Optimalportfolio/100+RF/100+1).cumprod().plot()\n",
    "(MKT/100+RF/100+1).cumprod().plot(logy=True)\n",
    "plt.legend(['optimal','MKT'])\n",
    "plt.show()"
   ]
  },
  {
   "cell_type": "markdown",
   "metadata": {},
   "source": [
    "Note that you can side step all this and directly consturct the portfolio by applying the tagency portfolio formula to the two correlated strategies"
   ]
  },
  {
   "cell_type": "code",
   "execution_count": 64,
   "metadata": {},
   "outputs": [
    {
     "name": "stdout",
     "output_type": "stream",
     "text": [
      "0.7734909277731046\n",
      "0.7734909277731046\n"
     ]
    }
   ],
   "source": [
    "W=df[['Mkt-RF','HML']].mean()@np.linalg.inv(df[['Mkt-RF','HML']].cov())\n",
    "# formula for unlevereaged portfolio vol\n",
    "vol_unlevered=(df[['Mkt-RF','HML']].mean()@np.linalg.inv(df[['Mkt-RF','HML']].cov())@df[['Mkt-RF','HML']].mean())**0.5\n",
    "\n",
    "W_lev=W*(df['Mkt-RF'].std()/vol_unlevered)\n",
    "Optimalportfolio2= df[['Mkt-RF','HML']] @ W_lev\n",
    "print('mean of optimal portfolio consutructed directly from tangency formula')\n",
    "print(Optimalportfolio2.mean())\n",
    "print('mean of optimal portfolio consutructed using regression analysis and hedged portfolios')\n",
    "print(Optimalportfolio.mean())"
   ]
  },
  {
   "cell_type": "markdown",
   "metadata": {},
   "source": [
    "**Why do the regression analysis then?**\n",
    "\n",
    "Becasue ofter you will not simply invest mechanically accoridng to the MV framework\n",
    "\n",
    "You will use the regression to detect alpha and how mcuh the strategy can potentially enhance your sharpe ratio and then use other considerations like the ones we discuss in the followuing chapters to consider how much to allocate\n",
    "\n",
    "This calculation is useful because it provides a kind of upper bound on the gains you can harvest from the strategy because it is the best you can do if you only care about sharpe ratios. We will discuss more this on the chapter \"equilibrium thinking\""
   ]
  }
 ],
 "metadata": {
  "colab": {
   "collapsed_sections": [],
   "name": "Notebook 8.ipynb",
   "provenance": []
  },
  "kernelspec": {
   "display_name": "Python 3",
   "language": "python",
   "name": "python3"
  },
  "language_info": {
   "codemirror_mode": {
    "name": "ipython",
    "version": 3
   },
   "file_extension": ".py",
   "mimetype": "text/x-python",
   "name": "python",
   "nbconvert_exporter": "python",
   "pygments_lexer": "ipython3",
   "version": "3.8.5"
  }
 },
 "nbformat": 4,
 "nbformat_minor": 4
}
