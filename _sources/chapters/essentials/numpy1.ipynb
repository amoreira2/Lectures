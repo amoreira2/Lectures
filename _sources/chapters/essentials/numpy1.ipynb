{
 "cells": [
  {
   "cell_type": "markdown",
   "metadata": {},
   "source": [
    "# Introduction to Numpy\n",
    "\n",
    "\n",
    "\n"
   ]
  },
  {
   "cell_type": "markdown",
   "metadata": {},
   "source": [
    "## Numpy Arrays\n",
    "\n",
    "Now that we have learned the fundamentals of programming in Python, we will learn how we can use Python\n",
    "to perform the computations required in data science and economics. We call these the “scientific Python tools”.\n",
    "\n",
    "The foundational library that helps us perform these computations is known as `numpy` (numerical\n",
    "Python).\n",
    "\n",
    "Numpy’s core contribution is a new data-type called an *array*.\n",
    "\n",
    "An array is similar to a list, but numpy imposes some additional restrictions on how the data inside is organized.\n",
    "\n",
    "These restrictions allow numpy to\n",
    "\n",
    "1. Be more efficient in performing mathematical and scientific computations.  \n",
    "1. Expose functions that allow numpy to do the necessary linear algebra for machine learning and statistics.  \n",
    "\n",
    "\n",
    "Before we get started, please note that the convention for importing the numpy package is to use the\n",
    "nickname `np`:"
   ]
  },
  {
   "cell_type": "code",
   "execution_count": 1,
   "metadata": {
    "hide-output": false
   },
   "outputs": [],
   "source": [
    "import numpy as np"
   ]
  },
  {
   "cell_type": "markdown",
   "metadata": {},
   "source": [
    "### What is an Array?\n",
    "\n",
    "An array is a multi-dimensional grid of values.\n",
    "\n",
    "What does this mean? It is easier to demonstrate than to explain.\n",
    "\n",
    "In this block of code, we build a 1-dimensional array."
   ]
  },
  {
   "cell_type": "code",
   "execution_count": 2,
   "metadata": {
    "hide-output": false
   },
   "outputs": [
    {
     "name": "stdout",
     "output_type": "stream",
     "text": [
      "[1 2 3]\n"
     ]
    }
   ],
   "source": [
    "# create an array from a list\n",
    "x_1d = np.array([1, 2, 3])\n",
    "print(x_1d)"
   ]
  },
  {
   "cell_type": "markdown",
   "metadata": {},
   "source": [
    "You can think of a 1-dimensional array as a list of numbers."
   ]
  },
  {
   "cell_type": "code",
   "execution_count": 3,
   "metadata": {
    "hide-output": false
   },
   "outputs": [
    {
     "name": "stdout",
     "output_type": "stream",
     "text": [
      "1\n",
      "[1 2]\n"
     ]
    }
   ],
   "source": [
    "# We can index like we did with lists\n",
    "print(x_1d[0])\n",
    "print(x_1d[0:2])"
   ]
  },
  {
   "cell_type": "markdown",
   "metadata": {},
   "source": [
    "Note that the range of indices does not include the end-point, that\n",
    "is"
   ]
  },
  {
   "cell_type": "code",
   "execution_count": 4,
   "metadata": {
    "hide-output": false
   },
   "outputs": [
    {
     "name": "stdout",
     "output_type": "stream",
     "text": [
      "[ True  True  True]\n",
      "[1 2]\n"
     ]
    }
   ],
   "source": [
    "print(x_1d[0:3] == x_1d[:])\n",
    "print(x_1d[0:2])"
   ]
  },
  {
   "cell_type": "markdown",
   "metadata": {},
   "source": [
    "The differences emerge as we move into higher dimensions.\n",
    "\n",
    "Next, we define a 2-dimensional array (a matrix)"
   ]
  },
  {
   "cell_type": "code",
   "execution_count": 5,
   "metadata": {
    "hide-output": false
   },
   "outputs": [
    {
     "name": "stdout",
     "output_type": "stream",
     "text": [
      "[[1 2 3]\n",
      " [4 5 6]\n",
      " [7 8 9]]\n"
     ]
    }
   ],
   "source": [
    "x_2d = np.array([[1, 2, 3], [4, 5, 6], [7, 8, 9]])\n",
    "print(x_2d)"
   ]
  },
  {
   "cell_type": "markdown",
   "metadata": {},
   "source": [
    "Notice that the data is no longer represented as something flat, but rather,\n",
    "as three rows and three columns of numbers.\n",
    "\n",
    "The first question that you might ask yourself is: “how do I access the values in this array?”\n",
    "\n",
    "You access each element by specifying a row first and then a column. For\n",
    "example, if we wanted to access the `6`, we would ask for the (1, 2) element."
   ]
  },
  {
   "cell_type": "code",
   "execution_count": 6,
   "metadata": {
    "hide-output": false
   },
   "outputs": [
    {
     "name": "stdout",
     "output_type": "stream",
     "text": [
      "6\n"
     ]
    }
   ],
   "source": [
    "print(x_2d[1, 2])  # Indexing into two dimensions!"
   ]
  },
  {
   "cell_type": "markdown",
   "metadata": {},
   "source": [
    "Or to get the top left corner…"
   ]
  },
  {
   "cell_type": "code",
   "execution_count": 7,
   "metadata": {
    "hide-output": false
   },
   "outputs": [
    {
     "name": "stdout",
     "output_type": "stream",
     "text": [
      "1\n"
     ]
    }
   ],
   "source": [
    "print(x_2d[0, 0])  # Indexing into two dimensions!"
   ]
  },
  {
   "cell_type": "markdown",
   "metadata": {},
   "source": [
    "To get the first, and then second rows…"
   ]
  },
  {
   "cell_type": "code",
   "execution_count": 8,
   "metadata": {
    "hide-output": false
   },
   "outputs": [
    {
     "name": "stdout",
     "output_type": "stream",
     "text": [
      "[1 2 3]\n",
      "[4 5 6]\n"
     ]
    }
   ],
   "source": [
    "print(x_2d[0, :])\n",
    "print(x_2d[1, :])"
   ]
  },
  {
   "cell_type": "markdown",
   "metadata": {},
   "source": [
    "Or the columns…"
   ]
  },
  {
   "cell_type": "code",
   "execution_count": 9,
   "metadata": {
    "hide-output": false
   },
   "outputs": [
    {
     "name": "stdout",
     "output_type": "stream",
     "text": [
      "[1 4 7]\n",
      "[2 5 8]\n"
     ]
    }
   ],
   "source": [
    "print(x_2d[:, 0])\n",
    "print(x_2d[:, 1])"
   ]
  },
  {
   "cell_type": "markdown",
   "metadata": {},
   "source": [
    "This continues to generalize, since numpy gives us as many dimensions as we want in an array.\n",
    "\n"
   ]
  },
  {
   "cell_type": "markdown",
   "metadata": {},
   "source": [
    "#### Array Indexing\n",
    "\n",
    "Now that there are multiple dimensions, indexing might feel somewhat non-obvious.\n",
    "\n",
    "Do the rows or columns come first? In higher dimensions, what is the order of\n",
    "the index?\n",
    "\n",
    "Notice that the array is built using a list of lists (you could also use tuples!).\n",
    "\n",
    "Indexing into the array will correspond to choosing elements from each list.\n",
    "\n",
    "First, notice that the dimensions give two stacked matrices, which we can access with"
   ]
  },
  {
   "cell_type": "code",
   "execution_count": 10,
   "metadata": {
    "hide-output": false
   },
   "outputs": [
    {
     "name": "stdout",
     "output_type": "stream",
     "text": [
      "[1 2 3]\n",
      "[4 5 6]\n"
     ]
    }
   ],
   "source": [
    "print(x_2d[0])\n",
    "print(x_2d[1])"
   ]
  },
  {
   "cell_type": "markdown",
   "metadata": {},
   "source": [
    "In the case of the first, it is synonymous with"
   ]
  },
  {
   "cell_type": "code",
   "execution_count": 11,
   "metadata": {
    "hide-output": false
   },
   "outputs": [
    {
     "name": "stdout",
     "output_type": "stream",
     "text": [
      "[1 2 3]\n",
      "[4 5 6]\n"
     ]
    }
   ],
   "source": [
    "print(x_2d[0, :])\n",
    "print(x_2d[1, :])"
   ]
  },
  {
   "cell_type": "markdown",
   "metadata": {},
   "source": [
    "Notice that we put a `:` on the dimension where we want to select all of the elements. We can also\n",
    "slice out subsets of the elements by doing `start:stop+1`.\n",
    "\n",
    "Notice how the following arrays differ."
   ]
  },
  {
   "cell_type": "code",
   "execution_count": 12,
   "metadata": {
    "hide-output": false
   },
   "outputs": [
    {
     "name": "stdout",
     "output_type": "stream",
     "text": [
      "[1 4 7]\n",
      "[[1 2]\n",
      " [4 5]\n",
      " [7 8]]\n",
      "[[1 2]\n",
      " [4 5]\n",
      " [7 8]]\n"
     ]
    }
   ],
   "source": [
    "print(x_2d[:, 0])\n",
    "print(x_2d[:, 0:2])\n",
    "print(x_2d[:, :2])  # the 0  in 0:2 is optional"
   ]
  },
  {
   "cell_type": "markdown",
   "metadata": {},
   "source": [
    "## Array Functionality"
   ]
  },
  {
   "cell_type": "markdown",
   "metadata": {},
   "source": [
    "### Array Properties\n",
    "\n",
    "All numpy arrays have various useful properties.\n",
    "\n",
    "Properties are similar to methods in that they’re accessed through\n",
    "the “dot notation.” However, they aren’t a function so we don’t need parentheses.\n",
    "\n",
    "The two most frequently used properties are `shape` and `dtype`.\n",
    "\n",
    "`shape` tells us how many elements are in each array dimension.\n",
    "\n",
    "`dtype` tells us the types of an array’s elements.\n",
    "\n",
    "Let’s do some examples to see these properties in action."
   ]
  },
  {
   "cell_type": "code",
   "execution_count": 13,
   "metadata": {
    "hide-output": false
   },
   "outputs": [
    {
     "name": "stdout",
     "output_type": "stream",
     "text": [
      "(2, 3)\n",
      "int32\n"
     ]
    }
   ],
   "source": [
    "x = np.array([[1, 2, 3], [4, 5, 6]])\n",
    "print(x.shape)\n",
    "print(x.dtype)"
   ]
  },
  {
   "cell_type": "markdown",
   "metadata": {},
   "source": [
    "We’ll use this to practice unpacking a tuple, like `x.shape`, directly into variables."
   ]
  },
  {
   "cell_type": "code",
   "execution_count": 14,
   "metadata": {
    "hide-output": false
   },
   "outputs": [
    {
     "name": "stdout",
     "output_type": "stream",
     "text": [
      "rows = 2, columns = 3\n"
     ]
    }
   ],
   "source": [
    "rows, columns = x.shape\n",
    "print(f\"rows = {rows}, columns = {columns}\")"
   ]
  },
  {
   "cell_type": "code",
   "execution_count": 15,
   "metadata": {
    "hide-output": false
   },
   "outputs": [
    {
     "name": "stdout",
     "output_type": "stream",
     "text": [
      "(3,)\n",
      "bool\n"
     ]
    }
   ],
   "source": [
    "x = np.array([True, False, True])\n",
    "print(x.shape)\n",
    "print(x.dtype)"
   ]
  },
  {
   "cell_type": "markdown",
   "metadata": {},
   "source": [
    "Note that in the above, the `(3,)` represents a tuple of length 1, distinct from a scalar integer `3`."
   ]
  },
  {
   "cell_type": "code",
   "execution_count": 16,
   "metadata": {
    "hide-output": false
   },
   "outputs": [
    {
     "name": "stdout",
     "output_type": "stream",
     "text": [
      "(2, 3, 2)\n",
      "float64\n"
     ]
    }
   ],
   "source": [
    "x = np.array([\n",
    "    [[1.0, 2.0], [3.0, 4.0], [5.0, 6.0]],\n",
    "    [[7.0, 8.0], [9.0, 10.0], [11.0, 12.0]]\n",
    "])\n",
    "print(x.shape)\n",
    "print(x.dtype)"
   ]
  },
  {
   "cell_type": "markdown",
   "metadata": {},
   "source": [
    "### Creating Arrays\n",
    "\n",
    "It’s usually impractical to define arrays by hand as we have done so far.\n",
    "\n",
    "We’ll often need to create an array with default values and then fill it\n",
    "with other values.\n",
    "\n",
    "We can create arrays with the functions `np.zeros` and `np.ones`.\n",
    "\n",
    "Both functions take a tuple that denotes the shape of an array and creates an\n",
    "array filled with 0s or 1s respectively."
   ]
  },
  {
   "cell_type": "code",
   "execution_count": 17,
   "metadata": {
    "hide-output": false
   },
   "outputs": [
    {
     "data": {
      "text/plain": [
       "array([[[0., 0., 0., 0.],\n",
       "        [0., 0., 0., 0.],\n",
       "        [0., 0., 0., 0.]],\n",
       "\n",
       "       [[0., 0., 0., 0.],\n",
       "        [0., 0., 0., 0.],\n",
       "        [0., 0., 0., 0.]]])"
      ]
     },
     "execution_count": 17,
     "metadata": {},
     "output_type": "execute_result"
    }
   ],
   "source": [
    "sizes = (2, 3, 4)\n",
    "x = np.zeros(sizes) # note, a tuple!\n",
    "x"
   ]
  },
  {
   "cell_type": "code",
   "execution_count": 18,
   "metadata": {
    "hide-output": false
   },
   "outputs": [
    {
     "data": {
      "text/plain": [
       "array([1., 1., 1., 1.])"
      ]
     },
     "execution_count": 18,
     "metadata": {},
     "output_type": "execute_result"
    }
   ],
   "source": [
    "y = np.ones((4))\n",
    "y"
   ]
  },
  {
   "cell_type": "markdown",
   "metadata": {},
   "source": [
    "### Broadcasting Operations\n",
    "\n",
    "Two types of operations that will be useful for arrays of any dimension are:\n",
    "\n",
    "1. Operations between an array and a single number.  \n",
    "1. Operations between two arrays of the same shape.  \n",
    "\n",
    "\n",
    "When we perform operations on an array by using a single number, we simply apply that operation to every element of the array."
   ]
  },
  {
   "cell_type": "code",
   "execution_count": 19,
   "metadata": {
    "hide-output": false
   },
   "outputs": [
    {
     "name": "stdout",
     "output_type": "stream",
     "text": [
      "x =  [[1. 1.]\n",
      " [1. 1.]]\n",
      "2 + x =  [[3. 3.]\n",
      " [3. 3.]]\n",
      "2 - x =  [[1. 1.]\n",
      " [1. 1.]]\n",
      "2 * x =  [[2. 2.]\n",
      " [2. 2.]]\n",
      "x / 2 =  [[0.5 0.5]\n",
      " [0.5 0.5]]\n"
     ]
    }
   ],
   "source": [
    "# Using np.ones to create an array\n",
    "x = np.ones((2, 2))\n",
    "print(\"x = \", x)\n",
    "print(\"2 + x = \", 2 + x)\n",
    "print(\"2 - x = \", 2 - x)\n",
    "print(\"2 * x = \", 2 * x)\n",
    "print(\"x / 2 = \", x / 2)"
   ]
  },
  {
   "cell_type": "markdown",
   "metadata": {},
   "source": [
    "\n",
    "Operations between two arrays of the same size, in this case `(2, 2)`, simply apply the operation\n",
    "element-wise between the arrays."
   ]
  },
  {
   "cell_type": "code",
   "execution_count": 20,
   "metadata": {
    "hide-output": false
   },
   "outputs": [
    {
     "name": "stdout",
     "output_type": "stream",
     "text": [
      "x =  [[1. 2.]\n",
      " [3. 4.]]\n",
      "y =  [[1. 1.]\n",
      " [1. 1.]]\n",
      "x + y =  [[2. 3.]\n",
      " [4. 5.]]\n",
      "x - y [[0. 1.]\n",
      " [2. 3.]]\n",
      "(elementwise) x * y =  [[1. 2.]\n",
      " [3. 4.]]\n",
      "(elementwise) x / y =  [[1. 2.]\n",
      " [3. 4.]]\n"
     ]
    }
   ],
   "source": [
    "x = np.array([[1.0, 2.0], [3.0, 4.0]])\n",
    "y = np.ones((2, 2))\n",
    "print(\"x = \", x)\n",
    "print(\"y = \", y)\n",
    "print(\"x + y = \", x + y)\n",
    "print(\"x - y\", x - y)\n",
    "print(\"(elementwise) x * y = \", x * y)\n",
    "print(\"(elementwise) x / y = \", x / y)"
   ]
  },
  {
   "cell_type": "markdown",
   "metadata": {},
   "source": [
    "### Dot Product\n",
    "\n",
    "Another operation very frequently used in data science is the **dot product**.\n",
    "\n",
    "The dot between $ x $ and $ y $ is written $ x \\cdot y $ and is\n",
    "equal to $ \\sum_{i=1}^N x_i y_i $.\n",
    "\n",
    "**(We will use this one a lot!)**"
   ]
  },
  {
   "cell_type": "markdown",
   "metadata": {},
   "source": [
    "We can  use `@` to denote dot products (and matrix multiplication which we’ll see soon!)."
   ]
  },
  {
   "cell_type": "code",
   "execution_count": 5,
   "metadata": {
    "hide-output": false
   },
   "outputs": [
    {
     "name": "stdout",
     "output_type": "stream",
     "text": [
      "Dot product with @ 32\n"
     ]
    }
   ],
   "source": [
    "print(\"Dot product with @\", x @ y)"
   ]
  },
  {
   "cell_type": "markdown",
   "metadata": {},
   "source": [
    "## Visualizing Vectors\n",
    "\n",
    "A (N-element) vector is $ N $ numbers stored together.\n",
    "\n",
    "We typically write a vector as $ x = \\begin{bmatrix} x_1 \\\\ x_2 \\\\ \\dots \\\\ x_N \\end{bmatrix} $.\n",
    "\n",
    "In numpy terms, a vector is a 1-dimensional array.\n",
    "\n",
    "\n"
   ]
  },
  {
   "cell_type": "markdown",
   "metadata": {},
   "source": [
    "## Matrices\n",
    "\n",
    "An $ N \\times M $ matrix can be thought of as a collection of M\n",
    "N-element vectors stacked side-by-side as columns.\n",
    "\n",
    "We write a matrix as\n",
    "\n",
    "$$\n",
    "\\begin{bmatrix} x_{11} & x_{12} & \\dots & x_{1M} \\\\\n",
    "                x_{21} & \\dots & \\dots & x_{2M} \\\\\n",
    "                \\vdots & \\vdots & \\vdots & \\vdots \\\\\n",
    "                x_{N1} & x_{N2} & \\dots & x_{NM}\n",
    "\\end{bmatrix}\n",
    "$$\n",
    "\n",
    "In numpy terms, a matrix is a 2-dimensional array.\n",
    "\n",
    "We can create a matrix by passing a list of lists to the `np.array` function."
   ]
  },
  {
   "cell_type": "code",
   "execution_count": 6,
   "metadata": {
    "hide-output": false
   },
   "outputs": [],
   "source": [
    "x = np.array([[1, 2, 3], [4, 5, 6]])\n",
    "y = np.ones((2, 3))\n",
    "z = np.array([[1, 2], [3, 4], [5, 6]])"
   ]
  },
  {
   "cell_type": "markdown",
   "metadata": {},
   "source": [
    "We can perform element-wise and scalar operations as we did with vectors. In fact, we can do\n",
    "these two operations on arrays of any dimension."
   ]
  },
  {
   "cell_type": "code",
   "execution_count": 7,
   "metadata": {
    "hide-output": false
   },
   "outputs": [
    {
     "name": "stdout",
     "output_type": "stream",
     "text": [
      "Element-wise Addition\n",
      " [[2. 3. 4.]\n",
      " [5. 6. 7.]]\n",
      "Element-wise Subtraction\n",
      " [[0. 1. 2.]\n",
      " [3. 4. 5.]]\n",
      "Element-wise Multiplication\n",
      " [[1. 2. 3.]\n",
      " [4. 5. 6.]]\n",
      "Element-wise Division\n",
      " [[1. 2. 3.]\n",
      " [4. 5. 6.]]\n",
      "Scalar Addition\n",
      " [[4 5 6]\n",
      " [7 8 9]]\n",
      "Scalar Subtraction\n",
      " [[ 2  1  0]\n",
      " [-1 -2 -3]]\n",
      "Scalar Multiplication\n",
      " [[ 3  6  9]\n",
      " [12 15 18]]\n",
      "Scalar Division\n",
      " [[3.   1.5  1.  ]\n",
      " [0.75 0.6  0.5 ]]\n"
     ]
    }
   ],
   "source": [
    "print(\"Element-wise Addition\\n\", x + y)\n",
    "print(\"Element-wise Subtraction\\n\", x - y)\n",
    "print(\"Element-wise Multiplication\\n\", x * y)\n",
    "print(\"Element-wise Division\\n\", x / y)\n",
    "\n",
    "print(\"Scalar Addition\\n\", 3 + x)\n",
    "print(\"Scalar Subtraction\\n\", 3 - x)\n",
    "print(\"Scalar Multiplication\\n\", 3 * x)\n",
    "print(\"Scalar Division\\n\", 3 / x)"
   ]
  },
  {
   "cell_type": "markdown",
   "metadata": {},
   "source": [
    "### Transpose\n",
    "\n",
    "A matrix transpose is an operation that flips all elements of a matrix along the diagonal.\n",
    "\n",
    "More formally, the $ (i, j) $ element of $ x $ becomes the $ (j, i) $ element of\n",
    "$ x^T $.\n",
    "\n",
    "In particular, let $ x $ be given by\n",
    "\n",
    "$$\n",
    "x = \\begin{bmatrix} 1 & 2 & 3 \\\\\n",
    "                    4 & 5 & 6 \\\\\n",
    "                    7 & 8 & 9 \\\\\n",
    "    \\end{bmatrix}\n",
    "$$\n",
    "\n",
    "then $ x $ transpose, written as $ x' $, is given by\n",
    "\n",
    "$$\n",
    "x = \\begin{bmatrix} 1 & 4 & 7 \\\\\n",
    "                    2 & 5 & 8 \\\\\n",
    "                    3 & 6 & 9 \\\\\n",
    "    \\end{bmatrix}\n",
    "$$\n",
    "\n",
    "In Python, we do this by"
   ]
  },
  {
   "cell_type": "code",
   "execution_count": 11,
   "metadata": {
    "hide-output": false
   },
   "outputs": [
    {
     "name": "stdout",
     "output_type": "stream",
     "text": [
      "x transpose is\n",
      "[[1 4 7]\n",
      " [2 5 8]\n",
      " [3 6 9]]\n"
     ]
    }
   ],
   "source": [
    "x = np.array([[1, 2, 3], [4, 5, 6], [7, 8, 9]])\n",
    "\n",
    "print(\"x transpose is\")\n",
    "print(x.transpose())"
   ]
  },
  {
   "cell_type": "markdown",
   "metadata": {},
   "source": [
    "### Identity Matrix\n",
    "\n",
    "In linear algebra, one particular matrix acts very similarly to how 1 behaves for scalar numbers.\n",
    "\n",
    "This matrix is known as the *identity matrix* and is given by\n",
    "\n",
    "$$\n",
    "I = \\begin{bmatrix} 1  & 0 & 0 & \\dots & 0 \\\\\n",
    "                    0 & 1 & 0 & \\dots & 0 \\\\\n",
    "                    \\vdots & \\vdots & \\ddots & \\vdots & \\vdots \\\\\n",
    "                    0 & 0 & 0 & \\dots & 1\n",
    "    \\end{bmatrix}\n",
    "$$\n",
    "\n",
    "As seen above, it has 1s on the diagonal and 0s everywhere else.\n",
    "\n",
    "When we multiply any matrix or vector by the identity matrix, we get the original matrix or vector\n",
    "back!\n",
    "\n",
    "Let’s see some examples."
   ]
  },
  {
   "cell_type": "code",
   "execution_count": 12,
   "metadata": {
    "hide-output": false
   },
   "outputs": [
    {
     "name": "stdout",
     "output_type": "stream",
     "text": [
      "I @ x \n",
      " [[0. 1. 2.]\n",
      " [3. 4. 5.]\n",
      " [6. 7. 8.]]\n",
      "x @ I \n",
      " [[0. 1. 2.]\n",
      " [3. 4. 5.]\n",
      " [6. 7. 8.]]\n",
      "I @ y \n",
      " [1. 2. 3.]\n",
      "y @ I \n",
      " [1. 2. 3.]\n"
     ]
    }
   ],
   "source": [
    "I = np.eye(3)\n",
    "x = np.reshape(np.arange(9), (3, 3))\n",
    "y = np.array([1, 2, 3])\n",
    "\n",
    "print(\"I @ x\", \"\\n\", I @ x)\n",
    "print(\"x @ I\", \"\\n\", x @ I)\n",
    "print(\"I @ y\", \"\\n\", I @ y)\n",
    "print(\"y @ I\", \"\\n\", y @ I)"
   ]
  },
  {
   "cell_type": "markdown",
   "metadata": {},
   "source": [
    "### Matrix Multiplication"
   ]
  },
  {
   "cell_type": "markdown",
   "metadata": {},
   "source": [
    "Similar to how we combine vectors with a dot product, matrices can do what we’ll call *matrix\n",
    "multiplication*.\n",
    "\n",
    "Matrix multiplication is effectively a generalization of dot products.\n",
    "\n",
    "**Matrix multiplication**: Let $ v = x \\cdot y $ then we can write\n",
    "$ v_{ij} = \\sum_{k=1}^N x_{ik} y_{kj} $ where $ x_{ij} $ is notation that denotes the\n",
    "element found in the ith row and jth column of the matrix $ x $.\n",
    "\n",
    "The image below from [Wikipedia](https://commons.wikimedia.org/wiki/File:Matrix_multiplication_diagram.svg),\n",
    "by Bilou, shows how matrix multiplication simplifies to a series of dot products:\n",
    "\n",
    "![image](https://upload.wikimedia.org/wikipedia/commons/1/11/Matrix_multiplication_diagram.svg)\n",
    "\n",
    "  \n",
    "After looking at the math and image above, you might have realized that matrix\n",
    "multiplication requires very specific matrix shapes!\n",
    "\n",
    "For two matrices $ x, y $ to be multiplied, $ x $\n",
    "must have the same number of columns as $ y $ has rows.\n",
    "\n",
    "Formally, we require that for some integer numbers, $ M, N, $ and $ K $\n",
    "that if $ x $ is $ N \\times M $ then $ y $ must be $ M \\times\n",
    "K $.\n",
    "\n",
    "If we think of a vector as a $ 1 \\times M $ or $ M \\times 1 $ matrix, we can even do\n",
    "matrix multiplication between a matrix and a vector!\n",
    "\n",
    "Let’s see some examples of this."
   ]
  },
  {
   "cell_type": "code",
   "execution_count": 8,
   "metadata": {
    "hide-output": false
   },
   "outputs": [],
   "source": [
    "x1 = np.reshape(np.arange(6), (3, 2))\n",
    "x2 = np.array([[1, 2], [3, 4], [5, 6], [7, 8]])\n",
    "x3 = np.array([[2, 5, 2], [1, 2, 1]])\n",
    "x4 = np.ones((2, 3))\n",
    "\n",
    "y1 = np.array([1, 2, 3])\n",
    "y2 = np.array([0.5, 0.5])"
   ]
  },
  {
   "cell_type": "markdown",
   "metadata": {},
   "source": [
    "Numpy allows us to do matrix multiplication in three ways."
   ]
  },
  {
   "cell_type": "code",
   "execution_count": 9,
   "metadata": {
    "hide-output": false
   },
   "outputs": [
    {
     "name": "stdout",
     "output_type": "stream",
     "text": [
      "Using @ for two matrices\n",
      "[[1. 1. 1.]\n",
      " [5. 5. 5.]\n",
      " [9. 9. 9.]]\n"
     ]
    }
   ],
   "source": [
    "\n",
    "print(\"Using @ for two matrices\")\n",
    "print(x1 @ x4)"
   ]
  },
  {
   "cell_type": "code",
   "execution_count": 10,
   "metadata": {
    "hide-output": false
   },
   "outputs": [
    {
     "name": "stdout",
     "output_type": "stream",
     "text": [
      "Using @ for vec and mat\n",
      "[16 22]\n"
     ]
    }
   ],
   "source": [
    "\n",
    "print(\"Using @ for vec and mat\")\n",
    "print(y1 @ x1)"
   ]
  },
  {
   "cell_type": "markdown",
   "metadata": {},
   "source": [
    "## Universal Functions\n",
    "\n",
    "We will often need to transform data by applying a function to every element of an array.\n",
    "\n",
    "Numpy has good support for these operations, called *universal functions* or ufuncs for short.\n",
    "\n",
    "The\n",
    "[numpy documentation](https://docs.scipy.org/doc/numpy/reference/ufuncs.html?highlight=ufunc#available-ufuncs)\n",
    "has a list of all available ufuncs.\n",
    "\n",
    ">**Note**\n",
    ">\n",
    ">You should think of operations between a single number and an array, as we\n",
    "just saw, as a ufunc.\n",
    "\n",
    "Below, we will create an array that contains 10 points between 0 and 25."
   ]
  },
  {
   "cell_type": "code",
   "execution_count": 21,
   "metadata": {
    "hide-output": false
   },
   "outputs": [],
   "source": [
    "# This is similar to range -- but spits out 50 evenly spaced points from 0.5\n",
    "# to 25.\n",
    "x = np.linspace(0.5, 25, 10)"
   ]
  },
  {
   "cell_type": "markdown",
   "metadata": {},
   "source": [
    "We will experiment with some ufuncs below:"
   ]
  },
  {
   "cell_type": "code",
   "execution_count": 22,
   "metadata": {
    "hide-output": false
   },
   "outputs": [
    {
     "data": {
      "text/plain": [
       "array([ 0.47942554, -0.08054223, -0.33229977,  0.68755122, -0.92364381,\n",
       "        0.99966057, -0.9024271 ,  0.64879484, -0.28272056, -0.13235175])"
      ]
     },
     "execution_count": 22,
     "metadata": {},
     "output_type": "execute_result"
    }
   ],
   "source": [
    "# Applies the sin function to each element of x\n",
    "np.sin(x)"
   ]
  },
  {
   "cell_type": "markdown",
   "metadata": {},
   "source": [
    "You can use the inspector or the docstrings with `np.<TAB>` to see other available functions, such as"
   ]
  },
  {
   "cell_type": "code",
   "execution_count": 23,
   "metadata": {
    "hide-output": false
   },
   "outputs": [
    {
     "data": {
      "text/plain": [
       "array([-0.69314718,  1.17007125,  1.78245708,  2.15948425,  2.43263822,\n",
       "        2.64696251,  2.82336105,  2.97325942,  3.10358967,  3.21887582])"
      ]
     },
     "execution_count": 23,
     "metadata": {},
     "output_type": "execute_result"
    }
   ],
   "source": [
    "# Takes log of each element of x\n",
    "np.log(x)"
   ]
  },
  {
   "cell_type": "markdown",
   "metadata": {},
   "source": [
    "A benefit of using the numpy arrays is that numpy has succinct code for combining vectorized operations."
   ]
  },
  {
   "cell_type": "code",
   "execution_count": 24,
   "metadata": {
    "hide-output": false
   },
   "outputs": [
    {
     "data": {
      "text/plain": [
       "array([0.        , 1.38629436, 3.29583687])"
      ]
     },
     "execution_count": 24,
     "metadata": {},
     "output_type": "execute_result"
    }
   ],
   "source": [
    "# Calculate log(z) * z elementwise\n",
    "z = np.array([1,2,3])\n",
    "np.log(z) * z"
   ]
  },
  {
   "cell_type": "markdown",
   "metadata": {},
   "source": [
    "## Other Useful Array Operations\n",
    "\n",
    "We have barely scratched the surface of what is possible using numpy arrays.\n",
    "\n",
    "We hope you will experiment with other functions from numpy and see how they\n",
    "work.\n",
    "\n",
    "Below, we demonstrate a few more array operations that we find most useful – just to give you an idea\n",
    "of what else you might find.\n",
    "\n",
    "When you’re attempting to do an operation that you feel should be common, the numpy library probably has it.\n",
    "\n",
    "Use Google and tab completion to check this."
   ]
  },
  {
   "cell_type": "code",
   "execution_count": 25,
   "metadata": {
    "hide-output": false
   },
   "outputs": [],
   "source": [
    "x = np.linspace(0, 25, 10)"
   ]
  },
  {
   "cell_type": "code",
   "execution_count": 26,
   "metadata": {
    "hide-output": false
   },
   "outputs": [
    {
     "data": {
      "text/plain": [
       "12.5"
      ]
     },
     "execution_count": 26,
     "metadata": {},
     "output_type": "execute_result"
    }
   ],
   "source": [
    "np.mean(x)"
   ]
  },
  {
   "cell_type": "code",
   "execution_count": 27,
   "metadata": {
    "hide-output": false
   },
   "outputs": [
    {
     "data": {
      "text/plain": [
       "7.9785592313028175"
      ]
     },
     "execution_count": 27,
     "metadata": {},
     "output_type": "execute_result"
    }
   ],
   "source": [
    "np.std(x)"
   ]
  },
  {
   "cell_type": "code",
   "execution_count": 28,
   "metadata": {
    "hide-output": false
   },
   "outputs": [
    {
     "data": {
      "text/plain": [
       "25.0"
      ]
     },
     "execution_count": 28,
     "metadata": {},
     "output_type": "execute_result"
    }
   ],
   "source": [
    "# np.min, np.median, etc... are also defined\n",
    "np.max(x)"
   ]
  },
  {
   "cell_type": "code",
   "execution_count": 29,
   "metadata": {
    "hide-output": false
   },
   "outputs": [
    {
     "data": {
      "text/plain": [
       "array([2.77777778, 2.77777778, 2.77777778, 2.77777778, 2.77777778,\n",
       "       2.77777778, 2.77777778, 2.77777778, 2.77777778])"
      ]
     },
     "execution_count": 29,
     "metadata": {},
     "output_type": "execute_result"
    }
   ],
   "source": [
    "np.diff(x)"
   ]
  },
  {
   "cell_type": "code",
   "execution_count": 30,
   "metadata": {
    "hide-output": false
   },
   "outputs": [
    {
     "data": {
      "text/plain": [
       "array([[ 0.        ,  2.77777778],\n",
       "       [ 5.55555556,  8.33333333],\n",
       "       [11.11111111, 13.88888889],\n",
       "       [16.66666667, 19.44444444],\n",
       "       [22.22222222, 25.        ]])"
      ]
     },
     "execution_count": 30,
     "metadata": {},
     "output_type": "execute_result"
    }
   ],
   "source": [
    "np.reshape(x, (5, 2))"
   ]
  },
  {
   "cell_type": "markdown",
   "metadata": {},
   "source": [
    "Note that many of these operations can be called as methods on `x`:"
   ]
  },
  {
   "cell_type": "code",
   "execution_count": 31,
   "metadata": {
    "hide-output": false
   },
   "outputs": [
    {
     "name": "stdout",
     "output_type": "stream",
     "text": [
      "12.5\n",
      "7.9785592313028175\n",
      "25.0\n",
      "[[ 0.          2.77777778]\n",
      " [ 5.55555556  8.33333333]\n",
      " [11.11111111 13.88888889]\n",
      " [16.66666667 19.44444444]\n",
      " [22.22222222 25.        ]]\n"
     ]
    }
   ],
   "source": [
    "print(x.mean())\n",
    "print(x.std())\n",
    "print(x.max())\n",
    "print(x.reshape((5, 2)))"
   ]
  },
  {
   "cell_type": "markdown",
   "metadata": {},
   "source": [
    "##  A list of some Array Methods\n",
    "\n",
    "\n",
    "<a id='index-6'></a>\n",
    "Arrays have useful methods, all of which are carefully optimized"
   ]
  },
  {
   "cell_type": "code",
   "execution_count": 32,
   "metadata": {
    "hide-output": false
   },
   "outputs": [
    {
     "data": {
      "text/plain": [
       "array([4, 3, 2, 1])"
      ]
     },
     "execution_count": 32,
     "metadata": {},
     "output_type": "execute_result"
    }
   ],
   "source": [
    "a = np.array((4, 3, 2, 1))\n",
    "a"
   ]
  },
  {
   "cell_type": "code",
   "execution_count": 33,
   "metadata": {
    "hide-output": false
   },
   "outputs": [
    {
     "data": {
      "text/plain": [
       "array([1, 2, 3, 4])"
      ]
     },
     "execution_count": 33,
     "metadata": {},
     "output_type": "execute_result"
    }
   ],
   "source": [
    "a.sort()              # Sorts a in place\n",
    "a"
   ]
  },
  {
   "cell_type": "code",
   "execution_count": 34,
   "metadata": {
    "hide-output": false
   },
   "outputs": [
    {
     "data": {
      "text/plain": [
       "10"
      ]
     },
     "execution_count": 34,
     "metadata": {},
     "output_type": "execute_result"
    }
   ],
   "source": [
    "a.sum()               # Sum"
   ]
  },
  {
   "cell_type": "code",
   "execution_count": 35,
   "metadata": {
    "hide-output": false
   },
   "outputs": [
    {
     "data": {
      "text/plain": [
       "2.5"
      ]
     },
     "execution_count": 35,
     "metadata": {},
     "output_type": "execute_result"
    }
   ],
   "source": [
    "a.mean()              # Mean"
   ]
  },
  {
   "cell_type": "code",
   "execution_count": 36,
   "metadata": {
    "hide-output": false
   },
   "outputs": [
    {
     "data": {
      "text/plain": [
       "4"
      ]
     },
     "execution_count": 36,
     "metadata": {},
     "output_type": "execute_result"
    }
   ],
   "source": [
    "a.max()               # Max"
   ]
  },
  {
   "cell_type": "code",
   "execution_count": 37,
   "metadata": {
    "hide-output": false
   },
   "outputs": [
    {
     "data": {
      "text/plain": [
       "3"
      ]
     },
     "execution_count": 37,
     "metadata": {},
     "output_type": "execute_result"
    }
   ],
   "source": [
    "a.argmax()            # Returns the index of the maximal element"
   ]
  },
  {
   "cell_type": "code",
   "execution_count": 38,
   "metadata": {
    "hide-output": false
   },
   "outputs": [
    {
     "data": {
      "text/plain": [
       "array([ 1,  3,  6, 10], dtype=int32)"
      ]
     },
     "execution_count": 38,
     "metadata": {},
     "output_type": "execute_result"
    }
   ],
   "source": [
    "a.cumsum()            # Cumulative sum of the elements of a"
   ]
  },
  {
   "cell_type": "code",
   "execution_count": 39,
   "metadata": {
    "hide-output": false
   },
   "outputs": [
    {
     "data": {
      "text/plain": [
       "array([ 1,  2,  6, 24], dtype=int32)"
      ]
     },
     "execution_count": 39,
     "metadata": {},
     "output_type": "execute_result"
    }
   ],
   "source": [
    "a.cumprod()           # Cumulative product of the elements of a"
   ]
  },
  {
   "cell_type": "code",
   "execution_count": 40,
   "metadata": {
    "hide-output": false
   },
   "outputs": [
    {
     "data": {
      "text/plain": [
       "1.25"
      ]
     },
     "execution_count": 40,
     "metadata": {},
     "output_type": "execute_result"
    }
   ],
   "source": [
    "a.var()               # Variance"
   ]
  },
  {
   "cell_type": "code",
   "execution_count": 41,
   "metadata": {
    "hide-output": false
   },
   "outputs": [
    {
     "data": {
      "text/plain": [
       "1.118033988749895"
      ]
     },
     "execution_count": 41,
     "metadata": {},
     "output_type": "execute_result"
    }
   ],
   "source": [
    "a.std()               # Standard deviation"
   ]
  },
  {
   "cell_type": "code",
   "execution_count": 42,
   "metadata": {
    "hide-output": false
   },
   "outputs": [
    {
     "data": {
      "text/plain": [
       "array([1, 2, 3, 4])"
      ]
     },
     "execution_count": 42,
     "metadata": {},
     "output_type": "execute_result"
    }
   ],
   "source": [
    "\n",
    "a.T                   # Equivalent to a.transpose()"
   ]
  },
  {
   "cell_type": "markdown",
   "metadata": {},
   "source": [
    "Many of the methods discussed above have equivalent functions in the NumPy namespace"
   ]
  },
  {
   "cell_type": "code",
   "execution_count": 43,
   "metadata": {
    "hide-output": false
   },
   "outputs": [],
   "source": [
    "a = np.array((4, 3, 2, 1))"
   ]
  },
  {
   "cell_type": "code",
   "execution_count": 44,
   "metadata": {
    "hide-output": false
   },
   "outputs": [
    {
     "data": {
      "text/plain": [
       "10"
      ]
     },
     "execution_count": 44,
     "metadata": {},
     "output_type": "execute_result"
    }
   ],
   "source": [
    "np.sum(a)"
   ]
  },
  {
   "cell_type": "code",
   "execution_count": 45,
   "metadata": {
    "hide-output": false
   },
   "outputs": [
    {
     "data": {
      "text/plain": [
       "2.5"
      ]
     },
     "execution_count": 45,
     "metadata": {},
     "output_type": "execute_result"
    }
   ],
   "source": [
    "np.mean(a)"
   ]
  },
  {
   "cell_type": "markdown",
   "metadata": {},
   "source": [
    "## Mutability and Copying Arrays\n",
    "\n",
    "NumPy arrays are mutable data types, like Python lists.\n",
    "\n",
    "In other words, their contents can be altered (mutated) in memory after initialization.\n",
    "\n",
    "We already saw examples above.\n",
    "\n",
    "Here’s another example:"
   ]
  },
  {
   "cell_type": "code",
   "execution_count": 46,
   "metadata": {
    "hide-output": false
   },
   "outputs": [
    {
     "data": {
      "text/plain": [
       "array([42, 44])"
      ]
     },
     "execution_count": 46,
     "metadata": {},
     "output_type": "execute_result"
    }
   ],
   "source": [
    "a = np.array([42, 44])\n",
    "a"
   ]
  },
  {
   "cell_type": "code",
   "execution_count": 47,
   "metadata": {
    "hide-output": false
   },
   "outputs": [
    {
     "data": {
      "text/plain": [
       "array([42,  0])"
      ]
     },
     "execution_count": 47,
     "metadata": {},
     "output_type": "execute_result"
    }
   ],
   "source": [
    "a[-1] = 0  # Change last element to 0\n",
    "a"
   ]
  },
  {
   "cell_type": "markdown",
   "metadata": {},
   "source": [
    "Mutability leads to the following behavior (which can be shocking to MATLAB programmers…)"
   ]
  },
  {
   "cell_type": "code",
   "execution_count": 48,
   "metadata": {
    "hide-output": false
   },
   "outputs": [
    {
     "data": {
      "text/plain": [
       "array([-2.74255688, -1.31106808, -1.56576428])"
      ]
     },
     "execution_count": 48,
     "metadata": {},
     "output_type": "execute_result"
    }
   ],
   "source": [
    "a = np.random.randn(3)\n",
    "a"
   ]
  },
  {
   "cell_type": "code",
   "execution_count": 49,
   "metadata": {
    "hide-output": false
   },
   "outputs": [
    {
     "data": {
      "text/plain": [
       "array([ 0.        , -1.31106808, -1.56576428])"
      ]
     },
     "execution_count": 49,
     "metadata": {},
     "output_type": "execute_result"
    }
   ],
   "source": [
    "b = a\n",
    "b[0] = 0.0\n",
    "a"
   ]
  },
  {
   "cell_type": "markdown",
   "metadata": {},
   "source": [
    "What’s happened is that we have changed `a` by changing `b`.\n",
    "\n",
    "The name `b` is bound to `a` and becomes just another reference to the\n",
    "array (the Python assignment model is described in more detail [later in the course](https://python-programming.quantecon.org/python_advanced_features.html)).\n",
    "\n",
    "Hence, it has equal rights to make changes to that array.\n",
    "\n",
    "This is in fact the most sensible default behavior!\n",
    "\n",
    "It means that we pass around only pointers to data, rather than making copies.\n",
    "\n",
    "Making copies is expensive in terms of both speed and memory."
   ]
  },
  {
   "cell_type": "markdown",
   "metadata": {},
   "source": [
    "### Making Copies\n",
    "\n",
    "It is of course possible to make `b` an independent copy of `a` when required.\n",
    "\n",
    "This can be done using `np.copy`"
   ]
  },
  {
   "cell_type": "code",
   "execution_count": 50,
   "metadata": {
    "hide-output": false
   },
   "outputs": [
    {
     "data": {
      "text/plain": [
       "array([ 0.72461914, -0.79681709,  0.09462078])"
      ]
     },
     "execution_count": 50,
     "metadata": {},
     "output_type": "execute_result"
    }
   ],
   "source": [
    "a = np.random.randn(3)\n",
    "a"
   ]
  },
  {
   "cell_type": "code",
   "execution_count": 51,
   "metadata": {
    "hide-output": false
   },
   "outputs": [
    {
     "data": {
      "text/plain": [
       "array([ 0.72461914, -0.79681709,  0.09462078])"
      ]
     },
     "execution_count": 51,
     "metadata": {},
     "output_type": "execute_result"
    }
   ],
   "source": [
    "b = np.copy(a)\n",
    "b"
   ]
  },
  {
   "cell_type": "markdown",
   "metadata": {},
   "source": [
    "Now `b` is an independent copy (called a *deep copy*)"
   ]
  },
  {
   "cell_type": "code",
   "execution_count": 52,
   "metadata": {
    "hide-output": false
   },
   "outputs": [
    {
     "data": {
      "text/plain": [
       "array([1., 1., 1.])"
      ]
     },
     "execution_count": 52,
     "metadata": {},
     "output_type": "execute_result"
    }
   ],
   "source": [
    "b[:] = 1\n",
    "b"
   ]
  },
  {
   "cell_type": "code",
   "execution_count": 53,
   "metadata": {
    "hide-output": false
   },
   "outputs": [
    {
     "data": {
      "text/plain": [
       "array([ 0.72461914, -0.79681709,  0.09462078])"
      ]
     },
     "execution_count": 53,
     "metadata": {},
     "output_type": "execute_result"
    }
   ],
   "source": [
    "a"
   ]
  },
  {
   "cell_type": "markdown",
   "metadata": {},
   "source": [
    "Note that the change to `b` has not affected `a`."
   ]
  },
  {
   "cell_type": "markdown",
   "metadata": {},
   "source": [
    "## Comparisons\n",
    "\n",
    "\n",
    "<a id='index-10'></a>\n",
    "As a rule, comparisons on arrays are done element-wise"
   ]
  },
  {
   "cell_type": "code",
   "execution_count": 54,
   "metadata": {
    "hide-output": false
   },
   "outputs": [
    {
     "data": {
      "text/plain": [
       "array([ True,  True])"
      ]
     },
     "execution_count": 54,
     "metadata": {},
     "output_type": "execute_result"
    }
   ],
   "source": [
    "z = np.array([2, 3])\n",
    "y = np.array([2, 3])\n",
    "z == y"
   ]
  },
  {
   "cell_type": "code",
   "execution_count": 55,
   "metadata": {
    "hide-output": false
   },
   "outputs": [
    {
     "data": {
      "text/plain": [
       "array([False,  True])"
      ]
     },
     "execution_count": 55,
     "metadata": {},
     "output_type": "execute_result"
    }
   ],
   "source": [
    "y[0] = 5\n",
    "z == y"
   ]
  },
  {
   "cell_type": "code",
   "execution_count": 56,
   "metadata": {
    "hide-output": false
   },
   "outputs": [
    {
     "data": {
      "text/plain": [
       "array([ True, False])"
      ]
     },
     "execution_count": 56,
     "metadata": {},
     "output_type": "execute_result"
    }
   ],
   "source": [
    "z != y"
   ]
  },
  {
   "cell_type": "markdown",
   "metadata": {},
   "source": [
    "The situation is similar for `>`, `<`, `>=` and `<=`.\n",
    "\n",
    "We can also do comparisons against scalars"
   ]
  },
  {
   "cell_type": "code",
   "execution_count": 57,
   "metadata": {
    "hide-output": false
   },
   "outputs": [
    {
     "data": {
      "text/plain": [
       "array([ 0. ,  2.5,  5. ,  7.5, 10. ])"
      ]
     },
     "execution_count": 57,
     "metadata": {},
     "output_type": "execute_result"
    }
   ],
   "source": [
    "z = np.linspace(0, 10, 5)\n",
    "z"
   ]
  },
  {
   "cell_type": "code",
   "execution_count": 58,
   "metadata": {
    "hide-output": false
   },
   "outputs": [
    {
     "data": {
      "text/plain": [
       "array([False, False,  True,  True,  True])"
      ]
     },
     "execution_count": 58,
     "metadata": {},
     "output_type": "execute_result"
    }
   ],
   "source": [
    "z > 3"
   ]
  },
  {
   "cell_type": "markdown",
   "metadata": {},
   "source": [
    "This is particularly useful for *conditional extraction*"
   ]
  },
  {
   "cell_type": "code",
   "execution_count": 59,
   "metadata": {
    "hide-output": false
   },
   "outputs": [
    {
     "data": {
      "text/plain": [
       "array([False, False,  True,  True,  True])"
      ]
     },
     "execution_count": 59,
     "metadata": {},
     "output_type": "execute_result"
    }
   ],
   "source": [
    "b = z > 3\n",
    "b"
   ]
  },
  {
   "cell_type": "code",
   "execution_count": 60,
   "metadata": {
    "hide-output": false
   },
   "outputs": [
    {
     "data": {
      "text/plain": [
       "array([ 5. ,  7.5, 10. ])"
      ]
     },
     "execution_count": 60,
     "metadata": {},
     "output_type": "execute_result"
    }
   ],
   "source": [
    "z[b]"
   ]
  },
  {
   "cell_type": "markdown",
   "metadata": {},
   "source": [
    "Of course we can—and frequently do—perform this in one step"
   ]
  },
  {
   "cell_type": "code",
   "execution_count": 61,
   "metadata": {
    "hide-output": false
   },
   "outputs": [
    {
     "data": {
      "text/plain": [
       "array([ 5. ,  7.5, 10. ])"
      ]
     },
     "execution_count": 61,
     "metadata": {},
     "output_type": "execute_result"
    }
   ],
   "source": [
    "z[z > 3]"
   ]
  }
 ],
 "metadata": {
  "date": 1595397099.706196,
  "download_nb": false,
  "filename": "numpy_arrays.rst",
  "filename_with_path": "scientific/numpy_arrays",
  "kernelspec": {
   "display_name": "Python 3",
   "language": "python",
   "name": "python3"
  },
  "language_info": {
   "codemirror_mode": {
    "name": "ipython",
    "version": 3
   },
   "file_extension": ".py",
   "mimetype": "text/x-python",
   "name": "python",
   "nbconvert_exporter": "python",
   "pygments_lexer": "ipython3",
   "version": "3.8.5"
  },
  "title": "Introduction to Numpy"
 },
 "nbformat": 4,
 "nbformat_minor": 4
}
