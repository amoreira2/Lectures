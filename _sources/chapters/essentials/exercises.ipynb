{
 "cells": [
  {
   "cell_type": "markdown",
   "id": "asian-still",
   "metadata": {},
   "source": [
    "# Collections"
   ]
  },
  {
   "cell_type": "markdown",
   "id": "decent-poultry",
   "metadata": {},
   "source": [
    "## Exercises\n",
    "\n",
    "\n",
    "<a id='exerciselist-0'></a>\n",
    "**Exercise 1**\n",
    "\n",
    "In the first cell, try `y.append(z)`.\n",
    "\n",
    "In the second cell try `y.extend(z)`.\n",
    "\n",
    "Explain the behavior.\n",
    "\n",
    "HINT: When you are trying to explain use `y.append?` and `y.extend?` to\n",
    "see a description of what these methods are supposed to do."
   ]
  },
  {
   "cell_type": "code",
   "execution_count": 59,
   "id": "great-identifier",
   "metadata": {
    "hide-output": true
   },
   "outputs": [],
   "source": [
    "y = [\"a\", \"b\", \"c\"]\n",
    "z = [1, 2, 3]\n",
    "# your code here\n",
    "print(y)"
   ]
  },
  {
   "cell_type": "code",
   "execution_count": 60,
   "id": "fixed-greek",
   "metadata": {
    "hide-output": true
   },
   "outputs": [],
   "source": [
    "y = [\"a\", \"b\", \"c\"]\n",
    "z = [1, 2, 3]\n",
    "# your code here\n",
    "print(y)"
   ]
  },
  {
   "cell_type": "markdown",
   "id": "pleased-pressure",
   "metadata": {},
   "source": [
    "([*back to text*](#exercise-0))\n",
    "\n",
    "**Exercise 2**\n",
    "\n",
    "Experiment with the other two versions of the `range` function."
   ]
  },
  {
   "cell_type": "code",
   "execution_count": 61,
   "id": "little-crowd",
   "metadata": {
    "hide-output": true
   },
   "outputs": [],
   "source": [
    "# try list(range(a, N)) -- you pick `a` and `N`"
   ]
  },
  {
   "cell_type": "code",
   "execution_count": 62,
   "id": "fitting-african",
   "metadata": {
    "hide-output": true
   },
   "outputs": [],
   "source": [
    "# try list(range(a, N, d)) -- you pick `a`, `N`, and `d`"
   ]
  },
  {
   "cell_type": "markdown",
   "id": "incident-crowd",
   "metadata": {},
   "source": [
    "([*back to text*](#exercise-1))\n",
    "\n",
    "**Exercise 3**\n",
    "\n",
    "Verify that tuples are indeed immutable by attempting the following:\n",
    "\n",
    "- Changing the first element of `t` to be `100`  \n",
    "- Appending a new element `\"!!\"` to the end of `t` (remember with a\n",
    "  list `x` we would use `x.append(\"!!\")` to do this  \n",
    "- Sorting `t`  \n",
    "- Reversing `t`  "
   ]
  },
  {
   "cell_type": "code",
   "execution_count": 63,
   "id": "passing-disorder",
   "metadata": {
    "hide-output": true
   },
   "outputs": [],
   "source": [
    "# change first element of t"
   ]
  },
  {
   "cell_type": "code",
   "execution_count": 64,
   "id": "brazilian-influence",
   "metadata": {
    "hide-output": true
   },
   "outputs": [],
   "source": [
    "# appending to t"
   ]
  },
  {
   "cell_type": "code",
   "execution_count": 65,
   "id": "industrial-editing",
   "metadata": {
    "hide-output": true
   },
   "outputs": [],
   "source": [
    "# sorting t"
   ]
  },
  {
   "cell_type": "code",
   "execution_count": 66,
   "id": "lonely-arkansas",
   "metadata": {
    "hide-output": true
   },
   "outputs": [],
   "source": [
    "# reversing t"
   ]
  },
  {
   "cell_type": "markdown",
   "id": "bibliographic-original",
   "metadata": {},
   "source": [
    "([*back to text*](#exercise-2))\n",
    "\n",
    "**Exercise 4 (opt)**\n",
    "\n",
    "**Challenging** For the tuple `foo` below, use a combination of `zip`,\n",
    "`range`, and `len` to mimic `enumerate(foo)`.\n",
    "\n",
    "Verify that your proposed solution is correct by converting each to a list\n",
    "and checking equality with `==`.\n",
    "\n",
    "HINT: You can see what the answer should look like by starting with\n",
    "`list(enumerate(foo))`."
   ]
  },
  {
   "cell_type": "code",
   "execution_count": 67,
   "id": "spanish-alexandria",
   "metadata": {
    "hide-output": false
   },
   "outputs": [],
   "source": [
    "foo = (\"good\", \"luck!\")"
   ]
  },
  {
   "cell_type": "markdown",
   "id": "neutral-webmaster",
   "metadata": {},
   "source": [
    "([*back to text*](#exercise-3))\n",
    "\n",
    "**Exercise 5**\n",
    "\n",
    "Create a new dict which associates stock tickers with its stock price.\n",
    "\n",
    "Here are some tickers and a price.\n",
    "\n",
    "- AAPL: 175.96  \n",
    "- GOOGL: 1047.43  \n",
    "- TVIX: 8.38  "
   ]
  },
  {
   "cell_type": "code",
   "execution_count": 68,
   "id": "specified-aaron",
   "metadata": {
    "hide-output": false
   },
   "outputs": [],
   "source": [
    "# your code here"
   ]
  },
  {
   "cell_type": "markdown",
   "id": "floral-anthropology",
   "metadata": {},
   "source": [
    "([*back to text*](#exercise-4))\n",
    "\n",
    "**Exercise 6**\n",
    "\n",
    "Look at the [World Factbook for Australia](https://www.cia.gov/-library/publications/the-world-factbook/geos/as.html)\n",
    "and create a dictionary with data containing the following types:\n",
    "float, string, integer, list, and dict.  Choose any data you wish.\n",
    "\n",
    "To confirm, you should have a dictionary that you identified via a key."
   ]
  },
  {
   "cell_type": "code",
   "execution_count": 69,
   "id": "resident-vanilla",
   "metadata": {
    "hide-output": false
   },
   "outputs": [],
   "source": [
    "# your code here"
   ]
  },
  {
   "cell_type": "markdown",
   "id": "northern-shock",
   "metadata": {},
   "source": [
    "([*back to text*](#exercise-5))\n",
    "\n",
    "**Exercise 7**\n",
    "\n",
    "Use Jupyter's help facilities to learn how to use the `pop` method to\n",
    "remove the key `\"irrigated_land\"` (and its value) from the dict."
   ]
  },
  {
   "cell_type": "code",
   "execution_count": 70,
   "id": "balanced-study",
   "metadata": {
    "hide-output": false
   },
   "outputs": [],
   "source": [
    "# uncomment and use the Inspector or ?\n",
    "#china_data.pop("
   ]
  },
  {
   "cell_type": "markdown",
   "id": "weekly-covering",
   "metadata": {},
   "source": [
    "([*back to text*](#exercise-6))\n",
    "\n",
    "**Exercise 8**\n",
    "\n",
    "Explain what happens to the value you popped.\n",
    "\n",
    "Experiment with calling `pop` twice."
   ]
  },
  {
   "cell_type": "code",
   "execution_count": 71,
   "id": "handled-bronze",
   "metadata": {
    "hide-output": false
   },
   "outputs": [],
   "source": [
    "# your code here"
   ]
  },
  {
   "cell_type": "markdown",
   "id": "monthly-corrections",
   "metadata": {},
   "source": [
    "([*back to text*](#exercise-7))\n",
    "\n",
    "**Exercise 9**\n",
    "\n",
    "Try creating a set with repeated elements (e.g. `{1, 2, 1, 2, 1, 2}`).\n",
    "\n",
    "What happens?\n",
    "\n",
    "Why?"
   ]
  },
  {
   "cell_type": "code",
   "execution_count": 72,
   "id": "missing-pizza",
   "metadata": {
    "hide-output": false
   },
   "outputs": [],
   "source": [
    "# your code here"
   ]
  },
  {
   "cell_type": "markdown",
   "id": "filled-vietnam",
   "metadata": {},
   "source": [
    "([*back to text*](#exercise-8))\n",
    "\n",
    "**Exercise 10**\n",
    "\n",
    "Test out two of the operations described above using the original set we\n",
    "created, `s`, and the set created below `s2`."
   ]
  },
  {
   "cell_type": "code",
   "execution_count": 73,
   "id": "stunning-dubai",
   "metadata": {
    "hide-output": false
   },
   "outputs": [],
   "source": [
    "s2 = {\"hello\", \"world\"}"
   ]
  },
  {
   "cell_type": "code",
   "execution_count": 74,
   "id": "blocked-ferry",
   "metadata": {
    "hide-output": false
   },
   "outputs": [],
   "source": [
    "# Operation 1"
   ]
  },
  {
   "cell_type": "code",
   "execution_count": 75,
   "id": "characteristic-single",
   "metadata": {
    "hide-output": false
   },
   "outputs": [],
   "source": [
    "# Operation 2"
   ]
  },
  {
   "cell_type": "markdown",
   "id": "physical-dominican",
   "metadata": {},
   "source": [
    "([*back to text*](#exercise-9))"
   ]
  },
  {
   "cell_type": "code",
   "execution_count": null,
   "id": "figured-conviction",
   "metadata": {},
   "outputs": [],
   "source": []
  },
  {
   "cell_type": "markdown",
   "id": "operational-brass",
   "metadata": {},
   "source": [
    "# control flow"
   ]
  },
  {
   "cell_type": "markdown",
   "id": "smoking-cancellation",
   "metadata": {},
   "source": [
    "## Exercises\n",
    "\n",
    "**NEED TO LOOK AT THE EXERICSES**\n",
    "\n",
    "<a id='exerciselist-0'></a>\n",
    "**Exercise 1**\n",
    "\n",
    "Government bonds are often issued as *zero-coupon bonds* meaning that they\n",
    "make no payments throughout the entire time that they are held, but, rather\n",
    "make a single payment at the time of maturity.\n",
    "\n",
    "How much should you be willing to pay for a zero-coupon bond that paid\n",
    "100 in 10 years with an interest rate of 5%?\n",
    "\n",
    "([*back to text*](#exercise-0))\n",
    "\n",
    "**Exercise 2**\n",
    "\n",
    "Run the following two variations on the code with only a single change in the indentation.\n",
    "\n",
    "After, modify the `x` to print `3` and then `2, 3` instead."
   ]
  },
  {
   "cell_type": "code",
   "execution_count": 28,
   "id": "round-kelly",
   "metadata": {
    "hide-output": false
   },
   "outputs": [
    {
     "name": "stdout",
     "output_type": "stream",
     "text": [
      "1\n",
      "2\n",
      "3\n"
     ]
    }
   ],
   "source": [
    "x = 1\n",
    "\n",
    "if x > 0:\n",
    "    print(\"1\")\n",
    "    print(\"2\")\n",
    "print(\"3\")"
   ]
  },
  {
   "cell_type": "code",
   "execution_count": 29,
   "id": "copyrighted-harvest",
   "metadata": {
    "hide-output": false
   },
   "outputs": [
    {
     "name": "stdout",
     "output_type": "stream",
     "text": [
      "1\n",
      "2\n",
      "3\n"
     ]
    }
   ],
   "source": [
    "x = 1\n",
    "\n",
    "if x > 0:\n",
    "    print(\"1\")\n",
    "print(\"2\") # changed the indentation\n",
    "print(\"3\")"
   ]
  },
  {
   "cell_type": "markdown",
   "id": "pharmaceutical-pioneer",
   "metadata": {},
   "source": [
    "([*back to text*](#exercise-1))\n",
    "\n",
    "**Exercise 3**\n",
    "\n",
    "Using the code cell below as a start, print `\"Good afternoon\"` if the\n",
    "`current_time` is past noon.\n",
    "\n",
    "Otherwise, do nothing.\n",
    "\n",
    "(Hint: Write some conditional based on `current_time.hour`.)"
   ]
  },
  {
   "cell_type": "markdown",
   "id": "atmospheric-anaheim",
   "metadata": {
    "hide-output": false
   },
   "source": [
    "```python\n",
    "import datetime\n",
    "current_time = datetime.datetime.now()\n",
    "\n",
    "## your code here\n",
    "```\n"
   ]
  },
  {
   "cell_type": "markdown",
   "id": "common-identifier",
   "metadata": {},
   "source": [
    "more text after\n",
    "\n",
    "([*back to text*](#exercise-2))\n",
    "\n",
    "**Exercise 4**\n",
    "\n",
    "In this example, you will generate a random number between 0 and 1\n",
    "and then display \"x > 0.5\" or \"x < 0.5\" depending on the value of the\n",
    "number.\n",
    "\n",
    "This also introduces a new package `numpy.random` for\n",
    "drawing random numbers (more in the [randomness](../scientific/randomness) lecture)."
   ]
  },
  {
   "cell_type": "code",
   "execution_count": 30,
   "id": "cooperative-thought",
   "metadata": {
    "hide-output": false
   },
   "outputs": [
    {
     "name": "stdout",
     "output_type": "stream",
     "text": [
      "x = 0.09418527094671292\n"
     ]
    }
   ],
   "source": [
    "import numpy as np\n",
    "x = np.random.random()\n",
    "print(f\"x = {x}\")\n",
    "\n",
    "## your code here"
   ]
  },
  {
   "cell_type": "markdown",
   "id": "mysterious-pottery",
   "metadata": {},
   "source": [
    "([*back to text*](#exercise-3))\n",
    "\n",
    "**Exercise 5**\n",
    "\n",
    "In economics, when an individual has some knowledge, skills, or education\n",
    "which provides them with a source of future income, we call it [human\n",
    "capital](https://en.wikipedia.org/wiki/Human_capital).\n",
    "\n",
    "When a student graduating from high school is considering whether to\n",
    "continue with post-secondary education, they may consider that it gives\n",
    "them higher paying jobs in the future, but requires that they don't begin\n",
    "working until after graduation.\n",
    "\n",
    "Consider the simplified example where a student has perfectly forecastable\n",
    "employment and is given two choices:\n",
    "\n",
    "1. Begin working immediately and make 40,000 a year until they retire 40\n",
    "years later.\n",
    "2. Pay 5,000 a year for the next 4 years to attend university, then\n",
    "get a job paying 50,000 a year until they retire 40 years after making\n",
    "the college attendance decision.\n",
    "\n",
    "Should the student enroll in school if the discount rate is r = 0.05?"
   ]
  },
  {
   "cell_type": "code",
   "execution_count": 31,
   "id": "expressed-webster",
   "metadata": {
    "hide-output": true
   },
   "outputs": [],
   "source": [
    "# Discount rate\n",
    "r = 0.05\n",
    "\n",
    "# High school wage\n",
    "w_hs = 40_000\n",
    "\n",
    "# College wage and cost of college\n",
    "c_college = 5_000\n",
    "w_college = 50_000\n",
    "\n",
    "# Compute npv of being a hs worker\n",
    "\n",
    "# Compute npv of attending college\n",
    "\n",
    "# Compute npv of being a college worker\n",
    "\n",
    "# Is npv_collegeworker - npv_collegecost > npv_hsworker"
   ]
  },
  {
   "cell_type": "markdown",
   "id": "explicit-killer",
   "metadata": {},
   "source": [
    "([*back to text*](#exercise-4))\n",
    "\n",
    "**Exercise 6**\n",
    "\n",
    "Instead of the above, write a for loop that uses the lists of cities\n",
    "and states below to print the same \"{city} is in {state}\" using\n",
    "a `zip` instead of an `enumerate`.\n",
    "\n",
    "*Hint*: try using `zip`"
   ]
  },
  {
   "cell_type": "code",
   "execution_count": 32,
   "id": "conservative-british",
   "metadata": {
    "hide-output": true
   },
   "outputs": [],
   "source": [
    "cities = [\"Phoenix\", \"Austin\", \"San Diego\", \"New York\"]\n",
    "states = [\"Arizona\", \"Texas\", \"California\", \"New York\"]\n",
    "\n",
    "# Your code here"
   ]
  },
  {
   "cell_type": "markdown",
   "id": "difficult-armor",
   "metadata": {},
   "source": [
    "([*back to text*](#exercise-5))\n",
    "\n",
    "**Exercise 7**\n",
    "\n",
    "Companies often invest in training their employees to raise their\n",
    "productivity. Economists sometimes wonder why companies\n",
    "spend this money when this incentivizes other companies to hire\n",
    "their employees away with higher salaries since employees gain human capital from training?\n",
    "\n",
    "Let's say that it costs a company 25,000 dollars to teach their\n",
    "employees Python, but it raises their output by 2,500 per month. How\n",
    "many months would an employee need to stay for the company to find it\n",
    "profitable to pay for their employees to learn Python if their discount\n",
    "rate is r = 0.01?"
   ]
  },
  {
   "cell_type": "code",
   "execution_count": 33,
   "id": "prime-client",
   "metadata": {
    "hide-output": false
   },
   "outputs": [],
   "source": [
    "# Define cost of teaching python\n",
    "cost = 25_000\n",
    "r = 0.01\n",
    "\n",
    "# Per month value\n",
    "added_value = 2500\n",
    "\n",
    "n_months = 0\n",
    "total_npv = 0.0\n",
    "\n",
    "# Put condition below here\n",
    "while False: # (replace False with your condition here)\n",
    "    n_months = n_months + 1  # Increment how many months they've worked\n",
    "\n",
    "    # Increase total_npv"
   ]
  },
  {
   "cell_type": "markdown",
   "id": "heated-intellectual",
   "metadata": {},
   "source": [
    "([*back to text*](#exercise-6))\n",
    "\n",
    "**Exercise 8**\n",
    "\n",
    "Try to find the index of the first value in `x`\n",
    "that is greater than 0.999 using a for loop and `break`.\n",
    "\n",
    "*Hint*: try iterating over `range(len(x))`."
   ]
  },
  {
   "cell_type": "code",
   "execution_count": 34,
   "id": "virgin-tyler",
   "metadata": {
    "hide-output": false
   },
   "outputs": [],
   "source": [
    "x = np.random.rand(10_000)\n",
    "# Your code here"
   ]
  },
  {
   "cell_type": "markdown",
   "id": "expensive-theater",
   "metadata": {},
   "source": [
    "([*back to text*](#exercise-7))\n",
    "\n",
    "**Exercise 9**\n",
    "\n",
    "Write a for loop that adds up all values in `x` that are greater than\n",
    "or equal to 0.5.\n",
    "\n",
    "Use the `continue` word to end the body of the loop early for all values\n",
    "of `x` that are less than 0.5.\n",
    "\n",
    "*Hint*: Try starting your loop with `for value in x:` instead of\n",
    "iterating over the indices of `x`."
   ]
  },
  {
   "cell_type": "code",
   "execution_count": 35,
   "id": "employed-likelihood",
   "metadata": {
    "hide-output": false
   },
   "outputs": [],
   "source": [
    "x = np.random.rand(10_000)\n",
    "# Your code here"
   ]
  },
  {
   "cell_type": "markdown",
   "id": "manufactured-despite",
   "metadata": {},
   "source": [
    "([*back to text*](#exercise-8))\n",
    "\n",
    "**Exercise 10**\n",
    "\n",
    "Returning to our previous example: print \"{city} is in {state}\" for each combination\n",
    "using a `zip` and a comprehension.\n",
    "\n",
    "*Hint*: try using `zip`"
   ]
  },
  {
   "cell_type": "code",
   "execution_count": 36,
   "id": "magnetic-revelation",
   "metadata": {
    "hide-output": true
   },
   "outputs": [],
   "source": [
    "cities = [\"Phoenix\", \"Austin\", \"San Diego\", \"New York\"]\n",
    "states = [\"Arizona\", \"Texas\", \"California\", \"New York\"]\n",
    "\n",
    "# your code here"
   ]
  },
  {
   "cell_type": "markdown",
   "id": "golden-vintage",
   "metadata": {},
   "source": [
    "([*back to text*](#exercise-9))"
   ]
  },
  {
   "cell_type": "code",
   "execution_count": null,
   "id": "quantitative-penetration",
   "metadata": {},
   "outputs": [],
   "source": []
  },
  {
   "cell_type": "markdown",
   "id": "facial-phone",
   "metadata": {},
   "source": [
    "# Functions"
   ]
  },
  {
   "cell_type": "markdown",
   "id": "premier-questionnaire",
   "metadata": {},
   "source": [
    "## Exercises\n",
    "\n",
    "\n",
    "<a id='exerciselist-0'></a>\n",
    "**Exercise 1**\n",
    "\n",
    "What happens if we try different inputs in our portfolio_returns function?"
   ]
  },
  {
   "cell_type": "code",
   "execution_count": 33,
   "id": "refined-injection",
   "metadata": {
    "hide-output": false
   },
   "outputs": [],
   "source": [
    "# Compute returns to scale with different values of `w` and `r` and `rf`"
   ]
  },
  {
   "cell_type": "markdown",
   "id": "conventional-swimming",
   "metadata": {},
   "source": [
    "([*back to text*](#exercise-0))\n",
    "\n",
    "**Exercise 2**\n",
    "\n",
    "Define a function named `var` that takes a list (call it `x`) and\n",
    "computes the variance. This function should use the mean function that we\n",
    "defined earlier.\n",
    "\n",
    "Hint: $ \\text{variance} = \\sum_i (x_i - \\text{mean}(x))^2 $"
   ]
  },
  {
   "cell_type": "code",
   "execution_count": 34,
   "id": "super-campbell",
   "metadata": {
    "hide-output": false
   },
   "outputs": [],
   "source": [
    "# Your code here."
   ]
  },
  {
   "cell_type": "markdown",
   "id": "optional-recruitment",
   "metadata": {},
   "source": [
    "([*back to text*](#exercise-1))\n",
    "\n",
    "**Exercise 3**\n",
    "\n",
    "Redefine the `return_given_fee` function and add a docstring.\n",
    "\n",
    "Confirm that it works by running the cell containing `return_given_fee?` below.\n",
    "\n",
    "*Note*: You do not need to change the actual code in the function — just\n",
    "copy/paste and add a docstring in the correct line."
   ]
  },
  {
   "cell_type": "markdown",
   "id": "lesbian-andrews",
   "metadata": {
    "hide-output": false
   },
   "source": [
    "```python\n",
    "# re-define the `returns_to_scale` function here\n",
    "```\n"
   ]
  },
  {
   "cell_type": "code",
   "execution_count": 20,
   "id": "international-conjunction",
   "metadata": {
    "hide-output": true
   },
   "outputs": [
    {
     "data": {
      "text/plain": [
       "\u001b[1;31mSignature:\u001b[0m \u001b[0mreturn_given_fee\u001b[0m\u001b[1;33m(\u001b[0m\u001b[0mfee\u001b[0m\u001b[1;33m)\u001b[0m\u001b[1;33m\u001b[0m\u001b[1;33m\u001b[0m\u001b[0m\n",
       "\u001b[1;31mDocstring:\u001b[0m <no docstring>\n",
       "\u001b[1;31mFile:\u001b[0m      c:\\users\\alan.moreira\\documents\\github\\textbook\\chapters\\essentials\\<ipython-input-19-ec5dedcb7a84>\n",
       "\u001b[1;31mType:\u001b[0m      function\n"
      ]
     },
     "metadata": {},
     "output_type": "display_data"
    }
   ],
   "source": [
    "# test it here\n",
    "return_given_fee?"
   ]
  },
  {
   "cell_type": "markdown",
   "id": "perfect-handle",
   "metadata": {},
   "source": [
    "([*back to text*](#exercise-2))\n",
    "\n",
    "**Exercise 4**\n",
    "\n",
    "Experiment with the `sep` and `end` arguments to the `print` function.\n",
    "\n",
    "These can *only* be set by name.\n",
    "\n",
    "> "
   ]
  },
  {
   "cell_type": "markdown",
   "id": "nearby-postage",
   "metadata": {
    "hide-output": false
   },
   "source": [
    "```python.\n",
    "# Your code here.\n",
    "```\n",
    "print\n"
   ]
  },
  {
   "cell_type": "markdown",
   "id": "available-vintage",
   "metadata": {},
   "source": [
    "\n",
    "([*back to text*](#exercise-3))"
   ]
  }
 ],
 "metadata": {
  "kernelspec": {
   "display_name": "Python 3",
   "language": "python",
   "name": "python3"
  },
  "language_info": {
   "codemirror_mode": {
    "name": "ipython",
    "version": 3
   },
   "file_extension": ".py",
   "mimetype": "text/x-python",
   "name": "python",
   "nbconvert_exporter": "python",
   "pygments_lexer": "ipython3",
   "version": "3.8.5"
  }
 },
 "nbformat": 4,
 "nbformat_minor": 5
}
