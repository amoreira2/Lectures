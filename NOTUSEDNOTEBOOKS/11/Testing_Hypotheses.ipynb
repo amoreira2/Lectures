{
 "cells": [
  {
   "cell_type": "markdown",
   "metadata": {},
   "source": [
    "# Testing Hypotheses\n",
    "\n",
    "Data scientists are often faced with yes-no questions about the world. You have seen some examples of such questions in this course:\n",
    "\n",
    "- Is chocolate good for you?\n",
    "- Did water from the Broad Street pump cause cholera?\n",
    "- Have the demographics in California changed over the past decade?\n",
    "\n",
    "Whether we answer questions like these depends on the data we have. Census data about California can settle questions about demographics with hardly any uncertainty about the answer. We know that Broad Street pump water was contaminated by waste from cholera victims, so we can make a pretty good guess about whether it caused cholera. \n",
    "\n",
    "Whether chocolate or any other treatment is good for you will almost certainly have to be decided by medical experts, but an initial step consists of using data science to analyze data from studies and randomized experiments. \n",
    "\n",
    "In this chapter, we will try to answer such yes-no questions, basing our conclusions on random samples and empirical distributions. "
   ]
  }
 ],
 "metadata": {
  "anaconda-cloud": {},
  "kernelspec": {
   "display_name": "Python 3",
   "language": "python",
   "name": "python3"
  },
  "language_info": {
   "codemirror_mode": {
    "name": "ipython",
    "version": 3
   },
   "file_extension": ".py",
   "mimetype": "text/x-python",
   "name": "python",
   "nbconvert_exporter": "python",
   "pygments_lexer": "ipython3",
   "version": "3.7.8"
  }
 },
 "nbformat": 4,
 "nbformat_minor": 1
}
