{
 "cells": [
  {
   "cell_type": "code",
   "execution_count": null,
   "id": "quick-flight",
   "metadata": {},
   "outputs": [],
   "source": []
  },
  {
   "cell_type": "markdown",
   "id": "julian-ambassador",
   "metadata": {
    "colab_type": "text",
    "id": "eXC17xpjySSI"
   },
   "source": [
    "## Log returns and Simple returns\n",
    "\n",
    "Insight: If innovations in log returns are iid then, log returns at long enough horizons must be normal (Central Limit Theorem)\n",
    "\n",
    "$$1+𝑅_{1→𝑇}=((1+𝑅_1 )(1+𝑅_2 )…(1+𝑅_𝑇))⁡\\\\\n",
    "ln⁡(1+𝑅_{1→𝑇} )=ln⁡((1+𝑅_1 )(1+𝑅_2 )…(1+𝑅_𝑇 ))\\\\\n",
    "ln⁡(1+𝑅_{1→𝑇} )=ln⁡(1+𝑅_1 )+ln⁡(1+𝑅_2 )+…+ln⁡(1+𝑅_𝑇 )\\\\\n",
    "                    𝑟_{1→𝑇}=𝑟_1+𝑟_2+…+𝑟_𝑇 $$ \n",
    "\n",
    "\n",
    "\n",
    "* Thus, if T is large, $𝑟_{1→𝑇}$ will be approximately normally distributed. (central limit theorem)\n",
    "\n",
    "* $𝑟_𝑡=ln⁡(1+𝑅_𝑡 )$ is the rate of return assuming continuous compounding for the period t.\n",
    "\n",
    "* This turns out to hold up well if you look at horizons longer than a month, but does not work at all at daily frequency (much fatter left tail than the normal distribution predicts)\n",
    "\n",
    "\n",
    "* Log returns are also very convenient when thinking about long-term investing"
   ]
  },
  {
   "cell_type": "code",
   "execution_count": 33,
   "id": "answering-cambridge",
   "metadata": {
    "colab": {
     "base_uri": "https://localhost:8080/",
     "height": 51
    },
    "colab_type": "code",
    "executionInfo": {
     "elapsed": 340,
     "status": "ok",
     "timestamp": 1576432695833,
     "user": {
      "displayName": "yuchi yao",
      "photoUrl": "",
      "userId": "00457884373990713813"
     },
     "user_tz": 300
    },
    "id": "mPa2OX9WySSJ",
    "outputId": "419b924a-da26-4ffa-80e7-92b014ff0f68"
   },
   "outputs": [
    {
     "name": "stdout",
     "output_type": "stream",
     "text": [
      "[-0.7707864524331097, -0.10212480191113225]\n",
      "[2.859221702344219, -0.17043746558020745]\n"
     ]
    }
   ],
   "source": [
    "print([np.log(1+Data.MKT).skew(),X.skew()])\n",
    "\n",
    "print([np.log(1+Data.MKT).kurtosis(),X.kurtosis()])"
   ]
  },
  {
   "cell_type": "markdown",
   "id": "round-membrane",
   "metadata": {
    "colab_type": "text",
    "id": "Uo48KjFhySSK"
   },
   "source": [
    "#### How to go back and fourth between log and simple returns?\n",
    "\n",
    "Let R be a simple net return per period, i.e., if you invest 10 , you get 10(1+R) in the end of the period\n",
    "\n",
    "R is a number like 5% (0.05)\n",
    "\n",
    "We say 1+R, a number like 1.05 is a gross return. \n",
    "\n",
    "Why gross? Because it includes 1, your initial investment.\n",
    "\n",
    "* To get log returns: $r=log(1+R)$\n",
    "\n",
    "\n",
    "* To get back simple returns: $R=exp(r)-1$"
   ]
  },
  {
   "cell_type": "code",
   "execution_count": 34,
   "id": "imported-clearance",
   "metadata": {
    "colab": {
     "base_uri": "https://localhost:8080/",
     "height": 235
    },
    "colab_type": "code",
    "executionInfo": {
     "elapsed": 330,
     "status": "ok",
     "timestamp": 1576432697937,
     "user": {
      "displayName": "yuchi yao",
      "photoUrl": "",
      "userId": "00457884373990713813"
     },
     "user_tz": 300
    },
    "id": "eYeYHQ77ySSL",
    "outputId": "35356dfc-2f1c-4b1e-8128-dc7f7b038158",
    "scrolled": true
   },
   "outputs": [
    {
     "data": {
      "text/html": [
       "<div>\n",
       "<style scoped>\n",
       "    .dataframe tbody tr th:only-of-type {\n",
       "        vertical-align: middle;\n",
       "    }\n",
       "\n",
       "    .dataframe tbody tr th {\n",
       "        vertical-align: top;\n",
       "    }\n",
       "\n",
       "    .dataframe thead th {\n",
       "        text-align: right;\n",
       "    }\n",
       "</style>\n",
       "<table border=\"1\" class=\"dataframe\">\n",
       "  <thead>\n",
       "    <tr style=\"text-align: right;\">\n",
       "      <th></th>\n",
       "      <th>MKT</th>\n",
       "      <th>MKT</th>\n",
       "    </tr>\n",
       "    <tr>\n",
       "      <th>Date</th>\n",
       "      <th></th>\n",
       "      <th></th>\n",
       "    </tr>\n",
       "  </thead>\n",
       "  <tbody>\n",
       "    <tr>\n",
       "      <th>1963-02-28</th>\n",
       "      <td>-0.0215</td>\n",
       "      <td>-0.0215</td>\n",
       "    </tr>\n",
       "    <tr>\n",
       "      <th>1963-03-31</th>\n",
       "      <td>0.0331</td>\n",
       "      <td>0.0331</td>\n",
       "    </tr>\n",
       "    <tr>\n",
       "      <th>1963-04-30</th>\n",
       "      <td>0.0476</td>\n",
       "      <td>0.0476</td>\n",
       "    </tr>\n",
       "    <tr>\n",
       "      <th>1963-05-31</th>\n",
       "      <td>0.0200</td>\n",
       "      <td>0.0200</td>\n",
       "    </tr>\n",
       "    <tr>\n",
       "      <th>1963-06-30</th>\n",
       "      <td>-0.0177</td>\n",
       "      <td>-0.0177</td>\n",
       "    </tr>\n",
       "  </tbody>\n",
       "</table>\n",
       "</div>"
      ],
      "text/plain": [
       "               MKT     MKT\n",
       "Date                      \n",
       "1963-02-28 -0.0215 -0.0215\n",
       "1963-03-31  0.0331  0.0331\n",
       "1963-04-30  0.0476  0.0476\n",
       "1963-05-31  0.0200  0.0200\n",
       "1963-06-30 -0.0177 -0.0177"
      ]
     },
     "execution_count": 34,
     "metadata": {},
     "output_type": "execute_result"
    }
   ],
   "source": [
    "r=np.log(1+Data.MKT)\n",
    "R=np.exp(r)-1\n",
    "pd.concat([R,Data.MKT],axis=1).head()"
   ]
  },
  {
   "cell_type": "code",
   "execution_count": 35,
   "id": "painful-leisure",
   "metadata": {
    "colab": {
     "base_uri": "https://localhost:8080/",
     "height": 34
    },
    "colab_type": "code",
    "executionInfo": {
     "elapsed": 341,
     "status": "ok",
     "timestamp": 1576432700402,
     "user": {
      "displayName": "yuchi yao",
      "photoUrl": "",
      "userId": "00457884373990713813"
     },
     "user_tz": 300
    },
    "id": "yCQ7eLLnySSM",
    "outputId": "4173a475-05a6-44ec-a9c8-c0c7d73d7263"
   },
   "outputs": [
    {
     "data": {
      "text/plain": [
       "[4, 0]"
      ]
     },
     "execution_count": 35,
     "metadata": {},
     "output_type": "execute_result"
    }
   ],
   "source": [
    "threshold=3\n",
    "# now real data in log returns\n",
    "\n",
    "A=((np.log(Data.MKT+1)-np.log(Data.MKT+1).mean())<-threshold*np.log(Data.MKT+1).std())\n",
    "B=((X-X.mean())<-threshold*X.std())\n",
    "[A.sum(),B.sum()]"
   ]
  },
  {
   "cell_type": "code",
   "execution_count": null,
   "id": "revolutionary-child",
   "metadata": {},
   "outputs": [],
   "source": []
  },
  {
   "cell_type": "code",
   "execution_count": null,
   "id": "reliable-forty",
   "metadata": {},
   "outputs": [],
   "source": []
  },
  {
   "cell_type": "code",
   "execution_count": null,
   "id": "fabulous-delight",
   "metadata": {},
   "outputs": [],
   "source": []
  },
  {
   "cell_type": "code",
   "execution_count": null,
   "id": "hybrid-pressing",
   "metadata": {},
   "outputs": [],
   "source": []
  },
  {
   "cell_type": "code",
   "execution_count": null,
   "id": "unnecessary-worcester",
   "metadata": {},
   "outputs": [],
   "source": []
  },
  {
   "cell_type": "code",
   "execution_count": null,
   "id": "efficient-pursuit",
   "metadata": {},
   "outputs": [],
   "source": []
  },
  {
   "cell_type": "code",
   "execution_count": null,
   "id": "designed-block",
   "metadata": {},
   "outputs": [],
   "source": []
  },
  {
   "cell_type": "code",
   "execution_count": 44,
   "id": "sunrise-result",
   "metadata": {
    "colab": {},
    "colab_type": "code",
    "id": "A85TIeS8dibj"
   },
   "outputs": [],
   "source": [
    "# import BEME (Book-equity over Market equity) sorted portfolios\n",
    "# BEME 1 has low book to market- > Known as growth stocks (example: Tesla, Amazon, Facebook)\n",
    "\n",
    "# BEME 10 has high book to market -> Known as value stocks ( old firms: utilities, banks, insurance companies)\n",
    "\n",
    "# but it changes....\n",
    "\n",
    "url = \"https://www.dropbox.com/s/gds8ho9rt1imw03/Valueportfolios.csv?dl=1\"\n",
    "parser = lambda date: pd.to_datetime(date,format='%Y%m')\n",
    "Data = pd.read_csv(url,index_col=0, \n",
    "                         parse_dates=True,date_parser=parser,skiprows=23,nrows=1092,na_values=-99.99)\n",
    "\n",
    "\n",
    "# need to adjust the date to the end-of-month convention \n",
    "# (Even though both returns for a given month are end-of-month to end-of-month,\n",
    "# when we import the value portfolios, Python used the first day of the month as date. \n",
    "# To fix that, we will convert it to end-of-month\n",
    "# It is important to do that before the merge. Why? )\n",
    "Data.index=Data.index+pd.tseries.offsets.MonthEnd()\n",
    "(Data.head())\n",
    "# ready to merge with Market and RF\n",
    "\n",
    "Data=Data/100"
   ]
  },
  {
   "cell_type": "code",
   "execution_count": 45,
   "id": "increasing-genealogy",
   "metadata": {
    "colab": {
     "base_uri": "https://localhost:8080/",
     "height": 204
    },
    "colab_type": "code",
    "executionInfo": {
     "elapsed": 941,
     "status": "ok",
     "timestamp": 1577476028957,
     "user": {
      "displayName": "yuchi yao",
      "photoUrl": "",
      "userId": "00457884373990713813"
     },
     "user_tz": 300
    },
    "id": "7Mgz9F_6dibm",
    "outputId": "78d7f872-d02b-4fe9-f5cb-9a4020d965ce"
   },
   "outputs": [
    {
     "data": {
      "text/html": [
       "<div>\n",
       "<style scoped>\n",
       "    .dataframe tbody tr th:only-of-type {\n",
       "        vertical-align: middle;\n",
       "    }\n",
       "\n",
       "    .dataframe tbody tr th {\n",
       "        vertical-align: top;\n",
       "    }\n",
       "\n",
       "    .dataframe thead th {\n",
       "        text-align: right;\n",
       "    }\n",
       "</style>\n",
       "<table border=\"1\" class=\"dataframe\">\n",
       "  <thead>\n",
       "    <tr style=\"text-align: right;\">\n",
       "      <th></th>\n",
       "      <th>BEME1</th>\n",
       "      <th>BEME2</th>\n",
       "      <th>BEME3</th>\n",
       "      <th>BEME4</th>\n",
       "      <th>BEME5</th>\n",
       "      <th>BEME6</th>\n",
       "      <th>BEME7</th>\n",
       "      <th>BEME8</th>\n",
       "      <th>BEME9</th>\n",
       "      <th>BEME10</th>\n",
       "      <th>RF</th>\n",
       "      <th>MKT</th>\n",
       "    </tr>\n",
       "  </thead>\n",
       "  <tbody>\n",
       "    <tr>\n",
       "      <th>1926-07-31</th>\n",
       "      <td>0.0463</td>\n",
       "      <td>0.0124</td>\n",
       "      <td>0.1140</td>\n",
       "      <td>0.0168</td>\n",
       "      <td>0.0150</td>\n",
       "      <td>0.0209</td>\n",
       "      <td>0.0273</td>\n",
       "      <td>0.0158</td>\n",
       "      <td>0.0063</td>\n",
       "      <td>0.0052</td>\n",
       "      <td>0.0022</td>\n",
       "      <td>0.0318</td>\n",
       "    </tr>\n",
       "    <tr>\n",
       "      <th>1926-08-31</th>\n",
       "      <td>0.0015</td>\n",
       "      <td>0.0218</td>\n",
       "      <td>0.0640</td>\n",
       "      <td>0.0238</td>\n",
       "      <td>0.0158</td>\n",
       "      <td>0.0263</td>\n",
       "      <td>0.0446</td>\n",
       "      <td>0.0494</td>\n",
       "      <td>0.0831</td>\n",
       "      <td>0.0392</td>\n",
       "      <td>0.0025</td>\n",
       "      <td>0.0289</td>\n",
       "    </tr>\n",
       "    <tr>\n",
       "      <th>1926-09-30</th>\n",
       "      <td>-0.0011</td>\n",
       "      <td>-0.0230</td>\n",
       "      <td>0.0632</td>\n",
       "      <td>0.0073</td>\n",
       "      <td>-0.0089</td>\n",
       "      <td>0.0038</td>\n",
       "      <td>-0.0028</td>\n",
       "      <td>0.0017</td>\n",
       "      <td>-0.0216</td>\n",
       "      <td>0.0044</td>\n",
       "      <td>0.0023</td>\n",
       "      <td>0.0059</td>\n",
       "    </tr>\n",
       "    <tr>\n",
       "      <th>1926-10-31</th>\n",
       "      <td>-0.0378</td>\n",
       "      <td>-0.0163</td>\n",
       "      <td>-0.0501</td>\n",
       "      <td>-0.0141</td>\n",
       "      <td>-0.0231</td>\n",
       "      <td>-0.0210</td>\n",
       "      <td>-0.0465</td>\n",
       "      <td>-0.0280</td>\n",
       "      <td>-0.0546</td>\n",
       "      <td>-0.0117</td>\n",
       "      <td>0.0032</td>\n",
       "      <td>-0.0292</td>\n",
       "    </tr>\n",
       "    <tr>\n",
       "      <th>1926-11-30</th>\n",
       "      <td>0.0603</td>\n",
       "      <td>0.0149</td>\n",
       "      <td>0.0111</td>\n",
       "      <td>0.0363</td>\n",
       "      <td>0.0197</td>\n",
       "      <td>0.0180</td>\n",
       "      <td>0.0400</td>\n",
       "      <td>0.0385</td>\n",
       "      <td>0.0277</td>\n",
       "      <td>0.0176</td>\n",
       "      <td>0.0031</td>\n",
       "      <td>0.0284</td>\n",
       "    </tr>\n",
       "  </tbody>\n",
       "</table>\n",
       "</div>"
      ],
      "text/plain": [
       "             BEME1   BEME2   BEME3   BEME4   BEME5   BEME6   BEME7   BEME8  \\\n",
       "1926-07-31  0.0463  0.0124  0.1140  0.0168  0.0150  0.0209  0.0273  0.0158   \n",
       "1926-08-31  0.0015  0.0218  0.0640  0.0238  0.0158  0.0263  0.0446  0.0494   \n",
       "1926-09-30 -0.0011 -0.0230  0.0632  0.0073 -0.0089  0.0038 -0.0028  0.0017   \n",
       "1926-10-31 -0.0378 -0.0163 -0.0501 -0.0141 -0.0231 -0.0210 -0.0465 -0.0280   \n",
       "1926-11-30  0.0603  0.0149  0.0111  0.0363  0.0197  0.0180  0.0400  0.0385   \n",
       "\n",
       "             BEME9  BEME10      RF     MKT  \n",
       "1926-07-31  0.0063  0.0052  0.0022  0.0318  \n",
       "1926-08-31  0.0831  0.0392  0.0025  0.0289  \n",
       "1926-09-30 -0.0216  0.0044  0.0023  0.0059  \n",
       "1926-10-31 -0.0546 -0.0117  0.0032 -0.0292  \n",
       "1926-11-30  0.0277  0.0176  0.0031  0.0284  "
      ]
     },
     "execution_count": 45,
     "metadata": {},
     "output_type": "execute_result"
    }
   ],
   "source": [
    "# merge with factors\n",
    "df=pd.merge(Data,Factors,left_index=True,right_index=True)\n",
    "df.head()"
   ]
  },
  {
   "cell_type": "code",
   "execution_count": 46,
   "id": "metric-samba",
   "metadata": {
    "colab": {
     "base_uri": "https://localhost:8080/",
     "height": 204
    },
    "colab_type": "code",
    "executionInfo": {
     "elapsed": 870,
     "status": "ok",
     "timestamp": 1577476048384,
     "user": {
      "displayName": "yuchi yao",
      "photoUrl": "",
      "userId": "00457884373990713813"
     },
     "user_tz": 300
    },
    "id": "nRpbpTt0dibr",
    "outputId": "89e5a0af-12b8-4a2a-8567-8d2b5ef2e0b7"
   },
   "outputs": [
    {
     "data": {
      "text/html": [
       "<div>\n",
       "<style scoped>\n",
       "    .dataframe tbody tr th:only-of-type {\n",
       "        vertical-align: middle;\n",
       "    }\n",
       "\n",
       "    .dataframe tbody tr th {\n",
       "        vertical-align: top;\n",
       "    }\n",
       "\n",
       "    .dataframe thead th {\n",
       "        text-align: right;\n",
       "    }\n",
       "</style>\n",
       "<table border=\"1\" class=\"dataframe\">\n",
       "  <thead>\n",
       "    <tr style=\"text-align: right;\">\n",
       "      <th></th>\n",
       "      <th>BEME1</th>\n",
       "      <th>BEME2</th>\n",
       "      <th>BEME3</th>\n",
       "      <th>BEME4</th>\n",
       "      <th>BEME5</th>\n",
       "      <th>BEME6</th>\n",
       "      <th>BEME7</th>\n",
       "      <th>BEME8</th>\n",
       "      <th>BEME9</th>\n",
       "      <th>BEME10</th>\n",
       "      <th>MKT</th>\n",
       "    </tr>\n",
       "  </thead>\n",
       "  <tbody>\n",
       "    <tr>\n",
       "      <th>1926-07-31</th>\n",
       "      <td>0.0441</td>\n",
       "      <td>0.0102</td>\n",
       "      <td>0.1118</td>\n",
       "      <td>0.0146</td>\n",
       "      <td>0.0128</td>\n",
       "      <td>0.0187</td>\n",
       "      <td>0.0251</td>\n",
       "      <td>0.0136</td>\n",
       "      <td>0.0041</td>\n",
       "      <td>0.0030</td>\n",
       "      <td>0.0296</td>\n",
       "    </tr>\n",
       "    <tr>\n",
       "      <th>1926-08-31</th>\n",
       "      <td>-0.0010</td>\n",
       "      <td>0.0193</td>\n",
       "      <td>0.0615</td>\n",
       "      <td>0.0213</td>\n",
       "      <td>0.0133</td>\n",
       "      <td>0.0238</td>\n",
       "      <td>0.0421</td>\n",
       "      <td>0.0469</td>\n",
       "      <td>0.0806</td>\n",
       "      <td>0.0367</td>\n",
       "      <td>0.0264</td>\n",
       "    </tr>\n",
       "    <tr>\n",
       "      <th>1926-09-30</th>\n",
       "      <td>-0.0034</td>\n",
       "      <td>-0.0253</td>\n",
       "      <td>0.0609</td>\n",
       "      <td>0.0050</td>\n",
       "      <td>-0.0112</td>\n",
       "      <td>0.0015</td>\n",
       "      <td>-0.0051</td>\n",
       "      <td>-0.0006</td>\n",
       "      <td>-0.0239</td>\n",
       "      <td>0.0021</td>\n",
       "      <td>0.0036</td>\n",
       "    </tr>\n",
       "    <tr>\n",
       "      <th>1926-10-31</th>\n",
       "      <td>-0.0410</td>\n",
       "      <td>-0.0195</td>\n",
       "      <td>-0.0533</td>\n",
       "      <td>-0.0173</td>\n",
       "      <td>-0.0263</td>\n",
       "      <td>-0.0242</td>\n",
       "      <td>-0.0497</td>\n",
       "      <td>-0.0312</td>\n",
       "      <td>-0.0578</td>\n",
       "      <td>-0.0149</td>\n",
       "      <td>-0.0324</td>\n",
       "    </tr>\n",
       "    <tr>\n",
       "      <th>1926-11-30</th>\n",
       "      <td>0.0572</td>\n",
       "      <td>0.0118</td>\n",
       "      <td>0.0080</td>\n",
       "      <td>0.0332</td>\n",
       "      <td>0.0166</td>\n",
       "      <td>0.0149</td>\n",
       "      <td>0.0369</td>\n",
       "      <td>0.0354</td>\n",
       "      <td>0.0246</td>\n",
       "      <td>0.0145</td>\n",
       "      <td>0.0253</td>\n",
       "    </tr>\n",
       "  </tbody>\n",
       "</table>\n",
       "</div>"
      ],
      "text/plain": [
       "             BEME1   BEME2   BEME3   BEME4   BEME5   BEME6   BEME7   BEME8  \\\n",
       "1926-07-31  0.0441  0.0102  0.1118  0.0146  0.0128  0.0187  0.0251  0.0136   \n",
       "1926-08-31 -0.0010  0.0193  0.0615  0.0213  0.0133  0.0238  0.0421  0.0469   \n",
       "1926-09-30 -0.0034 -0.0253  0.0609  0.0050 -0.0112  0.0015 -0.0051 -0.0006   \n",
       "1926-10-31 -0.0410 -0.0195 -0.0533 -0.0173 -0.0263 -0.0242 -0.0497 -0.0312   \n",
       "1926-11-30  0.0572  0.0118  0.0080  0.0332  0.0166  0.0149  0.0369  0.0354   \n",
       "\n",
       "             BEME9  BEME10     MKT  \n",
       "1926-07-31  0.0041  0.0030  0.0296  \n",
       "1926-08-31  0.0806  0.0367  0.0264  \n",
       "1926-09-30 -0.0239  0.0021  0.0036  \n",
       "1926-10-31 -0.0578 -0.0149 -0.0324  \n",
       "1926-11-30  0.0246  0.0145  0.0253  "
      ]
     },
     "execution_count": 46,
     "metadata": {},
     "output_type": "execute_result"
    }
   ],
   "source": [
    "# transfor in excess returns\n",
    "Re=df.copy()\n",
    "Re.iloc[:,0:10]=Re.iloc[:,0:10].subtract(Re['RF'],axis=0)\n",
    "Re.iloc[:,11]=Re.iloc[:,11].subtract(Re['RF'],axis=0)\n",
    "# take the risk-free rate column out of the database\n",
    "del Re['RF']\n",
    "Re.head()"
   ]
  },
  {
   "cell_type": "markdown",
   "id": "round-sender",
   "metadata": {},
   "source": [
    "Note below how average returns increase in Book to market\n",
    "\n",
    "- Value (BEME10) stocks have higher average returns than growth stocks (BEME1)"
   ]
  },
  {
   "cell_type": "code",
   "execution_count": 47,
   "id": "assumed-mentor",
   "metadata": {},
   "outputs": [
    {
     "data": {
      "text/plain": [
       "<AxesSubplot:>"
      ]
     },
     "execution_count": 47,
     "metadata": {},
     "output_type": "execute_result"
    },
    {
     "data": {
      "image/png": "[encoded data removed]",
      "text/plain": [
       "<Figure size 432x288 with 1 Axes>"
      ]
     },
     "metadata": {
      "needs_background": "light"
     },
     "output_type": "display_data"
    }
   ],
   "source": [
    "(Re.mean()*12).plot.bar()"
   ]
  },
  {
   "cell_type": "markdown",
   "id": "crazy-parking",
   "metadata": {
    "colab_type": "text",
    "id": "R0-QUP8rINNS"
   },
   "source": [
    "### Lets do a time-series test of the CAPM using these 10 Book-to-market sorted portfolios "
   ]
  },
  {
   "cell_type": "markdown",
   "id": "ignored-toyota",
   "metadata": {},
   "source": [
    "- What does this tell us about the market?\n",
    "- What does this tell us about BEME10?"
   ]
  },
  {
   "cell_type": "code",
   "execution_count": 50,
   "id": "behind-finder",
   "metadata": {
    "colab": {
     "base_uri": "https://localhost:8080/",
     "height": 68
    },
    "colab_type": "code",
    "executionInfo": {
     "elapsed": 1286,
     "status": "ok",
     "timestamp": 1577476061492,
     "user": {
      "displayName": "yuchi yao",
      "photoUrl": "",
      "userId": "00457884373990713813"
     },
     "user_tz": 300
    },
    "id": "MBqYhoUMlmtY",
    "outputId": "248354f3-1a70-41b3-c934-b9a47b71a5cf"
   },
   "outputs": [
    {
     "name": "stdout",
     "output_type": "stream",
     "text": [
      "0.039599999999999996\n"
     ]
    },
    {
     "data": {
      "text/plain": [
       "const    12.000000\n",
       "MKT       0.063508\n",
       "dtype: float64"
      ]
     },
     "execution_count": 50,
     "metadata": {},
     "output_type": "execute_result"
    }
   ],
   "source": [
    "# We have a monthly alpha of 0.0033\n",
    "print(0.0033*12)\n",
    "# yearly alpha is about 4%\n",
    "x.mean()*12\n",
    "# yearly market premium is about 6%"
   ]
  },
  {
   "cell_type": "code",
   "execution_count": 51,
   "id": "regulated-summit",
   "metadata": {},
   "outputs": [
    {
     "data": {
      "text/html": [
       "<table class=\"simpletable\">\n",
       "<caption>OLS Regression Results</caption>\n",
       "<tr>\n",
       "  <th>Dep. Variable:</th>            <td>y</td>        <th>  R-squared:         </th> <td>   0.005</td>\n",
       "</tr>\n",
       "<tr>\n",
       "  <th>Model:</th>                   <td>OLS</td>       <th>  Adj. R-squared:    </th> <td>   0.003</td>\n",
       "</tr>\n",
       "<tr>\n",
       "  <th>Method:</th>             <td>Least Squares</td>  <th>  F-statistic:       </th> <td>   3.159</td>\n",
       "</tr>\n",
       "<tr>\n",
       "  <th>Date:</th>             <td>Mon, 26 Apr 2021</td> <th>  Prob (F-statistic):</th>  <td>0.0760</td> \n",
       "</tr>\n",
       "<tr>\n",
       "  <th>Time:</th>                 <td>09:34:55</td>     <th>  Log-Likelihood:    </th> <td>  1076.3</td>\n",
       "</tr>\n",
       "<tr>\n",
       "  <th>No. Observations:</th>      <td>   654</td>      <th>  AIC:               </th> <td>  -2149.</td>\n",
       "</tr>\n",
       "<tr>\n",
       "  <th>Df Residuals:</th>          <td>   652</td>      <th>  BIC:               </th> <td>  -2140.</td>\n",
       "</tr>\n",
       "<tr>\n",
       "  <th>Df Model:</th>              <td>     1</td>      <th>                     </th>     <td> </td>   \n",
       "</tr>\n",
       "<tr>\n",
       "  <th>Covariance Type:</th>      <td>nonrobust</td>    <th>                     </th>     <td> </td>   \n",
       "</tr>\n",
       "</table>\n",
       "<table class=\"simpletable\">\n",
       "<tr>\n",
       "    <td></td>       <th>coef</th>     <th>std err</th>      <th>t</th>      <th>P>|t|</th>  <th>[0.025</th>    <th>0.975]</th>  \n",
       "</tr>\n",
       "<tr>\n",
       "  <th>const</th> <td>    0.0045</td> <td>    0.002</td> <td>    2.445</td> <td> 0.015</td> <td>    0.001</td> <td>    0.008</td>\n",
       "</tr>\n",
       "<tr>\n",
       "  <th>MKT</th>   <td>    0.0740</td> <td>    0.042</td> <td>    1.777</td> <td> 0.076</td> <td>   -0.008</td> <td>    0.156</td>\n",
       "</tr>\n",
       "</table>\n",
       "<table class=\"simpletable\">\n",
       "<tr>\n",
       "  <th>Omnibus:</th>       <td>52.948</td> <th>  Durbin-Watson:     </th> <td>   1.645</td>\n",
       "</tr>\n",
       "<tr>\n",
       "  <th>Prob(Omnibus):</th> <td> 0.000</td> <th>  Jarque-Bera (JB):  </th> <td> 127.480</td>\n",
       "</tr>\n",
       "<tr>\n",
       "  <th>Skew:</th>          <td> 0.438</td> <th>  Prob(JB):          </th> <td>2.08e-28</td>\n",
       "</tr>\n",
       "<tr>\n",
       "  <th>Kurtosis:</th>      <td> 4.978</td> <th>  Cond. No.          </th> <td>    22.8</td>\n",
       "</tr>\n",
       "</table><br/><br/>Notes:<br/>[1] Standard Errors assume that the covariance matrix of the errors is correctly specified."
      ],
      "text/plain": [
       "<class 'statsmodels.iolib.summary.Summary'>\n",
       "\"\"\"\n",
       "                            OLS Regression Results                            \n",
       "==============================================================================\n",
       "Dep. Variable:                      y   R-squared:                       0.005\n",
       "Model:                            OLS   Adj. R-squared:                  0.003\n",
       "Method:                 Least Squares   F-statistic:                     3.159\n",
       "Date:                Mon, 26 Apr 2021   Prob (F-statistic):             0.0760\n",
       "Time:                        09:34:55   Log-Likelihood:                 1076.3\n",
       "No. Observations:                 654   AIC:                            -2149.\n",
       "Df Residuals:                     652   BIC:                            -2140.\n",
       "Df Model:                           1                                         \n",
       "Covariance Type:            nonrobust                                         \n",
       "==============================================================================\n",
       "                 coef    std err          t      P>|t|      [0.025      0.975]\n",
       "------------------------------------------------------------------------------\n",
       "const          0.0045      0.002      2.445      0.015       0.001       0.008\n",
       "MKT            0.0740      0.042      1.777      0.076      -0.008       0.156\n",
       "==============================================================================\n",
       "Omnibus:                       52.948   Durbin-Watson:                   1.645\n",
       "Prob(Omnibus):                  0.000   Jarque-Bera (JB):              127.480\n",
       "Skew:                           0.438   Prob(JB):                     2.08e-28\n",
       "Kurtosis:                       4.978   Cond. No.                         22.8\n",
       "==============================================================================\n",
       "\n",
       "Notes:\n",
       "[1] Standard Errors assume that the covariance matrix of the errors is correctly specified.\n",
       "\"\"\""
      ]
     },
     "execution_count": 51,
     "metadata": {},
     "output_type": "execute_result"
    }
   ],
   "source": [
    "temp=Re['1963':'2018'] \n",
    "# On the right hand side, we have 'MKT' portfolio, we will add an constant term to it\n",
    "x= sm.add_constant(temp['MKT'])\n",
    "# the coefficient on the constant is the \"alpha\"\n",
    "\n",
    "# On the left hand side, we have 'BEME10' portfolio\n",
    "y= temp['BEME10']-temp['BEME1']\n",
    "results= sm.OLS(y,x).fit()\n",
    "results.summary()"
   ]
  },
  {
   "cell_type": "markdown",
   "id": "knowing-reduction",
   "metadata": {},
   "source": [
    "# Lecture 12/4 ended here"
   ]
  },
  {
   "cell_type": "code",
   "execution_count": 52,
   "id": "guilty-romantic",
   "metadata": {},
   "outputs": [
    {
     "data": {
      "text/html": [
       "<div>\n",
       "<style scoped>\n",
       "    .dataframe tbody tr th:only-of-type {\n",
       "        vertical-align: middle;\n",
       "    }\n",
       "\n",
       "    .dataframe tbody tr th {\n",
       "        vertical-align: top;\n",
       "    }\n",
       "\n",
       "    .dataframe thead th {\n",
       "        text-align: right;\n",
       "    }\n",
       "</style>\n",
       "<table border=\"1\" class=\"dataframe\">\n",
       "  <thead>\n",
       "    <tr style=\"text-align: right;\">\n",
       "      <th></th>\n",
       "      <th>0</th>\n",
       "    </tr>\n",
       "  </thead>\n",
       "  <tbody>\n",
       "    <tr>\n",
       "      <th>BEME1</th>\n",
       "      <td>0.005859</td>\n",
       "    </tr>\n",
       "    <tr>\n",
       "      <th>BEME2</th>\n",
       "      <td>0.006873</td>\n",
       "    </tr>\n",
       "    <tr>\n",
       "      <th>BEME3</th>\n",
       "      <td>0.006907</td>\n",
       "    </tr>\n",
       "    <tr>\n",
       "      <th>BEME4</th>\n",
       "      <td>0.006643</td>\n",
       "    </tr>\n",
       "    <tr>\n",
       "      <th>BEME5</th>\n",
       "      <td>0.007234</td>\n",
       "    </tr>\n",
       "    <tr>\n",
       "      <th>BEME6</th>\n",
       "      <td>0.007923</td>\n",
       "    </tr>\n",
       "    <tr>\n",
       "      <th>BEME7</th>\n",
       "      <td>0.007247</td>\n",
       "    </tr>\n",
       "    <tr>\n",
       "      <th>BEME8</th>\n",
       "      <td>0.009139</td>\n",
       "    </tr>\n",
       "    <tr>\n",
       "      <th>BEME9</th>\n",
       "      <td>0.010582</td>\n",
       "    </tr>\n",
       "    <tr>\n",
       "      <th>BEME10</th>\n",
       "      <td>0.010701</td>\n",
       "    </tr>\n",
       "    <tr>\n",
       "      <th>MKT</th>\n",
       "      <td>0.006567</td>\n",
       "    </tr>\n",
       "  </tbody>\n",
       "</table>\n",
       "</div>"
      ],
      "text/plain": [
       "               0\n",
       "BEME1   0.005859\n",
       "BEME2   0.006873\n",
       "BEME3   0.006907\n",
       "BEME4   0.006643\n",
       "BEME5   0.007234\n",
       "BEME6   0.007923\n",
       "BEME7   0.007247\n",
       "BEME8   0.009139\n",
       "BEME9   0.010582\n",
       "BEME10  0.010701\n",
       "MKT     0.006567"
      ]
     },
     "execution_count": 52,
     "metadata": {},
     "output_type": "execute_result"
    }
   ],
   "source": [
    "E=pd.DataFrame(Re.mean())\n",
    "E"
   ]
  },
  {
   "cell_type": "code",
   "execution_count": 53,
   "id": "burning-insight",
   "metadata": {
    "colab": {},
    "colab_type": "code",
    "id": "fWWkpF6Odib2"
   },
   "outputs": [],
   "source": [
    "# now lets build a function that run the regression for all the portfolios and stores the info in a dataframe\n",
    "def TSregression(temp):\n",
    "    E=pd.DataFrame(temp.mean())\n",
    "    E.columns=['AvgReturns']\n",
    "    x= sm.add_constant(temp['MKT'])\n",
    "    E['std']=temp.std()\n",
    "    E['alpha']=E['AvgReturns']*0\n",
    "    E['std_alpha']=E['AvgReturns']*0\n",
    "    E['t-alpha']=E['AvgReturns']*0\n",
    "    E['beta']=E['AvgReturns']*0\n",
    "    E['std_beta']=E['AvgReturns']*0\n",
    "    E['std_e']=E['AvgReturns']*0\n",
    "    \n",
    "    for portfolios in E.index[0:10]:\n",
    "        y= temp[portfolios]\n",
    "        results= sm.OLS(y,x).fit()\n",
    "        E.at[portfolios,'alpha']=results.params[0]\n",
    "        E.at[portfolios,'beta']=results.params[1]\n",
    "        E.at[portfolios,'std_e']=results.resid.std()\n",
    "        E.at[portfolios,'std_alpha']=results.HC0_se[0]\n",
    "        E.at[portfolios,'std_beta']=results.HC0_se[1]\n",
    "        E.at[portfolios,'pvalues']=results.pvalues[0]\n",
    "    \n",
    "    E['t-alpha']=E['alpha']/E['std_alpha']\n",
    "    E.at['MKT','beta']=1 \n",
    "    return E"
   ]
  },
  {
   "cell_type": "code",
   "execution_count": 54,
   "id": "unlikely-error",
   "metadata": {
    "colab": {
     "base_uri": "https://localhost:8080/",
     "height": 444
    },
    "colab_type": "code",
    "executionInfo": {
     "elapsed": 864,
     "status": "ok",
     "timestamp": 1577476070811,
     "user": {
      "displayName": "yuchi yao",
      "photoUrl": "",
      "userId": "00457884373990713813"
     },
     "user_tz": 300
    },
    "id": "y82q7RYkdib8",
    "outputId": "40db262c-d759-4fda-d79e-e5a4c34e645e"
   },
   "outputs": [
    {
     "data": {
      "text/html": [
       "<div>\n",
       "<style scoped>\n",
       "    .dataframe tbody tr th:only-of-type {\n",
       "        vertical-align: middle;\n",
       "    }\n",
       "\n",
       "    .dataframe tbody tr th {\n",
       "        vertical-align: top;\n",
       "    }\n",
       "\n",
       "    .dataframe thead th {\n",
       "        text-align: right;\n",
       "    }\n",
       "</style>\n",
       "<table border=\"1\" class=\"dataframe\">\n",
       "  <thead>\n",
       "    <tr style=\"text-align: right;\">\n",
       "      <th></th>\n",
       "      <th>AvgReturns</th>\n",
       "      <th>std</th>\n",
       "      <th>alpha</th>\n",
       "      <th>std_alpha</th>\n",
       "      <th>t-alpha</th>\n",
       "      <th>beta</th>\n",
       "      <th>std_beta</th>\n",
       "      <th>std_e</th>\n",
       "      <th>pvalues</th>\n",
       "    </tr>\n",
       "  </thead>\n",
       "  <tbody>\n",
       "    <tr>\n",
       "      <th>BEME1</th>\n",
       "      <td>0.003225</td>\n",
       "      <td>0.053380</td>\n",
       "      <td>-0.001581</td>\n",
       "      <td>0.000890</td>\n",
       "      <td>-1.776274</td>\n",
       "      <td>1.097840</td>\n",
       "      <td>0.024294</td>\n",
       "      <td>0.019468</td>\n",
       "      <td>0.077605</td>\n",
       "    </tr>\n",
       "    <tr>\n",
       "      <th>BEME2</th>\n",
       "      <td>0.004858</td>\n",
       "      <td>0.048438</td>\n",
       "      <td>0.000361</td>\n",
       "      <td>0.000623</td>\n",
       "      <td>0.578281</td>\n",
       "      <td>1.027575</td>\n",
       "      <td>0.017492</td>\n",
       "      <td>0.013486</td>\n",
       "      <td>0.560573</td>\n",
       "    </tr>\n",
       "    <tr>\n",
       "      <th>BEME3</th>\n",
       "      <td>0.004672</td>\n",
       "      <td>0.047969</td>\n",
       "      <td>0.000261</td>\n",
       "      <td>0.000680</td>\n",
       "      <td>0.383216</td>\n",
       "      <td>1.007874</td>\n",
       "      <td>0.018809</td>\n",
       "      <td>0.014794</td>\n",
       "      <td>0.701190</td>\n",
       "    </tr>\n",
       "    <tr>\n",
       "      <th>BEME4</th>\n",
       "      <td>0.004645</td>\n",
       "      <td>0.047198</td>\n",
       "      <td>0.000439</td>\n",
       "      <td>0.000845</td>\n",
       "      <td>0.519184</td>\n",
       "      <td>0.961090</td>\n",
       "      <td>0.027117</td>\n",
       "      <td>0.018285</td>\n",
       "      <td>0.601501</td>\n",
       "    </tr>\n",
       "    <tr>\n",
       "      <th>BEME5</th>\n",
       "      <td>0.004529</td>\n",
       "      <td>0.044331</td>\n",
       "      <td>0.000688</td>\n",
       "      <td>0.000900</td>\n",
       "      <td>0.764968</td>\n",
       "      <td>0.877361</td>\n",
       "      <td>0.025995</td>\n",
       "      <td>0.019683</td>\n",
       "      <td>0.446583</td>\n",
       "    </tr>\n",
       "    <tr>\n",
       "      <th>BEME6</th>\n",
       "      <td>0.006041</td>\n",
       "      <td>0.043503</td>\n",
       "      <td>0.002347</td>\n",
       "      <td>0.000968</td>\n",
       "      <td>2.424715</td>\n",
       "      <td>0.843970</td>\n",
       "      <td>0.029767</td>\n",
       "      <td>0.020797</td>\n",
       "      <td>0.014305</td>\n",
       "    </tr>\n",
       "    <tr>\n",
       "      <th>BEME7</th>\n",
       "      <td>0.006531</td>\n",
       "      <td>0.044530</td>\n",
       "      <td>0.002767</td>\n",
       "      <td>0.000992</td>\n",
       "      <td>2.790137</td>\n",
       "      <td>0.859885</td>\n",
       "      <td>0.033048</td>\n",
       "      <td>0.021618</td>\n",
       "      <td>0.005514</td>\n",
       "    </tr>\n",
       "    <tr>\n",
       "      <th>BEME8</th>\n",
       "      <td>0.007318</td>\n",
       "      <td>0.044255</td>\n",
       "      <td>0.003582</td>\n",
       "      <td>0.000981</td>\n",
       "      <td>3.650885</td>\n",
       "      <td>0.853580</td>\n",
       "      <td>0.030030</td>\n",
       "      <td>0.021566</td>\n",
       "      <td>0.000328</td>\n",
       "    </tr>\n",
       "    <tr>\n",
       "      <th>BEME9</th>\n",
       "      <td>0.007988</td>\n",
       "      <td>0.047929</td>\n",
       "      <td>0.003975</td>\n",
       "      <td>0.001091</td>\n",
       "      <td>3.644067</td>\n",
       "      <td>0.916861</td>\n",
       "      <td>0.035320</td>\n",
       "      <td>0.023961</td>\n",
       "      <td>0.000334</td>\n",
       "    </tr>\n",
       "    <tr>\n",
       "      <th>BEME10</th>\n",
       "      <td>0.009536</td>\n",
       "      <td>0.056103</td>\n",
       "      <td>0.005083</td>\n",
       "      <td>0.001461</td>\n",
       "      <td>3.479666</td>\n",
       "      <td>1.017468</td>\n",
       "      <td>0.047329</td>\n",
       "      <td>0.032025</td>\n",
       "      <td>0.000594</td>\n",
       "    </tr>\n",
       "    <tr>\n",
       "      <th>MKT</th>\n",
       "      <td>0.004377</td>\n",
       "      <td>0.045274</td>\n",
       "      <td>0.000000</td>\n",
       "      <td>0.000000</td>\n",
       "      <td>NaN</td>\n",
       "      <td>1.000000</td>\n",
       "      <td>0.000000</td>\n",
       "      <td>0.000000</td>\n",
       "      <td>NaN</td>\n",
       "    </tr>\n",
       "  </tbody>\n",
       "</table>\n",
       "</div>"
      ],
      "text/plain": [
       "        AvgReturns       std     alpha  std_alpha   t-alpha      beta  \\\n",
       "BEME1     0.003225  0.053380 -0.001581   0.000890 -1.776274  1.097840   \n",
       "BEME2     0.004858  0.048438  0.000361   0.000623  0.578281  1.027575   \n",
       "BEME3     0.004672  0.047969  0.000261   0.000680  0.383216  1.007874   \n",
       "BEME4     0.004645  0.047198  0.000439   0.000845  0.519184  0.961090   \n",
       "BEME5     0.004529  0.044331  0.000688   0.000900  0.764968  0.877361   \n",
       "BEME6     0.006041  0.043503  0.002347   0.000968  2.424715  0.843970   \n",
       "BEME7     0.006531  0.044530  0.002767   0.000992  2.790137  0.859885   \n",
       "BEME8     0.007318  0.044255  0.003582   0.000981  3.650885  0.853580   \n",
       "BEME9     0.007988  0.047929  0.003975   0.001091  3.644067  0.916861   \n",
       "BEME10    0.009536  0.056103  0.005083   0.001461  3.479666  1.017468   \n",
       "MKT       0.004377  0.045274  0.000000   0.000000       NaN  1.000000   \n",
       "\n",
       "        std_beta     std_e   pvalues  \n",
       "BEME1   0.024294  0.019468  0.077605  \n",
       "BEME2   0.017492  0.013486  0.560573  \n",
       "BEME3   0.018809  0.014794  0.701190  \n",
       "BEME4   0.027117  0.018285  0.601501  \n",
       "BEME5   0.025995  0.019683  0.446583  \n",
       "BEME6   0.029767  0.020797  0.014305  \n",
       "BEME7   0.033048  0.021618  0.005514  \n",
       "BEME8   0.030030  0.021566  0.000328  \n",
       "BEME9   0.035320  0.023961  0.000334  \n",
       "BEME10  0.047329  0.032025  0.000594  \n",
       "MKT     0.000000  0.000000       NaN  "
      ]
     },
     "execution_count": 54,
     "metadata": {},
     "output_type": "execute_result"
    }
   ],
   "source": [
    "# Lets select a sample to do our analysis\n",
    "\n",
    "# this is a sample that I know that the value puzzle is strong\n",
    "TSresults=TSregression(Re['1963':'2002'])\n",
    "TSresults"
   ]
  },
  {
   "cell_type": "code",
   "execution_count": 55,
   "id": "cordless-builder",
   "metadata": {
    "colab": {
     "base_uri": "https://localhost:8080/",
     "height": 281
    },
    "colab_type": "code",
    "executionInfo": {
     "elapsed": 1106,
     "status": "ok",
     "timestamp": 1577476073994,
     "user": {
      "displayName": "yuchi yao",
      "photoUrl": "",
      "userId": "00457884373990713813"
     },
     "user_tz": 300
    },
    "id": "7mJcvEWUdib_",
    "outputId": "df28b12d-8f4a-4b37-fb96-93023058f4f8"
   },
   "outputs": [
    {
     "data": {
      "image/png": "[encoded data removed]",
      "text/plain": [
       "<Figure size 432x288 with 1 Axes>"
      ]
     },
     "metadata": {
      "needs_background": "light"
     },
     "output_type": "display_data"
    }
   ],
   "source": [
    "TSresults.plot.scatter(x='beta',y='AvgReturns')\n",
    "plt.show()"
   ]
  },
  {
   "cell_type": "markdown",
   "id": "dramatic-trace",
   "metadata": {
    "colab_type": "text",
    "id": "WDFlnIGmdicB"
   },
   "source": [
    "> How should this plot look like if the Market was tangency as predicted by the CAPM?\n",
    "\n",
    "> Is the market likely to be tangency?\n",
    "\n",
    "* The value strategy is interesting not because value stocks have higher expected returns\n",
    "\n",
    "* The Value strategy in interesting because these expected returns do not line up with market betas!\n",
    "\n",
    "* And therefore, an investor that only holds the market can benefit by tilting his portfolio towards value stocks\n",
    "\n",
    "* BOOK to MARKET sorted portfolios risk-return relation is not explained by the CAPM\n",
    "\n",
    "  1. Value portfolios have very large alphas with respect to the market portfolio.\n",
    "    - Portfolio 9 rejects the CAPM with a confidence of more than 99.99%\n",
    "  2. A long-short strategy is likely to blow the CAPM out of the water even more strongly\n",
    "    - Value and growth portfolios have similar betas but very different returns!\n",
    "    - One can use the growth portfolio to hedge market exposure cheaply since it has high beta but low returns!"
   ]
  },
  {
   "cell_type": "markdown",
   "id": "conscious-croatia",
   "metadata": {
    "colab_type": "text",
    "id": "4V_gQI1DdicC"
   },
   "source": [
    "### The \"Value\" minus \"growth\" strategy"
   ]
  },
  {
   "cell_type": "code",
   "execution_count": 56,
   "id": "naughty-television",
   "metadata": {},
   "outputs": [],
   "source": [
    "# I will select a sample where the results are particularly strong\n",
    "\n",
    "# you should then investignate tto see how well it did recently\n",
    "\n",
    "b='1963'\n",
    "e='2002'"
   ]
  },
  {
   "cell_type": "code",
   "execution_count": 57,
   "id": "sharp-printer",
   "metadata": {
    "colab": {
     "base_uri": "https://localhost:8080/",
     "height": 498
    },
    "colab_type": "code",
    "executionInfo": {
     "elapsed": 972,
     "status": "ok",
     "timestamp": 1577476078286,
     "user": {
      "displayName": "yuchi yao",
      "photoUrl": "",
      "userId": "00457884373990713813"
     },
     "user_tz": 300
    },
    "id": "H19k-DrTdicD",
    "outputId": "d7cbbc6b-a16a-46a5-f562-9cdf1d9a8b10"
   },
   "outputs": [
    {
     "data": {
      "text/html": [
       "<table class=\"simpletable\">\n",
       "<caption>OLS Regression Results</caption>\n",
       "<tr>\n",
       "  <th>Dep. Variable:</th>            <td>y</td>        <th>  R-squared:         </th> <td>   0.006</td>\n",
       "</tr>\n",
       "<tr>\n",
       "  <th>Model:</th>                   <td>OLS</td>       <th>  Adj. R-squared:    </th> <td>   0.004</td>\n",
       "</tr>\n",
       "<tr>\n",
       "  <th>Method:</th>             <td>Least Squares</td>  <th>  F-statistic:       </th> <td>   3.066</td>\n",
       "</tr>\n",
       "<tr>\n",
       "  <th>Date:</th>             <td>Mon, 26 Apr 2021</td> <th>  Prob (F-statistic):</th>  <td>0.0806</td> \n",
       "</tr>\n",
       "<tr>\n",
       "  <th>Time:</th>                 <td>09:34:55</td>     <th>  Log-Likelihood:    </th> <td>  803.34</td>\n",
       "</tr>\n",
       "<tr>\n",
       "  <th>No. Observations:</th>      <td>   480</td>      <th>  AIC:               </th> <td>  -1603.</td>\n",
       "</tr>\n",
       "<tr>\n",
       "  <th>Df Residuals:</th>          <td>   478</td>      <th>  BIC:               </th> <td>  -1594.</td>\n",
       "</tr>\n",
       "<tr>\n",
       "  <th>Df Model:</th>              <td>     1</td>      <th>                     </th>     <td> </td>   \n",
       "</tr>\n",
       "<tr>\n",
       "  <th>Covariance Type:</th>      <td>nonrobust</td>    <th>                     </th>     <td> </td>   \n",
       "</tr>\n",
       "</table>\n",
       "<table class=\"simpletable\">\n",
       "<tr>\n",
       "    <td></td>       <th>coef</th>     <th>std err</th>      <th>t</th>      <th>P>|t|</th>  <th>[0.025</th>    <th>0.975]</th>  \n",
       "</tr>\n",
       "<tr>\n",
       "  <th>const</th> <td>    0.0067</td> <td>    0.002</td> <td>    3.195</td> <td> 0.001</td> <td>    0.003</td> <td>    0.011</td>\n",
       "</tr>\n",
       "<tr>\n",
       "  <th>MKT</th>   <td>   -0.0804</td> <td>    0.046</td> <td>   -1.751</td> <td> 0.081</td> <td>   -0.171</td> <td>    0.010</td>\n",
       "</tr>\n",
       "</table>\n",
       "<table class=\"simpletable\">\n",
       "<tr>\n",
       "  <th>Omnibus:</th>       <td>33.146</td> <th>  Durbin-Watson:     </th> <td>   1.666</td>\n",
       "</tr>\n",
       "<tr>\n",
       "  <th>Prob(Omnibus):</th> <td> 0.000</td> <th>  Jarque-Bera (JB):  </th> <td>  55.320</td>\n",
       "</tr>\n",
       "<tr>\n",
       "  <th>Skew:</th>          <td> 0.472</td> <th>  Prob(JB):          </th> <td>9.71e-13</td>\n",
       "</tr>\n",
       "<tr>\n",
       "  <th>Kurtosis:</th>      <td> 4.370</td> <th>  Cond. No.          </th> <td>    22.1</td>\n",
       "</tr>\n",
       "</table><br/><br/>Notes:<br/>[1] Standard Errors assume that the covariance matrix of the errors is correctly specified."
      ],
      "text/plain": [
       "<class 'statsmodels.iolib.summary.Summary'>\n",
       "\"\"\"\n",
       "                            OLS Regression Results                            \n",
       "==============================================================================\n",
       "Dep. Variable:                      y   R-squared:                       0.006\n",
       "Model:                            OLS   Adj. R-squared:                  0.004\n",
       "Method:                 Least Squares   F-statistic:                     3.066\n",
       "Date:                Mon, 26 Apr 2021   Prob (F-statistic):             0.0806\n",
       "Time:                        09:34:55   Log-Likelihood:                 803.34\n",
       "No. Observations:                 480   AIC:                            -1603.\n",
       "Df Residuals:                     478   BIC:                            -1594.\n",
       "Df Model:                           1                                         \n",
       "Covariance Type:            nonrobust                                         \n",
       "==============================================================================\n",
       "                 coef    std err          t      P>|t|      [0.025      0.975]\n",
       "------------------------------------------------------------------------------\n",
       "const          0.0067      0.002      3.195      0.001       0.003       0.011\n",
       "MKT           -0.0804      0.046     -1.751      0.081      -0.171       0.010\n",
       "==============================================================================\n",
       "Omnibus:                       33.146   Durbin-Watson:                   1.666\n",
       "Prob(Omnibus):                  0.000   Jarque-Bera (JB):               55.320\n",
       "Skew:                           0.472   Prob(JB):                     9.71e-13\n",
       "Kurtosis:                       4.370   Cond. No.                         22.1\n",
       "==============================================================================\n",
       "\n",
       "Notes:\n",
       "[1] Standard Errors assume that the covariance matrix of the errors is correctly specified.\n",
       "\"\"\""
      ]
     },
     "execution_count": 57,
     "metadata": {},
     "output_type": "execute_result"
    }
   ],
   "source": [
    "x= sm.add_constant(Re.loc[b:e,'MKT'])\n",
    "y= Re.loc[b:e,'BEME10']-Re.loc[b:e,'BEME1']\n",
    "results= sm.OLS(y,x).fit()\n",
    "results.summary()"
   ]
  },
  {
   "cell_type": "code",
   "execution_count": 58,
   "id": "spread-medication",
   "metadata": {
    "colab": {
     "base_uri": "https://localhost:8080/",
     "height": 119
    },
    "colab_type": "code",
    "executionInfo": {
     "elapsed": 891,
     "status": "ok",
     "timestamp": 1577476081886,
     "user": {
      "displayName": "yuchi yao",
      "photoUrl": "",
      "userId": "00457884373990713813"
     },
     "user_tz": 300
    },
    "id": "iY-cw2DLdicF",
    "outputId": "bfaf29c1-2173-4c1b-fc2b-75a5849dd5f0"
   },
   "outputs": [
    {
     "name": "stdout",
     "output_type": "stream",
     "text": [
      "average returns\n",
      "[0.07574000000000003, 0.052525]\n",
      "Sharpe\n",
      "[0.47970405899166996, 0.33490847758654535]\n",
      "correlation\n",
      "-0.07983497016932051\n"
     ]
    }
   ],
   "source": [
    "y= Re.loc[b:e].BEME10-Re.loc[b:e].BEME1\n",
    "print('average returns')\n",
    "print([y.mean()*12,Re.loc[b:e].MKT.mean()*12])\n",
    "print('Sharpe')\n",
    "print([(y.mean()/y.std())*12**0.5,Re.loc[b:e].MKT.mean()/Re.loc[b:e].MKT.std()*12**0.5])\n",
    "print('correlation')\n",
    "print(np.corrcoef(y,Re.loc[b:e].MKT)[1,0])"
   ]
  },
  {
   "cell_type": "code",
   "execution_count": null,
   "id": "corresponding-healthcare",
   "metadata": {},
   "outputs": [],
   "source": []
  },
  {
   "cell_type": "code",
   "execution_count": null,
   "id": "surprising-andrew",
   "metadata": {},
   "outputs": [],
   "source": []
  },
  {
   "cell_type": "code",
   "execution_count": null,
   "id": "sound-trinidad",
   "metadata": {},
   "outputs": [],
   "source": []
  },
  {
   "cell_type": "code",
   "execution_count": null,
   "id": "noticed-amateur",
   "metadata": {},
   "outputs": [],
   "source": []
  },
  {
   "cell_type": "markdown",
   "id": "mighty-disabled",
   "metadata": {},
   "source": [
    "# Interpretating  Factor models\n",
    "\n",
    "## The academic view\n",
    "\n",
    "- Factor models are models that describe how risk is priced in the economy\n",
    "\n",
    "- When you test a model, i.e., run a time-series regression you are testing if that model describes the risk-return trade-off in the economy\n",
    "\n",
    "- This a simultaneous test of (1) the proposed model and (2) whether markets are efficient\n",
    "\n",
    "- What does market efficiency means?\n",
    "\n",
    "- When you find an alpha that is statistically different from zero, you either\n",
    "   \n",
    "   1. reject the model\n",
    "   2. reject that markets are efficient\n",
    "   3. Or both\n",
    "   \n",
    "- **What you do with your portfolio really depends on what you believe**\n",
    "\n",
    "- If (2)--markets are inneficient-- then it is pretty clear what you should do. You should load on this \"anomaly\" because you believe that model describe how risk should be priced. So this alpha is mispricing. It is NOT a 100 dollar bill on the floor, becasue harvesting alpha is risky, but the higher the Appraisal ratio the more it * *looks* * like a 100 dollars bill. (An Arbitrage opportunity is the limit where this Appraisal ratio grows to infinity)\n",
    "    - In this (2) case you simply take into account the volatility and the comovement of the hedging portfolio with your portfolio\n",
    "\n",
    "- If (1) and you reject the model. Now it is not so clear what you should do. Because you do have a view on what the proper model of risk and return is. So you don't know if this alpha is proper compensation for risks that you dot know. You might investigate and add this hedged portfolio as a factor if you think it captures some dimensions of risks that are important and not captured by your original model \n",
    "     - For example there is tons of wealth that is not traded in the stock market: housing, private business,your human capital, firms that have not being born yet\n",
    "     - It can be capturing risks associated with the banking sector like financial crisis, which might not be fully reflected in the stock market\n",
    "     - The factor can be caputring exposure to such risks and therefore it is a much more subtle question of whether you think your appetite for this risk is higher that the price of it (the appraisal ratio)\n",
    "\n",
    "- **So after an rejection you need to do a post-morten to understand if you are in (1) or (2) and if you are in (1) what exactly is the kind of risk you are talkign about**\n",
    "\n",
    "\n",
    "\n",
    "## The Practicioner view\n",
    "\n",
    "- Factor models are used to describe invesestment strategies that are well known\n",
    "\n",
    "- Much less thought (incorrectly, imo) is given why these strategies work\n",
    "\n",
    "- For example: you add a value factor to your factor model (so a multi-factor model with  MKT and Value) not because you are taking a stand on the correct model, but simply to show that your strategy can add value even to someone that already has exposure to the market and the value factor. If your strategy has alpha, then you can claim that such investor can boost his Sharpe ratio by investing at least a bit in your strategy. The CAPM alpha by itself only answers this question for someone that has only an allocation to the market.\n",
    "\n",
    "- So factors are used as a way to \"summarize\" some general risk-return feaures of the stock market (or any asset market), and by using these set of factors as \"benchmarks\" you can cleanly show your value added.\n",
    "\n",
    "- The good practioner must have an understanding of where this alpha come from\n",
    "\n",
    "   - What are the mistakes that people are making?\n",
    "   - Why this persists?\n",
    "   - How would I be able to tell if this trade got \"crowded\" and will disappear going forward?\n",
    "   - Having a theory that is plausible and make sense is another way to guard agaisnt estiamtion uncertainty and data mining bias that we are always exposed to\n",
    "\n",
    "\n",
    "\n"
   ]
  },
  {
   "cell_type": "markdown",
   "id": "pharmaceutical-calcium",
   "metadata": {
    "colab_type": "text",
    "id": "bzWl3blrhHrz"
   },
   "source": [
    "\n",
    "## Investors\n",
    "\n",
    "But of course an investor must in the end take a stand on (1) vs (2). If a practiciner comes pitching a large alpha, then must be convinced that this is not fair compensation for some risk that he/she is unaware\n",
    "\n",
    "### Equilibrium thinking shoudl be used to to guard against estimation uncertainty (the in-sample vs out-sample problem)\n",
    "\n",
    "* Not everyone can invest in the higher expected return assets\n",
    "* If we were all to invest in the higher expected return assets, prices would go up and expected returns would go down\n",
    "* Imposing equilibrium– that is:\n",
    "  * Assume all investors in the world are choosing optimal portfolios, \n",
    "  * Then solve for the expected returns that make all the assets in the world be held\n",
    "  * This is imposing equilibrium: since all assets must be held, and investors must want to hold them\n",
    "  * Then expected returns have to adjust so everyone is happy and all assets are held\n",
    "      \n",
    "## Equilibrium in asset markets\n",
    "\n",
    "* Fundamental Question: \n",
    "  >If everybody wants higher returns, why some assets earn higher average returns than others? Or why the tangency portfolio has larger positions in some assets than other assets?\n",
    "\n",
    "* Finance theory: because these assets have low returns in bad times\n",
    "  >What are bad times?\n",
    "  \n",
    "  >How much more extra expected return to experience low returns during bad times? \n",
    "\n",
    "\n",
    "### The general answer\n",
    "\n",
    "* Investors' preferences, fears , and background risk exposures will aggregate to some notion of bad times\n",
    "\n",
    "* Assets that pay poorly during these periods will earn higher returns per unit of volatility, i.e. will have high Sharpe ratios and be in the tangency portfolio with a large weight\n",
    "\n",
    "* Assets that pay well during bad times, good hedges, will earn lower returns, possibly negative, and will be in the tangency portfolio with a negative weight\n",
    "\n",
    "* CAPM is a particular case of this general framework where the market return summarizes how bad the times are\n",
    "\n",
    "\n",
    "## The CAPM (again)\n",
    "\n",
    "* The Wealth portfolio is the tangency portfolio\n",
    "\n",
    "* The return on the wealth portfolio summarizes how Bad the times are\n",
    "\n",
    "* Assets that co-vary more with the market must earn higher returns\n",
    "\n",
    "* They pay poorly exactly when things are worse\n",
    "\n",
    "* What is the wealth portfolio? It is the portfolio that holds all assets in proportion to their value\n",
    "\n",
    "* We often use the equity market as a proxy for this, but that is not the CAPM\n",
    "\n",
    "* In a way that CAPM is untestable because it is impossible to construct the true wealth portfolio\n",
    "\n",
    "\n",
    "$$E[R_t^i-R_t^f]=\\beta_{i,mkt}E[R^{mkt}_t-R^f_t]$$\n",
    "\n",
    "\n",
    "\n",
    "## Multi-factor models\n",
    "\n",
    "\n",
    "  * APT: Arbitrage Price Theory\n",
    "  * ICAPM: Intertemporal Capital Asset Pricing Model\n",
    "\n",
    "* These models make less restrictive assumptions and predict that we will need additional factors beyond the market to \"span\" the tangency portfolio\n",
    "\n",
    "* What does \"span\" mean?\n",
    "\n",
    "\n",
    "\n",
    "$$E[R_t^i-R_t^f]=\\beta_{i,mkt}E[R^{mkt}_t-R^f_t]+\\sum_{j=1}^J\\beta_{i,j}E[Factor_j]$$\n",
    "\n",
    "\n",
    "- It is basically the same as before, but now we run a multivariate regression\n",
    "\n",
    "  $$R_{i,t}=\\alpha_i+\\beta_{mkt}R^{mkt}_t+\\beta_1 Factor_1+\\beta_2 Factor_2+\\beta_3 Factor_3+....+\\beta_n Factor_n+\\epsilon_{i,t}$$\n",
    "\n",
    "- As long as the factors **are also excess returns**, the time-series alpha test is still valid and indentical as before.\n",
    "\n",
    "- You can do single asset tests and simply use the alpha t-stat to test the model\n",
    "\n",
    "- Everything that we discussed with the hedging/tracking portfolios apply here as well, but now\n",
    "\n",
    "$$Hedged_{i,t}=R_{i,t}-(\\beta_{mkt}R^{mkt}_t+\\beta_1 Factor_1+\\beta_2 Factor_2+\\beta_3 Factor_3+....+\\beta_n Factor_n)$$\n",
    "\n",
    "where $(\\beta_{mkt}R^{mkt}_t+\\beta_1 Factor_1+\\beta_2 Factor_2+\\beta_3 Factor_3+....+\\beta_n Factor_n)$ is the tracking portfolio\n",
    "\n",
    "- You guys already learned Multi-factor theory (from Prof. Liu), but I will briefly discuss this next class as well.\n"
   ]
  },
  {
   "cell_type": "markdown",
   "id": "verified-grove",
   "metadata": {
    "colab_type": "text",
    "id": "LRIHdlK93MQF"
   },
   "source": [
    "## Time-series test for multi-factor models"
   ]
  },
  {
   "cell_type": "code",
   "execution_count": 76,
   "id": "lightweight-packet",
   "metadata": {
    "colab": {
     "base_uri": "https://localhost:8080/",
     "height": 235
    },
    "colab_type": "code",
    "executionInfo": {
     "elapsed": 1900,
     "status": "ok",
     "timestamp": 1577476296295,
     "user": {
      "displayName": "yuchi yao",
      "photoUrl": "",
      "userId": "00457884373990713813"
     },
     "user_tz": 300
    },
    "id": "c5yPE2q8didx",
    "outputId": "9689e448-2d2b-4f6f-cfa6-6123fd4bcbad"
   },
   "outputs": [
    {
     "data": {
      "text/html": [
       "<div>\n",
       "<style scoped>\n",
       "    .dataframe tbody tr th:only-of-type {\n",
       "        vertical-align: middle;\n",
       "    }\n",
       "\n",
       "    .dataframe tbody tr th {\n",
       "        vertical-align: top;\n",
       "    }\n",
       "\n",
       "    .dataframe thead th {\n",
       "        text-align: right;\n",
       "    }\n",
       "</style>\n",
       "<table border=\"1\" class=\"dataframe\">\n",
       "  <thead>\n",
       "    <tr style=\"text-align: right;\">\n",
       "      <th></th>\n",
       "      <th>HML</th>\n",
       "      <th>SMB</th>\n",
       "    </tr>\n",
       "    <tr>\n",
       "      <th>Date</th>\n",
       "      <th></th>\n",
       "      <th></th>\n",
       "    </tr>\n",
       "  </thead>\n",
       "  <tbody>\n",
       "    <tr>\n",
       "      <th>1926-07-31</th>\n",
       "      <td>-0.0287</td>\n",
       "      <td>-0.0230</td>\n",
       "    </tr>\n",
       "    <tr>\n",
       "      <th>1926-08-31</th>\n",
       "      <td>0.0419</td>\n",
       "      <td>-0.0140</td>\n",
       "    </tr>\n",
       "    <tr>\n",
       "      <th>1926-09-30</th>\n",
       "      <td>0.0001</td>\n",
       "      <td>-0.0132</td>\n",
       "    </tr>\n",
       "    <tr>\n",
       "      <th>1926-10-31</th>\n",
       "      <td>0.0051</td>\n",
       "      <td>0.0004</td>\n",
       "    </tr>\n",
       "    <tr>\n",
       "      <th>1926-11-30</th>\n",
       "      <td>-0.0035</td>\n",
       "      <td>-0.0020</td>\n",
       "    </tr>\n",
       "  </tbody>\n",
       "</table>\n",
       "</div>"
      ],
      "text/plain": [
       "               HML     SMB\n",
       "Date                      \n",
       "1926-07-31 -0.0287 -0.0230\n",
       "1926-08-31  0.0419 -0.0140\n",
       "1926-09-30  0.0001 -0.0132\n",
       "1926-10-31  0.0051  0.0004\n",
       "1926-11-30 -0.0035 -0.0020"
      ]
     },
     "execution_count": 76,
     "metadata": {},
     "output_type": "execute_result"
    }
   ],
   "source": [
    "url = \"https://www.dropbox.com/s/9346pp2iu5prv8s/MonthlyFactors.csv?dl=1\"\n",
    "Factors = pd.read_csv(url,index_col=0, \n",
    "                         parse_dates=True,na_values=-99)\n",
    "Factors=Factors/100\n",
    "# keep factors needed\n",
    "Factors=Factors[['HML','SMB']]\n",
    "Factors.head()"
   ]
  },
  {
   "cell_type": "code",
   "execution_count": 77,
   "id": "abandoned-database",
   "metadata": {
    "colab": {
     "base_uri": "https://localhost:8080/",
     "height": 255
    },
    "colab_type": "code",
    "executionInfo": {
     "elapsed": 1354,
     "status": "ok",
     "timestamp": 1577476303569,
     "user": {
      "displayName": "yuchi yao",
      "photoUrl": "",
      "userId": "00457884373990713813"
     },
     "user_tz": 300
    },
    "id": "IEdqCcTSdid0",
    "outputId": "1afdd2ee-c30a-4be4-89ee-4f025e1b3d0c"
   },
   "outputs": [
    {
     "data": {
      "text/plain": [
       "BEME1     0.005859\n",
       "BEME2     0.006873\n",
       "BEME3     0.006907\n",
       "BEME4     0.006643\n",
       "BEME5     0.007234\n",
       "BEME6     0.007923\n",
       "BEME7     0.007247\n",
       "BEME8     0.009139\n",
       "BEME9     0.010582\n",
       "BEME10    0.010701\n",
       "MKT       0.006567\n",
       "HML       0.003881\n",
       "SMB       0.002101\n",
       "dtype: float64"
      ]
     },
     "execution_count": 77,
     "metadata": {},
     "output_type": "execute_result"
    }
   ],
   "source": [
    "df=pd.merge(Re,Factors,left_index=True,right_index=True)\n",
    "# no need to take out risk-free rate because these factors are already excess returns\n",
    "df.mean()"
   ]
  },
  {
   "cell_type": "markdown",
   "id": "offensive-region",
   "metadata": {
    "colab_type": "text",
    "id": "Eh4nHWPj6k0N"
   },
   "source": [
    "### Two-factor model"
   ]
  },
  {
   "cell_type": "code",
   "execution_count": 78,
   "id": "working-night",
   "metadata": {},
   "outputs": [
    {
     "data": {
      "text/plain": [
       "0.04657472527472528"
      ]
     },
     "execution_count": 78,
     "metadata": {},
     "output_type": "execute_result"
    }
   ],
   "source": [
    "df.HML.mean()*12"
   ]
  },
  {
   "cell_type": "code",
   "execution_count": 79,
   "id": "continuing-wales",
   "metadata": {
    "colab": {
     "base_uri": "https://localhost:8080/",
     "height": 71
    },
    "colab_type": "code",
    "executionInfo": {
     "elapsed": 956,
     "status": "ok",
     "timestamp": 1577476747475,
     "user": {
      "displayName": "yuchi yao",
      "photoUrl": "",
      "userId": "00457884373990713813"
     },
     "user_tz": 300
    },
    "id": "2jWJJVHkdid3",
    "outputId": "dc9213ea-002d-40c4-d44b-81981f6b8a78"
   },
   "outputs": [
    {
     "data": {
      "text/html": [
       "<div>\n",
       "<style scoped>\n",
       "    .dataframe tbody tr th:only-of-type {\n",
       "        vertical-align: middle;\n",
       "    }\n",
       "\n",
       "    .dataframe tbody tr th {\n",
       "        vertical-align: top;\n",
       "    }\n",
       "\n",
       "    .dataframe thead th {\n",
       "        text-align: right;\n",
       "    }\n",
       "</style>\n",
       "<table border=\"1\" class=\"dataframe\">\n",
       "  <thead>\n",
       "    <tr style=\"text-align: right;\">\n",
       "      <th></th>\n",
       "      <th>avg</th>\n",
       "      <th>alpha</th>\n",
       "      <th>talpha</th>\n",
       "      <th>betamkt</th>\n",
       "      <th>tbetamkt</th>\n",
       "      <th>betahml</th>\n",
       "      <th>tbetahml</th>\n",
       "    </tr>\n",
       "  </thead>\n",
       "  <tbody>\n",
       "    <tr>\n",
       "      <th>BEME1</th>\n",
       "      <td>0.003225</td>\n",
       "      <td>0.001393</td>\n",
       "      <td>2.109877</td>\n",
       "      <td>0.967143</td>\n",
       "      <td>52.119242</td>\n",
       "      <td>-0.507248</td>\n",
       "      <td>-14.597779</td>\n",
       "    </tr>\n",
       "    <tr>\n",
       "      <th>BEME2</th>\n",
       "      <td>0.004858</td>\n",
       "      <td>0.000885</td>\n",
       "      <td>1.388941</td>\n",
       "      <td>1.004520</td>\n",
       "      <td>60.156797</td>\n",
       "      <td>-0.089476</td>\n",
       "      <td>-2.423715</td>\n",
       "    </tr>\n",
       "    <tr>\n",
       "      <th>BEME3</th>\n",
       "      <td>0.004672</td>\n",
       "      <td>-0.000260</td>\n",
       "      <td>-0.378600</td>\n",
       "      <td>1.030771</td>\n",
       "      <td>52.346628</td>\n",
       "      <td>0.088867</td>\n",
       "      <td>2.122085</td>\n",
       "    </tr>\n",
       "    <tr>\n",
       "      <th>BEME4</th>\n",
       "      <td>0.004645</td>\n",
       "      <td>-0.000993</td>\n",
       "      <td>-1.187726</td>\n",
       "      <td>1.024028</td>\n",
       "      <td>46.748675</td>\n",
       "      <td>0.244269</td>\n",
       "      <td>5.454014</td>\n",
       "    </tr>\n",
       "    <tr>\n",
       "      <th>BEME5</th>\n",
       "      <td>0.004529</td>\n",
       "      <td>-0.001320</td>\n",
       "      <td>-1.538633</td>\n",
       "      <td>0.965618</td>\n",
       "      <td>46.760283</td>\n",
       "      <td>0.342533</td>\n",
       "      <td>7.335649</td>\n",
       "    </tr>\n",
       "    <tr>\n",
       "      <th>BEME6</th>\n",
       "      <td>0.006041</td>\n",
       "      <td>-0.000452</td>\n",
       "      <td>-0.591644</td>\n",
       "      <td>0.966994</td>\n",
       "      <td>49.114372</td>\n",
       "      <td>0.477469</td>\n",
       "      <td>11.638150</td>\n",
       "    </tr>\n",
       "    <tr>\n",
       "      <th>BEME7</th>\n",
       "      <td>0.006531</td>\n",
       "      <td>-0.000669</td>\n",
       "      <td>-0.939706</td>\n",
       "      <td>1.010890</td>\n",
       "      <td>45.301070</td>\n",
       "      <td>0.586068</td>\n",
       "      <td>16.803902</td>\n",
       "    </tr>\n",
       "    <tr>\n",
       "      <th>BEME8</th>\n",
       "      <td>0.007318</td>\n",
       "      <td>-0.000066</td>\n",
       "      <td>-0.100727</td>\n",
       "      <td>1.013915</td>\n",
       "      <td>57.730463</td>\n",
       "      <td>0.622277</td>\n",
       "      <td>16.044578</td>\n",
       "    </tr>\n",
       "    <tr>\n",
       "      <th>BEME9</th>\n",
       "      <td>0.007988</td>\n",
       "      <td>0.000035</td>\n",
       "      <td>0.045016</td>\n",
       "      <td>1.090035</td>\n",
       "      <td>53.741509</td>\n",
       "      <td>0.672105</td>\n",
       "      <td>18.675487</td>\n",
       "    </tr>\n",
       "    <tr>\n",
       "      <th>BEME10</th>\n",
       "      <td>0.009536</td>\n",
       "      <td>0.000369</td>\n",
       "      <td>0.332300</td>\n",
       "      <td>1.224648</td>\n",
       "      <td>37.043688</td>\n",
       "      <td>0.804089</td>\n",
       "      <td>13.605419</td>\n",
       "    </tr>\n",
       "  </tbody>\n",
       "</table>\n",
       "</div>"
      ],
      "text/plain": [
       "             avg     alpha    talpha   betamkt   tbetamkt   betahml   tbetahml\n",
       "BEME1   0.003225  0.001393  2.109877  0.967143  52.119242 -0.507248 -14.597779\n",
       "BEME2   0.004858  0.000885  1.388941  1.004520  60.156797 -0.089476  -2.423715\n",
       "BEME3   0.004672 -0.000260 -0.378600  1.030771  52.346628  0.088867   2.122085\n",
       "BEME4   0.004645 -0.000993 -1.187726  1.024028  46.748675  0.244269   5.454014\n",
       "BEME5   0.004529 -0.001320 -1.538633  0.965618  46.760283  0.342533   7.335649\n",
       "BEME6   0.006041 -0.000452 -0.591644  0.966994  49.114372  0.477469  11.638150\n",
       "BEME7   0.006531 -0.000669 -0.939706  1.010890  45.301070  0.586068  16.803902\n",
       "BEME8   0.007318 -0.000066 -0.100727  1.013915  57.730463  0.622277  16.044578\n",
       "BEME9   0.007988  0.000035  0.045016  1.090035  53.741509  0.672105  18.675487\n",
       "BEME10  0.009536  0.000369  0.332300  1.224648  37.043688  0.804089  13.605419"
      ]
     },
     "execution_count": 79,
     "metadata": {},
     "output_type": "execute_result"
    }
   ],
   "source": [
    "# initiate a data frame with row labels given by the 10 portfolios and the columns of the moments that we will estimate\n",
    "df=df['1963':'2002']\n",
    "names=df.drop(['MKT','HML','SMB'],axis=1).columns\n",
    "FF2=pd.DataFrame([],index=names,\\\n",
    "                 columns=['avg','alpha','talpha','betamkt','tbetamkt','betahml','tbetahml']) \n",
    "\n",
    "\n",
    "# create empty dataframe to store residual\n",
    "# FF2Resid=df.drop(['MKT','HML','SMB'],axis=1).copy()\n",
    "# FF2Resid.loc[:,:]=np.nan\n",
    "\n",
    "#store avg return\n",
    "FF2['avg']=df.drop(['MKT','HML','SMB'],axis=1).mean()\n",
    "\n",
    "for portfolio in FF2.index:\n",
    "    y=df[portfolio]\n",
    "    \n",
    "    x=df[['MKT','HML']]\n",
    "    x=sm.add_constant(x)\n",
    "    results = sm.OLS(y,x).fit()\n",
    "    FF2.at[portfolio,['alpha','betamkt','betahml']]=results.params.values\n",
    "    FF2.at[portfolio,['talpha','tbetamkt','tbetahml']]=(results.params/results.HC0_se).values\n",
    "#     FF2Resid[portfolio]=results.resid\n",
    "    \n",
    "FF2=FF2.astype('float')  \n",
    "FF2"
   ]
  },
  {
   "cell_type": "markdown",
   "id": "previous-transition",
   "metadata": {
    "colab_type": "text",
    "id": "jKAW6Ad9did7"
   },
   "source": [
    "- How to think about the CAPM alpha versus the multi-factor alpha? \n",
    "- Is there a more correct one?\n",
    "- Does adding a factor reduces \"mispricing\"?  what does that mean?\n"
   ]
  },
  {
   "cell_type": "code",
   "execution_count": 80,
   "id": "speaking-sharing",
   "metadata": {
    "colab": {
     "base_uri": "https://localhost:8080/",
     "height": 161
    },
    "colab_type": "code",
    "executionInfo": {
     "elapsed": 902,
     "status": "ok",
     "timestamp": 1577476760184,
     "user": {
      "displayName": "yuchi yao",
      "photoUrl": "",
      "userId": "00457884373990713813"
     },
     "user_tz": 300
    },
    "id": "sjwk64Jkdid8",
    "outputId": "2ee46a03-2a66-40af-e1dc-bc125052b394"
   },
   "outputs": [
    {
     "data": {
      "image/png": "[encoded data removed]",
      "text/plain": [
       "<Figure size 432x288 with 1 Axes>"
      ]
     },
     "metadata": {
      "needs_background": "light"
     },
     "output_type": "display_data"
    }
   ],
   "source": [
    "CAPM=TSresults.copy()\n",
    "fig = plt.figure()\n",
    "ax1 = plt.subplot(2,1,1)\n",
    "FF2.alpha.abs().plot(ax=ax1,style='o')\n",
    "CAPM.alpha.abs().plot(ax=ax1,style='o')\n",
    "\n",
    "plt.legend(['FF2','CAPM'])\n",
    "plt.ylabel('alpha') \n",
    "plt.xlabel('portfolios') \n",
    "plt.show()"
   ]
  },
  {
   "cell_type": "markdown",
   "id": "massive-speech",
   "metadata": {
    "colab_type": "text",
    "id": "OvIK07S37ZUo"
   },
   "source": [
    "______________________________________________\n",
    "\n",
    "### Bonus Box:  A Three-factor model"
   ]
  },
  {
   "cell_type": "code",
   "execution_count": 81,
   "id": "agreed-import",
   "metadata": {
    "colab": {
     "base_uri": "https://localhost:8080/",
     "height": 71
    },
    "colab_type": "code",
    "executionInfo": {
     "elapsed": 924,
     "status": "ok",
     "timestamp": 1577476798068,
     "user": {
      "displayName": "yuchi yao",
      "photoUrl": "",
      "userId": "00457884373990713813"
     },
     "user_tz": 300
    },
    "id": "yCxZoScD7dmX",
    "outputId": "b6579c13-7151-4b1f-d89c-03e76921d545"
   },
   "outputs": [
    {
     "data": {
      "text/html": [
       "<div>\n",
       "<style scoped>\n",
       "    .dataframe tbody tr th:only-of-type {\n",
       "        vertical-align: middle;\n",
       "    }\n",
       "\n",
       "    .dataframe tbody tr th {\n",
       "        vertical-align: top;\n",
       "    }\n",
       "\n",
       "    .dataframe thead th {\n",
       "        text-align: right;\n",
       "    }\n",
       "</style>\n",
       "<table border=\"1\" class=\"dataframe\">\n",
       "  <thead>\n",
       "    <tr style=\"text-align: right;\">\n",
       "      <th></th>\n",
       "      <th>avg</th>\n",
       "      <th>alpha</th>\n",
       "      <th>talpha</th>\n",
       "      <th>betamkt</th>\n",
       "      <th>tbetamkt</th>\n",
       "      <th>betahml</th>\n",
       "      <th>tbetahml</th>\n",
       "      <th>betasmb</th>\n",
       "      <th>tbetasmb</th>\n",
       "    </tr>\n",
       "  </thead>\n",
       "  <tbody>\n",
       "    <tr>\n",
       "      <th>BEME1</th>\n",
       "      <td>0.003225</td>\n",
       "      <td>0.001743</td>\n",
       "      <td>2.858402</td>\n",
       "      <td>0.986598</td>\n",
       "      <td>55.182834</td>\n",
       "      <td>-0.536490</td>\n",
       "      <td>-17.386493</td>\n",
       "      <td>-0.134760</td>\n",
       "      <td>-5.312898</td>\n",
       "    </tr>\n",
       "    <tr>\n",
       "      <th>BEME2</th>\n",
       "      <td>0.004858</td>\n",
       "      <td>0.000991</td>\n",
       "      <td>1.583049</td>\n",
       "      <td>1.010419</td>\n",
       "      <td>61.038715</td>\n",
       "      <td>-0.098341</td>\n",
       "      <td>-2.783742</td>\n",
       "      <td>-0.040855</td>\n",
       "      <td>-1.686404</td>\n",
       "    </tr>\n",
       "    <tr>\n",
       "      <th>BEME3</th>\n",
       "      <td>0.004672</td>\n",
       "      <td>-0.000190</td>\n",
       "      <td>-0.283986</td>\n",
       "      <td>1.034663</td>\n",
       "      <td>50.746516</td>\n",
       "      <td>0.083017</td>\n",
       "      <td>2.074329</td>\n",
       "      <td>-0.026960</td>\n",
       "      <td>-0.858285</td>\n",
       "    </tr>\n",
       "    <tr>\n",
       "      <th>BEME4</th>\n",
       "      <td>0.004645</td>\n",
       "      <td>-0.000924</td>\n",
       "      <td>-1.107970</td>\n",
       "      <td>1.027891</td>\n",
       "      <td>44.083883</td>\n",
       "      <td>0.238463</td>\n",
       "      <td>5.286738</td>\n",
       "      <td>-0.026757</td>\n",
       "      <td>-0.827511</td>\n",
       "    </tr>\n",
       "    <tr>\n",
       "      <th>BEME5</th>\n",
       "      <td>0.004529</td>\n",
       "      <td>-0.001088</td>\n",
       "      <td>-1.301458</td>\n",
       "      <td>0.978513</td>\n",
       "      <td>44.493451</td>\n",
       "      <td>0.323152</td>\n",
       "      <td>7.466797</td>\n",
       "      <td>-0.089319</td>\n",
       "      <td>-2.460703</td>\n",
       "    </tr>\n",
       "    <tr>\n",
       "      <th>BEME6</th>\n",
       "      <td>0.006041</td>\n",
       "      <td>-0.000400</td>\n",
       "      <td>-0.526854</td>\n",
       "      <td>0.969879</td>\n",
       "      <td>47.707327</td>\n",
       "      <td>0.473133</td>\n",
       "      <td>11.590126</td>\n",
       "      <td>-0.019985</td>\n",
       "      <td>-0.688658</td>\n",
       "    </tr>\n",
       "    <tr>\n",
       "      <th>BEME7</th>\n",
       "      <td>0.006531</td>\n",
       "      <td>-0.000670</td>\n",
       "      <td>-0.937915</td>\n",
       "      <td>1.010806</td>\n",
       "      <td>45.789553</td>\n",
       "      <td>0.586194</td>\n",
       "      <td>16.506778</td>\n",
       "      <td>0.000584</td>\n",
       "      <td>0.022704</td>\n",
       "    </tr>\n",
       "    <tr>\n",
       "      <th>BEME8</th>\n",
       "      <td>0.007318</td>\n",
       "      <td>-0.000537</td>\n",
       "      <td>-0.920447</td>\n",
       "      <td>0.987756</td>\n",
       "      <td>62.376607</td>\n",
       "      <td>0.661595</td>\n",
       "      <td>24.375635</td>\n",
       "      <td>0.181196</td>\n",
       "      <td>6.793609</td>\n",
       "    </tr>\n",
       "    <tr>\n",
       "      <th>BEME9</th>\n",
       "      <td>0.007988</td>\n",
       "      <td>-0.000443</td>\n",
       "      <td>-0.617529</td>\n",
       "      <td>1.063450</td>\n",
       "      <td>54.156043</td>\n",
       "      <td>0.712062</td>\n",
       "      <td>22.735360</td>\n",
       "      <td>0.184141</td>\n",
       "      <td>6.724677</td>\n",
       "    </tr>\n",
       "    <tr>\n",
       "      <th>BEME10</th>\n",
       "      <td>0.009536</td>\n",
       "      <td>-0.000783</td>\n",
       "      <td>-0.891318</td>\n",
       "      <td>1.160606</td>\n",
       "      <td>48.446541</td>\n",
       "      <td>0.900347</td>\n",
       "      <td>23.345170</td>\n",
       "      <td>0.443602</td>\n",
       "      <td>13.312943</td>\n",
       "    </tr>\n",
       "  </tbody>\n",
       "</table>\n",
       "</div>"
      ],
      "text/plain": [
       "             avg     alpha    talpha   betamkt   tbetamkt   betahml  \\\n",
       "BEME1   0.003225  0.001743  2.858402  0.986598  55.182834 -0.536490   \n",
       "BEME2   0.004858  0.000991  1.583049  1.010419  61.038715 -0.098341   \n",
       "BEME3   0.004672 -0.000190 -0.283986  1.034663  50.746516  0.083017   \n",
       "BEME4   0.004645 -0.000924 -1.107970  1.027891  44.083883  0.238463   \n",
       "BEME5   0.004529 -0.001088 -1.301458  0.978513  44.493451  0.323152   \n",
       "BEME6   0.006041 -0.000400 -0.526854  0.969879  47.707327  0.473133   \n",
       "BEME7   0.006531 -0.000670 -0.937915  1.010806  45.789553  0.586194   \n",
       "BEME8   0.007318 -0.000537 -0.920447  0.987756  62.376607  0.661595   \n",
       "BEME9   0.007988 -0.000443 -0.617529  1.063450  54.156043  0.712062   \n",
       "BEME10  0.009536 -0.000783 -0.891318  1.160606  48.446541  0.900347   \n",
       "\n",
       "         tbetahml   betasmb   tbetasmb  \n",
       "BEME1  -17.386493 -0.134760  -5.312898  \n",
       "BEME2   -2.783742 -0.040855  -1.686404  \n",
       "BEME3    2.074329 -0.026960  -0.858285  \n",
       "BEME4    5.286738 -0.026757  -0.827511  \n",
       "BEME5    7.466797 -0.089319  -2.460703  \n",
       "BEME6   11.590126 -0.019985  -0.688658  \n",
       "BEME7   16.506778  0.000584   0.022704  \n",
       "BEME8   24.375635  0.181196   6.793609  \n",
       "BEME9   22.735360  0.184141   6.724677  \n",
       "BEME10  23.345170  0.443602  13.312943  "
      ]
     },
     "execution_count": 81,
     "metadata": {},
     "output_type": "execute_result"
    }
   ],
   "source": [
    "# indentical code as before. Just add the new factor to the regression\n",
    "FF3=pd.DataFrame([],index=df.drop(['MKT','HML','SMB'],axis=1).columns,\\\n",
    "                 columns=['avg','alpha','talpha','betamkt','tbetamkt','betahml','tbetahml','betasmb','tbetasmb']) \n",
    "# create dataframe to store residual\n",
    "# FF3Resid=df.drop(['MKT','HML','SMB'],axis=1).copy()\n",
    "#store avg return\n",
    "FF3['avg']=df.drop(['MKT','HML','SMB'],axis=1).mean()\n",
    "\n",
    "for portfolio in FF3.index:\n",
    "    y=df[portfolio]\n",
    "    x=df[['MKT','HML','SMB']]\n",
    "    x=sm.add_constant(x)\n",
    "    results = sm.OLS(y,x).fit()\n",
    "    FF3.at[portfolio,['alpha','betamkt','betahml','betasmb']]=results.params.values\n",
    "    FF3.at[portfolio,['talpha','tbetamkt','tbetahml','tbetasmb']]=(results.params/results.HC0_se).values\n",
    "#     FF3Resid[portfolio]=results.resid\n",
    "    \n",
    "FF3=FF3.astype('float') \n",
    "FF3"
   ]
  },
  {
   "cell_type": "markdown",
   "id": "blessed-oasis",
   "metadata": {},
   "source": [
    "___________________________________"
   ]
  },
  {
   "cell_type": "markdown",
   "id": "prompt-pierce",
   "metadata": {},
   "source": [
    "# Additional discussion"
   ]
  },
  {
   "cell_type": "markdown",
   "id": "american-measure",
   "metadata": {
    "colab_type": "text",
    "id": "cqiZCrUA-iWH"
   },
   "source": [
    "\n",
    "##  Portfolio implications of the equilibrium view\n",
    "\n",
    "* If you are like the average investor, you should simply hold the market portfolio\n",
    "\n",
    "* You deviate from holding the market only if you are different from the average investor\n",
    "\n",
    "* Examples with preferences:\n",
    "\n",
    "  * If you are more risk-averse than the average investor you should hold some safe bonds as well\n",
    "  * If you are more risk-tolerant you should borrow and invest more in the market than the average investor\n",
    "  \n",
    "* Example with \"Background risk\":(background risks are risks that investors are exposed to indepedently of their financial portfolio)\n",
    "\n",
    "   * If you work in the automobile industry and your skill set is highly specialized to automobiles, you are more exposed to the automobile industry risk than the average investor.\n",
    "   * Advice is to hold the market *after you hedge your automobile exposure*\n",
    "   * in practice this could be investing in the market portoflio while avoiding auto-indistry stocks (and other stocks that are strongly correlated with it)\n",
    "   \n",
    "* This logic extends to multipl-factors as well, as we will see. \n",
    "   * So even if the CAPM does not work and you need addiitonal factors to explain differences in expected returns across assets, the equilbrium view still implies that if you are just like the average investors, you should simply hold the market portfolio.\n",
    "   * So you will tilt your portfolio to a high expected return factor only if you are less exposed to it than the average investor\n",
    "   * The intuition here is that this factor earns high returns relative to the CAPM because it earns fair compensation for risks that the average investors are exposed to"
   ]
  },
  {
   "cell_type": "markdown",
   "id": "inclusive-tsunami",
   "metadata": {
    "colab_type": "text",
    "id": "mCQvjFNbdieN"
   },
   "source": [
    "## Quantitative investing is going from \"names\"  to characteristics\n",
    "\n",
    "The  sorting by date keeps the stocks inside the portfolios with similar characteristics\n",
    "\n",
    "* This sorting will \"work\" if these chracteristics are good proxies for risks that the average investor cares about\n",
    "\n",
    "  - will lead to spread in returns\n",
    "  - will lead to a factor\n",
    "\n",
    "* But it doesn't work always, if you use the first letter of stock ticker to construct 26 portfolios you are unlikely to get spread in average returns and most likely each portfolio will resemble the market portfolio but with much more volatility.\n",
    "\n",
    "* And even if you do find something--> likely garbage, very hard to think about an economic model that would deliver that pattern!\n",
    "\n",
    "Lets look at the portfolios' characteristics, i.e. Size, Book-to-Market, momentum,... of the different portfolios\n",
    "\n",
    "* These are the characterisitcs that were used to create the portfolios. \n",
    "\n",
    "* Indeed, the key is that each portfolio has stocks of vastly different characterisitcs and keeps churning as firms change\n",
    "\n",
    "  * Let's take MSFT (microsoft) as an example:\n",
    "\n",
    "  * MSFT transitioned from being small in the 80's to be gigantic in the 90's, as a result, it moved up from the small portfolio to the big portfolio\n",
    "\n",
    "  * Duing the Tech boom when MSFT had a huge valuation relative to it's book value, it went to the low BM portfolio\n",
    "\n",
    "  * But then MSFT transtioned back to the high BM portfolio once it's market valuation collapsed in the aftermath of the techbubble\n",
    "\n",
    "* The key is that firms' characteristics change over time, by constructing  portfolios, we hope to estimate some stable relationship between risk and return\n",
    "\n",
    "* The fact that the market value is above or below the book value does not mean that the firm is mispriced. It is natural that the expectation of future earnings changed (which is not in book value), or investors' perception of risk changed.\n",
    "\n",
    "* Even in a CAPM world you can see that happening: suppose the beta of a firm increases, then in equilibrium it's excess return must also increase! \n",
    "\n",
    "  - This would mean if it's market value goes down, Book-to-Market would go up at the same time, making expected returns going forward go up!\n",
    "\n",
    "  - But in the data we see when BM changes (as firms swing across portfolios), the market beta does not, which is inconsitent with the CAPM\n",
    "\n",
    "* Expected return alone is not a puzzle (for the CAPM). All puzzles are joint puzzles of expected return and beta — either high expected returns not matched with high betas, or high/low betas not matched with expected returns.\n",
    "\n",
    "* The lower residual risk provides you a sharper exploration of the model mistakes\n",
    "\n",
    "* There is always a way to make small-looking errors big (and profitable.)"
   ]
  },
  {
   "cell_type": "markdown",
   "id": "sharing-special",
   "metadata": {
    "colab_type": "text",
    "id": "DBdj1i9pdieN"
   },
   "source": [
    "## Why test with portfolios rather than just look at stocks?\n",
    "\n",
    "1. Individual stocks have $\\sigma$ = 40 − 80%, so $\\sigma/\\sqrt{T}$ makes it \n",
    "nearly impossible to accurately measure E(R). Portfolios have lower $\\sigma$ by diversification.\n",
    "\n",
    "2. Betas are badly measured too, and vary over time. \n",
    "        \n",
    "   - Example: every firm starts small and risky, but eventually some of them become big and safe\n",
    "        \n",
    "3. You need an interesting alternative. Group stocks together that might have a violation,\n",
    "this gives much more power.\n",
    "\n",
    "4. This is what people do to (try to) make money. They don’t randomly buy stocks.\n",
    "They buy stocks with certain characteristics that they think will outperform. Thus,\n",
    "keep tests and practice close.\n",
    "\n",
    "5. The CAPM seemed fine (and still does) until stocks were grouped by B/M. The\n",
    "CAPM still works fine for some groupings (size), not others (value) .\n",
    "\n",
    "But of course you need to know how to form portfolios based on which characteristcs to use.\n",
    "\n",
    "And here the sky is the limit, as long you are careful about false discovery!\n",
    "\n",
    "Examples:\n",
    "\n",
    "- Stocks talked about in the media\n",
    "- Stocks of CEOs tweeted by the President\n",
    "- Stocks with recent deal annoucements\n",
    "- Stocks with a lot of google search traffic (google trends)\n",
    "- Stocks with a lot of Tweeter activity\n",
    "- Stocks that are investing a lot\n",
    "- Stocks that are very profitable\n",
    "- Stocks that doing a lot of R&D\n",
    "- Stocks invested by famous hedge fund managers\n",
    "- Stocks invested by less famous managers\n",
    "- Stokcs invested by Warren Buffet\n"
   ]
  },
  {
   "cell_type": "markdown",
   "id": "lined-tattoo",
   "metadata": {
    "colab_type": "text",
    "id": "kj9hmnGVdieM"
   },
   "source": [
    "## Economic vs statistical rejection\n",
    "\n",
    "We see that the FF3 reduces pricing erros by a lot.\n",
    "\n",
    "- Variation in the betas of the 3 factor model can explain much more of the variation in average returns across assets\n",
    "\n",
    "Asset pricing tests are always about Sharpe ratios\n",
    "\n",
    "- The FF3 model explains much more of the variation in average returns-- that is true-- but at the same time explains also a lot of the variation in realized returns\n",
    "\n",
    "- This means that the unexplained risk is much smaller-- making Appraisal ratios not that different from the CAPM.\n",
    "\n",
    "For a practioner: it is very different to have SR of 1 with an alpha of 5%, vs SR of 1 with alpha of 0.5%\n",
    "\n",
    "- Why?\n",
    "\n",
    "- Because you will have to use much more leverage to exploit mispricing from the FF3 model!\n",
    "\n",
    "- The t-stats test treats these two things as equal, but they are only the same if you don't face any costs of leveraging up\n"
   ]
  }
 ],
 "metadata": {
  "kernelspec": {
   "display_name": "Python 3",
   "language": "python",
   "name": "python3"
  },
  "language_info": {
   "codemirror_mode": {
    "name": "ipython",
    "version": 3
   },
   "file_extension": ".py",
   "mimetype": "text/x-python",
   "name": "python",
   "nbconvert_exporter": "python",
   "pygments_lexer": "ipython3",
   "version": "3.8.5"
  }
 },
 "nbformat": 4,
 "nbformat_minor": 5
}
