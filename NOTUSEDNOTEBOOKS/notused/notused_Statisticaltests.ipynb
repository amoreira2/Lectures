{
 "cells": [
  {
   "cell_type": "markdown",
   "metadata": {
    "colab_type": "text",
    "id": "v7evuBpxySRq"
   },
   "source": [
    "\n",
    "<img src='https://www.dropbox.com/s/125k1wnxkl6bgs0/class_logo.jpg?dl=1' alt=\"Smiley face\" align=\"center\" style=\"width: 600px;\"/>\n",
    "\n",
    "\n",
    "\n",
    "# Notebook 3\n",
    "\n",
    "\n"
   ]
  },
  {
   "cell_type": "markdown",
   "metadata": {
    "colab_type": "text",
    "id": "ijxKfmwYySRs"
   },
   "source": [
    "### Topics covered\n",
    "* * *\n",
    " * Return distributions and moments of a return distribution\n",
    " * Annualization of returns\n",
    " * Log returns\n",
    " * Excess returns and risk premiums\n",
    " * Variances and Covariances\n"
   ]
  },
  {
   "cell_type": "code",
   "execution_count": 1,
   "metadata": {
    "colab": {
     "base_uri": "https://localhost:8080/",
     "height": 204
    },
    "colab_type": "code",
    "executionInfo": {
     "elapsed": 1104,
     "status": "ok",
     "timestamp": 1576432667798,
     "user": {
      "displayName": "yuchi yao",
      "photoUrl": "",
      "userId": "00457884373990713813"
     },
     "user_tz": 300
    },
    "id": "KOA14rTiySRt",
    "outputId": "91cd8520-5466-4619-bb3a-47cac65d0cdb"
   },
   "outputs": [
    {
     "name": "stdout",
     "output_type": "stream",
     "text": [
      "<class 'pandas.core.frame.DataFrame'>\n",
      "DatetimeIndex: 647 entries, 1963-02-28 to 2016-12-31\n",
      "Data columns (total 6 columns):\n",
      " #   Column            Non-Null Count  Dtype  \n",
      "---  ------            --------------  -----  \n",
      " 0   RF                647 non-null    float64\n",
      " 1   MKT               647 non-null    float64\n",
      " 2   USA30yearGovBond  647 non-null    float64\n",
      " 3   EmergingMarkets   647 non-null    float64\n",
      " 4   WorldxUSA         647 non-null    float64\n",
      " 5   WorldxUSAGovBond  646 non-null    float64\n",
      "dtypes: float64(6)\n",
      "memory usage: 35.4 KB\n"
     ]
    }
   ],
   "source": [
    "import pandas as pd\n",
    "import numpy as np\n",
    "import matplotlib.pyplot as plt\n",
    "%matplotlib inline\n",
    "#GlobalFinMonthly\n",
    "url=\"https://www.dropbox.com/s/3k35mt3t57ygff2/GlobalFinMonthly.csv?dl=1\"\n",
    "Data = pd.read_csv(url,na_values=-99)\n",
    "# tell python Date is date:\n",
    "Data['Date']=pd.to_datetime(Data['Date'])\n",
    "# set an an index\n",
    "Data=Data.set_index(['Date'])\n",
    "\n",
    "Data.info()"
   ]
  },
  {
   "cell_type": "markdown",
   "metadata": {
    "colab_type": "text",
    "id": "b5Gee3q-ySSO",
    "toc-hr-collapsed": true
   },
   "source": [
    "# Statistical Tests\n",
    "\n",
    "In this section we will learn how to use statistical package SCIPY and test if the return distribution is normal."
   ]
  },
  {
   "cell_type": "markdown",
   "metadata": {
    "colab_type": "text",
    "id": "jLWYsCIFT9TP"
   },
   "source": [
    "## Statistical Package\n",
    "\n",
    "We can also do the computation precisely  without using a simulation which is the way we will typically do.\n",
    "\n",
    "For that we will import the normal density function using the SCIPY library\n",
    "\n",
    "\n",
    "SCIPY\n",
    " - This is a stats package\n",
    " - It has a lot of stuff in it\n",
    " - I will talk about only the stuff we need \n",
    " - But feel free to have fun\n",
    "\n",
    "https://docs.scipy.org/doc/scipy/reference/\n",
    "\n",
    "https://docs.scipy.org/doc/scipy/reference/tutorial/stats.html"
   ]
  },
  {
   "cell_type": "code",
   "execution_count": 36,
   "metadata": {
    "colab": {
     "base_uri": "https://localhost:8080/",
     "height": 34
    },
    "colab_type": "code",
    "executionInfo": {
     "elapsed": 347,
     "status": "ok",
     "timestamp": 1576432702886,
     "user": {
      "displayName": "yuchi yao",
      "photoUrl": "",
      "userId": "00457884373990713813"
     },
     "user_tz": 300
    },
    "id": "QhekLo-uySSP",
    "outputId": "c950b281-324b-466a-cc97-a6489b32d29d"
   },
   "outputs": [
    {
     "data": {
      "text/plain": [
       "<scipy.stats._distn_infrastructure.rv_frozen at 0x27215080700>"
      ]
     },
     "execution_count": 36,
     "metadata": {},
     "output_type": "execute_result"
    }
   ],
   "source": [
    "# Here I am only importing the normal distribution\n",
    "\n",
    "from scipy.stats import norm\n",
    "\n",
    "# I will use the MKT sample moments to calibrate the distribution so we can compare apples to apples\n",
    "mu,sigma=Data.MKT.mean(),Data.MKT.std()\n",
    "# and I am creating this p object which is the standard normal distribution\n",
    "p=norm(Data.MKT.mean(),Data.MKT.std())\n",
    "p"
   ]
  },
  {
   "cell_type": "markdown",
   "metadata": {
    "colab_type": "text",
    "id": "B7n8xFL4ySSR"
   },
   "source": [
    "Here is what that looks like"
   ]
  },
  {
   "cell_type": "code",
   "execution_count": 47,
   "metadata": {
    "colab": {
     "base_uri": "https://localhost:8080/",
     "height": 282
    },
    "colab_type": "code",
    "executionInfo": {
     "elapsed": 486,
     "status": "ok",
     "timestamp": 1576432705687,
     "user": {
      "displayName": "yuchi yao",
      "photoUrl": "",
      "userId": "00457884373990713813"
     },
     "user_tz": 300
    },
    "id": "x1-t6CGvySSR",
    "outputId": "9e3df9df-e566-4d17-9e20-727c4c1510bb"
   },
   "outputs": [
    {
     "data": {
      "text/plain": [
       "[<matplotlib.lines.Line2D at 0x27216fd55e0>]"
      ]
     },
     "execution_count": 47,
     "metadata": {},
     "output_type": "execute_result"
    },
    {
     "data": {
      "image/png": "[encoded data removed]",
      "text/plain": [
       "<Figure size 432x288 with 1 Axes>"
      ]
     },
     "metadata": {
      "needs_background": "light"
     },
     "output_type": "display_data"
    }
   ],
   "source": [
    "# creating a grid to evaluate the density around the relevant range (-6 to +6 std relative to the mean)\n",
    "grid=np.linspace(mu-10*sigma,mu+10*sigma,1000)\n",
    "grid\n",
    "#Plot the normal density for this range \n",
    "plt.plot(grid, p.pdf(grid))"
   ]
  },
  {
   "cell_type": "code",
   "execution_count": 48,
   "metadata": {
    "collapsed": true,
    "jupyter": {
     "outputs_hidden": true
    }
   },
   "outputs": [
    {
     "data": {
      "text/plain": [
       "array([1.74864727e-19, 2.13580217e-19, 2.60762879e-19, 3.18241231e-19,\n",
       "       3.88233545e-19, 4.73429814e-19, 5.77090712e-19, 7.03167030e-19,\n",
       "       8.56443758e-19, 1.04271382e-18, 1.26898751e-18, 1.54374478e-18,\n",
       "       1.87723908e-18, 2.28186322e-18, 2.77258942e-18, 3.36749881e-18,\n",
       "       4.08841783e-18, 4.96168320e-18, 6.01906070e-18, 7.29884849e-18,\n",
       "       8.84720130e-18, 1.07197191e-17, 1.29833520e-17, 1.57186844e-17,\n",
       "       1.90226708e-17, 2.30119130e-17, 2.78265836e-17, 3.36351206e-17,\n",
       "       4.06398431e-17, 4.90836659e-17, 5.92581233e-17, 7.15129561e-17,\n",
       "       8.62675574e-17, 1.04024637e-16, 1.25386519e-16, 1.51074589e-16,\n",
       "       1.81952459e-16, 2.19053588e-16, 2.63614168e-16, 3.17112279e-16,\n",
       "       3.81314485e-16, 4.58331264e-16, 5.50682907e-16, 6.61377847e-16,\n",
       "       7.94005711e-16, 9.52847815e-16, 1.14300832e-15, 1.37056986e-15,\n",
       "       1.64277807e-15, 1.96826038e-15, 2.35728525e-15, 2.82206921e-15,\n",
       "       3.37714040e-15, 4.03976876e-15, 4.83047491e-15, 5.77363187e-15,\n",
       "       6.89817619e-15, 8.23844810e-15, 9.83518360e-15, 1.17366855e-14,\n",
       "       1.40002051e-14, 1.66935715e-14, 1.98971127e-14, 2.37059188e-14,\n",
       "       2.82325080e-14, 3.36099651e-14, 3.99956351e-14, 4.75754678e-14,\n",
       "       5.65691263e-14, 6.72359909e-14, 7.98822120e-14, 9.48689926e-14,\n",
       "       1.12622310e-13, 1.33644320e-13, 1.58526735e-13, 1.87966502e-13,\n",
       "       2.22784174e-13, 2.63945431e-13, 3.12586268e-13, 3.70042475e-13,\n",
       "       4.37884116e-13, 5.17955848e-13, 6.12424032e-13, 7.23831772e-13,\n",
       "       8.55163182e-13, 1.00991839e-12, 1.19220105e-12, 1.40682040e-12,\n",
       "       1.65941016e-12, 1.95656720e-12, 2.30601287e-12, 2.71678092e-12,\n",
       "       3.19943613e-12, 3.76632857e-12, 4.43188925e-12, 5.21297363e-12,\n",
       "       6.12926066e-12, 7.20371609e-12, 8.46313015e-12, 9.93874129e-12,\n",
       "       1.16669594e-11, 1.36902040e-11, 1.60578756e-11, 1.88274799e-11,\n",
       "       2.20659296e-11, 2.58510507e-11, 3.02733238e-11, 3.54378973e-11,\n",
       "       4.14669143e-11, 4.85021988e-11, 5.67083577e-11, 6.62763598e-11,\n",
       "       7.74276643e-11, 9.04189800e-11, 1.05547751e-10, 1.23158473e-10,\n",
       "       1.43649972e-10, 1.67483770e-10, 1.95193721e-10, 2.27397086e-10,\n",
       "       2.64807255e-10, 3.08248377e-10, 3.58672147e-10, 4.17177081e-10,\n",
       "       4.85030627e-10, 5.63694528e-10, 6.54853887e-10, 7.60450473e-10,\n",
       "       8.82720868e-10, 1.02424013e-09, 1.18797175e-09, 1.37732483e-09,\n",
       "       1.59621935e-09, 1.84916090e-09, 2.14132589e-09, 2.47865890e-09,\n",
       "       2.86798383e-09, 3.31713057e-09, 3.83507947e-09, 4.43212605e-09,\n",
       "       5.12006853e-09, 5.91242137e-09, 6.82465838e-09, 7.87448916e-09,\n",
       "       9.08217355e-09, 1.04708789e-08, 1.20670862e-08, 1.39010506e-08,\n",
       "       1.60073252e-08, 1.84253542e-08, 2.12001463e-08, 2.43830374e-08,\n",
       "       2.80325552e-08, 3.22153980e-08, 3.70075429e-08, 4.24954992e-08,\n",
       "       4.87777264e-08, 5.59662367e-08, 6.41884061e-08, 7.35890189e-08,\n",
       "       8.43325763e-08, 9.66059014e-08, 1.10621077e-07, 1.26618755e-07,\n",
       "       1.44871891e-07, 1.65689946e-07, 1.89423614e-07, 2.16470147e-07,\n",
       "       2.47279345e-07, 2.82360280e-07, 3.22288866e-07, 3.67716344e-07,\n",
       "       4.19378826e-07, 4.78107989e-07, 5.44843074e-07, 6.20644346e-07,\n",
       "       7.06708161e-07, 8.04383853e-07, 9.15192633e-07, 1.04084874e-06,\n",
       "       1.18328310e-06, 1.34466975e-06, 1.52745542e-06, 1.73439250e-06,\n",
       "       1.96857590e-06, 2.23348415e-06, 2.53302526e-06, 2.87158781e-06,\n",
       "       3.25409790e-06, 3.68608260e-06, 4.17374052e-06, 4.72402038e-06,\n",
       "       5.34470838e-06, 6.04452529e-06, 6.83323440e-06, 7.72176130e-06,\n",
       "       8.72232692e-06, 9.84859510e-06, 1.11158362e-05, 1.25411086e-05,\n",
       "       1.41434596e-05, 1.59441479e-05, 1.79668900e-05, 2.02381325e-05,\n",
       "       2.27873539e-05, 2.56473970e-05, 2.88548370e-05, 3.24503877e-05,\n",
       "       3.64793498e-05, 4.09921051e-05, 4.60446620e-05, 5.16992558e-05,\n",
       "       5.80250105e-05, 6.50986673e-05, 7.30053861e-05, 8.18396269e-05,\n",
       "       9.17061189e-05, 1.02720925e-04, 1.15012611e-04, 1.28723529e-04,\n",
       "       1.44011226e-04, 1.61049987e-04, 1.80032525e-04, 2.01171838e-04,\n",
       "       2.24703238e-04, 2.50886569e-04, 2.80008638e-04, 3.12385868e-04,\n",
       "       3.48367203e-04, 3.88337277e-04, 4.32719865e-04, 4.81981668e-04,\n",
       "       5.36636417e-04, 5.97249364e-04, 6.64442167e-04, 7.38898202e-04,\n",
       "       8.21368357e-04, 9.12677323e-04, 1.01373044e-03, 1.12552112e-03,\n",
       "       1.24913893e-03, 1.38577835e-03, 1.53674828e-03, 1.70348233e-03,\n",
       "       1.88755000e-03, 2.09066877e-03, 2.31471716e-03, 2.56174895e-03,\n",
       "       2.83400842e-03, 3.13394694e-03, 3.46424083e-03, 3.82781067e-03,\n",
       "       4.22784206e-03, 4.66780812e-03, 5.15149366e-03, 5.68302123e-03,\n",
       "       6.26687917e-03, 6.90795180e-03, 7.61155185e-03, 8.38345535e-03,\n",
       "       9.22993911e-03, 1.01578209e-02, 1.11745025e-02, 1.22880164e-02,\n",
       "       1.35070746e-02, 1.48411225e-02, 1.63003953e-02, 1.78959787e-02,\n",
       "       1.96398745e-02, 2.15450694e-02, 2.36256094e-02, 2.58966792e-02,\n",
       "       2.83746862e-02, 3.10773510e-02, 3.40238028e-02, 3.72346818e-02,\n",
       "       4.07322476e-02, 4.45404948e-02, 4.86852757e-02, 5.31944306e-02,\n",
       "       5.80979260e-02, 6.34280016e-02, 6.92193253e-02, 7.55091584e-02,\n",
       "       8.23375295e-02, 8.97474191e-02, 9.77849547e-02, 1.06499616e-01,\n",
       "       1.15944455e-01, 1.26176320e-01, 1.37256103e-01, 1.49248992e-01,\n",
       "       1.62224738e-01, 1.76257941e-01, 1.91428341e-01, 2.07821136e-01,\n",
       "       2.25527304e-01, 2.44643947e-01, 2.65274654e-01, 2.87529873e-01,\n",
       "       3.11527308e-01, 3.37392331e-01, 3.65258411e-01, 3.95267565e-01,\n",
       "       4.27570826e-01, 4.62328735e-01, 4.99711843e-01, 5.39901249e-01,\n",
       "       5.83089144e-01, 6.29479388e-01, 6.79288100e-01, 7.32744274e-01,\n",
       "       7.90090417e-01, 8.51583209e-01, 9.17494183e-01, 9.88110429e-01,\n",
       "       1.06373532e+00, 1.14468927e+00, 1.23131049e+00, 1.32395578e+00,\n",
       "       1.42300136e+00, 1.52884369e+00, 1.64190032e+00, 1.76261080e+00,\n",
       "       1.89143751e+00, 2.02886666e+00, 2.17540912e+00, 2.33160147e+00,\n",
       "       2.49800687e+00, 2.67521612e+00, 2.86384857e+00, 3.06455318e+00,\n",
       "       3.27800950e+00, 3.50492870e+00, 3.74605460e+00, 4.00216465e+00,\n",
       "       4.27407102e+00, 4.56262159e+00, 4.86870099e+00, 5.19323158e+00,\n",
       "       5.53717448e+00, 5.90153060e+00, 6.28734153e+00, 6.69569056e+00,\n",
       "       7.12770360e+00, 7.58455007e+00, 8.06744380e+00, 8.57764381e+00,\n",
       "       9.11645520e+00, 9.68522982e+00, 1.02853670e+01, 1.09183142e+01,\n",
       "       1.15855677e+01, 1.22886730e+01, 1.30292251e+01, 1.38088693e+01,\n",
       "       1.46293014e+01, 1.54922676e+01, 1.63995649e+01, 1.73530412e+01,\n",
       "       1.83545948e+01, 1.94061749e+01, 2.05097806e+01, 2.16674610e+01,\n",
       "       2.28813142e+01, 2.41534872e+01, 2.54861745e+01, 2.68816174e+01,\n",
       "       2.83421032e+01, 2.98699633e+01, 3.14675721e+01, 3.31373457e+01,\n",
       "       3.48817395e+01, 3.67032468e+01, 3.86043966e+01, 4.05877510e+01,\n",
       "       4.26559030e+01, 4.48114738e+01, 4.70571098e+01, 4.93954794e+01,\n",
       "       5.18292704e+01, 5.43611855e+01, 5.69939396e+01, 5.97302552e+01,\n",
       "       6.25728589e+01, 6.55244764e+01, 6.85878287e+01, 7.17656271e+01,\n",
       "       7.50605683e+01, 7.84753293e+01, 8.20125620e+01, 8.56748881e+01,\n",
       "       8.94648930e+01, 9.33851202e+01, 9.74380652e+01, 1.01626169e+02,\n",
       "       1.05951813e+02, 1.10417311e+02, 1.15024902e+02, 1.19776747e+02,\n",
       "       1.24674917e+02, 1.29721391e+02, 1.34918045e+02, 1.40266648e+02,\n",
       "       1.45768851e+02, 1.51426184e+02, 1.57240044e+02, 1.63211694e+02,\n",
       "       1.69342248e+02, 1.75632670e+02, 1.82083764e+02, 1.88696165e+02,\n",
       "       1.95470336e+02, 2.02406558e+02, 2.09504924e+02, 2.16765331e+02,\n",
       "       2.24187475e+02, 2.31770845e+02, 2.39514712e+02, 2.47418130e+02,\n",
       "       2.55479926e+02, 2.63698692e+02, 2.72072786e+02, 2.80600323e+02,\n",
       "       2.89279170e+02, 2.98106946e+02, 3.07081010e+02, 3.16198467e+02,\n",
       "       3.25456159e+02, 3.34850662e+02, 3.44378290e+02, 3.54035084e+02,\n",
       "       3.63816819e+02, 3.73719000e+02, 3.83736860e+02, 3.93865364e+02,\n",
       "       4.04099208e+02, 4.14432820e+02, 4.24860365e+02, 4.35375743e+02,\n",
       "       4.45972597e+02, 4.56644313e+02, 4.67384027e+02, 4.78184632e+02,\n",
       "       4.89038776e+02, 4.99938879e+02, 5.10877132e+02, 5.21845506e+02,\n",
       "       5.32835764e+02, 5.43839465e+02, 5.54847978e+02, 5.65852487e+02,\n",
       "       5.76844007e+02, 5.87813391e+02, 5.98751342e+02, 6.09648429e+02,\n",
       "       6.20495094e+02, 6.31281670e+02, 6.41998392e+02, 6.52635414e+02,\n",
       "       6.63182819e+02, 6.73630637e+02, 6.83968859e+02, 6.94187456e+02,\n",
       "       7.04276389e+02, 7.14225629e+02, 7.24025172e+02, 7.33665058e+02,\n",
       "       7.43135382e+02, 7.52426318e+02, 7.61528130e+02, 7.70431191e+02,\n",
       "       7.79126001e+02, 7.87603202e+02, 7.95853595e+02, 8.03868158e+02,\n",
       "       8.11638061e+02, 8.19154680e+02, 8.26409618e+02, 8.33394719e+02,\n",
       "       8.40102078e+02, 8.46524064e+02, 8.52653328e+02, 8.58482822e+02,\n",
       "       8.64005807e+02, 8.69215871e+02, 8.74106940e+02, 8.78673286e+02,\n",
       "       8.82909545e+02, 8.86810722e+02, 8.90372202e+02, 8.93589762e+02,\n",
       "       8.96459575e+02, 8.98978222e+02, 9.01142692e+02, 9.02950398e+02,\n",
       "       9.04399174e+02, 9.05487281e+02, 9.06213413e+02, 9.06576697e+02,\n",
       "       9.06576697e+02, 9.06213413e+02, 9.05487281e+02, 9.04399174e+02,\n",
       "       9.02950398e+02, 9.01142692e+02, 8.98978222e+02, 8.96459575e+02,\n",
       "       8.93589762e+02, 8.90372202e+02, 8.86810722e+02, 8.82909545e+02,\n",
       "       8.78673286e+02, 8.74106940e+02, 8.69215871e+02, 8.64005807e+02,\n",
       "       8.58482822e+02, 8.52653328e+02, 8.46524064e+02, 8.40102078e+02,\n",
       "       8.33394719e+02, 8.26409618e+02, 8.19154680e+02, 8.11638061e+02,\n",
       "       8.03868158e+02, 7.95853595e+02, 7.87603202e+02, 7.79126001e+02,\n",
       "       7.70431191e+02, 7.61528130e+02, 7.52426318e+02, 7.43135382e+02,\n",
       "       7.33665058e+02, 7.24025172e+02, 7.14225629e+02, 7.04276389e+02,\n",
       "       6.94187456e+02, 6.83968859e+02, 6.73630637e+02, 6.63182819e+02,\n",
       "       6.52635414e+02, 6.41998392e+02, 6.31281670e+02, 6.20495094e+02,\n",
       "       6.09648429e+02, 5.98751342e+02, 5.87813391e+02, 5.76844007e+02,\n",
       "       5.65852487e+02, 5.54847978e+02, 5.43839465e+02, 5.32835764e+02,\n",
       "       5.21845506e+02, 5.10877132e+02, 4.99938879e+02, 4.89038776e+02,\n",
       "       4.78184632e+02, 4.67384027e+02, 4.56644313e+02, 4.45972597e+02,\n",
       "       4.35375743e+02, 4.24860365e+02, 4.14432820e+02, 4.04099208e+02,\n",
       "       3.93865364e+02, 3.83736860e+02, 3.73719000e+02, 3.63816819e+02,\n",
       "       3.54035084e+02, 3.44378290e+02, 3.34850662e+02, 3.25456159e+02,\n",
       "       3.16198467e+02, 3.07081010e+02, 2.98106946e+02, 2.89279170e+02,\n",
       "       2.80600323e+02, 2.72072786e+02, 2.63698692e+02, 2.55479926e+02,\n",
       "       2.47418130e+02, 2.39514712e+02, 2.31770845e+02, 2.24187475e+02,\n",
       "       2.16765331e+02, 2.09504924e+02, 2.02406558e+02, 1.95470336e+02,\n",
       "       1.88696165e+02, 1.82083764e+02, 1.75632670e+02, 1.69342248e+02,\n",
       "       1.63211694e+02, 1.57240044e+02, 1.51426184e+02, 1.45768851e+02,\n",
       "       1.40266648e+02, 1.34918045e+02, 1.29721391e+02, 1.24674917e+02,\n",
       "       1.19776747e+02, 1.15024902e+02, 1.10417311e+02, 1.05951813e+02,\n",
       "       1.01626169e+02, 9.74380652e+01, 9.33851202e+01, 8.94648930e+01,\n",
       "       8.56748881e+01, 8.20125620e+01, 7.84753293e+01, 7.50605683e+01,\n",
       "       7.17656271e+01, 6.85878287e+01, 6.55244764e+01, 6.25728589e+01,\n",
       "       5.97302552e+01, 5.69939396e+01, 5.43611855e+01, 5.18292704e+01,\n",
       "       4.93954794e+01, 4.70571098e+01, 4.48114738e+01, 4.26559030e+01,\n",
       "       4.05877510e+01, 3.86043966e+01, 3.67032468e+01, 3.48817395e+01,\n",
       "       3.31373457e+01, 3.14675721e+01, 2.98699633e+01, 2.83421032e+01,\n",
       "       2.68816174e+01, 2.54861745e+01, 2.41534872e+01, 2.28813142e+01,\n",
       "       2.16674610e+01, 2.05097806e+01, 1.94061749e+01, 1.83545948e+01,\n",
       "       1.73530412e+01, 1.63995649e+01, 1.54922676e+01, 1.46293014e+01,\n",
       "       1.38088693e+01, 1.30292251e+01, 1.22886730e+01, 1.15855677e+01,\n",
       "       1.09183142e+01, 1.02853670e+01, 9.68522982e+00, 9.11645520e+00,\n",
       "       8.57764381e+00, 8.06744380e+00, 7.58455007e+00, 7.12770360e+00,\n",
       "       6.69569056e+00, 6.28734153e+00, 5.90153060e+00, 5.53717448e+00,\n",
       "       5.19323158e+00, 4.86870099e+00, 4.56262159e+00, 4.27407102e+00,\n",
       "       4.00216465e+00, 3.74605460e+00, 3.50492870e+00, 3.27800950e+00,\n",
       "       3.06455318e+00, 2.86384857e+00, 2.67521612e+00, 2.49800687e+00,\n",
       "       2.33160147e+00, 2.17540912e+00, 2.02886666e+00, 1.89143751e+00,\n",
       "       1.76261080e+00, 1.64190032e+00, 1.52884369e+00, 1.42300136e+00,\n",
       "       1.32395578e+00, 1.23131049e+00, 1.14468927e+00, 1.06373532e+00,\n",
       "       9.88110429e-01, 9.17494183e-01, 8.51583209e-01, 7.90090417e-01,\n",
       "       7.32744274e-01, 6.79288100e-01, 6.29479388e-01, 5.83089144e-01,\n",
       "       5.39901249e-01, 4.99711843e-01, 4.62328735e-01, 4.27570826e-01,\n",
       "       3.95267565e-01, 3.65258411e-01, 3.37392331e-01, 3.11527308e-01,\n",
       "       2.87529873e-01, 2.65274654e-01, 2.44643947e-01, 2.25527304e-01,\n",
       "       2.07821136e-01, 1.91428341e-01, 1.76257941e-01, 1.62224738e-01,\n",
       "       1.49248992e-01, 1.37256103e-01, 1.26176320e-01, 1.15944455e-01,\n",
       "       1.06499616e-01, 9.77849547e-02, 8.97474191e-02, 8.23375295e-02,\n",
       "       7.55091584e-02, 6.92193253e-02, 6.34280016e-02, 5.80979260e-02,\n",
       "       5.31944306e-02, 4.86852757e-02, 4.45404948e-02, 4.07322476e-02,\n",
       "       3.72346818e-02, 3.40238028e-02, 3.10773510e-02, 2.83746862e-02,\n",
       "       2.58966792e-02, 2.36256094e-02, 2.15450694e-02, 1.96398745e-02,\n",
       "       1.78959787e-02, 1.63003953e-02, 1.48411225e-02, 1.35070746e-02,\n",
       "       1.22880164e-02, 1.11745025e-02, 1.01578209e-02, 9.22993911e-03,\n",
       "       8.38345535e-03, 7.61155185e-03, 6.90795180e-03, 6.26687917e-03,\n",
       "       5.68302123e-03, 5.15149366e-03, 4.66780812e-03, 4.22784206e-03,\n",
       "       3.82781067e-03, 3.46424083e-03, 3.13394694e-03, 2.83400842e-03,\n",
       "       2.56174895e-03, 2.31471716e-03, 2.09066877e-03, 1.88755000e-03,\n",
       "       1.70348233e-03, 1.53674828e-03, 1.38577835e-03, 1.24913893e-03,\n",
       "       1.12552112e-03, 1.01373044e-03, 9.12677323e-04, 8.21368357e-04,\n",
       "       7.38898202e-04, 6.64442167e-04, 5.97249364e-04, 5.36636417e-04,\n",
       "       4.81981668e-04, 4.32719865e-04, 3.88337277e-04, 3.48367203e-04,\n",
       "       3.12385868e-04, 2.80008638e-04, 2.50886569e-04, 2.24703238e-04,\n",
       "       2.01171838e-04, 1.80032525e-04, 1.61049987e-04, 1.44011226e-04,\n",
       "       1.28723529e-04, 1.15012611e-04, 1.02720925e-04, 9.17061189e-05,\n",
       "       8.18396269e-05, 7.30053861e-05, 6.50986673e-05, 5.80250105e-05,\n",
       "       5.16992558e-05, 4.60446620e-05, 4.09921051e-05, 3.64793498e-05,\n",
       "       3.24503877e-05, 2.88548370e-05, 2.56473970e-05, 2.27873539e-05,\n",
       "       2.02381325e-05, 1.79668900e-05, 1.59441479e-05, 1.41434596e-05,\n",
       "       1.25411086e-05, 1.11158362e-05, 9.84859510e-06, 8.72232692e-06,\n",
       "       7.72176130e-06, 6.83323440e-06, 6.04452529e-06, 5.34470838e-06,\n",
       "       4.72402038e-06, 4.17374052e-06, 3.68608260e-06, 3.25409790e-06,\n",
       "       2.87158781e-06, 2.53302526e-06, 2.23348415e-06, 1.96857590e-06,\n",
       "       1.73439250e-06, 1.52745542e-06, 1.34466975e-06, 1.18328310e-06,\n",
       "       1.04084874e-06, 9.15192633e-07, 8.04383853e-07, 7.06708161e-07,\n",
       "       6.20644346e-07, 5.44843074e-07, 4.78107989e-07, 4.19378826e-07,\n",
       "       3.67716344e-07, 3.22288866e-07, 2.82360280e-07, 2.47279345e-07,\n",
       "       2.16470147e-07, 1.89423614e-07, 1.65689946e-07, 1.44871891e-07,\n",
       "       1.26618755e-07, 1.10621077e-07, 9.66059014e-08, 8.43325763e-08,\n",
       "       7.35890189e-08, 6.41884061e-08, 5.59662367e-08, 4.87777264e-08,\n",
       "       4.24954992e-08, 3.70075429e-08, 3.22153980e-08, 2.80325552e-08,\n",
       "       2.43830374e-08, 2.12001463e-08, 1.84253542e-08, 1.60073252e-08,\n",
       "       1.39010506e-08, 1.20670862e-08, 1.04708789e-08, 9.08217355e-09,\n",
       "       7.87448916e-09, 6.82465838e-09, 5.91242137e-09, 5.12006853e-09,\n",
       "       4.43212605e-09, 3.83507947e-09, 3.31713057e-09, 2.86798383e-09,\n",
       "       2.47865890e-09, 2.14132589e-09, 1.84916090e-09, 1.59621935e-09,\n",
       "       1.37732483e-09, 1.18797175e-09, 1.02424013e-09, 8.82720868e-10,\n",
       "       7.60450473e-10, 6.54853887e-10, 5.63694528e-10, 4.85030627e-10,\n",
       "       4.17177081e-10, 3.58672147e-10, 3.08248377e-10, 2.64807255e-10,\n",
       "       2.27397086e-10, 1.95193721e-10, 1.67483770e-10, 1.43649972e-10,\n",
       "       1.23158473e-10, 1.05547751e-10, 9.04189800e-11, 7.74276643e-11,\n",
       "       6.62763598e-11, 5.67083577e-11, 4.85021988e-11, 4.14669143e-11,\n",
       "       3.54378973e-11, 3.02733238e-11, 2.58510507e-11, 2.20659296e-11,\n",
       "       1.88274799e-11, 1.60578756e-11, 1.36902040e-11, 1.16669594e-11,\n",
       "       9.93874129e-12, 8.46313015e-12, 7.20371609e-12, 6.12926066e-12,\n",
       "       5.21297363e-12, 4.43188925e-12, 3.76632857e-12, 3.19943613e-12,\n",
       "       2.71678092e-12, 2.30601287e-12, 1.95656720e-12, 1.65941016e-12,\n",
       "       1.40682040e-12, 1.19220105e-12, 1.00991839e-12, 8.55163182e-13,\n",
       "       7.23831772e-13, 6.12424032e-13, 5.17955848e-13, 4.37884116e-13,\n",
       "       3.70042475e-13, 3.12586268e-13, 2.63945431e-13, 2.22784174e-13,\n",
       "       1.87966502e-13, 1.58526735e-13, 1.33644320e-13, 1.12622310e-13,\n",
       "       9.48689926e-14, 7.98822120e-14, 6.72359909e-14, 5.65691263e-14,\n",
       "       4.75754678e-14, 3.99956351e-14, 3.36099651e-14, 2.82325080e-14,\n",
       "       2.37059188e-14, 1.98971127e-14, 1.66935715e-14, 1.40002051e-14,\n",
       "       1.17366855e-14, 9.83518360e-15, 8.23844810e-15, 6.89817619e-15,\n",
       "       5.77363187e-15, 4.83047491e-15, 4.03976876e-15, 3.37714040e-15,\n",
       "       2.82206921e-15, 2.35728525e-15, 1.96826038e-15, 1.64277807e-15,\n",
       "       1.37056986e-15, 1.14300832e-15, 9.52847815e-16, 7.94005711e-16,\n",
       "       6.61377847e-16, 5.50682907e-16, 4.58331264e-16, 3.81314485e-16,\n",
       "       3.17112279e-16, 2.63614168e-16, 2.19053588e-16, 1.81952459e-16,\n",
       "       1.51074589e-16, 1.25386519e-16, 1.04024637e-16, 8.62675574e-17,\n",
       "       7.15129561e-17, 5.92581233e-17, 4.90836659e-17, 4.06398431e-17,\n",
       "       3.36351206e-17, 2.78265836e-17, 2.30119130e-17, 1.90226708e-17,\n",
       "       1.57186844e-17, 1.29833520e-17, 1.07197191e-17, 8.84720130e-18,\n",
       "       7.29884849e-18, 6.01906070e-18, 4.96168320e-18, 4.08841783e-18,\n",
       "       3.36749881e-18, 2.77258942e-18, 2.28186322e-18, 1.87723908e-18,\n",
       "       1.54374478e-18, 1.26898751e-18, 1.04271382e-18, 8.56443758e-19,\n",
       "       7.03167030e-19, 5.77090712e-19, 4.73429814e-19, 3.88233545e-19,\n",
       "       3.18241231e-19, 2.60762879e-19, 2.13580217e-19, 1.74864727e-19])"
      ]
     },
     "execution_count": 48,
     "metadata": {},
     "output_type": "execute_result"
    }
   ],
   "source": [
    "p.pdf(grid)*100"
   ]
  },
  {
   "cell_type": "code",
   "execution_count": 40,
   "metadata": {
    "colab": {
     "base_uri": "https://localhost:8080/",
     "height": 282
    },
    "colab_type": "code",
    "executionInfo": {
     "elapsed": 450,
     "status": "ok",
     "timestamp": 1576432707732,
     "user": {
      "displayName": "yuchi yao",
      "photoUrl": "",
      "userId": "00457884373990713813"
     },
     "user_tz": 300
    },
    "id": "fyXQ5MCXQE-A",
    "outputId": "436980bc-9037-4abc-83b5-74c7db12061b"
   },
   "outputs": [
    {
     "data": {
      "text/plain": [
       "[<matplotlib.lines.Line2D at 0x27216e7a490>]"
      ]
     },
     "execution_count": 40,
     "metadata": {},
     "output_type": "execute_result"
    },
    {
     "data": {
      "image/png": "[encoded data removed]",
      "text/plain": [
       "<Figure size 432x288 with 1 Axes>"
      ]
     },
     "metadata": {
      "needs_background": "light"
     },
     "output_type": "display_data"
    }
   ],
   "source": []
  },
  {
   "cell_type": "code",
   "execution_count": 53,
   "metadata": {},
   "outputs": [
    {
     "data": {
      "text/plain": [
       "[<matplotlib.lines.Line2D at 0x2721706dd00>]"
      ]
     },
     "execution_count": 53,
     "metadata": {},
     "output_type": "execute_result"
    },
    {
     "data": {
      "image/png": "[encoded data removed]",
      "text/plain": [
       "<Figure size 432x288 with 1 Axes>"
      ]
     },
     "metadata": {
      "needs_background": "light"
     },
     "output_type": "display_data"
    }
   ],
   "source": [
    "p=norm(0,1)\n",
    "grid=np.linspace(-10,10,1000)\n",
    "plt.plot(grid, p.pdf(grid))"
   ]
  },
  {
   "cell_type": "code",
   "execution_count": 52,
   "metadata": {},
   "outputs": [
    {
     "data": {
      "text/plain": [
       "[<matplotlib.lines.Line2D at 0x27217005520>]"
      ]
     },
     "execution_count": 52,
     "metadata": {},
     "output_type": "execute_result"
    },
    {
     "data": {
      "image/png": "[encoded data removed]",
      "text/plain": [
       "<Figure size 432x288 with 1 Axes>"
      ]
     },
     "metadata": {
      "needs_background": "light"
     },
     "output_type": "display_data"
    }
   ],
   "source": [
    "p=norm(0,1)\n",
    "grid=np.linspace(-10,10,1000)\n",
    "plt.plot(grid, p.cdf(grid))"
   ]
  },
  {
   "cell_type": "code",
   "execution_count": 50,
   "metadata": {
    "colab": {
     "base_uri": "https://localhost:8080/",
     "height": 85
    },
    "colab_type": "code",
    "executionInfo": {
     "elapsed": 314,
     "status": "ok",
     "timestamp": 1576432710596,
     "user": {
      "displayName": "yuchi yao",
      "photoUrl": "",
      "userId": "00457884373990713813"
     },
     "user_tz": 300
    },
    "id": "lkES91gEySST",
    "outputId": "fd2c4406-70af-4f0b-884a-f2ec0cdcfadc"
   },
   "outputs": [
    {
     "name": "stdout",
     "output_type": "stream",
     "text": [
      "The probability of such extreme tail events\n",
      "[3.167124183311986e-05, 3.167124183311998e-05]\n",
      "The number of such extreme tail events we expect in a sample as large as ours\n",
      "[0.020491293466028553, 0.020491293466028626]\n"
     ]
    }
   ],
   "source": [
    "# However it is often more covenient to work with the standard normal distribution\n",
    "threshold=4\n",
    "ps=norm(0,1)\n",
    "probm=ps.cdf(-threshold)\n",
    "probp=1-ps.cdf(threshold)\n",
    "print('The probability of such extreme tail events')\n",
    "print([probm,probp])\n",
    "print('The number of such extreme tail events we expect in a sample as large as ours')\n",
    "print([probm*T,probp*T])"
   ]
  },
  {
   "cell_type": "markdown",
   "metadata": {
    "colab_type": "text",
    "id": "w5HUbX7VySSW"
   },
   "source": [
    "## Confidence Intervals and T-tests\n",
    "\n",
    "We will often use the opposite operation:\n",
    "\n",
    "* Given a probability , lets say P=1%, we want to know the value X for which there is less than P probability that some reference distribution produces a value higher than X.\n",
    "\n",
    "* Given that we observed X, P gives us the likelihood that X came from this reference distribution\n",
    "\n",
    "* This reference distribution is our NULL-Hypothesis\n",
    "\n",
    "* For example, lets say our null hypothesis is that the market returns are normally distributed with a certain mean and standard deviation. If you observe X, how low X would have to be for the probability that X was sampled from this reference distribution is less than, say, 1%\n",
    "\n",
    "* The function that answers this question is the inverse cdf which we call using .isf\n"
   ]
  },
  {
   "cell_type": "code",
   "execution_count": 60,
   "metadata": {},
   "outputs": [
    {
     "data": {
      "text/plain": [
       "<scipy.stats._distn_infrastructure.rv_frozen at 0x27216ea4130>"
      ]
     },
     "execution_count": 60,
     "metadata": {},
     "output_type": "execute_result"
    }
   ],
   "source": [
    "ps"
   ]
  },
  {
   "cell_type": "code",
   "execution_count": 61,
   "metadata": {
    "colab": {
     "base_uri": "https://localhost:8080/",
     "height": 34
    },
    "colab_type": "code",
    "executionInfo": {
     "elapsed": 450,
     "status": "ok",
     "timestamp": 1576432714080,
     "user": {
      "displayName": "yuchi yao",
      "photoUrl": "",
      "userId": "00457884373990713813"
     },
     "user_tz": 300
    },
    "id": "hwKy_dN4ySSX",
    "outputId": "09daecca-ec23-40d9-f0af-db09d7b1c69e"
   },
   "outputs": [
    {
     "data": {
      "text/plain": [
       "2.3263478740408408"
      ]
     },
     "execution_count": 61,
     "metadata": {},
     "output_type": "execute_result"
    }
   ],
   "source": [
    "# here for the standard normal\n",
    "\n",
    "# So, the observation would have to be below the mean by the follow number of standard deviations\n",
    "\n",
    "ps.isf(0.01)\n"
   ]
  },
  {
   "cell_type": "markdown",
   "metadata": {
    "colab_type": "text",
    "id": "gngvDLvKySSZ"
   },
   "source": [
    "* If we observe such an extreme observation we would say that we can reject the reference distribution with a confidence of 99% or a pvalue of 1%.\n",
    "\n",
    "* Of course, a formal test of whether a random variable is normally distributed for any mean and standard deviation is much more complicated and less powerful.\n",
    "\n",
    "* So it is not really used that much with financial data in practice.\n",
    "\n",
    "* But as practicioners it is important to be aware of large deviations of normality specially at higher frequecies, daily returns, minute-to-minute returns\n",
    "\n",
    "* We will revisit this once we work with daily data"
   ]
  }
 ],
 "metadata": {
  "colab": {
   "collapsed_sections": [],
   "name": "Notebook 3.ipynb",
   "provenance": [],
   "toc_visible": true
  },
  "kernelspec": {
   "display_name": "Python 3",
   "language": "python",
   "name": "python3"
  },
  "language_info": {
   "codemirror_mode": {
    "name": "ipython",
    "version": 3
   },
   "file_extension": ".py",
   "mimetype": "text/x-python",
   "name": "python",
   "nbconvert_exporter": "python",
   "pygments_lexer": "ipython3",
   "version": "3.8.5"
  },
  "toc-autonumbering": true
 },
 "nbformat": 4,
 "nbformat_minor": 4
}
