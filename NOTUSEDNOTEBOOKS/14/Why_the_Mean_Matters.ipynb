{
 "cells": [
  {
   "cell_type": "markdown",
   "metadata": {},
   "source": [
    "# Why the Mean Matters\n",
    "In this course we have studied several different statistics, including total variation distance, the maximum, the median, and also the mean. Under clear assumptions about randomness, we have drawn empirical distributions of all of these statistics. Some, like the maximum and the total variation distance, have distributions that are clearly skewed in one direction or the other. But the empirical distribution of the sample mean has almost always turned out close to bell-shaped, regardless of the population being studied.\n",
    "\n",
    "If a property of random samples is true *regardless of the population,* it becomes a powerful tool for inference because we rarely know much about the data in the entire population. The distribution of the mean of a large random sample falls into this category of properties. That is why random sample means are extensively used in data science.\n",
    "\n",
    "In this chapter, we will study means and what we can say about them with only minimal assumptions about the underlying populations. Question that we will address include:\n",
    "\n",
    "- What exactly does the mean measure?\n",
    "- How close to the mean are most of the data?\n",
    "- How is the sample size related to the variability of the sample mean?\n",
    "- Why do empirical distributions of random sample means come out bell shaped?\n",
    "- How can we use sample means effectively for inference?"
   ]
  }
 ],
 "metadata": {
  "kernelspec": {
   "display_name": "Python 3",
   "language": "python",
   "name": "python3"
  },
  "language_info": {
   "codemirror_mode": {
    "name": "ipython",
    "version": 3
   },
   "file_extension": ".py",
   "mimetype": "text/x-python",
   "name": "python",
   "nbconvert_exporter": "python",
   "pygments_lexer": "ipython3",
   "version": "3.7.8"
  }
 },
 "nbformat": 4,
 "nbformat_minor": 1
}
